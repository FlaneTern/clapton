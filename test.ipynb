{
 "cells": [
  {
   "cell_type": "code",
   "execution_count": 1,
   "metadata": {},
   "outputs": [],
   "source": [
    "from clapton.clapton import claptonize, loss_func\n",
    "from clapton.ansatzes import circular_ansatz\n",
    "from clapton.depolarization import GateGeneralDepolarizationModel"
   ]
  },
  {
   "cell_type": "code",
   "execution_count": 2,
   "metadata": {},
   "outputs": [],
   "source": [
    "paulis = [\"XX\", \"YY\", \"ZZ\"]\n",
    "coeffs = [1., 2., 3.]"
   ]
  },
  {
   "cell_type": "code",
   "execution_count": 3,
   "metadata": {},
   "outputs": [],
   "source": [
    "nm = GateGeneralDepolarizationModel(0.01, 0.1)"
   ]
  },
  {
   "cell_type": "code",
   "execution_count": 4,
   "metadata": {},
   "outputs": [],
   "source": [
    "vqe_pcirc = circular_ansatz(2, 2, fix_2q=True)\n",
    "vqe_pcirc.add_depolarization_model(nm)\n",
    "trans_pcirc = circular_ansatz(2, 2, fix_2q=False)"
   ]
  },
  {
   "cell_type": "code",
   "execution_count": 5,
   "metadata": {},
   "outputs": [
    {
     "data": {
      "text/html": [
       "<pre>q0: -I-DEPOLARIZE1(0.01)-I-----------------DEPOLARIZE1(0.01)-------------------X-DEPOLARIZE2(0.1)-@-DEPOLARIZE2(0.1)-I-DEPOLARIZE1(0.01)-I-----------------DEPOLARIZE1(0.01)-------------------X-DEPOLARIZE2(0.1)-@-DEPOLARIZE2(0.1)-I-DEPOLARIZE1(0.01)-I-----------------DEPOLARIZE1(0.01)-------------------\n",
       "                                                                               | |                | |                                                                                          | |                | |\n",
       "q1: ---I-----------------DEPOLARIZE1(0.01)-I-----------------DEPOLARIZE1(0.01)-@-DEPOLARIZE2(0.1)-X-DEPOLARIZE2(0.1)---I-----------------DEPOLARIZE1(0.01)-I-----------------DEPOLARIZE1(0.01)-@-DEPOLARIZE2(0.1)-X-DEPOLARIZE2(0.1)---I-----------------DEPOLARIZE1(0.01)-I-----------------DEPOLARIZE1(0.01)-</pre>"
      ],
      "text/plain": [
       "q0: -I-DEPOLARIZE1(0.01)-I-----------------DEPOLARIZE1(0.01)-------------------X-DEPOLARIZE2(0.1)-@-DEPOLARIZE2(0.1)-I-DEPOLARIZE1(0.01)-I-----------------DEPOLARIZE1(0.01)-------------------X-DEPOLARIZE2(0.1)-@-DEPOLARIZE2(0.1)-I-DEPOLARIZE1(0.01)-I-----------------DEPOLARIZE1(0.01)-------------------\n",
       "                                                                               | |                | |                                                                                          | |                | |\n",
       "q1: ---I-----------------DEPOLARIZE1(0.01)-I-----------------DEPOLARIZE1(0.01)-@-DEPOLARIZE2(0.1)-X-DEPOLARIZE2(0.1)---I-----------------DEPOLARIZE1(0.01)-I-----------------DEPOLARIZE1(0.01)-@-DEPOLARIZE2(0.1)-X-DEPOLARIZE2(0.1)---I-----------------DEPOLARIZE1(0.01)-I-----------------DEPOLARIZE1(0.01)-"
      ]
     },
     "execution_count": 5,
     "metadata": {},
     "output_type": "execute_result"
    }
   ],
   "source": [
    "vqe_pcirc.stim_circuit().diagram()"
   ]
  },
  {
   "cell_type": "code",
   "execution_count": 6,
   "metadata": {},
   "outputs": [
    {
     "name": "stdout",
     "output_type": "stream",
     "text": [
      "STARTING ROUND 0\n",
      "\n",
      "\n",
      "started GA at id 1 with 1 procs\n",
      "\n",
      "started GA at id 2 with 1 procs\n",
      "\n",
      "started GA at id 3 with 1 procs\n",
      "\n"
     ]
    },
    {
     "name": "stderr",
     "output_type": "stream",
     "text": [
      "/local/lmseifert/conda_envs/clapton/lib/python3.12/site-packages/pygad/pygad.py:1139: UserWarning: The 'delay_after_gen' parameter is deprecated starting from PyGAD 3.3.0. To delay or pause the evolution after each generation, assign a callback function/method to the 'on_generation' parameter to adds some time delay.\n",
      "  warnings.warn(\"The 'delay_after_gen' parameter is deprecated starting from PyGAD 3.3.0. To delay or pause the evolution after each generation, assign a callback function/method to the 'on_generation' parameter to adds some time delay.\")\n",
      "/local/lmseifert/conda_envs/clapton/lib/python3.12/site-packages/pygad/pygad.py:1139: UserWarning: The 'delay_after_gen' parameter is deprecated starting from PyGAD 3.3.0. To delay or pause the evolution after each generation, assign a callback function/method to the 'on_generation' parameter to adds some time delay.\n",
      "  warnings.warn(\"The 'delay_after_gen' parameter is deprecated starting from PyGAD 3.3.0. To delay or pause the evolution after each generation, assign a callback function/method to the 'on_generation' parameter to adds some time delay.\")\n"
     ]
    },
    {
     "name": "stdout",
     "output_type": "stream",
     "text": [
      "started GA at id None with 1 procs\n",
      "\n"
     ]
    },
    {
     "name": "stderr",
     "output_type": "stream",
     "text": [
      "/local/lmseifert/conda_envs/clapton/lib/python3.12/site-packages/pygad/pygad.py:1139: UserWarning: The 'delay_after_gen' parameter is deprecated starting from PyGAD 3.3.0. To delay or pause the evolution after each generation, assign a callback function/method to the 'on_generation' parameter to adds some time delay.\n",
      "  warnings.warn(\"The 'delay_after_gen' parameter is deprecated starting from PyGAD 3.3.0. To delay or pause the evolution after each generation, assign a callback function/method to the 'on_generation' parameter to adds some time delay.\")\n",
      "/local/lmseifert/conda_envs/clapton/lib/python3.12/site-packages/pygad/pygad.py:1139: UserWarning: The 'delay_after_gen' parameter is deprecated starting from PyGAD 3.3.0. To delay or pause the evolution after each generation, assign a callback function/method to the 'on_generation' parameter to adds some time delay.\n",
      "  warnings.warn(\"The 'delay_after_gen' parameter is deprecated starting from PyGAD 3.3.0. To delay or pause the evolution after each generation, assign a callback function/method to the 'on_generation' parameter to adds some time delay.\")\n"
     ]
    },
    {
     "name": "stdout",
     "output_type": "stream",
     "text": [
      "[0, array([-4.7372, -1.7372, -3.    ,  0.    ]), array([2, 3, 3, 3, 0, 0, 1, 1, 2, 3, 0, 0, 1, 3, 0, 3], dtype=object)]\n",
      "[0, array([-4.747, -1.747, -3.   ,  0.   ]), array([3, 1, 2, 0, 0, 0, 3, 1, 2, 2, 0, 0, 2, 2, 1, 2], dtype=object)]\n",
      "[0, array([-4.7478, -1.7478, -3.    ,  0.    ]), array([1, 2, 0, 3, 0, 0, 2, 2, 0, 1, 0, 0, 1, 2, 2, 0], dtype=object)]\n",
      "[0, array([-4.7658, -1.7658, -3.    ,  0.    ]), array([1, 2, 2, 3, 0, 0, 2, 3, 2, 2, 0, 0, 1, 3, 2, 0], dtype=object)]\n",
      "[1, array([-4.7758, -1.7758, -3.    ,  0.    ]), array([2, 3, 1, 1, 0, 0, 1, 0, 2, 3, 0, 0, 1, 1, 3, 2], dtype=object)]\n",
      "[1, array([-4.7886, -1.7886, -3.    ,  0.    ]), array([1, 3, 2, 2, 0, 0, 3, 1, 2, 1, 0, 0, 0, 2, 3, 0], dtype=object)][1, array([-4.7646, -1.7646, -3.    ,  0.    ]), array([0, 0, 1, 3, 0, 0, 3, 2, 0, 0, 0, 0, 1, 0, 3, 2], dtype=object)]\n",
      "\n",
      "[1, array([-4.766, -1.766, -3.   ,  0.   ]), array([3, 0, 0, 1, 0, 0, 3, 1, 2, 2, 0, 0, 0, 1, 0, 3], dtype=object)]\n",
      "[2, array([-9.4244, -3.4244, -6.    ,  0.    ]), array([3, 0, 1, 1, 0, 1, 0, 2, 1, 2, 0, 0, 1, 3, 3, 1], dtype=object)]\n",
      "[2, array([-9.4916, -3.4916, -6.    ,  0.    ]), array([2, 1, 0, 1, 0, 3, 3, 1, 3, 3, 2, 0, 1, 3, 2, 3], dtype=object)]\n",
      "[2, array([-9.4066, -3.4066, -6.    ,  0.    ]), array([1, 2, 2, 3, 0, 0, 1, 1, 2, 1, 0, 2, 0, 2, 3, 2], dtype=object)][2, array([-4.7622, -1.7622, -3.    ,  0.    ]), array([1, 0, 3, 2, 1, 2, 2, 3, 1, 0, 0, 0, 3, 3, 2, 1], dtype=object)]\n",
      "\n",
      "[3, array([-4.7894, -1.7894, -3.    ,  0.    ]), array([2, 3, 3, 3, 0, 0, 1, 1, 2, 1, 0, 0, 3, 3, 3, 2], dtype=object)]\n",
      "[3, array([-4.7808, -1.7808, -3.    ,  0.    ]), array([2, 0, 3, 1, 0, 0, 0, 0, 3, 1, 0, 0, 2, 2, 3, 0], dtype=object)]\n",
      "[3, array([-4.7668, -1.7668, -3.    ,  0.    ]), array([3, 1, 2, 2, 0, 0, 3, 1, 0, 3, 0, 0, 2, 0, 3, 0], dtype=object)][3, array([-4.738, -1.738, -3.   ,  0.   ]), array([1, 2, 0, 3, 0, 0, 0, 2, 2, 2, 0, 0, 1, 2, 2, 1], dtype=object)]\n",
      "\n",
      "[4, array([-4.7746, -1.7746, -3.    ,  0.    ]), array([3, 1, 0, 1, 1, 2, 1, 3, 0, 1, 3, 1, 2, 0, 2, 1], dtype=object)]\n",
      "\n",
      "[4, array([-4.7858, -1.7858, -3.    ,  0.    ]), array([0, 0, 3, 3, 0, 0, 2, 0, 2, 1, 2, 0, 2, 0, 1, 3], dtype=object)]\n",
      "[4, array([-9.433, -3.433, -6.   ,  0.   ]), array([3, 3, 2, 3, 2, 0, 3, 1, 2, 2, 0, 0, 2, 2, 1, 2], dtype=object)][4, array([-4.7766, -1.7766, -3.    ,  0.    ]), array([0, 0, 3, 1, 0, 0, 3, 2, 0, 1, 0, 1, 0, 0, 2, 3], dtype=object)]\n",
      "[5, array([-9.4556, -3.4556, -6.    ,  0.    ]), array([1, 1, 1, 1, 2, 3, 1, 2, 3, 1, 0, 0, 0, 1, 1, 1], dtype=object)][5, array([-9.4794, -3.4794, -6.    ,  0.    ]), array([1, 3, 1, 2, 0, 2, 0, 0, 3, 1, 1, 0, 3, 2, 1, 3], dtype=object)]\n",
      "\n",
      "[5, array([-9.448, -3.448, -6.   ,  0.   ]), array([0, 3, 0, 2, 0, 2, 3, 1, 2, 2, 0, 0, 0, 0, 3, 3], dtype=object)]\n",
      "[5, array([-9.4508, -3.4508, -6.    ,  0.    ]), array([0, 1, 2, 1, 2, 0, 1, 3, 3, 0, 2, 2, 1, 0, 1, 0], dtype=object)]\n",
      "[6, array([-9.4412, -3.4412, -6.    ,  0.    ]), array([0, 3, 0, 2, 0, 2, 3, 1, 2, 2, 0, 0, 0, 0, 3, 3], dtype=object)]\n",
      "\n",
      "[6, array([-9.4484, -3.4484, -6.    ,  0.    ]), array([1, 3, 1, 2, 0, 2, 0, 0, 3, 1, 1, 0, 3, 2, 1, 3], dtype=object)][6, array([-9.4298, -3.4298, -6.    ,  0.    ]), array([1, 1, 1, 1, 2, 3, 1, 2, 3, 1, 0, 0, 0, 1, 1, 1], dtype=object)]\n",
      "[6, array([-9.492, -3.492, -6.   ,  0.   ]), array([0, 1, 2, 1, 2, 0, 1, 3, 3, 0, 2, 2, 1, 0, 1, 0], dtype=object)]\n",
      "[7, array([-9.4532, -3.4532, -6.    ,  0.    ]), array([1, 2, 2, 3, 0, 0, 1, 1, 2, 1, 0, 2, 0, 2, 3, 2], dtype=object)]\n",
      "[7, array([-4.78, -1.78, -3.  ,  0.  ]), array([1, 0, 1, 3, 0, 0, 3, 0, 3, 1, 0, 0, 3, 2, 1, 3], dtype=object)]\n",
      "[7, array([-9.4234, -3.4234, -6.    ,  0.    ]), array([3, 0, 1, 2, 0, 1, 0, 2, 1, 2, 0, 0, 1, 3, 3, 1], dtype=object)]\n",
      "[7, array([-9.4436, -3.4436, -6.    ,  0.    ]), array([0, 1, 2, 1, 2, 0, 1, 3, 3, 0, 2, 2, 1, 0, 1, 0], dtype=object)]\n",
      "[8, array([-4.7572, -1.7572, -3.    ,  0.    ]), array([1, 3, 2, 2, 2, 3, 3, 1, 2, 2, 3, 0, 0, 2, 2, 2], dtype=object)]\n",
      "[8, array([-9.4202, -3.4202, -6.    ,  0.    ]), array([0, 0, 3, 3, 2, 0, 0, 3, 3, 1, 0, 2, 2, 0, 3, 0], dtype=object)]\n",
      "[8, array([-9.4514, -3.4514, -6.    ,  0.    ]), array([1, 1, 3, 1, 0, 1, 1, 2, 2, 3, 0, 0, 0, 2, 1, 3], dtype=object)]\n",
      "[8, array([-9.5114, -3.5114, -6.    ,  0.    ]), array([0, 2, 3, 0, 0, 0, 2, 3, 0, 0, 3, 1, 1, 3, 0, 2], dtype=object)]\n",
      "[9, array([-9.5104, -3.5104, -6.    ,  0.    ]), array([0, 3, 0, 2, 0, 2, 3, 1, 2, 2, 0, 0, 0, 0, 3, 3], dtype=object)]\n",
      "\n",
      "[9, array([-9.3866, -3.3866, -6.    ,  0.    ]), array([1, 3, 1, 0, 0, 2, 2, 2, 3, 3, 0, 0, 3, 0, 3, 3], dtype=object)][9, array([-4.782, -1.782, -3.   ,  0.   ]), array([1, 1, 2, 2, 0, 2, 1, 1, 1, 2, 0, 0, 0, 0, 0, 3], dtype=object)]\n",
      "[9, array([-9.4102, -3.4102, -6.    ,  0.    ]), array([0, 1, 2, 1, 2, 0, 1, 3, 3, 0, 2, 2, 1, 0, 1, 0], dtype=object)]\n",
      "[10, array([-9.4424, -3.4424, -6.    ,  0.    ]), array([1, 2, 2, 3, 0, 0, 1, 1, 2, 2, 1, 0, 0, 2, 3, 3], dtype=object)]\n",
      "\n",
      "[10, array([-9.4632, -3.4632, -6.    ,  0.    ]), array([2, 3, 2, 2, 0, 2, 0, 3, 3, 2, 0, 0, 2, 1, 1, 2], dtype=object)][10, array([-4.7586, -1.7586, -3.    ,  0.    ]), array([3, 3, 3, 2, 0, 3, 1, 2, 3, 2, 1, 0, 0, 0, 1, 3], dtype=object)]\n",
      "[10, array([-9.3854, -3.3854, -6.    ,  0.    ]), array([3, 0, 0, 3, 0, 0, 2, 2, 0, 1, 0, 1, 0, 0, 1, 3], dtype=object)]\n",
      "[11, array([-9.4718, -3.4718, -6.    ,  0.    ]), array([0, 3, 0, 2, 0, 2, 3, 1, 2, 2, 0, 0, 0, 0, 3, 3], dtype=object)]\n",
      "[11, array([-9.439, -3.439, -6.   ,  0.   ]), array([1, 3, 1, 0, 0, 2, 2, 2, 3, 3, 0, 0, 3, 0, 3, 3], dtype=object)]\n",
      "[11, array([-9.4672, -3.4672, -6.    ,  0.    ]), array([1, 0, 3, 3, 2, 0, 0, 2, 1, 2, 0, 0, 1, 3, 0, 2], dtype=object)]\n",
      "[12, array([-9.444, -3.444, -6.   ,  0.   ]), array([1, 2, 2, 3, 0, 2, 1, 1, 2, 2, 1, 0, 0, 2, 0, 0], dtype=object)]\n",
      "[11, array([-9.476, -3.476, -6.   ,  0.   ]), array([0, 3, 1, 3, 0, 0, 1, 3, 3, 0, 2, 2, 1, 0, 1, 0], dtype=object)]\n",
      "[12, array([-9.417, -3.417, -6.   ,  0.   ]), array([2, 3, 2, 2, 2, 2, 0, 1, 2, 3, 0, 2, 1, 0, 0, 3], dtype=object)]\n",
      "[12, array([-9.5412, -3.5412, -6.    ,  0.    ]), array([3, 1, 3, 1, 1, 2, 1, 0, 0, 3, 3, 1, 1, 3, 2, 3], dtype=object)]\n",
      "[12, array([-9.46, -3.46, -6.  ,  0.  ]), array([0, 3, 1, 3, 2, 0, 1, 3, 3, 0, 2, 2, 1, 0, 1, 0], dtype=object)]\n",
      "[13, array([-9.4764, -3.4764, -6.    ,  0.    ]), array([0, 3, 0, 2, 2, 2, 3, 1, 2, 2, 0, 0, 0, 0, 3, 3], dtype=object)]\n",
      "[13, array([-9.474, -3.474, -6.   ,  0.   ]), array([1, 1, 3, 2, 1, 0, 3, 2, 3, 2, 0, 0, 1, 0, 3, 3], dtype=object)]\n",
      "[13, array([-9.492, -3.492, -6.   ,  0.   ]), array([3, 1, 3, 1, 1, 2, 1, 0, 0, 3, 3, 1, 1, 3, 2, 3], dtype=object)]\n",
      "[14, array([-9.4476, -3.4476, -6.    ,  0.    ]), array([0, 3, 0, 2, 2, 2, 3, 1, 2, 2, 0, 0, 0, 0, 3, 3], dtype=object)]\n",
      "[13, array([-9.4664, -3.4664, -6.    ,  0.    ]), array([0, 1, 2, 1, 2, 0, 1, 3, 3, 0, 2, 2, 1, 0, 1, 0], dtype=object)]\n",
      "[14, array([-9.4552, -3.4552, -6.    ,  0.    ]), array([2, 1, 2, 1, 0, 2, 0, 3, 3, 2, 1, 0, 1, 2, 0, 2], dtype=object)]\n",
      "[14, array([-9.4714, -3.4714, -6.    ,  0.    ]), array([3, 1, 0, 3, 0, 0, 0, 1, 3, 1, 0, 2, 3, 1, 3, 2], dtype=object)]\n",
      "[14, array([-4.7122, -1.7122, -3.    ,  0.    ]), array([0, 3, 1, 3, 0, 0, 1, 3, 3, 0, 2, 2, 1, 0, 1, 1], dtype=object)]\n",
      "[15, array([-9.4818, -3.4818, -6.    ,  0.    ]), array([0, 3, 0, 2, 0, 2, 3, 1, 2, 2, 0, 0, 0, 0, 3, 3], dtype=object)]\n",
      "[15, array([-9.4764, -3.4764, -6.    ,  0.    ]), array([1, 1, 3, 2, 1, 0, 3, 2, 3, 2, 0, 0, 1, 0, 3, 3], dtype=object)]\n",
      "[16, array([-9.4402, -3.4402, -6.    ,  0.    ]), array([1, 2, 2, 3, 0, 0, 1, 1, 2, 1, 1, 0, 0, 2, 3, 2], dtype=object)]\n",
      "[15, array([-9.4896, -3.4896, -6.    ,  0.    ]), array([3, 1, 3, 1, 1, 2, 1, 0, 0, 3, 3, 1, 1, 3, 2, 3], dtype=object)]\n",
      "[15, array([-9.506, -3.506, -6.   ,  0.   ]), array([0, 1, 2, 1, 2, 0, 1, 3, 3, 0, 2, 2, 1, 0, 1, 0], dtype=object)]\n",
      "[16, array([-9.426, -3.426, -6.   ,  0.   ]), array([2, 3, 1, 2, 0, 2, 0, 3, 3, 2, 0, 0, 2, 1, 2, 3], dtype=object)]\n",
      "[16, array([-9.4608, -3.4608, -6.    ,  0.    ]), array([0, 2, 3, 1, 0, 0, 2, 3, 0, 0, 3, 1, 1, 3, 0, 2], dtype=object)]\n",
      "[16, array([-4.7608, -1.7608, -3.    ,  0.    ]), array([2, 3, 0, 3, 3, 1, 2, 2, 2, 3, 0, 0, 0, 0, 0, 3], dtype=object)]\n",
      "[17, array([-9.4772, -3.4772, -6.    ,  0.    ]), array([0, 3, 0, 2, 0, 2, 3, 1, 2, 2, 0, 0, 0, 0, 3, 3], dtype=object)]\n",
      "[18, array([-9.4468, -3.4468, -6.    ,  0.    ]), array([1, 2, 2, 3, 0, 2, 1, 1, 2, 2, 1, 0, 0, 2, 3, 3], dtype=object)]\n",
      "\n",
      "[17, array([-9.4678, -3.4678, -6.    ,  0.    ]), array([2, 3, 2, 2, 0, 2, 0, 3, 3, 2, 0, 0, 2, 1, 1, 2], dtype=object)][17, array([-9.5278, -3.5278, -6.    ,  0.    ]), array([0, 1, 2, 1, 2, 0, 1, 3, 3, 0, 2, 2, 1, 0, 1, 0], dtype=object)]\n",
      "[17, array([-9.4678, -3.4678, -6.    ,  0.    ]), array([3, 1, 3, 1, 1, 2, 1, 0, 0, 3, 3, 1, 1, 3, 2, 3], dtype=object)]\n",
      "[18, array([-9.4572, -3.4572, -6.    ,  0.    ]), array([1, 3, 2, 3, 0, 2, 2, 3, 1, 0, 2, 2, 1, 0, 0, 1], dtype=object)]\n",
      "[18, array([-9.4622, -3.4622, -6.    ,  0.    ]), array([1, 0, 3, 2, 1, 1, 1, 3, 3, 2, 0, 3, 2, 1, 0, 1], dtype=object)]\n",
      "[18, array([-9.4488, -3.4488, -6.    ,  0.    ]), array([0, 1, 1, 1, 2, 3, 2, 2, 2, 1, 1, 1, 2, 2, 0, 1], dtype=object)]\n",
      "[19, array([-9.485, -3.485, -6.   ,  0.   ]), array([1, 2, 2, 3, 0, 0, 1, 1, 2, 2, 1, 0, 0, 2, 3, 3], dtype=object)]\n",
      "[20, array([-9.4982, -3.4982, -6.    ,  0.    ]), array([0, 3, 2, 2, 2, 2, 2, 2, 1, 2, 2, 1, 0, 2, 3, 2], dtype=object)]\n",
      "[19, array([-9.4974, -3.4974, -6.    ,  0.    ]), array([0, 1, 2, 1, 2, 0, 1, 3, 3, 0, 2, 2, 1, 0, 1, 0], dtype=object)]\n",
      "[19, array([-9.4564, -3.4564, -6.    ,  0.    ]), array([2, 1, 2, 1, 0, 2, 0, 3, 3, 2, 1, 0, 1, 2, 0, 2], dtype=object)]\n",
      "\n",
      "[19, array([-9.4856, -3.4856, -6.    ,  0.    ]), array([3, 1, 3, 1, 1, 2, 1, 0, 0, 3, 3, 1, 1, 3, 2, 3], dtype=object)][20, array([-4.7492, -1.7492, -3.    ,  0.    ]), array([0, 2, 3, 0, 0, 0, 2, 3, 0, 0, 3, 1, 1, 3, 3, 2], dtype=object)]\n",
      "[20, array([-9.452, -3.452, -6.   ,  0.   ]), array([2, 1, 0, 1, 0, 3, 3, 1, 3, 3, 2, 0, 1, 3, 1, 2], dtype=object)]\n",
      "[20, array([-9.4642, -3.4642, -6.    ,  0.    ]), array([3, 1, 0, 3, 0, 0, 0, 0, 3, 1, 0, 2, 3, 1, 3, 2], dtype=object)]\n",
      "[21, array([-9.4986, -3.4986, -6.    ,  0.    ]), array([1, 2, 2, 3, 0, 0, 1, 1, 2, 2, 1, 0, 0, 2, 0, 0], dtype=object)]\n",
      "[21, array([-9.5192, -3.5192, -6.    ,  0.    ]), array([0, 1, 2, 1, 2, 0, 1, 3, 3, 0, 2, 2, 1, 0, 1, 0], dtype=object)]\n",
      "[22, array([-9.4598, -3.4598, -6.    ,  0.    ]), array([0, 3, 0, 2, 0, 2, 3, 1, 2, 2, 0, 0, 0, 0, 0, 0], dtype=object)]\n",
      "[21, array([-9.4758, -3.4758, -6.    ,  0.    ]), array([2, 3, 2, 2, 0, 2, 0, 3, 3, 2, 0, 0, 2, 1, 1, 2], dtype=object)]\n",
      "[21, array([-9.4958, -3.4958, -6.    ,  0.    ]), array([3, 1, 3, 1, 1, 2, 1, 0, 0, 3, 3, 1, 1, 3, 2, 3], dtype=object)]\n",
      "[22, array([-9.4188, -3.4188, -6.    ,  0.    ]), array([0, 1, 2, 1, 2, 0, 1, 1, 3, 0, 2, 2, 1, 0, 1, 0], dtype=object)]\n",
      "[23, array([-9.4992, -3.4992, -6.    ,  0.    ]), array([0, 3, 0, 2, 2, 2, 3, 1, 2, 2, 0, 0, 0, 0, 3, 3], dtype=object)]\n",
      "[22, array([-9.3958, -3.3958, -6.    ,  0.    ]), array([1, 1, 3, 1, 1, 2, 1, 0, 0, 3, 3, 1, 1, 3, 2, 1], dtype=object)]\n",
      "[22, array([-9.4536, -3.4536, -6.    ,  0.    ]), array([0, 1, 0, 2, 0, 2, 0, 3, 1, 0, 0, 0, 2, 1, 2, 3], dtype=object)]\n",
      "[23, array([-9.4868, -3.4868, -6.    ,  0.    ]), array([0, 1, 2, 1, 2, 0, 1, 3, 3, 0, 2, 2, 1, 0, 1, 0], dtype=object)]\n",
      "[24, array([-9.4622, -3.4622, -6.    ,  0.    ]), array([0, 3, 0, 3, 0, 1, 2, 1, 2, 2, 1, 0, 0, 0, 3, 2], dtype=object)]\n",
      "\n",
      "\n",
      "[23, array([-9.5312, -3.5312, -6.    ,  0.    ]), array([3, 1, 3, 1, 1, 2, 1, 0, 0, 3, 3, 1, 1, 3, 2, 3], dtype=object)][23, array([-9.4876, -3.4876, -6.    ,  0.    ]), array([2, 3, 2, 2, 0, 2, 0, 3, 3, 2, 0, 0, 2, 1, 2, 3], dtype=object)][24, array([-9.4864, -3.4864, -6.    ,  0.    ]), array([1, 1, 2, 1, 2, 0, 1, 0, 3, 0, 2, 2, 1, 0, 0, 0], dtype=object)]\n",
      "[24, array([-9.4282, -3.4282, -6.    ,  0.    ]), array([3, 3, 0, 1, 0, 3, 3, 3, 1, 3, 1, 1, 1, 3, 2, 0], dtype=object)]\n",
      "[25, array([-9.4912, -3.4912, -6.    ,  0.    ]), array([1, 2, 2, 3, 0, 0, 1, 1, 2, 2, 1, 0, 0, 2, 0, 0], dtype=object)]\n",
      "[24, array([-9.4546, -3.4546, -6.    ,  0.    ]), array([2, 1, 3, 3, 3, 3, 1, 2, 3, 1, 0, 2, 1, 3, 2, 3], dtype=object)]\n",
      "[25, array([-9.4872, -3.4872, -6.    ,  0.    ]), array([0, 1, 2, 1, 2, 0, 1, 3, 3, 0, 2, 2, 1, 0, 1, 0], dtype=object)]\n",
      "[26, array([-9.4202, -3.4202, -6.    ,  0.    ]), array([0, 3, 2, 3, 0, 2, 3, 1, 3, 2, 0, 0, 3, 0, 3, 0], dtype=object)]\n",
      "[25, array([-9.481, -3.481, -6.   ,  0.   ]), array([3, 1, 3, 1, 1, 2, 1, 0, 0, 3, 3, 1, 1, 3, 2, 3], dtype=object)]\n",
      "[26, array([-4.719, -1.719, -3.   ,  0.   ]), array([3, 1, 3, 0, 1, 2, 1, 2, 0, 3, 3, 1, 1, 2, 0, 0], dtype=object)]\n",
      "[25, array([-9.4846, -3.4846, -6.    ,  0.    ]), array([2, 1, 0, 1, 0, 3, 3, 1, 3, 3, 2, 0, 1, 3, 2, 3], dtype=object)]\n",
      "[26, array([-9.4658, -3.4658, -6.    ,  0.    ]), array([0, 1, 0, 1, 2, 0, 2, 3, 0, 3, 3, 1, 1, 3, 0, 2], dtype=object)]\n",
      "[27, array([-9.4936, -3.4936, -6.    ,  0.    ]), array([0, 3, 0, 2, 0, 2, 3, 1, 2, 2, 0, 0, 0, 0, 3, 3], dtype=object)]\n",
      "[26, array([-9.461, -3.461, -6.   ,  0.   ]), array([2, 3, 2, 2, 0, 2, 0, 3, 3, 2, 0, 0, 2, 1, 2, 3], dtype=object)][27, array([-9.5248, -3.5248, -6.    ,  0.    ]), array([3, 1, 3, 1, 1, 2, 1, 0, 0, 3, 3, 1, 1, 3, 2, 3], dtype=object)]\n",
      "\n",
      "[27, array([-9.4886, -3.4886, -6.    ,  0.    ]), array([0, 2, 3, 0, 0, 0, 2, 3, 0, 0, 3, 1, 1, 3, 0, 2], dtype=object)]\n",
      "[28, array([-9.4278, -3.4278, -6.    ,  0.    ]), array([1, 2, 2, 0, 0, 0, 1, 1, 2, 2, 1, 0, 0, 2, 0, 0], dtype=object)]\n",
      "[28, array([-9.4232, -3.4232, -6.    ,  0.    ]), array([0, 1, 3, 1, 1, 2, 2, 0, 0, 3, 3, 1, 1, 3, 3, 1], dtype=object)]\n",
      "[28, array([-9.4336, -3.4336, -6.    ,  0.    ]), array([0, 2, 3, 0, 0, 0, 2, 3, 2, 0, 3, 1, 1, 3, 0, 2], dtype=object)]\n",
      "[27, array([-9.4888, -3.4888, -6.    ,  0.    ]), array([2, 3, 2, 2, 0, 2, 0, 3, 3, 2, 0, 0, 2, 1, 1, 2], dtype=object)]\n",
      "\n",
      "\n",
      "[28, array([-9.4722, -3.4722, -6.    ,  0.    ]), array([2, 1, 0, 1, 0, 3, 3, 1, 3, 3, 2, 0, 1, 3, 1, 2], dtype=object)][29, array([-9.4722, -3.4722, -6.    ,  0.    ]), array([0, 3, 0, 2, 0, 2, 3, 1, 2, 2, 0, 0, 0, 0, 3, 3], dtype=object)][29, array([-9.5002, -3.5002, -6.    ,  0.    ]), array([3, 1, 3, 1, 1, 2, 1, 0, 0, 3, 3, 1, 1, 3, 2, 3], dtype=object)]\n",
      "[29, array([-9.5138, -3.5138, -6.    ,  0.    ]), array([0, 2, 3, 0, 0, 0, 2, 3, 0, 0, 3, 1, 1, 3, 0, 2], dtype=object)]\n",
      "[30, array([-9.47, -3.47, -6.  ,  0.  ]), array([3, 1, 3, 1, 1, 2, 3, 0, 0, 3, 3, 1, 1, 3, 2, 3], dtype=object)]\n",
      "[30, array([-9.4544, -3.4544, -6.    ,  0.    ]), array([0, 2, 3, 0, 0, 0, 2, 3, 2, 0, 3, 1, 1, 3, 0, 2], dtype=object)]\n",
      "[30, array([-4.7554, -1.7554, -3.    ,  0.    ]), array([0, 0, 2, 3, 3, 0, 0, 2, 2, 0, 3, 0, 0, 0, 1, 1], dtype=object)]\n",
      "[29, array([-9.5044, -3.5044, -6.    ,  0.    ]), array([2, 1, 0, 1, 0, 3, 3, 1, 3, 3, 2, 0, 1, 3, 2, 3], dtype=object)]\n",
      "[30, array([-9.4812, -3.4812, -6.    ,  0.    ]), array([2, 1, 3, 1, 0, 3, 3, 1, 3, 3, 2, 0, 1, 3, 2, 3], dtype=object)]\n",
      "\n",
      "[31, array([-9.5044, -3.5044, -6.    ,  0.    ]), array([3, 1, 3, 1, 1, 2, 1, 0, 0, 3, 3, 1, 1, 3, 2, 3], dtype=object)][31, array([-9.5038, -3.5038, -6.    ,  0.    ]), array([0, 2, 3, 0, 0, 0, 2, 3, 0, 0, 3, 1, 1, 3, 0, 2], dtype=object)]\n",
      "[31, array([-9.5028, -3.5028, -6.    ,  0.    ]), array([0, 3, 0, 2, 0, 2, 3, 1, 2, 2, 0, 0, 0, 0, 0, 0], dtype=object)]\n",
      "[32, array([-9.4946, -3.4946, -6.    ,  0.    ]), array([0, 2, 3, 0, 0, 0, 2, 3, 2, 0, 3, 1, 1, 3, 0, 2], dtype=object)]\n",
      "[32, array([-9.4318, -3.4318, -6.    ,  0.    ]), array([3, 1, 3, 1, 1, 2, 3, 0, 0, 3, 3, 1, 1, 3, 2, 3], dtype=object)]\n",
      "[31, array([-9.5052, -3.5052, -6.    ,  0.    ]), array([2, 1, 0, 1, 0, 3, 3, 1, 3, 3, 2, 0, 1, 3, 1, 2], dtype=object)]\n",
      "[32, array([-9.4748, -3.4748, -6.    ,  0.    ]), array([1, 0, 0, 0, 3, 2, 3, 1, 2, 2, 0, 0, 0, 0, 3, 3], dtype=object)]\n",
      "[32, array([-9.4472, -3.4472, -6.    ,  0.    ]), array([2, 1, 0, 1, 0, 3, 3, 1, 3, 3, 2, 0, 1, 3, 1, 2], dtype=object)]\n",
      "[33, array([-9.4948, -3.4948, -6.    ,  0.    ]), array([0, 2, 3, 0, 0, 0, 2, 3, 0, 0, 3, 1, 1, 3, 0, 2], dtype=object)]\n",
      "[33, array([-9.5006, -3.5006, -6.    ,  0.    ]), array([3, 1, 3, 1, 1, 2, 1, 0, 0, 3, 3, 1, 1, 3, 2, 3], dtype=object)]\n",
      "[33, array([-9.5006, -3.5006, -6.    ,  0.    ]), array([0, 3, 0, 2, 0, 2, 3, 1, 2, 2, 0, 0, 0, 0, 0, 0], dtype=object)]\n",
      "[34, array([-9.456, -3.456, -6.   ,  0.   ]), array([3, 1, 3, 1, 1, 2, 0, 0, 0, 3, 3, 1, 1, 3, 2, 3], dtype=object)]\n",
      "[34, array([-9.473, -3.473, -6.   ,  0.   ]), array([0, 2, 3, 0, 0, 1, 2, 3, 0, 0, 3, 1, 1, 3, 0, 2], dtype=object)]\n",
      "[33, array([-9.5122, -3.5122, -6.    ,  0.    ]), array([2, 1, 0, 1, 0, 3, 3, 1, 3, 3, 2, 0, 1, 3, 2, 3], dtype=object)]\n",
      "[34, array([-9.4578, -3.4578, -6.    ,  0.    ]), array([0, 3, 3, 2, 0, 2, 3, 1, 2, 2, 0, 0, 0, 0, 0, 0], dtype=object)]\n",
      "[34, array([-9.4492, -3.4492, -6.    ,  0.    ]), array([2, 1, 0, 1, 0, 3, 2, 1, 3, 3, 2, 0, 1, 3, 2, 3], dtype=object)]\n",
      "\n",
      "[35, array([-9.5034, -3.5034, -6.    ,  0.    ]), array([3, 1, 3, 1, 1, 2, 1, 0, 0, 3, 3, 1, 1, 3, 2, 3], dtype=object)][35, array([-9.5052, -3.5052, -6.    ,  0.    ]), array([0, 2, 3, 0, 0, 0, 2, 3, 0, 0, 3, 1, 1, 3, 0, 2], dtype=object)]\n",
      "[36, array([-9.4886, -3.4886, -6.    ,  0.    ]), array([0, 2, 3, 3, 0, 0, 2, 3, 0, 0, 3, 1, 1, 3, 0, 2], dtype=object)]\n",
      "[35, array([-9.4784, -3.4784, -6.    ,  0.    ]), array([0, 3, 0, 2, 0, 2, 3, 1, 2, 2, 0, 0, 0, 0, 0, 0], dtype=object)]\n",
      "[35, array([-9.5144, -3.5144, -6.    ,  0.    ]), array([2, 1, 0, 1, 0, 3, 3, 1, 3, 3, 2, 0, 1, 3, 2, 3], dtype=object)]\n",
      "[36, array([-9.4472, -3.4472, -6.    ,  0.    ]), array([3, 1, 3, 1, 1, 2, 1, 0, 0, 1, 3, 1, 3, 3, 2, 1], dtype=object)]\n",
      "[36, array([-9.4396, -3.4396, -6.    ,  0.    ]), array([1, 0, 0, 0, 3, 2, 3, 1, 2, 2, 0, 0, 0, 0, 0, 0], dtype=object)]\n",
      "[36, array([-9.4328, -3.4328, -6.    ,  0.    ]), array([2, 1, 0, 1, 1, 3, 0, 1, 2, 3, 2, 1, 1, 3, 2, 3], dtype=object)]\n",
      "[37, array([-9.5104, -3.5104, -6.    ,  0.    ]), array([0, 2, 3, 0, 0, 0, 2, 3, 0, 0, 3, 1, 1, 3, 0, 2], dtype=object)]\n",
      "[37, array([-9.5146, -3.5146, -6.    ,  0.    ]), array([3, 1, 3, 1, 1, 2, 1, 0, 0, 3, 3, 1, 1, 3, 2, 3], dtype=object)]\n",
      "[38, array([-9.441, -3.441, -6.   ,  0.   ]), array([0, 2, 1, 0, 0, 0, 2, 3, 0, 0, 3, 1, 1, 3, 0, 2], dtype=object)]\n",
      "[37, array([-9.5034, -3.5034, -6.    ,  0.    ]), array([0, 3, 0, 2, 0, 2, 3, 1, 2, 2, 0, 0, 0, 0, 0, 0], dtype=object)]\n",
      "[37, array([-9.499, -3.499, -6.   ,  0.   ]), array([2, 1, 0, 1, 0, 3, 3, 1, 3, 3, 2, 0, 1, 3, 2, 3], dtype=object)]\n",
      "[38, array([-9.4486, -3.4486, -6.    ,  0.    ]), array([2, 3, 1, 1, 1, 3, 0, 1, 2, 2, 2, 1, 2, 3, 3, 2], dtype=object)]\n",
      "[38, array([-9.5038, -3.5038, -6.    ,  0.    ]), array([2, 1, 0, 1, 0, 3, 0, 1, 3, 3, 2, 0, 1, 3, 2, 3], dtype=object)]\n",
      "[38, array([-9.4504, -3.4504, -6.    ,  0.    ]), array([0, 3, 0, 2, 0, 2, 3, 1, 2, 2, 0, 3, 0, 0, 3, 3], dtype=object)]\n",
      "[39, array([-9.5184, -3.5184, -6.    ,  0.    ]), array([0, 2, 3, 0, 0, 0, 2, 3, 0, 0, 3, 1, 1, 3, 0, 2], dtype=object)]\n",
      "[39, array([-9.4978, -3.4978, -6.    ,  0.    ]), array([3, 1, 3, 1, 1, 2, 1, 0, 0, 3, 3, 1, 1, 3, 2, 3], dtype=object)]\n",
      "[39, array([-9.5104, -3.5104, -6.    ,  0.    ]), array([2, 1, 0, 1, 0, 3, 0, 1, 3, 3, 2, 0, 1, 3, 2, 3], dtype=object)]\n",
      "[40, array([-9.5084, -3.5084, -6.    ,  0.    ]), array([3, 3, 3, 3, 1, 2, 1, 0, 0, 3, 3, 1, 1, 3, 2, 3], dtype=object)]\n",
      "[39, array([-9.5114, -3.5114, -6.    ,  0.    ]), array([0, 3, 0, 2, 0, 2, 3, 1, 2, 2, 0, 0, 0, 0, 0, 0], dtype=object)]\n",
      "[40, array([-4.7596, -1.7596, -3.    ,  0.    ]), array([2, 1, 0, 1, 0, 3, 3, 1, 3, 3, 2, 0, 1, 3, 1, 3], dtype=object)]\n",
      "[40, array([-9.468, -3.468, -6.   ,  0.   ]), array([0, 2, 3, 3, 0, 0, 2, 3, 0, 0, 3, 1, 1, 3, 0, 2], dtype=object)]\n",
      "[40, array([-9.4474, -3.4474, -6.    ,  0.    ]), array([0, 3, 2, 2, 2, 2, 3, 1, 2, 2, 0, 0, 0, 0, 3, 3], dtype=object)]\n"
     ]
    }
   ],
   "source": [
    "x_best, energy_noisy, energy_ideal = claptonize(\n",
    "    paulis,\n",
    "    coeffs,\n",
    "    vqe_pcirc,\n",
    "    trans_pcirc,\n",
    "    n_proc=4,\n",
    "    n_starts=4,\n",
    "    n_rounds=1,\n",
    "    callback=print,\n",
    "    budget=20\n",
    ")"
   ]
  },
  {
   "cell_type": "code",
   "execution_count": 7,
   "metadata": {},
   "outputs": [
    {
     "data": {
      "text/plain": [
       "[3, 1, 3, 1, 1, 2, 1, 0, 0, 3, 3, 1, 1, 3, 2, 3]"
      ]
     },
     "execution_count": 7,
     "metadata": {},
     "output_type": "execute_result"
    }
   ],
   "source": [
    "x_best"
   ]
  },
  {
   "cell_type": "code",
   "execution_count": 8,
   "metadata": {},
   "outputs": [
    {
     "data": {
      "text/html": [
       "<pre>q0: -SQRT_Y_DAG-S_DAG-X-X-SQRT_Y-I-----SWAP-@-SQRT_Y-----Z-----\n",
       "                      | |              |    |\n",
       "q1: -SQRT_Y-----S-----@-@-I------S_DAG-SWAP-X-SQRT_Y_DAG-S_DAG-</pre>"
      ],
      "text/plain": [
       "q0: -SQRT_Y_DAG-S_DAG-X-X-SQRT_Y-I-----SWAP-@-SQRT_Y-----Z-----\n",
       "                      | |              |    |\n",
       "q1: -SQRT_Y-----S-----@-@-I------S_DAG-SWAP-X-SQRT_Y_DAG-S_DAG-"
      ]
     },
     "execution_count": 8,
     "metadata": {},
     "output_type": "execute_result"
    }
   ],
   "source": [
    "trans_pcirc.assign(x_best).stim_circuit().diagram()"
   ]
  },
  {
   "cell_type": "code",
   "execution_count": 9,
   "metadata": {},
   "outputs": [
    {
     "data": {
      "text/plain": [
       "(np.float64(-9.4176), np.float64(-3.4176), np.float64(-6.0), 0.0)"
      ]
     },
     "execution_count": 9,
     "metadata": {},
     "output_type": "execute_result"
    }
   ],
   "source": [
    "loss_func(x_best, paulis, coeffs, vqe_pcirc, trans_pcirc, return_sublosses=True)"
   ]
  },
  {
   "cell_type": "code",
   "execution_count": null,
   "metadata": {},
   "outputs": [],
   "source": []
  },
  {
   "cell_type": "code",
   "execution_count": null,
   "metadata": {},
   "outputs": [],
   "source": []
  }
 ],
 "metadata": {
  "kernelspec": {
   "display_name": "clapton",
   "language": "python",
   "name": "python3"
  },
  "language_info": {
   "codemirror_mode": {
    "name": "ipython",
    "version": 3
   },
   "file_extension": ".py",
   "mimetype": "text/x-python",
   "name": "python",
   "nbconvert_exporter": "python",
   "pygments_lexer": "ipython3",
   "version": "3.12.5"
  }
 },
 "nbformat": 4,
 "nbformat_minor": 2
}
