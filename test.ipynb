{
 "cells": [
  {
   "cell_type": "code",
   "execution_count": 34,
   "metadata": {},
   "outputs": [],
   "source": [
    "from clapton.clapton import claptonize, loss_func\n",
    "from clapton.ansatzes import circular_ansatz\n",
    "from clapton.depolarization import GateGeneralDepolarizationModel"
   ]
  },
  {
   "cell_type": "code",
   "execution_count": 2,
   "metadata": {},
   "outputs": [],
   "source": [
    "paulis = [\"XX\", \"YY\", \"ZZ\"]\n",
    "coeffs = [1., 2., 3.]"
   ]
  },
  {
   "cell_type": "code",
   "execution_count": 35,
   "metadata": {},
   "outputs": [],
   "source": [
    "nm = GateGeneralDepolarizationModel(0.01, 0.1)"
   ]
  },
  {
   "cell_type": "code",
   "execution_count": 36,
   "metadata": {},
   "outputs": [],
   "source": [
    "vqe_pcirc = circular_ansatz(2, 2, fix_2q=True)\n",
    "vqe_pcirc.add_depolarization_model(nm)\n",
    "trans_pcirc = circular_ansatz(2, 2, fix_2q=False)"
   ]
  },
  {
   "cell_type": "code",
   "execution_count": 37,
   "metadata": {},
   "outputs": [
    {
     "data": {
      "text/html": [
       "<pre>q0: -I-DEPOLARIZE1(0.01)-I-----------------DEPOLARIZE1(0.01)-------------------X-DEPOLARIZE2(0.1)-@-DEPOLARIZE2(0.1)-I-DEPOLARIZE1(0.01)-I-----------------DEPOLARIZE1(0.01)-------------------X-DEPOLARIZE2(0.1)-@-DEPOLARIZE2(0.1)-I-DEPOLARIZE1(0.01)-I-----------------DEPOLARIZE1(0.01)-------------------\n",
       "                                                                               | |                | |                                                                                          | |                | |\n",
       "q1: ---I-----------------DEPOLARIZE1(0.01)-I-----------------DEPOLARIZE1(0.01)-@-DEPOLARIZE2(0.1)-X-DEPOLARIZE2(0.1)---I-----------------DEPOLARIZE1(0.01)-I-----------------DEPOLARIZE1(0.01)-@-DEPOLARIZE2(0.1)-X-DEPOLARIZE2(0.1)---I-----------------DEPOLARIZE1(0.01)-I-----------------DEPOLARIZE1(0.01)-</pre>"
      ],
      "text/plain": [
       "q0: -I-DEPOLARIZE1(0.01)-I-----------------DEPOLARIZE1(0.01)-------------------X-DEPOLARIZE2(0.1)-@-DEPOLARIZE2(0.1)-I-DEPOLARIZE1(0.01)-I-----------------DEPOLARIZE1(0.01)-------------------X-DEPOLARIZE2(0.1)-@-DEPOLARIZE2(0.1)-I-DEPOLARIZE1(0.01)-I-----------------DEPOLARIZE1(0.01)-------------------\n",
       "                                                                               | |                | |                                                                                          | |                | |\n",
       "q1: ---I-----------------DEPOLARIZE1(0.01)-I-----------------DEPOLARIZE1(0.01)-@-DEPOLARIZE2(0.1)-X-DEPOLARIZE2(0.1)---I-----------------DEPOLARIZE1(0.01)-I-----------------DEPOLARIZE1(0.01)-@-DEPOLARIZE2(0.1)-X-DEPOLARIZE2(0.1)---I-----------------DEPOLARIZE1(0.01)-I-----------------DEPOLARIZE1(0.01)-"
      ]
     },
     "execution_count": 37,
     "metadata": {},
     "output_type": "execute_result"
    }
   ],
   "source": [
    "vqe_pcirc.stim_circuit().diagram()"
   ]
  },
  {
   "cell_type": "code",
   "execution_count": 38,
   "metadata": {},
   "outputs": [
    {
     "name": "stdout",
     "output_type": "stream",
     "text": [
      "STARTING ROUND 0\n",
      "\n",
      "\n",
      "started GA at id None with 1 procs\n",
      "\n"
     ]
    },
    {
     "name": "stderr",
     "output_type": "stream",
     "text": [
      "/Users/maxator/miniconda3/envs/clapton/lib/python3.12/site-packages/pygad/pygad.py:1139: UserWarning: The 'delay_after_gen' parameter is deprecated starting from PyGAD 3.3.0. To delay or pause the evolution after each generation, assign a callback function/method to the 'on_generation' parameter to adds some time delay.\n",
      "  warnings.warn(\"The 'delay_after_gen' parameter is deprecated starting from PyGAD 3.3.0. To delay or pause the evolution after each generation, assign a callback function/method to the 'on_generation' parameter to adds some time delay.\")\n",
      "/Users/maxator/miniconda3/envs/clapton/lib/python3.12/site-packages/pygad/pygad.py:1139: UserWarning: The 'delay_after_gen' parameter is deprecated starting from PyGAD 3.3.0. To delay or pause the evolution after each generation, assign a callback function/method to the 'on_generation' parameter to adds some time delay.\n",
      "  warnings.warn(\"The 'delay_after_gen' parameter is deprecated starting from PyGAD 3.3.0. To delay or pause the evolution after each generation, assign a callback function/method to the 'on_generation' parameter to adds some time delay.\")\n"
     ]
    },
    {
     "name": "stdout",
     "output_type": "stream",
     "text": [
      "started GA at id 2 with 1 procs\n",
      "\n",
      "started GA at id 3 with 1 procs\n",
      "\n",
      "started GA at id 1 with 1 procs\n",
      "\n",
      "[0, array([-4.7356, -1.7356, -3.    ,  0.    ]), array([3, 2, 0, 0, 0, 0, 3, 3, 2, 2, 0, 0, 0, 1, 2, 1], dtype=object)]\n"
     ]
    },
    {
     "name": "stderr",
     "output_type": "stream",
     "text": [
      "/Users/maxator/miniconda3/envs/clapton/lib/python3.12/site-packages/pygad/pygad.py:1139: UserWarning: The 'delay_after_gen' parameter is deprecated starting from PyGAD 3.3.0. To delay or pause the evolution after each generation, assign a callback function/method to the 'on_generation' parameter to adds some time delay.\n",
      "  warnings.warn(\"The 'delay_after_gen' parameter is deprecated starting from PyGAD 3.3.0. To delay or pause the evolution after each generation, assign a callback function/method to the 'on_generation' parameter to adds some time delay.\")\n",
      "/Users/maxator/miniconda3/envs/clapton/lib/python3.12/site-packages/pygad/pygad.py:1139: UserWarning: The 'delay_after_gen' parameter is deprecated starting from PyGAD 3.3.0. To delay or pause the evolution after each generation, assign a callback function/method to the 'on_generation' parameter to adds some time delay.\n",
      "  warnings.warn(\"The 'delay_after_gen' parameter is deprecated starting from PyGAD 3.3.0. To delay or pause the evolution after each generation, assign a callback function/method to the 'on_generation' parameter to adds some time delay.\")\n"
     ]
    },
    {
     "name": "stdout",
     "output_type": "stream",
     "text": [
      "[0, array([-4.7348, -1.7348, -3.    ,  0.    ]), array([3, 0, 3, 1, 0, 0, 1, 2, 3, 1, 0, 0, 1, 2, 3, 0], dtype=object)]\n",
      "[0, array([-4.775, -1.775, -3.   ,  0.   ]), array([0, 1, 2, 0, 0, 0, 0, 3, 1, 1, 0, 0, 2, 0, 1, 0], dtype=object)]\n",
      "[0, array([-4.7846, -1.7846, -3.    ,  0.    ]), array([2, 0, 3, 1, 0, 0, 2, 2, 1, 3, 0, 0, 2, 2, 3, 1], dtype=object)]\n",
      "[1, array([-4.7886, -1.7886, -3.    ,  0.    ]), array([3, 2, 0, 3, 0, 0, 1, 3, 2, 0, 0, 0, 0, 1, 1, 2], dtype=object)]\n",
      "[1, array([-4.7506, -1.7506, -3.    ,  0.    ]), array([3, 2, 2, 3, 0, 0, 3, 2, 0, 1, 0, 0, 2, 0, 1, 0], dtype=object)]\n",
      "[1, array([-4.7468, -1.7468, -3.    ,  0.    ]), array([3, 2, 1, 3, 0, 0, 0, 0, 1, 2, 0, 0, 1, 2, 2, 3], dtype=object)]\n",
      "[1, array([-4.713, -1.713, -3.   ,  0.   ]), array([2, 0, 3, 1, 0, 0, 2, 2, 1, 3, 0, 0, 2, 2, 2, 1], dtype=object)]\n",
      "[2, array([-4.6994, -1.6994, -3.    ,  0.    ]), array([3, 0, 1, 3, 0, 1, 0, 0, 1, 0, 0, 0, 2, 0, 1, 0], dtype=object)]\n",
      "[2, array([-4.743, -1.743, -3.   ,  0.   ]), array([3, 2, 2, 3, 0, 0, 3, 2, 0, 1, 0, 0, 2, 0, 1, 0], dtype=object)]\n",
      "[2, array([-9.4188, -3.4188, -6.    ,  0.    ]), array([0, 3, 0, 2, 0, 1, 2, 0, 3, 2, 1, 0, 2, 2, 3, 3], dtype=object)]\n",
      "[2, array([-9.4046, -3.4046, -6.    ,  0.    ]), array([3, 1, 3, 1, 1, 3, 0, 3, 0, 0, 3, 3, 1, 3, 2, 3], dtype=object)]\n",
      "[3, array([-4.7236, -1.7236, -3.    ,  0.    ]), array([3, 0, 1, 3, 0, 1, 0, 0, 1, 0, 0, 0, 2, 0, 1, 0], dtype=object)]\n",
      "[3, array([-4.7588, -1.7588, -3.    ,  0.    ]), array([2, 3, 3, 2, 0, 0, 2, 1, 3, 0, 0, 0, 2, 2, 1, 1], dtype=object)]\n",
      "[3, array([-9.3826, -3.3826, -6.    ,  0.    ]), array([1, 3, 1, 3, 0, 1, 2, 1, 3, 1, 0, 0, 1, 2, 3, 3], dtype=object)]\n",
      "[3, array([-9.4478, -3.4478, -6.    ,  0.    ]), array([2, 1, 2, 2, 1, 0, 1, 0, 1, 1, 0, 3, 1, 1, 3, 2], dtype=object)]\n",
      "[4, array([-3.1852, -1.1852, -2.    ,  0.    ]), array([1, 1, 1, 3, 0, 0, 0, 0, 2, 0, 0, 0, 1, 1, 0, 2], dtype=object)]\n",
      "[4, array([-9.4514, -3.4514, -6.    ,  0.    ]), array([1, 3, 1, 3, 0, 1, 2, 1, 3, 1, 0, 0, 1, 2, 3, 3], dtype=object)]\n",
      "[4, array([-4.7636, -1.7636, -3.    ,  0.    ]), array([3, 3, 2, 1, 0, 2, 0, 3, 0, 3, 0, 0, 3, 3, 1, 1], dtype=object)]\n",
      "[4, array([-9.4978, -3.4978, -6.    ,  0.    ]), array([3, 2, 2, 1, 0, 1, 3, 2, 0, 0, 2, 1, 0, 3, 1, 3], dtype=object)]\n",
      "[5, array([-4.77, -1.77, -3.  ,  0.  ]), array([1, 1, 1, 3, 0, 3, 2, 0, 1, 1, 0, 0, 1, 1, 1, 0], dtype=object)]\n",
      "[5, array([-4.7694, -1.7694, -3.    ,  0.    ]), array([0, 2, 1, 3, 0, 0, 0, 0, 1, 3, 0, 0, 2, 2, 0, 2], dtype=object)]\n",
      "[5, array([-4.7634, -1.7634, -3.    ,  0.    ]), array([3, 3, 0, 3, 0, 0, 1, 1, 3, 1, 0, 0, 2, 1, 2, 1], dtype=object)]\n",
      "[6, array([-9.4072, -3.4072, -6.    ,  0.    ]), array([2, 0, 1, 3, 0, 2, 3, 0, 1, 0, 2, 0, 0, 2, 0, 1], dtype=object)]\n",
      "[6, array([-4.76, -1.76, -3.  ,  0.  ]), array([3, 2, 2, 3, 3, 0, 0, 3, 1, 3, 2, 0, 0, 2, 0, 3], dtype=object)]\n",
      "[5, array([-9.4434, -3.4434, -6.    ,  0.    ]), array([2, 2, 2, 0, 2, 1, 1, 1, 1, 3, 3, 1, 3, 2, 3, 0], dtype=object)]\n",
      "[6, array([-9.4588, -3.4588, -6.    ,  0.    ]), array([0, 3, 2, 2, 0, 2, 1, 0, 1, 2, 3, 0, 3, 2, 1, 0], dtype=object)]\n",
      "[7, array([-9.4676, -3.4676, -6.    ,  0.    ]), array([3, 0, 1, 3, 0, 1, 0, 0, 1, 0, 0, 0, 2, 0, 1, 1], dtype=object)]\n",
      "[7, array([-4.824, -1.824, -3.   ,  0.   ]), array([3, 2, 2, 3, 0, 0, 3, 2, 0, 1, 0, 0, 2, 0, 2, 2], dtype=object)]\n",
      "[7, array([-9.46, -3.46, -6.  ,  0.  ]), array([1, 3, 1, 3, 0, 1, 2, 1, 3, 1, 0, 0, 1, 2, 3, 3], dtype=object)]\n",
      "[6, array([-9.4076, -3.4076, -6.    ,  0.    ]), array([3, 0, 2, 3, 0, 0, 1, 3, 2, 0, 0, 2, 3, 3, 0, 0], dtype=object)]\n",
      "[8, array([-9.486, -3.486, -6.   ,  0.   ]), array([3, 0, 1, 3, 0, 1, 0, 0, 1, 0, 0, 0, 2, 0, 1, 1], dtype=object)]\n",
      "[8, array([-4.8016, -1.8016, -3.    ,  0.    ]), array([0, 3, 1, 3, 0, 2, 1, 1, 1, 1, 0, 3, 3, 2, 2, 3], dtype=object)]\n",
      "[8, array([-9.4062, -3.4062, -6.    ,  0.    ]), array([2, 3, 1, 0, 1, 0, 0, 0, 3, 1, 0, 0, 2, 2, 0, 2], dtype=object)]\n",
      "[7, array([-9.4676, -3.4676, -6.    ,  0.    ]), array([2, 1, 2, 2, 1, 0, 1, 0, 1, 1, 0, 3, 1, 1, 3, 2], dtype=object)]\n",
      "[9, array([-9.4652, -3.4652, -6.    ,  0.    ]), array([2, 2, 1, 3, 2, 0, 3, 0, 1, 0, 2, 0, 0, 2, 0, 1], dtype=object)]\n",
      "[9, array([-9.4624, -3.4624, -6.    ,  0.    ]), array([3, 3, 1, 3, 0, 2, 1, 1, 1, 1, 0, 3, 3, 2, 2, 3], dtype=object)]\n",
      "[9, array([-9.5314, -3.5314, -6.    ,  0.    ]), array([0, 3, 2, 2, 0, 2, 1, 0, 1, 2, 3, 0, 3, 2, 1, 0], dtype=object)]\n",
      "[8, array([-9.4154, -3.4154, -6.    ,  0.    ]), array([2, 2, 2, 0, 2, 1, 1, 1, 1, 3, 3, 1, 3, 2, 0, 1], dtype=object)]\n",
      "[10, array([-9.4526, -3.4526, -6.    ,  0.    ]), array([2, 2, 1, 3, 2, 0, 3, 0, 1, 0, 2, 0, 0, 2, 0, 1], dtype=object)]\n",
      "[10, array([-9.4458, -3.4458, -6.    ,  0.    ]), array([3, 3, 1, 3, 0, 2, 1, 1, 1, 1, 0, 3, 3, 2, 2, 3], dtype=object)]\n",
      "[10, array([-9.4216, -3.4216, -6.    ,  0.    ]), array([2, 3, 1, 0, 1, 0, 0, 0, 2, 2, 0, 0, 2, 2, 2, 2], dtype=object)]\n",
      "[11, array([-9.483, -3.483, -6.   ,  0.   ]), array([3, 0, 1, 3, 0, 1, 0, 0, 1, 0, 0, 0, 2, 0, 1, 1], dtype=object)]\n",
      "[11, array([-9.4798, -3.4798, -6.    ,  0.    ]), array([0, 1, 1, 2, 0, 0, 1, 2, 3, 1, 3, 1, 1, 0, 2, 1], dtype=object)]\n",
      "[11, array([-9.4542, -3.4542, -6.    ,  0.    ]), array([0, 1, 2, 0, 0, 2, 1, 0, 1, 2, 3, 0, 3, 2, 1, 0], dtype=object)]\n",
      "[9, array([-9.4798, -3.4798, -6.    ,  0.    ]), array([3, 3, 2, 0, 0, 2, 0, 2, 3, 2, 3, 1, 3, 3, 0, 1], dtype=object)]\n",
      "[12, array([-9.4594, -3.4594, -6.    ,  0.    ]), array([2, 0, 0, 3, 0, 2, 3, 0, 1, 0, 2, 0, 0, 2, 0, 1], dtype=object)]\n",
      "[12, array([-9.467, -3.467, -6.   ,  0.   ]), array([3, 3, 0, 1, 0, 0, 0, 1, 1, 2, 2, 0, 3, 2, 1, 0], dtype=object)]\n",
      "[12, array([-9.4768, -3.4768, -6.    ,  0.    ]), array([3, 3, 2, 3, 3, 2, 0, 2, 3, 1, 2, 3, 3, 0, 3, 1], dtype=object)]\n",
      "[10, array([-9.4324, -3.4324, -6.    ,  0.    ]), array([1, 2, 0, 0, 1, 1, 3, 0, 2, 2, 0, 3, 2, 1, 3, 1], dtype=object)]\n",
      "[13, array([-9.5176, -3.5176, -6.    ,  0.    ]), array([2, 0, 1, 3, 0, 2, 3, 0, 1, 0, 2, 0, 0, 2, 0, 1], dtype=object)]\n",
      "[13, array([-9.3888, -3.3888, -6.    ,  0.    ]), array([3, 3, 1, 3, 0, 2, 1, 1, 1, 1, 0, 3, 3, 2, 2, 3], dtype=object)]\n",
      "[13, array([-9.4584, -3.4584, -6.    ,  0.    ]), array([0, 3, 2, 2, 0, 2, 1, 0, 1, 2, 3, 0, 3, 2, 1, 0], dtype=object)]\n",
      "[14, array([-9.4098, -3.4098, -6.    ,  0.    ]), array([2, 3, 1, 3, 3, 1, 1, 2, 2, 0, 1, 3, 0, 3, 2, 3], dtype=object)]\n",
      "[11, array([-9.453, -3.453, -6.   ,  0.   ]), array([2, 2, 2, 0, 2, 1, 1, 1, 1, 3, 3, 1, 3, 2, 0, 1], dtype=object)]\n",
      "[14, array([-4.7378, -1.7378, -3.    ,  0.    ]), array([3, 3, 2, 2, 0, 0, 1, 0, 1, 2, 3, 0, 3, 2, 2, 3], dtype=object)]\n",
      "[14, array([-4.771, -1.771, -3.   ,  0.   ]), array([3, 3, 2, 3, 3, 0, 0, 0, 0, 3, 0, 1, 1, 0, 0, 2], dtype=object)]\n",
      "[15, array([-9.5086, -3.5086, -6.    ,  0.    ]), array([2, 0, 0, 3, 0, 2, 3, 0, 1, 0, 2, 0, 0, 2, 0, 1], dtype=object)]\n",
      "[12, array([-9.4548, -3.4548, -6.    ,  0.    ]), array([0, 1, 1, 1, 0, 0, 1, 0, 1, 0, 2, 3, 2, 1, 3, 2], dtype=object)]\n",
      "[15, array([-9.4836, -3.4836, -6.    ,  0.    ]), array([0, 3, 2, 2, 0, 2, 1, 0, 1, 2, 3, 0, 3, 2, 1, 0], dtype=object)]\n",
      "[15, array([-9.4858, -3.4858, -6.    ,  0.    ]), array([3, 3, 1, 3, 0, 2, 1, 1, 1, 1, 0, 3, 3, 2, 2, 3], dtype=object)]\n",
      "[16, array([-9.4956, -3.4956, -6.    ,  0.    ]), array([3, 0, 1, 3, 0, 1, 0, 0, 1, 0, 0, 0, 1, 3, 0, 0], dtype=object)]\n",
      "[16, array([-9.4658, -3.4658, -6.    ,  0.    ]), array([2, 2, 0, 2, 0, 0, 3, 0, 1, 0, 2, 3, 2, 2, 1, 0], dtype=object)]\n",
      "[16, array([-9.468, -3.468, -6.   ,  0.   ]), array([3, 3, 3, 3, 2, 3, 1, 3, 0, 3, 0, 1, 2, 1, 2, 0], dtype=object)]\n",
      "[13, array([-9.4992, -3.4992, -6.    ,  0.    ]), array([2, 1, 2, 2, 1, 0, 1, 0, 1, 1, 0, 3, 1, 1, 3, 2], dtype=object)]\n",
      "[17, array([-9.5168, -3.5168, -6.    ,  0.    ]), array([2, 0, 0, 3, 0, 2, 3, 0, 1, 0, 2, 0, 0, 2, 0, 1], dtype=object)]\n",
      "[17, array([-9.513, -3.513, -6.   ,  0.   ]), array([0, 3, 2, 2, 0, 2, 1, 0, 1, 2, 3, 0, 3, 2, 1, 0], dtype=object)]\n",
      "[17, array([-9.4642, -3.4642, -6.    ,  0.    ]), array([3, 3, 1, 3, 0, 2, 1, 1, 1, 1, 0, 3, 3, 2, 2, 3], dtype=object)]\n",
      "[18, array([-9.4566, -3.4566, -6.    ,  0.    ]), array([2, 0, 3, 1, 0, 2, 3, 0, 1, 0, 2, 0, 0, 2, 0, 1], dtype=object)]\n",
      "[18, array([-9.4118, -3.4118, -6.    ,  0.    ]), array([3, 3, 1, 3, 0, 1, 3, 1, 3, 1, 0, 0, 3, 2, 2, 1], dtype=object)]\n",
      "[14, array([-9.4264, -3.4264, -6.    ,  0.    ]), array([1, 2, 2, 3, 2, 3, 1, 0, 1, 1, 0, 3, 1, 1, 3, 2], dtype=object)]\n",
      "[18, array([-9.511, -3.511, -6.   ,  0.   ]), array([3, 3, 2, 1, 3, 2, 0, 1, 1, 1, 0, 3, 3, 2, 2, 3], dtype=object)]\n",
      "[19, array([-9.4734, -3.4734, -6.    ,  0.    ]), array([3, 0, 1, 3, 0, 1, 0, 0, 1, 0, 0, 0, 2, 0, 1, 1], dtype=object)]\n",
      "[19, array([-9.4964, -3.4964, -6.    ,  0.    ]), array([0, 1, 2, 0, 0, 2, 1, 0, 1, 2, 3, 0, 3, 2, 1, 0], dtype=object)]\n",
      "[15, array([-9.4784, -3.4784, -6.    ,  0.    ]), array([2, 1, 2, 2, 1, 0, 1, 0, 1, 1, 0, 3, 1, 1, 3, 2], dtype=object)]\n",
      "[20, array([-4.7692, -1.7692, -3.    ,  0.    ]), array([0, 3, 2, 0, 0, 2, 1, 1, 1, 2, 3, 0, 2, 2, 3, 3], dtype=object)]\n",
      "[19, array([-9.5162, -3.5162, -6.    ,  0.    ]), array([3, 3, 3, 3, 2, 3, 1, 3, 0, 3, 0, 1, 2, 1, 2, 0], dtype=object)]\n",
      "[20, array([-9.4796, -3.4796, -6.    ,  0.    ]), array([3, 0, 1, 1, 0, 1, 0, 0, 1, 0, 0, 0, 2, 0, 0, 0], dtype=object)]\n",
      "[20, array([-4.7824, -1.7824, -3.    ,  0.    ]), array([2, 3, 1, 3, 0, 2, 1, 1, 1, 1, 0, 3, 3, 2, 2, 3], dtype=object)]\n",
      "[16, array([-9.4922, -3.4922, -6.    ,  0.    ]), array([2, 2, 3, 0, 1, 1, 1, 1, 3, 1, 3, 1, 1, 2, 3, 2], dtype=object)]\n",
      "[21, array([-9.4976, -3.4976, -6.    ,  0.    ]), array([0, 1, 2, 0, 0, 2, 1, 0, 1, 2, 3, 0, 3, 2, 1, 0], dtype=object)]\n",
      "[21, array([-9.4896, -3.4896, -6.    ,  0.    ]), array([3, 0, 1, 3, 0, 1, 0, 0, 1, 0, 0, 0, 2, 0, 1, 1], dtype=object)]\n",
      "[22, array([-9.4412, -3.4412, -6.    ,  0.    ]), array([3, 2, 2, 3, 3, 2, 1, 0, 1, 2, 3, 0, 3, 2, 3, 0], dtype=object)]\n",
      "[22, array([-9.4628, -3.4628, -6.    ,  0.    ]), array([3, 0, 1, 3, 0, 1, 0, 0, 1, 0, 0, 0, 1, 3, 1, 1], dtype=object)]\n",
      "[21, array([-9.5076, -3.5076, -6.    ,  0.    ]), array([3, 3, 1, 3, 0, 2, 1, 1, 1, 1, 0, 3, 3, 2, 2, 3], dtype=object)]\n",
      "[17, array([-9.5066, -3.5066, -6.    ,  0.    ]), array([0, 1, 1, 1, 0, 0, 1, 0, 1, 0, 2, 3, 2, 1, 3, 2], dtype=object)]\n",
      "[23, array([-9.509, -3.509, -6.   ,  0.   ]), array([0, 1, 2, 0, 0, 2, 1, 0, 1, 2, 3, 0, 3, 2, 1, 0], dtype=object)]\n",
      "[22, array([-9.4644, -3.4644, -6.    ,  0.    ]), array([3, 3, 3, 3, 2, 3, 1, 3, 1, 1, 0, 3, 3, 2, 2, 3], dtype=object)]\n",
      "[23, array([-9.501, -3.501, -6.   ,  0.   ]), array([3, 0, 1, 3, 0, 1, 0, 0, 1, 0, 0, 0, 2, 0, 1, 1], dtype=object)]\n",
      "[24, array([-4.767, -1.767, -3.   ,  0.   ]), array([0, 1, 0, 1, 0, 2, 0, 1, 3, 2, 2, 1, 0, 3, 1, 0], dtype=object)]\n",
      "[18, array([-9.4638, -3.4638, -6.    ,  0.    ]), array([1, 2, 2, 0, 2, 0, 1, 0, 1, 1, 0, 3, 1, 1, 3, 2], dtype=object)]\n",
      "[24, array([-9.463, -3.463, -6.   ,  0.   ]), array([3, 0, 1, 3, 0, 1, 0, 0, 1, 0, 0, 0, 2, 0, 0, 0], dtype=object)]\n",
      "[23, array([-9.5084, -3.5084, -6.    ,  0.    ]), array([3, 3, 1, 3, 0, 2, 1, 1, 1, 1, 0, 3, 3, 2, 2, 3], dtype=object)]\n",
      "[25, array([-9.4784, -3.4784, -6.    ,  0.    ]), array([0, 1, 2, 0, 0, 2, 1, 0, 1, 2, 3, 0, 3, 2, 1, 0], dtype=object)]\n",
      "[25, array([-9.4928, -3.4928, -6.    ,  0.    ]), array([3, 0, 1, 3, 0, 1, 0, 0, 1, 0, 0, 0, 2, 0, 1, 1], dtype=object)]\n",
      "[24, array([-9.4244, -3.4244, -6.    ,  0.    ]), array([3, 3, 1, 2, 2, 0, 2, 1, 1, 3, 2, 3, 2, 2, 0, 2], dtype=object)]\n",
      "[19, array([-9.515, -3.515, -6.   ,  0.   ]), array([2, 1, 2, 2, 1, 0, 1, 0, 1, 1, 0, 3, 1, 1, 3, 2], dtype=object)]\n",
      "[26, array([-9.4754, -3.4754, -6.    ,  0.    ]), array([0, 1, 2, 0, 2, 2, 1, 0, 1, 2, 3, 0, 3, 2, 1, 0], dtype=object)]\n",
      "[26, array([-9.4508, -3.4508, -6.    ,  0.    ]), array([3, 0, 1, 3, 0, 1, 0, 0, 1, 0, 0, 0, 1, 3, 1, 1], dtype=object)]\n",
      "[20, array([-9.4716, -3.4716, -6.    ,  0.    ]), array([2, 1, 0, 2, 1, 0, 1, 0, 1, 1, 0, 3, 1, 1, 3, 2], dtype=object)]\n",
      "[25, array([-9.4798, -3.4798, -6.    ,  0.    ]), array([3, 3, 2, 1, 3, 2, 0, 1, 1, 1, 0, 3, 3, 2, 2, 3], dtype=object)]\n",
      "[27, array([-9.493, -3.493, -6.   ,  0.   ]), array([0, 1, 2, 0, 0, 2, 1, 0, 1, 2, 3, 0, 3, 2, 1, 0], dtype=object)]\n",
      "[27, array([-9.52, -3.52, -6.  ,  0.  ]), array([3, 0, 1, 3, 0, 1, 0, 0, 1, 0, 0, 0, 2, 0, 1, 1], dtype=object)]\n",
      "[28, array([-9.4504, -3.4504, -6.    ,  0.    ]), array([3, 0, 1, 2, 0, 1, 0, 0, 1, 0, 0, 0, 2, 0, 1, 1], dtype=object)]\n",
      "[26, array([-9.433, -3.433, -6.   ,  0.   ]), array([1, 3, 0, 1, 3, 2, 0, 1, 1, 1, 0, 3, 3, 2, 2, 3], dtype=object)]\n",
      "[28, array([-4.7316, -1.7316, -3.    ,  0.    ]), array([0, 1, 2, 1, 1, 0, 0, 1, 1, 2, 2, 0, 3, 2, 1, 0], dtype=object)]\n",
      "[21, array([-9.5052, -3.5052, -6.    ,  0.    ]), array([0, 1, 1, 1, 0, 0, 1, 0, 1, 0, 2, 3, 2, 1, 3, 2], dtype=object)]\n",
      "[29, array([-9.5054, -3.5054, -6.    ,  0.    ]), array([3, 0, 1, 3, 0, 1, 0, 0, 1, 0, 0, 0, 1, 3, 0, 0], dtype=object)]\n",
      "[27, array([-9.521, -3.521, -6.   ,  0.   ]), array([3, 3, 1, 3, 0, 2, 1, 1, 1, 1, 0, 3, 3, 2, 2, 3], dtype=object)]\n",
      "[29, array([-9.486, -3.486, -6.   ,  0.   ]), array([3, 3, 0, 1, 0, 0, 0, 1, 1, 2, 2, 0, 3, 2, 1, 0], dtype=object)]\n",
      "[22, array([-4.7664, -1.7664, -3.    ,  0.    ]), array([3, 2, 2, 3, 0, 3, 3, 2, 2, 0, 1, 0, 3, 3, 3, 0], dtype=object)]\n",
      "[30, array([-9.4584, -3.4584, -6.    ,  0.    ]), array([3, 0, 1, 3, 0, 1, 0, 0, 1, 0, 3, 0, 1, 3, 0, 0], dtype=object)]\n",
      "[30, array([-4.744, -1.744, -3.   ,  0.   ]), array([3, 3, 0, 1, 0, 2, 2, 1, 0, 3, 3, 0, 3, 1, 1, 3], dtype=object)]\n",
      "[28, array([-9.44, -3.44, -6.  ,  0.  ]), array([3, 2, 3, 3, 2, 3, 1, 3, 3, 3, 0, 0, 2, 1, 2, 0], dtype=object)]\n",
      "[31, array([-9.501, -3.501, -6.   ,  0.   ]), array([3, 0, 1, 3, 0, 1, 0, 0, 1, 0, 0, 0, 1, 3, 0, 0], dtype=object)]\n",
      "[31, array([-9.5046, -3.5046, -6.    ,  0.    ]), array([3, 3, 0, 1, 0, 0, 0, 1, 1, 2, 2, 0, 3, 2, 1, 0], dtype=object)]\n",
      "[23, array([-9.5192, -3.5192, -6.    ,  0.    ]), array([1, 2, 2, 0, 2, 0, 1, 0, 1, 1, 0, 3, 1, 1, 3, 2], dtype=object)]\n",
      "[29, array([-9.4948, -3.4948, -6.    ,  0.    ]), array([3, 3, 2, 1, 3, 2, 0, 1, 1, 1, 0, 3, 3, 2, 2, 3], dtype=object)]\n",
      "[32, array([-9.486, -3.486, -6.   ,  0.   ]), array([3, 0, 1, 2, 0, 1, 0, 0, 1, 0, 0, 0, 1, 3, 0, 0], dtype=object)]\n",
      "[32, array([-9.4194, -3.4194, -6.    ,  0.    ]), array([3, 3, 0, 1, 0, 0, 0, 2, 1, 2, 2, 0, 3, 2, 1, 0], dtype=object)]\n",
      "[24, array([-3.1848, -1.1848, -2.    ,  0.    ]), array([2, 1, 0, 1, 1, 0, 1, 0, 1, 1, 0, 3, 1, 1, 3, 2], dtype=object)]\n",
      "[30, array([-9.444, -3.444, -6.   ,  0.   ]), array([3, 3, 3, 3, 2, 3, 1, 3, 1, 1, 0, 3, 3, 2, 2, 3], dtype=object)]\n",
      "[33, array([-9.5096, -3.5096, -6.    ,  0.    ]), array([3, 0, 1, 3, 0, 1, 0, 0, 1, 0, 0, 0, 1, 3, 0, 0], dtype=object)]\n",
      "[33, array([-9.531, -3.531, -6.   ,  0.   ]), array([3, 3, 0, 1, 0, 0, 0, 1, 1, 2, 2, 0, 3, 2, 1, 0], dtype=object)]\n",
      "[34, array([-9.4632, -3.4632, -6.    ,  0.    ]), array([3, 1, 0, 0, 0, 0, 0, 1, 1, 2, 2, 0, 2, 2, 1, 0], dtype=object)]\n",
      "[31, array([-9.5006, -3.5006, -6.    ,  0.    ]), array([3, 3, 2, 1, 3, 2, 0, 1, 1, 1, 0, 3, 3, 2, 2, 3], dtype=object)]\n",
      "[34, array([-9.4296, -3.4296, -6.    ,  0.    ]), array([3, 0, 1, 1, 0, 1, 0, 0, 1, 0, 0, 0, 1, 3, 0, 0], dtype=object)]\n",
      "[25, array([-9.4786, -3.4786, -6.    ,  0.    ]), array([2, 1, 2, 2, 1, 0, 1, 0, 1, 1, 0, 3, 1, 1, 3, 2], dtype=object)]\n",
      "[32, array([-9.4492, -3.4492, -6.    ,  0.    ]), array([3, 3, 2, 1, 3, 2, 0, 1, 1, 0, 0, 3, 3, 1, 2, 3], dtype=object)]\n",
      "[35, array([-9.5054, -3.5054, -6.    ,  0.    ]), array([3, 3, 0, 1, 0, 0, 0, 1, 1, 2, 2, 0, 3, 2, 1, 0], dtype=object)]\n",
      "[35, array([-9.545, -3.545, -6.   ,  0.   ]), array([3, 0, 1, 3, 0, 1, 0, 0, 1, 0, 0, 0, 1, 3, 0, 0], dtype=object)]\n",
      "[26, array([-9.4514, -3.4514, -6.    ,  0.    ]), array([2, 1, 2, 2, 1, 0, 1, 0, 1, 1, 3, 0, 1, 1, 3, 2], dtype=object)]\n",
      "[36, array([-9.4812, -3.4812, -6.    ,  0.    ]), array([3, 3, 0, 1, 0, 0, 0, 0, 1, 2, 2, 0, 3, 2, 1, 0], dtype=object)]\n",
      "[36, array([-9.4296, -3.4296, -6.    ,  0.    ]), array([3, 0, 1, 2, 0, 1, 0, 0, 1, 0, 0, 0, 1, 3, 0, 0], dtype=object)]\n",
      "[33, array([-9.495, -3.495, -6.   ,  0.   ]), array([3, 3, 2, 1, 3, 2, 0, 1, 1, 1, 0, 3, 3, 2, 2, 3], dtype=object)]\n",
      "[34, array([-4.713, -1.713, -3.   ,  0.   ]), array([3, 3, 2, 1, 3, 2, 0, 1, 1, 1, 0, 3, 3, 2, 3, 3], dtype=object)]\n",
      "[37, array([-9.4846, -3.4846, -6.    ,  0.    ]), array([3, 3, 0, 1, 0, 0, 0, 1, 1, 2, 2, 0, 3, 2, 1, 0], dtype=object)]\n",
      "[27, array([-9.497, -3.497, -6.   ,  0.   ]), array([2, 1, 0, 2, 1, 0, 1, 0, 1, 1, 0, 3, 1, 1, 3, 2], dtype=object)]\n",
      "[37, array([-9.5006, -3.5006, -6.    ,  0.    ]), array([3, 0, 1, 3, 0, 1, 0, 0, 1, 0, 0, 0, 1, 3, 0, 0], dtype=object)]\n",
      "[38, array([-4.7222, -1.7222, -3.    ,  0.    ]), array([1, 1, 2, 2, 0, 1, 3, 0, 2, 2, 3, 0, 3, 2, 1, 0], dtype=object)]\n",
      "[38, array([-4.7756, -1.7756, -3.    ,  0.    ]), array([3, 1, 1, 3, 1, 1, 0, 0, 1, 0, 1, 0, 1, 0, 0, 1], dtype=object)]\n",
      "[35, array([-9.5066, -3.5066, -6.    ,  0.    ]), array([3, 3, 2, 1, 3, 2, 0, 1, 1, 1, 0, 3, 3, 2, 2, 3], dtype=object)]\n",
      "[36, array([-4.7382, -1.7382, -3.    ,  0.    ]), array([3, 3, 2, 1, 3, 2, 0, 0, 1, 1, 0, 3, 3, 2, 2, 3], dtype=object)]\n",
      "[28, array([-9.4174, -3.4174, -6.    ,  0.    ]), array([0, 2, 2, 1, 0, 0, 1, 0, 2, 2, 2, 3, 1, 1, 3, 3], dtype=object)]\n",
      "[39, array([-9.5164, -3.5164, -6.    ,  0.    ]), array([3, 3, 0, 1, 0, 0, 0, 1, 1, 2, 2, 0, 3, 2, 1, 0], dtype=object)]\n",
      "[39, array([-9.4978, -3.4978, -6.    ,  0.    ]), array([3, 0, 1, 3, 0, 1, 0, 0, 1, 0, 0, 0, 1, 3, 0, 0], dtype=object)]\n",
      "[40, array([-9.4434, -3.4434, -6.    ,  0.    ]), array([3, 0, 1, 3, 1, 1, 0, 0, 1, 0, 0, 0, 1, 3, 0, 0], dtype=object)]\n",
      "[40, array([-4.7342, -1.7342, -3.    ,  0.    ]), array([0, 1, 2, 0, 2, 2, 1, 0, 2, 2, 3, 0, 3, 2, 1, 0], dtype=object)]\n",
      "[37, array([-9.4958, -3.4958, -6.    ,  0.    ]), array([3, 3, 2, 1, 3, 2, 0, 1, 1, 1, 0, 3, 3, 2, 2, 3], dtype=object)]\n",
      "[29, array([-9.492, -3.492, -6.   ,  0.   ]), array([2, 1, 0, 2, 1, 0, 1, 0, 1, 1, 0, 3, 1, 1, 3, 2], dtype=object)]\n",
      "[38, array([-9.4496, -3.4496, -6.    ,  0.    ]), array([3, 3, 2, 1, 1, 2, 2, 1, 1, 1, 0, 2, 3, 1, 2, 3], dtype=object)]\n",
      "[30, array([-3.1934, -1.1934, -2.    ,  0.    ]), array([3, 1, 0, 0, 1, 0, 2, 3, 1, 1, 0, 3, 1, 2, 3, 2], dtype=object)]\n",
      "[39, array([-9.493, -3.493, -6.   ,  0.   ]), array([3, 3, 2, 1, 3, 2, 0, 1, 1, 1, 0, 3, 3, 2, 2, 3], dtype=object)]\n",
      "[40, array([-4.7396, -1.7396, -3.    ,  0.    ]), array([3, 0, 2, 1, 3, 2, 1, 1, 1, 1, 0, 3, 1, 1, 2, 3], dtype=object)]\n",
      "[31, array([-9.4794, -3.4794, -6.    ,  0.    ]), array([2, 1, 0, 2, 3, 0, 2, 1, 3, 1, 3, 1, 1, 2, 3, 2], dtype=object)]\n",
      "[32, array([-9.4612, -3.4612, -6.    ,  0.    ]), array([2, 2, 1, 0, 1, 1, 1, 1, 3, 1, 3, 1, 1, 2, 3, 2], dtype=object)]\n",
      "[33, array([-9.4966, -3.4966, -6.    ,  0.    ]), array([2, 2, 3, 0, 1, 1, 1, 1, 3, 1, 3, 1, 1, 2, 3, 2], dtype=object)]\n",
      "[34, array([-9.4612, -3.4612, -6.    ,  0.    ]), array([2, 2, 3, 0, 1, 1, 1, 1, 3, 1, 3, 1, 1, 2, 0, 3], dtype=object)]\n",
      "[35, array([-9.5038, -3.5038, -6.    ,  0.    ]), array([2, 2, 3, 0, 1, 1, 1, 1, 3, 1, 3, 1, 1, 2, 3, 2], dtype=object)]\n",
      "[36, array([-4.7616, -1.7616, -3.    ,  0.    ]), array([2, 2, 3, 0, 1, 1, 1, 1, 3, 1, 3, 1, 1, 2, 0, 2], dtype=object)]\n",
      "[37, array([-9.504, -3.504, -6.   ,  0.   ]), array([2, 2, 3, 0, 1, 1, 1, 1, 3, 1, 3, 1, 1, 2, 3, 2], dtype=object)]\n",
      "[38, array([-9.4838, -3.4838, -6.    ,  0.    ]), array([2, 2, 0, 0, 1, 1, 1, 1, 3, 1, 3, 1, 1, 2, 3, 2], dtype=object)]\n",
      "[39, array([-9.483, -3.483, -6.   ,  0.   ]), array([2, 2, 3, 0, 1, 1, 1, 1, 3, 1, 3, 1, 1, 2, 3, 2], dtype=object)]\n",
      "[40, array([-9.4244, -3.4244, -6.    ,  0.    ]), array([2, 3, 1, 0, 1, 1, 2, 1, 3, 1, 3, 1, 1, 2, 3, 2], dtype=object)]\n"
     ]
    }
   ],
   "source": [
    "x_best, energy_noisy, energy_ideal = claptonize(\n",
    "    paulis,\n",
    "    coeffs,\n",
    "    vqe_pcirc,\n",
    "    trans_pcirc,\n",
    "    n_proc=4,\n",
    "    n_starts=4,\n",
    "    n_rounds=1,\n",
    "    callback=print,\n",
    "    budget=20\n",
    ")"
   ]
  },
  {
   "cell_type": "code",
   "execution_count": 39,
   "metadata": {},
   "outputs": [
    {
     "data": {
      "text/plain": [
       "[3, 3, 2, 1, 3, 2, 0, 1, 1, 1, 0, 3, 3, 2, 2, 3]"
      ]
     },
     "execution_count": 39,
     "metadata": {},
     "output_type": "execute_result"
    }
   ],
   "source": [
    "x_best"
   ]
  },
  {
   "cell_type": "code",
   "execution_count": 45,
   "metadata": {},
   "outputs": [
    {
     "data": {
      "text/html": [
       "<pre>q0: -SQRT_Y_DAG-Z-SWAP-X-I------S-SWAP-SQRT_Y_DAG-Z-----\n",
       "                  |    |          |\n",
       "q1: -SQRT_Y_DAG-S-SWAP-@-SQRT_Y-S-SWAP-Y----------S_DAG-</pre>"
      ],
      "text/plain": [
       "q0: -SQRT_Y_DAG-Z-SWAP-X-I------S-SWAP-SQRT_Y_DAG-Z-----\n",
       "                  |    |          |\n",
       "q1: -SQRT_Y_DAG-S-SWAP-@-SQRT_Y-S-SWAP-Y----------S_DAG-"
      ]
     },
     "execution_count": 45,
     "metadata": {},
     "output_type": "execute_result"
    }
   ],
   "source": [
    "trans_pcirc.assign(x_best).stim_circuit().diagram()"
   ]
  },
  {
   "cell_type": "code",
   "execution_count": 46,
   "metadata": {},
   "outputs": [
    {
     "data": {
      "text/plain": [
       "(np.float64(-9.4444), np.float64(-3.4444), np.float64(-6.0), 0.0)"
      ]
     },
     "execution_count": 46,
     "metadata": {},
     "output_type": "execute_result"
    }
   ],
   "source": [
    "loss_func(x_best, paulis, coeffs, vqe_pcirc, trans_pcirc, return_sublosses=True)"
   ]
  },
  {
   "cell_type": "code",
   "execution_count": null,
   "metadata": {},
   "outputs": [],
   "source": []
  }
 ],
 "metadata": {
  "kernelspec": {
   "display_name": "clapton",
   "language": "python",
   "name": "python3"
  },
  "language_info": {
   "codemirror_mode": {
    "name": "ipython",
    "version": 3
   },
   "file_extension": ".py",
   "mimetype": "text/x-python",
   "name": "python",
   "nbconvert_exporter": "python",
   "pygments_lexer": "ipython3",
   "version": "3.12.5"
  }
 },
 "nbformat": 4,
 "nbformat_minor": 2
}
