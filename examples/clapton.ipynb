{
 "cells": [
  {
   "cell_type": "markdown",
   "metadata": {},
   "source": [
    "# Clapton\n",
    "\n",
    "Read the CAFQA notebook first to understand the basic objects!"
   ]
  },
  {
   "cell_type": "code",
   "execution_count": 1,
   "metadata": {},
   "outputs": [],
   "source": [
    "import sys\n",
    "sys.path.append(\"../\")\n",
    "from clapton.clapton import claptonize\n",
    "from clapton.ansatzes import circular_ansatz\n",
    "from clapton.depolarization import GateGeneralDepolarizationModel\n",
    "from clapton.evaluation import transform_paulis\n",
    "import numpy as np"
   ]
  },
  {
   "cell_type": "code",
   "execution_count": 2,
   "metadata": {},
   "outputs": [],
   "source": [
    "# define Hamiltonian, e.g. 3q Heisenberg model with random coefficients\n",
    "paulis = [\"XXI\", \"IXX\", \"YYI\", \"IYY\", \"ZZI\", \"IZZ\"]\n",
    "coeffs = np.random.random(len(paulis))"
   ]
  },
  {
   "cell_type": "code",
   "execution_count": 3,
   "metadata": {},
   "outputs": [],
   "source": [
    "# define empty VQE Clifford circuit that captures noise but essentially acts as\n",
    "# identity\n",
    "# here we use the circular_ansatz template\n",
    "# we fix 2q gates\n",
    "vqe_pcirc = circular_ansatz(N=len(paulis[0]), reps=1, fix_2q=True)"
   ]
  },
  {
   "cell_type": "code",
   "execution_count": 4,
   "metadata": {},
   "outputs": [
    {
     "data": {
      "text/plain": [
       "<clapton.clifford.ParametrizedCliffordCircuit at 0x1c4bf1f3a10>"
      ]
     },
     "execution_count": 4,
     "metadata": {},
     "output_type": "execute_result"
    }
   ],
   "source": [
    "# let's add a noise model where we specify global 1q and 2q gate errors\n",
    "nm = GateGeneralDepolarizationModel(p1=0.005, p2=0.02)\n",
    "vqe_pcirc.add_depolarization_model(nm)"
   ]
  },
  {
   "cell_type": "code",
   "execution_count": 5,
   "metadata": {},
   "outputs": [
    {
     "data": {
      "text/html": [
       "<pre>q0: -I-DEPOLARIZE1(0.005)--------------------I------------------DEPOLARIZE1(0.005)---------------------------------------X-DEPOLARIZE2(0.02)-@-DEPOLARIZE2(0.02)---I-----------------DEPOLARIZE1(0.005)--------------------I------------------DEPOLARIZE1(0.005)---------------------------------------\n",
       "                                                                                                                         | |                 | |\n",
       "q1: ---I------------------DEPOLARIZE1(0.005)--------------------I------------------DEPOLARIZE1(0.005)--------------------|-|-----------------X-DEPOLARIZE2(0.02)-@-DEPOLARIZE2(0.02)-I------------------DEPOLARIZE1(0.005)--------------------I------------------DEPOLARIZE1(0.005)--------------------\n",
       "                                                                                                                         | |                                     | |\n",
       "q2: ----------------------I------------------DEPOLARIZE1(0.005)--------------------I------------------DEPOLARIZE1(0.005)-@-DEPOLARIZE2(0.02)---------------------X-DEPOLARIZE2(0.02)--------------------I------------------DEPOLARIZE1(0.005)--------------------I------------------DEPOLARIZE1(0.005)-</pre>"
      ],
      "text/plain": [
       "q0: -I-DEPOLARIZE1(0.005)--------------------I------------------DEPOLARIZE1(0.005)---------------------------------------X-DEPOLARIZE2(0.02)-@-DEPOLARIZE2(0.02)---I-----------------DEPOLARIZE1(0.005)--------------------I------------------DEPOLARIZE1(0.005)---------------------------------------\n",
       "                                                                                                                         | |                 | |\n",
       "q1: ---I------------------DEPOLARIZE1(0.005)--------------------I------------------DEPOLARIZE1(0.005)--------------------|-|-----------------X-DEPOLARIZE2(0.02)-@-DEPOLARIZE2(0.02)-I------------------DEPOLARIZE1(0.005)--------------------I------------------DEPOLARIZE1(0.005)--------------------\n",
       "                                                                                                                         | |                                     | |\n",
       "q2: ----------------------I------------------DEPOLARIZE1(0.005)--------------------I------------------DEPOLARIZE1(0.005)-@-DEPOLARIZE2(0.02)---------------------X-DEPOLARIZE2(0.02)--------------------I------------------DEPOLARIZE1(0.005)--------------------I------------------DEPOLARIZE1(0.005)-"
      ]
     },
     "execution_count": 5,
     "metadata": {},
     "output_type": "execute_result"
    }
   ],
   "source": [
    "# we can look at the corresponding stim circuit\n",
    "vqe_pcirc.stim_circuit().diagram()"
   ]
  },
  {
   "cell_type": "code",
   "execution_count": 6,
   "metadata": {},
   "outputs": [],
   "source": [
    "# we need a circuit that parametrizes the Clapton transformation\n",
    "# also use circular ansatz (could be different) but allow optimization over 2q gates\n",
    "trans_pcirc = circular_ansatz(N=len(paulis[0]), reps=1, fix_2q=False)"
   ]
  },
  {
   "cell_type": "code",
   "execution_count": 7,
   "metadata": {},
   "outputs": [
    {
     "name": "stdout",
     "output_type": "stream",
     "text": [
      "STARTING ROUND 0\n",
      "\n",
      "\n",
      "started GA at id None with 1 procs\n",
      "\n"
     ]
    },
    {
     "name": "stderr",
     "output_type": "stream",
     "text": [
      "d:\\research-impl\\clapton\\clapton\\venv\\Lib\\site-packages\\pygad\\pygad.py:1139: UserWarning: The 'delay_after_gen' parameter is deprecated starting from PyGAD 3.3.0. To delay or pause the evolution after each generation, assign a callback function/method to the 'on_generation' parameter to adds some time delay.\n",
      "  warnings.warn(\"The 'delay_after_gen' parameter is deprecated starting from PyGAD 3.3.0. To delay or pause the evolution after each generation, assign a callback function/method to the 'on_generation' parameter to adds some time delay.\")\n"
     ]
    },
    {
     "name": "stdout",
     "output_type": "stream",
     "text": [
      "[0, array([-1.92982046, -0.93421786, -0.9956026 ,  0.        ]), array([1, 2, 3, 3, 3, 2, 0, 0, 0, 3, 3, 2, 3, 1, 1], dtype=object)]\n",
      "[1, array([-3.30118125, -1.57811873, -1.72306252,  0.        ]), array([0, 1, 3, 3, 1, 0, 0, 0, 0, 3, 3, 0, 3, 2, 3], dtype=object)]\n",
      "[2, array([-3.32893646, -1.58126029, -1.74767617,  0.        ]), array([1, 3, 0, 3, 0, 2, 0, 2, 0, 1, 1, 0, 2, 3, 0], dtype=object)]\n",
      "[3, array([-3.31508118, -1.59201866, -1.72306252,  0.        ]), array([0, 3, 3, 1, 1, 2, 0, 0, 0, 1, 0, 0, 3, 2, 3], dtype=object)]\n",
      "[4, array([-3.29287221, -1.56980969, -1.72306252,  0.        ]), array([0, 3, 3, 1, 1, 2, 0, 0, 0, 1, 2, 0, 3, 2, 3], dtype=object)]\n",
      "[5, array([-3.32550891, -1.60244639, -1.72306252,  0.        ]), array([0, 3, 3, 1, 1, 2, 0, 0, 0, 1, 0, 0, 3, 2, 3], dtype=object)]\n",
      "[6, array([-3.29630188, -1.57323936, -1.72306252,  0.        ]), array([1, 2, 1, 3, 3, 2, 0, 0, 3, 0, 2, 1, 2, 3, 3], dtype=object)]\n",
      "[7, array([-3.3243508 , -1.60128828, -1.72306252,  0.        ]), array([0, 3, 3, 1, 1, 2, 0, 0, 0, 1, 0, 0, 3, 2, 3], dtype=object)]\n",
      "[8, array([-2.6209716 , -1.24195157, -1.37902002,  0.        ]), array([0, 2, 3, 1, 3, 3, 0, 0, 2, 1, 0, 0, 3, 2, 3], dtype=object)]\n",
      "[9, array([-3.32930512, -1.6062426 , -1.72306252,  0.        ]), array([0, 1, 3, 3, 1, 0, 0, 0, 0, 3, 3, 0, 3, 2, 3], dtype=object)]\n",
      "[10, array([-2.62967433, -1.2506543 , -1.37902002,  0.        ]), array([0, 2, 3, 0, 2, 2, 2, 0, 2, 1, 0, 0, 0, 1, 3], dtype=object)]\n",
      "[11, array([-3.32716933, -1.60410681, -1.72306252,  0.        ]), array([0, 3, 3, 1, 1, 2, 0, 0, 0, 1, 0, 0, 3, 2, 3], dtype=object)]\n",
      "[12, array([-2.24060128, -1.0503803 , -1.19022097,  0.        ]), array([0, 3, 3, 3, 0, 0, 3, 2, 0, 3, 3, 2, 2, 3, 2], dtype=object)]\n",
      "[13, array([-3.33688969, -1.61382717, -1.72306252,  0.        ]), array([0, 1, 3, 3, 1, 0, 0, 0, 0, 3, 3, 0, 3, 2, 3], dtype=object)]\n",
      "[14, array([-3.31484601, -1.56716984, -1.74767617,  0.        ]), array([0, 1, 0, 3, 3, 0, 0, 2, 0, 2, 0, 0, 3, 0, 3], dtype=object)]\n",
      "[15, array([-3.33525181, -1.61218929, -1.72306252,  0.        ]), array([0, 3, 3, 1, 1, 2, 0, 0, 0, 1, 0, 0, 3, 2, 3], dtype=object)]\n",
      "[16, array([-3.3183771 , -1.59531458, -1.72306252,  0.        ]), array([0, 1, 3, 3, 1, 0, 0, 0, 0, 3, 0, 0, 3, 2, 3], dtype=object)]\n",
      "[17, array([-3.32375352, -1.60069101, -1.72306252,  0.        ]), array([0, 1, 3, 3, 1, 0, 0, 0, 0, 3, 3, 0, 3, 2, 3], dtype=object)]\n",
      "[18, array([-3.32648182, -1.6034193 , -1.72306252,  0.        ]), array([0, 1, 3, 3, 1, 0, 0, 0, 0, 3, 2, 0, 3, 2, 3], dtype=object)]\n",
      "[19, array([-3.33410586, -1.5864297 , -1.74767617,  0.        ]), array([0, 1, 0, 3, 3, 0, 0, 2, 0, 2, 0, 0, 3, 0, 3], dtype=object)]\n",
      "[20, array([-3.34061789, -1.59294173, -1.74767617,  0.        ]), array([0, 1, 0, 3, 3, 0, 0, 2, 2, 2, 0, 0, 3, 0, 3], dtype=object)]\n",
      "[21, array([-3.33799631, -1.59032014, -1.74767617,  0.        ]), array([0, 1, 0, 3, 3, 0, 0, 2, 0, 2, 0, 0, 3, 0, 3], dtype=object)]\n",
      "[22, array([-3.35152037, -1.60384421, -1.74767617,  0.        ]), array([0, 1, 3, 3, 3, 0, 0, 2, 0, 2, 0, 0, 3, 0, 3], dtype=object)]\n",
      "[23, array([-3.35273677, -1.6050606 , -1.74767617,  0.        ]), array([0, 1, 0, 2, 3, 0, 0, 2, 0, 2, 0, 0, 3, 0, 3], dtype=object)]\n",
      "[24, array([-3.33930616, -1.59162999, -1.74767617,  0.        ]), array([0, 1, 0, 3, 3, 0, 0, 2, 0, 2, 0, 0, 2, 3, 0], dtype=object)]\n",
      "[25, array([-3.3423449 , -1.59466873, -1.74767617,  0.        ]), array([1, 3, 0, 3, 0, 2, 0, 2, 0, 1, 1, 0, 3, 0, 3], dtype=object)]\n",
      "[26, array([-3.35263774, -1.60496157, -1.74767617,  0.        ]), array([1, 3, 0, 3, 0, 0, 0, 2, 0, 1, 1, 0, 2, 3, 0], dtype=object)]\n",
      "[27, array([-3.3598916 , -1.61221544, -1.74767617,  0.        ]), array([1, 3, 0, 3, 0, 2, 0, 2, 0, 1, 1, 0, 3, 0, 3], dtype=object)]\n",
      "[28, array([-3.36636007, -1.61868391, -1.74767617,  0.        ]), array([0, 1, 3, 3, 3, 0, 0, 2, 0, 2, 0, 0, 2, 3, 0], dtype=object)]\n",
      "[29, array([-3.35070742, -1.60303125, -1.74767617,  0.        ]), array([1, 3, 0, 3, 0, 2, 0, 2, 0, 1, 1, 0, 2, 3, 0], dtype=object)]\n",
      "[30, array([-3.33857276, -1.5908966 , -1.74767617,  0.        ]), array([1, 3, 1, 3, 0, 2, 0, 2, 0, 1, 1, 0, 2, 3, 0], dtype=object)]\n",
      "[31, array([-3.35391933, -1.60624317, -1.74767617,  0.        ]), array([0, 1, 3, 3, 3, 0, 0, 2, 0, 2, 0, 0, 3, 0, 3], dtype=object)]\n",
      "[32, array([-3.34658532, -1.59890916, -1.74767617,  0.        ]), array([1, 3, 0, 3, 0, 0, 0, 2, 0, 1, 1, 0, 3, 0, 0], dtype=object)]\n",
      "[33, array([-3.36883085, -1.62115468, -1.74767617,  0.        ]), array([0, 1, 3, 3, 3, 0, 0, 2, 0, 2, 0, 0, 2, 3, 0], dtype=object)]\n",
      "[34, array([-3.34616141, -1.59848524, -1.74767617,  0.        ]), array([1, 3, 1, 3, 0, 2, 0, 2, 0, 1, 1, 0, 2, 3, 0], dtype=object)]\n",
      "[35, array([-3.36403139, -1.61635522, -1.74767617,  0.        ]), array([1, 3, 1, 3, 0, 2, 0, 2, 0, 1, 1, 0, 3, 0, 0], dtype=object)]\n",
      "[36, array([-3.35677972, -1.60910355, -1.74767617,  0.        ]), array([0, 1, 3, 3, 3, 3, 0, 2, 0, 2, 0, 0, 2, 3, 0], dtype=object)]\n",
      "[37, array([-3.36262989, -1.61495372, -1.74767617,  0.        ]), array([0, 1, 3, 3, 3, 0, 0, 2, 0, 2, 0, 0, 2, 3, 0], dtype=object)]\n",
      "[38, array([-3.34656824, -1.59889207, -1.74767617,  0.        ]), array([1, 3, 0, 3, 0, 0, 0, 2, 0, 1, 1, 0, 3, 0, 0], dtype=object)]\n",
      "[39, array([-3.37532271, -1.62764654, -1.74767617,  0.        ]), array([0, 1, 3, 3, 3, 0, 0, 2, 0, 2, 0, 0, 2, 3, 0], dtype=object)]\n",
      "[40, array([-3.35982226, -1.61214609, -1.74767617,  0.        ]), array([0, 1, 3, 3, 3, 0, 0, 2, 0, 2, 0, 0, 2, 3, 2], dtype=object)]\n"
     ]
    }
   ],
   "source": [
    "# we can perform Clapton by using the main optimization function \"claptonize\"\n",
    "# vqe_pcirc will stay fixed, optimization happens over trans_pcirc\n",
    "ks_best, energy_noisy, energy_noiseless = claptonize(\n",
    "    paulis,\n",
    "    coeffs,\n",
    "    vqe_pcirc,\n",
    "    trans_pcirc,        # specify transformation circuit\n",
    "    n_proc=4,           # total number of processes in parallel\n",
    "    n_starts=4,         # number of random genetic algorithm starts in parallel\n",
    "    n_rounds=1,         # number of budget rounds, if None it will terminate itself\n",
    "    callback=print,     # callback for internal parameter (#iteration, energies, ks) processing\n",
    "    budget=20           # budget per genetic algorithm instance\n",
    ")"
   ]
  },
  {
   "cell_type": "code",
   "execution_count": 8,
   "metadata": {},
   "outputs": [
    {
     "data": {
      "text/plain": [
       "[3, 3, 1, 1, 1, 0, 0, 1, 1, 1, 2, 3, 3, 2, 3]"
      ]
     },
     "execution_count": 8,
     "metadata": {},
     "output_type": "execute_result"
    }
   ],
   "source": [
    "# the best parameters are\n",
    "ks_best"
   ]
  },
  {
   "cell_type": "code",
   "execution_count": 9,
   "metadata": {},
   "outputs": [
    {
     "data": {
      "text/plain": [
       "(np.float64(-1.601676640736366), np.float64(-1.747676167007962))"
      ]
     },
     "execution_count": 9,
     "metadata": {},
     "output_type": "execute_result"
    }
   ],
   "source": [
    "# with noisy/noiseless energies\n",
    "energy_noisy, energy_noiseless"
   ]
  },
  {
   "cell_type": "code",
   "execution_count": 10,
   "metadata": {},
   "outputs": [
    {
     "data": {
      "text/html": [
       "<pre>q0: -SQRT_Y_DAG-S-@-SQRT_Y-S_DAG------------\n",
       "                  |\n",
       "q1: -SQRT_Y_DAG-S-X-@------Y----------Z-----\n",
       "                    |\n",
       "q2: -SQRT_Y-----I---X------SQRT_Y_DAG-S_DAG-</pre>"
      ],
      "text/plain": [
       "q0: -SQRT_Y_DAG-S-@-SQRT_Y-S_DAG------------\n",
       "                  |\n",
       "q1: -SQRT_Y_DAG-S-X-@------Y----------Z-----\n",
       "                    |\n",
       "q2: -SQRT_Y-----I---X------SQRT_Y_DAG-S_DAG-"
      ]
     },
     "execution_count": 10,
     "metadata": {},
     "output_type": "execute_result"
    }
   ],
   "source": [
    "# the transformation circuit is\n",
    "trans_pcirc.assign(ks_best)\n",
    "trans_pcirc.stim_circuit().diagram()"
   ]
  },
  {
   "cell_type": "code",
   "execution_count": 11,
   "metadata": {},
   "outputs": [
    {
     "data": {
      "text/plain": [
       "(['ZIZ', 'XZX', 'IZZ', 'IYY', 'ZZI', 'XXZ'],\n",
       " array([-0.16311038,  0.05030232, -0.72745992,  0.9956026 , -0.85710587,\n",
       "        -0.3331151 ]))"
      ]
     },
     "execution_count": 11,
     "metadata": {},
     "output_type": "execute_result"
    }
   ],
   "source": [
    "# the transformed Hamiltonian is given by\n",
    "paulis_new, signs = transform_paulis(trans_pcirc.stim_circuit(), paulis, replace_I=True)\n",
    "coeffs_new = np.multiply(coeffs, signs)\n",
    "paulis_new, coeffs_new"
   ]
  }
 ],
 "metadata": {
  "kernelspec": {
   "display_name": "venv",
   "language": "python",
   "name": "python3"
  },
  "language_info": {
   "codemirror_mode": {
    "name": "ipython",
    "version": 3
   },
   "file_extension": ".py",
   "mimetype": "text/x-python",
   "name": "python",
   "nbconvert_exporter": "python",
   "pygments_lexer": "ipython3",
   "version": "3.13.2"
  }
 },
 "nbformat": 4,
 "nbformat_minor": 2
}
