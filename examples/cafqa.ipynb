{
 "cells": [
  {
   "cell_type": "markdown",
   "metadata": {},
   "source": [
    "# CAFQA"
   ]
  },
  {
   "cell_type": "code",
   "execution_count": 22,
   "metadata": {},
   "outputs": [],
   "source": [
    "import sys\n",
    "sys.path.append(\"../\")\n",
    "from clapton.clapton import claptonize\n",
    "from clapton.ansatzes import circular_ansatz\n",
    "import numpy as np"
   ]
  },
  {
   "cell_type": "code",
   "execution_count": 23,
   "metadata": {},
   "outputs": [
    {
     "name": "stdout",
     "output_type": "stream",
     "text": [
      "[0.37454012 0.95071431 0.73199394 0.59865848 0.15601864 0.15599452]\n"
     ]
    }
   ],
   "source": [
    "# define Hamiltonian, e.g. 3q Heisenberg model with random coefficients\n",
    "paulis = [\"XXI\", \"IXX\", \"YYI\", \"IYY\", \"ZZI\", \"IZZ\"]\n",
    "np.random.seed(42)  # You can replace 42 with any integer seed\n",
    "coeffs = np.random.random(len(paulis))\n",
    "# coeffs = np.ones((len(paulis)))\n",
    "print(coeffs)"
   ]
  },
  {
   "cell_type": "code",
   "execution_count": 24,
   "metadata": {},
   "outputs": [],
   "source": [
    "# define parametrized Clifford circuit that is being optimized over\n",
    "# here we use the circular_ansatz template\n",
    "# we fix 2q gates as they will not be optimized over\n",
    "vqe_pcirc = circular_ansatz(N=len(paulis[0]), reps=1, fix_2q=True)"
   ]
  },
  {
   "cell_type": "code",
   "execution_count": 25,
   "metadata": {},
   "outputs": [
    {
     "name": "stdout",
     "output_type": "stream",
     "text": [
      "RY False\n",
      "RY False\n",
      "RY False\n",
      "RZ False\n",
      "RZ False\n",
      "RZ False\n",
      "2Q True\n",
      "2Q True\n",
      "2Q True\n",
      "RY False\n",
      "RY False\n",
      "RY False\n",
      "RZ False\n",
      "RZ False\n",
      "RZ False\n"
     ]
    }
   ],
   "source": [
    "# the circuit consists of parametrized gates\n",
    "for gate in vqe_pcirc.gates:\n",
    "    print(gate.label, gate.is_fixed())"
   ]
  },
  {
   "cell_type": "code",
   "execution_count": 26,
   "metadata": {},
   "outputs": [],
   "source": [
    "# non-fixed gates will be optimized over\n",
    "# RY and RZ gates can assume 4 values k = 0,1,2,3 which descripe multiples of pi/2"
   ]
  },
  {
   "cell_type": "code",
   "execution_count": 27,
   "metadata": {},
   "outputs": [
    {
     "data": {
      "text/plain": [
       "[0, 0, 0, 0, 0, 0, 0, 0, 0, 0, 0, 0]"
      ]
     },
     "execution_count": 27,
     "metadata": {},
     "output_type": "execute_result"
    }
   ],
   "source": [
    "# the initial parameters are all 0\n",
    "vqe_pcirc.read()"
   ]
  },
  {
   "cell_type": "code",
   "execution_count": 28,
   "metadata": {},
   "outputs": [
    {
     "data": {
      "text/html": [
       "<pre>q0: -I-I-X-@-I-I---\n",
       "         | |\n",
       "q1: -I-I-|-X-@-I-I-\n",
       "         |   |\n",
       "q2: -I-I-@---X-I-I-</pre>"
      ],
      "text/plain": [
       "q0: -I-I-X-@-I-I---\n",
       "         | |\n",
       "q1: -I-I-|-X-@-I-I-\n",
       "         |   |\n",
       "q2: -I-I-@---X-I-I-"
      ]
     },
     "execution_count": 28,
     "metadata": {},
     "output_type": "execute_result"
    }
   ],
   "source": [
    "# we can look at the corresponding stim circuit\n",
    "vqe_pcirc.stim_circuit().diagram()"
   ]
  },
  {
   "cell_type": "code",
   "execution_count": 29,
   "metadata": {},
   "outputs": [
    {
     "data": {
      "text/plain": [
       "<clapton.clifford.ParametrizedCliffordCircuit at 0x21f3d04bb10>"
      ]
     },
     "execution_count": 29,
     "metadata": {},
     "output_type": "execute_result"
    }
   ],
   "source": [
    "# we can assign a different set of parameters\n",
    "vqe_pcirc.assign([0,1,2,3,0,1,2,3,0,1,2,3])"
   ]
  },
  {
   "cell_type": "code",
   "execution_count": 30,
   "metadata": {},
   "outputs": [
    {
     "data": {
      "text/html": [
       "<pre>q0: -I------S_DAG-X-@-Y-S----------------\n",
       "                  | |\n",
       "q1: -SQRT_Y-I-----|-X-@-SQRT_Y_DAG-Z-----\n",
       "                  |   |\n",
       "q2: -Y------S-----@---X-I----------S_DAG-</pre>"
      ],
      "text/plain": [
       "q0: -I------S_DAG-X-@-Y-S----------------\n",
       "                  | |\n",
       "q1: -SQRT_Y-I-----|-X-@-SQRT_Y_DAG-Z-----\n",
       "                  |   |\n",
       "q2: -Y------S-----@---X-I----------S_DAG-"
      ]
     },
     "execution_count": 30,
     "metadata": {},
     "output_type": "execute_result"
    }
   ],
   "source": [
    "vqe_pcirc.stim_circuit().diagram()"
   ]
  },
  {
   "cell_type": "code",
   "execution_count": 31,
   "metadata": {},
   "outputs": [
    {
     "name": "stdout",
     "output_type": "stream",
     "text": [
      "STARTING ROUND 0\n",
      "\n",
      "\n",
      "started GA at id None with 1 procs\n",
      "\n",
      "[0, array([-2.66130485, -1.33065243, -1.33065243,  0.        ]), array([0, 2, 2, 2, 0, 2, 3, 3, 3, 3, 3, 3], dtype=object)]\n",
      "[1, array([-3.41073462, -1.70536731, -1.70536731,  0.        ]), array([0, 1, 2, 0, 3, 1, 2, 2, 2, 2, 3, 0], dtype=object)]\n",
      "[2, array([-3.41073462, -1.70536731, -1.70536731,  0.        ]), array([0, 1, 2, 0, 3, 1, 2, 2, 2, 2, 3, 0], dtype=object)]\n",
      "[3, array([-3.41073462, -1.70536731, -1.70536731,  0.        ]), array([1, 3, 0, 0, 2, 0, 3, 0, 2, 2, 2, 2], dtype=object)]\n",
      "[4, array([-3.41073462, -1.70536731, -1.70536731,  0.        ]), array([1, 3, 0, 0, 2, 0, 3, 0, 2, 2, 2, 2], dtype=object)]\n",
      "[5, array([-3.41073462, -1.70536731, -1.70536731,  0.        ]), array([3, 1, 2, 1, 2, 0, 3, 3, 3, 0, 0, 0], dtype=object)]\n",
      "[6, array([-3.41073462, -1.70536731, -1.70536731,  0.        ]), array([3, 1, 2, 1, 2, 0, 3, 3, 3, 0, 0, 0], dtype=object)]\n",
      "[7, array([-3.41073462, -1.70536731, -1.70536731,  0.        ]), array([0, 1, 2, 1, 2, 0, 3, 3, 3, 0, 0, 0], dtype=object)]\n",
      "[8, array([-3.41073462, -1.70536731, -1.70536731,  0.        ]), array([0, 1, 2, 1, 2, 0, 3, 3, 3, 0, 0, 0], dtype=object)]\n",
      "[9, array([-3.41073462, -1.70536731, -1.70536731,  0.        ]), array([0, 1, 2, 0, 3, 1, 2, 2, 2, 2, 3, 0], dtype=object)]\n",
      "[10, array([-3.41073462, -1.70536731, -1.70536731,  0.        ]), array([0, 1, 2, 2, 3, 0, 0, 2, 2, 2, 3, 0], dtype=object)]\n",
      "[11, array([-3.41073462, -1.70536731, -1.70536731,  0.        ]), array([0, 1, 2, 1, 2, 0, 3, 3, 3, 0, 0, 0], dtype=object)]\n",
      "[12, array([-3.41073462, -1.70536731, -1.70536731,  0.        ]), array([2, 3, 0, 1, 2, 1, 3, 3, 1, 0, 0, 0], dtype=object)]\n",
      "[13, array([-3.41073462, -1.70536731, -1.70536731,  0.        ]), array([0, 1, 2, 2, 3, 0, 0, 2, 2, 1, 3, 0], dtype=object)]\n",
      "[14, array([-3.41073462, -1.70536731, -1.70536731,  0.        ]), array([0, 1, 2, 3, 3, 0, 0, 2, 2, 1, 3, 0], dtype=object)]\n",
      "[15, array([-3.41073462, -1.70536731, -1.70536731,  0.        ]), array([0, 1, 2, 2, 2, 0, 3, 3, 3, 0, 0, 0], dtype=object)]\n",
      "[16, array([-3.41073462, -1.70536731, -1.70536731,  0.        ]), array([0, 1, 2, 3, 3, 0, 0, 2, 2, 0, 3, 0], dtype=object)]\n",
      "[17, array([-3.41073462, -1.70536731, -1.70536731,  0.        ]), array([0, 1, 2, 2, 3, 0, 0, 2, 2, 1, 3, 0], dtype=object)]\n",
      "[18, array([-3.41073462, -1.70536731, -1.70536731,  0.        ]), array([0, 1, 2, 1, 3, 0, 3, 2, 2, 0, 3, 0], dtype=object)]\n",
      "[19, array([-3.41073462, -1.70536731, -1.70536731,  0.        ]), array([0, 1, 2, 2, 3, 0, 0, 2, 2, 1, 3, 0], dtype=object)]\n",
      "[20, array([-3.41073462, -1.70536731, -1.70536731,  0.        ]), array([0, 1, 2, 2, 3, 0, 0, 2, 2, 2, 3, 0], dtype=object)]\n",
      "[21, array([-3.41073462, -1.70536731, -1.70536731,  0.        ]), array([0, 1, 2, 2, 3, 0, 0, 2, 2, 0, 3, 0], dtype=object)]\n",
      "[22, array([-3.41073462, -1.70536731, -1.70536731,  0.        ]), array([0, 1, 2, 1, 3, 0, 0, 2, 2, 1, 3, 0], dtype=object)]\n",
      "[23, array([-3.41073462, -1.70536731, -1.70536731,  0.        ]), array([0, 1, 2, 1, 2, 0, 3, 3, 3, 0, 0, 0], dtype=object)]\n",
      "[24, array([-3.41073462, -1.70536731, -1.70536731,  0.        ]), array([0, 1, 2, 2, 2, 0, 3, 3, 3, 0, 0, 0], dtype=object)]\n",
      "[25, array([-3.41073462, -1.70536731, -1.70536731,  0.        ]), array([0, 1, 2, 0, 3, 0, 0, 2, 2, 0, 3, 0], dtype=object)]\n",
      "[26, array([-3.41073462, -1.70536731, -1.70536731,  0.        ]), array([0, 1, 2, 2, 3, 0, 0, 2, 2, 1, 3, 0], dtype=object)]\n",
      "[27, array([-3.41073462, -1.70536731, -1.70536731,  0.        ]), array([0, 1, 2, 1, 2, 0, 3, 3, 3, 0, 0, 0], dtype=object)]\n",
      "[28, array([-3.41073462, -1.70536731, -1.70536731,  0.        ]), array([0, 1, 2, 2, 2, 0, 2, 3, 3, 0, 0, 0], dtype=object)]\n",
      "[29, array([-3.41073462, -1.70536731, -1.70536731,  0.        ]), array([0, 1, 2, 2, 3, 0, 0, 2, 2, 0, 3, 0], dtype=object)]\n",
      "[30, array([-3.41073462, -1.70536731, -1.70536731,  0.        ]), array([0, 1, 2, 2, 3, 0, 2, 2, 2, 0, 3, 0], dtype=object)]\n",
      "[31, array([-3.41073462, -1.70536731, -1.70536731,  0.        ]), array([0, 1, 2, 1, 2, 0, 3, 3, 3, 0, 0, 0], dtype=object)]\n",
      "[32, array([-3.41073462, -1.70536731, -1.70536731,  0.        ]), array([0, 1, 2, 1, 2, 2, 3, 3, 3, 0, 0, 0], dtype=object)]\n",
      "[33, array([-3.41073462, -1.70536731, -1.70536731,  0.        ]), array([0, 1, 2, 1, 3, 0, 0, 2, 2, 0, 3, 0], dtype=object)]\n",
      "[34, array([-3.41073462, -1.70536731, -1.70536731,  0.        ]), array([0, 1, 2, 2, 3, 2, 0, 2, 2, 0, 3, 0], dtype=object)]\n",
      "[35, array([-3.41073462, -1.70536731, -1.70536731,  0.        ]), array([0, 1, 2, 2, 3, 2, 0, 2, 2, 0, 3, 0], dtype=object)]\n",
      "[36, array([-3.41073462, -1.70536731, -1.70536731,  0.        ]), array([0, 1, 2, 1, 3, 1, 0, 2, 2, 0, 3, 0], dtype=object)]\n",
      "[37, array([-3.41073462, -1.70536731, -1.70536731,  0.        ]), array([0, 1, 2, 2, 3, 0, 0, 2, 2, 0, 3, 0], dtype=object)]\n",
      "[38, array([-3.41073462, -1.70536731, -1.70536731,  0.        ]), array([0, 1, 2, 0, 3, 3, 2, 2, 2, 3, 3, 0], dtype=object)]\n",
      "[39, array([-3.41073462, -1.70536731, -1.70536731,  0.        ]), array([0, 1, 2, 0, 3, 0, 2, 2, 2, 0, 3, 0], dtype=object)]\n",
      "[40, array([-3.41073462, -1.70536731, -1.70536731,  0.        ]), array([0, 1, 2, 3, 3, 0, 1, 2, 2, 3, 3, 0], dtype=object)]\n"
     ]
    }
   ],
   "source": [
    "# we can perform CAFQA by using the main optimization function \"claptonize\"\n",
    "ks_best, _, energy_best = claptonize(\n",
    "    paulis,\n",
    "    coeffs,\n",
    "    vqe_pcirc,\n",
    "    n_proc=4,           # total number of processes in parallel\n",
    "    n_starts=4,         # number of random genetic algorithm starts in parallel\n",
    "    n_rounds=1,         # number of budget rounds, if None it will terminate itself\n",
    "    callback=print,     # callback for internal parameter (#iteration, energies, ks) processing\n",
    "    budget=20           # budget per genetic algorithm instance\n",
    ")"
   ]
  },
  {
   "cell_type": "code",
   "execution_count": 32,
   "metadata": {},
   "outputs": [
    {
     "data": {
      "text/plain": [
       "[0, 1, 2, 0, 3, 0, 0, 2, 2, 0, 3, 0]"
      ]
     },
     "execution_count": 32,
     "metadata": {},
     "output_type": "execute_result"
    }
   ],
   "source": [
    "# the best parameters are\n",
    "ks_best"
   ]
  },
  {
   "cell_type": "code",
   "execution_count": 33,
   "metadata": {},
   "outputs": [
    {
     "data": {
      "text/plain": [
       "np.float64(-1.7053673109431555)"
      ]
     },
     "execution_count": 33,
     "metadata": {},
     "output_type": "execute_result"
    }
   ],
   "source": [
    "# with energy\n",
    "energy_best"
   ]
  },
  {
   "cell_type": "code",
   "execution_count": 34,
   "metadata": {},
   "outputs": [
    {
     "data": {
      "text/html": [
       "<pre>q0: -I------I-----X-@-I-I-------\n",
       "                  | |\n",
       "q1: -SQRT_Y-S_DAG-|-X-@-Y-S_DAG-\n",
       "                  |   |\n",
       "q2: -Y------I-----@---X-Y-I-----</pre>"
      ],
      "text/plain": [
       "q0: -I------I-----X-@-I-I-------\n",
       "                  | |\n",
       "q1: -SQRT_Y-S_DAG-|-X-@-Y-S_DAG-\n",
       "                  |   |\n",
       "q2: -Y------I-----@---X-Y-I-----"
      ]
     },
     "execution_count": 34,
     "metadata": {},
     "output_type": "execute_result"
    }
   ],
   "source": [
    "# the corresponding circuit is\n",
    "vqe_pcirc.assign(ks_best)\n",
    "vqe_pcirc.stim_circuit().diagram()"
   ]
  },
  {
   "cell_type": "code",
   "execution_count": null,
   "metadata": {},
   "outputs": [],
   "source": []
  },
  {
   "cell_type": "markdown",
   "metadata": {},
   "source": [
    "# noisy CAFQA (nCAFQA)"
   ]
  },
  {
   "cell_type": "code",
   "execution_count": 35,
   "metadata": {},
   "outputs": [],
   "source": [
    "from clapton.depolarization import GateGeneralDepolarizationModel"
   ]
  },
  {
   "cell_type": "code",
   "execution_count": 36,
   "metadata": {},
   "outputs": [],
   "source": [
    "# let's add a noise model where we specify global 1q and 2q gate errors\n",
    "nm = GateGeneralDepolarizationModel(p1=0.005, p2=0.02)"
   ]
  },
  {
   "cell_type": "code",
   "execution_count": 37,
   "metadata": {},
   "outputs": [
    {
     "data": {
      "text/plain": [
       "<clapton.clifford.ParametrizedCliffordCircuit at 0x21f3d105a70>"
      ]
     },
     "execution_count": 37,
     "metadata": {},
     "output_type": "execute_result"
    }
   ],
   "source": [
    "vqe_pcirc = circular_ansatz(N=len(paulis[0]), reps=1, fix_2q=True)\n",
    "vqe_pcirc.add_depolarization_model(nm)"
   ]
  },
  {
   "cell_type": "code",
   "execution_count": 38,
   "metadata": {},
   "outputs": [
    {
     "data": {
      "text/html": [
       "<pre>q0: -I-DEPOLARIZE1(0.005)--------------------I------------------DEPOLARIZE1(0.005)---------------------------------------X-DEPOLARIZE2(0.02)-@-DEPOLARIZE2(0.02)---I-----------------DEPOLARIZE1(0.005)--------------------I------------------DEPOLARIZE1(0.005)---------------------------------------\n",
       "                                                                                                                         | |                 | |\n",
       "q1: ---I------------------DEPOLARIZE1(0.005)--------------------I------------------DEPOLARIZE1(0.005)--------------------|-|-----------------X-DEPOLARIZE2(0.02)-@-DEPOLARIZE2(0.02)-I------------------DEPOLARIZE1(0.005)--------------------I------------------DEPOLARIZE1(0.005)--------------------\n",
       "                                                                                                                         | |                                     | |\n",
       "q2: ----------------------I------------------DEPOLARIZE1(0.005)--------------------I------------------DEPOLARIZE1(0.005)-@-DEPOLARIZE2(0.02)---------------------X-DEPOLARIZE2(0.02)--------------------I------------------DEPOLARIZE1(0.005)--------------------I------------------DEPOLARIZE1(0.005)-</pre>"
      ],
      "text/plain": [
       "q0: -I-DEPOLARIZE1(0.005)--------------------I------------------DEPOLARIZE1(0.005)---------------------------------------X-DEPOLARIZE2(0.02)-@-DEPOLARIZE2(0.02)---I-----------------DEPOLARIZE1(0.005)--------------------I------------------DEPOLARIZE1(0.005)---------------------------------------\n",
       "                                                                                                                         | |                 | |\n",
       "q1: ---I------------------DEPOLARIZE1(0.005)--------------------I------------------DEPOLARIZE1(0.005)--------------------|-|-----------------X-DEPOLARIZE2(0.02)-@-DEPOLARIZE2(0.02)-I------------------DEPOLARIZE1(0.005)--------------------I------------------DEPOLARIZE1(0.005)--------------------\n",
       "                                                                                                                         | |                                     | |\n",
       "q2: ----------------------I------------------DEPOLARIZE1(0.005)--------------------I------------------DEPOLARIZE1(0.005)-@-DEPOLARIZE2(0.02)---------------------X-DEPOLARIZE2(0.02)--------------------I------------------DEPOLARIZE1(0.005)--------------------I------------------DEPOLARIZE1(0.005)-"
      ]
     },
     "execution_count": 38,
     "metadata": {},
     "output_type": "execute_result"
    }
   ],
   "source": [
    "# after every gate a depol channel is added\n",
    "vqe_pcirc.stim_circuit().diagram()"
   ]
  },
  {
   "cell_type": "code",
   "execution_count": 39,
   "metadata": {},
   "outputs": [
    {
     "name": "stdout",
     "output_type": "stream",
     "text": [
      "STARTING ROUND 0\n",
      "\n",
      "\n",
      "started GA at id None with 1 procs\n",
      "\n",
      "[0, array([-3.20981578, -1.50444847, -1.70536731,  0.        ]), array([1, 3, 0, 2, 2, 2, 0, 1, 3, 2, 2, 2], dtype=object)]\n",
      "[1, array([-2.49820059, -1.17294616, -1.32525443,  0.        ]), array([3, 2, 1, 0, 0, 1, 1, 1, 0, 0, 0, 3], dtype=object)]\n",
      "[2, array([-3.21713609, -1.51176878, -1.70536731,  0.        ]), array([0, 3, 0, 0, 2, 3, 0, 1, 3, 2, 3, 3], dtype=object)]\n",
      "[3, array([-3.23320295, -1.52783564, -1.70536731,  0.        ]), array([1, 3, 0, 2, 2, 2, 0, 1, 3, 2, 2, 2], dtype=object)]\n",
      "[4, array([-3.23290467, -1.52753736, -1.70536731,  0.        ]), array([3, 1, 0, 3, 0, 0, 0, 1, 3, 2, 2, 2], dtype=object)]\n",
      "[5, array([-3.23346902, -1.52810171, -1.70536731,  0.        ]), array([1, 3, 0, 2, 2, 2, 0, 1, 3, 2, 2, 2], dtype=object)]\n",
      "[6, array([-3.23598395, -1.53061664, -1.70536731,  0.        ]), array([1, 3, 0, 2, 2, 2, 0, 1, 3, 1, 2, 2], dtype=object)]\n",
      "[7, array([-3.23818388, -1.53281657, -1.70536731,  0.        ]), array([0, 3, 0, 1, 2, 1, 3, 1, 3, 1, 2, 2], dtype=object)]\n",
      "[8, array([-3.23331805, -1.52795074, -1.70536731,  0.        ]), array([0, 1, 0, 3, 0, 0, 0, 1, 3, 2, 2, 2], dtype=object)]\n",
      "[9, array([-3.2399559 , -1.53458859, -1.70536731,  0.        ]), array([1, 3, 0, 2, 2, 2, 0, 1, 3, 2, 2, 2], dtype=object)]\n",
      "[10, array([-3.23583984, -1.53047253, -1.70536731,  0.        ]), array([3, 1, 0, 3, 0, 0, 0, 1, 3, 1, 2, 2], dtype=object)]\n",
      "[11, array([-3.24832568, -1.54295837, -1.70536731,  0.        ]), array([3, 1, 0, 3, 0, 0, 0, 1, 3, 2, 2, 2], dtype=object)]\n",
      "[12, array([-3.24041486, -1.53504755, -1.70536731,  0.        ]), array([3, 3, 0, 2, 2, 0, 0, 1, 3, 2, 2, 2], dtype=object)]\n",
      "[13, array([-3.25057363, -1.54520632, -1.70536731,  0.        ]), array([1, 3, 0, 2, 2, 2, 0, 1, 3, 1, 2, 2], dtype=object)]\n",
      "[14, array([-3.23515513, -1.52978782, -1.70536731,  0.        ]), array([1, 3, 0, 2, 2, 0, 0, 1, 3, 2, 2, 2], dtype=object)]\n",
      "[15, array([-3.24708874, -1.54172143, -1.70536731,  0.        ]), array([1, 3, 0, 2, 2, 2, 0, 1, 3, 1, 2, 2], dtype=object)]\n",
      "[16, array([-3.23179282, -1.5264255 , -1.70536731,  0.        ]), array([3, 3, 0, 2, 2, 2, 1, 1, 3, 1, 2, 2], dtype=object)]\n",
      "[17, array([-3.24809838, -1.54273107, -1.70536731,  0.        ]), array([1, 3, 0, 2, 2, 2, 0, 1, 3, 1, 2, 2], dtype=object)]\n",
      "[18, array([-3.23744918, -1.53208187, -1.70536731,  0.        ]), array([1, 3, 0, 2, 2, 2, 0, 1, 3, 2, 2, 2], dtype=object)]\n",
      "[19, array([-3.25307724, -1.54770993, -1.70536731,  0.        ]), array([1, 3, 0, 2, 2, 2, 0, 1, 3, 1, 2, 2], dtype=object)]\n",
      "[20, array([-3.24610233, -1.54073502, -1.70536731,  0.        ]), array([3, 3, 0, 2, 2, 2, 0, 1, 3, 1, 2, 2], dtype=object)]\n",
      "[21, array([-3.24702403, -1.54165672, -1.70536731,  0.        ]), array([3, 3, 0, 2, 2, 2, 0, 1, 3, 1, 2, 2], dtype=object)]\n",
      "[22, array([-3.23922673, -1.53385942, -1.70536731,  0.        ]), array([1, 3, 0, 2, 2, 0, 0, 1, 3, 2, 2, 2], dtype=object)]\n",
      "[23, array([-3.24688476, -1.54151745, -1.70536731,  0.        ]), array([3, 1, 2, 0, 2, 2, 2, 3, 3, 3, 2, 2], dtype=object)]\n",
      "[24, array([-3.24824862, -1.54288131, -1.70536731,  0.        ]), array([3, 1, 2, 2, 2, 2, 1, 3, 3, 2, 2, 2], dtype=object)]\n",
      "[25, array([-3.24611183, -1.54074452, -1.70536731,  0.        ]), array([3, 3, 0, 2, 2, 0, 0, 1, 3, 1, 2, 2], dtype=object)]\n",
      "[26, array([-3.2353728 , -1.53000549, -1.70536731,  0.        ]), array([3, 1, 2, 0, 2, 2, 2, 3, 3, 2, 2, 2], dtype=object)]\n",
      "[27, array([-3.24914891, -1.5437816 , -1.70536731,  0.        ]), array([3, 3, 0, 2, 2, 2, 0, 1, 3, 1, 2, 2], dtype=object)]\n",
      "[28, array([-3.23592607, -1.53055876, -1.70536731,  0.        ]), array([0, 3, 0, 2, 2, 0, 2, 1, 3, 0, 2, 2], dtype=object)]\n",
      "[29, array([-3.24539297, -1.54002566, -1.70536731,  0.        ]), array([3, 3, 0, 2, 2, 2, 0, 1, 3, 1, 2, 2], dtype=object)]\n",
      "[30, array([-3.24838016, -1.54301285, -1.70536731,  0.        ]), array([3, 3, 0, 2, 2, 0, 0, 1, 3, 1, 2, 2], dtype=object)]\n",
      "[31, array([-3.25057682, -1.54520951, -1.70536731,  0.        ]), array([3, 3, 0, 2, 2, 2, 0, 1, 3, 1, 2, 2], dtype=object)]\n",
      "[32, array([-3.23998832, -1.53462101, -1.70536731,  0.        ]), array([3, 3, 0, 2, 2, 0, 0, 1, 3, 0, 2, 2], dtype=object)]\n",
      "[33, array([-3.24081336, -1.53544604, -1.70536731,  0.        ]), array([3, 3, 0, 2, 2, 2, 0, 1, 3, 1, 2, 2], dtype=object)]\n",
      "[34, array([-3.24125975, -1.53589244, -1.70536731,  0.        ]), array([3, 3, 0, 1, 2, 2, 0, 1, 3, 1, 2, 2], dtype=object)]\n",
      "[35, array([-3.25036975, -1.54500243, -1.70536731,  0.        ]), array([3, 3, 0, 2, 2, 0, 0, 1, 3, 1, 2, 2], dtype=object)]\n",
      "[36, array([-3.23844033, -1.53307302, -1.70536731,  0.        ]), array([3, 3, 0, 2, 2, 0, 0, 1, 3, 2, 2, 2], dtype=object)]\n",
      "[37, array([-3.25695699, -1.55158968, -1.70536731,  0.        ]), array([3, 3, 0, 2, 2, 0, 0, 1, 3, 1, 2, 2], dtype=object)]\n",
      "[38, array([-3.23111232, -1.52574501, -1.70536731,  0.        ]), array([0, 3, 0, 2, 2, 0, 0, 1, 3, 1, 2, 2], dtype=object)]\n",
      "[39, array([-3.25505225, -1.54968494, -1.70536731,  0.        ]), array([3, 3, 0, 2, 2, 0, 0, 1, 3, 1, 2, 2], dtype=object)]\n",
      "[40, array([-3.23618855, -1.53082123, -1.70536731,  0.        ]), array([3, 3, 0, 2, 2, 0, 1, 1, 3, 1, 2, 2], dtype=object)]\n"
     ]
    }
   ],
   "source": [
    "# we can perform nCAFQA by using the main optimization function \"claptonize\"\n",
    "# now with the noisy circuit\n",
    "# this is slower, as the noisy circuit needs to be sampled\n",
    "ks_best, energy_noisy, energy_noiseless = claptonize(\n",
    "    paulis,\n",
    "    coeffs,\n",
    "    vqe_pcirc,\n",
    "    n_proc=4,           # total number of processes in parallel\n",
    "    n_starts=4,         # number of random genetic algorithm starts in parallel\n",
    "    n_rounds=1,         # number of budget rounds, if None it will terminate itself\n",
    "    callback=print,     # callback for internal parameter (#iteration, energies, ks) processing\n",
    "    budget=20           # budget per genetic algorithm instance\n",
    ")"
   ]
  },
  {
   "cell_type": "code",
   "execution_count": 40,
   "metadata": {},
   "outputs": [
    {
     "data": {
      "text/plain": [
       "[3, 3, 2, 0, 2, 3, 1, 0, 0, 3, 2, 0]"
      ]
     },
     "execution_count": 40,
     "metadata": {},
     "output_type": "execute_result"
    }
   ],
   "source": [
    "# the best parameters are\n",
    "ks_best"
   ]
  },
  {
   "cell_type": "code",
   "execution_count": 41,
   "metadata": {},
   "outputs": [
    {
     "data": {
      "text/plain": [
       "(np.float64(-1.509155207904889), np.float64(-1.7053673109431555))"
      ]
     },
     "execution_count": 41,
     "metadata": {},
     "output_type": "execute_result"
    }
   ],
   "source": [
    "# with noisy/noiseless energy\n",
    "energy_noisy, energy_noiseless"
   ]
  },
  {
   "cell_type": "code",
   "execution_count": 42,
   "metadata": {},
   "outputs": [
    {
     "data": {
      "text/html": [
       "<pre>q0: -SQRT_Y_DAG-I-----X-@-SQRT_Y-S_DAG---\n",
       "                      | |\n",
       "q1: -SQRT_Y_DAG-Z-----|-X-@------I-----Z-\n",
       "                      |   |\n",
       "q2: -Y----------S_DAG-@---X------I-----I-</pre>"
      ],
      "text/plain": [
       "q0: -SQRT_Y_DAG-I-----X-@-SQRT_Y-S_DAG---\n",
       "                      | |\n",
       "q1: -SQRT_Y_DAG-Z-----|-X-@------I-----Z-\n",
       "                      |   |\n",
       "q2: -Y----------S_DAG-@---X------I-----I-"
      ]
     },
     "execution_count": 42,
     "metadata": {},
     "output_type": "execute_result"
    }
   ],
   "source": [
    "# the corresponding circuit is\n",
    "vqe_pcirc.assign(ks_best)\n",
    "vqe_pcirc.snapshot_noiseless().circ_snapshot_noiseless.diagram()"
   ]
  },
  {
   "cell_type": "code",
   "execution_count": null,
   "metadata": {},
   "outputs": [],
   "source": []
  }
 ],
 "metadata": {
  "kernelspec": {
   "display_name": "venv",
   "language": "python",
   "name": "python3"
  },
  "language_info": {
   "codemirror_mode": {
    "name": "ipython",
    "version": 3
   },
   "file_extension": ".py",
   "mimetype": "text/x-python",
   "name": "python",
   "nbconvert_exporter": "python",
   "pygments_lexer": "ipython3",
   "version": "3.13.2"
  }
 },
 "nbformat": 4,
 "nbformat_minor": 2
}
