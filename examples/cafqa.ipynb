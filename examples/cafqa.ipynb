{
 "cells": [
  {
   "cell_type": "markdown",
   "metadata": {},
   "source": [
    "# CAFQA"
   ]
  },
  {
   "cell_type": "code",
   "execution_count": 1,
   "metadata": {},
   "outputs": [],
   "source": [
    "import sys\n",
    "sys.path.append(\"../\")\n",
    "from clapton.clapton import claptonize\n",
    "from clapton.ansatzes import circular_ansatz\n",
    "import numpy as np"
   ]
  },
  {
   "cell_type": "code",
   "execution_count": 2,
   "metadata": {},
   "outputs": [],
   "source": [
    "# define Hamiltonian, e.g. 3q Heisenberg model with random coefficients\n",
    "paulis = [\"XXI\", \"IXX\", \"YYI\", \"IYY\", \"ZZI\", \"IZZ\"]\n",
    "coeffs = np.random.random(len(paulis))"
   ]
  },
  {
   "cell_type": "code",
   "execution_count": 3,
   "metadata": {},
   "outputs": [],
   "source": [
    "# define parametrized Clifford circuit that is being optimized over\n",
    "# here we use the circular_ansatz template\n",
    "# we fix 2q gates as they will not be optimized over\n",
    "vqe_pcirc = circular_ansatz(N=len(paulis[0]), reps=1, fix_2q=True)"
   ]
  },
  {
   "cell_type": "code",
   "execution_count": 4,
   "metadata": {},
   "outputs": [
    {
     "name": "stdout",
     "output_type": "stream",
     "text": [
      "RY False\n",
      "RY False\n",
      "RY False\n",
      "RZ False\n",
      "RZ False\n",
      "RZ False\n",
      "2Q True\n",
      "2Q True\n",
      "2Q True\n",
      "RY False\n",
      "RY False\n",
      "RY False\n",
      "RZ False\n",
      "RZ False\n",
      "RZ False\n"
     ]
    }
   ],
   "source": [
    "# the circuit consists of parametrized gates\n",
    "for gate in vqe_pcirc.gates:\n",
    "    print(gate.label, gate.is_fixed())"
   ]
  },
  {
   "cell_type": "code",
   "execution_count": 5,
   "metadata": {},
   "outputs": [],
   "source": [
    "# non-fixed gates will be optimized over\n",
    "# RY and RZ gates can assume 4 values k = 0,1,2,3 which descripe multiples of pi/2"
   ]
  },
  {
   "cell_type": "code",
   "execution_count": 6,
   "metadata": {},
   "outputs": [
    {
     "data": {
      "text/plain": [
       "[0, 0, 0, 0, 0, 0, 0, 0, 0, 0, 0, 0]"
      ]
     },
     "execution_count": 6,
     "metadata": {},
     "output_type": "execute_result"
    }
   ],
   "source": [
    "# the initial parameters are all 0\n",
    "vqe_pcirc.read()"
   ]
  },
  {
   "cell_type": "code",
   "execution_count": 7,
   "metadata": {},
   "outputs": [
    {
     "data": {
      "text/html": [
       "<pre>q0: -I-I-X-@-I-I---\n",
       "         | |\n",
       "q1: -I-I-|-X-@-I-I-\n",
       "         |   |\n",
       "q2: -I-I-@---X-I-I-</pre>"
      ],
      "text/plain": [
       "q0: -I-I-X-@-I-I---\n",
       "         | |\n",
       "q1: -I-I-|-X-@-I-I-\n",
       "         |   |\n",
       "q2: -I-I-@---X-I-I-"
      ]
     },
     "execution_count": 7,
     "metadata": {},
     "output_type": "execute_result"
    }
   ],
   "source": [
    "# we can look at the corresponding stim circuit\n",
    "vqe_pcirc.stim_circuit().diagram()"
   ]
  },
  {
   "cell_type": "code",
   "execution_count": 8,
   "metadata": {},
   "outputs": [
    {
     "data": {
      "text/plain": [
       "<clapton.clifford.ParametrizedCliffordCircuit at 0x7fe95a86db70>"
      ]
     },
     "execution_count": 8,
     "metadata": {},
     "output_type": "execute_result"
    }
   ],
   "source": [
    "# we can assign a different set of parameters\n",
    "vqe_pcirc.assign([0,1,2,3,0,1,2,3,0,1,2,3])"
   ]
  },
  {
   "cell_type": "code",
   "execution_count": 9,
   "metadata": {},
   "outputs": [
    {
     "data": {
      "text/html": [
       "<pre>q0: -I------S_DAG-X-@-Y-S----------------\n",
       "                  | |\n",
       "q1: -SQRT_Y-I-----|-X-@-SQRT_Y_DAG-Z-----\n",
       "                  |   |\n",
       "q2: -Y------S-----@---X-I----------S_DAG-</pre>"
      ],
      "text/plain": [
       "q0: -I------S_DAG-X-@-Y-S----------------\n",
       "                  | |\n",
       "q1: -SQRT_Y-I-----|-X-@-SQRT_Y_DAG-Z-----\n",
       "                  |   |\n",
       "q2: -Y------S-----@---X-I----------S_DAG-"
      ]
     },
     "execution_count": 9,
     "metadata": {},
     "output_type": "execute_result"
    }
   ],
   "source": [
    "vqe_pcirc.stim_circuit().diagram()"
   ]
  },
  {
   "cell_type": "code",
   "execution_count": 10,
   "metadata": {},
   "outputs": [
    {
     "name": "stdout",
     "output_type": "stream",
     "text": [
      "STARTING ROUND 0\n",
      "\n",
      "\n",
      "started GA at id 1 with 1 procs\n",
      "\n",
      "started GA at id 2 with 1 procs\n",
      "\n",
      "started GA at id None with 1 procs\n",
      "\n"
     ]
    },
    {
     "name": "stderr",
     "output_type": "stream",
     "text": [
      "/home/dbharadwaj/anaconda3/envs/clapton/lib/python3.10/site-packages/pygad/pygad.py:1139: UserWarning: The 'delay_after_gen' parameter is deprecated starting from PyGAD 3.3.0. To delay or pause the evolution after each generation, assign a callback function/method to the 'on_generation' parameter to adds some time delay.\n",
      "  warnings.warn(\"The 'delay_after_gen' parameter is deprecated starting from PyGAD 3.3.0. To delay or pause the evolution after each generation, assign a callback function/method to the 'on_generation' parameter to adds some time delay.\")\n",
      "/home/dbharadwaj/anaconda3/envs/clapton/lib/python3.10/site-packages/pygad/pygad.py:1139: UserWarning: The 'delay_after_gen' parameter is deprecated starting from PyGAD 3.3.0. To delay or pause the evolution after each generation, assign a callback function/method to the 'on_generation' parameter to adds some time delay.\n",
      "  warnings.warn(\"The 'delay_after_gen' parameter is deprecated starting from PyGAD 3.3.0. To delay or pause the evolution after each generation, assign a callback function/method to the 'on_generation' parameter to adds some time delay.\")\n",
      "/home/dbharadwaj/anaconda3/envs/clapton/lib/python3.10/site-packages/pygad/pygad.py:1139: UserWarning: The 'delay_after_gen' parameter is deprecated starting from PyGAD 3.3.0. To delay or pause the evolution after each generation, assign a callback function/method to the 'on_generation' parameter to adds some time delay.\n",
      "  warnings.warn(\"The 'delay_after_gen' parameter is deprecated starting from PyGAD 3.3.0. To delay or pause the evolution after each generation, assign a callback function/method to the 'on_generation' parameter to adds some time delay.\")\n"
     ]
    },
    {
     "name": "stdout",
     "output_type": "stream",
     "text": [
      "started GA at id 3 with 1 procs\n",
      "\n"
     ]
    },
    {
     "name": "stderr",
     "output_type": "stream",
     "text": [
      "/home/dbharadwaj/anaconda3/envs/clapton/lib/python3.10/site-packages/pygad/pygad.py:1139: UserWarning: The 'delay_after_gen' parameter is deprecated starting from PyGAD 3.3.0. To delay or pause the evolution after each generation, assign a callback function/method to the 'on_generation' parameter to adds some time delay.\n",
      "  warnings.warn(\"The 'delay_after_gen' parameter is deprecated starting from PyGAD 3.3.0. To delay or pause the evolution after each generation, assign a callback function/method to the 'on_generation' parameter to adds some time delay.\")\n"
     ]
    },
    {
     "name": "stdout",
     "output_type": "stream",
     "text": [
      "[0, array([-3.4276615 , -1.71383075, -1.71383075,  0.        ]), array([2, 1, 2, 2, 2, 0, 0, 2, 2, 3, 0, 0], dtype=object)]\n",
      "[0, array([-3.4276615 , -1.71383075, -1.71383075,  0.        ]), array([2, 1, 0, 2, 2, 0, 0, 1, 1, 0, 2, 0], dtype=object)]\n",
      "[0, array([-3.4276615 , -1.71383075, -1.71383075,  0.        ]), array([1, 3, 3, 0, 2, 3, 3, 1, 3, 0, 0, 1], dtype=object)]\n",
      "[0, array([-3.4276615 , -1.71383075, -1.71383075,  0.        ]), array([0, 3, 2, 1, 2, 2, 1, 3, 1, 0, 0, 2], dtype=object)]\n",
      "[1, array([-3.4276615 , -1.71383075, -1.71383075,  0.        ]), array([2, 1, 2, 2, 2, 0, 0, 2, 2, 3, 0, 0], dtype=object)]\n",
      "[1, array([-3.4276615 , -1.71383075, -1.71383075,  0.        ]), array([3, 3, 0, 2, 0, 1, 0, 3, 3, 2, 0, 2], dtype=object)]\n",
      "[1, array([-3.4276615 , -1.71383075, -1.71383075,  0.        ]), array([1, 3, 3, 0, 2, 3, 3, 1, 3, 0, 0, 1], dtype=object)]\n",
      "[1, array([-3.10379042, -1.55189521, -1.55189521,  0.        ]), array([0, 1, 1, 2, 2, 3, 0, 2, 0, 1, 0, 2], dtype=object)]\n",
      "[2, array([-3.4276615 , -1.71383075, -1.71383075,  0.        ]), array([3, 1, 2, 3, 2, 0, 0, 2, 2, 3, 0, 0], dtype=object)]\n",
      "[2, array([-3.4276615 , -1.71383075, -1.71383075,  0.        ]), array([3, 3, 0, 2, 0, 1, 0, 3, 3, 2, 0, 2], dtype=object)]\n",
      "[2, array([-1.95727179, -0.9786359 , -0.9786359 ,  0.        ]), array([2, 3, 2, 3, 3, 0, 1, 2, 3, 3, 2, 3], dtype=object)]\n",
      "[2, array([-3.10379042, -1.55189521, -1.55189521,  0.        ]), array([2, 3, 1, 0, 1, 3, 2, 0, 1, 1, 0, 1], dtype=object)]\n",
      "[3, array([-3.4276615 , -1.71383075, -1.71383075,  0.        ]), array([0, 1, 0, 0, 2, 3, 3, 1, 1, 1, 1, 3], dtype=object)]\n",
      "[3, array([-3.4276615 , -1.71383075, -1.71383075,  0.        ]), array([0, 3, 0, 2, 0, 1, 0, 3, 3, 2, 0, 2], dtype=object)]\n",
      "[3, array([-3.4276615 , -1.71383075, -1.71383075,  0.        ]), array([0, 3, 2, 1, 2, 2, 1, 3, 1, 0, 0, 2], dtype=object)]\n",
      "[3, array([-3.4276615 , -1.71383075, -1.71383075,  0.        ]), array([1, 1, 0, 3, 2, 1, 2, 1, 1, 0, 0, 2], dtype=object)]\n",
      "[4, array([-3.4276615 , -1.71383075, -1.71383075,  0.        ]), array([0, 1, 0, 0, 2, 3, 3, 1, 1, 1, 1, 3], dtype=object)]\n",
      "[4, array([-3.10379042, -1.55189521, -1.55189521,  0.        ]), array([1, 1, 0, 2, 1, 3, 0, 1, 1, 1, 2, 0], dtype=object)]\n",
      "[4, array([-3.4276615 , -1.71383075, -1.71383075,  0.        ]), array([1, 1, 0, 3, 2, 1, 2, 1, 1, 0, 0, 2], dtype=object)]\n",
      "[4, array([-3.4276615 , -1.71383075, -1.71383075,  0.        ]), array([2, 1, 0, 2, 0, 3, 1, 1, 3, 0, 2, 2], dtype=object)]\n",
      "[5, array([-3.4276615 , -1.71383075, -1.71383075,  0.        ]), array([2, 1, 2, 3, 0, 1, 0, 3, 1, 1, 3, 1], dtype=object)]\n",
      "[5, array([-3.4276615 , -1.71383075, -1.71383075,  0.        ]), array([3, 3, 2, 1, 2, 2, 1, 3, 1, 0, 0, 2], dtype=object)][6, array([-3.4276615 , -1.71383075, -1.71383075,  0.        ]), array([2, 1, 2, 0, 2, 0, 1, 2, 2, 0, 3, 3], dtype=object)][5, array([-3.4276615 , -1.71383075, -1.71383075,  0.        ]), array([1, 3, 3, 0, 2, 3, 3, 1, 3, 0, 0, 1], dtype=object)]\n",
      "\n",
      "\n",
      "[5, array([-3.4276615 , -1.71383075, -1.71383075,  0.        ]), array([0, 1, 2, 0, 2, 2, 3, 0, 0, 2, 0, 0], dtype=object)]\n",
      "[6, array([-3.4276615 , -1.71383075, -1.71383075,  0.        ]), array([0, 3, 2, 1, 2, 2, 1, 2, 2, 1, 3, 1], dtype=object)][6, array([-3.4276615 , -1.71383075, -1.71383075,  0.        ]), array([1, 1, 1, 2, 2, 3, 2, 1, 1, 1, 0, 1], dtype=object)]\n",
      "\n",
      "[7, array([-3.4276615 , -1.71383075, -1.71383075,  0.        ]), array([2, 1, 2, 0, 2, 0, 1, 2, 2, 0, 3, 3], dtype=object)][6, array([-3.4276615 , -1.71383075, -1.71383075,  0.        ]), array([0, 1, 2, 0, 2, 2, 3, 0, 0, 2, 0, 0], dtype=object)]\n",
      "\n",
      "[7, array([-3.4276615 , -1.71383075, -1.71383075,  0.        ]), array([1, 1, 0, 3, 2, 1, 2, 1, 1, 0, 0, 2], dtype=object)]\n",
      "[8, array([-3.4276615 , -1.71383075, -1.71383075,  0.        ]), array([2, 1, 0, 0, 2, 3, 3, 1, 1, 0, 3, 1], dtype=object)][7, array([-3.4276615 , -1.71383075, -1.71383075,  0.        ]), array([0, 1, 2, 0, 2, 2, 3, 0, 0, 2, 0, 0], dtype=object)][7, array([-3.4276615 , -1.71383075, -1.71383075,  0.        ]), array([0, 3, 0, 0, 2, 2, 0, 0, 2, 1, 1, 1], dtype=object)]\n",
      "\n",
      "\n",
      "[8, array([-3.4276615 , -1.71383075, -1.71383075,  0.        ]), array([0, 1, 2, 0, 2, 2, 3, 0, 0, 2, 1, 1], dtype=object)]\n",
      "[8, array([-3.4276615 , -1.71383075, -1.71383075,  0.        ]), array([2, 3, 2, 3, 3, 1, 2, 0, 0, 1, 2, 1], dtype=object)]\n",
      "[8, array([-3.4276615 , -1.71383075, -1.71383075,  0.        ]), array([2, 3, 2, 1, 2, 2, 1, 3, 1, 0, 0, 2], dtype=object)]\n",
      "[9, array([-3.4276615 , -1.71383075, -1.71383075,  0.        ]), array([3, 1, 2, 2, 0, 1, 0, 3, 1, 1, 2, 0], dtype=object)]\n",
      "[9, array([-3.4276615 , -1.71383075, -1.71383075,  0.        ]), array([0, 1, 2, 0, 0, 2, 3, 0, 0, 0, 2, 0], dtype=object)][10, array([-3.4276615 , -1.71383075, -1.71383075,  0.        ]), array([3, 1, 2, 2, 0, 1, 0, 3, 1, 1, 2, 0], dtype=object)]\n",
      "\n",
      "[9, array([-3.4276615 , -1.71383075, -1.71383075,  0.        ]), array([1, 1, 0, 2, 2, 3, 0, 2, 0, 0, 0, 2], dtype=object)]\n",
      "[9, array([-3.4276615 , -1.71383075, -1.71383075,  0.        ]), array([2, 3, 2, 3, 3, 1, 2, 0, 0, 1, 2, 1], dtype=object)]\n",
      "[10, array([-3.4276615 , -1.71383075, -1.71383075,  0.        ]), array([0, 1, 2, 0, 0, 2, 3, 0, 0, 0, 2, 0], dtype=object)]\n",
      "[10, array([-3.4276615 , -1.71383075, -1.71383075,  0.        ]), array([2, 3, 2, 3, 3, 1, 2, 0, 0, 1, 3, 2], dtype=object)]\n",
      "[10, array([-3.4276615 , -1.71383075, -1.71383075,  0.        ]), array([3, 3, 2, 3, 2, 2, 1, 2, 2, 1, 3, 1], dtype=object)][11, array([-3.4276615 , -1.71383075, -1.71383075,  0.        ]), array([3, 1, 2, 3, 0, 1, 0, 3, 1, 1, 2, 0], dtype=object)]\n",
      "\n",
      "[12, array([-3.4276615 , -1.71383075, -1.71383075,  0.        ]), array([2, 1, 2, 3, 0, 1, 0, 3, 1, 1, 2, 0], dtype=object)]\n",
      "[11, array([-3.4276615 , -1.71383075, -1.71383075,  0.        ]), array([3, 1, 2, 0, 2, 2, 3, 0, 0, 2, 0, 0], dtype=object)]\n",
      "[11, array([-3.4276615 , -1.71383075, -1.71383075,  0.        ]), array([2, 3, 2, 3, 3, 1, 2, 0, 0, 1, 2, 1], dtype=object)]\n",
      "[11, array([-3.4276615 , -1.71383075, -1.71383075,  0.        ]), array([1, 3, 0, 0, 2, 2, 1, 1, 3, 1, 1, 1], dtype=object)]\n",
      "[12, array([-3.4276615 , -1.71383075, -1.71383075,  0.        ]), array([2, 1, 2, 0, 2, 0, 1, 3, 3, 1, 0, 0], dtype=object)]\n",
      "[13, array([-3.4276615 , -1.71383075, -1.71383075,  0.        ]), array([1, 1, 2, 2, 0, 1, 0, 3, 1, 1, 3, 1], dtype=object)]\n",
      "[12, array([-3.4276615 , -1.71383075, -1.71383075,  0.        ]), array([1, 1, 1, 2, 2, 3, 2, 1, 1, 0, 0, 1], dtype=object)]\n",
      "[12, array([-3.4276615 , -1.71383075, -1.71383075,  0.        ]), array([1, 3, 0, 0, 2, 2, 1, 1, 3, 1, 1, 1], dtype=object)]\n",
      "[14, array([-3.4276615 , -1.71383075, -1.71383075,  0.        ]), array([2, 1, 2, 2, 0, 1, 0, 3, 1, 1, 3, 1], dtype=object)]\n",
      "[13, array([-3.4276615 , -1.71383075, -1.71383075,  0.        ]), array([0, 1, 0, 2, 0, 3, 1, 1, 3, 0, 2, 2], dtype=object)]\n",
      "[13, array([-3.4276615 , -1.71383075, -1.71383075,  0.        ]), array([3, 1, 0, 3, 2, 1, 2, 1, 1, 0, 0, 2], dtype=object)]\n",
      "[13, array([-3.4276615 , -1.71383075, -1.71383075,  0.        ]), array([0, 3, 2, 1, 2, 2, 1, 3, 1, 0, 0, 2], dtype=object)]\n",
      "[15, array([-3.4276615 , -1.71383075, -1.71383075,  0.        ]), array([2, 1, 2, 3, 0, 1, 0, 3, 1, 1, 2, 0], dtype=object)]\n",
      "[14, array([-3.4276615 , -1.71383075, -1.71383075,  0.        ]), array([1, 1, 0, 2, 2, 0, 0, 1, 1, 1, 0, 2], dtype=object)]\n",
      "[16, array([-3.4276615 , -1.71383075, -1.71383075,  0.        ]), array([0, 1, 2, 3, 0, 1, 0, 3, 1, 1, 2, 0], dtype=object)]\n",
      "[14, array([-3.4276615 , -1.71383075, -1.71383075,  0.        ]), array([3, 1, 0, 3, 2, 0, 2, 1, 1, 0, 0, 2], dtype=object)]\n",
      "[14, array([-3.4276615 , -1.71383075, -1.71383075,  0.        ]), array([0, 3, 0, 0, 2, 2, 1, 3, 1, 1, 1, 1], dtype=object)]\n",
      "[15, array([-3.4276615 , -1.71383075, -1.71383075,  0.        ]), array([0, 1, 0, 2, 0, 3, 1, 1, 3, 0, 2, 2], dtype=object)]\n",
      "[17, array([-3.4276615 , -1.71383075, -1.71383075,  0.        ]), array([2, 1, 2, 3, 0, 1, 0, 3, 1, 1, 3, 1], dtype=object)][15, array([-3.4276615 , -1.71383075, -1.71383075,  0.        ]), array([0, 3, 2, 1, 2, 2, 2, 3, 1, 0, 0, 2], dtype=object)]\n",
      "\n",
      "[15, array([-3.4276615 , -1.71383075, -1.71383075,  0.        ]), array([2, 1, 0, 3, 2, 1, 2, 1, 1, 0, 0, 2], dtype=object)]\n",
      "[18, array([-3.4276615 , -1.71383075, -1.71383075,  0.        ]), array([3, 1, 2, 3, 0, 1, 0, 3, 1, 1, 3, 1], dtype=object)]\n",
      "[16, array([-3.4276615 , -1.71383075, -1.71383075,  0.        ]), array([0, 1, 2, 0, 2, 0, 1, 3, 3, 1, 2, 2], dtype=object)]\n",
      "[16, array([-3.4276615 , -1.71383075, -1.71383075,  0.        ]), array([1, 3, 2, 1, 2, 2, 1, 3, 1, 0, 0, 2], dtype=object)]\n",
      "[16, array([-3.4276615 , -1.71383075, -1.71383075,  0.        ]), array([2, 3, 2, 3, 3, 0, 2, 0, 0, 1, 2, 1], dtype=object)]\n",
      "[19, array([-3.4276615 , -1.71383075, -1.71383075,  0.        ]), array([2, 1, 2, 2, 0, 1, 0, 3, 1, 1, 2, 0], dtype=object)]\n",
      "[17, array([-3.4276615 , -1.71383075, -1.71383075,  0.        ]), array([0, 1, 2, 0, 2, 0, 1, 3, 3, 1, 2, 2], dtype=object)]\n",
      "\n",
      "[17, array([-3.4276615 , -1.71383075, -1.71383075,  0.        ]), array([0, 3, 2, 1, 2, 2, 1, 3, 1, 0, 0, 2], dtype=object)][20, array([-3.4276615 , -1.71383075, -1.71383075,  0.        ]), array([2, 1, 2, 2, 0, 1, 0, 3, 1, 1, 2, 0], dtype=object)][17, array([-3.4276615 , -1.71383075, -1.71383075,  0.        ]), array([2, 1, 0, 3, 2, 1, 2, 1, 1, 0, 0, 2], dtype=object)]\n",
      "\n",
      "[18, array([-3.4276615 , -1.71383075, -1.71383075,  0.        ]), array([1, 1, 2, 0, 2, 2, 3, 0, 0, 2, 2, 2], dtype=object)]\n",
      "[18, array([-3.4276615 , -1.71383075, -1.71383075,  0.        ]), array([3, 3, 2, 2, 2, 2, 0, 3, 1, 0, 0, 2], dtype=object)]\n",
      "[18, array([-3.4276615 , -1.71383075, -1.71383075,  0.        ]), array([1, 1, 2, 2, 2, 1, 2, 1, 1, 0, 2, 2], dtype=object)]\n",
      "[21, array([-3.4276615 , -1.71383075, -1.71383075,  0.        ]), array([2, 1, 2, 3, 0, 1, 0, 3, 1, 1, 3, 1], dtype=object)]\n",
      "[19, array([-3.4276615 , -1.71383075, -1.71383075,  0.        ]), array([1, 3, 0, 3, 2, 1, 1, 1, 3, 0, 2, 2], dtype=object)][19, array([-3.4276615 , -1.71383075, -1.71383075,  0.        ]), array([3, 1, 0, 3, 2, 1, 2, 1, 1, 0, 0, 2], dtype=object)]\n",
      "\n",
      "[22, array([-3.4276615 , -1.71383075, -1.71383075,  0.        ]), array([2, 1, 2, 2, 0, 2, 0, 3, 1, 1, 3, 1], dtype=object)]\n",
      "[19, array([-3.4276615 , -1.71383075, -1.71383075,  0.        ]), array([0, 3, 2, 1, 2, 2, 2, 3, 1, 0, 0, 2], dtype=object)]\n",
      "[20, array([-3.4276615 , -1.71383075, -1.71383075,  0.        ]), array([1, 3, 0, 1, 2, 1, 2, 1, 3, 3, 2, 2], dtype=object)]\n",
      "[20, array([-3.4276615 , -1.71383075, -1.71383075,  0.        ]), array([0, 3, 2, 0, 2, 2, 1, 3, 1, 0, 0, 2], dtype=object)]\n",
      "[23, array([-3.4276615 , -1.71383075, -1.71383075,  0.        ]), array([2, 1, 2, 2, 0, 1, 0, 3, 1, 1, 3, 1], dtype=object)]\n",
      "[20, array([-3.4276615 , -1.71383075, -1.71383075,  0.        ]), array([2, 1, 2, 0, 2, 0, 0, 0, 0, 1, 2, 2], dtype=object)]\n",
      "[24, array([-3.4276615 , -1.71383075, -1.71383075,  0.        ]), array([2, 1, 2, 2, 0, 1, 0, 3, 1, 3, 3, 1], dtype=object)]\n",
      "[21, array([-3.4276615 , -1.71383075, -1.71383075,  0.        ]), array([0, 1, 0, 2, 0, 3, 1, 1, 3, 3, 2, 2], dtype=object)]\n",
      "[21, array([-3.4276615 , -1.71383075, -1.71383075,  0.        ]), array([0, 3, 0, 0, 2, 2, 0, 0, 2, 1, 1, 1], dtype=object)]\n",
      "[22, array([-3.4276615 , -1.71383075, -1.71383075,  0.        ]), array([0, 1, 0, 2, 0, 3, 1, 1, 3, 3, 2, 2], dtype=object)]\n",
      "[25, array([-3.4276615 , -1.71383075, -1.71383075,  0.        ]), array([2, 1, 2, 2, 0, 1, 0, 3, 1, 1, 3, 1], dtype=object)]\n",
      "[21, array([-3.4276615 , -1.71383075, -1.71383075,  0.        ]), array([1, 1, 0, 3, 2, 1, 2, 1, 1, 0, 0, 2], dtype=object)]\n",
      "[22, array([-3.4276615 , -1.71383075, -1.71383075,  0.        ]), array([0, 1, 2, 1, 2, 1, 1, 3, 3, 1, 1, 1], dtype=object)]\n",
      "[26, array([-3.4276615 , -1.71383075, -1.71383075,  0.        ]), array([1, 1, 2, 3, 0, 1, 0, 3, 1, 1, 3, 1], dtype=object)]\n",
      "[23, array([-3.4276615 , -1.71383075, -1.71383075,  0.        ]), array([1, 3, 0, 3, 2, 1, 1, 1, 3, 0, 2, 2], dtype=object)]\n",
      "[22, array([-3.4276615 , -1.71383075, -1.71383075,  0.        ]), array([2, 1, 0, 1, 2, 1, 2, 1, 1, 0, 0, 2], dtype=object)]\n",
      "[23, array([-3.4276615 , -1.71383075, -1.71383075,  0.        ]), array([0, 3, 2, 1, 2, 2, 2, 3, 1, 0, 0, 2], dtype=object)]\n",
      "[24, array([-3.4276615 , -1.71383075, -1.71383075,  0.        ]), array([2, 1, 0, 2, 0, 3, 1, 1, 3, 3, 0, 0], dtype=object)]\n",
      "[27, array([-3.4276615 , -1.71383075, -1.71383075,  0.        ]), array([2, 1, 2, 3, 0, 1, 0, 3, 1, 1, 3, 1], dtype=object)]\n",
      "[24, array([-3.4276615 , -1.71383075, -1.71383075,  0.        ]), array([0, 3, 2, 1, 2, 2, 1, 3, 1, 3, 2, 0], dtype=object)]\n",
      "[23, array([-3.4276615 , -1.71383075, -1.71383075,  0.        ]), array([1, 1, 0, 3, 2, 1, 2, 1, 1, 0, 0, 2], dtype=object)]\n",
      "[28, array([-3.4276615 , -1.71383075, -1.71383075,  0.        ]), array([2, 1, 2, 1, 0, 1, 0, 3, 1, 1, 3, 1], dtype=object)]\n",
      "[25, array([-3.4276615 , -1.71383075, -1.71383075,  0.        ]), array([0, 1, 2, 0, 2, 0, 1, 3, 3, 1, 2, 2], dtype=object)]\n",
      "[24, array([-3.4276615 , -1.71383075, -1.71383075,  0.        ]), array([1, 1, 2, 0, 2, 0, 0, 0, 0, 1, 2, 2], dtype=object)]\n",
      "[25, array([-3.4276615 , -1.71383075, -1.71383075,  0.        ]), array([0, 3, 2, 1, 2, 2, 1, 3, 1, 0, 0, 2], dtype=object)]\n",
      "[29, array([-3.4276615 , -1.71383075, -1.71383075,  0.        ]), array([1, 1, 2, 3, 0, 1, 0, 3, 1, 1, 3, 1], dtype=object)]\n",
      "[26, array([-3.4276615 , -1.71383075, -1.71383075,  0.        ]), array([0, 1, 2, 0, 2, 0, 1, 3, 3, 2, 2, 2], dtype=object)]\n",
      "[26, array([-3.4276615 , -1.71383075, -1.71383075,  0.        ]), array([0, 3, 2, 1, 2, 1, 1, 3, 1, 0, 0, 2], dtype=object)]\n",
      "[30, array([-3.4276615 , -1.71383075, -1.71383075,  0.        ]), array([1, 1, 2, 2, 0, 1, 0, 3, 1, 1, 3, 1], dtype=object)]\n",
      "[25, array([-3.4276615 , -1.71383075, -1.71383075,  0.        ]), array([3, 1, 0, 3, 2, 1, 2, 1, 1, 0, 0, 2], dtype=object)]\n",
      "[27, array([-3.4276615 , -1.71383075, -1.71383075,  0.        ]), array([0, 1, 0, 2, 0, 3, 1, 1, 3, 0, 2, 2], dtype=object)]\n",
      "[26, array([-3.4276615 , -1.71383075, -1.71383075,  0.        ]), array([2, 1, 0, 1, 2, 1, 2, 0, 2, 1, 3, 1], dtype=object)]\n",
      "[31, array([-3.4276615 , -1.71383075, -1.71383075,  0.        ]), array([2, 1, 2, 3, 0, 1, 0, 3, 1, 1, 3, 1], dtype=object)]\n",
      "[27, array([-3.4276615 , -1.71383075, -1.71383075,  0.        ]), array([0, 3, 2, 1, 2, 2, 1, 3, 1, 0, 0, 2], dtype=object)]\n",
      "[32, array([-3.4276615 , -1.71383075, -1.71383075,  0.        ]), array([2, 1, 2, 3, 0, 0, 3, 3, 1, 1, 2, 0], dtype=object)]\n",
      "[28, array([-3.4276615 , -1.71383075, -1.71383075,  0.        ]), array([0, 3, 2, 2, 2, 2, 1, 3, 1, 0, 0, 2], dtype=object)][28, array([-3.4276615 , -1.71383075, -1.71383075,  0.        ]), array([2, 1, 2, 2, 0, 2, 1, 1, 3, 0, 2, 0], dtype=object)]\n",
      "\n",
      "[27, array([-3.4276615 , -1.71383075, -1.71383075,  0.        ]), array([2, 1, 0, 3, 2, 1, 2, 1, 1, 0, 0, 2], dtype=object)]\n",
      "[33, array([-3.4276615 , -1.71383075, -1.71383075,  0.        ]), array([1, 1, 2, 3, 0, 1, 0, 3, 1, 1, 3, 1], dtype=object)]\n",
      "[28, array([-3.4276615 , -1.71383075, -1.71383075,  0.        ]), array([2, 1, 0, 1, 2, 0, 3, 1, 1, 0, 0, 2], dtype=object)]\n",
      "[29, array([-3.4276615 , -1.71383075, -1.71383075,  0.        ]), array([0, 3, 2, 1, 2, 2, 2, 3, 1, 3, 0, 2], dtype=object)]\n",
      "\n",
      "[29, array([-3.4276615 , -1.71383075, -1.71383075,  0.        ]), array([3, 1, 0, 2, 0, 3, 1, 1, 3, 1, 0, 0], dtype=object)][34, array([-3.4276615 , -1.71383075, -1.71383075,  0.        ]), array([1, 1, 2, 3, 0, 1, 3, 3, 1, 1, 3, 1], dtype=object)][30, array([-3.4276615 , -1.71383075, -1.71383075,  0.        ]), array([0, 3, 2, 1, 2, 2, 1, 3, 1, 3, 0, 2], dtype=object)]\n",
      "\n",
      "[30, array([-3.4276615 , -1.71383075, -1.71383075,  0.        ]), array([0, 1, 2, 0, 2, 3, 1, 1, 1, 1, 0, 0], dtype=object)]\n",
      "[29, array([-3.4276615 , -1.71383075, -1.71383075,  0.        ]), array([2, 1, 0, 3, 2, 1, 2, 1, 1, 0, 0, 2], dtype=object)]\n",
      "[31, array([-3.4276615 , -1.71383075, -1.71383075,  0.        ]), array([0, 3, 2, 1, 2, 2, 1, 3, 1, 0, 0, 2], dtype=object)]\n",
      "[35, array([-3.4276615 , -1.71383075, -1.71383075,  0.        ]), array([2, 1, 2, 2, 0, 0, 0, 3, 1, 1, 3, 1], dtype=object)]\n",
      "[30, array([-3.4276615 , -1.71383075, -1.71383075,  0.        ]), array([2, 1, 0, 3, 2, 0, 2, 1, 1, 0, 0, 2], dtype=object)]\n",
      "[31, array([-3.4276615 , -1.71383075, -1.71383075,  0.        ]), array([0, 3, 0, 3, 2, 3, 1, 1, 3, 1, 0, 0], dtype=object)]\n",
      "[32, array([-3.4276615 , -1.71383075, -1.71383075,  0.        ]), array([0, 3, 2, 1, 2, 0, 1, 3, 1, 0, 0, 2], dtype=object)]\n",
      "[36, array([-3.4276615 , -1.71383075, -1.71383075,  0.        ]), array([1, 1, 2, 2, 0, 1, 0, 3, 1, 1, 3, 1], dtype=object)]\n",
      "[32, array([-3.4276615 , -1.71383075, -1.71383075,  0.        ]), array([0, 1, 2, 0, 2, 2, 3, 0, 0, 1, 0, 0], dtype=object)]\n",
      "[31, array([-3.4276615 , -1.71383075, -1.71383075,  0.        ]), array([2, 1, 0, 3, 2, 1, 2, 1, 1, 0, 0, 2], dtype=object)]\n",
      "[33, array([-3.4276615 , -1.71383075, -1.71383075,  0.        ]), array([0, 3, 2, 1, 2, 2, 1, 3, 1, 0, 0, 2], dtype=object)]\n",
      "[37, array([-3.4276615 , -1.71383075, -1.71383075,  0.        ]), array([2, 1, 2, 3, 0, 1, 0, 3, 1, 1, 3, 1], dtype=object)]\n",
      "[32, array([-3.4276615 , -1.71383075, -1.71383075,  0.        ]), array([2, 1, 0, 3, 2, 0, 0, 1, 1, 0, 3, 1], dtype=object)]\n",
      "[34, array([-3.4276615 , -1.71383075, -1.71383075,  0.        ]), array([0, 3, 2, 1, 2, 2, 1, 3, 1, 3, 0, 2], dtype=object)]\n",
      "[38, array([-3.4276615 , -1.71383075, -1.71383075,  0.        ]), array([1, 1, 2, 3, 0, 1, 2, 3, 1, 1, 3, 1], dtype=object)]\n",
      "[33, array([-3.4276615 , -1.71383075, -1.71383075,  0.        ]), array([0, 3, 0, 3, 2, 3, 1, 1, 3, 1, 0, 0], dtype=object)]\n",
      "[34, array([-3.4276615 , -1.71383075, -1.71383075,  0.        ]), array([3, 1, 0, 2, 0, 3, 0, 1, 3, 1, 0, 0], dtype=object)]\n",
      "[33, array([-3.4276615 , -1.71383075, -1.71383075,  0.        ]), array([2, 1, 0, 3, 2, 0, 2, 1, 1, 0, 0, 2], dtype=object)]\n",
      "[35, array([-3.4276615 , -1.71383075, -1.71383075,  0.        ]), array([0, 3, 2, 1, 2, 2, 1, 3, 1, 0, 0, 2], dtype=object)]\n",
      "[39, array([-3.4276615 , -1.71383075, -1.71383075,  0.        ]), array([2, 1, 2, 2, 0, 1, 0, 3, 1, 1, 3, 1], dtype=object)]\n",
      "[36, array([-3.4276615 , -1.71383075, -1.71383075,  0.        ]), array([0, 3, 2, 1, 2, 2, 1, 3, 1, 3, 0, 2], dtype=object)]\n",
      "[34, array([-3.4276615 , -1.71383075, -1.71383075,  0.        ]), array([2, 1, 0, 3, 2, 0, 0, 1, 1, 1, 0, 2], dtype=object)]\n",
      "[40, array([-3.4276615 , -1.71383075, -1.71383075,  0.        ]), array([2, 1, 2, 0, 0, 0, 2, 3, 1, 1, 3, 1], dtype=object)]\n",
      "[35, array([-3.4276615 , -1.71383075, -1.71383075,  0.        ]), array([0, 1, 0, 2, 0, 3, 1, 1, 3, 3, 2, 2], dtype=object)]\n",
      "[37, array([-3.4276615 , -1.71383075, -1.71383075,  0.        ]), array([0, 3, 2, 1, 2, 2, 1, 3, 1, 0, 0, 2], dtype=object)]\n",
      "[35, array([-3.4276615 , -1.71383075, -1.71383075,  0.        ]), array([2, 1, 0, 3, 2, 1, 3, 1, 1, 0, 0, 2], dtype=object)]\n",
      "[36, array([-3.4276615 , -1.71383075, -1.71383075,  0.        ]), array([0, 3, 0, 3, 2, 3, 0, 1, 3, 3, 2, 2], dtype=object)]\n",
      "[38, array([-3.4276615 , -1.71383075, -1.71383075,  0.        ]), array([0, 3, 2, 1, 2, 2, 3, 3, 1, 0, 0, 2], dtype=object)]\n",
      "[36, array([-3.4276615 , -1.71383075, -1.71383075,  0.        ]), array([2, 1, 0, 3, 2, 1, 2, 1, 1, 1, 3, 1], dtype=object)]\n",
      "[37, array([-3.4276615 , -1.71383075, -1.71383075,  0.        ]), array([3, 1, 2, 0, 2, 2, 3, 3, 3, 1, 0, 0], dtype=object)]\n",
      "[39, array([-3.4276615 , -1.71383075, -1.71383075,  0.        ]), array([0, 3, 2, 1, 2, 2, 1, 3, 1, 0, 0, 2], dtype=object)]\n",
      "[37, array([-3.4276615 , -1.71383075, -1.71383075,  0.        ]), array([2, 1, 0, 3, 2, 0, 3, 1, 1, 0, 0, 2], dtype=object)]\n",
      "[40, array([-3.4276615 , -1.71383075, -1.71383075,  0.        ]), array([0, 3, 2, 0, 2, 2, 0, 3, 1, 0, 0, 2], dtype=object)]\n",
      "[38, array([-3.4276615 , -1.71383075, -1.71383075,  0.        ]), array([3, 1, 2, 0, 2, 2, 3, 3, 3, 1, 0, 0], dtype=object)]\n",
      "[38, array([-3.4276615 , -1.71383075, -1.71383075,  0.        ]), array([2, 1, 0, 3, 2, 0, 3, 1, 1, 1, 3, 1], dtype=object)]\n",
      "[39, array([-3.4276615 , -1.71383075, -1.71383075,  0.        ]), array([0, 1, 0, 2, 0, 3, 1, 1, 3, 3, 2, 2], dtype=object)]\n",
      "[39, array([-3.4276615 , -1.71383075, -1.71383075,  0.        ]), array([2, 1, 0, 3, 2, 0, 3, 1, 1, 0, 0, 2], dtype=object)]\n",
      "[40, array([-3.4276615 , -1.71383075, -1.71383075,  0.        ]), array([2, 1, 0, 2, 2, 0, 1, 1, 1, 1, 0, 2], dtype=object)]\n",
      "[40, array([-3.4276615 , -1.71383075, -1.71383075,  0.        ]), array([0, 1, 2, 2, 2, 1, 1, 3, 3, 3, 1, 1], dtype=object)]\n"
     ]
    }
   ],
   "source": [
    "# we can perform CAFQA by using the main optimization function \"claptonize\"\n",
    "ks_best, _, energy_best = claptonize(\n",
    "    paulis,\n",
    "    coeffs,\n",
    "    vqe_pcirc,\n",
    "    n_proc=4,           # total number of processes in parallel\n",
    "    n_starts=4,         # number of random genetic algorithm starts in parallel\n",
    "    n_rounds=1,         # number of budget rounds, if None it will terminate itself\n",
    "    callback=print,     # callback for internal parameter (#iteration, energies, ks) processing\n",
    "    budget=20           # budget per genetic algorithm instance\n",
    ")"
   ]
  },
  {
   "cell_type": "code",
   "execution_count": 11,
   "metadata": {},
   "outputs": [
    {
     "data": {
      "text/plain": [
       "[2, 1, 0, 3, 2, 0, 3, 1, 1, 0, 3, 1]"
      ]
     },
     "execution_count": 11,
     "metadata": {},
     "output_type": "execute_result"
    }
   ],
   "source": [
    "# the best parameters are\n",
    "ks_best"
   ]
  },
  {
   "cell_type": "code",
   "execution_count": 12,
   "metadata": {},
   "outputs": [
    {
     "data": {
      "text/plain": [
       "-1.7138307493071705"
      ]
     },
     "execution_count": 12,
     "metadata": {},
     "output_type": "execute_result"
    }
   ],
   "source": [
    "# with energy\n",
    "energy_best"
   ]
  },
  {
   "cell_type": "code",
   "execution_count": 13,
   "metadata": {},
   "outputs": [
    {
     "data": {
      "text/html": [
       "<pre>q0: -Y------S_DAG-X-@-SQRT_Y_DAG-I------------\n",
       "                  | |\n",
       "q1: -SQRT_Y-Z-----|-X-@----------SQRT_Y-S_DAG-\n",
       "                  |   |\n",
       "q2: -I------I-----@---X----------SQRT_Y-S-----</pre>"
      ],
      "text/plain": [
       "q0: -Y------S_DAG-X-@-SQRT_Y_DAG-I------------\n",
       "                  | |\n",
       "q1: -SQRT_Y-Z-----|-X-@----------SQRT_Y-S_DAG-\n",
       "                  |   |\n",
       "q2: -I------I-----@---X----------SQRT_Y-S-----"
      ]
     },
     "execution_count": 13,
     "metadata": {},
     "output_type": "execute_result"
    }
   ],
   "source": [
    "# the corresponding circuit is\n",
    "vqe_pcirc.assign(ks_best)\n",
    "vqe_pcirc.stim_circuit().diagram()"
   ]
  },
  {
   "cell_type": "markdown",
   "metadata": {},
   "source": [
    "# noisy CAFQA (nCAFQA)"
   ]
  },
  {
   "cell_type": "code",
   "execution_count": 14,
   "metadata": {},
   "outputs": [],
   "source": [
    "from clapton.depolarization import GateGeneralDepolarizationModel #TODO: check this out "
   ]
  },
  {
   "cell_type": "code",
   "execution_count": 15,
   "metadata": {},
   "outputs": [],
   "source": [
    "# let's add a noise model where we specify global 1q and 2q gate errors\n",
    "nm = GateGeneralDepolarizationModel(p1=0.005, p2=0.02)"
   ]
  },
  {
   "cell_type": "code",
   "execution_count": 16,
   "metadata": {},
   "outputs": [
    {
     "data": {
      "text/plain": [
       "<clapton.clifford.ParametrizedCliffordCircuit at 0x7fe95a86e320>"
      ]
     },
     "execution_count": 16,
     "metadata": {},
     "output_type": "execute_result"
    }
   ],
   "source": [
    "vqe_pcirc = circular_ansatz(N=len(paulis[0]), reps=1, fix_2q=True)\n",
    "vqe_pcirc.add_depolarization_model(nm)"
   ]
  },
  {
   "cell_type": "code",
   "execution_count": 17,
   "metadata": {},
   "outputs": [
    {
     "data": {
      "text/html": [
       "<pre>q0: -I-DEPOLARIZE1(0.005)--------------------I------------------DEPOLARIZE1(0.005)---------------------------------------X-DEPOLARIZE2(0.02)-@-DEPOLARIZE2(0.02)---I-----------------DEPOLARIZE1(0.005)--------------------I------------------DEPOLARIZE1(0.005)---------------------------------------\n",
       "                                                                                                                         | |                 | |\n",
       "q1: ---I------------------DEPOLARIZE1(0.005)--------------------I------------------DEPOLARIZE1(0.005)--------------------|-|-----------------X-DEPOLARIZE2(0.02)-@-DEPOLARIZE2(0.02)-I------------------DEPOLARIZE1(0.005)--------------------I------------------DEPOLARIZE1(0.005)--------------------\n",
       "                                                                                                                         | |                                     | |\n",
       "q2: ----------------------I------------------DEPOLARIZE1(0.005)--------------------I------------------DEPOLARIZE1(0.005)-@-DEPOLARIZE2(0.02)---------------------X-DEPOLARIZE2(0.02)--------------------I------------------DEPOLARIZE1(0.005)--------------------I------------------DEPOLARIZE1(0.005)-</pre>"
      ],
      "text/plain": [
       "q0: -I-DEPOLARIZE1(0.005)--------------------I------------------DEPOLARIZE1(0.005)---------------------------------------X-DEPOLARIZE2(0.02)-@-DEPOLARIZE2(0.02)---I-----------------DEPOLARIZE1(0.005)--------------------I------------------DEPOLARIZE1(0.005)---------------------------------------\n",
       "                                                                                                                         | |                 | |\n",
       "q1: ---I------------------DEPOLARIZE1(0.005)--------------------I------------------DEPOLARIZE1(0.005)--------------------|-|-----------------X-DEPOLARIZE2(0.02)-@-DEPOLARIZE2(0.02)-I------------------DEPOLARIZE1(0.005)--------------------I------------------DEPOLARIZE1(0.005)--------------------\n",
       "                                                                                                                         | |                                     | |\n",
       "q2: ----------------------I------------------DEPOLARIZE1(0.005)--------------------I------------------DEPOLARIZE1(0.005)-@-DEPOLARIZE2(0.02)---------------------X-DEPOLARIZE2(0.02)--------------------I------------------DEPOLARIZE1(0.005)--------------------I------------------DEPOLARIZE1(0.005)-"
      ]
     },
     "execution_count": 17,
     "metadata": {},
     "output_type": "execute_result"
    }
   ],
   "source": [
    "# after every gate a depol channel is added\n",
    "vqe_pcirc.stim_circuit().diagram()"
   ]
  },
  {
   "cell_type": "code",
   "execution_count": 18,
   "metadata": {},
   "outputs": [
    {
     "name": "stdout",
     "output_type": "stream",
     "text": [
      "STARTING ROUND 0\n",
      "\n",
      "\n",
      "started GA at id 1 with 1 procs\n",
      "\n",
      "started GA at id 2 with 1 procs\n",
      "\n",
      "\n",
      "started GA at id None with 1 procs\n",
      "\n",
      "started GA at id 3 with 1 procs\n",
      "[0, array([-1.87495981, -0.89632392, -0.9786359 ,  0.        ]), array([3, 0, 2, 2, 3, 1, 0, 3, 1, 2, 0, 2], dtype=object)]\n",
      "[0, array([-2.91581936, -1.36392415, -1.55189521,  0.        ]), array([1, 3, 1, 2, 1, 1, 1, 1, 0, 3, 2, 1], dtype=object)]\n",
      "[0, array([-3.23175191, -1.51792116, -1.71383075,  0.        ]), array([2, 1, 0, 3, 0, 3, 0, 3, 1, 1, 3, 3], dtype=object)]\n",
      "[0, array([-3.24031748, -1.52648673, -1.71383075,  0.        ]), array([2, 1, 2, 2, 0, 0, 1, 2, 2, 3, 3, 1], dtype=object)]\n",
      "[1, array([-3.21675391, -1.50292316, -1.71383075,  0.        ]), array([2, 1, 0, 1, 2, 1, 2, 1, 1, 3, 1, 3], dtype=object)]\n",
      "[1, array([-1.86804781, -0.88941192, -0.9786359 ,  0.        ]), array([0, 0, 0, 3, 1, 1, 1, 1, 1, 3, 0, 2], dtype=object)]\n",
      "[1, array([-3.2237751 , -1.50994435, -1.71383075,  0.        ]), array([2, 1, 2, 1, 2, 3, 3, 3, 3, 0, 3, 3], dtype=object)]\n",
      "[1, array([-3.23844891, -1.52461816, -1.71383075,  0.        ]), array([2, 1, 2, 3, 2, 3, 3, 2, 2, 2, 3, 3], dtype=object)]\n",
      "[2, array([-3.22956261, -1.51573186, -1.71383075,  0.        ]), array([2, 1, 0, 1, 2, 1, 2, 1, 1, 3, 1, 3], dtype=object)]\n",
      "[2, array([-3.19639175, -1.482561  , -1.71383075,  0.        ]), array([0, 3, 2, 1, 3, 1, 2, 2, 2, 1, 2, 1], dtype=object)]\n",
      "[2, array([-3.22874237, -1.51491162, -1.71383075,  0.        ]), array([2, 1, 2, 0, 2, 2, 0, 3, 3, 1, 3, 3], dtype=object)]\n",
      "[2, array([-3.23632961, -1.52249886, -1.71383075,  0.        ]), array([0, 1, 0, 3, 0, 3, 0, 3, 1, 1, 3, 3], dtype=object)]\n",
      "[3, array([-2.93550155, -1.38360635, -1.55189521,  0.        ]), array([1, 2, 0, 1, 2, 1, 1, 1, 3, 2, 2, 2], dtype=object)]\n",
      "[3, array([-1.85398468, -0.87534879, -0.9786359 ,  0.        ]), array([2, 1, 1, 1, 2, 2, 1, 0, 2, 1, 0, 2], dtype=object)]\n",
      "[3, array([-3.24242265, -1.5285919 , -1.71383075,  0.        ]), array([1, 1, 2, 0, 2, 2, 0, 3, 3, 1, 3, 3], dtype=object)]\n",
      "[3, array([-3.22458658, -1.51075583, -1.71383075,  0.        ]), array([3, 1, 0, 3, 0, 3, 0, 3, 1, 1, 3, 3], dtype=object)]\n",
      "[4, array([-2.95123106, -1.39933585, -1.55189521,  0.        ]), array([1, 2, 0, 1, 2, 1, 1, 1, 3, 2, 2, 2], dtype=object)]\n",
      "[4, array([-1.86537589, -0.88673999, -0.9786359 ,  0.        ]), array([2, 1, 1, 1, 2, 2, 1, 0, 2, 1, 0, 2], dtype=object)]\n",
      "[4, array([-3.24477099, -1.53094024, -1.71383075,  0.        ]), array([2, 1, 2, 2, 2, 3, 3, 3, 3, 1, 3, 3], dtype=object)]\n",
      "[4, array([-3.2330316 , -1.51920085, -1.71383075,  0.        ]), array([3, 1, 0, 3, 0, 3, 0, 3, 1, 1, 3, 3], dtype=object)]\n",
      "[5, array([-3.20463897, -1.49080822, -1.71383075,  0.        ]), array([2, 1, 0, 3, 1, 2, 0, 0, 2, 0, 3, 2], dtype=object)]\n",
      "[5, array([-3.24292285, -1.5290921 , -1.71383075,  0.        ]), array([3, 3, 0, 3, 2, 0, 1, 0, 2, 1, 2, 2], dtype=object)]\n",
      "[5, array([-3.24099007, -1.52715932, -1.71383075,  0.        ]), array([2, 1, 2, 1, 2, 3, 3, 3, 3, 0, 3, 3], dtype=object)]\n",
      "[5, array([-3.23040735, -1.5165766 , -1.71383075,  0.        ]), array([2, 1, 0, 3, 0, 3, 0, 3, 1, 1, 3, 3], dtype=object)]\n",
      "[6, array([-3.21599754, -1.50216679, -1.71383075,  0.        ]), array([2, 1, 2, 1, 0, 0, 1, 2, 2, 0, 1, 3], dtype=object)]\n",
      "[6, array([-3.24235911, -1.52852836, -1.71383075,  0.        ]), array([3, 3, 2, 0, 2, 2, 1, 3, 1, 2, 0, 2], dtype=object)]\n",
      "[6, array([-3.25327463, -1.53944388, -1.71383075,  0.        ]), array([2, 1, 2, 2, 2, 3, 3, 3, 3, 0, 3, 3], dtype=object)]\n",
      "[6, array([-3.23713256, -1.52330181, -1.71383075,  0.        ]), array([2, 1, 2, 1, 0, 0, 0, 1, 3, 2, 3, 1], dtype=object)]\n",
      "[7, array([-3.24973075, -1.5359    , -1.71383075,  0.        ]), array([3, 3, 0, 0, 0, 2, 3, 1, 1, 3, 0, 2], dtype=object)]\n",
      "[7, array([-3.19788527, -1.48405452, -1.71383075,  0.        ]), array([2, 1, 0, 3, 1, 2, 0, 0, 2, 0, 3, 2], dtype=object)]\n",
      "[7, array([-3.24095939, -1.52712864, -1.71383075,  0.        ]), array([1, 1, 0, 3, 0, 3, 0, 3, 1, 1, 3, 3], dtype=object)][7, array([-3.24692507, -1.53309432, -1.71383075,  0.        ]), array([2, 1, 2, 1, 2, 2, 0, 3, 3, 0, 3, 3], dtype=object)]\n",
      "\n",
      "[8, array([-3.24340598, -1.52957523, -1.71383075,  0.        ]), array([2, 1, 2, 2, 2, 2, 3, 3, 3, 0, 3, 3], dtype=object)]\n",
      "[8, array([-3.2319907 , -1.51815995, -1.71383075,  0.        ]), array([3, 3, 0, 0, 0, 2, 3, 1, 1, 3, 0, 2], dtype=object)]\n",
      "[8, array([-3.19902438, -1.48519363, -1.71383075,  0.        ]), array([2, 1, 0, 3, 1, 0, 2, 0, 2, 0, 3, 2], dtype=object)]\n",
      "[8, array([-3.23664709, -1.52281634, -1.71383075,  0.        ]), array([3, 1, 0, 0, 0, 3, 0, 3, 1, 3, 1, 1], dtype=object)]\n",
      "[9, array([-3.24874999, -1.53491924, -1.71383075,  0.        ]), array([3, 3, 0, 0, 0, 2, 3, 1, 1, 3, 0, 2], dtype=object)]\n",
      "[9, array([-3.24425872, -1.53042797, -1.71383075,  0.        ]), array([2, 1, 2, 0, 2, 2, 0, 3, 3, 1, 3, 3], dtype=object)]\n",
      "[9, array([-3.21703324, -1.50320249, -1.71383075,  0.        ]), array([2, 1, 0, 3, 1, 0, 2, 0, 2, 0, 3, 2], dtype=object)]\n",
      "[9, array([-3.24988859, -1.53605784, -1.71383075,  0.        ]), array([2, 1, 0, 3, 0, 3, 0, 3, 1, 1, 3, 3], dtype=object)]\n",
      "[10, array([-3.24766301, -1.53383226, -1.71383075,  0.        ]), array([2, 1, 2, 0, 2, 3, 3, 3, 3, 1, 3, 3], dtype=object)]\n",
      "[10, array([-3.22734121, -1.51351046, -1.71383075,  0.        ]), array([3, 3, 0, 0, 0, 2, 1, 0, 2, 1, 0, 2], dtype=object)]\n",
      "[10, array([-3.22941673, -1.51558598, -1.71383075,  0.        ]), array([3, 1, 0, 3, 0, 3, 0, 3, 1, 3, 1, 1], dtype=object)]\n",
      "[10, array([-3.21782605, -1.5039953 , -1.71383075,  0.        ]), array([2, 1, 0, 3, 2, 1, 0, 2, 0, 3, 3, 1], dtype=object)]\n",
      "[11, array([-3.25707956, -1.54324881, -1.71383075,  0.        ]), array([2, 1, 2, 2, 2, 3, 3, 3, 3, 1, 3, 3], dtype=object)]\n",
      "[11, array([-3.26337592, -1.54954518, -1.71383075,  0.        ]), array([3, 3, 0, 0, 0, 2, 1, 1, 1, 3, 0, 2], dtype=object)]\n",
      "[11, array([-3.22395953, -1.51012878, -1.71383075,  0.        ]), array([2, 1, 0, 3, 2, 1, 0, 2, 0, 3, 3, 1], dtype=object)]\n",
      "[11, array([-3.24542635, -1.5315956 , -1.71383075,  0.        ]), array([2, 1, 0, 3, 0, 3, 0, 3, 1, 3, 1, 1], dtype=object)]\n",
      "[12, array([-3.24168459, -1.52785385, -1.71383075,  0.        ]), array([1, 1, 2, 2, 2, 3, 3, 3, 3, 0, 0, 0], dtype=object)]\n",
      "[12, array([-3.23500486, -1.52117411, -1.71383075,  0.        ]), array([2, 1, 2, 2, 0, 0, 0, 1, 3, 3, 3, 1], dtype=object)]\n",
      "[12, array([-3.23813857, -1.52430783, -1.71383075,  0.        ]), array([1, 1, 0, 3, 2, 1, 0, 2, 0, 3, 3, 1], dtype=object)]\n",
      "[12, array([-3.24792542, -1.53409467, -1.71383075,  0.        ]), array([0, 1, 0, 0, 2, 0, 3, 3, 3, 0, 0, 2], dtype=object)]\n",
      "[13, array([-3.2460499 , -1.53221915, -1.71383075,  0.        ]), array([2, 1, 2, 2, 2, 3, 3, 3, 3, 1, 3, 3], dtype=object)]\n",
      "[13, array([-3.24987773, -1.53604698, -1.71383075,  0.        ]), array([2, 1, 0, 1, 0, 2, 0, 1, 3, 3, 3, 3], dtype=object)]\n",
      "[13, array([-3.23021715, -1.5163864 , -1.71383075,  0.        ]), array([2, 3, 0, 2, 2, 0, 0, 0, 2, 3, 3, 3], dtype=object)]\n",
      "[13, array([-3.27110742, -1.55727667, -1.71383075,  0.        ]), array([3, 3, 0, 1, 0, 1, 1, 0, 2, 1, 0, 2], dtype=object)]\n",
      "[14, array([-3.24163815, -1.5278074 , -1.71383075,  0.        ]), array([2, 1, 2, 0, 2, 3, 3, 3, 3, 2, 3, 3], dtype=object)]\n",
      "[14, array([-3.23948503, -1.52565428, -1.71383075,  0.        ]), array([3, 1, 2, 1, 0, 0, 0, 1, 3, 2, 3, 1], dtype=object)]\n",
      "[14, array([-3.23191776, -1.51808701, -1.71383075,  0.        ]), array([2, 3, 0, 2, 2, 0, 0, 0, 2, 3, 3, 3], dtype=object)]\n",
      "[14, array([-3.25650518, -1.54267443, -1.71383075,  0.        ]), array([3, 3, 0, 0, 0, 2, 2, 1, 1, 0, 0, 2], dtype=object)]\n",
      "[15, array([-3.24736532, -1.53353457, -1.71383075,  0.        ]), array([2, 1, 2, 2, 2, 3, 3, 3, 3, 0, 3, 3], dtype=object)]\n",
      "[15, array([-3.24746023, -1.53362948, -1.71383075,  0.        ]), array([2, 1, 2, 1, 0, 0, 0, 1, 3, 2, 3, 1], dtype=object)]\n",
      "[15, array([-3.24686457, -1.53303382, -1.71383075,  0.        ]), array([0, 1, 0, 3, 2, 1, 0, 2, 0, 3, 3, 1], dtype=object)]\n",
      "[16, array([-3.2410894 , -1.52725865, -1.71383075,  0.        ]), array([2, 1, 2, 2, 2, 3, 3, 3, 3, 3, 3, 3], dtype=object)]\n",
      "[15, array([-3.24885733, -1.53502658, -1.71383075,  0.        ]), array([3, 3, 0, 1, 0, 3, 1, 1, 1, 3, 0, 2], dtype=object)]\n",
      "[16, array([-3.2421104 , -1.52827965, -1.71383075,  0.        ]), array([2, 1, 2, 0, 0, 0, 0, 1, 3, 2, 3, 1], dtype=object)]\n",
      "[16, array([-3.22664715, -1.5128164 , -1.71383075,  0.        ]), array([0, 3, 0, 1, 0, 1, 0, 2, 0, 3, 3, 1], dtype=object)]\n",
      "[16, array([-3.25600181, -1.54217106, -1.71383075,  0.        ]), array([0, 3, 0, 0, 0, 2, 3, 3, 3, 0, 0, 2], dtype=object)]\n",
      "[17, array([-3.25401665, -1.5401859 , -1.71383075,  0.        ]), array([2, 1, 2, 2, 2, 3, 3, 3, 3, 0, 3, 3], dtype=object)]\n",
      "[17, array([-3.24901717, -1.53518642, -1.71383075,  0.        ]), array([2, 1, 2, 1, 0, 0, 0, 1, 3, 2, 3, 1], dtype=object)]\n",
      "[17, array([-3.25018036, -1.53634961, -1.71383075,  0.        ]), array([2, 1, 2, 1, 0, 0, 1, 2, 2, 0, 1, 3], dtype=object)]\n",
      "[18, array([-3.24093094, -1.52710019, -1.71383075,  0.        ]), array([1, 1, 2, 2, 2, 3, 3, 0, 0, 0, 3, 3], dtype=object)]\n",
      "[18, array([-3.23617183, -1.52234108, -1.71383075,  0.        ]), array([3, 1, 2, 1, 0, 0, 0, 2, 2, 2, 3, 1], dtype=object)]\n",
      "[17, array([-3.25751695, -1.5436862 , -1.71383075,  0.        ]), array([0, 3, 0, 0, 0, 2, 1, 1, 1, 3, 0, 2], dtype=object)]\n",
      "[18, array([-3.21963722, -1.50580647, -1.71383075,  0.        ]), array([2, 3, 0, 3, 2, 0, 1, 2, 0, 3, 3, 3], dtype=object)]\n",
      "[18, array([-3.25577814, -1.5419474 , -1.71383075,  0.        ]), array([3, 3, 0, 0, 0, 0, 3, 3, 3, 0, 0, 2], dtype=object)]\n",
      "[19, array([-3.25859444, -1.54476369, -1.71383075,  0.        ]), array([3, 1, 2, 1, 0, 0, 0, 1, 3, 2, 3, 1], dtype=object)]\n",
      "[19, array([-3.24468841, -1.53085766, -1.71383075,  0.        ]), array([2, 1, 2, 2, 2, 3, 3, 3, 3, 0, 3, 3], dtype=object)]\n",
      "[20, array([-3.24200954, -1.52817879, -1.71383075,  0.        ]), array([2, 1, 2, 2, 2, 3, 3, 3, 3, 3, 3, 3], dtype=object)]\n",
      "[19, array([-3.24638486, -1.53255411, -1.71383075,  0.        ]), array([0, 1, 0, 3, 2, 1, 0, 2, 0, 2, 3, 1], dtype=object)]\n",
      "[20, array([-3.24642584, -1.53259509, -1.71383075,  0.        ]), array([2, 1, 2, 0, 0, 0, 0, 1, 3, 2, 2, 0], dtype=object)]\n",
      "[19, array([-3.2558414 , -1.54201065, -1.71383075,  0.        ]), array([3, 3, 0, 1, 0, 2, 3, 3, 3, 3, 0, 2], dtype=object)]\n",
      "[20, array([-3.24276471, -1.52893396, -1.71383075,  0.        ]), array([2, 1, 0, 3, 2, 1, 0, 2, 0, 1, 3, 1], dtype=object)]\n",
      "[20, array([-3.25402342, -1.54019267, -1.71383075,  0.        ]), array([0, 1, 0, 0, 2, 2, 3, 3, 3, 0, 0, 2], dtype=object)]\n",
      "[21, array([-3.25216078, -1.53833003, -1.71383075,  0.        ]), array([2, 1, 2, 2, 2, 3, 3, 3, 3, 0, 3, 3], dtype=object)]\n",
      "[22, array([-3.23043251, -1.51660176, -1.71383075,  0.        ]), array([2, 1, 2, 2, 2, 3, 2, 3, 3, 0, 3, 3], dtype=object)]\n",
      "[21, array([-3.25733047, -1.54349972, -1.71383075,  0.        ]), array([2, 1, 2, 0, 0, 0, 0, 1, 3, 2, 3, 1], dtype=object)]\n",
      "[22, array([-3.24710422, -1.53327347, -1.71383075,  0.        ]), array([2, 1, 2, 3, 0, 2, 3, 0, 0, 2, 3, 1], dtype=object)]\n",
      "[21, array([-3.2505417 , -1.53671095, -1.71383075,  0.        ]), array([1, 1, 0, 3, 2, 1, 0, 2, 0, 3, 3, 1], dtype=object)]\n",
      "[21, array([-3.26183548, -1.54800473, -1.71383075,  0.        ]), array([3, 3, 0, 0, 0, 2, 3, 3, 3, 0, 0, 2], dtype=object)]\n",
      "[23, array([-3.24645456, -1.53262381, -1.71383075,  0.        ]), array([2, 1, 2, 2, 2, 3, 3, 3, 3, 0, 3, 3], dtype=object)]\n",
      "[22, array([-3.24054095, -1.5267102 , -1.71383075,  0.        ]), array([2, 1, 0, 3, 2, 1, 2, 2, 0, 3, 1, 3], dtype=object)]\n",
      "[22, array([-3.24621253, -1.53238178, -1.71383075,  0.        ]), array([3, 3, 0, 1, 0, 3, 1, 3, 3, 3, 0, 2], dtype=object)]\n",
      "[23, array([-3.248657  , -1.53482625, -1.71383075,  0.        ]), array([2, 1, 2, 3, 0, 2, 3, 0, 0, 2, 3, 1], dtype=object)]\n",
      "[24, array([-3.24012221, -1.52629146, -1.71383075,  0.        ]), array([2, 1, 2, 2, 2, 0, 3, 3, 3, 0, 3, 3], dtype=object)]\n",
      "[24, array([-3.23736796, -1.52353721, -1.71383075,  0.        ]), array([3, 1, 2, 3, 0, 2, 3, 0, 0, 2, 3, 1], dtype=object)]\n",
      "[23, array([-3.24575084, -1.53192009, -1.71383075,  0.        ]), array([1, 1, 0, 3, 2, 1, 0, 2, 0, 3, 3, 1], dtype=object)]\n",
      "[23, array([-3.26206122, -1.54823047, -1.71383075,  0.        ]), array([3, 3, 0, 1, 0, 3, 1, 3, 3, 3, 0, 2], dtype=object)]\n",
      "[24, array([-3.25139965, -1.5375689 , -1.71383075,  0.        ]), array([0, 3, 0, 0, 0, 2, 2, 1, 1, 0, 0, 2], dtype=object)]\n",
      "[24, array([-3.24373665, -1.5299059 , -1.71383075,  0.        ]), array([0, 1, 0, 3, 2, 1, 3, 2, 0, 3, 2, 0], dtype=object)]\n",
      "[25, array([-3.24868202, -1.53485127, -1.71383075,  0.        ]), array([2, 1, 2, 0, 0, 0, 0, 1, 3, 2, 3, 1], dtype=object)]\n",
      "[25, array([-3.25445193, -1.54062118, -1.71383075,  0.        ]), array([2, 1, 2, 2, 2, 0, 3, 3, 3, 0, 3, 3], dtype=object)]\n",
      "[26, array([-3.24308661, -1.52925586, -1.71383075,  0.        ]), array([2, 1, 2, 2, 2, 1, 3, 3, 3, 0, 3, 3], dtype=object)]\n",
      "[26, array([-3.24694337, -1.53311263, -1.71383075,  0.        ]), array([3, 1, 2, 2, 0, 0, 0, 1, 3, 2, 3, 1], dtype=object)]\n",
      "[25, array([-3.24672683, -1.53289608, -1.71383075,  0.        ]), array([2, 1, 0, 3, 2, 1, 0, 2, 0, 3, 3, 1], dtype=object)]\n",
      "[25, array([-3.25724168, -1.54341093, -1.71383075,  0.        ]), array([0, 3, 0, 0, 0, 2, 3, 3, 3, 0, 0, 2], dtype=object)]\n",
      "[26, array([-3.25074441, -1.53691366, -1.71383075,  0.        ]), array([0, 3, 0, 0, 0, 0, 2, 1, 1, 0, 0, 2], dtype=object)]\n",
      "[26, array([-3.24520623, -1.53137548, -1.71383075,  0.        ]), array([3, 1, 0, 3, 2, 0, 0, 2, 0, 3, 3, 1], dtype=object)]\n",
      "[27, array([-3.24757278, -1.53374203, -1.71383075,  0.        ]), array([2, 1, 2, 2, 2, 3, 3, 3, 3, 0, 3, 3], dtype=object)]\n",
      "[27, array([-3.25003255, -1.5362018 , -1.71383075,  0.        ]), array([3, 1, 2, 0, 0, 1, 0, 1, 3, 2, 3, 1], dtype=object)]\n",
      "[28, array([-3.23962847, -1.52579772, -1.71383075,  0.        ]), array([2, 1, 2, 2, 2, 2, 3, 3, 3, 0, 3, 3], dtype=object)]\n",
      "[28, array([-3.24845156, -1.53462081, -1.71383075,  0.        ]), array([2, 1, 2, 0, 0, 1, 0, 1, 3, 2, 3, 1], dtype=object)]\n",
      "[27, array([-3.25626585, -1.5424351 , -1.71383075,  0.        ]), array([0, 3, 0, 0, 0, 2, 3, 3, 3, 0, 0, 2], dtype=object)]\n",
      "[27, array([-3.25067752, -1.53684677, -1.71383075,  0.        ]), array([2, 1, 0, 3, 2, 1, 0, 2, 0, 3, 3, 1], dtype=object)]\n",
      "[28, array([-3.23912841, -1.52529766, -1.71383075,  0.        ]), array([2, 1, 0, 3, 2, 1, 0, 2, 0, 3, 3, 1], dtype=object)]\n",
      "[28, array([-3.26539299, -1.55156224, -1.71383075,  0.        ]), array([1, 3, 0, 0, 0, 2, 1, 3, 3, 0, 0, 2], dtype=object)]\n",
      "[29, array([-3.24456692, -1.53073617, -1.71383075,  0.        ]), array([2, 1, 2, 3, 0, 2, 3, 0, 0, 2, 3, 1], dtype=object)]\n",
      "[29, array([-3.24263115, -1.5288004 , -1.71383075,  0.        ]), array([2, 1, 2, 2, 2, 3, 3, 3, 3, 0, 3, 3], dtype=object)]\n",
      "[30, array([-3.24700009, -1.53316934, -1.71383075,  0.        ]), array([2, 1, 2, 3, 0, 2, 3, 1, 3, 1, 3, 1], dtype=object)]\n",
      "[29, array([-3.24747629, -1.53364554, -1.71383075,  0.        ]), array([2, 1, 0, 3, 2, 1, 0, 2, 0, 3, 3, 1], dtype=object)]\n",
      "[30, array([-3.23988164, -1.52605089, -1.71383075,  0.        ]), array([2, 1, 2, 1, 2, 3, 3, 3, 3, 2, 3, 3], dtype=object)]\n",
      "[29, array([-3.25364861, -1.53981786, -1.71383075,  0.        ]), array([0, 3, 0, 0, 0, 2, 3, 3, 3, 0, 0, 2], dtype=object)]\n",
      "[30, array([-3.24592847, -1.53209772, -1.71383075,  0.        ]), array([1, 1, 0, 3, 2, 1, 2, 2, 0, 3, 3, 1], dtype=object)]\n",
      "[31, array([-3.24902519, -1.53519444, -1.71383075,  0.        ]), array([3, 1, 2, 3, 0, 0, 0, 1, 3, 2, 2, 0], dtype=object)]\n",
      "[30, array([-3.25183581, -1.53800506, -1.71383075,  0.        ]), array([1, 3, 0, 0, 0, 2, 2, 1, 1, 0, 0, 2], dtype=object)]\n",
      "[31, array([-3.24871962, -1.53488887, -1.71383075,  0.        ]), array([2, 1, 2, 2, 2, 3, 3, 3, 3, 0, 3, 3], dtype=object)]\n",
      "[32, array([-3.24992928, -1.53609853, -1.71383075,  0.        ]), array([3, 1, 2, 3, 0, 2, 3, 0, 0, 2, 3, 1], dtype=object)]\n",
      "[32, array([-3.23012538, -1.51629463, -1.71383075,  0.        ]), array([0, 1, 2, 2, 2, 3, 3, 3, 3, 0, 3, 3], dtype=object)]\n",
      "[31, array([-3.25138676, -1.53755601, -1.71383075,  0.        ]), array([1, 1, 0, 3, 2, 1, 0, 2, 0, 3, 3, 1], dtype=object)]\n",
      "[31, array([-3.25563535, -1.5418046 , -1.71383075,  0.        ]), array([3, 3, 0, 0, 0, 2, 2, 1, 1, 0, 0, 2], dtype=object)]\n",
      "[32, array([-3.24351889, -1.52968814, -1.71383075,  0.        ]), array([0, 1, 0, 3, 2, 1, 2, 2, 0, 3, 3, 1], dtype=object)]\n",
      "[33, array([-3.24651256, -1.53268181, -1.71383075,  0.        ]), array([3, 1, 2, 3, 0, 2, 3, 0, 0, 2, 3, 1], dtype=object)]\n",
      "[33, array([-3.24739542, -1.53356467, -1.71383075,  0.        ]), array([2, 1, 2, 2, 2, 3, 3, 3, 3, 0, 3, 3], dtype=object)]\n",
      "[32, array([-3.25085096, -1.53702021, -1.71383075,  0.        ]), array([0, 3, 0, 0, 0, 2, 2, 1, 1, 0, 0, 2], dtype=object)]\n",
      "[34, array([-3.23280223, -1.51897149, -1.71383075,  0.        ]), array([2, 1, 2, 2, 2, 2, 3, 3, 3, 0, 3, 3], dtype=object)]\n",
      "[34, array([-3.24204596, -1.52821521, -1.71383075,  0.        ]), array([2, 1, 2, 3, 0, 0, 0, 1, 3, 2, 3, 1], dtype=object)]\n",
      "[33, array([-3.25229203, -1.53846128, -1.71383075,  0.        ]), array([1, 1, 0, 3, 2, 1, 3, 2, 0, 3, 2, 0], dtype=object)]\n",
      "[33, array([-3.25858951, -1.54475876, -1.71383075,  0.        ]), array([0, 3, 0, 0, 0, 2, 3, 3, 3, 0, 0, 2], dtype=object)]\n",
      "[34, array([-3.25621989, -1.54238914, -1.71383075,  0.        ]), array([1, 1, 0, 3, 2, 1, 3, 2, 0, 3, 2, 0], dtype=object)]\n",
      "[35, array([-3.25078164, -1.53695089, -1.71383075,  0.        ]), array([2, 1, 2, 2, 2, 3, 3, 3, 3, 0, 3, 3], dtype=object)]\n",
      "[35, array([-3.25028117, -1.53645042, -1.71383075,  0.        ]), array([3, 1, 2, 3, 0, 0, 3, 0, 0, 2, 3, 1], dtype=object)]\n",
      "[34, array([-3.24732649, -1.53349574, -1.71383075,  0.        ]), array([0, 3, 0, 0, 0, 2, 2, 1, 1, 0, 0, 2], dtype=object)]\n",
      "\n",
      "[36, array([-3.25629933, -1.54246858, -1.71383075,  0.        ]), array([3, 1, 2, 3, 0, 0, 3, 0, 0, 2, 3, 1], dtype=object)][36, array([-3.23807887, -1.52424812, -1.71383075,  0.        ]), array([2, 1, 2, 2, 2, 3, 2, 3, 3, 0, 3, 3], dtype=object)]\n",
      "[35, array([-3.24970648, -1.53587573, -1.71383075,  0.        ]), array([2, 1, 0, 3, 2, 1, 2, 2, 0, 3, 2, 0], dtype=object)]\n",
      "[35, array([-3.25322707, -1.53939632, -1.71383075,  0.        ]), array([3, 3, 0, 0, 0, 2, 2, 1, 1, 0, 0, 2], dtype=object)]\n",
      "[37, array([-3.24799164, -1.53416089, -1.71383075,  0.        ]), array([3, 1, 2, 3, 0, 2, 3, 0, 0, 2, 3, 1], dtype=object)]\n",
      "[36, array([-3.25012615, -1.5362954 , -1.71383075,  0.        ]), array([1, 3, 0, 0, 0, 2, 2, 1, 1, 0, 0, 2], dtype=object)]\n",
      "[36, array([-3.25216804, -1.53833729, -1.71383075,  0.        ]), array([2, 1, 0, 3, 2, 2, 2, 2, 0, 3, 3, 1], dtype=object)]\n",
      "[37, array([-3.25112496, -1.53729421, -1.71383075,  0.        ]), array([2, 1, 2, 2, 2, 3, 3, 3, 3, 0, 3, 3], dtype=object)]\n",
      "[38, array([-3.23630262, -1.52247187, -1.71383075,  0.        ]), array([3, 1, 2, 3, 0, 2, 3, 0, 0, 3, 3, 1], dtype=object)]\n",
      "[38, array([-3.23864311, -1.52481236, -1.71383075,  0.        ]), array([2, 1, 2, 2, 2, 3, 3, 3, 3, 1, 3, 3], dtype=object)]\n",
      "[37, array([-3.25690425, -1.5430735 , -1.71383075,  0.        ]), array([3, 3, 0, 0, 0, 2, 2, 1, 1, 0, 0, 2], dtype=object)]\n",
      "[37, array([-3.24958405, -1.5357533 , -1.71383075,  0.        ]), array([0, 1, 0, 3, 2, 1, 2, 2, 0, 3, 3, 1], dtype=object)]\n",
      "[39, array([-3.24111921, -1.52728846, -1.71383075,  0.        ]), array([3, 1, 2, 3, 0, 2, 3, 0, 0, 2, 3, 1], dtype=object)]\n",
      "[39, array([-3.25032252, -1.53649177, -1.71383075,  0.        ]), array([2, 1, 2, 2, 2, 3, 3, 3, 3, 0, 3, 3], dtype=object)]\n",
      "[38, array([-3.24511605, -1.5312853 , -1.71383075,  0.        ]), array([3, 3, 0, 0, 0, 2, 2, 1, 1, 3, 0, 2], dtype=object)]\n",
      "[38, array([-3.25582303, -1.54199228, -1.71383075,  0.        ]), array([1, 1, 0, 3, 2, 0, 0, 2, 0, 3, 3, 1], dtype=object)]\n",
      "[40, array([-3.23880347, -1.52497272, -1.71383075,  0.        ]), array([3, 1, 2, 3, 0, 1, 3, 0, 0, 2, 3, 1], dtype=object)]\n",
      "[39, array([-3.26006995, -1.5462392 , -1.71383075,  0.        ]), array([3, 3, 0, 0, 0, 2, 2, 1, 1, 0, 0, 2], dtype=object)]\n",
      "[40, array([-3.23956488, -1.52573413, -1.71383075,  0.        ]), array([2, 1, 2, 2, 2, 2, 3, 3, 3, 2, 3, 3], dtype=object)]\n",
      "[39, array([-3.24894562, -1.53511487, -1.71383075,  0.        ]), array([1, 1, 0, 3, 2, 1, 2, 2, 0, 3, 3, 1], dtype=object)]\n",
      "[40, array([-3.25339833, -1.53956758, -1.71383075,  0.        ]), array([3, 3, 0, 0, 0, 2, 3, 1, 1, 0, 0, 2], dtype=object)]\n",
      "[40, array([-3.24754601, -1.53371526, -1.71383075,  0.        ]), array([2, 1, 0, 0, 2, 3, 0, 2, 0, 3, 3, 1], dtype=object)]\n"
     ]
    }
   ],
   "source": [
    "# we can perform nCAFQA by using the main optimization function \"claptonize\"\n",
    "# now with the noisy circuit\n",
    "ks_best, energy_noisy, energy_noiseless = claptonize(\n",
    "    paulis,\n",
    "    coeffs,\n",
    "    vqe_pcirc,\n",
    "    n_proc=4,           # total number of processes in parallel\n",
    "    n_starts=4,         # number of random genetic algorithm starts in parallel\n",
    "    n_rounds=1,         # number of budget rounds, if None it will terminate itself\n",
    "    callback=print,     # callback for internal parameter (#iteration, energies, ks) processing\n",
    "    budget=20           # budget per genetic algorithm instance\n",
    ")"
   ]
  },
  {
   "cell_type": "code",
   "execution_count": 19,
   "metadata": {},
   "outputs": [
    {
     "data": {
      "text/plain": [
       "[1, 3, 0, 0, 0, 2, 1, 3, 3, 0, 0, 2]"
      ]
     },
     "execution_count": 19,
     "metadata": {},
     "output_type": "execute_result"
    }
   ],
   "source": [
    "# the best parameters are\n",
    "ks_best"
   ]
  },
  {
   "cell_type": "code",
   "execution_count": 20,
   "metadata": {},
   "outputs": [
    {
     "data": {
      "text/plain": [
       "(-1.5212799891157378, -1.7138307493071705)"
      ]
     },
     "execution_count": 20,
     "metadata": {},
     "output_type": "execute_result"
    }
   ],
   "source": [
    "# with noisy/noiseless energy\n",
    "energy_noisy, energy_noiseless"
   ]
  },
  {
   "cell_type": "code",
   "execution_count": 21,
   "metadata": {},
   "outputs": [
    {
     "data": {
      "text/plain": [
       "0.1925507601914327"
      ]
     },
     "execution_count": 21,
     "metadata": {},
     "output_type": "execute_result"
    }
   ],
   "source": [
    "# differrence\n",
    "np.abs(energy_noisy-energy_noiseless)"
   ]
  },
  {
   "cell_type": "code",
   "execution_count": 22,
   "metadata": {},
   "outputs": [
    {
     "data": {
      "text/html": [
       "<pre>q0: -SQRT_Y-----I-X-@-SQRT_Y-I------------\n",
       "                  | |\n",
       "q1: -SQRT_Y_DAG-I-|-X-@------SQRT_Y_DAG-I-\n",
       "                  |   |\n",
       "q2: -I----------Z-@---X------SQRT_Y_DAG-Z-</pre>"
      ],
      "text/plain": [
       "q0: -SQRT_Y-----I-X-@-SQRT_Y-I------------\n",
       "                  | |\n",
       "q1: -SQRT_Y_DAG-I-|-X-@------SQRT_Y_DAG-I-\n",
       "                  |   |\n",
       "q2: -I----------Z-@---X------SQRT_Y_DAG-Z-"
      ]
     },
     "execution_count": 22,
     "metadata": {},
     "output_type": "execute_result"
    }
   ],
   "source": [
    "# the corresponding circuit is\n",
    "vqe_pcirc.assign(ks_best)\n",
    "vqe_pcirc.snapshot_noiseless().circ_snapshot_noiseless.diagram()"
   ]
  }
 ],
 "metadata": {
  "kernelspec": {
   "display_name": "clapton",
   "language": "python",
   "name": "python3"
  },
  "language_info": {
   "codemirror_mode": {
    "name": "ipython",
    "version": 3
   },
   "file_extension": ".py",
   "mimetype": "text/x-python",
   "name": "python",
   "nbconvert_exporter": "python",
   "pygments_lexer": "ipython3",
   "version": "3.10.15"
  }
 },
 "nbformat": 4,
 "nbformat_minor": 2
}
