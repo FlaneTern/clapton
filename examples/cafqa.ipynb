{
 "cells": [
  {
   "cell_type": "markdown",
   "metadata": {},
   "source": [
    "# CAFQA"
   ]
  },
  {
   "cell_type": "code",
   "execution_count": 1,
   "metadata": {},
   "outputs": [],
   "source": [
    "import sys\n",
    "sys.path.append(\"../\")\n",
    "from clapton.clapton import claptonize\n",
    "from clapton.ansatzes import circular_ansatz\n",
    "import numpy as np"
   ]
  },
  {
   "cell_type": "code",
   "execution_count": 2,
   "metadata": {},
   "outputs": [],
   "source": [
    "# define Hamiltonian, e.g. 3q Heisenberg model with random coefficients\n",
    "paulis = [\"XXI\", \"IXX\", \"YYI\", \"IYY\", \"ZZI\", \"IZZ\"]\n",
    "coeffs = np.random.random(len(paulis))"
   ]
  },
  {
   "cell_type": "code",
   "execution_count": 12,
   "metadata": {},
   "outputs": [],
   "source": [
    "# define parametrized Clifford circuit that is being optimized over\n",
    "# here we use the circular_ansatz template\n",
    "# we fix 2q gates as they will not be optimized over\n",
    "vqe_pcirc = circular_ansatz(N=len(paulis[0]), reps=1, fix_2q=True)"
   ]
  },
  {
   "cell_type": "code",
   "execution_count": 13,
   "metadata": {},
   "outputs": [
    {
     "name": "stdout",
     "output_type": "stream",
     "text": [
      "RY False\n",
      "RY False\n",
      "RY False\n",
      "RZ False\n",
      "RZ False\n",
      "RZ False\n",
      "2Q True\n",
      "2Q True\n",
      "2Q True\n",
      "RY False\n",
      "RY False\n",
      "RY False\n",
      "RZ False\n",
      "RZ False\n",
      "RZ False\n"
     ]
    }
   ],
   "source": [
    "# the circuit consists of parametrized gates\n",
    "for gate in vqe_pcirc.gates:\n",
    "    print(gate.label, gate.is_fixed())"
   ]
  },
  {
   "cell_type": "code",
   "execution_count": 14,
   "metadata": {},
   "outputs": [],
   "source": [
    "# non-fixed gates will be optimized over\n",
    "# RY and RZ gates can assume 4 values k = 0,1,2,3 which descripe multiples of pi/2"
   ]
  },
  {
   "cell_type": "code",
   "execution_count": 15,
   "metadata": {},
   "outputs": [
    {
     "data": {
      "text/plain": [
       "[0, 0, 0, 0, 0, 0, 0, 0, 0, 0, 0, 0]"
      ]
     },
     "execution_count": 15,
     "metadata": {},
     "output_type": "execute_result"
    }
   ],
   "source": [
    "# the initial parameters are all 0\n",
    "vqe_pcirc.read()"
   ]
  },
  {
   "cell_type": "code",
   "execution_count": 16,
   "metadata": {},
   "outputs": [
    {
     "data": {
      "text/html": [
       "<pre>q0: -I-I-X-@-I-I---\n",
       "         | |\n",
       "q1: -I-I-|-X-@-I-I-\n",
       "         |   |\n",
       "q2: -I-I-@---X-I-I-</pre>"
      ],
      "text/plain": [
       "q0: -I-I-X-@-I-I---\n",
       "         | |\n",
       "q1: -I-I-|-X-@-I-I-\n",
       "         |   |\n",
       "q2: -I-I-@---X-I-I-"
      ]
     },
     "execution_count": 16,
     "metadata": {},
     "output_type": "execute_result"
    }
   ],
   "source": [
    "# we can look at the corresponding stim circuit\n",
    "vqe_pcirc.stim_circuit().diagram()"
   ]
  },
  {
   "cell_type": "code",
   "execution_count": 17,
   "metadata": {},
   "outputs": [
    {
     "data": {
      "text/plain": [
       "<clapton.clifford.ParametrizedCliffordCircuit at 0x7f0f6e6d7710>"
      ]
     },
     "execution_count": 17,
     "metadata": {},
     "output_type": "execute_result"
    }
   ],
   "source": [
    "# we can assign a different set of parameters\n",
    "vqe_pcirc.assign([0,1,2,3,0,1,2,3,0,1,2,3])"
   ]
  },
  {
   "cell_type": "code",
   "execution_count": 18,
   "metadata": {},
   "outputs": [
    {
     "data": {
      "text/html": [
       "<pre>q0: -I------S_DAG-X-@-Y-S----------------\n",
       "                  | |\n",
       "q1: -SQRT_Y-I-----|-X-@-SQRT_Y_DAG-Z-----\n",
       "                  |   |\n",
       "q2: -Y------S-----@---X-I----------S_DAG-</pre>"
      ],
      "text/plain": [
       "q0: -I------S_DAG-X-@-Y-S----------------\n",
       "                  | |\n",
       "q1: -SQRT_Y-I-----|-X-@-SQRT_Y_DAG-Z-----\n",
       "                  |   |\n",
       "q2: -Y------S-----@---X-I----------S_DAG-"
      ]
     },
     "execution_count": 18,
     "metadata": {},
     "output_type": "execute_result"
    }
   ],
   "source": [
    "vqe_pcirc.stim_circuit().diagram()"
   ]
  },
  {
   "cell_type": "code",
   "execution_count": 23,
   "metadata": {},
   "outputs": [
    {
     "name": "stdout",
     "output_type": "stream",
     "text": [
      "STARTING ROUND 0\n",
      "\n",
      "\n",
      "started GA at id 1 with 1 procs\n",
      "\n",
      "started GA at id 2 with 1 procs\n",
      "\n",
      "started GA at id 3 with 1 procs\n"
     ]
    },
    {
     "name": "stderr",
     "output_type": "stream",
     "text": [
      "/local/lmseifert/conda_envs/clapton/lib/python3.12/site-packages/pygad/pygad.py:1139: UserWarning: The 'delay_after_gen' parameter is deprecated starting from PyGAD 3.3.0. To delay or pause the evolution after each generation, assign a callback function/method to the 'on_generation' parameter to adds some time delay.\n",
      "  warnings.warn(\"The 'delay_after_gen' parameter is deprecated starting from PyGAD 3.3.0. To delay or pause the evolution after each generation, assign a callback function/method to the 'on_generation' parameter to adds some time delay.\")\n",
      "/local/lmseifert/conda_envs/clapton/lib/python3.12/site-packages/pygad/pygad.py:1139: UserWarning: The 'delay_after_gen' parameter is deprecated starting from PyGAD 3.3.0. To delay or pause the evolution after each generation, assign a callback function/method to the 'on_generation' parameter to adds some time delay.\n",
      "  warnings.warn(\"The 'delay_after_gen' parameter is deprecated starting from PyGAD 3.3.0. To delay or pause the evolution after each generation, assign a callback function/method to the 'on_generation' parameter to adds some time delay.\")\n"
     ]
    },
    {
     "name": "stdout",
     "output_type": "stream",
     "text": [
      "\n",
      "started GA at id None with 1 procs\n",
      "\n"
     ]
    },
    {
     "name": "stderr",
     "output_type": "stream",
     "text": [
      "/local/lmseifert/conda_envs/clapton/lib/python3.12/site-packages/pygad/pygad.py:1139: UserWarning: The 'delay_after_gen' parameter is deprecated starting from PyGAD 3.3.0. To delay or pause the evolution after each generation, assign a callback function/method to the 'on_generation' parameter to adds some time delay.\n",
      "  warnings.warn(\"The 'delay_after_gen' parameter is deprecated starting from PyGAD 3.3.0. To delay or pause the evolution after each generation, assign a callback function/method to the 'on_generation' parameter to adds some time delay.\")\n",
      "/local/lmseifert/conda_envs/clapton/lib/python3.12/site-packages/pygad/pygad.py:1139: UserWarning: The 'delay_after_gen' parameter is deprecated starting from PyGAD 3.3.0. To delay or pause the evolution after each generation, assign a callback function/method to the 'on_generation' parameter to adds some time delay.\n",
      "  warnings.warn(\"The 'delay_after_gen' parameter is deprecated starting from PyGAD 3.3.0. To delay or pause the evolution after each generation, assign a callback function/method to the 'on_generation' parameter to adds some time delay.\")\n"
     ]
    },
    {
     "name": "stdout",
     "output_type": "stream",
     "text": [
      "[0, array([-2.50916689, -1.25458345, -1.25458345,  0.        ]), array([2, 1, 1, 3, 2, 0, 0, 0, 2, 0, 2, 0], dtype=object)][0, array([-4.51101288, -2.25550644, -2.25550644,  0.        ]), array([2, 2, 3, 3, 2, 2, 2, 2, 1, 0, 2, 2], dtype=object)]\n",
      "\n",
      "[0, array([-4.51101288, -2.25550644, -2.25550644,  0.        ]), array([0, 0, 3, 0, 1, 0, 0, 2, 1, 2, 0, 2], dtype=object)]\n",
      "[0, array([-4.51101288, -2.25550644, -2.25550644,  0.        ]), array([3, 2, 1, 0, 1, 2, 2, 2, 1, 2, 2, 2], dtype=object)]\n",
      "[1, array([-2.25476647, -1.12738324, -1.12738324,  0.        ]), array([3, 3, 2, 1, 1, 1, 1, 0, 0, 0, 2, 1], dtype=object)][1, array([-4.51101288, -2.25550644, -2.25550644,  0.        ]), array([0, 0, 3, 1, 0, 0, 2, 0, 2, 0, 2, 1], dtype=object)]\n",
      "\n",
      "[1, array([-2.50916689, -1.25458345, -1.25458345,  0.        ]), array([3, 0, 0, 3, 1, 0, 3, 1, 1, 2, 2, 0], dtype=object)]\n",
      "[1, array([-4.51101288, -2.25550644, -2.25550644,  0.        ]), array([3, 2, 1, 0, 1, 2, 2, 2, 0, 1, 1, 0], dtype=object)]\n",
      "[2, array([-4.51101288, -2.25550644, -2.25550644,  0.        ]), array([0, 0, 1, 3, 1, 3, 2, 0, 1, 3, 0, 2], dtype=object)]\n",
      "[2, array([-4.51101288, -2.25550644, -2.25550644,  0.        ]), array([3, 0, 3, 1, 0, 0, 2, 0, 2, 0, 2, 1], dtype=object)]\n",
      "[2, array([-2.50916689, -1.25458345, -1.25458345,  0.        ]), array([3, 0, 0, 3, 1, 0, 3, 1, 1, 2, 2, 0], dtype=object)]\n",
      "[2, array([-4.51101288, -2.25550644, -2.25550644,  0.        ]), array([3, 2, 1, 0, 1, 2, 2, 2, 0, 1, 1, 0], dtype=object)]\n",
      "[3, array([-2.50916689, -1.25458345, -1.25458345,  0.        ]), array([2, 1, 1, 0, 1, 3, 1, 2, 0, 3, 0, 1], dtype=object)]\n",
      "[3, array([-4.51101288, -2.25550644, -2.25550644,  0.        ]), array([2, 2, 3, 3, 3, 2, 3, 1, 3, 2, 0, 2], dtype=object)]\n",
      "[3, array([-4.51101288, -2.25550644, -2.25550644,  0.        ]), array([0, 2, 3, 3, 0, 0, 0, 0, 2, 1, 1, 2], dtype=object)]\n",
      "[3, array([-4.51101288, -2.25550644, -2.25550644,  0.        ]), array([3, 0, 3, 3, 2, 0, 3, 3, 3, 2, 0, 0], dtype=object)]\n",
      "[4, array([-4.51101288, -2.25550644, -2.25550644,  0.        ]), array([2, 2, 3, 3, 3, 2, 3, 1, 3, 2, 0, 2], dtype=object)]\n",
      "[4, array([-4.51101288, -2.25550644, -2.25550644,  0.        ]), array([0, 0, 1, 0, 3, 0, 1, 3, 2, 0, 0, 0], dtype=object)]\n",
      "[4, array([-4.51101288, -2.25550644, -2.25550644,  0.        ]), array([0, 2, 3, 3, 0, 0, 0, 0, 2, 1, 1, 2], dtype=object)]\n",
      "[4, array([-4.51101288, -2.25550644, -2.25550644,  0.        ]), array([3, 0, 3, 3, 2, 0, 3, 3, 3, 2, 0, 0], dtype=object)]\n",
      "[5, array([-2.50916689, -1.25458345, -1.25458345,  0.        ]), array([2, 1, 1, 0, 1, 3, 1, 2, 0, 3, 0, 1], dtype=object)]\n",
      "[5, array([-4.51101288, -2.25550644, -2.25550644,  0.        ]), array([3, 0, 3, 1, 0, 0, 2, 0, 2, 0, 2, 2], dtype=object)]\n",
      "[5, array([-4.51101288, -2.25550644, -2.25550644,  0.        ]), array([2, 0, 1, 3, 1, 1, 0, 2, 2, 1, 0, 2], dtype=object)]\n",
      "[5, array([-4.51101288, -2.25550644, -2.25550644,  0.        ]), array([3, 2, 1, 0, 1, 2, 2, 2, 1, 2, 2, 3], dtype=object)]\n",
      "[6, array([-4.51101288, -2.25550644, -2.25550644,  0.        ]), array([2, 0, 3, 1, 0, 0, 2, 0, 2, 0, 2, 1], dtype=object)]\n",
      "[6, array([-2.50916689, -1.25458345, -1.25458345,  0.        ]), array([2, 1, 1, 0, 1, 0, 0, 2, 2, 0, 0, 1], dtype=object)]\n",
      "[6, array([-4.51101288, -2.25550644, -2.25550644,  0.        ]), array([2, 0, 1, 3, 1, 1, 0, 2, 2, 1, 0, 2], dtype=object)]\n",
      "[6, array([-4.51101288, -2.25550644, -2.25550644,  0.        ]), array([3, 2, 1, 0, 1, 2, 2, 2, 1, 2, 2, 3], dtype=object)]\n",
      "[7, array([-4.51101288, -2.25550644, -2.25550644,  0.        ]), array([3, 0, 3, 1, 0, 0, 2, 0, 2, 0, 2, 1], dtype=object)]\n",
      "[7, array([-4.51101288, -2.25550644, -2.25550644,  0.        ]), array([0, 0, 1, 0, 3, 0, 1, 3, 2, 0, 0, 0], dtype=object)]\n",
      "[7, array([-4.51101288, -2.25550644, -2.25550644,  0.        ]), array([3, 0, 3, 3, 2, 0, 3, 3, 2, 3, 1, 3], dtype=object)]\n",
      "[7, array([-4.51101288, -2.25550644, -2.25550644,  0.        ]), array([2, 0, 1, 2, 1, 1, 0, 2, 2, 3, 2, 0], dtype=object)]\n",
      "[8, array([-4.51101288, -2.25550644, -2.25550644,  0.        ]), array([0, 0, 3, 3, 0, 0, 2, 0, 2, 0, 2, 0], dtype=object)]\n",
      "[8, array([-4.51101288, -2.25550644, -2.25550644,  0.        ]), array([0, 2, 1, 3, 0, 1, 2, 2, 0, 3, 0, 1], dtype=object)]\n",
      "[8, array([-4.51101288, -2.25550644, -2.25550644,  0.        ]), array([3, 0, 3, 3, 2, 0, 3, 3, 2, 3, 1, 3], dtype=object)]\n",
      "[8, array([-4.51101288, -2.25550644, -2.25550644,  0.        ]), array([0, 0, 3, 2, 0, 3, 0, 2, 1, 1, 2, 0], dtype=object)]\n",
      "[9, array([-4.51101288, -2.25550644, -2.25550644,  0.        ]), array([2, 0, 3, 1, 0, 0, 2, 0, 2, 0, 2, 1], dtype=object)]\n",
      "[9, array([-4.51101288, -2.25550644, -2.25550644,  0.        ]), array([0, 0, 1, 0, 1, 0, 0, 2, 2, 0, 0, 1], dtype=object)]\n",
      "[9, array([-4.51101288, -2.25550644, -2.25550644,  0.        ]), array([0, 0, 3, 0, 1, 3, 2, 0, 3, 2, 1, 3], dtype=object)]\n",
      "[9, array([-4.51101288, -2.25550644, -2.25550644,  0.        ]), array([2, 2, 3, 1, 0, 3, 2, 2, 3, 1, 0, 2], dtype=object)]\n",
      "[10, array([-4.51101288, -2.25550644, -2.25550644,  0.        ]), array([2, 0, 1, 1, 0, 0, 2, 0, 2, 1, 1, 0], dtype=object)]\n",
      "[10, array([-4.51101288, -2.25550644, -2.25550644,  0.        ]), array([0, 0, 1, 0, 1, 0, 0, 2, 2, 0, 0, 1], dtype=object)]\n",
      "[10, array([-4.51101288, -2.25550644, -2.25550644,  0.        ]), array([2, 0, 1, 2, 2, 1, 0, 2, 2, 3, 2, 0], dtype=object)]\n",
      "[10, array([-4.51101288, -2.25550644, -2.25550644,  0.        ]), array([2, 2, 3, 1, 0, 3, 2, 2, 3, 1, 0, 2], dtype=object)]\n",
      "[11, array([-4.51101288, -2.25550644, -2.25550644,  0.        ]), array([2, 0, 3, 1, 0, 0, 2, 0, 2, 0, 2, 1], dtype=object)]\n",
      "[11, array([-4.51101288, -2.25550644, -2.25550644,  0.        ]), array([0, 2, 1, 3, 2, 1, 2, 2, 3, 3, 0, 0], dtype=object)]\n",
      "[11, array([-4.51101288, -2.25550644, -2.25550644,  0.        ]), array([2, 0, 3, 0, 1, 0, 0, 2, 1, 0, 2, 1], dtype=object)]\n",
      "[12, array([-4.51101288, -2.25550644, -2.25550644,  0.        ]), array([3, 0, 3, 1, 0, 0, 2, 0, 2, 0, 2, 2], dtype=object)]\n",
      "[11, array([-4.51101288, -2.25550644, -2.25550644,  0.        ]), array([2, 2, 3, 1, 0, 3, 2, 2, 1, 2, 1, 3], dtype=object)]\n",
      "[12, array([-4.51101288, -2.25550644, -2.25550644,  0.        ]), array([0, 2, 1, 1, 2, 1, 2, 2, 3, 3, 0, 0], dtype=object)]\n",
      "[12, array([-4.51101288, -2.25550644, -2.25550644,  0.        ]), array([2, 0, 3, 0, 1, 0, 0, 2, 1, 0, 2, 1], dtype=object)]\n",
      "[13, array([-4.51101288, -2.25550644, -2.25550644,  0.        ]), array([2, 0, 3, 1, 0, 0, 2, 0, 2, 0, 2, 2], dtype=object)]\n",
      "[12, array([-4.51101288, -2.25550644, -2.25550644,  0.        ]), array([2, 2, 3, 1, 0, 3, 2, 2, 1, 2, 1, 3], dtype=object)]\n",
      "[14, array([-4.51101288, -2.25550644, -2.25550644,  0.        ]), array([3, 0, 3, 1, 0, 0, 2, 0, 3, 0, 2, 2], dtype=object)]\n",
      "[13, array([-4.51101288, -2.25550644, -2.25550644,  0.        ]), array([2, 0, 1, 0, 3, 0, 1, 3, 2, 0, 0, 0], dtype=object)]\n",
      "[13, array([-4.51101288, -2.25550644, -2.25550644,  0.        ]), array([0, 0, 3, 3, 1, 1, 0, 2, 2, 3, 2, 2], dtype=object)]\n",
      "[13, array([-4.51101288, -2.25550644, -2.25550644,  0.        ]), array([2, 0, 3, 3, 2, 0, 3, 3, 2, 3, 1, 3], dtype=object)]\n",
      "[14, array([-4.51101288, -2.25550644, -2.25550644,  0.        ]), array([2, 0, 1, 0, 3, 0, 1, 3, 2, 0, 0, 0], dtype=object)]\n",
      "[14, array([-4.51101288, -2.25550644, -2.25550644,  0.        ]), array([0, 0, 3, 0, 1, 0, 0, 2, 1, 0, 2, 3], dtype=object)]\n",
      "[15, array([-4.51101288, -2.25550644, -2.25550644,  0.        ]), array([2, 0, 3, 1, 0, 0, 2, 0, 2, 0, 2, 2], dtype=object)]\n",
      "[16, array([-4.51101288, -2.25550644, -2.25550644,  0.        ]), array([2, 0, 3, 1, 0, 0, 2, 0, 3, 0, 2, 1], dtype=object)]\n",
      "[14, array([-4.51101288, -2.25550644, -2.25550644,  0.        ]), array([2, 0, 3, 3, 2, 0, 3, 3, 2, 3, 1, 3], dtype=object)]\n",
      "[15, array([-4.51101288, -2.25550644, -2.25550644,  0.        ]), array([0, 0, 3, 1, 1, 2, 0, 2, 2, 3, 3, 3], dtype=object)]\n",
      "[15, array([-4.51101288, -2.25550644, -2.25550644,  0.        ]), array([0, 0, 3, 0, 1, 1, 0, 2, 2, 3, 2, 0], dtype=object)]\n",
      "[17, array([-4.51101288, -2.25550644, -2.25550644,  0.        ]), array([1, 0, 3, 1, 0, 0, 2, 0, 2, 0, 2, 1], dtype=object)]\n",
      "[15, array([-4.51101288, -2.25550644, -2.25550644,  0.        ]), array([2, 2, 1, 0, 1, 2, 2, 2, 1, 2, 2, 3], dtype=object)]\n",
      "[16, array([-4.51101288, -2.25550644, -2.25550644,  0.        ]), array([2, 0, 1, 0, 3, 0, 1, 3, 2, 0, 0, 2], dtype=object)]\n",
      "[16, array([-4.51101288, -2.25550644, -2.25550644,  0.        ]), array([2, 0, 3, 0, 1, 0, 0, 2, 1, 3, 1, 2], dtype=object)]\n",
      "[18, array([-4.51101288, -2.25550644, -2.25550644,  0.        ]), array([1, 0, 3, 1, 0, 0, 2, 0, 2, 0, 2, 3], dtype=object)]\n",
      "[16, array([-4.51101288, -2.25550644, -2.25550644,  0.        ]), array([0, 2, 1, 0, 1, 2, 2, 2, 1, 2, 2, 3], dtype=object)]\n",
      "[17, array([-4.51101288, -2.25550644, -2.25550644,  0.        ]), array([0, 0, 1, 0, 3, 0, 1, 3, 2, 0, 0, 0], dtype=object)]\n",
      "[19, array([-4.51101288, -2.25550644, -2.25550644,  0.        ]), array([1, 0, 3, 1, 0, 0, 2, 0, 2, 0, 2, 1], dtype=object)]\n",
      "[17, array([-4.51101288, -2.25550644, -2.25550644,  0.        ]), array([2, 0, 1, 2, 1, 1, 0, 2, 2, 3, 2, 0], dtype=object)]\n",
      "[20, array([-4.51101288, -2.25550644, -2.25550644,  0.        ]), array([1, 0, 3, 1, 0, 0, 2, 0, 2, 0, 2, 2], dtype=object)]\n",
      "[17, array([-4.51101288, -2.25550644, -2.25550644,  0.        ]), array([3, 0, 3, 3, 2, 0, 3, 3, 2, 3, 1, 3], dtype=object)]\n",
      "[18, array([-4.51101288, -2.25550644, -2.25550644,  0.        ]), array([0, 0, 3, 3, 1, 1, 0, 2, 2, 3, 2, 0], dtype=object)]\n",
      "[18, array([-4.51101288, -2.25550644, -2.25550644,  0.        ]), array([0, 0, 3, 1, 1, 2, 1, 3, 2, 0, 0, 2], dtype=object)]\n",
      "[18, array([-4.51101288, -2.25550644, -2.25550644,  0.        ]), array([3, 2, 1, 0, 2, 2, 2, 2, 1, 2, 2, 3], dtype=object)]\n",
      "[21, array([-4.51101288, -2.25550644, -2.25550644,  0.        ]), array([2, 0, 3, 1, 0, 0, 2, 0, 2, 0, 2, 1], dtype=object)]\n",
      "[22, array([-4.51101288, -2.25550644, -2.25550644,  0.        ]), array([1, 0, 3, 1, 0, 0, 2, 0, 2, 0, 2, 2], dtype=object)][19, array([-4.51101288, -2.25550644, -2.25550644,  0.        ]), array([0, 0, 3, 2, 1, 1, 0, 2, 2, 3, 2, 0], dtype=object)]\n",
      "\n",
      "[19, array([-4.51101288, -2.25550644, -2.25550644,  0.        ]), array([2, 0, 3, 1, 1, 2, 0, 2, 2, 3, 3, 3], dtype=object)]\n",
      "[19, array([-4.51101288, -2.25550644, -2.25550644,  0.        ]), array([2, 2, 1, 0, 1, 2, 2, 2, 1, 2, 2, 3], dtype=object)]\n",
      "[20, array([-4.51101288, -2.25550644, -2.25550644,  0.        ]), array([2, 0, 1, 3, 1, 1, 0, 2, 2, 3, 2, 2], dtype=object)]\n",
      "[20, array([-4.51101288, -2.25550644, -2.25550644,  0.        ]), array([0, 0, 1, 0, 3, 0, 0, 2, 2, 3, 3, 3], dtype=object)]\n",
      "[20, array([-4.51101288, -2.25550644, -2.25550644,  0.        ]), array([2, 2, 1, 2, 1, 2, 2, 2, 1, 2, 2, 3], dtype=object)]\n",
      "[23, array([-4.51101288, -2.25550644, -2.25550644,  0.        ]), array([2, 0, 3, 1, 0, 0, 2, 0, 2, 0, 2, 1], dtype=object)]\n",
      "[24, array([-4.51101288, -2.25550644, -2.25550644,  0.        ]), array([2, 0, 3, 0, 0, 0, 2, 0, 2, 0, 2, 2], dtype=object)]\n",
      "[21, array([-4.51101288, -2.25550644, -2.25550644,  0.        ]), array([2, 0, 1, 2, 1, 1, 0, 2, 2, 3, 2, 0], dtype=object)]\n",
      "[21, array([-4.51101288, -2.25550644, -2.25550644,  0.        ]), array([0, 0, 3, 1, 1, 2, 1, 3, 2, 0, 0, 3], dtype=object)]\n",
      "[21, array([-4.51101288, -2.25550644, -2.25550644,  0.        ]), array([2, 2, 1, 0, 1, 2, 2, 2, 1, 2, 2, 3], dtype=object)]\n",
      "[22, array([-4.51101288, -2.25550644, -2.25550644,  0.        ]), array([2, 0, 1, 2, 1, 1, 0, 2, 2, 3, 2, 1], dtype=object)]\n",
      "[22, array([-1.8821852, -0.9410926, -0.9410926,  0.       ]), array([3, 2, 1, 0, 1, 2, 2, 2, 1, 2, 1, 3], dtype=object)]\n",
      "[22, array([-4.51101288, -2.25550644, -2.25550644,  0.        ]), array([0, 0, 3, 1, 1, 2, 1, 3, 2, 0, 0, 3], dtype=object)]\n",
      "[25, array([-4.51101288, -2.25550644, -2.25550644,  0.        ]), array([2, 0, 3, 1, 0, 0, 2, 0, 2, 0, 2, 1], dtype=object)]\n",
      "[26, array([-4.51101288, -2.25550644, -2.25550644,  0.        ]), array([1, 0, 3, 0, 0, 0, 2, 0, 2, 0, 2, 1], dtype=object)]\n",
      "[23, array([-4.51101288, -2.25550644, -2.25550644,  0.        ]), array([2, 0, 1, 2, 1, 1, 0, 2, 2, 3, 2, 0], dtype=object)]\n",
      "[23, array([-4.51101288, -2.25550644, -2.25550644,  0.        ]), array([3, 2, 1, 0, 1, 2, 2, 2, 1, 2, 2, 3], dtype=object)]\n",
      "[23, array([-4.51101288, -2.25550644, -2.25550644,  0.        ]), array([0, 0, 3, 1, 1, 2, 1, 3, 2, 0, 0, 0], dtype=object)]\n",
      "[24, array([-4.51101288, -2.25550644, -2.25550644,  0.        ]), array([2, 0, 1, 3, 1, 1, 0, 2, 2, 3, 2, 2], dtype=object)]\n",
      "[24, array([-4.51101288, -2.25550644, -2.25550644,  0.        ]), array([2, 2, 1, 1, 1, 2, 2, 2, 1, 2, 2, 3], dtype=object)]\n",
      "[27, array([-4.51101288, -2.25550644, -2.25550644,  0.        ]), array([0, 0, 3, 1, 0, 0, 2, 0, 2, 0, 2, 1], dtype=object)]\n",
      "[24, array([-4.51101288, -2.25550644, -2.25550644,  0.        ]), array([0, 0, 1, 0, 3, 0, 1, 3, 2, 0, 0, 0], dtype=object)]\n",
      "[28, array([-4.51101288, -2.25550644, -2.25550644,  0.        ]), array([1, 0, 3, 1, 0, 0, 2, 0, 2, 0, 2, 2], dtype=object)]\n",
      "[25, array([-4.51101288, -2.25550644, -2.25550644,  0.        ]), array([0, 0, 3, 2, 1, 1, 0, 2, 2, 3, 2, 2], dtype=object)]\n",
      "[25, array([-4.51101288, -2.25550644, -2.25550644,  0.        ]), array([3, 2, 1, 0, 1, 2, 2, 2, 1, 2, 2, 3], dtype=object)]\n",
      "[26, array([-4.51101288, -2.25550644, -2.25550644,  0.        ]), array([1, 2, 1, 2, 1, 2, 2, 2, 1, 2, 2, 3], dtype=object)]\n",
      "[25, array([-4.51101288, -2.25550644, -2.25550644,  0.        ]), array([0, 0, 3, 1, 1, 2, 1, 3, 2, 0, 0, 0], dtype=object)][26, array([-4.51101288, -2.25550644, -2.25550644,  0.        ]), array([0, 0, 3, 0, 1, 1, 0, 2, 2, 3, 2, 3], dtype=object)]\n",
      "\n",
      "[29, array([-4.51101288, -2.25550644, -2.25550644,  0.        ]), array([2, 0, 3, 0, 0, 0, 2, 0, 2, 0, 2, 1], dtype=object)]\n",
      "[26, array([-4.51101288, -2.25550644, -2.25550644,  0.        ]), array([2, 0, 3, 1, 1, 2, 1, 3, 2, 0, 0, 0], dtype=object)]\n",
      "[30, array([-4.51101288, -2.25550644, -2.25550644,  0.        ]), array([2, 0, 3, 1, 2, 0, 2, 0, 2, 0, 2, 1], dtype=object)]\n",
      "[27, array([-4.51101288, -2.25550644, -2.25550644,  0.        ]), array([3, 2, 1, 0, 1, 2, 2, 2, 1, 2, 2, 3], dtype=object)]\n",
      "[27, array([-4.51101288, -2.25550644, -2.25550644,  0.        ]), array([2, 0, 1, 2, 1, 1, 0, 2, 2, 3, 2, 3], dtype=object)]\n",
      "[28, array([-4.51101288, -2.25550644, -2.25550644,  0.        ]), array([0, 2, 1, 0, 1, 2, 2, 2, 1, 2, 2, 3], dtype=object)]\n",
      "[27, array([-4.51101288, -2.25550644, -2.25550644,  0.        ]), array([0, 0, 3, 1, 1, 2, 1, 3, 2, 0, 0, 0], dtype=object)]\n",
      "[31, array([-4.51101288, -2.25550644, -2.25550644,  0.        ]), array([2, 0, 3, 1, 0, 0, 2, 0, 2, 0, 2, 1], dtype=object)]\n",
      "[28, array([-4.51101288, -2.25550644, -2.25550644,  0.        ]), array([0, 0, 3, 2, 1, 1, 0, 2, 2, 3, 2, 3], dtype=object)]\n",
      "[28, array([-4.51101288, -2.25550644, -2.25550644,  0.        ]), array([1, 0, 1, 0, 3, 0, 1, 3, 2, 0, 0, 0], dtype=object)]\n",
      "[32, array([-4.51101288, -2.25550644, -2.25550644,  0.        ]), array([2, 0, 3, 1, 0, 0, 2, 0, 1, 0, 2, 1], dtype=object)]\n",
      "[29, array([-4.51101288, -2.25550644, -2.25550644,  0.        ]), array([2, 2, 1, 0, 1, 2, 2, 2, 1, 2, 2, 3], dtype=object)]\n",
      "[30, array([-4.51101288, -2.25550644, -2.25550644,  0.        ]), array([2, 2, 1, 0, 2, 2, 2, 2, 1, 2, 2, 3], dtype=object)]\n",
      "[29, array([-4.51101288, -2.25550644, -2.25550644,  0.        ]), array([0, 0, 3, 2, 1, 1, 0, 2, 2, 3, 2, 2], dtype=object)]\n",
      "[29, array([-4.51101288, -2.25550644, -2.25550644,  0.        ]), array([0, 0, 3, 1, 1, 2, 1, 3, 2, 0, 0, 0], dtype=object)]\n",
      "[33, array([-4.51101288, -2.25550644, -2.25550644,  0.        ]), array([2, 0, 3, 1, 0, 0, 2, 0, 2, 0, 2, 0], dtype=object)]\n",
      "[30, array([-4.51101288, -2.25550644, -2.25550644,  0.        ]), array([0, 0, 3, 1, 0, 2, 1, 3, 2, 0, 0, 0], dtype=object)]\n",
      "[30, array([-4.51101288, -2.25550644, -2.25550644,  0.        ]), array([0, 0, 3, 0, 0, 1, 0, 2, 2, 3, 2, 0], dtype=object)]\n",
      "[34, array([-4.51101288, -2.25550644, -2.25550644,  0.        ]), array([2, 0, 3, 1, 0, 0, 2, 0, 2, 0, 2, 3], dtype=object)]\n",
      "[31, array([-4.51101288, -2.25550644, -2.25550644,  0.        ]), array([2, 2, 1, 0, 1, 2, 2, 2, 1, 2, 2, 3], dtype=object)]\n",
      "[32, array([-4.51101288, -2.25550644, -2.25550644,  0.        ]), array([2, 2, 1, 0, 1, 2, 2, 2, 3, 2, 2, 3], dtype=object)]\n",
      "[31, array([-4.51101288, -2.25550644, -2.25550644,  0.        ]), array([0, 0, 3, 1, 1, 2, 1, 3, 2, 0, 0, 0], dtype=object)]\n",
      "[31, array([-4.51101288, -2.25550644, -2.25550644,  0.        ]), array([2, 0, 1, 0, 1, 1, 0, 2, 2, 3, 2, 2], dtype=object)]\n",
      "[35, array([-4.51101288, -2.25550644, -2.25550644,  0.        ]), array([2, 0, 3, 1, 0, 0, 2, 0, 2, 0, 2, 0], dtype=object)]\n",
      "[32, array([-4.51101288, -2.25550644, -2.25550644,  0.        ]), array([0, 0, 3, 1, 1, 2, 1, 3, 3, 0, 0, 0], dtype=object)]\n",
      "[36, array([-4.51101288, -2.25550644, -2.25550644,  0.        ]), array([2, 0, 3, 0, 0, 0, 2, 0, 2, 0, 2, 0], dtype=object)][32, array([-4.51101288, -2.25550644, -2.25550644,  0.        ]), array([2, 0, 1, 0, 1, 1, 0, 2, 0, 3, 2, 2], dtype=object)]\n",
      "\n",
      "[33, array([-4.51101288, -2.25550644, -2.25550644,  0.        ]), array([2, 2, 1, 0, 1, 2, 2, 2, 1, 2, 2, 3], dtype=object)]\n",
      "[34, array([-4.51101288, -2.25550644, -2.25550644,  0.        ]), array([2, 2, 1, 3, 1, 2, 2, 2, 1, 2, 2, 3], dtype=object)]\n",
      "[33, array([-4.51101288, -2.25550644, -2.25550644,  0.        ]), array([0, 0, 3, 1, 1, 2, 1, 3, 2, 0, 0, 0], dtype=object)]\n",
      "[37, array([-4.51101288, -2.25550644, -2.25550644,  0.        ]), array([2, 0, 3, 1, 0, 0, 2, 0, 2, 0, 2, 1], dtype=object)]\n",
      "[33, array([-4.51101288, -2.25550644, -2.25550644,  0.        ]), array([2, 0, 1, 2, 1, 1, 0, 2, 2, 3, 2, 0], dtype=object)]\n",
      "[34, array([-4.51101288, -2.25550644, -2.25550644,  0.        ]), array([0, 0, 3, 1, 1, 2, 1, 3, 2, 0, 0, 3], dtype=object)]\n",
      "[38, array([-4.51101288, -2.25550644, -2.25550644,  0.        ]), array([2, 0, 3, 0, 0, 0, 2, 0, 2, 0, 2, 2], dtype=object)]\n",
      "[34, array([-1.8821852, -0.9410926, -0.9410926,  0.       ]), array([0, 0, 1, 2, 1, 2, 0, 2, 2, 3, 2, 0], dtype=object)]\n",
      "[35, array([-4.51101288, -2.25550644, -2.25550644,  0.        ]), array([3, 2, 1, 0, 1, 2, 2, 2, 1, 2, 2, 3], dtype=object)]\n",
      "[36, array([-4.51101288, -2.25550644, -2.25550644,  0.        ]), array([3, 2, 1, 1, 1, 2, 2, 2, 1, 2, 2, 3], dtype=object)]\n",
      "[35, array([-4.51101288, -2.25550644, -2.25550644,  0.        ]), array([2, 0, 3, 1, 1, 2, 1, 3, 2, 0, 0, 0], dtype=object)]\n",
      "[39, array([-4.51101288, -2.25550644, -2.25550644,  0.        ]), array([2, 0, 3, 1, 0, 0, 2, 0, 2, 0, 2, 1], dtype=object)]\n",
      "[35, array([-4.51101288, -2.25550644, -2.25550644,  0.        ]), array([0, 0, 3, 0, 1, 1, 0, 2, 2, 3, 2, 2], dtype=object)]\n",
      "[36, array([-4.51101288, -2.25550644, -2.25550644,  0.        ]), array([2, 0, 3, 0, 1, 2, 1, 3, 2, 0, 0, 0], dtype=object)]\n",
      "[40, array([-4.51101288, -2.25550644, -2.25550644,  0.        ]), array([2, 0, 3, 1, 2, 0, 2, 0, 2, 0, 2, 1], dtype=object)]\n",
      "[36, array([-4.51101288, -2.25550644, -2.25550644,  0.        ]), array([0, 0, 3, 0, 1, 1, 0, 2, 2, 3, 2, 3], dtype=object)]\n",
      "[37, array([-4.51101288, -2.25550644, -2.25550644,  0.        ]), array([1, 2, 1, 0, 1, 2, 2, 2, 1, 2, 2, 3], dtype=object)]\n",
      "[38, array([-4.51101288, -2.25550644, -2.25550644,  0.        ]), array([2, 2, 1, 0, 3, 2, 2, 2, 1, 2, 2, 0], dtype=object)]\n",
      "[37, array([-4.51101288, -2.25550644, -2.25550644,  0.        ]), array([2, 0, 3, 1, 1, 2, 1, 3, 2, 0, 0, 0], dtype=object)]\n",
      "[38, array([-4.51101288, -2.25550644, -2.25550644,  0.        ]), array([0, 0, 3, 1, 1, 2, 1, 3, 2, 0, 0, 1], dtype=object)][37, array([-4.51101288, -2.25550644, -2.25550644,  0.        ]), array([2, 0, 1, 2, 1, 1, 0, 2, 2, 3, 2, 0], dtype=object)]\n",
      "\n",
      "[38, array([-4.51101288, -2.25550644, -2.25550644,  0.        ]), array([0, 0, 3, 0, 1, 1, 0, 2, 2, 3, 2, 1], dtype=object)]\n",
      "[39, array([-4.51101288, -2.25550644, -2.25550644,  0.        ]), array([1, 2, 1, 0, 1, 2, 2, 2, 1, 2, 2, 3], dtype=object)]\n",
      "[39, array([-4.51101288, -2.25550644, -2.25550644,  0.        ]), array([0, 0, 3, 1, 1, 2, 1, 3, 2, 0, 0, 0], dtype=object)]\n",
      "[40, array([-4.51101288, -2.25550644, -2.25550644,  0.        ]), array([1, 2, 1, 0, 1, 2, 2, 2, 0, 2, 2, 3], dtype=object)]\n",
      "[40, array([-4.51101288, -2.25550644, -2.25550644,  0.        ]), array([0, 0, 3, 1, 0, 2, 1, 3, 2, 0, 0, 0], dtype=object)]\n",
      "[39, array([-4.51101288, -2.25550644, -2.25550644,  0.        ]), array([0, 0, 3, 0, 1, 1, 0, 2, 2, 3, 2, 0], dtype=object)]\n",
      "[40, array([-4.51101288, -2.25550644, -2.25550644,  0.        ]), array([2, 0, 1, 0, 0, 1, 0, 2, 2, 3, 2, 0], dtype=object)]\n"
     ]
    }
   ],
   "source": [
    "# we can perform CAFQA by using the main optimization function \"claptonize\"\n",
    "ks_best, _, energy_best = claptonize(\n",
    "    paulis,\n",
    "    coeffs,\n",
    "    vqe_pcirc,\n",
    "    n_proc=4,           # total number of processes in parallel\n",
    "    n_starts=4,         # number of random genetic algorithm starts in parallel\n",
    "    n_rounds=1,         # number of budget rounds, if None it will terminate itself\n",
    "    callback=print,     # callback for internal parameter (#iteration, energies, ks) processing\n",
    "    budget=20           # budget per genetic algorithm instance\n",
    ")"
   ]
  },
  {
   "cell_type": "code",
   "execution_count": 24,
   "metadata": {},
   "outputs": [
    {
     "data": {
      "text/plain": [
       "[2, 2, 1, 0, 3, 2, 2, 2, 1, 2, 2, 3]"
      ]
     },
     "execution_count": 24,
     "metadata": {},
     "output_type": "execute_result"
    }
   ],
   "source": [
    "# the best parameters are\n",
    "ks_best"
   ]
  },
  {
   "cell_type": "code",
   "execution_count": 25,
   "metadata": {},
   "outputs": [
    {
     "data": {
      "text/plain": [
       "np.float64(-2.2555064377753498)"
      ]
     },
     "execution_count": 25,
     "metadata": {},
     "output_type": "execute_result"
    }
   ],
   "source": [
    "# with energy\n",
    "energy_best"
   ]
  },
  {
   "cell_type": "code",
   "execution_count": 26,
   "metadata": {},
   "outputs": [
    {
     "data": {
      "text/html": [
       "<pre>q0: -Y------I-----X-@-Y-Z------------\n",
       "                  | |\n",
       "q1: -Y------S_DAG-|-X-@-Y------Z-----\n",
       "                  |   |\n",
       "q2: -SQRT_Y-Z-----@---X-SQRT_Y-S_DAG-</pre>"
      ],
      "text/plain": [
       "q0: -Y------I-----X-@-Y-Z------------\n",
       "                  | |\n",
       "q1: -Y------S_DAG-|-X-@-Y------Z-----\n",
       "                  |   |\n",
       "q2: -SQRT_Y-Z-----@---X-SQRT_Y-S_DAG-"
      ]
     },
     "execution_count": 26,
     "metadata": {},
     "output_type": "execute_result"
    }
   ],
   "source": [
    "# the corresponding circuit is\n",
    "vqe_pcirc.assign(ks_best)\n",
    "vqe_pcirc.stim_circuit().diagram()"
   ]
  },
  {
   "cell_type": "code",
   "execution_count": null,
   "metadata": {},
   "outputs": [],
   "source": []
  },
  {
   "cell_type": "markdown",
   "metadata": {},
   "source": [
    "# noisy CAFQA (nCAFQA)"
   ]
  },
  {
   "cell_type": "code",
   "execution_count": 29,
   "metadata": {},
   "outputs": [],
   "source": [
    "from clapton.depolarization import GateGeneralDepolarizationModel"
   ]
  },
  {
   "cell_type": "code",
   "execution_count": 30,
   "metadata": {},
   "outputs": [],
   "source": [
    "# let's add a noise model where we specify global 1q and 2q gate errors\n",
    "nm = GateGeneralDepolarizationModel(p1=0.005, p2=0.02)"
   ]
  },
  {
   "cell_type": "code",
   "execution_count": 32,
   "metadata": {},
   "outputs": [
    {
     "data": {
      "text/plain": [
       "<clapton.clifford.ParametrizedCliffordCircuit at 0x7f0f6e575dc0>"
      ]
     },
     "execution_count": 32,
     "metadata": {},
     "output_type": "execute_result"
    }
   ],
   "source": [
    "vqe_pcirc = circular_ansatz(N=len(paulis[0]), reps=1, fix_2q=True)\n",
    "vqe_pcirc.add_depolarization_model(nm)"
   ]
  },
  {
   "cell_type": "code",
   "execution_count": 33,
   "metadata": {},
   "outputs": [
    {
     "data": {
      "text/html": [
       "<pre>q0: -I-DEPOLARIZE1(0.005)--------------------I------------------DEPOLARIZE1(0.005)---------------------------------------X-DEPOLARIZE2(0.02)-@-DEPOLARIZE2(0.02)---I-----------------DEPOLARIZE1(0.005)--------------------I------------------DEPOLARIZE1(0.005)---------------------------------------\n",
       "                                                                                                                         | |                 | |\n",
       "q1: ---I------------------DEPOLARIZE1(0.005)--------------------I------------------DEPOLARIZE1(0.005)--------------------|-|-----------------X-DEPOLARIZE2(0.02)-@-DEPOLARIZE2(0.02)-I------------------DEPOLARIZE1(0.005)--------------------I------------------DEPOLARIZE1(0.005)--------------------\n",
       "                                                                                                                         | |                                     | |\n",
       "q2: ----------------------I------------------DEPOLARIZE1(0.005)--------------------I------------------DEPOLARIZE1(0.005)-@-DEPOLARIZE2(0.02)---------------------X-DEPOLARIZE2(0.02)--------------------I------------------DEPOLARIZE1(0.005)--------------------I------------------DEPOLARIZE1(0.005)-</pre>"
      ],
      "text/plain": [
       "q0: -I-DEPOLARIZE1(0.005)--------------------I------------------DEPOLARIZE1(0.005)---------------------------------------X-DEPOLARIZE2(0.02)-@-DEPOLARIZE2(0.02)---I-----------------DEPOLARIZE1(0.005)--------------------I------------------DEPOLARIZE1(0.005)---------------------------------------\n",
       "                                                                                                                         | |                 | |\n",
       "q1: ---I------------------DEPOLARIZE1(0.005)--------------------I------------------DEPOLARIZE1(0.005)--------------------|-|-----------------X-DEPOLARIZE2(0.02)-@-DEPOLARIZE2(0.02)-I------------------DEPOLARIZE1(0.005)--------------------I------------------DEPOLARIZE1(0.005)--------------------\n",
       "                                                                                                                         | |                                     | |\n",
       "q2: ----------------------I------------------DEPOLARIZE1(0.005)--------------------I------------------DEPOLARIZE1(0.005)-@-DEPOLARIZE2(0.02)---------------------X-DEPOLARIZE2(0.02)--------------------I------------------DEPOLARIZE1(0.005)--------------------I------------------DEPOLARIZE1(0.005)-"
      ]
     },
     "execution_count": 33,
     "metadata": {},
     "output_type": "execute_result"
    }
   ],
   "source": [
    "# after every gate a depol channel is added\n",
    "vqe_pcirc.stim_circuit().diagram()"
   ]
  },
  {
   "cell_type": "code",
   "execution_count": 35,
   "metadata": {},
   "outputs": [
    {
     "name": "stdout",
     "output_type": "stream",
     "text": [
      "STARTING ROUND 0\n",
      "\n",
      "\n",
      "started GA at id 1 with 1 procs\n",
      "started GA at id 2 with 1 procs\n",
      "\n",
      "\n"
     ]
    },
    {
     "name": "stderr",
     "output_type": "stream",
     "text": [
      "/local/lmseifert/conda_envs/clapton/lib/python3.12/site-packages/pygad/pygad.py:1139: UserWarning: The 'delay_after_gen' parameter is deprecated starting from PyGAD 3.3.0. To delay or pause the evolution after each generation, assign a callback function/method to the 'on_generation' parameter to adds some time delay.\n",
      "  warnings.warn(\"The 'delay_after_gen' parameter is deprecated starting from PyGAD 3.3.0. To delay or pause the evolution after each generation, assign a callback function/method to the 'on_generation' parameter to adds some time delay.\")\n"
     ]
    },
    {
     "name": "stdout",
     "output_type": "stream",
     "text": [
      "started GA at id None with 1 procs\n",
      "\n",
      "started GA at id 3 with 1 procs\n"
     ]
    },
    {
     "name": "stderr",
     "output_type": "stream",
     "text": [
      "/local/lmseifert/conda_envs/clapton/lib/python3.12/site-packages/pygad/pygad.py:1139: UserWarning: The 'delay_after_gen' parameter is deprecated starting from PyGAD 3.3.0. To delay or pause the evolution after each generation, assign a callback function/method to the 'on_generation' parameter to adds some time delay.\n",
      "  warnings.warn(\"The 'delay_after_gen' parameter is deprecated starting from PyGAD 3.3.0. To delay or pause the evolution after each generation, assign a callback function/method to the 'on_generation' parameter to adds some time delay.\")\n",
      "/local/lmseifert/conda_envs/clapton/lib/python3.12/site-packages/pygad/pygad.py:1139: UserWarning: The 'delay_after_gen' parameter is deprecated starting from PyGAD 3.3.0. To delay or pause the evolution after each generation, assign a callback function/method to the 'on_generation' parameter to adds some time delay.\n",
      "  warnings.warn(\"The 'delay_after_gen' parameter is deprecated starting from PyGAD 3.3.0. To delay or pause the evolution after each generation, assign a callback function/method to the 'on_generation' parameter to adds some time delay.\")\n"
     ]
    },
    {
     "name": "stdout",
     "output_type": "stream",
     "text": [
      "\n"
     ]
    },
    {
     "name": "stderr",
     "output_type": "stream",
     "text": [
      "/local/lmseifert/conda_envs/clapton/lib/python3.12/site-packages/pygad/pygad.py:1139: UserWarning: The 'delay_after_gen' parameter is deprecated starting from PyGAD 3.3.0. To delay or pause the evolution after each generation, assign a callback function/method to the 'on_generation' parameter to adds some time delay.\n",
      "  warnings.warn(\"The 'delay_after_gen' parameter is deprecated starting from PyGAD 3.3.0. To delay or pause the evolution after each generation, assign a callback function/method to the 'on_generation' parameter to adds some time delay.\")\n"
     ]
    },
    {
     "name": "stdout",
     "output_type": "stream",
     "text": [
      "[0, array([-2.15657864, -1.02919541, -1.12738324,  0.        ]), array([0, 2, 0, 3, 1, 0, 0, 0, 2, 2, 1, 3], dtype=object)]\n",
      "[0, array([-2.16029108, -1.03290785, -1.12738324,  0.        ]), array([1, 2, 2, 3, 3, 1, 2, 2, 2, 2, 1, 2], dtype=object)]\n",
      "[0, array([-4.26795418, -2.01244774, -2.25550644,  0.        ]), array([2, 0, 1, 0, 1, 2, 0, 2, 0, 1, 3, 0], dtype=object)]\n",
      "[0, array([-2.17298653, -1.0456033 , -1.12738324,  0.        ]), array([1, 2, 0, 2, 2, 3, 0, 0, 2, 3, 1, 0], dtype=object)]\n",
      "[1, array([-4.27694793, -2.02144149, -2.25550644,  0.        ]), array([2, 0, 3, 2, 3, 2, 3, 1, 0, 1, 1, 3], dtype=object)][1, array([-4.27559815, -2.02009171, -2.25550644,  0.        ]), array([2, 0, 3, 2, 3, 0, 3, 3, 0, 1, 3, 1], dtype=object)][1, array([-2.17364177, -1.04625854, -1.12738324,  0.        ]), array([0, 2, 0, 3, 1, 0, 0, 0, 2, 2, 2, 1], dtype=object)]\n",
      "\n",
      "\n",
      "[1, array([-4.26829499, -2.01278855, -2.25550644,  0.        ]), array([3, 0, 1, 0, 2, 2, 3, 3, 2, 1, 3, 2], dtype=object)]\n",
      "[2, array([-4.28752595, -2.03201951, -2.25550644,  0.        ]), array([2, 0, 3, 3, 2, 2, 2, 0, 3, 3, 3, 2], dtype=object)]\n",
      "[2, array([-4.28528787, -2.02978144, -2.25550644,  0.        ]), array([0, 0, 1, 2, 3, 0, 3, 1, 0, 2, 2, 0], dtype=object)]\n",
      "[2, array([-4.28434516, -2.02883872, -2.25550644,  0.        ]), array([2, 0, 3, 2, 3, 2, 3, 1, 0, 1, 1, 3], dtype=object)]\n",
      "[2, array([-4.26938524, -2.0138788 , -2.25550644,  0.        ]), array([3, 0, 1, 0, 1, 2, 3, 3, 2, 1, 3, 2], dtype=object)]\n",
      "[3, array([-4.28535635, -2.02984991, -2.25550644,  0.        ]), array([2, 0, 3, 3, 2, 2, 2, 0, 3, 3, 3, 2], dtype=object)]\n",
      "[3, array([-4.26882746, -2.01332102, -2.25550644,  0.        ]), array([2, 0, 1, 2, 1, 0, 2, 0, 2, 1, 1, 0], dtype=object)]\n",
      "[3, array([-4.27951446, -2.02400803, -2.25550644,  0.        ]), array([2, 0, 3, 2, 3, 2, 3, 1, 0, 1, 1, 3], dtype=object)]\n",
      "[3, array([-4.2674761 , -2.01196966, -2.25550644,  0.        ]), array([1, 0, 1, 2, 2, 2, 2, 0, 1, 1, 3, 0], dtype=object)]\n",
      "[4, array([-4.28271576, -2.02720932, -2.25550644,  0.        ]), array([0, 0, 3, 3, 0, 0, 2, 0, 0, 2, 0, 3], dtype=object)]\n",
      "[4, array([-2.36455485, -1.10997141, -1.25458345,  0.        ]), array([3, 1, 1, 3, 2, 3, 3, 0, 2, 2, 0, 2], dtype=object)]\n",
      "[4, array([-4.26687088, -2.01136445, -2.25550644,  0.        ]), array([2, 0, 1, 2, 1, 2, 3, 3, 0, 0, 2, 3], dtype=object)]\n",
      "[4, array([-4.2758065 , -2.02030006, -2.25550644,  0.        ]), array([2, 0, 1, 3, 0, 1, 2, 0, 1, 2, 3, 1], dtype=object)]\n",
      "[5, array([-4.28736694, -2.0318605 , -2.25550644,  0.        ]), array([2, 0, 3, 3, 2, 2, 2, 0, 3, 3, 3, 1], dtype=object)]\n",
      "[5, array([-4.27704127, -2.02153483, -2.25550644,  0.        ]), array([2, 0, 3, 2, 3, 2, 3, 1, 0, 1, 1, 1], dtype=object)]\n",
      "[5, array([-4.2553469 , -1.99984047, -2.25550644,  0.        ]), array([0, 0, 1, 2, 3, 0, 3, 1, 0, 1, 1, 0], dtype=object)]\n",
      "[5, array([-4.28683082, -2.03132438, -2.25550644,  0.        ]), array([1, 2, 3, 3, 1, 2, 2, 2, 1, 3, 1, 0], dtype=object)]\n",
      "[6, array([-4.27922475, -2.02371831, -2.25550644,  0.        ]), array([3, 0, 1, 3, 1, 2, 2, 0, 0, 2, 0, 1], dtype=object)]\n",
      "[6, array([-4.27393195, -2.01842551, -2.25550644,  0.        ]), array([3, 0, 3, 2, 0, 2, 1, 3, 3, 0, 0, 0], dtype=object)]\n",
      "[6, array([-4.28103436, -2.02552792, -2.25550644,  0.        ]), array([0, 0, 1, 2, 3, 0, 3, 1, 0, 1, 1, 0], dtype=object)]\n",
      "[6, array([-4.28205462, -2.02654818, -2.25550644,  0.        ]), array([1, 2, 1, 2, 3, 2, 0, 0, 2, 2, 2, 3], dtype=object)]\n",
      "[7, array([-4.29199375, -2.03648731, -2.25550644,  0.        ]), array([2, 2, 1, 2, 2, 2, 0, 0, 2, 2, 2, 1], dtype=object)]\n",
      "[7, array([-4.27582331, -2.02031687, -2.25550644,  0.        ]), array([0, 0, 1, 2, 3, 0, 3, 1, 0, 2, 2, 3], dtype=object)]\n",
      "[7, array([-4.29038058, -2.03487415, -2.25550644,  0.        ]), array([2, 0, 3, 2, 1, 2, 3, 1, 0, 1, 1, 3], dtype=object)]\n",
      "[7, array([-4.28565744, -2.030151  , -2.25550644,  0.        ]), array([3, 0, 1, 0, 1, 2, 3, 3, 2, 1, 3, 2], dtype=object)]\n",
      "[8, array([-4.28987395, -2.03436751, -2.25550644,  0.        ]), array([2, 2, 1, 2, 2, 2, 0, 0, 2, 2, 2, 1], dtype=object)]\n",
      "\n",
      "[8, array([-4.28247092, -2.02696448, -2.25550644,  0.        ]), array([0, 0, 1, 2, 3, 0, 3, 1, 0, 2, 2, 3], dtype=object)][8, array([-4.27732022, -2.02181378, -2.25550644,  0.        ]), array([1, 0, 3, 2, 3, 2, 3, 1, 0, 1, 1, 3], dtype=object)]\n",
      "[8, array([-4.27946934, -2.02396291, -2.25550644,  0.        ]), array([1, 2, 1, 2, 2, 0, 0, 0, 2, 2, 0, 3], dtype=object)]\n",
      "[9, array([-4.29632081, -2.04081437, -2.25550644,  0.        ]), array([1, 0, 1, 3, 1, 2, 2, 0, 0, 2, 0, 1], dtype=object)]\n",
      "\n",
      "\n",
      "[9, array([-4.30031327, -2.04480683, -2.25550644,  0.        ]), array([0, 0, 1, 2, 3, 0, 3, 1, 0, 2, 2, 3], dtype=object)][9, array([-4.29196623, -2.0364598 , -2.25550644,  0.        ]), array([2, 0, 3, 2, 3, 2, 3, 1, 0, 1, 1, 3], dtype=object)][9, array([-4.28781316, -2.03230672, -2.25550644,  0.        ]), array([1, 0, 1, 2, 2, 2, 2, 0, 1, 1, 3, 1], dtype=object)]\n",
      "[10, array([-4.25510919, -1.99960276, -2.25550644,  0.        ]), array([0, 0, 1, 2, 3, 0, 3, 1, 2, 2, 2, 0], dtype=object)]\n",
      "[10, array([-4.2820972 , -2.02659076, -2.25550644,  0.        ]), array([2, 0, 3, 2, 3, 2, 2, 0, 0, 1, 1, 3], dtype=object)]\n",
      "[10, array([-4.29256214, -2.03705571, -2.25550644,  0.        ]), array([2, 0, 3, 3, 2, 2, 2, 0, 2, 2, 2, 1], dtype=object)]\n",
      "[10, array([-4.28555503, -2.03004859, -2.25550644,  0.        ]), array([2, 0, 1, 0, 1, 2, 3, 3, 2, 1, 3, 0], dtype=object)]\n",
      "[11, array([-4.28295324, -2.0274468 , -2.25550644,  0.        ]), array([0, 0, 1, 2, 3, 0, 3, 1, 0, 2, 2, 0], dtype=object)]\n",
      "[11, array([-4.29136913, -2.03586269, -2.25550644,  0.        ]), array([2, 0, 3, 2, 3, 2, 3, 1, 0, 1, 1, 3], dtype=object)]\n",
      "[11, array([-4.29740183, -2.04189539, -2.25550644,  0.        ]), array([2, 0, 3, 3, 2, 2, 2, 0, 3, 3, 3, 2], dtype=object)]\n",
      "[12, array([-4.28198375, -2.02647731, -2.25550644,  0.        ]), array([2, 0, 3, 2, 0, 2, 1, 3, 0, 1, 1, 3], dtype=object)]\n",
      "[12, array([-4.27642803, -2.02092159, -2.25550644,  0.        ]), array([0, 0, 1, 2, 3, 0, 3, 1, 0, 2, 2, 1], dtype=object)]\n",
      "[11, array([-4.28571239, -2.03020595, -2.25550644,  0.        ]), array([2, 2, 1, 2, 3, 2, 0, 0, 2, 2, 2, 3], dtype=object)]\n",
      "[12, array([-4.29158813, -2.03608169, -2.25550644,  0.        ]), array([1, 2, 1, 2, 2, 2, 0, 0, 2, 2, 2, 1], dtype=object)]\n",
      "[12, array([-4.2903651 , -2.03485866, -2.25550644,  0.        ]), array([3, 0, 1, 2, 2, 2, 2, 0, 1, 3, 1, 0], dtype=object)]\n",
      "[13, array([-4.28946415, -2.03395772, -2.25550644,  0.        ]), array([0, 0, 1, 2, 3, 0, 3, 1, 0, 2, 2, 0], dtype=object)]\n",
      "[13, array([-4.28609448, -2.03058804, -2.25550644,  0.        ]), array([2, 0, 3, 2, 3, 2, 3, 1, 0, 1, 1, 3], dtype=object)]\n",
      "[14, array([-4.27261703, -2.01711059, -2.25550644,  0.        ]), array([2, 0, 3, 0, 3, 2, 3, 1, 0, 1, 1, 3], dtype=object)]\n",
      "[14, array([-4.28027536, -2.02476892, -2.25550644,  0.        ]), array([0, 0, 1, 2, 3, 0, 3, 1, 0, 3, 3, 3], dtype=object)]\n",
      "[13, array([-4.28764632, -2.03213988, -2.25550644,  0.        ]), array([3, 2, 1, 1, 0, 2, 0, 0, 2, 2, 2, 1], dtype=object)]\n",
      "[13, array([-4.28214719, -2.02664076, -2.25550644,  0.        ]), array([1, 2, 1, 2, 3, 2, 0, 0, 2, 2, 2, 3], dtype=object)]\n",
      "[14, array([-4.28991252, -2.03440608, -2.25550644,  0.        ]), array([2, 0, 3, 3, 2, 2, 2, 0, 3, 2, 2, 1], dtype=object)]\n",
      "[15, array([-4.29295207, -2.03744564, -2.25550644,  0.        ]), array([2, 0, 3, 2, 3, 2, 3, 1, 0, 1, 1, 3], dtype=object)]\n",
      "[15, array([-4.2891444 , -2.03363796, -2.25550644,  0.        ]), array([0, 0, 1, 2, 3, 0, 3, 1, 0, 2, 2, 0], dtype=object)]\n",
      "[14, array([-4.2872659 , -2.03175946, -2.25550644,  0.        ]), array([1, 0, 1, 2, 2, 2, 2, 0, 2, 3, 1, 1], dtype=object)]\n",
      "[16, array([-4.27991351, -2.02440708, -2.25550644,  0.        ]), array([2, 0, 3, 2, 3, 2, 3, 1, 1, 1, 1, 3], dtype=object)]\n",
      "[16, array([-4.27795396, -2.02244753, -2.25550644,  0.        ]), array([0, 0, 1, 3, 3, 0, 3, 1, 0, 2, 2, 0], dtype=object)]\n",
      "[15, array([-4.28878957, -2.03328314, -2.25550644,  0.        ]), array([3, 0, 1, 3, 1, 2, 2, 0, 0, 1, 3, 1], dtype=object)]\n",
      "[15, array([-4.29423485, -2.03872842, -2.25550644,  0.        ]), array([3, 0, 1, 2, 2, 2, 2, 0, 2, 3, 1, 3], dtype=object)]\n",
      "[17, array([-4.29608049, -2.04057405, -2.25550644,  0.        ]), array([2, 0, 3, 2, 3, 2, 3, 1, 0, 1, 1, 3], dtype=object)]\n",
      "[16, array([-4.28306328, -2.02755685, -2.25550644,  0.        ]), array([2, 2, 1, 2, 2, 2, 0, 0, 2, 2, 2, 2], dtype=object)]\n",
      "[17, array([-4.29093451, -2.03542807, -2.25550644,  0.        ]), array([0, 0, 1, 2, 3, 0, 3, 1, 0, 2, 2, 0], dtype=object)]\n",
      "[16, array([-4.27391705, -2.01841061, -2.25550644,  0.        ]), array([1, 2, 1, 0, 3, 2, 0, 0, 2, 2, 2, 3], dtype=object)]\n",
      "[18, array([-4.29126263, -2.03575619, -2.25550644,  0.        ]), array([0, 0, 1, 2, 0, 0, 3, 1, 0, 2, 2, 0], dtype=object)]\n",
      "[18, array([-4.27896894, -2.0234625 , -2.25550644,  0.        ]), array([1, 0, 3, 2, 3, 2, 1, 3, 0, 1, 1, 3], dtype=object)]\n",
      "[17, array([-4.29716033, -2.0416539 , -2.25550644,  0.        ]), array([1, 2, 1, 2, 2, 2, 0, 0, 2, 2, 2, 1], dtype=object)]\n",
      "[17, array([-4.29231398, -2.03680754, -2.25550644,  0.        ]), array([3, 0, 1, 2, 2, 2, 2, 0, 2, 3, 1, 1], dtype=object)]\n",
      "[19, array([-4.29205067, -2.03654424, -2.25550644,  0.        ]), array([0, 0, 1, 2, 3, 0, 3, 1, 0, 2, 2, 0], dtype=object)]\n",
      "[19, array([-4.28647524, -2.0309688 , -2.25550644,  0.        ]), array([2, 0, 3, 2, 3, 2, 3, 1, 0, 1, 1, 3], dtype=object)]\n",
      "[18, array([-4.29323013, -2.03772369, -2.25550644,  0.        ]), array([2, 2, 1, 2, 3, 2, 0, 0, 2, 2, 2, 1], dtype=object)]\n",
      "[20, array([-4.27688289, -2.02137645, -2.25550644,  0.        ]), array([2, 0, 3, 2, 3, 2, 3, 1, 2, 1, 1, 3], dtype=object)]\n",
      "[20, array([-4.27374324, -2.0182368 , -2.25550644,  0.        ]), array([0, 0, 1, 2, 3, 0, 3, 1, 2, 2, 2, 0], dtype=object)]\n",
      "[18, array([-4.28874133, -2.03323489, -2.25550644,  0.        ]), array([1, 0, 1, 2, 2, 2, 2, 0, 2, 3, 1, 3], dtype=object)]\n",
      "[19, array([-4.29502592, -2.03951948, -2.25550644,  0.        ]), array([2, 0, 3, 3, 2, 2, 2, 0, 2, 2, 2, 1], dtype=object)]\n",
      "[21, array([-4.28749792, -2.03199148, -2.25550644,  0.        ]), array([2, 0, 3, 2, 3, 2, 3, 1, 0, 1, 1, 3], dtype=object)]\n",
      "[20, array([-4.2781287 , -2.02262226, -2.25550644,  0.        ]), array([2, 2, 1, 2, 2, 2, 0, 0, 2, 2, 2, 2], dtype=object)]\n",
      "[21, array([-4.28877367, -2.03326724, -2.25550644,  0.        ]), array([0, 0, 1, 2, 0, 0, 3, 1, 0, 2, 2, 0], dtype=object)]\n",
      "[19, array([-4.29095175, -2.03544531, -2.25550644,  0.        ]), array([3, 0, 1, 2, 2, 2, 2, 0, 2, 3, 1, 1], dtype=object)]\n",
      "[22, array([-4.27374265, -2.01823622, -2.25550644,  0.        ]), array([2, 0, 3, 2, 3, 2, 3, 1, 2, 1, 1, 1], dtype=object)]\n",
      "[22, array([-4.28638834, -2.0308819 , -2.25550644,  0.        ]), array([2, 0, 1, 2, 0, 0, 3, 1, 0, 2, 2, 0], dtype=object)]\n",
      "[20, array([-4.27886156, -2.02335512, -2.25550644,  0.        ]), array([1, 0, 1, 2, 2, 2, 2, 0, 2, 3, 1, 0], dtype=object)]\n",
      "[21, array([-4.2962241 , -2.04071767, -2.25550644,  0.        ]), array([1, 2, 1, 2, 2, 2, 0, 0, 2, 2, 2, 1], dtype=object)]\n",
      "[23, array([-4.29514146, -2.03963503, -2.25550644,  0.        ]), array([0, 0, 1, 2, 3, 0, 3, 1, 0, 2, 2, 0], dtype=object)]\n",
      "[22, array([-4.29265741, -2.03715097, -2.25550644,  0.        ]), array([1, 0, 3, 3, 2, 2, 2, 0, 2, 2, 2, 1], dtype=object)]\n",
      "[23, array([-4.28758718, -2.03208074, -2.25550644,  0.        ]), array([2, 0, 3, 2, 3, 2, 3, 1, 0, 1, 1, 3], dtype=object)]\n",
      "[24, array([-4.28496474, -2.0294583 , -2.25550644,  0.        ]), array([2, 0, 3, 2, 1, 2, 3, 1, 0, 1, 1, 3], dtype=object)]\n",
      "[21, array([-4.29180829, -2.03630185, -2.25550644,  0.        ]), array([3, 0, 1, 2, 2, 2, 2, 0, 2, 3, 1, 1], dtype=object)]\n",
      "[24, array([-4.27592576, -2.02041932, -2.25550644,  0.        ]), array([0, 0, 1, 2, 3, 0, 3, 1, 0, 2, 2, 3], dtype=object)]\n",
      "[23, array([-4.28967613, -2.03416969, -2.25550644,  0.        ]), array([2, 0, 3, 3, 2, 2, 2, 0, 2, 2, 2, 1], dtype=object)][22, array([-4.29313367, -2.03762724, -2.25550644,  0.        ]), array([0, 0, 1, 2, 0, 2, 2, 0, 2, 3, 1, 1], dtype=object)]\n",
      "\n",
      "[25, array([-4.29458883, -2.03908239, -2.25550644,  0.        ]), array([2, 0, 3, 2, 3, 2, 3, 1, 0, 1, 1, 3], dtype=object)]\n",
      "[24, array([-4.27535109, -2.01984466, -2.25550644,  0.        ]), array([2, 0, 3, 3, 0, 2, 2, 0, 2, 2, 2, 1], dtype=object)]\n",
      "[25, array([-4.28790857, -2.03240213, -2.25550644,  0.        ]), array([0, 0, 1, 2, 3, 0, 3, 1, 0, 2, 2, 0], dtype=object)]\n",
      "[26, array([-4.27829662, -2.02279018, -2.25550644,  0.        ]), array([3, 0, 3, 3, 3, 2, 0, 2, 0, 1, 1, 3], dtype=object)]\n",
      "[26, array([-4.27464874, -2.0191423 , -2.25550644,  0.        ]), array([0, 0, 1, 2, 3, 0, 3, 1, 0, 2, 2, 1], dtype=object)]\n",
      "[23, array([-4.29317361, -2.03766717, -2.25550644,  0.        ]), array([2, 0, 1, 2, 2, 2, 2, 0, 2, 3, 1, 1], dtype=object)]\n",
      "[25, array([-4.29792928, -2.04242285, -2.25550644,  0.        ]), array([2, 0, 3, 3, 2, 2, 2, 0, 2, 2, 2, 1], dtype=object)]\n",
      "[24, array([-4.29543329, -2.03992685, -2.25550644,  0.        ]), array([3, 0, 1, 2, 1, 2, 2, 0, 2, 3, 1, 1], dtype=object)]\n",
      "[26, array([-4.28666398, -2.03115754, -2.25550644,  0.        ]), array([2, 0, 3, 0, 2, 2, 2, 0, 2, 2, 2, 1], dtype=object)]\n",
      "[27, array([-4.29363862, -2.03813218, -2.25550644,  0.        ]), array([2, 0, 3, 2, 3, 2, 3, 1, 0, 1, 1, 3], dtype=object)]\n",
      "[27, array([-4.28946207, -2.03395563, -2.25550644,  0.        ]), array([0, 0, 1, 2, 0, 0, 3, 1, 0, 2, 2, 0], dtype=object)]\n",
      "[28, array([-4.27625791, -2.02075147, -2.25550644,  0.        ]), array([2, 0, 3, 2, 3, 2, 0, 2, 2, 1, 1, 2], dtype=object)]\n",
      "[25, array([-4.30315338, -2.04764695, -2.25550644,  0.        ]), array([3, 0, 1, 2, 2, 2, 2, 0, 2, 3, 1, 1], dtype=object)]\n",
      "[28, array([-4.27875357, -2.02324713, -2.25550644,  0.        ]), array([1, 2, 1, 2, 0, 0, 3, 1, 0, 0, 2, 0], dtype=object)]\n",
      "[27, array([-4.29939578, -2.04388934, -2.25550644,  0.        ]), array([2, 2, 1, 2, 3, 2, 0, 0, 2, 2, 2, 1], dtype=object)]\n",
      "[28, array([-4.2834316 , -2.02792516, -2.25550644,  0.        ]), array([2, 2, 1, 2, 3, 2, 0, 0, 0, 2, 2, 1], dtype=object)]\n",
      "[26, array([-4.28690004, -2.0313936 , -2.25550644,  0.        ]), array([3, 0, 1, 2, 2, 2, 2, 0, 3, 2, 0, 0], dtype=object)]\n",
      "[29, array([-4.29132243, -2.03581599, -2.25550644,  0.        ]), array([2, 0, 3, 2, 3, 2, 3, 1, 0, 1, 1, 3], dtype=object)]\n",
      "[29, array([-4.28573852, -2.03023208, -2.25550644,  0.        ]), array([0, 0, 1, 2, 0, 0, 3, 1, 0, 2, 2, 0], dtype=object)]\n",
      "[30, array([-4.28004627, -2.02453983, -2.25550644,  0.        ]), array([2, 0, 3, 2, 1, 2, 3, 1, 0, 1, 1, 2], dtype=object)]\n",
      "[30, array([-4.27107531, -2.01556887, -2.25550644,  0.        ]), array([0, 0, 1, 1, 0, 0, 3, 1, 0, 2, 2, 0], dtype=object)]\n",
      "[29, array([-4.29114498, -2.03563854, -2.25550644,  0.        ]), array([2, 2, 1, 2, 3, 2, 0, 0, 2, 2, 2, 1], dtype=object)]\n",
      "[27, array([-4.29849723, -2.04299079, -2.25550644,  0.        ]), array([3, 0, 1, 2, 2, 2, 2, 0, 1, 3, 1, 0], dtype=object)]\n",
      "[28, array([-4.2818389 , -2.02633246, -2.25550644,  0.        ]), array([3, 0, 1, 2, 3, 2, 2, 0, 2, 3, 1, 0], dtype=object)]\n",
      "[30, array([-4.28220029, -2.02669385, -2.25550644,  0.        ]), array([0, 2, 1, 3, 3, 2, 0, 0, 2, 2, 2, 1], dtype=object)]\n",
      "[31, array([-4.2864201 , -2.03091367, -2.25550644,  0.        ]), array([2, 0, 3, 2, 3, 2, 3, 1, 0, 1, 1, 3], dtype=object)]\n",
      "[31, array([-4.28802755, -2.03252111, -2.25550644,  0.        ]), array([0, 0, 1, 2, 0, 0, 3, 1, 0, 2, 2, 0], dtype=object)]\n",
      "[32, array([-4.27972591, -2.02421947, -2.25550644,  0.        ]), array([2, 0, 3, 1, 3, 2, 3, 1, 0, 1, 1, 2], dtype=object)]\n",
      "[29, array([-4.29181413, -2.03630769, -2.25550644,  0.        ]), array([3, 0, 1, 2, 1, 2, 2, 0, 2, 3, 1, 1], dtype=object)]\n",
      "[32, array([-4.29041905, -2.03491261, -2.25550644,  0.        ]), array([0, 0, 1, 3, 0, 0, 3, 1, 1, 2, 2, 0], dtype=object)]\n",
      "[31, array([-4.29423096, -2.03872452, -2.25550644,  0.        ]), array([2, 2, 1, 2, 3, 2, 0, 0, 2, 2, 2, 1], dtype=object)]\n",
      "[32, array([-4.2975279 , -2.04202146, -2.25550644,  0.        ]), array([2, 2, 1, 1, 3, 2, 0, 0, 2, 2, 2, 1], dtype=object)]\n",
      "[33, array([-4.28830491, -2.03279847, -2.25550644,  0.        ]), array([2, 0, 3, 2, 1, 2, 3, 1, 0, 1, 1, 3], dtype=object)]\n",
      "[30, array([-4.29227426, -2.03676783, -2.25550644,  0.        ]), array([2, 0, 1, 2, 1, 2, 2, 0, 2, 3, 1, 1], dtype=object)]\n",
      "[33, array([-4.28824026, -2.03273382, -2.25550644,  0.        ]), array([0, 0, 1, 2, 0, 0, 3, 1, 0, 2, 2, 0], dtype=object)]\n",
      "[34, array([-4.27801892, -2.02251248, -2.25550644,  0.        ]), array([2, 0, 3, 0, 1, 2, 3, 1, 0, 1, 1, 3], dtype=object)]\n",
      "[34, array([-4.27985601, -2.02434957, -2.25550644,  0.        ]), array([0, 0, 1, 3, 0, 0, 3, 1, 0, 2, 2, 0], dtype=object)]\n",
      "[33, array([-4.29062094, -2.0351145 , -2.25550644,  0.        ]), array([2, 2, 1, 2, 3, 2, 0, 0, 2, 2, 2, 1], dtype=object)]\n",
      "[31, array([-4.28951424, -2.0340078 , -2.25550644,  0.        ]), array([3, 0, 1, 2, 2, 2, 2, 0, 2, 3, 1, 1], dtype=object)]\n",
      "[35, array([-4.28985459, -2.03434815, -2.25550644,  0.        ]), array([2, 0, 3, 2, 1, 2, 3, 1, 0, 1, 1, 3], dtype=object)]\n",
      "[34, array([-4.29137741, -2.03587098, -2.25550644,  0.        ]), array([2, 2, 1, 2, 3, 2, 0, 0, 1, 2, 2, 0], dtype=object)]\n",
      "[32, array([-4.28502846, -2.02952202, -2.25550644,  0.        ]), array([3, 0, 1, 3, 1, 2, 2, 0, 1, 3, 1, 0], dtype=object)]\n",
      "[35, array([-4.28283801, -2.02733158, -2.25550644,  0.        ]), array([0, 0, 1, 2, 0, 0, 3, 1, 0, 2, 2, 0], dtype=object)]\n",
      "[36, array([-4.27478652, -2.01928008, -2.25550644,  0.        ]), array([2, 2, 3, 2, 1, 2, 3, 1, 0, 0, 2, 3], dtype=object)]\n",
      "[36, array([-4.27495981, -2.01945338, -2.25550644,  0.        ]), array([0, 0, 1, 2, 0, 0, 3, 1, 2, 2, 2, 1], dtype=object)]\n",
      "[35, array([-4.29317044, -2.037664  , -2.25550644,  0.        ]), array([2, 2, 1, 2, 3, 2, 0, 0, 2, 2, 2, 1], dtype=object)]\n",
      "[33, array([-4.29754731, -2.04204088, -2.25550644,  0.        ]), array([3, 0, 1, 2, 1, 2, 2, 0, 2, 3, 1, 0], dtype=object)]\n",
      "[37, array([-4.29544008, -2.03993365, -2.25550644,  0.        ]), array([2, 0, 3, 2, 1, 2, 3, 1, 0, 1, 1, 3], dtype=object)]\n",
      "[36, array([-4.27978963, -2.02428319, -2.25550644,  0.        ]), array([2, 2, 1, 2, 3, 2, 0, 0, 2, 2, 2, 0], dtype=object)]\n",
      "[34, array([-4.29000396, -2.03449752, -2.25550644,  0.        ]), array([3, 0, 1, 2, 1, 2, 2, 0, 1, 3, 1, 1], dtype=object)]\n",
      "[37, array([-4.29402521, -2.03851877, -2.25550644,  0.        ]), array([0, 0, 1, 2, 0, 0, 3, 1, 0, 2, 2, 0], dtype=object)]\n",
      "[38, array([-4.27951242, -2.02400599, -2.25550644,  0.        ]), array([2, 0, 3, 2, 3, 2, 3, 1, 0, 1, 1, 3], dtype=object)]\n",
      "[38, array([-4.28144601, -2.02593957, -2.25550644,  0.        ]), array([0, 0, 1, 2, 2, 0, 3, 1, 0, 2, 2, 0], dtype=object)]\n",
      "[37, array([-4.29934221, -2.04383577, -2.25550644,  0.        ]), array([2, 2, 1, 2, 3, 2, 0, 0, 2, 2, 2, 1], dtype=object)]\n",
      "[35, array([-4.28820188, -2.03269544, -2.25550644,  0.        ]), array([3, 0, 1, 2, 1, 2, 2, 0, 2, 3, 1, 1], dtype=object)]\n",
      "[38, array([-4.2919819 , -2.03647546, -2.25550644,  0.        ]), array([2, 2, 1, 2, 2, 2, 0, 0, 2, 2, 2, 1], dtype=object)]\n",
      "[39, array([-4.29093701, -2.03543057, -2.25550644,  0.        ]), array([2, 0, 3, 2, 1, 2, 2, 0, 0, 1, 1, 3], dtype=object)]\n",
      "[39, array([-4.29248323, -2.03697679, -2.25550644,  0.        ]), array([0, 0, 1, 2, 0, 0, 3, 1, 0, 2, 2, 0], dtype=object)]\n",
      "[40, array([-4.27645375, -2.02094731, -2.25550644,  0.        ]), array([3, 0, 3, 2, 1, 2, 3, 1, 0, 1, 1, 3], dtype=object)]\n",
      "[36, array([-4.28564711, -2.03014067, -2.25550644,  0.        ]), array([3, 0, 1, 3, 1, 2, 2, 0, 2, 3, 1, 1], dtype=object)]\n",
      "[40, array([-4.28601629, -2.03050985, -2.25550644,  0.        ]), array([0, 0, 1, 2, 0, 0, 3, 1, 1, 2, 2, 0], dtype=object)]\n",
      "[39, array([-4.28996089, -2.03445446, -2.25550644,  0.        ]), array([2, 2, 1, 2, 3, 2, 0, 0, 2, 2, 2, 1], dtype=object)]\n",
      "[37, array([-4.29171842, -2.03621199, -2.25550644,  0.        ]), array([3, 0, 1, 2, 1, 2, 2, 0, 2, 3, 1, 1], dtype=object)]\n",
      "[40, array([-4.28125963, -2.02575319, -2.25550644,  0.        ]), array([2, 2, 1, 1, 3, 2, 0, 0, 3, 2, 2, 3], dtype=object)]\n",
      "[38, array([-4.28345099, -2.02794456, -2.25550644,  0.        ]), array([3, 0, 1, 2, 1, 2, 2, 0, 3, 3, 1, 0], dtype=object)]\n",
      "[39, array([-4.30255015, -2.04704371, -2.25550644,  0.        ]), array([3, 0, 1, 2, 1, 2, 2, 0, 2, 3, 1, 1], dtype=object)]\n",
      "[40, array([-4.27520394, -2.0196975 , -2.25550644,  0.        ]), array([3, 0, 1, 2, 1, 2, 2, 0, 0, 3, 1, 1], dtype=object)]\n"
     ]
    }
   ],
   "source": [
    "# we can perform CAFQA by using the main optimization function \"claptonize\"\n",
    "# now with the noisy circuit\n",
    "# this is slower, as the noisy circuit needs to be sampled\n",
    "ks_best, energy_noisy, energy_noiseless = claptonize(\n",
    "    paulis,\n",
    "    coeffs,\n",
    "    vqe_pcirc,\n",
    "    n_proc=4,           # total number of processes in parallel\n",
    "    n_starts=4,         # number of random genetic algorithm starts in parallel\n",
    "    n_rounds=1,         # number of budget rounds, if None it will terminate itself\n",
    "    callback=print,     # callback for internal parameter (#iteration, energies, ks) processing\n",
    "    budget=20           # budget per genetic algorithm instance\n",
    ")"
   ]
  },
  {
   "cell_type": "code",
   "execution_count": 36,
   "metadata": {},
   "outputs": [
    {
     "data": {
      "text/plain": [
       "[2, 2, 1, 1, 3, 2, 0, 0, 2, 2, 2, 1]"
      ]
     },
     "execution_count": 36,
     "metadata": {},
     "output_type": "execute_result"
    }
   ],
   "source": [
    "# the best parameters are\n",
    "ks_best"
   ]
  },
  {
   "cell_type": "code",
   "execution_count": 37,
   "metadata": {},
   "outputs": [
    {
     "data": {
      "text/plain": [
       "(np.float64(-2.0237951035451354), np.float64(-2.2555064377753498))"
      ]
     },
     "execution_count": 37,
     "metadata": {},
     "output_type": "execute_result"
    }
   ],
   "source": [
    "# with noisy/noiseless energy\n",
    "energy_noisy, energy_noiseless"
   ]
  },
  {
   "cell_type": "code",
   "execution_count": 40,
   "metadata": {},
   "outputs": [
    {
     "data": {
      "text/html": [
       "<pre>q0: -Y------S-----X-@-I-Z---\n",
       "                  | |\n",
       "q1: -Y------S_DAG-|-X-@-I-Z-\n",
       "                  |   |\n",
       "q2: -SQRT_Y-Z-----@---X-Y-S-</pre>"
      ],
      "text/plain": [
       "q0: -Y------S-----X-@-I-Z---\n",
       "                  | |\n",
       "q1: -Y------S_DAG-|-X-@-I-Z-\n",
       "                  |   |\n",
       "q2: -SQRT_Y-Z-----@---X-Y-S-"
      ]
     },
     "execution_count": 40,
     "metadata": {},
     "output_type": "execute_result"
    }
   ],
   "source": [
    "# the corresponding circuit is\n",
    "vqe_pcirc.assign(ks_best)\n",
    "vqe_pcirc.snapshot_noiseless().circ_snapshot_noiseless.diagram()"
   ]
  },
  {
   "cell_type": "code",
   "execution_count": null,
   "metadata": {},
   "outputs": [],
   "source": []
  }
 ],
 "metadata": {
  "kernelspec": {
   "display_name": "clapton",
   "language": "python",
   "name": "python3"
  },
  "language_info": {
   "codemirror_mode": {
    "name": "ipython",
    "version": 3
   },
   "file_extension": ".py",
   "mimetype": "text/x-python",
   "name": "python",
   "nbconvert_exporter": "python",
   "pygments_lexer": "ipython3",
   "version": "3.12.5"
  }
 },
 "nbformat": 4,
 "nbformat_minor": 2
}
