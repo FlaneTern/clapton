{
 "cells": [
  {
   "cell_type": "markdown",
   "metadata": {},
   "source": [
    "# CAFQA"
   ]
  },
  {
   "cell_type": "code",
   "execution_count": 1,
   "metadata": {},
   "outputs": [],
   "source": [
    "import sys\n",
    "sys.path.append(\"../\")\n",
    "from clapton.clapton import claptonize\n",
    "from clapton.ansatzes import circular_ansatz\n",
    "import numpy as np"
   ]
  },
  {
   "cell_type": "code",
   "execution_count": 2,
   "metadata": {},
   "outputs": [],
   "source": [
    "# define Hamiltonian, e.g. 3q Heisenberg model with random coefficients\n",
    "paulis = [\"XXI\", \"IXX\", \"YYI\", \"IYY\", \"ZZI\", \"IZZ\"]\n",
    "coeffs = np.random.random(len(paulis))"
   ]
  },
  {
   "cell_type": "code",
   "execution_count": 3,
   "metadata": {},
   "outputs": [],
   "source": [
    "# define parametrized Clifford circuit that is being optimized over\n",
    "# here we use the circular_ansatz template\n",
    "# we fix 2q gates as they will not be optimized over\n",
    "vqe_pcirc = circular_ansatz(N=len(paulis[0]), reps=1, fix_2q=True)"
   ]
  },
  {
   "cell_type": "code",
   "execution_count": 4,
   "metadata": {},
   "outputs": [
    {
     "name": "stdout",
     "output_type": "stream",
     "text": [
      "RY False\n",
      "RY False\n",
      "RY False\n",
      "RZ False\n",
      "RZ False\n",
      "RZ False\n",
      "2Q True\n",
      "2Q True\n",
      "2Q True\n",
      "RY False\n",
      "RY False\n",
      "RY False\n",
      "RZ False\n",
      "RZ False\n",
      "RZ False\n"
     ]
    }
   ],
   "source": [
    "# the circuit consists of parametrized gates\n",
    "for gate in vqe_pcirc.gates:\n",
    "    print(gate.label, gate.is_fixed())"
   ]
  },
  {
   "cell_type": "code",
   "execution_count": 5,
   "metadata": {},
   "outputs": [],
   "source": [
    "# non-fixed gates will be optimized over\n",
    "# RY and RZ gates can assume 4 values k = 0,1,2,3 which descripe multiples of pi/2"
   ]
  },
  {
   "cell_type": "code",
   "execution_count": 6,
   "metadata": {},
   "outputs": [
    {
     "data": {
      "text/plain": [
       "[0, 0, 0, 0, 0, 0, 0, 0, 0, 0, 0, 0]"
      ]
     },
     "execution_count": 6,
     "metadata": {},
     "output_type": "execute_result"
    }
   ],
   "source": [
    "# the initial parameters are all 0\n",
    "vqe_pcirc.read()"
   ]
  },
  {
   "cell_type": "code",
   "execution_count": 7,
   "metadata": {},
   "outputs": [
    {
     "data": {
      "text/html": [
       "<pre>q0: -I-I-X-@-I-I---\n",
       "         | |\n",
       "q1: -I-I-|-X-@-I-I-\n",
       "         |   |\n",
       "q2: -I-I-@---X-I-I-</pre>"
      ],
      "text/plain": [
       "q0: -I-I-X-@-I-I---\n",
       "         | |\n",
       "q1: -I-I-|-X-@-I-I-\n",
       "         |   |\n",
       "q2: -I-I-@---X-I-I-"
      ]
     },
     "execution_count": 7,
     "metadata": {},
     "output_type": "execute_result"
    }
   ],
   "source": [
    "# we can look at the corresponding stim circuit\n",
    "vqe_pcirc.stim_circuit().diagram()"
   ]
  },
  {
   "cell_type": "code",
   "execution_count": 8,
   "metadata": {},
   "outputs": [
    {
     "data": {
      "text/plain": [
       "<clapton.clifford.ParametrizedCliffordCircuit at 0x7fdd0bbb5ba0>"
      ]
     },
     "execution_count": 8,
     "metadata": {},
     "output_type": "execute_result"
    }
   ],
   "source": [
    "# we can assign a different set of parameters\n",
    "vqe_pcirc.assign([0,1,2,3,0,1,2,3,0,1,2,3])"
   ]
  },
  {
   "cell_type": "code",
   "execution_count": 9,
   "metadata": {},
   "outputs": [
    {
     "data": {
      "text/html": [
       "<pre>q0: -I------S_DAG-X-@-Y-S----------------\n",
       "                  | |\n",
       "q1: -SQRT_Y-I-----|-X-@-SQRT_Y_DAG-Z-----\n",
       "                  |   |\n",
       "q2: -Y------S-----@---X-I----------S_DAG-</pre>"
      ],
      "text/plain": [
       "q0: -I------S_DAG-X-@-Y-S----------------\n",
       "                  | |\n",
       "q1: -SQRT_Y-I-----|-X-@-SQRT_Y_DAG-Z-----\n",
       "                  |   |\n",
       "q2: -Y------S-----@---X-I----------S_DAG-"
      ]
     },
     "execution_count": 9,
     "metadata": {},
     "output_type": "execute_result"
    }
   ],
   "source": [
    "vqe_pcirc.stim_circuit().diagram()"
   ]
  },
  {
   "cell_type": "code",
   "execution_count": 10,
   "metadata": {},
   "outputs": [
    {
     "name": "stdout",
     "output_type": "stream",
     "text": [
      "STARTING ROUND 0\n",
      "\n",
      "\n",
      "started GA at id 1 with 1 procs\n",
      "\n",
      "started GA at id 2 with 1 procs\n",
      "\n",
      "started GA at id None with 1 procs\n",
      "\n"
     ]
    },
    {
     "name": "stderr",
     "output_type": "stream",
     "text": [
      "/home/dbharadwaj/anaconda3/envs/clapton/lib/python3.10/site-packages/pygad/pygad.py:1139: UserWarning: The 'delay_after_gen' parameter is deprecated starting from PyGAD 3.3.0. To delay or pause the evolution after each generation, assign a callback function/method to the 'on_generation' parameter to adds some time delay.\n",
      "  warnings.warn(\"The 'delay_after_gen' parameter is deprecated starting from PyGAD 3.3.0. To delay or pause the evolution after each generation, assign a callback function/method to the 'on_generation' parameter to adds some time delay.\")\n",
      "/home/dbharadwaj/anaconda3/envs/clapton/lib/python3.10/site-packages/pygad/pygad.py:1139: UserWarning: The 'delay_after_gen' parameter is deprecated starting from PyGAD 3.3.0. To delay or pause the evolution after each generation, assign a callback function/method to the 'on_generation' parameter to adds some time delay.\n",
      "  warnings.warn(\"The 'delay_after_gen' parameter is deprecated starting from PyGAD 3.3.0. To delay or pause the evolution after each generation, assign a callback function/method to the 'on_generation' parameter to adds some time delay.\")\n"
     ]
    },
    {
     "name": "stdout",
     "output_type": "stream",
     "text": [
      "started GA at id 3 with 1 procs\n",
      "\n"
     ]
    },
    {
     "name": "stderr",
     "output_type": "stream",
     "text": [
      "/home/dbharadwaj/anaconda3/envs/clapton/lib/python3.10/site-packages/pygad/pygad.py:1139: UserWarning: The 'delay_after_gen' parameter is deprecated starting from PyGAD 3.3.0. To delay or pause the evolution after each generation, assign a callback function/method to the 'on_generation' parameter to adds some time delay.\n",
      "  warnings.warn(\"The 'delay_after_gen' parameter is deprecated starting from PyGAD 3.3.0. To delay or pause the evolution after each generation, assign a callback function/method to the 'on_generation' parameter to adds some time delay.\")\n",
      "/home/dbharadwaj/anaconda3/envs/clapton/lib/python3.10/site-packages/pygad/pygad.py:1139: UserWarning: The 'delay_after_gen' parameter is deprecated starting from PyGAD 3.3.0. To delay or pause the evolution after each generation, assign a callback function/method to the 'on_generation' parameter to adds some time delay.\n",
      "  warnings.warn(\"The 'delay_after_gen' parameter is deprecated starting from PyGAD 3.3.0. To delay or pause the evolution after each generation, assign a callback function/method to the 'on_generation' parameter to adds some time delay.\")\n"
     ]
    },
    {
     "name": "stdout",
     "output_type": "stream",
     "text": [
      "[0, array([-3.01980343, -1.50990171, -1.50990171,  0.        ]), array([0, 3, 0, 3, 0, 1, 2, 3, 3, 1, 0, 2], dtype=object)]\n",
      "[0, array([-3.01980343, -1.50990171, -1.50990171,  0.        ]), array([3, 1, 0, 2, 2, 3, 3, 0, 2, 1, 1, 3], dtype=object)]\n",
      "[0, array([-3.01980343, -1.50990171, -1.50990171,  0.        ]), array([2, 3, 0, 1, 2, 2, 3, 2, 0, 0, 1, 1], dtype=object)]\n",
      "[0, array([-3.01980343, -1.50990171, -1.50990171,  0.        ]), array([0, 3, 2, 0, 3, 3, 0, 0, 0, 2, 2, 3], dtype=object)]\n",
      "[1, array([-3.01980343, -1.50990171, -1.50990171,  0.        ]), array([2, 1, 2, 1, 0, 1, 1, 1, 3, 1, 3, 1], dtype=object)]\n",
      "[1, array([-3.01980343, -1.50990171, -1.50990171,  0.        ]), array([0, 1, 0, 3, 0, 3, 2, 3, 1, 0, 1, 1], dtype=object)]\n",
      "[1, array([-3.01980343, -1.50990171, -1.50990171,  0.        ]), array([2, 3, 0, 1, 2, 2, 3, 2, 0, 3, 2, 2], dtype=object)][1, array([-3.01980343, -1.50990171, -1.50990171,  0.        ]), array([0, 3, 2, 0, 3, 3, 0, 0, 0, 2, 2, 3], dtype=object)]\n",
      "\n",
      "[2, array([-3.01980343, -1.50990171, -1.50990171,  0.        ]), array([2, 1, 2, 1, 0, 1, 1, 1, 3, 1, 3, 1], dtype=object)]\n",
      "[2, array([-3.01980343, -1.50990171, -1.50990171,  0.        ]), array([0, 1, 0, 2, 2, 3, 3, 0, 2, 1, 1, 3], dtype=object)]\n",
      "[2, array([-3.01980343, -1.50990171, -1.50990171,  0.        ]), array([2, 3, 0, 1, 2, 2, 3, 2, 0, 3, 2, 2], dtype=object)]\n",
      "[2, array([-3.01980343, -1.50990171, -1.50990171,  0.        ]), array([1, 1, 0, 1, 0, 3, 2, 0, 2, 0, 3, 3], dtype=object)]\n",
      "[3, array([-3.01980343, -1.50990171, -1.50990171,  0.        ]), array([2, 1, 2, 1, 0, 1, 1, 1, 3, 1, 3, 1], dtype=object)]\n",
      "[3, array([-3.01980343, -1.50990171, -1.50990171,  0.        ]), array([0, 1, 2, 1, 2, 3, 2, 0, 0, 0, 3, 3], dtype=object)][3, array([-3.01980343, -1.50990171, -1.50990171,  0.        ]), array([0, 3, 0, 0, 2, 2, 3, 2, 0, 0, 1, 1], dtype=object)]\n",
      "\n",
      "[3, array([-3.01980343, -1.50990171, -1.50990171,  0.        ]), array([2, 1, 0, 2, 2, 3, 3, 0, 2, 1, 1, 3], dtype=object)]\n",
      "[4, array([-3.01980343, -1.50990171, -1.50990171,  0.        ]), array([3, 3, 0, 1, 0, 3, 3, 0, 2, 2, 3, 1], dtype=object)]\n",
      "[4, array([-3.01980343, -1.50990171, -1.50990171,  0.        ]), array([0, 1, 0, 3, 2, 0, 3, 3, 3, 2, 3, 1], dtype=object)]\n",
      "[4, array([-3.01980343, -1.50990171, -1.50990171,  0.        ]), array([0, 1, 2, 1, 2, 3, 2, 0, 0, 0, 3, 3], dtype=object)]\n",
      "[4, array([-3.01980343, -1.50990171, -1.50990171,  0.        ]), array([0, 1, 0, 3, 0, 3, 2, 3, 1, 0, 2, 2], dtype=object)]\n",
      "[5, array([-3.01980343, -1.50990171, -1.50990171,  0.        ]), array([0, 3, 0, 1, 0, 3, 3, 0, 2, 2, 3, 1], dtype=object)]\n",
      "[5, array([-3.01980343, -1.50990171, -1.50990171,  0.        ]), array([1, 1, 0, 3, 2, 0, 3, 3, 3, 2, 3, 1], dtype=object)]\n",
      "[5, array([-2.68264377, -1.34132188, -1.34132188,  0.        ]), array([2, 0, 0, 1, 0, 3, 2, 0, 2, 0, 3, 3], dtype=object)]\n",
      "[6, array([-3.01980343, -1.50990171, -1.50990171,  0.        ]), array([2, 1, 2, 3, 3, 0, 3, 2, 2, 3, 0, 3], dtype=object)]\n",
      "[5, array([-3.01980343, -1.50990171, -1.50990171,  0.        ]), array([0, 1, 0, 3, 0, 3, 2, 0, 2, 1, 0, 0], dtype=object)]\n",
      "[6, array([-3.01980343, -1.50990171, -1.50990171,  0.        ]), array([1, 1, 0, 3, 2, 0, 3, 3, 3, 2, 3, 1], dtype=object)]\n",
      "[6, array([-3.01980343, -1.50990171, -1.50990171,  0.        ]), array([0, 3, 2, 0, 3, 3, 2, 2, 2, 3, 2, 1], dtype=object)]\n",
      "[6, array([-3.01980343, -1.50990171, -1.50990171,  0.        ]), array([0, 1, 0, 3, 0, 3, 2, 3, 1, 0, 3, 3], dtype=object)]\n",
      "[7, array([-3.01980343, -1.50990171, -1.50990171,  0.        ]), array([1, 3, 0, 1, 0, 3, 3, 0, 2, 2, 3, 1], dtype=object)]\n",
      "[7, array([-3.01980343, -1.50990171, -1.50990171,  0.        ]), array([0, 1, 0, 3, 2, 0, 3, 3, 3, 2, 3, 1], dtype=object)]\n",
      "[7, array([-3.01980343, -1.50990171, -1.50990171,  0.        ]), array([2, 1, 2, 1, 2, 3, 2, 0, 0, 0, 3, 3], dtype=object)]\n",
      "[8, array([-3.01980343, -1.50990171, -1.50990171,  0.        ]), array([1, 3, 0, 1, 0, 3, 3, 0, 2, 2, 3, 1], dtype=object)][8, array([-3.01980343, -1.50990171, -1.50990171,  0.        ]), array([0, 3, 0, 1, 2, 2, 3, 2, 0, 0, 1, 1], dtype=object)]\n",
      "\n",
      "[7, array([-3.01980343, -1.50990171, -1.50990171,  0.        ]), array([2, 1, 0, 2, 2, 3, 3, 0, 2, 1, 1, 3], dtype=object)]\n",
      "[8, array([-3.01980343, -1.50990171, -1.50990171,  0.        ]), array([2, 1, 2, 1, 2, 3, 2, 0, 0, 0, 3, 3], dtype=object)]\n",
      "[8, array([-3.01980343, -1.50990171, -1.50990171,  0.        ]), array([3, 1, 0, 3, 0, 3, 2, 3, 1, 0, 1, 1], dtype=object)]\n",
      "[9, array([-3.01980343, -1.50990171, -1.50990171,  0.        ]), array([0, 1, 2, 1, 0, 2, 1, 1, 3, 1, 3, 1], dtype=object)]\n",
      "[9, array([-3.01980343, -1.50990171, -1.50990171,  0.        ]), array([0, 3, 0, 0, 2, 2, 3, 2, 0, 0, 1, 1], dtype=object)]\n",
      "[9, array([-3.01980343, -1.50990171, -1.50990171,  0.        ]), array([0, 3, 2, 0, 3, 3, 0, 0, 0, 2, 2, 3], dtype=object)]\n",
      "[10, array([-3.01980343, -1.50990171, -1.50990171,  0.        ]), array([0, 3, 0, 3, 2, 2, 3, 2, 0, 0, 1, 1], dtype=object)]\n",
      "[10, array([-3.01980343, -1.50990171, -1.50990171,  0.        ]), array([0, 1, 2, 1, 0, 2, 1, 1, 3, 1, 3, 1], dtype=object)]\n",
      "[9, array([-3.01980343, -1.50990171, -1.50990171,  0.        ]), array([0, 1, 0, 3, 0, 3, 2, 3, 1, 0, 1, 1], dtype=object)]\n",
      "[10, array([-3.01980343, -1.50990171, -1.50990171,  0.        ]), array([0, 3, 2, 2, 3, 3, 0, 0, 0, 2, 2, 3], dtype=object)]\n",
      "[10, array([-3.01980343, -1.50990171, -1.50990171,  0.        ]), array([2, 1, 0, 3, 0, 3, 2, 0, 2, 1, 0, 0], dtype=object)]\n",
      "[11, array([-3.01980343, -1.50990171, -1.50990171,  0.        ]), array([0, 3, 0, 0, 2, 2, 3, 2, 0, 1, 3, 3], dtype=object)]\n",
      "[11, array([-3.01980343, -1.50990171, -1.50990171,  0.        ]), array([1, 3, 0, 1, 0, 3, 3, 0, 2, 2, 3, 1], dtype=object)]\n",
      "[11, array([-3.01980343, -1.50990171, -1.50990171,  0.        ]), array([0, 3, 2, 0, 3, 3, 0, 0, 0, 2, 2, 3], dtype=object)]\n",
      "[12, array([-3.01980343, -1.50990171, -1.50990171,  0.        ]), array([0, 3, 0, 1, 2, 2, 3, 2, 0, 1, 1, 1], dtype=object)]\n",
      "[12, array([-3.01980343, -1.50990171, -1.50990171,  0.        ]), array([0, 1, 2, 1, 2, 3, 2, 0, 0, 0, 3, 3], dtype=object)]\n",
      "[11, array([-3.01980343, -1.50990171, -1.50990171,  0.        ]), array([0, 1, 0, 3, 0, 3, 2, 3, 1, 0, 1, 1], dtype=object)]\n",
      "[12, array([-3.01980343, -1.50990171, -1.50990171,  0.        ]), array([0, 1, 2, 1, 0, 1, 1, 1, 3, 1, 3, 1], dtype=object)]\n",
      "[13, array([-3.01980343, -1.50990171, -1.50990171,  0.        ]), array([0, 3, 0, 0, 2, 2, 3, 2, 0, 0, 1, 1], dtype=object)]\n",
      "[12, array([-3.01980343, -1.50990171, -1.50990171,  0.        ]), array([0, 1, 0, 2, 0, 3, 2, 3, 1, 1, 0, 0], dtype=object)]\n",
      "[13, array([-3.01980343, -1.50990171, -1.50990171,  0.        ]), array([0, 1, 2, 1, 0, 1, 1, 1, 3, 1, 3, 1], dtype=object)]\n",
      "[13, array([-3.01980343, -1.50990171, -1.50990171,  0.        ]), array([0, 3, 2, 0, 3, 3, 0, 0, 0, 2, 2, 3], dtype=object)]\n",
      "[14, array([-3.01980343, -1.50990171, -1.50990171,  0.        ]), array([0, 3, 0, 0, 2, 2, 2, 2, 0, 0, 1, 1], dtype=object)]\n",
      "[14, array([-3.01980343, -1.50990171, -1.50990171,  0.        ]), array([1, 1, 2, 1, 0, 0, 2, 3, 1, 2, 1, 3], dtype=object)]\n",
      "[13, array([-3.01980343, -1.50990171, -1.50990171,  0.        ]), array([0, 1, 0, 3, 0, 3, 3, 0, 2, 1, 0, 0], dtype=object)]\n",
      "[14, array([-3.01980343, -1.50990171, -1.50990171,  0.        ]), array([1, 1, 2, 1, 2, 3, 2, 0, 0, 0, 0, 0], dtype=object)]\n",
      "[15, array([-3.01980343, -1.50990171, -1.50990171,  0.        ]), array([0, 3, 0, 1, 2, 2, 3, 2, 0, 3, 2, 2], dtype=object)]\n",
      "[16, array([-3.01980343, -1.50990171, -1.50990171,  0.        ]), array([0, 3, 0, 1, 2, 2, 3, 2, 0, 3, 2, 2], dtype=object)]\n",
      "[14, array([-3.01980343, -1.50990171, -1.50990171,  0.        ]), array([0, 1, 0, 3, 0, 3, 3, 0, 2, 1, 0, 0], dtype=object)]\n",
      "[15, array([-3.01980343, -1.50990171, -1.50990171,  0.        ]), array([0, 1, 0, 3, 2, 3, 0, 0, 2, 2, 3, 1], dtype=object)]\n",
      "[15, array([-3.01980343, -1.50990171, -1.50990171,  0.        ]), array([0, 3, 2, 0, 3, 3, 0, 0, 0, 2, 2, 3], dtype=object)]\n",
      "[16, array([-3.01980343, -1.50990171, -1.50990171,  0.        ]), array([1, 1, 0, 3, 2, 3, 3, 0, 2, 1, 3, 1], dtype=object)]\n",
      "[16, array([-3.01980343, -1.50990171, -1.50990171,  0.        ]), array([0, 3, 2, 0, 3, 3, 0, 0, 0, 3, 3, 0], dtype=object)]\n",
      "[17, array([-3.01980343, -1.50990171, -1.50990171,  0.        ]), array([0, 3, 0, 0, 2, 2, 3, 2, 0, 1, 3, 3], dtype=object)]\n",
      "[15, array([-3.01980343, -1.50990171, -1.50990171,  0.        ]), array([0, 1, 0, 2, 2, 3, 2, 0, 2, 1, 1, 3], dtype=object)]\n",
      "[18, array([-3.01980343, -1.50990171, -1.50990171,  0.        ]), array([0, 3, 0, 0, 2, 2, 3, 2, 0, 0, 3, 3], dtype=object)]\n",
      "[17, array([-3.01980343, -1.50990171, -1.50990171,  0.        ]), array([0, 1, 0, 3, 2, 3, 0, 0, 2, 2, 3, 1], dtype=object)]\n",
      "[16, array([-3.01980343, -1.50990171, -1.50990171,  0.        ]), array([0, 1, 0, 2, 2, 3, 2, 0, 2, 1, 1, 3], dtype=object)]\n",
      "[17, array([-3.01980343, -1.50990171, -1.50990171,  0.        ]), array([0, 3, 2, 0, 3, 3, 0, 0, 0, 2, 2, 3], dtype=object)]\n",
      "[18, array([-3.01980343, -1.50990171, -1.50990171,  0.        ]), array([1, 1, 2, 1, 0, 2, 1, 1, 3, 2, 3, 1], dtype=object)]\n",
      "[19, array([-3.01980343, -1.50990171, -1.50990171,  0.        ]), array([0, 3, 0, 0, 2, 2, 3, 2, 0, 1, 3, 3], dtype=object)]\n",
      "[18, array([-3.01980343, -1.50990171, -1.50990171,  0.        ]), array([0, 3, 2, 0, 3, 3, 0, 0, 0, 3, 2, 3], dtype=object)]\n",
      "[20, array([-3.01980343, -1.50990171, -1.50990171,  0.        ]), array([0, 3, 0, 0, 2, 2, 3, 2, 0, 0, 2, 2], dtype=object)]\n",
      "[17, array([-3.01980343, -1.50990171, -1.50990171,  0.        ]), array([0, 1, 0, 1, 0, 2, 3, 0, 2, 1, 1, 1], dtype=object)]\n",
      "[19, array([-3.01980343, -1.50990171, -1.50990171,  0.        ]), array([1, 1, 0, 3, 2, 3, 3, 0, 2, 2, 3, 1], dtype=object)]\n",
      "[18, array([-3.01980343, -1.50990171, -1.50990171,  0.        ]), array([0, 1, 0, 1, 0, 2, 3, 0, 2, 3, 1, 1], dtype=object)]\n",
      "[19, array([-3.01980343, -1.50990171, -1.50990171,  0.        ]), array([0, 3, 2, 0, 3, 3, 0, 0, 0, 2, 2, 3], dtype=object)]\n",
      "[20, array([-3.01980343, -1.50990171, -1.50990171,  0.        ]), array([1, 1, 0, 3, 2, 3, 3, 0, 2, 1, 3, 1], dtype=object)]\n",
      "[21, array([-3.01980343, -1.50990171, -1.50990171,  0.        ]), array([0, 3, 0, 1, 2, 2, 3, 2, 0, 3, 3, 3], dtype=object)]\n",
      "[20, array([-3.01980343, -1.50990171, -1.50990171,  0.        ]), array([2, 1, 2, 1, 3, 3, 0, 0, 0, 2, 2, 3], dtype=object)]\n",
      "[22, array([-3.01980343, -1.50990171, -1.50990171,  0.        ]), array([0, 3, 0, 1, 2, 2, 0, 2, 0, 3, 3, 3], dtype=object)]\n",
      "[19, array([-3.01980343, -1.50990171, -1.50990171,  0.        ]), array([0, 1, 0, 2, 0, 2, 3, 0, 2, 1, 1, 1], dtype=object)]\n",
      "[21, array([-3.01980343, -1.50990171, -1.50990171,  0.        ]), array([0, 1, 0, 3, 2, 3, 0, 0, 2, 2, 3, 1], dtype=object)]\n",
      "[22, array([-3.01980343, -1.50990171, -1.50990171,  0.        ]), array([2, 1, 0, 3, 2, 3, 0, 0, 2, 1, 3, 1], dtype=object)]\n",
      "[21, array([-3.01980343, -1.50990171, -1.50990171,  0.        ]), array([0, 3, 2, 0, 3, 3, 0, 0, 0, 2, 2, 3], dtype=object)]\n",
      "[20, array([-3.01980343, -1.50990171, -1.50990171,  0.        ]), array([0, 1, 0, 2, 0, 2, 3, 0, 2, 3, 1, 1], dtype=object)]\n",
      "[23, array([-3.01980343, -1.50990171, -1.50990171,  0.        ]), array([0, 3, 0, 0, 2, 2, 0, 2, 0, 1, 1, 1], dtype=object)]\n",
      "[22, array([-3.01980343, -1.50990171, -1.50990171,  0.        ]), array([0, 1, 2, 1, 2, 3, 2, 0, 0, 2, 0, 0], dtype=object)]\n",
      "[24, array([-3.01980343, -1.50990171, -1.50990171,  0.        ]), array([0, 3, 0, 3, 2, 2, 3, 2, 0, 3, 1, 1], dtype=object)]\n",
      "[23, array([-3.01980343, -1.50990171, -1.50990171,  0.        ]), array([0, 1, 0, 3, 2, 3, 3, 0, 2, 2, 3, 1], dtype=object)]\n",
      "[21, array([-3.01980343, -1.50990171, -1.50990171,  0.        ]), array([3, 1, 0, 2, 0, 2, 3, 0, 2, 1, 0, 0], dtype=object)]\n",
      "[24, array([-3.01980343, -1.50990171, -1.50990171,  0.        ]), array([0, 1, 0, 3, 2, 0, 0, 0, 2, 2, 3, 1], dtype=object)][23, array([-3.01980343, -1.50990171, -1.50990171,  0.        ]), array([0, 3, 2, 0, 3, 3, 0, 0, 0, 2, 2, 3], dtype=object)]\n",
      "\n",
      "[25, array([-3.01980343, -1.50990171, -1.50990171,  0.        ]), array([0, 3, 0, 0, 2, 2, 3, 2, 0, 1, 3, 3], dtype=object)][24, array([-3.01980343, -1.50990171, -1.50990171,  0.        ]), array([0, 3, 2, 2, 3, 3, 2, 0, 0, 2, 2, 3], dtype=object)]\n",
      "\n",
      "[22, array([-3.01980343, -1.50990171, -1.50990171,  0.        ]), array([3, 1, 0, 2, 0, 2, 3, 0, 2, 1, 0, 0], dtype=object)]\n",
      "[26, array([-3.01980343, -1.50990171, -1.50990171,  0.        ]), array([2, 3, 0, 0, 2, 1, 3, 2, 0, 1, 3, 3], dtype=object)]\n",
      "[25, array([-3.01980343, -1.50990171, -1.50990171,  0.        ]), array([0, 1, 0, 3, 2, 3, 0, 0, 2, 2, 3, 1], dtype=object)]\n",
      "[26, array([-3.01980343, -1.50990171, -1.50990171,  0.        ]), array([2, 1, 0, 3, 2, 3, 3, 0, 2, 1, 3, 1], dtype=object)][25, array([-3.01980343, -1.50990171, -1.50990171,  0.        ]), array([0, 3, 2, 0, 3, 3, 0, 0, 0, 2, 2, 3], dtype=object)]\n",
      "\n",
      "[23, array([-3.01980343, -1.50990171, -1.50990171,  0.        ]), array([0, 1, 0, 1, 0, 3, 2, 0, 2, 1, 1, 1], dtype=object)]\n",
      "[26, array([-3.01980343, -1.50990171, -1.50990171,  0.        ]), array([0, 3, 2, 0, 3, 3, 3, 0, 0, 2, 2, 3], dtype=object)]\n",
      "[27, array([-3.01980343, -1.50990171, -1.50990171,  0.        ]), array([0, 3, 0, 0, 2, 2, 3, 2, 0, 1, 3, 3], dtype=object)]\n",
      "[24, array([-3.01980343, -1.50990171, -1.50990171,  0.        ]), array([0, 1, 0, 1, 3, 3, 2, 0, 2, 1, 1, 0], dtype=object)]\n",
      "[28, array([-3.01980343, -1.50990171, -1.50990171,  0.        ]), array([0, 3, 0, 3, 2, 3, 3, 2, 0, 1, 1, 1], dtype=object)]\n",
      "[27, array([-3.01980343, -1.50990171, -1.50990171,  0.        ]), array([0, 1, 0, 3, 2, 0, 3, 0, 2, 2, 3, 1], dtype=object)]\n",
      "[28, array([-3.01980343, -1.50990171, -1.50990171,  0.        ]), array([0, 1, 0, 3, 2, 0, 3, 0, 2, 1, 3, 1], dtype=object)]\n",
      "[27, array([-3.01980343, -1.50990171, -1.50990171,  0.        ]), array([0, 3, 2, 0, 3, 3, 0, 0, 0, 2, 2, 3], dtype=object)]\n",
      "[28, array([-3.01980343, -1.50990171, -1.50990171,  0.        ]), array([0, 3, 2, 2, 3, 3, 0, 0, 0, 0, 2, 3], dtype=object)]\n",
      "[29, array([-3.01980343, -1.50990171, -1.50990171,  0.        ]), array([0, 3, 0, 0, 2, 2, 3, 2, 0, 1, 3, 3], dtype=object)]\n",
      "[25, array([-3.01980343, -1.50990171, -1.50990171,  0.        ]), array([0, 1, 0, 2, 0, 2, 3, 0, 2, 0, 0, 0], dtype=object)]\n",
      "[30, array([-3.01980343, -1.50990171, -1.50990171,  0.        ]), array([0, 3, 0, 0, 2, 1, 0, 2, 0, 3, 1, 1], dtype=object)]\n",
      "[29, array([-3.01980343, -1.50990171, -1.50990171,  0.        ]), array([0, 1, 0, 2, 2, 3, 3, 0, 2, 2, 3, 1], dtype=object)]\n",
      "[26, array([-3.01980343, -1.50990171, -1.50990171,  0.        ]), array([1, 1, 0, 2, 0, 2, 3, 0, 2, 0, 1, 1], dtype=object)]\n",
      "[30, array([-3.01980343, -1.50990171, -1.50990171,  0.        ]), array([0, 1, 0, 2, 2, 3, 3, 0, 2, 2, 3, 1], dtype=object)]\n",
      "[29, array([-3.01980343, -1.50990171, -1.50990171,  0.        ]), array([0, 3, 2, 0, 3, 3, 0, 0, 0, 2, 2, 3], dtype=object)]\n",
      "[30, array([-3.01980343, -1.50990171, -1.50990171,  0.        ]), array([0, 3, 2, 2, 3, 3, 0, 0, 0, 0, 2, 3], dtype=object)]\n",
      "[31, array([-3.01980343, -1.50990171, -1.50990171,  0.        ]), array([0, 3, 0, 3, 2, 2, 3, 2, 0, 1, 1, 1], dtype=object)]\n",
      "[32, array([-3.01980343, -1.50990171, -1.50990171,  0.        ]), array([0, 3, 0, 0, 2, 2, 0, 2, 0, 1, 1, 1], dtype=object)]\n",
      "[27, array([-3.01980343, -1.50990171, -1.50990171,  0.        ]), array([0, 1, 0, 1, 0, 2, 3, 0, 2, 1, 1, 1], dtype=object)]\n",
      "[31, array([-3.01980343, -1.50990171, -1.50990171,  0.        ]), array([0, 1, 0, 2, 2, 1, 3, 0, 2, 1, 3, 1], dtype=object)]\n",
      "[31, array([-3.01980343, -1.50990171, -1.50990171,  0.        ]), array([0, 3, 2, 0, 3, 3, 0, 0, 0, 2, 2, 3], dtype=object)]\n",
      "[32, array([-3.01980343, -1.50990171, -1.50990171,  0.        ]), array([0, 1, 0, 2, 2, 1, 3, 0, 2, 1, 3, 1], dtype=object)][28, array([-3.01980343, -1.50990171, -1.50990171,  0.        ]), array([0, 1, 0, 1, 0, 0, 3, 0, 2, 0, 0, 0], dtype=object)]\n",
      "\n",
      "[32, array([-3.01980343, -1.50990171, -1.50990171,  0.        ]), array([0, 3, 2, 2, 3, 3, 0, 0, 0, 2, 2, 3], dtype=object)]\n",
      "[33, array([-3.01980343, -1.50990171, -1.50990171,  0.        ]), array([0, 3, 0, 0, 2, 2, 3, 2, 0, 1, 1, 1], dtype=object)]\n",
      "[34, array([-3.01980343, -1.50990171, -1.50990171,  0.        ]), array([0, 3, 0, 0, 2, 0, 3, 2, 0, 1, 1, 1], dtype=object)]\n",
      "[33, array([-3.01980343, -1.50990171, -1.50990171,  0.        ]), array([0, 1, 0, 3, 2, 3, 2, 0, 2, 2, 3, 1], dtype=object)]\n",
      "[29, array([-3.01980343, -1.50990171, -1.50990171,  0.        ]), array([3, 1, 0, 1, 0, 3, 2, 0, 2, 1, 1, 1], dtype=object)]\n",
      "[33, array([-3.01980343, -1.50990171, -1.50990171,  0.        ]), array([0, 3, 2, 0, 3, 3, 0, 0, 0, 2, 2, 3], dtype=object)]\n",
      "[34, array([-3.01980343, -1.50990171, -1.50990171,  0.        ]), array([0, 1, 0, 3, 2, 2, 3, 0, 2, 2, 3, 1], dtype=object)]\n",
      "[34, array([-3.01980343, -1.50990171, -1.50990171,  0.        ]), array([0, 3, 2, 3, 3, 3, 0, 0, 0, 2, 2, 3], dtype=object)]\n",
      "[35, array([-3.01980343, -1.50990171, -1.50990171,  0.        ]), array([0, 3, 0, 0, 2, 2, 3, 2, 0, 3, 1, 1], dtype=object)]\n",
      "[30, array([-3.01980343, -1.50990171, -1.50990171,  0.        ]), array([3, 1, 0, 1, 0, 3, 2, 0, 2, 1, 1, 1], dtype=object)]\n",
      "[36, array([-3.01980343, -1.50990171, -1.50990171,  0.        ]), array([0, 3, 0, 0, 2, 2, 1, 2, 0, 1, 1, 1], dtype=object)]\n",
      "[35, array([-3.01980343, -1.50990171, -1.50990171,  0.        ]), array([0, 1, 0, 3, 2, 0, 3, 0, 2, 2, 3, 1], dtype=object)]\n",
      "[35, array([-3.01980343, -1.50990171, -1.50990171,  0.        ]), array([0, 3, 2, 0, 3, 3, 0, 0, 0, 2, 2, 3], dtype=object)]\n",
      "[37, array([-3.01980343, -1.50990171, -1.50990171,  0.        ]), array([0, 3, 0, 0, 2, 2, 3, 2, 0, 1, 1, 1], dtype=object)]\n",
      "[36, array([-3.01980343, -1.50990171, -1.50990171,  0.        ]), array([0, 1, 0, 3, 2, 0, 2, 0, 2, 2, 3, 1], dtype=object)][31, array([-3.01980343, -1.50990171, -1.50990171,  0.        ]), array([3, 1, 0, 1, 0, 2, 0, 0, 2, 1, 1, 1], dtype=object)]\n",
      "\n",
      "[36, array([-3.01980343, -1.50990171, -1.50990171,  0.        ]), array([0, 3, 2, 0, 3, 3, 1, 0, 0, 2, 2, 3], dtype=object)]\n",
      "[38, array([-3.01980343, -1.50990171, -1.50990171,  0.        ]), array([0, 3, 0, 1, 2, 2, 3, 2, 0, 1, 1, 1], dtype=object)]\n",
      "[32, array([-3.01980343, -1.50990171, -1.50990171,  0.        ]), array([3, 1, 0, 1, 0, 2, 0, 0, 2, 1, 1, 1], dtype=object)]\n",
      "[37, array([-3.01980343, -1.50990171, -1.50990171,  0.        ]), array([2, 1, 0, 3, 2, 3, 0, 0, 2, 2, 3, 1], dtype=object)]\n",
      "[37, array([-3.01980343, -1.50990171, -1.50990171,  0.        ]), array([0, 3, 2, 0, 3, 3, 0, 0, 0, 2, 2, 3], dtype=object)]\n",
      "[38, array([-3.01980343, -1.50990171, -1.50990171,  0.        ]), array([0, 3, 2, 1, 3, 3, 0, 0, 0, 2, 2, 3], dtype=object)]\n",
      "[39, array([-3.01980343, -1.50990171, -1.50990171,  0.        ]), array([0, 3, 0, 3, 2, 2, 3, 2, 0, 1, 1, 1], dtype=object)]\n",
      "[38, array([-3.01980343, -1.50990171, -1.50990171,  0.        ]), array([0, 1, 0, 3, 2, 3, 0, 0, 2, 2, 3, 1], dtype=object)]\n",
      "[40, array([-3.01980343, -1.50990171, -1.50990171,  0.        ]), array([0, 3, 0, 2, 2, 2, 3, 2, 0, 1, 1, 1], dtype=object)]\n",
      "[33, array([-3.01980343, -1.50990171, -1.50990171,  0.        ]), array([0, 1, 0, 1, 0, 3, 0, 0, 2, 1, 1, 1], dtype=object)]\n",
      "[34, array([-3.01980343, -1.50990171, -1.50990171,  0.        ]), array([0, 1, 0, 2, 0, 3, 3, 0, 2, 0, 1, 1], dtype=object)]\n",
      "[39, array([-3.01980343, -1.50990171, -1.50990171,  0.        ]), array([0, 3, 2, 0, 3, 3, 0, 0, 0, 2, 2, 3], dtype=object)]\n",
      "[39, array([-3.01980343, -1.50990171, -1.50990171,  0.        ]), array([0, 1, 0, 3, 2, 0, 3, 0, 2, 2, 3, 1], dtype=object)]\n",
      "[40, array([-3.01980343, -1.50990171, -1.50990171,  0.        ]), array([0, 3, 2, 2, 3, 3, 0, 0, 0, 2, 2, 3], dtype=object)]\n",
      "[40, array([-3.01980343, -1.50990171, -1.50990171,  0.        ]), array([2, 1, 0, 3, 2, 0, 0, 0, 2, 1, 3, 1], dtype=object)]\n",
      "[35, array([-3.01980343, -1.50990171, -1.50990171,  0.        ]), array([3, 1, 0, 1, 0, 2, 3, 0, 2, 0, 0, 0], dtype=object)]\n",
      "[36, array([-3.01980343, -1.50990171, -1.50990171,  0.        ]), array([0, 1, 0, 2, 0, 2, 3, 0, 2, 0, 0, 0], dtype=object)]\n",
      "[37, array([-3.01980343, -1.50990171, -1.50990171,  0.        ]), array([3, 1, 0, 1, 0, 2, 3, 0, 2, 0, 0, 0], dtype=object)]\n",
      "[38, array([-3.01980343, -1.50990171, -1.50990171,  0.        ]), array([0, 1, 0, 1, 0, 2, 3, 0, 2, 0, 0, 0], dtype=object)]\n",
      "[39, array([-3.01980343, -1.50990171, -1.50990171,  0.        ]), array([3, 1, 0, 1, 0, 2, 3, 0, 2, 0, 0, 0], dtype=object)]\n",
      "[40, array([-3.01980343, -1.50990171, -1.50990171,  0.        ]), array([0, 1, 0, 1, 0, 0, 3, 0, 2, 1, 1, 1], dtype=object)]\n"
     ]
    }
   ],
   "source": [
    "# we can perform CAFQA by using the main optimization function \"claptonize\"\n",
    "ks_best, _, energy_best = claptonize(\n",
    "    paulis,\n",
    "    coeffs,\n",
    "    vqe_pcirc,\n",
    "    n_proc=4,           # total number of processes in parallel\n",
    "    n_starts=4,         # number of random genetic algorithm starts in parallel\n",
    "    n_rounds=1,         # number of budget rounds, if None it will terminate itself\n",
    "    callback=print,     # callback for internal parameter (#iteration, energies, ks) processing\n",
    "    budget=20           # budget per genetic algorithm instance\n",
    ")"
   ]
  },
  {
   "cell_type": "code",
   "execution_count": 11,
   "metadata": {},
   "outputs": [
    {
     "data": {
      "text/plain": [
       "[3, 1, 0, 2, 0, 2, 3, 0, 2, 1, 1, 1]"
      ]
     },
     "execution_count": 11,
     "metadata": {},
     "output_type": "execute_result"
    }
   ],
   "source": [
    "# the best parameters are\n",
    "ks_best"
   ]
  },
  {
   "cell_type": "code",
   "execution_count": 12,
   "metadata": {},
   "outputs": [
    {
     "data": {
      "text/plain": [
       "-1.5099017144806939"
      ]
     },
     "execution_count": 12,
     "metadata": {},
     "output_type": "execute_result"
    }
   ],
   "source": [
    "# with energy\n",
    "energy_best"
   ]
  },
  {
   "cell_type": "code",
   "execution_count": 13,
   "metadata": {},
   "outputs": [
    {
     "data": {
      "text/html": [
       "<pre>q0: -SQRT_Y_DAG-Z-X-@-SQRT_Y_DAG-S---\n",
       "                  | |\n",
       "q1: -SQRT_Y-----I-|-X-@----------I-S-\n",
       "                  |   |\n",
       "q2: -I----------Z-@---X----------Y-S-</pre>"
      ],
      "text/plain": [
       "q0: -SQRT_Y_DAG-Z-X-@-SQRT_Y_DAG-S---\n",
       "                  | |\n",
       "q1: -SQRT_Y-----I-|-X-@----------I-S-\n",
       "                  |   |\n",
       "q2: -I----------Z-@---X----------Y-S-"
      ]
     },
     "execution_count": 13,
     "metadata": {},
     "output_type": "execute_result"
    }
   ],
   "source": [
    "# the corresponding circuit is\n",
    "vqe_pcirc.assign(ks_best)\n",
    "vqe_pcirc.stim_circuit().diagram()"
   ]
  },
  {
   "cell_type": "markdown",
   "metadata": {},
   "source": [
    "# noisy CAFQA (nCAFQA)"
   ]
  },
  {
   "cell_type": "code",
   "execution_count": 14,
   "metadata": {},
   "outputs": [],
   "source": [
    "from clapton.depolarization import GateGeneralDepolarizationModel #TODO: check this out "
   ]
  },
  {
   "cell_type": "code",
   "execution_count": 15,
   "metadata": {},
   "outputs": [],
   "source": [
    "# let's add a noise model where we specify global 1q and 2q gate errors\n",
    "nm = GateGeneralDepolarizationModel(p1=0.005, p2=0.02)"
   ]
  },
  {
   "cell_type": "code",
   "execution_count": 17,
   "metadata": {},
   "outputs": [
    {
     "data": {
      "text/html": [
       "<pre>q0: -I-DEPOLARIZE1(0.005)--------------------I------------------DEPOLARIZE1(0.005)---------------------------------------X-DEPOLARIZE2(0.02)-@-DEPOLARIZE2(0.02)---I-----------------DEPOLARIZE1(0.005)--------------------I------------------DEPOLARIZE1(0.005)---------------------------------------\n",
       "                                                                                                                         | |                 | |\n",
       "q1: ---I------------------DEPOLARIZE1(0.005)--------------------I------------------DEPOLARIZE1(0.005)--------------------|-|-----------------X-DEPOLARIZE2(0.02)-@-DEPOLARIZE2(0.02)-I------------------DEPOLARIZE1(0.005)--------------------I------------------DEPOLARIZE1(0.005)--------------------\n",
       "                                                                                                                         | |                                     | |\n",
       "q2: ----------------------I------------------DEPOLARIZE1(0.005)--------------------I------------------DEPOLARIZE1(0.005)-@-DEPOLARIZE2(0.02)---------------------X-DEPOLARIZE2(0.02)--------------------I------------------DEPOLARIZE1(0.005)--------------------I------------------DEPOLARIZE1(0.005)-</pre>"
      ],
      "text/plain": [
       "q0: -I-DEPOLARIZE1(0.005)--------------------I------------------DEPOLARIZE1(0.005)---------------------------------------X-DEPOLARIZE2(0.02)-@-DEPOLARIZE2(0.02)---I-----------------DEPOLARIZE1(0.005)--------------------I------------------DEPOLARIZE1(0.005)---------------------------------------\n",
       "                                                                                                                         | |                 | |\n",
       "q1: ---I------------------DEPOLARIZE1(0.005)--------------------I------------------DEPOLARIZE1(0.005)--------------------|-|-----------------X-DEPOLARIZE2(0.02)-@-DEPOLARIZE2(0.02)-I------------------DEPOLARIZE1(0.005)--------------------I------------------DEPOLARIZE1(0.005)--------------------\n",
       "                                                                                                                         | |                                     | |\n",
       "q2: ----------------------I------------------DEPOLARIZE1(0.005)--------------------I------------------DEPOLARIZE1(0.005)-@-DEPOLARIZE2(0.02)---------------------X-DEPOLARIZE2(0.02)--------------------I------------------DEPOLARIZE1(0.005)--------------------I------------------DEPOLARIZE1(0.005)-"
      ]
     },
     "execution_count": 17,
     "metadata": {},
     "output_type": "execute_result"
    }
   ],
   "source": [
    "# after every gate a depol channel is added\n",
    "vqe_pcirc.stim_circuit().diagram()"
   ]
  },
  {
   "cell_type": "code",
   "execution_count": 18,
   "metadata": {},
   "outputs": [
    {
     "name": "stdout",
     "output_type": "stream",
     "text": [
      "STARTING ROUND 0\n",
      "\n",
      "\n",
      "started GA at id 1 with 1 procs\n",
      "\n",
      "started GA at id None with 1 procs\n",
      "\n",
      "started GA at id 2 with 1 procs\n",
      "\n",
      "started GA at id 3 with 1 procs\n",
      "\n",
      "[0, array([-2.88789589, -1.37799417, -1.50990171,  0.        ]), array([3, 3, 0, 1, 2, 3, 3, 1, 3, 2, 3, 3], dtype=object)]\n",
      "\n",
      "[0, array([-2.88852676, -1.37862505, -1.50990171,  0.        ]), array([0, 1, 0, 2, 0, 1, 2, 0, 2, 0, 1, 1], dtype=object)]\n",
      "[0, array([-2.88138984, -1.37148813, -1.50990171,  0.        ]), array([2, 1, 0, 3, 0, 2, 3, 3, 1, 1, 0, 0], dtype=object)][0, array([-2.86230031, -1.3523986 , -1.50990171,  0.        ]), array([2, 3, 0, 0, 0, 2, 0, 1, 1, 0, 1, 3], dtype=object)]\n",
      "[1, array([-2.88704177, -1.37714006, -1.50990171,  0.        ]), array([3, 3, 0, 1, 2, 3, 3, 1, 3, 2, 1, 1], dtype=object)]\n",
      "[1, array([-2.88378535, -1.37388364, -1.50990171,  0.        ]), array([2, 1, 2, 0, 2, 1, 1, 3, 3, 0, 0, 0], dtype=object)]\n",
      "[1, array([-2.90316765, -1.39326594, -1.50990171,  0.        ]), array([0, 1, 0, 2, 0, 1, 2, 0, 2, 0, 1, 1], dtype=object)]\n",
      "[1, array([-2.58672548, -1.2454036 , -1.34132188,  0.        ]), array([2, 2, 0, 1, 1, 0, 0, 0, 2, 3, 2, 2], dtype=object)]\n",
      "[2, array([-2.89889928, -1.38899756, -1.50990171,  0.        ]), array([3, 3, 0, 1, 2, 3, 3, 1, 3, 2, 1, 1], dtype=object)]\n",
      "[2, array([-2.8816278 , -1.37172609, -1.50990171,  0.        ]), array([2, 1, 2, 0, 2, 1, 1, 3, 3, 0, 0, 0], dtype=object)]\n",
      "[2, array([-2.89789976, -1.38799804, -1.50990171,  0.        ]), array([3, 1, 0, 2, 0, 1, 2, 0, 2, 0, 1, 1], dtype=object)]\n",
      "[2, array([-2.58382264, -1.24250076, -1.34132188,  0.        ]), array([2, 2, 0, 2, 0, 1, 2, 2, 0, 3, 3, 3], dtype=object)]\n",
      "[3, array([-2.88422495, -1.37432323, -1.50990171,  0.        ]), array([1, 1, 0, 0, 2, 3, 1, 0, 2, 2, 1, 3], dtype=object)]\n",
      "[3, array([-2.88958341, -1.3796817 , -1.50990171,  0.        ]), array([2, 1, 2, 0, 2, 1, 1, 3, 3, 3, 0, 0], dtype=object)]\n",
      "[3, array([-2.5908497 , -1.24952782, -1.34132188,  0.        ]), array([1, 2, 0, 1, 0, 0, 0, 0, 2, 3, 2, 2], dtype=object)]\n",
      "[3, array([-2.896245  , -1.38634329, -1.50990171,  0.        ]), array([3, 1, 0, 2, 0, 1, 2, 0, 2, 3, 1, 1], dtype=object)]\n",
      "[4, array([-2.89980097, -1.38989925, -1.50990171,  0.        ]), array([1, 1, 0, 0, 2, 3, 1, 0, 2, 2, 1, 3], dtype=object)]\n",
      "[4, array([-2.88947012, -1.3795684 , -1.50990171,  0.        ]), array([3, 1, 0, 3, 0, 2, 3, 3, 1, 1, 3, 3], dtype=object)]\n",
      "[4, array([-2.89296178, -1.38306007, -1.50990171,  0.        ]), array([3, 1, 0, 2, 0, 1, 2, 0, 2, 3, 1, 1], dtype=object)]\n",
      "[4, array([-2.87926871, -1.369367  , -1.50990171,  0.        ]), array([3, 1, 2, 3, 2, 3, 2, 2, 2, 2, 0, 0], dtype=object)]\n",
      "[5, array([-2.89453721, -1.3846355 , -1.50990171,  0.        ]), array([3, 3, 0, 1, 2, 3, 3, 1, 3, 2, 3, 3], dtype=object)]\n",
      "[5, array([-2.89210651, -1.3822048 , -1.50990171,  0.        ]), array([2, 1, 2, 2, 0, 0, 3, 2, 2, 1, 0, 2], dtype=object)]\n",
      "[5, array([-2.90140822, -1.3915065 , -1.50990171,  0.        ]), array([1, 1, 0, 2, 0, 1, 2, 0, 2, 0, 1, 1], dtype=object)]\n",
      "[5, array([-2.8766837 , -1.36678198, -1.50990171,  0.        ]), array([1, 1, 2, 3, 2, 3, 2, 2, 2, 2, 0, 0], dtype=object)]\n",
      "[6, array([-2.8883358 , -1.37843408, -1.50990171,  0.        ]), array([2, 1, 0, 2, 0, 0, 2, 2, 0, 2, 1, 1], dtype=object)]\n",
      "[6, array([-2.88845986, -1.37855815, -1.50990171,  0.        ]), array([2, 3, 0, 2, 2, 3, 3, 1, 3, 2, 3, 3], dtype=object)]\n",
      "[6, array([-2.89237518, -1.38247346, -1.50990171,  0.        ]), array([1, 1, 0, 3, 0, 2, 3, 3, 1, 1, 3, 3], dtype=object)]\n",
      "[6, array([-2.86501055, -1.35510884, -1.50990171,  0.        ]), array([1, 1, 2, 3, 2, 3, 2, 2, 2, 2, 0, 0], dtype=object)]\n",
      "[7, array([-2.89789416, -1.38799244, -1.50990171,  0.        ]), array([3, 3, 0, 0, 2, 3, 3, 1, 3, 2, 3, 3], dtype=object)]\n",
      "[7, array([-2.89371153, -1.38380982, -1.50990171,  0.        ]), array([2, 1, 0, 3, 0, 2, 3, 3, 1, 1, 3, 3], dtype=object)]\n",
      "[7, array([-2.8954302 , -1.38552849, -1.50990171,  0.        ]), array([1, 1, 0, 2, 0, 1, 2, 0, 2, 0, 1, 1], dtype=object)]\n",
      "[7, array([-2.89747345, -1.38757174, -1.50990171,  0.        ]), array([1, 1, 2, 3, 2, 3, 2, 2, 2, 2, 1, 1], dtype=object)]\n",
      "[8, array([-2.8888476 , -1.37894588, -1.50990171,  0.        ]), array([0, 1, 0, 0, 0, 1, 2, 0, 2, 0, 1, 1], dtype=object)]\n",
      "[8, array([-2.89526736, -1.38536564, -1.50990171,  0.        ]), array([2, 3, 0, 1, 2, 3, 3, 1, 3, 0, 3, 3], dtype=object)]\n",
      "[8, array([-2.89962091, -1.3897192 , -1.50990171,  0.        ]), array([2, 1, 0, 3, 0, 2, 3, 3, 1, 1, 3, 3], dtype=object)]\n",
      "[8, array([-2.88295267, -1.37305096, -1.50990171,  0.        ]), array([1, 1, 2, 3, 2, 3, 2, 2, 2, 2, 1, 1], dtype=object)]\n",
      "[9, array([-2.90150499, -1.39160327, -1.50990171,  0.        ]), array([1, 1, 0, 2, 0, 1, 2, 0, 2, 0, 1, 1], dtype=object)]\n",
      "\n",
      "[9, array([-2.90733717, -1.39743545, -1.50990171,  0.        ]), array([3, 1, 0, 3, 0, 2, 3, 3, 1, 1, 3, 3], dtype=object)][9, array([-2.89724319, -1.38734147, -1.50990171,  0.        ]), array([3, 3, 0, 1, 2, 3, 3, 1, 3, 2, 3, 3], dtype=object)]\n",
      "[9, array([-2.88150029, -1.37159857, -1.50990171,  0.        ]), array([3, 1, 2, 3, 2, 3, 2, 2, 2, 2, 2, 2], dtype=object)]\n",
      "[10, array([-2.89150648, -1.38160477, -1.50990171,  0.        ]), array([1, 1, 0, 2, 0, 1, 3, 0, 2, 2, 1, 1], dtype=object)]\n",
      "[10, array([-2.88909615, -1.37919443, -1.50990171,  0.        ]), array([3, 1, 0, 0, 2, 3, 1, 0, 2, 2, 1, 3], dtype=object)]\n",
      "[10, array([-2.90357319, -1.39367147, -1.50990171,  0.        ]), array([2, 1, 0, 3, 0, 2, 2, 3, 1, 1, 3, 3], dtype=object)]\n",
      "[10, array([-2.87678127, -1.36687956, -1.50990171,  0.        ]), array([3, 1, 2, 3, 2, 3, 2, 2, 2, 3, 2, 2], dtype=object)]\n",
      "[11, array([-2.9021295 , -1.39222778, -1.50990171,  0.        ]), array([1, 1, 0, 2, 0, 1, 2, 0, 2, 0, 1, 1], dtype=object)]\n",
      "[12, array([-2.89823047, -1.38832875, -1.50990171,  0.        ]), array([1, 1, 0, 2, 0, 1, 2, 0, 2, 3, 1, 1], dtype=object)]\n",
      "[11, array([-2.90308405, -1.39318234, -1.50990171,  0.        ]), array([3, 3, 0, 1, 2, 3, 3, 1, 3, 2, 1, 1], dtype=object)]\n",
      "[11, array([-2.9024259 , -1.39252418, -1.50990171,  0.        ]), array([1, 1, 0, 3, 0, 2, 3, 3, 1, 1, 3, 3], dtype=object)]\n",
      "[11, array([-2.88708391, -1.3771822 , -1.50990171,  0.        ]), array([3, 1, 2, 3, 2, 3, 2, 2, 2, 2, 0, 0], dtype=object)]\n",
      "[12, array([-2.90352765, -1.39362594, -1.50990171,  0.        ]), array([3, 1, 0, 3, 0, 2, 3, 3, 1, 0, 3, 3], dtype=object)]\n",
      "\n",
      "[12, array([-2.88470338, -1.37480167, -1.50990171,  0.        ]), array([2, 3, 0, 2, 2, 3, 3, 1, 3, 1, 1, 1], dtype=object)][12, array([-2.8699137 , -1.36001199, -1.50990171,  0.        ]), array([3, 1, 2, 3, 2, 3, 2, 2, 2, 3, 3, 3], dtype=object)]\n",
      "[13, array([-2.90332975, -1.39342803, -1.50990171,  0.        ]), array([1, 1, 0, 2, 0, 1, 2, 0, 2, 0, 1, 1], dtype=object)]\n",
      "[13, array([-2.89768565, -1.38778394, -1.50990171,  0.        ]), array([2, 1, 0, 3, 0, 2, 3, 3, 1, 1, 3, 3], dtype=object)]\n",
      "[13, array([-2.90368148, -1.39377977, -1.50990171,  0.        ]), array([2, 3, 0, 1, 2, 3, 3, 1, 3, 2, 3, 3], dtype=object)]\n",
      "[14, array([-2.89190285, -1.38200114, -1.50990171,  0.        ]), array([2, 1, 0, 2, 0, 1, 3, 0, 2, 0, 1, 1], dtype=object)]\n",
      "[14, array([-2.89175174, -1.38185003, -1.50990171,  0.        ]), array([2, 1, 0, 3, 0, 2, 3, 3, 1, 3, 3, 3], dtype=object)]\n",
      "[13, array([-2.89529835, -1.38539664, -1.50990171,  0.        ]), array([3, 1, 2, 3, 2, 3, 2, 2, 2, 3, 3, 3], dtype=object)]\n",
      "[14, array([-2.89771292, -1.38781121, -1.50990171,  0.        ]), array([3, 3, 2, 1, 2, 3, 3, 1, 3, 1, 1, 3], dtype=object)]\n",
      "[14, array([-2.88732004, -1.37741833, -1.50990171,  0.        ]), array([1, 1, 2, 3, 2, 3, 2, 2, 2, 2, 2, 2], dtype=object)]\n",
      "[15, array([-2.90323502, -1.3933333 , -1.50990171,  0.        ]), array([1, 1, 0, 2, 0, 1, 2, 0, 2, 0, 1, 1], dtype=object)]\n",
      "[15, array([-2.90557791, -1.39567619, -1.50990171,  0.        ]), array([2, 1, 0, 3, 0, 2, 3, 3, 1, 1, 3, 3], dtype=object)]\n",
      "[16, array([-2.89472861, -1.38482689, -1.50990171,  0.        ]), array([2, 1, 0, 2, 0, 1, 2, 0, 2, 0, 1, 1], dtype=object)]\n",
      "[16, array([-2.89987578, -1.38997407, -1.50990171,  0.        ]), array([1, 1, 0, 3, 0, 2, 2, 3, 1, 1, 3, 3], dtype=object)]\n",
      "[15, array([-2.9018006 , -1.39189889, -1.50990171,  0.        ]), array([0, 3, 0, 1, 2, 3, 3, 1, 3, 2, 1, 1], dtype=object)]\n",
      "[15, array([-2.89998411, -1.39008239, -1.50990171,  0.        ]), array([3, 1, 2, 3, 2, 3, 2, 2, 2, 3, 3, 3], dtype=object)]\n",
      "[16, array([-2.89590101, -1.3859993 , -1.50990171,  0.        ]), array([2, 3, 0, 1, 2, 3, 3, 1, 3, 2, 1, 1], dtype=object)]\n",
      "[16, array([-2.89854797, -1.38864626, -1.50990171,  0.        ]), array([3, 1, 2, 3, 2, 3, 2, 2, 2, 2, 1, 1], dtype=object)]\n",
      "[17, array([-2.9031652 , -1.39326348, -1.50990171,  0.        ]), array([2, 1, 0, 3, 0, 2, 3, 3, 1, 1, 3, 3], dtype=object)]\n",
      "[17, array([-2.90454575, -1.39464403, -1.50990171,  0.        ]), array([1, 1, 0, 2, 0, 1, 2, 0, 2, 0, 1, 1], dtype=object)]\n",
      "[18, array([-2.89733413, -1.38743241, -1.50990171,  0.        ]), array([3, 1, 0, 2, 0, 1, 2, 0, 2, 3, 1, 1], dtype=object)]\n",
      "[18, array([-2.88958618, -1.37968447, -1.50990171,  0.        ]), array([2, 1, 0, 3, 0, 2, 0, 3, 1, 1, 3, 3], dtype=object)]\n",
      "[17, array([-2.9039515 , -1.39404978, -1.50990171,  0.        ]), array([2, 3, 0, 2, 2, 3, 3, 1, 3, 2, 3, 3], dtype=object)]\n",
      "[17, array([-2.90206595, -1.39216424, -1.50990171,  0.        ]), array([3, 1, 2, 3, 2, 3, 2, 2, 2, 3, 3, 3], dtype=object)]\n",
      "[18, array([-2.89139257, -1.38149085, -1.50990171,  0.        ]), array([2, 3, 0, 1, 2, 3, 1, 1, 3, 2, 1, 1], dtype=object)]\n",
      "[18, array([-2.89224542, -1.3823437 , -1.50990171,  0.        ]), array([1, 1, 2, 3, 2, 3, 1, 2, 2, 2, 1, 1], dtype=object)]\n",
      "[19, array([-2.89976123, -1.38985952, -1.50990171,  0.        ]), array([1, 1, 0, 2, 0, 1, 2, 0, 2, 3, 1, 1], dtype=object)]\n",
      "[19, array([-2.90924068, -1.39933896, -1.50990171,  0.        ]), array([2, 1, 0, 3, 0, 2, 3, 3, 1, 1, 3, 3], dtype=object)]\n",
      "[19, array([-2.90158267, -1.39168095, -1.50990171,  0.        ]), array([3, 3, 0, 1, 2, 3, 3, 1, 3, 2, 1, 1], dtype=object)]\n",
      "[20, array([-2.89556629, -1.38566458, -1.50990171,  0.        ]), array([2, 1, 0, 3, 0, 3, 2, 3, 1, 1, 3, 3], dtype=object)]\n",
      "[20, array([-2.90447887, -1.39457715, -1.50990171,  0.        ]), array([0, 1, 0, 2, 0, 1, 2, 0, 2, 0, 1, 1], dtype=object)]\n",
      "[19, array([-2.90384001, -1.3939383 , -1.50990171,  0.        ]), array([1, 1, 2, 3, 2, 3, 2, 2, 2, 3, 1, 1], dtype=object)]\n",
      "[20, array([-2.89682705, -1.38692533, -1.50990171,  0.        ]), array([3, 3, 0, 1, 2, 1, 3, 1, 3, 2, 1, 1], dtype=object)]\n",
      "[20, array([-2.90236417, -1.39246246, -1.50990171,  0.        ]), array([1, 1, 2, 2, 2, 3, 1, 2, 2, 2, 1, 1], dtype=object)]\n",
      "[21, array([-2.90954428, -1.39964256, -1.50990171,  0.        ]), array([2, 1, 0, 3, 0, 2, 2, 3, 1, 1, 3, 3], dtype=object)]\n",
      "[21, array([-2.90139444, -1.39149273, -1.50990171,  0.        ]), array([0, 1, 0, 2, 0, 1, 2, 0, 2, 0, 1, 1], dtype=object)]\n",
      "[22, array([-2.89458864, -1.38468693, -1.50990171,  0.        ]), array([1, 1, 0, 0, 0, 1, 2, 0, 2, 3, 1, 1], dtype=object)]\n",
      "[21, array([-2.90019478, -1.39029307, -1.50990171,  0.        ]), array([1, 1, 0, 0, 2, 3, 1, 0, 2, 2, 1, 3], dtype=object)]\n",
      "[22, array([-2.88875309, -1.37885138, -1.50990171,  0.        ]), array([2, 1, 0, 2, 0, 2, 2, 3, 1, 1, 3, 3], dtype=object)]\n",
      "[21, array([-2.89929227, -1.38939056, -1.50990171,  0.        ]), array([3, 1, 2, 3, 2, 3, 1, 2, 2, 2, 1, 1], dtype=object)]\n",
      "[22, array([-2.90594533, -1.39604361, -1.50990171,  0.        ]), array([1, 3, 0, 1, 2, 3, 3, 1, 3, 2, 1, 1], dtype=object)]\n",
      "[22, array([-2.89665687, -1.38675515, -1.50990171,  0.        ]), array([3, 1, 2, 3, 2, 3, 0, 2, 2, 2, 1, 1], dtype=object)]\n",
      "[23, array([-2.904344  , -1.39444229, -1.50990171,  0.        ]), array([1, 1, 0, 2, 0, 1, 2, 0, 2, 3, 1, 1], dtype=object)]\n",
      "[23, array([-2.8965677 , -1.38666599, -1.50990171,  0.        ]), array([2, 1, 0, 3, 0, 2, 2, 3, 1, 1, 3, 3], dtype=object)]\n",
      "[23, array([-2.90178183, -1.39188012, -1.50990171,  0.        ]), array([1, 1, 0, 1, 2, 3, 1, 0, 2, 0, 1, 3], dtype=object)]\n",
      "[24, array([-2.89358842, -1.3836867 , -1.50990171,  0.        ]), array([2, 1, 0, 3, 0, 2, 1, 3, 1, 1, 3, 3], dtype=object)]\n",
      "[24, array([-2.89273186, -1.38283014, -1.50990171,  0.        ]), array([1, 1, 0, 3, 0, 1, 2, 3, 1, 3, 1, 1], dtype=object)]\n",
      "[23, array([-2.89842936, -1.38852765, -1.50990171,  0.        ]), array([3, 1, 2, 3, 2, 3, 2, 2, 2, 2, 1, 1], dtype=object)]\n",
      "[24, array([-2.89196475, -1.38206304, -1.50990171,  0.        ]), array([3, 3, 0, 1, 2, 3, 1, 1, 3, 2, 1, 1], dtype=object)]\n",
      "[24, array([-2.90085653, -1.39095481, -1.50990171,  0.        ]), array([1, 1, 2, 3, 2, 3, 2, 2, 2, 3, 3, 3], dtype=object)]\n",
      "[25, array([-2.90304503, -1.39314331, -1.50990171,  0.        ]), array([2, 1, 0, 3, 0, 2, 2, 3, 1, 1, 3, 3], dtype=object)]\n",
      "[25, array([-2.90000286, -1.39010115, -1.50990171,  0.        ]), array([1, 1, 0, 2, 0, 1, 2, 0, 2, 3, 1, 1], dtype=object)]\n",
      "[26, array([-2.89957328, -1.38967157, -1.50990171,  0.        ]), array([1, 1, 0, 2, 0, 1, 2, 0, 2, 0, 1, 1], dtype=object)]\n",
      "[25, array([-2.90594627, -1.39604455, -1.50990171,  0.        ]), array([3, 1, 0, 0, 2, 3, 1, 0, 2, 2, 1, 3], dtype=object)]\n",
      "[26, array([-2.89475222, -1.3848505 , -1.50990171,  0.        ]), array([1, 1, 0, 3, 0, 2, 3, 3, 1, 2, 3, 3], dtype=object)]\n",
      "[25, array([-2.90196892, -1.39206721, -1.50990171,  0.        ]), array([1, 1, 2, 3, 2, 3, 1, 2, 2, 2, 1, 1], dtype=object)]\n",
      "[26, array([-2.902154  , -1.39225229, -1.50990171,  0.        ]), array([2, 1, 2, 0, 2, 3, 1, 3, 3, 1, 1, 1], dtype=object)]\n",
      "[26, array([-2.90182785, -1.39192613, -1.50990171,  0.        ]), array([1, 1, 2, 3, 2, 3, 2, 2, 2, 2, 1, 1], dtype=object)]\n",
      "[27, array([-2.9076051 , -1.39770339, -1.50990171,  0.        ]), array([1, 1, 0, 2, 0, 1, 2, 0, 2, 3, 1, 1], dtype=object)]\n",
      "[27, array([-2.90582873, -1.39592701, -1.50990171,  0.        ]), array([2, 1, 0, 3, 0, 2, 2, 3, 1, 1, 3, 3], dtype=object)]\n",
      "[28, array([-2.89930251, -1.3894008 , -1.50990171,  0.        ]), array([0, 1, 0, 3, 0, 2, 2, 3, 1, 1, 3, 3], dtype=object)]\n",
      "[27, array([-2.90326387, -1.39336215, -1.50990171,  0.        ]), array([1, 1, 0, 0, 2, 3, 1, 0, 2, 2, 1, 3], dtype=object)]\n",
      "[27, array([-2.90241226, -1.39251054, -1.50990171,  0.        ]), array([3, 1, 2, 3, 2, 3, 2, 2, 2, 3, 3, 3], dtype=object)]\n",
      "[28, array([-2.90107732, -1.39117561, -1.50990171,  0.        ]), array([0, 1, 0, 2, 0, 1, 2, 0, 2, 3, 1, 1], dtype=object)]\n",
      "\n",
      "[28, array([-2.89765192, -1.38775021, -1.50990171,  0.        ]), array([2, 1, 0, 0, 2, 3, 1, 0, 2, 2, 1, 3], dtype=object)][28, array([-2.89501517, -1.38511345, -1.50990171,  0.        ]), array([1, 1, 2, 3, 2, 3, 2, 2, 2, 2, 3, 3], dtype=object)]\n",
      "[29, array([-2.90201208, -1.39211037, -1.50990171,  0.        ]), array([2, 1, 0, 3, 0, 2, 2, 3, 1, 1, 3, 3], dtype=object)]\n",
      "[29, array([-2.90019516, -1.39029344, -1.50990171,  0.        ]), array([1, 1, 0, 2, 0, 1, 2, 0, 2, 0, 1, 1], dtype=object)]\n",
      "[29, array([-2.90333137, -1.39342966, -1.50990171,  0.        ]), array([1, 1, 0, 0, 2, 3, 1, 0, 2, 2, 1, 3], dtype=object)]\n",
      "[29, array([-2.90264078, -1.39273906, -1.50990171,  0.        ]), array([3, 1, 2, 3, 2, 3, 2, 2, 2, 3, 3, 3], dtype=object)]\n",
      "[30, array([-2.88721014, -1.37730842, -1.50990171,  0.        ]), array([1, 1, 0, 0, 2, 3, 1, 0, 2, 1, 1, 3], dtype=object)]\n",
      "[30, array([-2.88752991, -1.37762819, -1.50990171,  0.        ]), array([1, 1, 0, 2, 0, 1, 3, 0, 2, 0, 1, 1], dtype=object)]\n",
      "[30, array([-2.89239723, -1.38249551, -1.50990171,  0.        ]), array([2, 1, 0, 3, 0, 2, 0, 3, 1, 3, 3, 3], dtype=object)]\n",
      "[30, array([-2.89445204, -1.38455033, -1.50990171,  0.        ]), array([1, 1, 2, 3, 2, 3, 2, 2, 2, 3, 3, 3], dtype=object)]\n",
      "[31, array([-2.90489872, -1.39499701, -1.50990171,  0.        ]), array([1, 1, 0, 0, 2, 3, 1, 0, 2, 2, 1, 3], dtype=object)]\n",
      "[31, array([-2.9139411 , -1.40403938, -1.50990171,  0.        ]), array([2, 1, 0, 3, 0, 2, 1, 3, 1, 1, 3, 3], dtype=object)]\n",
      "[31, array([-2.90384199, -1.39394027, -1.50990171,  0.        ]), array([1, 1, 0, 2, 0, 1, 2, 0, 2, 0, 1, 1], dtype=object)]\n",
      "[31, array([-2.89968578, -1.38978406, -1.50990171,  0.        ]), array([3, 1, 2, 3, 2, 3, 2, 2, 2, 3, 3, 3], dtype=object)]\n",
      "[32, array([-2.89276825, -1.38286653, -1.50990171,  0.        ]), array([2, 1, 0, 2, 0, 2, 2, 3, 1, 1, 3, 3], dtype=object)]\n",
      "[32, array([-2.90805448, -1.39815277, -1.50990171,  0.        ]), array([2, 1, 2, 3, 2, 1, 2, 2, 2, 2, 3, 3], dtype=object)]\n",
      "[32, array([-2.8783479 , -1.36844618, -1.50990171,  0.        ]), array([2, 1, 2, 0, 2, 3, 1, 3, 3, 2, 1, 1], dtype=object)]\n",
      "[32, array([-2.89385957, -1.38395785, -1.50990171,  0.        ]), array([2, 1, 0, 2, 0, 1, 2, 0, 2, 0, 1, 1], dtype=object)]\n",
      "[33, array([-2.90560664, -1.39570493, -1.50990171,  0.        ]), array([2, 1, 0, 3, 0, 2, 2, 3, 1, 1, 3, 3], dtype=object)]\n",
      "[33, array([-2.89807148, -1.38816977, -1.50990171,  0.        ]), array([1, 1, 2, 3, 2, 3, 2, 2, 2, 3, 3, 3], dtype=object)]\n",
      "[33, array([-2.89876724, -1.38886552, -1.50990171,  0.        ]), array([1, 1, 0, 0, 2, 3, 1, 0, 2, 2, 1, 3], dtype=object)]\n",
      "[33, array([-2.9074939 , -1.39759218, -1.50990171,  0.        ]), array([0, 1, 0, 2, 0, 1, 2, 0, 2, 0, 1, 1], dtype=object)]\n",
      "[34, array([-2.89855642, -1.3886547 , -1.50990171,  0.        ]), array([0, 1, 0, 2, 0, 3, 3, 0, 2, 0, 3, 3], dtype=object)]\n",
      "[34, array([-2.89936656, -1.38946485, -1.50990171,  0.        ]), array([3, 1, 2, 2, 2, 3, 1, 2, 2, 2, 1, 1], dtype=object)]\n",
      "[34, array([-2.88463808, -1.37473637, -1.50990171,  0.        ]), array([2, 1, 0, 2, 0, 2, 3, 3, 1, 3, 3, 3], dtype=object)]\n",
      "[34, array([-2.8932128 , -1.38331108, -1.50990171,  0.        ]), array([1, 3, 0, 1, 2, 3, 2, 1, 3, 2, 3, 3], dtype=object)]\n",
      "[35, array([-2.90562223, -1.39572052, -1.50990171,  0.        ]), array([0, 1, 0, 2, 0, 1, 2, 0, 2, 3, 1, 1], dtype=object)]\n",
      "[35, array([-2.90155752, -1.3916558 , -1.50990171,  0.        ]), array([2, 1, 0, 3, 0, 2, 2, 3, 1, 1, 3, 3], dtype=object)][35, array([-2.90880674, -1.39890503, -1.50990171,  0.        ]), array([1, 3, 0, 1, 2, 3, 3, 1, 3, 2, 1, 1], dtype=object)]\n",
      "\n",
      "[35, array([-2.90289465, -1.39299293, -1.50990171,  0.        ]), array([3, 1, 2, 3, 2, 3, 2, 2, 2, 2, 1, 1], dtype=object)]\n",
      "[36, array([-2.89096872, -1.38106701, -1.50990171,  0.        ]), array([2, 1, 0, 3, 0, 2, 2, 3, 1, 0, 3, 3], dtype=object)]\n",
      "[36, array([-2.89941955, -1.38951783, -1.50990171,  0.        ]), array([3, 1, 2, 3, 2, 2, 2, 2, 2, 2, 1, 1], dtype=object)]\n",
      "[36, array([-2.90190222, -1.39200051, -1.50990171,  0.        ]), array([0, 1, 0, 2, 0, 2, 2, 0, 2, 3, 1, 1], dtype=object)]\n",
      "[36, array([-2.89742232, -1.38752061, -1.50990171,  0.        ]), array([3, 3, 0, 1, 2, 3, 3, 1, 3, 2, 1, 1], dtype=object)]\n",
      "[37, array([-2.90771775, -1.39781604, -1.50990171,  0.        ]), array([2, 1, 0, 3, 0, 2, 2, 3, 1, 1, 3, 3], dtype=object)]\n",
      "[37, array([-2.90289242, -1.39299071, -1.50990171,  0.        ]), array([0, 1, 0, 2, 0, 1, 2, 0, 2, 0, 1, 1], dtype=object)]\n",
      "[37, array([-2.90415306, -1.39425135, -1.50990171,  0.        ]), array([3, 1, 2, 3, 2, 3, 2, 2, 2, 3, 3, 3], dtype=object)]\n",
      "[37, array([-2.90492939, -1.39502768, -1.50990171,  0.        ]), array([1, 3, 0, 1, 2, 3, 3, 1, 3, 2, 1, 1], dtype=object)]\n",
      "[38, array([-2.88572758, -1.37582586, -1.50990171,  0.        ]), array([0, 1, 0, 2, 0, 1, 2, 0, 2, 2, 1, 1], dtype=object)]\n",
      "[38, array([-2.89390171, -1.384     , -1.50990171,  0.        ]), array([1, 3, 2, 1, 2, 3, 3, 1, 3, 2, 1, 3], dtype=object)]\n",
      "[38, array([-2.89512441, -1.3852227 , -1.50990171,  0.        ]), array([2, 1, 0, 3, 0, 2, 0, 3, 1, 3, 3, 3], dtype=object)]\n",
      "[38, array([-2.90458583, -1.39468412, -1.50990171,  0.        ]), array([3, 1, 2, 3, 2, 1, 2, 2, 2, 2, 1, 1], dtype=object)]\n",
      "[39, array([-2.90208998, -1.39218826, -1.50990171,  0.        ]), array([0, 1, 0, 2, 0, 1, 2, 0, 2, 0, 1, 1], dtype=object)]\n",
      "[39, array([-2.90855856, -1.39865685, -1.50990171,  0.        ]), array([2, 1, 0, 3, 0, 2, 2, 3, 1, 1, 3, 3], dtype=object)][39, array([-2.89968219, -1.38978048, -1.50990171,  0.        ]), array([1, 3, 0, 1, 2, 3, 3, 1, 3, 2, 1, 1], dtype=object)]\n",
      "\n",
      "[40, array([-2.89529071, -1.385389  , -1.50990171,  0.        ]), array([0, 1, 0, 2, 0, 1, 3, 0, 2, 0, 1, 1], dtype=object)]\n",
      "[40, array([-2.89587708, -1.38597537, -1.50990171,  0.        ]), array([2, 3, 0, 1, 2, 3, 3, 1, 3, 2, 1, 1], dtype=object)]\n",
      "[40, array([-2.90946211, -1.3995604 , -1.50990171,  0.        ]), array([2, 1, 0, 3, 0, 1, 2, 3, 1, 1, 3, 3], dtype=object)]\n",
      "[39, array([-2.89914865, -1.38924693, -1.50990171,  0.        ]), array([2, 1, 2, 3, 2, 3, 1, 2, 2, 2, 1, 1], dtype=object)]\n",
      "[40, array([-2.90183038, -1.39192866, -1.50990171,  0.        ]), array([3, 1, 2, 3, 2, 1, 2, 2, 2, 2, 3, 3], dtype=object)]\n"
     ]
    }
   ],
   "source": [
    "# we can perform nCAFQA by using the main optimization function \"claptonize\"\n",
    "# now with the noisy circuit\n",
    "ks_best, energy_noisy, energy_noiseless = claptonize(\n",
    "    paulis,\n",
    "    coeffs,\n",
    "    vqe_pcirc,\n",
    "    n_proc=4,           # total number of processes in parallel\n",
    "    n_starts=4,         # number of random genetic algorithm starts in parallel\n",
    "    n_rounds=1,         # number of budget rounds, if None it will terminate itself\n",
    "    callback=print,     # callback for internal parameter (#iteration, energies, ks) processing\n",
    "    budget=20           # budget per genetic algorithm instance\n",
    ")"
   ]
  },
  {
   "cell_type": "code",
   "execution_count": 19,
   "metadata": {},
   "outputs": [
    {
     "data": {
      "text/plain": [
       "[2, 1, 0, 3, 0, 1, 2, 3, 1, 1, 3, 3]"
      ]
     },
     "execution_count": 19,
     "metadata": {},
     "output_type": "execute_result"
    }
   ],
   "source": [
    "# the best parameters are\n",
    "ks_best"
   ]
  },
  {
   "cell_type": "code",
   "execution_count": null,
   "metadata": {},
   "outputs": [
    {
     "data": {
      "text/plain": [
       "(-1.3676487091992684, -1.5099017144806939)"
      ]
     },
     "execution_count": 20,
     "metadata": {},
     "output_type": "execute_result"
    }
   ],
   "source": [
    "# with noisy/noiseless energy\n",
    "energy_noisy, energy_noiseless"
   ]
  },
  {
   "cell_type": "code",
   "execution_count": 21,
   "metadata": {},
   "outputs": [
    {
     "data": {
      "text/plain": [
       "0.14225300528142548"
      ]
     },
     "execution_count": 21,
     "metadata": {},
     "output_type": "execute_result"
    }
   ],
   "source": [
    "# differrence\n",
    "np.abs(energy_noisy-energy_noiseless)"
   ]
  },
  {
   "cell_type": "code",
   "execution_count": 22,
   "metadata": {},
   "outputs": [
    {
     "data": {
      "text/html": [
       "<pre>q0: -Y------S_DAG-X-@-Y-S----------------\n",
       "                  | |\n",
       "q1: -SQRT_Y-I-----|-X-@-SQRT_Y_DAG-S_DAG-\n",
       "                  |   |\n",
       "q2: -I------S-----@---X-SQRT_Y-----S_DAG-</pre>"
      ],
      "text/plain": [
       "q0: -Y------S_DAG-X-@-Y-S----------------\n",
       "                  | |\n",
       "q1: -SQRT_Y-I-----|-X-@-SQRT_Y_DAG-S_DAG-\n",
       "                  |   |\n",
       "q2: -I------S-----@---X-SQRT_Y-----S_DAG-"
      ]
     },
     "execution_count": 22,
     "metadata": {},
     "output_type": "execute_result"
    }
   ],
   "source": [
    "# the corresponding circuit is\n",
    "vqe_pcirc.assign(ks_best)\n",
    "vqe_pcirc.snapshot_noiseless().circ_snapshot_noiseless.diagram()"
   ]
  }
 ],
 "metadata": {
  "kernelspec": {
   "display_name": "clapton",
   "language": "python",
   "name": "python3"
  },
  "language_info": {
   "codemirror_mode": {
    "name": "ipython",
    "version": 3
   },
   "file_extension": ".py",
   "mimetype": "text/x-python",
   "name": "python",
   "nbconvert_exporter": "python",
   "pygments_lexer": "ipython3",
   "version": "3.10.15"
  }
 },
 "nbformat": 4,
 "nbformat_minor": 2
}
