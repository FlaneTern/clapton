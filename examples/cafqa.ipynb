{
 "cells": [
  {
   "cell_type": "markdown",
   "metadata": {},
   "source": [
    "# CAFQA"
   ]
  },
  {
   "cell_type": "code",
   "execution_count": 1,
   "metadata": {},
   "outputs": [
    {
     "name": "stderr",
     "output_type": "stream",
     "text": [
      "d:\\research-impl\\clapton\\clapton\\venv\\Lib\\site-packages\\tqdm\\auto.py:21: TqdmWarning: IProgress not found. Please update jupyter and ipywidgets. See https://ipywidgets.readthedocs.io/en/stable/user_install.html\n",
      "  from .autonotebook import tqdm as notebook_tqdm\n"
     ]
    }
   ],
   "source": [
    "import sys\n",
    "sys.path.append(\"../\")\n",
    "from clapton.clapton import claptonize\n",
    "from clapton.ansatzes import circular_ansatz\n",
    "import numpy as np"
   ]
  },
  {
   "cell_type": "code",
   "execution_count": null,
   "metadata": {},
   "outputs": [],
   "source": [
    "# define Hamiltonian, e.g. 3q Heisenberg model with random coefficients\n",
    "paulis = [\"XXI\", \"IXX\", \"YYI\", \"IYY\", \"ZZI\", \"IZZ\"]\n",
    "np.random.seed(42)  # You can replace 42 with any integer seed\n",
    "coeffs = np.random.random(len(paulis))\n",
    "# coeffs = np.ones((len(paulis)))\n",
    "print(coeffs)"
   ]
  },
  {
   "cell_type": "code",
   "execution_count": 3,
   "metadata": {},
   "outputs": [],
   "source": [
    "# define parametrized Clifford circuit that is being optimized over\n",
    "# here we use the circular_ansatz template\n",
    "# we fix 2q gates as they will not be optimized over\n",
    "vqe_pcirc = circular_ansatz(N=len(paulis[0]), reps=1, fix_2q=True)"
   ]
  },
  {
   "cell_type": "code",
   "execution_count": 4,
   "metadata": {},
   "outputs": [
    {
     "name": "stdout",
     "output_type": "stream",
     "text": [
      "RY False\n",
      "RY False\n",
      "RY False\n",
      "RZ False\n",
      "RZ False\n",
      "RZ False\n",
      "2Q True\n",
      "2Q True\n",
      "2Q True\n",
      "RY False\n",
      "RY False\n",
      "RY False\n",
      "RZ False\n",
      "RZ False\n",
      "RZ False\n"
     ]
    }
   ],
   "source": [
    "# the circuit consists of parametrized gates\n",
    "for gate in vqe_pcirc.gates:\n",
    "    print(gate.label, gate.is_fixed())"
   ]
  },
  {
   "cell_type": "code",
   "execution_count": 5,
   "metadata": {},
   "outputs": [],
   "source": [
    "# non-fixed gates will be optimized over\n",
    "# RY and RZ gates can assume 4 values k = 0,1,2,3 which descripe multiples of pi/2"
   ]
  },
  {
   "cell_type": "code",
   "execution_count": 6,
   "metadata": {},
   "outputs": [
    {
     "data": {
      "text/plain": [
       "[0, 0, 0, 0, 0, 0, 0, 0, 0, 0, 0, 0]"
      ]
     },
     "execution_count": 6,
     "metadata": {},
     "output_type": "execute_result"
    }
   ],
   "source": [
    "# the initial parameters are all 0\n",
    "vqe_pcirc.read()"
   ]
  },
  {
   "cell_type": "code",
   "execution_count": 7,
   "metadata": {},
   "outputs": [
    {
     "data": {
      "text/html": [
       "<pre>q0: -I-I-X-@-I-I---\n",
       "         | |\n",
       "q1: -I-I-|-X-@-I-I-\n",
       "         |   |\n",
       "q2: -I-I-@---X-I-I-</pre>"
      ],
      "text/plain": [
       "q0: -I-I-X-@-I-I---\n",
       "         | |\n",
       "q1: -I-I-|-X-@-I-I-\n",
       "         |   |\n",
       "q2: -I-I-@---X-I-I-"
      ]
     },
     "execution_count": 7,
     "metadata": {},
     "output_type": "execute_result"
    }
   ],
   "source": [
    "# we can look at the corresponding stim circuit\n",
    "vqe_pcirc.stim_circuit().diagram()"
   ]
  },
  {
   "cell_type": "code",
   "execution_count": 8,
   "metadata": {},
   "outputs": [
    {
     "data": {
      "text/plain": [
       "<clapton.clifford.ParametrizedCliffordCircuit at 0x22997465fd0>"
      ]
     },
     "execution_count": 8,
     "metadata": {},
     "output_type": "execute_result"
    }
   ],
   "source": [
    "# we can assign a different set of parameters\n",
    "vqe_pcirc.assign([0,1,2,3,0,1,2,3,0,1,2,3])"
   ]
  },
  {
   "cell_type": "code",
   "execution_count": 9,
   "metadata": {},
   "outputs": [
    {
     "data": {
      "text/html": [
       "<pre>q0: -I------S_DAG-X-@-Y-S----------------\n",
       "                  | |\n",
       "q1: -SQRT_Y-I-----|-X-@-SQRT_Y_DAG-Z-----\n",
       "                  |   |\n",
       "q2: -Y------S-----@---X-I----------S_DAG-</pre>"
      ],
      "text/plain": [
       "q0: -I------S_DAG-X-@-Y-S----------------\n",
       "                  | |\n",
       "q1: -SQRT_Y-I-----|-X-@-SQRT_Y_DAG-Z-----\n",
       "                  |   |\n",
       "q2: -Y------S-----@---X-I----------S_DAG-"
      ]
     },
     "execution_count": 9,
     "metadata": {},
     "output_type": "execute_result"
    }
   ],
   "source": [
    "vqe_pcirc.stim_circuit().diagram()"
   ]
  },
  {
   "cell_type": "code",
   "execution_count": 10,
   "metadata": {},
   "outputs": [
    {
     "name": "stdout",
     "output_type": "stream",
     "text": [
      "STARTING ROUND 0\n",
      "\n",
      "\n",
      "started GA at id None with 1 procs\n",
      "\n"
     ]
    },
    {
     "name": "stderr",
     "output_type": "stream",
     "text": [
      "d:\\research-impl\\clapton\\clapton\\venv\\Lib\\site-packages\\pygad\\pygad.py:1139: UserWarning: The 'delay_after_gen' parameter is deprecated starting from PyGAD 3.3.0. To delay or pause the evolution after each generation, assign a callback function/method to the 'on_generation' parameter to adds some time delay.\n",
      "  warnings.warn(\"The 'delay_after_gen' parameter is deprecated starting from PyGAD 3.3.0. To delay or pause the evolution after each generation, assign a callback function/method to the 'on_generation' parameter to adds some time delay.\")\n"
     ]
    },
    {
     "name": "stdout",
     "output_type": "stream",
     "text": [
      "[0, array([-3.41073462, -1.70536731, -1.70536731,  0.        ]), array([0, 3, 2, 2, 2, 0, 3, 0, 0, 1, 0, 2], dtype=object)]\n",
      "[1, array([-3.41073462, -1.70536731, -1.70536731,  0.        ]), array([1, 3, 2, 2, 2, 0, 3, 0, 0, 1, 0, 2], dtype=object)]\n",
      "[2, array([-3.41073462, -1.70536731, -1.70536731,  0.        ]), array([1, 3, 2, 2, 2, 0, 3, 0, 0, 1, 0, 2], dtype=object)]\n",
      "[3, array([-3.41073462, -1.70536731, -1.70536731,  0.        ]), array([2, 3, 2, 2, 2, 0, 3, 0, 0, 1, 0, 2], dtype=object)]\n",
      "[4, array([-3.41073462, -1.70536731, -1.70536731,  0.        ]), array([2, 3, 2, 2, 2, 0, 3, 0, 0, 1, 0, 2], dtype=object)]\n",
      "[5, array([-3.41073462, -1.70536731, -1.70536731,  0.        ]), array([2, 3, 2, 2, 2, 0, 3, 0, 0, 1, 0, 2], dtype=object)]\n",
      "[6, array([-3.41073462, -1.70536731, -1.70536731,  0.        ]), array([2, 3, 0, 2, 2, 2, 3, 1, 3, 1, 3, 3], dtype=object)]\n",
      "[7, array([-3.41073462, -1.70536731, -1.70536731,  0.        ]), array([2, 3, 0, 2, 2, 2, 3, 1, 3, 1, 3, 3], dtype=object)]\n",
      "[8, array([-3.41073462, -1.70536731, -1.70536731,  0.        ]), array([0, 3, 2, 2, 2, 1, 0, 1, 3, 1, 3, 1], dtype=object)]\n",
      "[9, array([-3.41073462, -1.70536731, -1.70536731,  0.        ]), array([0, 3, 0, 2, 2, 2, 3, 1, 3, 1, 3, 3], dtype=object)]\n",
      "[10, array([-3.41073462, -1.70536731, -1.70536731,  0.        ]), array([2, 3, 2, 1, 2, 2, 2, 1, 3, 1, 1, 3], dtype=object)]\n",
      "[11, array([-3.41073462, -1.70536731, -1.70536731,  0.        ]), array([0, 3, 2, 1, 2, 0, 3, 0, 0, 1, 2, 0], dtype=object)]\n",
      "[12, array([-3.41073462, -1.70536731, -1.70536731,  0.        ]), array([0, 3, 2, 1, 2, 0, 3, 0, 0, 1, 2, 0], dtype=object)]\n",
      "[13, array([-3.41073462, -1.70536731, -1.70536731,  0.        ]), array([2, 3, 2, 2, 2, 2, 2, 1, 3, 1, 2, 0], dtype=object)]\n",
      "[14, array([-3.41073462, -1.70536731, -1.70536731,  0.        ]), array([2, 3, 2, 2, 2, 2, 2, 1, 3, 1, 2, 0], dtype=object)]\n",
      "[15, array([-3.41073462, -1.70536731, -1.70536731,  0.        ]), array([0, 3, 2, 2, 2, 0, 3, 0, 0, 3, 1, 3], dtype=object)]\n",
      "[16, array([-3.41073462, -1.70536731, -1.70536731,  0.        ]), array([2, 3, 2, 2, 2, 2, 3, 0, 0, 1, 1, 3], dtype=object)]\n",
      "[17, array([-3.41073462, -1.70536731, -1.70536731,  0.        ]), array([3, 3, 2, 0, 2, 0, 3, 0, 0, 1, 1, 3], dtype=object)]\n",
      "[18, array([-3.41073462, -1.70536731, -1.70536731,  0.        ]), array([3, 3, 2, 0, 2, 0, 3, 0, 0, 1, 1, 3], dtype=object)]\n",
      "[19, array([-3.41073462, -1.70536731, -1.70536731,  0.        ]), array([3, 1, 0, 0, 2, 2, 3, 0, 2, 1, 0, 2], dtype=object)]\n",
      "[20, array([-3.41073462, -1.70536731, -1.70536731,  0.        ]), array([2, 1, 0, 0, 2, 2, 3, 0, 2, 1, 0, 2], dtype=object)]\n",
      "[21, array([-3.41073462, -1.70536731, -1.70536731,  0.        ]), array([1, 1, 0, 2, 2, 2, 3, 0, 2, 3, 0, 2], dtype=object)]\n",
      "[22, array([-3.41073462, -1.70536731, -1.70536731,  0.        ]), array([1, 1, 0, 2, 2, 2, 3, 0, 2, 3, 0, 2], dtype=object)]\n",
      "[23, array([-3.41073462, -1.70536731, -1.70536731,  0.        ]), array([1, 3, 2, 0, 2, 0, 0, 0, 0, 1, 1, 3], dtype=object)]\n",
      "[24, array([-3.41073462, -1.70536731, -1.70536731,  0.        ]), array([1, 3, 2, 0, 2, 0, 0, 0, 0, 1, 1, 3], dtype=object)]\n",
      "[25, array([-3.41073462, -1.70536731, -1.70536731,  0.        ]), array([3, 3, 2, 0, 2, 0, 3, 0, 0, 1, 0, 2], dtype=object)]\n",
      "[26, array([-3.41073462, -1.70536731, -1.70536731,  0.        ]), array([0, 3, 2, 2, 2, 1, 0, 0, 0, 1, 0, 2], dtype=object)]\n",
      "[27, array([-3.41073462, -1.70536731, -1.70536731,  0.        ]), array([2, 3, 2, 0, 2, 0, 0, 0, 0, 1, 1, 3], dtype=object)]\n",
      "[28, array([-3.41073462, -1.70536731, -1.70536731,  0.        ]), array([2, 3, 2, 0, 2, 0, 0, 0, 0, 3, 0, 2], dtype=object)]\n",
      "[29, array([-3.41073462, -1.70536731, -1.70536731,  0.        ]), array([0, 3, 2, 0, 2, 0, 0, 0, 0, 1, 1, 3], dtype=object)]\n",
      "[30, array([-3.41073462, -1.70536731, -1.70536731,  0.        ]), array([0, 3, 2, 0, 2, 0, 0, 0, 0, 1, 1, 3], dtype=object)]\n",
      "[31, array([-3.41073462, -1.70536731, -1.70536731,  0.        ]), array([0, 3, 2, 0, 2, 0, 3, 0, 0, 3, 0, 2], dtype=object)]\n",
      "[32, array([-3.41073462, -1.70536731, -1.70536731,  0.        ]), array([2, 3, 2, 0, 2, 0, 3, 0, 0, 0, 1, 3], dtype=object)]\n",
      "[33, array([-3.41073462, -1.70536731, -1.70536731,  0.        ]), array([2, 3, 2, 2, 2, 0, 3, 0, 0, 3, 0, 2], dtype=object)]\n",
      "[34, array([-3.41073462, -1.70536731, -1.70536731,  0.        ]), array([2, 3, 2, 2, 2, 0, 3, 0, 0, 3, 0, 2], dtype=object)]\n",
      "[35, array([-3.41073462, -1.70536731, -1.70536731,  0.        ]), array([3, 3, 2, 0, 2, 0, 0, 1, 3, 3, 1, 3], dtype=object)]\n",
      "[36, array([-3.41073462, -1.70536731, -1.70536731,  0.        ]), array([3, 3, 2, 0, 2, 0, 0, 1, 3, 3, 1, 3], dtype=object)]\n",
      "[37, array([-3.41073462, -1.70536731, -1.70536731,  0.        ]), array([2, 3, 2, 0, 2, 2, 0, 0, 0, 2, 0, 2], dtype=object)]\n",
      "[38, array([-3.41073462, -1.70536731, -1.70536731,  0.        ]), array([0, 3, 2, 0, 2, 0, 2, 3, 1, 3, 0, 2], dtype=object)]\n",
      "[39, array([-3.41073462, -1.70536731, -1.70536731,  0.        ]), array([0, 3, 2, 0, 2, 3, 0, 0, 0, 3, 0, 2], dtype=object)]\n",
      "[40, array([-3.41073462, -1.70536731, -1.70536731,  0.        ]), array([3, 3, 2, 0, 2, 2, 3, 0, 0, 2, 0, 2], dtype=object)]\n"
     ]
    }
   ],
   "source": [
    "# we can perform CAFQA by using the main optimization function \"claptonize\"\n",
    "ks_best, _, energy_best = claptonize(\n",
    "    paulis,\n",
    "    coeffs,\n",
    "    vqe_pcirc,\n",
    "    n_proc=4,           # total number of processes in parallel\n",
    "    n_starts=4,         # number of random genetic algorithm starts in parallel\n",
    "    n_rounds=1,         # number of budget rounds, if None it will terminate itself\n",
    "    callback=print,     # callback for internal parameter (#iteration, energies, ks) processing\n",
    "    budget=20           # budget per genetic algorithm instance\n",
    ")"
   ]
  },
  {
   "cell_type": "code",
   "execution_count": 11,
   "metadata": {},
   "outputs": [
    {
     "data": {
      "text/plain": [
       "[1, 3, 2, 2, 2, 0, 3, 0, 0, 2, 0, 2]"
      ]
     },
     "execution_count": 11,
     "metadata": {},
     "output_type": "execute_result"
    }
   ],
   "source": [
    "# the best parameters are\n",
    "ks_best"
   ]
  },
  {
   "cell_type": "code",
   "execution_count": 12,
   "metadata": {},
   "outputs": [
    {
     "data": {
      "text/plain": [
       "np.float64(-1.7053673109431555)"
      ]
     },
     "execution_count": 12,
     "metadata": {},
     "output_type": "execute_result"
    }
   ],
   "source": [
    "# with energy\n",
    "energy_best"
   ]
  },
  {
   "cell_type": "code",
   "execution_count": 13,
   "metadata": {},
   "outputs": [
    {
     "data": {
      "text/html": [
       "<pre>q0: -SQRT_Y-----Z-X-@-SQRT_Y_DAG-Z---\n",
       "                  | |\n",
       "q1: -SQRT_Y_DAG-Z-|-X-@----------I-I-\n",
       "                  |   |\n",
       "q2: -Y----------I-@---X----------I-Z-</pre>"
      ],
      "text/plain": [
       "q0: -SQRT_Y-----Z-X-@-SQRT_Y_DAG-Z---\n",
       "                  | |\n",
       "q1: -SQRT_Y_DAG-Z-|-X-@----------I-I-\n",
       "                  |   |\n",
       "q2: -Y----------I-@---X----------I-Z-"
      ]
     },
     "execution_count": 13,
     "metadata": {},
     "output_type": "execute_result"
    }
   ],
   "source": [
    "# the corresponding circuit is\n",
    "vqe_pcirc.assign(ks_best)\n",
    "vqe_pcirc.stim_circuit().diagram()"
   ]
  },
  {
   "cell_type": "code",
   "execution_count": null,
   "metadata": {},
   "outputs": [],
   "source": []
  },
  {
   "cell_type": "markdown",
   "metadata": {},
   "source": [
    "# noisy CAFQA (nCAFQA)"
   ]
  },
  {
   "cell_type": "code",
   "execution_count": 14,
   "metadata": {},
   "outputs": [],
   "source": [
    "from clapton.depolarization import GateGeneralDepolarizationModel"
   ]
  },
  {
   "cell_type": "code",
   "execution_count": 15,
   "metadata": {},
   "outputs": [],
   "source": [
    "# let's add a noise model where we specify global 1q and 2q gate errors\n",
    "nm = GateGeneralDepolarizationModel(p1=0.005, p2=0.02)"
   ]
  },
  {
   "cell_type": "code",
   "execution_count": 16,
   "metadata": {},
   "outputs": [
    {
     "data": {
      "text/plain": [
       "<clapton.clifford.ParametrizedCliffordCircuit at 0x21369fecb90>"
      ]
     },
     "execution_count": 16,
     "metadata": {},
     "output_type": "execute_result"
    }
   ],
   "source": [
    "vqe_pcirc = circular_ansatz(N=len(paulis[0]), reps=1, fix_2q=True)\n",
    "vqe_pcirc.add_depolarization_model(nm)"
   ]
  },
  {
   "cell_type": "code",
   "execution_count": 17,
   "metadata": {},
   "outputs": [
    {
     "data": {
      "text/html": [
       "<pre>q0: -I-DEPOLARIZE1(0.005)--------------------I------------------DEPOLARIZE1(0.005)---------------------------------------X-DEPOLARIZE2(0.02)-@-DEPOLARIZE2(0.02)---I-----------------DEPOLARIZE1(0.005)--------------------I------------------DEPOLARIZE1(0.005)---------------------------------------\n",
       "                                                                                                                         | |                 | |\n",
       "q1: ---I------------------DEPOLARIZE1(0.005)--------------------I------------------DEPOLARIZE1(0.005)--------------------|-|-----------------X-DEPOLARIZE2(0.02)-@-DEPOLARIZE2(0.02)-I------------------DEPOLARIZE1(0.005)--------------------I------------------DEPOLARIZE1(0.005)--------------------\n",
       "                                                                                                                         | |                                     | |\n",
       "q2: ----------------------I------------------DEPOLARIZE1(0.005)--------------------I------------------DEPOLARIZE1(0.005)-@-DEPOLARIZE2(0.02)---------------------X-DEPOLARIZE2(0.02)--------------------I------------------DEPOLARIZE1(0.005)--------------------I------------------DEPOLARIZE1(0.005)-</pre>"
      ],
      "text/plain": [
       "q0: -I-DEPOLARIZE1(0.005)--------------------I------------------DEPOLARIZE1(0.005)---------------------------------------X-DEPOLARIZE2(0.02)-@-DEPOLARIZE2(0.02)---I-----------------DEPOLARIZE1(0.005)--------------------I------------------DEPOLARIZE1(0.005)---------------------------------------\n",
       "                                                                                                                         | |                 | |\n",
       "q1: ---I------------------DEPOLARIZE1(0.005)--------------------I------------------DEPOLARIZE1(0.005)--------------------|-|-----------------X-DEPOLARIZE2(0.02)-@-DEPOLARIZE2(0.02)-I------------------DEPOLARIZE1(0.005)--------------------I------------------DEPOLARIZE1(0.005)--------------------\n",
       "                                                                                                                         | |                                     | |\n",
       "q2: ----------------------I------------------DEPOLARIZE1(0.005)--------------------I------------------DEPOLARIZE1(0.005)-@-DEPOLARIZE2(0.02)---------------------X-DEPOLARIZE2(0.02)--------------------I------------------DEPOLARIZE1(0.005)--------------------I------------------DEPOLARIZE1(0.005)-"
      ]
     },
     "execution_count": 17,
     "metadata": {},
     "output_type": "execute_result"
    }
   ],
   "source": [
    "# after every gate a depol channel is added\n",
    "vqe_pcirc.stim_circuit().diagram()"
   ]
  },
  {
   "cell_type": "code",
   "execution_count": 18,
   "metadata": {},
   "outputs": [
    {
     "name": "stdout",
     "output_type": "stream",
     "text": [
      "STARTING ROUND 0\n",
      "\n",
      "\n",
      "started GA at id None with 1 procs\n",
      "\n",
      "[0, array([-5.6994, -2.6994, -3.    ,  0.    ]), array([0, 3, 0, 0, 0, 0, 2, 0, 2, 2, 1, 3], dtype=object)]\n",
      "[1, array([-3.7418, -1.7418, -2.    ,  0.    ]), array([3, 1, 0, 1, 3, 0, 2, 3, 1, 2, 2, 2], dtype=object)]\n",
      "[2, array([-5.675, -2.675, -3.   ,  0.   ]), array([0, 1, 0, 2, 2, 1, 1, 0, 2, 0, 1, 3], dtype=object)]\n",
      "[3, array([-5.7066, -2.7066, -3.    ,  0.    ]), array([0, 3, 0, 0, 0, 0, 2, 0, 2, 2, 1, 3], dtype=object)]\n",
      "[4, array([-5.6468, -2.6468, -3.    ,  0.    ]), array([1, 3, 0, 0, 2, 1, 1, 1, 3, 1, 2, 2], dtype=object)]\n",
      "[5, array([-5.7456, -2.7456, -3.    ,  0.    ]), array([0, 1, 0, 2, 2, 1, 1, 0, 2, 0, 1, 3], dtype=object)]\n",
      "[6, array([-5.7086, -2.7086, -3.    ,  0.    ]), array([0, 1, 0, 2, 2, 1, 1, 0, 2, 2, 1, 3], dtype=object)]\n",
      "[7, array([-5.7412, -2.7412, -3.    ,  0.    ]), array([3, 3, 2, 2, 0, 0, 3, 1, 1, 2, 0, 0], dtype=object)]\n",
      "[8, array([-5.7002, -2.7002, -3.    ,  0.    ]), array([1, 3, 0, 0, 2, 1, 1, 0, 2, 0, 3, 3], dtype=object)]\n",
      "[9, array([-5.7422, -2.7422, -3.    ,  0.    ]), array([2, 3, 0, 0, 2, 1, 1, 1, 3, 1, 2, 2], dtype=object)]\n",
      "[10, array([-5.7354, -2.7354, -3.    ,  0.    ]), array([1, 3, 0, 0, 2, 1, 2, 1, 3, 1, 2, 2], dtype=object)]\n",
      "[11, array([-5.7334, -2.7334, -3.    ,  0.    ]), array([1, 3, 0, 2, 2, 0, 2, 1, 3, 1, 1, 1], dtype=object)]\n",
      "[12, array([-5.7242, -2.7242, -3.    ,  0.    ]), array([1, 1, 0, 2, 0, 1, 1, 1, 3, 1, 2, 2], dtype=object)]\n",
      "[13, array([-5.7392, -2.7392, -3.    ,  0.    ]), array([0, 1, 0, 2, 2, 1, 1, 0, 2, 0, 1, 3], dtype=object)]\n",
      "[14, array([-5.7216, -2.7216, -3.    ,  0.    ]), array([1, 1, 0, 2, 0, 1, 1, 1, 3, 2, 3, 3], dtype=object)]\n",
      "[15, array([-5.7356, -2.7356, -3.    ,  0.    ]), array([0, 1, 0, 2, 2, 1, 1, 0, 2, 0, 1, 3], dtype=object)]\n",
      "[16, array([-5.7192, -2.7192, -3.    ,  0.    ]), array([0, 1, 0, 1, 0, 1, 1, 1, 3, 1, 2, 2], dtype=object)]\n",
      "[17, array([-5.7362, -2.7362, -3.    ,  0.    ]), array([0, 1, 0, 2, 0, 1, 1, 1, 3, 1, 2, 2], dtype=object)]\n",
      "[18, array([-5.711, -2.711, -3.   ,  0.   ]), array([1, 3, 0, 0, 2, 0, 1, 1, 3, 2, 3, 3], dtype=object)]\n",
      "[19, array([-5.7306, -2.7306, -3.    ,  0.    ]), array([1, 1, 0, 2, 0, 1, 1, 1, 3, 1, 2, 2], dtype=object)]\n",
      "[20, array([-5.7242, -2.7242, -3.    ,  0.    ]), array([1, 1, 0, 2, 2, 1, 0, 0, 2, 2, 1, 3], dtype=object)]\n",
      "[21, array([-5.7348, -2.7348, -3.    ,  0.    ]), array([1, 1, 0, 2, 0, 1, 1, 1, 3, 1, 2, 2], dtype=object)]\n",
      "[22, array([-5.7168, -2.7168, -3.    ,  0.    ]), array([1, 1, 0, 2, 0, 1, 1, 1, 3, 2, 1, 1], dtype=object)]\n",
      "[23, array([-5.7324, -2.7324, -3.    ,  0.    ]), array([1, 1, 0, 2, 0, 1, 1, 1, 3, 1, 2, 2], dtype=object)]\n",
      "[24, array([-5.7396, -2.7396, -3.    ,  0.    ]), array([1, 3, 0, 2, 2, 1, 2, 1, 3, 1, 2, 2], dtype=object)]\n",
      "[25, array([-5.7506, -2.7506, -3.    ,  0.    ]), array([1, 1, 0, 2, 0, 1, 1, 1, 3, 1, 2, 2], dtype=object)]\n",
      "[26, array([-5.7228, -2.7228, -3.    ,  0.    ]), array([1, 3, 0, 0, 2, 2, 2, 1, 3, 1, 2, 2], dtype=object)]\n",
      "[27, array([-5.7536, -2.7536, -3.    ,  0.    ]), array([1, 3, 0, 0, 2, 1, 2, 1, 3, 1, 2, 2], dtype=object)]\n",
      "[28, array([-5.7114, -2.7114, -3.    ,  0.    ]), array([1, 3, 0, 3, 2, 1, 1, 1, 3, 1, 2, 2], dtype=object)]\n",
      "[29, array([-5.7328, -2.7328, -3.    ,  0.    ]), array([1, 3, 0, 0, 2, 1, 2, 1, 3, 1, 2, 2], dtype=object)]\n",
      "[30, array([-5.7294, -2.7294, -3.    ,  0.    ]), array([0, 3, 0, 0, 2, 1, 2, 1, 3, 2, 2, 2], dtype=object)]\n",
      "[31, array([-5.7338, -2.7338, -3.    ,  0.    ]), array([1, 3, 0, 0, 2, 1, 2, 1, 3, 1, 2, 2], dtype=object)]\n",
      "[32, array([-5.7106, -2.7106, -3.    ,  0.    ]), array([1, 3, 0, 3, 2, 1, 2, 1, 3, 1, 2, 2], dtype=object)]\n",
      "[33, array([-5.736, -2.736, -3.   ,  0.   ]), array([1, 3, 0, 2, 2, 1, 2, 1, 3, 1, 2, 2], dtype=object)]\n",
      "[34, array([-5.7006, -2.7006, -3.    ,  0.    ]), array([0, 3, 0, 2, 2, 1, 2, 1, 3, 1, 2, 2], dtype=object)]\n",
      "[35, array([-5.7374, -2.7374, -3.    ,  0.    ]), array([1, 3, 0, 2, 2, 1, 2, 1, 3, 1, 2, 2], dtype=object)]\n",
      "[36, array([-5.7124, -2.7124, -3.    ,  0.    ]), array([1, 3, 0, 0, 2, 2, 2, 1, 3, 1, 2, 2], dtype=object)]\n",
      "[37, array([-5.755, -2.755, -3.   ,  0.   ]), array([1, 3, 0, 2, 2, 1, 2, 1, 3, 1, 2, 2], dtype=object)]\n",
      "[38, array([-5.7066, -2.7066, -3.    ,  0.    ]), array([1, 3, 0, 2, 2, 1, 2, 1, 3, 2, 2, 2], dtype=object)]\n",
      "[39, array([-5.7282, -2.7282, -3.    ,  0.    ]), array([1, 3, 0, 2, 2, 1, 2, 1, 3, 1, 2, 2], dtype=object)]\n",
      "[40, array([-5.6924, -2.6924, -3.    ,  0.    ]), array([1, 3, 0, 2, 2, 1, 2, 1, 3, 2, 2, 2], dtype=object)]\n"
     ]
    }
   ],
   "source": [
    "# we can perform nCAFQA by using the main optimization function \"claptonize\"\n",
    "# now with the noisy circuit\n",
    "# this is slower, as the noisy circuit needs to be sampled\n",
    "ks_best, energy_noisy, energy_noiseless = claptonize(\n",
    "    paulis,\n",
    "    coeffs,\n",
    "    vqe_pcirc,\n",
    "    n_proc=4,           # total number of processes in parallel\n",
    "    n_starts=4,         # number of random genetic algorithm starts in parallel\n",
    "    n_rounds=1,         # number of budget rounds, if None it will terminate itself\n",
    "    callback=print,     # callback for internal parameter (#iteration, energies, ks) processing\n",
    "    budget=20           # budget per genetic algorithm instance\n",
    ")"
   ]
  },
  {
   "cell_type": "code",
   "execution_count": 19,
   "metadata": {},
   "outputs": [
    {
     "data": {
      "text/plain": [
       "[1, 1, 0, 0, 0, 2, 2, 1, 3, 3, 2, 2]"
      ]
     },
     "execution_count": 19,
     "metadata": {},
     "output_type": "execute_result"
    }
   ],
   "source": [
    "# the best parameters are\n",
    "ks_best"
   ]
  },
  {
   "cell_type": "code",
   "execution_count": 20,
   "metadata": {},
   "outputs": [
    {
     "data": {
      "text/plain": [
       "(np.float64(-2.698), np.float64(-3.0))"
      ]
     },
     "execution_count": 20,
     "metadata": {},
     "output_type": "execute_result"
    }
   ],
   "source": [
    "# with noisy/noiseless energy\n",
    "energy_noisy, energy_noiseless"
   ]
  },
  {
   "cell_type": "code",
   "execution_count": 21,
   "metadata": {},
   "outputs": [
    {
     "data": {
      "text/html": [
       "<pre>q0: -SQRT_Y-I-X-@-Y-S_DAG--------\n",
       "              | |\n",
       "q1: -SQRT_Y-I-|-X-@-SQRT_Y-----Z-\n",
       "              |   |\n",
       "q2: -I------Z-@---X-SQRT_Y_DAG-Z-</pre>"
      ],
      "text/plain": [
       "q0: -SQRT_Y-I-X-@-Y-S_DAG--------\n",
       "              | |\n",
       "q1: -SQRT_Y-I-|-X-@-SQRT_Y-----Z-\n",
       "              |   |\n",
       "q2: -I------Z-@---X-SQRT_Y_DAG-Z-"
      ]
     },
     "execution_count": 21,
     "metadata": {},
     "output_type": "execute_result"
    }
   ],
   "source": [
    "# the corresponding circuit is\n",
    "vqe_pcirc.assign(ks_best)\n",
    "vqe_pcirc.snapshot_noiseless().circ_snapshot_noiseless.diagram()"
   ]
  },
  {
   "cell_type": "code",
   "execution_count": null,
   "metadata": {},
   "outputs": [],
   "source": []
  }
 ],
 "metadata": {
  "kernelspec": {
   "display_name": "venv",
   "language": "python",
   "name": "python3"
  },
  "language_info": {
   "codemirror_mode": {
    "name": "ipython",
    "version": 3
   },
   "file_extension": ".py",
   "mimetype": "text/x-python",
   "name": "python",
   "nbconvert_exporter": "python",
   "pygments_lexer": "ipython3",
   "version": "3.13.2"
  }
 },
 "nbformat": 4,
 "nbformat_minor": 2
}
