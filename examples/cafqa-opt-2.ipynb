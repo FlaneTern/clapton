{
 "cells": [
  {
   "cell_type": "markdown",
   "metadata": {},
   "source": [
    "# CAFQA"
   ]
  },
  {
   "cell_type": "code",
   "execution_count": 1,
   "metadata": {},
   "outputs": [
    {
     "name": "stderr",
     "output_type": "stream",
     "text": [
      "d:\\research-impl\\clapton-cafqa-opt\\clapton\\venv\\Lib\\site-packages\\tqdm\\auto.py:21: TqdmWarning: IProgress not found. Please update jupyter and ipywidgets. See https://ipywidgets.readthedocs.io/en/stable/user_install.html\n",
      "  from .autonotebook import tqdm as notebook_tqdm\n"
     ]
    }
   ],
   "source": [
    "import sys\n",
    "sys.path.append(\"../\")\n",
    "from clapton.clapton import claptonize, claptonize_opt, claptonize_opt2\n",
    "from clapton.ansatzes import circular_ansatz\n",
    "import numpy as np"
   ]
  },
  {
   "cell_type": "code",
   "execution_count": 2,
   "metadata": {},
   "outputs": [
    {
     "name": "stdout",
     "output_type": "stream",
     "text": [
      "[0.37454012 0.95071431 0.73199394 0.59865848 0.15601864 0.15599452]\n"
     ]
    }
   ],
   "source": [
    "# define Hamiltonian, e.g. 3q Heisenberg model with random coefficients\n",
    "paulis = [\"XXI\", \"IXX\", \"YYI\", \"IYY\", \"ZZI\", \"IZZ\"]\n",
    "np.random.seed(42)  # You can replace 42 with any integer seed\n",
    "coeffs = np.random.random(len(paulis))\n",
    "# coeffs = np.ones((len(paulis)))\n",
    "print(coeffs)"
   ]
  },
  {
   "cell_type": "code",
   "execution_count": 3,
   "metadata": {},
   "outputs": [],
   "source": [
    "# define parametrized Clifford circuit that is being optimized over\n",
    "# here we use the circular_ansatz template\n",
    "# we fix 2q gates as they will not be optimized over\n",
    "vqe_pcirc = circular_ansatz(N=len(paulis[0]), reps=1, fix_2q=True)"
   ]
  },
  {
   "cell_type": "code",
   "execution_count": 4,
   "metadata": {},
   "outputs": [
    {
     "name": "stdout",
     "output_type": "stream",
     "text": [
      "RY False\n",
      "RY False\n",
      "RY False\n",
      "RZ False\n",
      "RZ False\n",
      "RZ False\n",
      "2Q True\n",
      "2Q True\n",
      "2Q True\n",
      "RY False\n",
      "RY False\n",
      "RY False\n",
      "RZ False\n",
      "RZ False\n",
      "RZ False\n"
     ]
    }
   ],
   "source": [
    "# the circuit consists of parametrized gates\n",
    "for gate in vqe_pcirc.gates:\n",
    "    print(gate.label, gate.is_fixed())"
   ]
  },
  {
   "cell_type": "code",
   "execution_count": 5,
   "metadata": {},
   "outputs": [
    {
     "name": "stderr",
     "output_type": "stream",
     "text": [
      "[I 2025-07-17 23:05:28,323] A new study created in memory with name: no-name-fa757330-9bb9-4a3a-9f68-e252fe6285a5\n"
     ]
    },
    {
     "name": "stderr",
     "output_type": "stream",
     "text": [
      "[I 2025-07-17 23:05:28,335] Trial 0 finished with value: 0.0 and parameters: {'x0': 1, 'x1': 3, 'x2': 2, 'x3': 2, 'x4': 0, 'x5': 0, 'x6': 0, 'x7': 3, 'x8': 2, 'x9': 2, 'x10': 0, 'x11': 3}. Best is trial 0 with value: 0.0.\n",
      "[I 2025-07-17 23:05:28,345] Trial 1 finished with value: 0.0 and parameters: {'x0': 3, 'x1': 0, 'x2': 0, 'x3': 0, 'x4': 1, 'x5': 2, 'x6': 1, 'x7': 1, 'x8': 2, 'x9': 0, 'x10': 1, 'x11': 1}. Best is trial 0 with value: 0.0.\n",
      "[I 2025-07-17 23:05:28,358] Trial 2 finished with value: -0.39212260375335384 and parameters: {'x0': 1, 'x1': 3, 'x2': 0, 'x3': 2, 'x4': 2, 'x5': 0, 'x6': 2, 'x7': 0, 'x8': 0, 'x9': 3, 'x10': 3, 'x11': 3}. Best is trial 2 with value: -0.39212260375335384.\n",
      "[I 2025-07-17 23:05:28,371] Trial 3 finished with value: 0.0 and parameters: {'x0': 1, 'x1': 0, 'x2': 2, 'x3': 1, 'x4': 0, 'x5': 1, 'x6': 0, 'x7': 3, 'x8': 1, 'x9': 2, 'x10': 1, 'x11': 2}. Best is trial 2 with value: -0.39212260375335384.\n",
      "[I 2025-07-17 23:05:28,380] Trial 4 finished with value: 0.0 and parameters: {'x0': 2, 'x1': 0, 'x2': 3, 'x3': 3, 'x4': 3, 'x5': 3, 'x6': 2, 'x7': 3, 'x8': 0, 'x9': 0, 'x10': 0, 'x11': 1}. Best is trial 2 with value: -0.39212260375335384.\n",
      "[I 2025-07-17 23:05:28,389] Trial 5 finished with value: -0.3119890406724053 and parameters: {'x0': 1, 'x1': 1, 'x2': 3, 'x3': 1, 'x4': 1, 'x5': 2, 'x6': 0, 'x7': 3, 'x8': 0, 'x9': 3, 'x10': 3, 'x11': 0}. Best is trial 2 with value: -0.39212260375335384.\n",
      "[I 2025-07-17 23:05:28,397] Trial 6 finished with value: 1.1973169683940732 and parameters: {'x0': 0, 'x1': 3, 'x2': 2, 'x3': 2, 'x4': 3, 'x5': 0, 'x6': 1, 'x7': 0, 'x8': 3, 'x9': 2, 'x10': 1, 'x11': 0}. Best is trial 2 with value: -0.39212260375335384.\n",
      "[I 2025-07-17 23:05:28,406] Trial 7 finished with value: 0.0 and parameters: {'x0': 1, 'x1': 1, 'x2': 2, 'x3': 2, 'x4': 3, 'x5': 1, 'x6': 0, 'x7': 2, 'x8': 3, 'x9': 2, 'x10': 3, 'x11': 1}. Best is trial 2 with value: -0.39212260375335384.\n",
      "[I 2025-07-17 23:05:28,415] Trial 8 finished with value: 1.9014286128198323 and parameters: {'x0': 2, 'x1': 1, 'x2': 0, 'x3': 0, 'x4': 0, 'x5': 2, 'x6': 1, 'x7': 2, 'x8': 3, 'x9': 0, 'x10': 1, 'x11': 3}. Best is trial 2 with value: -0.39212260375335384.\n",
      "[I 2025-07-17 23:05:28,423] Trial 9 finished with value: 0.749080237694725 and parameters: {'x0': 0, 'x1': 0, 'x2': 1, 'x3': 0, 'x4': 3, 'x5': 3, 'x6': 2, 'x7': 3, 'x8': 3, 'x9': 0, 'x10': 3, 'x11': 2}. Best is trial 2 with value: -0.39212260375335384.\n",
      "[I 2025-07-17 23:05:28,462] Trial 10 finished with value: 0.0 and parameters: {'x0': 3, 'x1': 2, 'x2': 1, 'x3': 3, 'x4': 2, 'x5': 0, 'x6': 3, 'x7': 0, 'x8': 1, 'x9': 3, 'x10': 2, 'x11': 3}. Best is trial 2 with value: -0.39212260375335384.\n",
      "[I 2025-07-17 23:05:28,499] Trial 11 finished with value: 1.9010308404326623 and parameters: {'x0': 1, 'x1': 2, 'x2': 3, 'x3': 1, 'x4': 1, 'x5': 2, 'x6': 3, 'x7': 1, 'x8': 0, 'x9': 3, 'x10': 3, 'x11': 0}. Best is trial 2 with value: -0.39212260375335384.\n",
      "[I 2025-07-17 23:05:28,537] Trial 12 finished with value: 0.0 and parameters: {'x0': 0, 'x1': 2, 'x2': 0, 'x3': 1, 'x4': 2, 'x5': 1, 'x6': 2, 'x7': 1, 'x8': 0, 'x9': 3, 'x10': 2, 'x11': 2}. Best is trial 2 with value: -0.39212260375335384.\n",
      "[I 2025-07-17 23:05:28,575] Trial 13 finished with value: 0.0 and parameters: {'x0': 2, 'x1': 1, 'x2': 1, 'x3': 2, 'x4': 1, 'x5': 2, 'x6': 2, 'x7': 2, 'x8': 1, 'x9': 1, 'x10': 2, 'x11': 0}. Best is trial 2 with value: -0.39212260375335384.\n",
      "[I 2025-07-17 23:05:28,615] Trial 14 finished with value: 0.266670915228737 and parameters: {'x0': 1, 'x1': 3, 'x2': 3, 'x3': 1, 'x4': 2, 'x5': 1, 'x6': 1, 'x7': 0, 'x8': 0, 'x9': 3, 'x10': 3, 'x11': 1}. Best is trial 2 with value: -0.39212260375335384.\n",
      "[I 2025-07-17 23:05:28,653] Trial 15 finished with value: -1.4639878836228102 and parameters: {'x0': 2, 'x1': 2, 'x2': 1, 'x3': 3, 'x4': 1, 'x5': 3, 'x6': 3, 'x7': 1, 'x8': 1, 'x9': 1, 'x10': 3, 'x11': 2}. Best is trial 15 with value: -1.4639878836228102.\n",
      "[I 2025-07-17 23:05:28,690] Trial 16 finished with value: 0.0 and parameters: {'x0': 2, 'x1': 3, 'x2': 0, 'x3': 3, 'x4': 2, 'x5': 3, 'x6': 3, 'x7': 0, 'x8': 1, 'x9': 1, 'x10': 2, 'x11': 3}. Best is trial 15 with value: -1.4639878836228102.\n",
      "[I 2025-07-17 23:05:28,728] Trial 17 finished with value: -2.525105402202408 and parameters: {'x0': 3, 'x1': 2, 'x2': 1, 'x3': 3, 'x4': 1, 'x5': 0, 'x6': 3, 'x7': 1, 'x8': 2, 'x9': 1, 'x10': 3, 'x11': 2}. Best is trial 17 with value: -2.525105402202408.\n",
      "[I 2025-07-17 23:05:28,768] Trial 18 finished with value: 1.9014286128198323 and parameters: {'x0': 3, 'x1': 2, 'x2': 1, 'x3': 3, 'x4': 1, 'x5': 3, 'x6': 3, 'x7': 1, 'x8': 2, 'x9': 1, 'x10': 2, 'x11': 2}. Best is trial 17 with value: -2.525105402202408.\n",
      "[I 2025-07-17 23:05:28,806] Trial 19 finished with value: -1.4639878836228102 and parameters: {'x0': 3, 'x1': 2, 'x2': 1, 'x3': 3, 'x4': 0, 'x5': 1, 'x6': 3, 'x7': 1, 'x8': 2, 'x9': 1, 'x10': 3, 'x11': 2}. Best is trial 17 with value: -2.525105402202408.\n",
      "[I 2025-07-17 23:05:28,844] Trial 20 finished with value: 0.0 and parameters: {'x0': 3, 'x1': 2, 'x2': 1, 'x3': 3, 'x4': 1, 'x5': 0, 'x6': 3, 'x7': 2, 'x8': 2, 'x9': 1, 'x10': 2, 'x11': 2}. Best is trial 17 with value: -2.525105402202408.\n",
      "[I 2025-07-17 23:05:28,882] Trial 21 finished with value: -1.4639878836228102 and parameters: {'x0': 3, 'x1': 2, 'x2': 1, 'x3': 3, 'x4': 0, 'x5': 1, 'x6': 3, 'x7': 1, 'x8': 2, 'x9': 1, 'x10': 3, 'x11': 2}. Best is trial 17 with value: -2.525105402202408.\n",
      "[I 2025-07-17 23:05:28,923] Trial 22 finished with value: -1.4639878836228102 and parameters: {'x0': 3, 'x1': 2, 'x2': 1, 'x3': 3, 'x4': 0, 'x5': 1, 'x6': 3, 'x7': 1, 'x8': 1, 'x9': 1, 'x10': 3, 'x11': 2}. Best is trial 17 with value: -2.525105402202408.\n",
      "[I 2025-07-17 23:05:28,962] Trial 23 finished with value: -2.525105402202408 and parameters: {'x0': 2, 'x1': 2, 'x2': 1, 'x3': 3, 'x4': 0, 'x5': 0, 'x6': 3, 'x7': 1, 'x8': 2, 'x9': 1, 'x10': 3, 'x11': 2}. Best is trial 17 with value: -2.525105402202408.\n",
      "[I 2025-07-17 23:05:29,002] Trial 24 finished with value: 0.0 and parameters: {'x0': 2, 'x1': 1, 'x2': 2, 'x3': 2, 'x4': 1, 'x5': 0, 'x6': 2, 'x7': 1, 'x8': 2, 'x9': 1, 'x10': 3, 'x11': 1}. Best is trial 17 with value: -2.525105402202408.\n",
      "[I 2025-07-17 23:05:29,040] Trial 25 finished with value: 1.4639878836228102 and parameters: {'x0': 2, 'x1': 2, 'x2': 1, 'x3': 3, 'x4': 1, 'x5': 0, 'x6': 3, 'x7': 2, 'x8': 1, 'x9': 2, 'x10': 2, 'x11': 2}. Best is trial 17 with value: -2.525105402202408.\n",
      "[I 2025-07-17 23:05:29,078] Trial 26 finished with value: -1.9014286128198323 and parameters: {'x0': 2, 'x1': 1, 'x2': 2, 'x3': 3, 'x4': 0, 'x5': 0, 'x6': 3, 'x7': 1, 'x8': 2, 'x9': 0, 'x10': 3, 'x11': 1}. Best is trial 17 with value: -2.525105402202408.\n",
      "[I 2025-07-17 23:05:29,121] Trial 27 finished with value: -0.3119890406724053 and parameters: {'x0': 2, 'x1': 1, 'x2': 2, 'x3': 2, 'x4': 0, 'x5': 0, 'x6': 2, 'x7': 2, 'x8': 2, 'x9': 0, 'x10': 2, 'x11': 1}. Best is trial 17 with value: -2.525105402202408.\n",
      "[I 2025-07-17 23:05:29,164] Trial 28 finished with value: -3.410734621886311 and parameters: {'x0': 2, 'x1': 1, 'x2': 2, 'x3': 3, 'x4': 0, 'x5': 0, 'x6': 3, 'x7': 1, 'x8': 3, 'x9': 0, 'x10': 3, 'x11': 1}. Best is trial 28 with value: -3.410734621886311.\n",
      "[I 2025-07-17 23:05:29,207] Trial 29 finished with value: 0.0 and parameters: {'x0': 3, 'x1': 3, 'x2': 2, 'x3': 2, 'x4': 0, 'x5': 0, 'x6': 2, 'x7': 0, 'x8': 3, 'x9': 0, 'x10': 0, 'x11': 3}. Best is trial 28 with value: -3.410734621886311.\n",
      "[I 2025-07-17 23:05:29,249] Trial 30 finished with value: -3.410734621886311 and parameters: {'x0': 2, 'x1': 1, 'x2': 2, 'x3': 3, 'x4': 0, 'x5': 0, 'x6': 3, 'x7': 1, 'x8': 3, 'x9': 2, 'x10': 3, 'x11': 1}. Best is trial 28 with value: -3.410734621886311.\n",
      "[I 2025-07-17 23:05:29,292] Trial 31 finished with value: -3.410734621886311 and parameters: {'x0': 2, 'x1': 1, 'x2': 2, 'x3': 3, 'x4': 0, 'x5': 0, 'x6': 3, 'x7': 1, 'x8': 3, 'x9': 2, 'x10': 3, 'x11': 1}. Best is trial 28 with value: -3.410734621886311.\n",
      "[I 2025-07-17 23:05:29,332] Trial 32 finished with value: -3.410734621886311 and parameters: {'x0': 2, 'x1': 1, 'x2': 2, 'x3': 3, 'x4': 0, 'x5': 0, 'x6': 3, 'x7': 1, 'x8': 3, 'x9': 2, 'x10': 3, 'x11': 1}. Best is trial 28 with value: -3.410734621886311.\n",
      "[I 2025-07-17 23:05:29,369] Trial 33 finished with value: -3.410734621886311 and parameters: {'x0': 2, 'x1': 1, 'x2': 2, 'x3': 3, 'x4': 0, 'x5': 0, 'x6': 3, 'x7': 1, 'x8': 3, 'x9': 2, 'x10': 3, 'x11': 1}. Best is trial 28 with value: -3.410734621886311.\n",
      "[I 2025-07-17 23:05:29,411] Trial 34 finished with value: -1.1973169683940732 and parameters: {'x0': 2, 'x1': 0, 'x2': 2, 'x3': 2, 'x4': 0, 'x5': 0, 'x6': 3, 'x7': 1, 'x8': 3, 'x9': 2, 'x10': 3, 'x11': 1}. Best is trial 28 with value: -3.410734621886311.\n",
      "[I 2025-07-17 23:05:29,449] Trial 35 finished with value: 0.0 and parameters: {'x0': 2, 'x1': 1, 'x2': 2, 'x3': 3, 'x4': 0, 'x5': 0, 'x6': 2, 'x7': 0, 'x8': 3, 'x9': 2, 'x10': 2, 'x11': 1}. Best is trial 28 with value: -3.410734621886311.\n",
      "[I 2025-07-17 23:05:29,487] Trial 36 finished with value: 0.3119890406724053 and parameters: {'x0': 1, 'x1': 0, 'x2': 3, 'x3': 3, 'x4': 0, 'x5': 1, 'x6': 3, 'x7': 2, 'x8': 3, 'x9': 2, 'x10': 3, 'x11': 1}. Best is trial 28 with value: -3.410734621886311.\n",
      "[I 2025-07-17 23:05:29,540] Trial 37 finished with value: 2.7867565405415 and parameters: {'x0': 2, 'x1': 1, 'x2': 2, 'x3': 2, 'x4': 0, 'x5': 0, 'x6': 2, 'x7': 1, 'x8': 3, 'x9': 2, 'x10': 0, 'x11': 0}. Best is trial 28 with value: -3.410734621886311.\n",
      "[I 2025-07-17 23:05:29,583] Trial 38 finished with value: 0.0 and parameters: {'x0': 1, 'x1': 0, 'x2': 3, 'x3': 3, 'x4': 0, 'x5': 0, 'x6': 3, 'x7': 0, 'x8': 3, 'x9': 2, 'x10': 3, 'x11': 1}. Best is trial 28 with value: -3.410734621886311.\n",
      "[I 2025-07-17 23:05:29,624] Trial 39 finished with value: -0.3119890406724053 and parameters: {'x0': 2, 'x1': 1, 'x2': 2, 'x3': 2, 'x4': 0, 'x5': 1, 'x6': 1, 'x7': 1, 'x8': 3, 'x9': 2, 'x10': 1, 'x11': 0}. Best is trial 28 with value: -3.410734621886311.\n",
      "[I 2025-07-17 23:05:29,667] Trial 40 finished with value: 0.0 and parameters: {'x0': 2, 'x1': 1, 'x2': 3, 'x3': 3, 'x4': 0, 'x5': 0, 'x6': 2, 'x7': 2, 'x8': 3, 'x9': 2, 'x10': 3, 'x11': 1}. Best is trial 28 with value: -3.410734621886311.\n",
      "[I 2025-07-17 23:05:29,713] Trial 41 finished with value: -3.410734621886311 and parameters: {'x0': 2, 'x1': 1, 'x2': 2, 'x3': 3, 'x4': 0, 'x5': 0, 'x6': 3, 'x7': 1, 'x8': 3, 'x9': 2, 'x10': 3, 'x11': 1}. Best is trial 28 with value: -3.410734621886311.\n",
      "[I 2025-07-17 23:05:29,755] Trial 42 finished with value: -3.410734621886311 and parameters: {'x0': 2, 'x1': 1, 'x2': 2, 'x3': 3, 'x4': 0, 'x5': 0, 'x6': 3, 'x7': 1, 'x8': 3, 'x9': 2, 'x10': 3, 'x11': 1}. Best is trial 28 with value: -3.410734621886311.\n",
      "[I 2025-07-17 23:05:29,797] Trial 43 finished with value: -3.410734621886311 and parameters: {'x0': 2, 'x1': 1, 'x2': 2, 'x3': 3, 'x4': 0, 'x5': 0, 'x6': 3, 'x7': 1, 'x8': 3, 'x9': 2, 'x10': 3, 'x11': 1}. Best is trial 28 with value: -3.410734621886311.\n",
      "[I 2025-07-17 23:05:29,844] Trial 44 finished with value: -2.661304852016883 and parameters: {'x0': 1, 'x1': 0, 'x2': 2, 'x3': 3, 'x4': 0, 'x5': 0, 'x6': 3, 'x7': 1, 'x8': 3, 'x9': 3, 'x10': 3, 'x11': 1}. Best is trial 28 with value: -3.410734621886311.\n",
      "[I 2025-07-17 23:05:29,884] Trial 45 finished with value: -0.3119890406724053 and parameters: {'x0': 2, 'x1': 1, 'x2': 2, 'x3': 0, 'x4': 0, 'x5': 0, 'x6': 0, 'x7': 1, 'x8': 3, 'x9': 2, 'x10': 3, 'x11': 0}. Best is trial 28 with value: -3.410734621886311.\n",
      "[I 2025-07-17 23:05:29,925] Trial 46 finished with value: -1.9014286128198323 and parameters: {'x0': 2, 'x1': 1, 'x2': 2, 'x3': 3, 'x4': 0, 'x5': 1, 'x6': 3, 'x7': 0, 'x8': 3, 'x9': 2, 'x10': 3, 'x11': 1}. Best is trial 28 with value: -3.410734621886311.\n",
      "[I 2025-07-17 23:05:29,967] Trial 47 finished with value: 0.749080237694725 and parameters: {'x0': 1, 'x1': 1, 'x2': 2, 'x3': 2, 'x4': 1, 'x5': 0, 'x6': 3, 'x7': 1, 'x8': 3, 'x9': 3, 'x10': 2, 'x11': 1}. Best is trial 28 with value: -3.410734621886311.\n",
      "[I 2025-07-17 23:05:30,011] Trial 48 finished with value: 0.0 and parameters: {'x0': 2, 'x1': 1, 'x2': 2, 'x3': 3, 'x4': 0, 'x5': 1, 'x6': 2, 'x7': 2, 'x8': 3, 'x9': 2, 'x10': 3, 'x11': 0}. Best is trial 28 with value: -3.410734621886311.\n",
      "[I 2025-07-17 23:05:30,052] Trial 49 finished with value: 1.0269449268129582 and parameters: {'x0': 2, 'x1': 0, 'x2': 3, 'x3': 2, 'x4': 0, 'x5': 0, 'x6': 3, 'x7': 1, 'x8': 3, 'x9': 3, 'x10': 1, 'x11': 1}. Best is trial 28 with value: -3.410734621886311.\n",
      "[I 2025-07-17 23:05:30,092] Trial 50 finished with value: -0.31203728088487304 and parameters: {'x0': 1, 'x1': 1, 'x2': 2, 'x3': 3, 'x4': 1, 'x5': 2, 'x6': 3, 'x7': 0, 'x8': 3, 'x9': 2, 'x10': 3, 'x11': 1}. Best is trial 28 with value: -3.410734621886311.\n",
      "[I 2025-07-17 23:05:30,134] Trial 51 finished with value: -3.410734621886311 and parameters: {'x0': 2, 'x1': 1, 'x2': 2, 'x3': 3, 'x4': 0, 'x5': 0, 'x6': 3, 'x7': 1, 'x8': 3, 'x9': 2, 'x10': 3, 'x11': 1}. Best is trial 28 with value: -3.410734621886311.\n",
      "[I 2025-07-17 23:05:30,180] Trial 52 finished with value: -3.410734621886311 and parameters: {'x0': 2, 'x1': 1, 'x2': 2, 'x3': 3, 'x4': 0, 'x5': 0, 'x6': 3, 'x7': 1, 'x8': 3, 'x9': 2, 'x10': 3, 'x11': 1}. Best is trial 28 with value: -3.410734621886311.\n",
      "[I 2025-07-17 23:05:30,224] Trial 53 finished with value: -3.410734621886311 and parameters: {'x0': 2, 'x1': 1, 'x2': 2, 'x3': 3, 'x4': 0, 'x5': 0, 'x6': 3, 'x7': 1, 'x8': 3, 'x9': 2, 'x10': 3, 'x11': 1}. Best is trial 28 with value: -3.410734621886311.\n",
      "[I 2025-07-17 23:05:30,268] Trial 54 finished with value: -3.410734621886311 and parameters: {'x0': 2, 'x1': 1, 'x2': 2, 'x3': 3, 'x4': 0, 'x5': 0, 'x6': 3, 'x7': 1, 'x8': 3, 'x9': 2, 'x10': 3, 'x11': 1}. Best is trial 28 with value: -3.410734621886311.\n",
      "[I 2025-07-17 23:05:30,312] Trial 55 finished with value: -3.410734621886311 and parameters: {'x0': 2, 'x1': 1, 'x2': 2, 'x3': 3, 'x4': 0, 'x5': 0, 'x6': 3, 'x7': 1, 'x8': 3, 'x9': 2, 'x10': 3, 'x11': 1}. Best is trial 28 with value: -3.410734621886311.\n",
      "[I 2025-07-17 23:05:30,355] Trial 56 finished with value: 0.31203728088487304 and parameters: {'x0': 2, 'x1': 1, 'x2': 3, 'x3': 3, 'x4': 1, 'x5': 0, 'x6': 3, 'x7': 1, 'x8': 3, 'x9': 2, 'x10': 2, 'x11': 1}. Best is trial 28 with value: -3.410734621886311.\n",
      "[I 2025-07-17 23:05:30,403] Trial 57 finished with value: 0.0 and parameters: {'x0': 2, 'x1': 1, 'x2': 2, 'x3': 1, 'x4': 3, 'x5': 0, 'x6': 3, 'x7': 1, 'x8': 3, 'x9': 3, 'x10': 3, 'x11': 0}. Best is trial 28 with value: -3.410734621886311.\n",
      "[I 2025-07-17 23:05:30,454] Trial 58 finished with value: 4.8240212467742793e-05 and parameters: {'x0': 3, 'x1': 0, 'x2': 2, 'x3': 3, 'x4': 0, 'x5': 1, 'x6': 2, 'x7': 2, 'x8': 2, 'x9': 2, 'x10': 3, 'x11': 1}. Best is trial 28 with value: -3.410734621886311.\n",
      "[I 2025-07-17 23:05:30,501] Trial 59 finished with value: -0.3119890406724053 and parameters: {'x0': 2, 'x1': 1, 'x2': 2, 'x3': 3, 'x4': 0, 'x5': 0, 'x6': 3, 'x7': 1, 'x8': 3, 'x9': 2, 'x10': 2, 'x11': 1}. Best is trial 28 with value: -3.410734621886311.\n",
      "[I 2025-07-17 23:05:30,552] Trial 60 finished with value: 2.7867565405415 and parameters: {'x0': 0, 'x1': 1, 'x2': 2, 'x3': 3, 'x4': 2, 'x5': 0, 'x6': 0, 'x7': 3, 'x8': 3, 'x9': 1, 'x10': 3, 'x11': 1}. Best is trial 28 with value: -3.410734621886311.\n",
      "[I 2025-07-17 23:05:30,601] Trial 61 finished with value: -3.410734621886311 and parameters: {'x0': 2, 'x1': 1, 'x2': 2, 'x3': 3, 'x4': 0, 'x5': 0, 'x6': 3, 'x7': 1, 'x8': 3, 'x9': 2, 'x10': 3, 'x11': 1}. Best is trial 28 with value: -3.410734621886311.\n",
      "[I 2025-07-17 23:05:30,653] Trial 62 finished with value: -3.410734621886311 and parameters: {'x0': 2, 'x1': 1, 'x2': 2, 'x3': 3, 'x4': 0, 'x5': 0, 'x6': 3, 'x7': 1, 'x8': 3, 'x9': 2, 'x10': 3, 'x11': 1}. Best is trial 28 with value: -3.410734621886311.\n",
      "[I 2025-07-17 23:05:30,706] Trial 63 finished with value: -3.410734621886311 and parameters: {'x0': 2, 'x1': 1, 'x2': 2, 'x3': 3, 'x4': 0, 'x5': 0, 'x6': 3, 'x7': 1, 'x8': 3, 'x9': 2, 'x10': 3, 'x11': 1}. Best is trial 28 with value: -3.410734621886311.\n",
      "[I 2025-07-17 23:05:30,759] Trial 64 finished with value: -3.410734621886311 and parameters: {'x0': 2, 'x1': 1, 'x2': 2, 'x3': 3, 'x4': 0, 'x5': 0, 'x6': 3, 'x7': 1, 'x8': 3, 'x9': 2, 'x10': 3, 'x11': 1}. Best is trial 28 with value: -3.410734621886311.\n",
      "[I 2025-07-17 23:05:30,809] Trial 65 finished with value: -3.410734621886311 and parameters: {'x0': 2, 'x1': 1, 'x2': 2, 'x3': 3, 'x4': 0, 'x5': 0, 'x6': 3, 'x7': 1, 'x8': 3, 'x9': 2, 'x10': 3, 'x11': 1}. Best is trial 28 with value: -3.410734621886311.\n",
      "[I 2025-07-17 23:05:30,859] Trial 66 finished with value: -1.9014286128198323 and parameters: {'x0': 3, 'x1': 1, 'x2': 2, 'x3': 3, 'x4': 0, 'x5': 0, 'x6': 3, 'x7': 1, 'x8': 2, 'x9': 0, 'x10': 3, 'x11': 1}. Best is trial 28 with value: -3.410734621886311.\n",
      "[I 2025-07-17 23:05:30,920] Trial 67 finished with value: 0.0 and parameters: {'x0': 2, 'x1': 1, 'x2': 2, 'x3': 3, 'x4': 1, 'x5': 0, 'x6': 3, 'x7': 1, 'x8': 3, 'x9': 2, 'x10': 3, 'x11': 0}. Best is trial 28 with value: -3.410734621886311.\n",
      "[I 2025-07-17 23:05:30,969] Trial 68 finished with value: 0.0 and parameters: {'x0': 2, 'x1': 1, 'x2': 3, 'x3': 2, 'x4': 0, 'x5': 2, 'x6': 3, 'x7': 0, 'x8': 3, 'x9': 1, 'x10': 3, 'x11': 1}. Best is trial 28 with value: -3.410734621886311.\n",
      "[I 2025-07-17 23:05:31,020] Trial 69 finished with value: -1.4639878836228102 and parameters: {'x0': 2, 'x1': 2, 'x2': 1, 'x3': 0, 'x4': 0, 'x5': 1, 'x6': 2, 'x7': 1, 'x8': 2, 'x9': 3, 'x10': 2, 'x11': 2}. Best is trial 28 with value: -3.410734621886311.\n",
      "[I 2025-07-17 23:05:31,065] Trial 70 finished with value: -1.1973169683940732 and parameters: {'x0': 3, 'x1': 0, 'x2': 2, 'x3': 3, 'x4': 0, 'x5': 0, 'x6': 3, 'x7': 1, 'x8': 3, 'x9': 2, 'x10': 3, 'x11': 1}. Best is trial 28 with value: -3.410734621886311.\n",
      "[I 2025-07-17 23:05:31,119] Trial 71 finished with value: -3.410734621886311 and parameters: {'x0': 2, 'x1': 1, 'x2': 2, 'x3': 3, 'x4': 0, 'x5': 0, 'x6': 3, 'x7': 1, 'x8': 3, 'x9': 2, 'x10': 3, 'x11': 1}. Best is trial 28 with value: -3.410734621886311.\n",
      "[I 2025-07-17 23:05:31,173] Trial 72 finished with value: -3.410734621886311 and parameters: {'x0': 2, 'x1': 1, 'x2': 2, 'x3': 3, 'x4': 0, 'x5': 0, 'x6': 3, 'x7': 1, 'x8': 3, 'x9': 2, 'x10': 3, 'x11': 1}. Best is trial 28 with value: -3.410734621886311.\n",
      "[I 2025-07-17 23:05:31,228] Trial 73 finished with value: -3.410734621886311 and parameters: {'x0': 2, 'x1': 1, 'x2': 2, 'x3': 3, 'x4': 0, 'x5': 0, 'x6': 3, 'x7': 1, 'x8': 3, 'x9': 2, 'x10': 3, 'x11': 1}. Best is trial 28 with value: -3.410734621886311.\n",
      "[I 2025-07-17 23:05:31,273] Trial 74 finished with value: -3.410734621886311 and parameters: {'x0': 2, 'x1': 1, 'x2': 2, 'x3': 3, 'x4': 0, 'x5': 0, 'x6': 3, 'x7': 1, 'x8': 3, 'x9': 2, 'x10': 3, 'x11': 1}. Best is trial 28 with value: -3.410734621886311.\n",
      "[I 2025-07-17 23:05:31,314] Trial 75 finished with value: -1.9014286128198323 and parameters: {'x0': 2, 'x1': 1, 'x2': 2, 'x3': 3, 'x4': 0, 'x5': 0, 'x6': 1, 'x7': 1, 'x8': 0, 'x9': 2, 'x10': 3, 'x11': 1}. Best is trial 28 with value: -3.410734621886311.\n",
      "[I 2025-07-17 23:05:31,361] Trial 76 finished with value: -3.410734621886311 and parameters: {'x0': 2, 'x1': 1, 'x2': 2, 'x3': 3, 'x4': 0, 'x5': 0, 'x6': 3, 'x7': 1, 'x8': 3, 'x9': 2, 'x10': 3, 'x11': 1}. Best is trial 28 with value: -3.410734621886311.\n",
      "[I 2025-07-17 23:05:31,405] Trial 77 finished with value: -3.410734621886311 and parameters: {'x0': 2, 'x1': 1, 'x2': 2, 'x3': 3, 'x4': 0, 'x5': 0, 'x6': 3, 'x7': 1, 'x8': 3, 'x9': 1, 'x10': 3, 'x11': 1}. Best is trial 28 with value: -3.410734621886311.\n",
      "[I 2025-07-17 23:05:31,448] Trial 78 finished with value: 0.0 and parameters: {'x0': 1, 'x1': 2, 'x2': 0, 'x3': 3, 'x4': 0, 'x5': 0, 'x6': 3, 'x7': 2, 'x8': 3, 'x9': 2, 'x10': 0, 'x11': 2}. Best is trial 28 with value: -3.410734621886311.\n",
      "[I 2025-07-17 23:05:31,491] Trial 79 finished with value: -1.1973169683940732 and parameters: {'x0': 2, 'x1': 1, 'x2': 2, 'x3': 3, 'x4': 3, 'x5': 0, 'x6': 3, 'x7': 1, 'x8': 3, 'x9': 0, 'x10': 3, 'x11': 1}. Best is trial 28 with value: -3.410734621886311.\n",
      "[I 2025-07-17 23:05:31,537] Trial 80 finished with value: 1.9014286128198323 and parameters: {'x0': 2, 'x1': 1, 'x2': 1, 'x3': 2, 'x4': 0, 'x5': 0, 'x6': 3, 'x7': 0, 'x8': 2, 'x9': 2, 'x10': 2, 'x11': 0}. Best is trial 28 with value: -3.410734621886311.\n",
      "[I 2025-07-17 23:05:31,581] Trial 81 finished with value: -3.410734621886311 and parameters: {'x0': 2, 'x1': 1, 'x2': 2, 'x3': 3, 'x4': 0, 'x5': 0, 'x6': 3, 'x7': 1, 'x8': 3, 'x9': 2, 'x10': 3, 'x11': 1}. Best is trial 28 with value: -3.410734621886311.\n",
      "[I 2025-07-17 23:05:31,626] Trial 82 finished with value: -3.410734621886311 and parameters: {'x0': 2, 'x1': 1, 'x2': 2, 'x3': 3, 'x4': 0, 'x5': 0, 'x6': 3, 'x7': 1, 'x8': 3, 'x9': 2, 'x10': 3, 'x11': 1}. Best is trial 28 with value: -3.410734621886311.\n",
      "[I 2025-07-17 23:05:31,671] Trial 83 finished with value: -3.410734621886311 and parameters: {'x0': 2, 'x1': 1, 'x2': 2, 'x3': 3, 'x4': 0, 'x5': 0, 'x6': 3, 'x7': 1, 'x8': 3, 'x9': 2, 'x10': 3, 'x11': 1}. Best is trial 28 with value: -3.410734621886311.\n",
      "[I 2025-07-17 23:05:31,716] Trial 84 finished with value: 1.0161006850981644 and parameters: {'x0': 2, 'x1': 1, 'x2': 2, 'x3': 3, 'x4': 2, 'x5': 0, 'x6': 3, 'x7': 1, 'x8': 3, 'x9': 2, 'x10': 3, 'x11': 1}. Best is trial 28 with value: -3.410734621886311.\n",
      "[I 2025-07-17 23:05:31,770] Trial 85 finished with value: -3.410734621886311 and parameters: {'x0': 2, 'x1': 1, 'x2': 2, 'x3': 3, 'x4': 0, 'x5': 0, 'x6': 3, 'x7': 1, 'x8': 3, 'x9': 2, 'x10': 3, 'x11': 1}. Best is trial 28 with value: -3.410734621886311.\n",
      "[I 2025-07-17 23:05:31,818] Trial 86 finished with value: -3.410734621886311 and parameters: {'x0': 2, 'x1': 1, 'x2': 2, 'x3': 3, 'x4': 0, 'x5': 1, 'x6': 3, 'x7': 1, 'x8': 3, 'x9': 2, 'x10': 3, 'x11': 1}. Best is trial 28 with value: -3.410734621886311.\n",
      "[I 2025-07-17 23:05:31,865] Trial 87 finished with value: -1.1973169683940732 and parameters: {'x0': 2, 'x1': 1, 'x2': 2, 'x3': 3, 'x4': 1, 'x5': 0, 'x6': 3, 'x7': 1, 'x8': 3, 'x9': 2, 'x10': 3, 'x11': 1}. Best is trial 28 with value: -3.410734621886311.\n",
      "[I 2025-07-17 23:05:31,912] Trial 88 finished with value: 4.8240212467742793e-05 and parameters: {'x0': 2, 'x1': 1, 'x2': 3, 'x3': 3, 'x4': 0, 'x5': 0, 'x6': 3, 'x7': 1, 'x8': 3, 'x9': 3, 'x10': 3, 'x11': 1}. Best is trial 28 with value: -3.410734621886311.\n",
      "[I 2025-07-17 23:05:31,955] Trial 89 finished with value: -3.410734621886311 and parameters: {'x0': 2, 'x1': 1, 'x2': 2, 'x3': 3, 'x4': 0, 'x5': 0, 'x6': 3, 'x7': 1, 'x8': 3, 'x9': 2, 'x10': 3, 'x11': 1}. Best is trial 28 with value: -3.410734621886311.\n",
      "[I 2025-07-17 23:05:31,999] Trial 90 finished with value: 0.31203728088487304 and parameters: {'x0': 1, 'x1': 0, 'x2': 2, 'x3': 2, 'x4': 0, 'x5': 3, 'x6': 2, 'x7': 2, 'x8': 3, 'x9': 2, 'x10': 3, 'x11': 1}. Best is trial 28 with value: -3.410734621886311.\n",
      "[I 2025-07-17 23:05:32,044] Trial 91 finished with value: -3.410734621886311 and parameters: {'x0': 2, 'x1': 1, 'x2': 2, 'x3': 3, 'x4': 0, 'x5': 0, 'x6': 3, 'x7': 1, 'x8': 3, 'x9': 2, 'x10': 3, 'x11': 1}. Best is trial 28 with value: -3.410734621886311.\n",
      "[I 2025-07-17 23:05:32,090] Trial 92 finished with value: -3.410734621886311 and parameters: {'x0': 2, 'x1': 1, 'x2': 2, 'x3': 3, 'x4': 0, 'x5': 0, 'x6': 3, 'x7': 1, 'x8': 3, 'x9': 2, 'x10': 3, 'x11': 1}. Best is trial 28 with value: -3.410734621886311.\n",
      "[I 2025-07-17 23:05:32,138] Trial 93 finished with value: -3.410734621886311 and parameters: {'x0': 2, 'x1': 1, 'x2': 2, 'x3': 3, 'x4': 0, 'x5': 0, 'x6': 3, 'x7': 1, 'x8': 3, 'x9': 2, 'x10': 3, 'x11': 1}. Best is trial 28 with value: -3.410734621886311.\n",
      "[I 2025-07-17 23:05:32,187] Trial 94 finished with value: -3.410734621886311 and parameters: {'x0': 2, 'x1': 1, 'x2': 2, 'x3': 3, 'x4': 0, 'x5': 0, 'x6': 3, 'x7': 1, 'x8': 3, 'x9': 2, 'x10': 3, 'x11': 1}. Best is trial 28 with value: -3.410734621886311.\n",
      "[I 2025-07-17 23:05:32,236] Trial 95 finished with value: -3.410734621886311 and parameters: {'x0': 2, 'x1': 1, 'x2': 2, 'x3': 1, 'x4': 0, 'x5': 0, 'x6': 3, 'x7': 1, 'x8': 3, 'x9': 2, 'x10': 3, 'x11': 1}. Best is trial 28 with value: -3.410734621886311.\n",
      "[I 2025-07-17 23:05:32,285] Trial 96 finished with value: -3.410734621886311 and parameters: {'x0': 2, 'x1': 1, 'x2': 2, 'x3': 3, 'x4': 0, 'x5': 0, 'x6': 3, 'x7': 1, 'x8': 3, 'x9': 2, 'x10': 3, 'x11': 1}. Best is trial 28 with value: -3.410734621886311.\n",
      "[I 2025-07-17 23:05:32,329] Trial 97 finished with value: -3.410734621886311 and parameters: {'x0': 2, 'x1': 1, 'x2': 2, 'x3': 3, 'x4': 0, 'x5': 0, 'x6': 3, 'x7': 1, 'x8': 3, 'x9': 2, 'x10': 3, 'x11': 1}. Best is trial 28 with value: -3.410734621886311.\n",
      "[I 2025-07-17 23:05:32,374] Trial 98 finished with value: -3.410734621886311 and parameters: {'x0': 2, 'x1': 1, 'x2': 2, 'x3': 3, 'x4': 0, 'x5': 0, 'x6': 3, 'x7': 1, 'x8': 3, 'x9': 2, 'x10': 3, 'x11': 1}. Best is trial 28 with value: -3.410734621886311.\n",
      "[I 2025-07-17 23:05:32,416] Trial 99 finished with value: -3.410734621886311 and parameters: {'x0': 2, 'x1': 1, 'x2': 2, 'x3': 3, 'x4': 0, 'x5': 0, 'x6': 3, 'x7': 1, 'x8': 3, 'x9': 1, 'x10': 3, 'x11': 1}. Best is trial 28 with value: -3.410734621886311.\n"
     ]
    },
    {
     "name": "stdout",
     "output_type": "stream",
     "text": [
      "[2, 1, 2, 3, 0, 0, 3, 1, 3, 0, 3, 1]\n"
     ]
    }
   ],
   "source": [
    "# we can perform CAFQA by using the main optimization function \"claptonize\"\n",
    "ks_best, _, energy_best = claptonize_opt2(\n",
    "    paulis,\n",
    "    coeffs,\n",
    "    vqe_pcirc,\n",
    "    n_proc=4,           # total number of processes in parallel\n",
    "    n_starts=4,         # number of random genetic algorithm starts in parallel\n",
    "    n_rounds=1,         # number of budget rounds, if None it will terminate itself\n",
    "    callback=print,     # callback for internal parameter (#iteration, energies, ks) processing\n",
    "    budget=20           # budget per genetic algorithm instance\n",
    ")"
   ]
  },
  {
   "cell_type": "code",
   "execution_count": 6,
   "metadata": {},
   "outputs": [
    {
     "data": {
      "text/plain": [
       "[2, 1, 2, 3, 0, 0, 3, 1, 3, 0, 3, 1]"
      ]
     },
     "execution_count": 6,
     "metadata": {},
     "output_type": "execute_result"
    }
   ],
   "source": [
    "# the best parameters are\n",
    "ks_best"
   ]
  },
  {
   "cell_type": "code",
   "execution_count": 7,
   "metadata": {},
   "outputs": [
    {
     "data": {
      "text/plain": [
       "np.float64(-1.7053673109431555)"
      ]
     },
     "execution_count": 7,
     "metadata": {},
     "output_type": "execute_result"
    }
   ],
   "source": [
    "# with energy\n",
    "energy_best"
   ]
  }
 ],
 "metadata": {
  "kernelspec": {
   "display_name": "venv",
   "language": "python",
   "name": "python3"
  },
  "language_info": {
   "codemirror_mode": {
    "name": "ipython",
    "version": 3
   },
   "file_extension": ".py",
   "mimetype": "text/x-python",
   "name": "python",
   "nbconvert_exporter": "python",
   "pygments_lexer": "ipython3",
   "version": "3.13.2"
  }
 },
 "nbformat": 4,
 "nbformat_minor": 2
}
