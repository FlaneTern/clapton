{
 "cells": [
  {
   "cell_type": "code",
   "execution_count": null,
   "metadata": {},
   "outputs": [
    {
     "name": "stderr",
     "output_type": "stream",
     "text": [
      "d:\\research-impl\\clapton-cafqa-opt\\clapton\\venv\\Lib\\site-packages\\tqdm\\auto.py:21: TqdmWarning: IProgress not found. Please update jupyter and ipywidgets. See https://ipywidgets.readthedocs.io/en/stable/user_install.html\n",
      "  from .autonotebook import tqdm as notebook_tqdm\n"
     ]
    }
   ],
   "source": [
    "import sys\n",
    "sys.path.append(\"../\")\n",
    "from clapton.clapton import claptonize, claptonize_opt\n",
    "from clapton.ansatzes import circular_ansatz\n",
    "from clapton.utils import Results\n",
    "import numpy as np\n",
    "import pickle\n",
    "import time\n",
    "import copy\n",
    "\n",
    "\n",
    "from qiskit_nature.second_quantization.drivers import PySCFDriver\n",
    "from qiskit_nature.second_quantization.problems import ElectronicStructureProblem\n",
    "from qiskit_nature.converters.second_quantization import QubitConverter\n",
    "from qiskit_nature.mappers.second_quantization import JordanWignerMapper\n",
    "from qiskit_nature.algorithms import GroundStateEigensolver\n",
    "from qiskit.algorithms import NumPyMinimumEigensolver\n"
   ]
  },
  {
   "cell_type": "code",
   "execution_count": null,
   "metadata": {},
   "outputs": [],
   "source": [
    "\n",
    "# 1. Set up the molecule using PySCF driver via Qiskit\n",
    "driver = PySCFDriver(atom='H 0 0 0; H 0 0 0.735', basis='sto3g')\n",
    "es_problem = ElectronicStructureProblem(driver)\n",
    "\n",
    "# 2. Build second-quantized Hamiltonian\n",
    "second_q_ops = es_problem.second_q_ops()\n",
    "electronic_hamiltonian = second_q_ops[0]  # The first operator is the Hamiltonian\n",
    "\n",
    "# 3. Map to qubit Hamiltonian using Jordan-Wigner\n",
    "qubit_converter = QubitConverter(mapper=JordanWignerMapper())\n",
    "qubit_op = qubit_converter.convert(electronic_hamiltonian, num_particles=es_problem.num_particles)\n",
    "\n",
    "# 4. Print Pauli terms and coefficients\n",
    "for pauli_term in qubit_op.to_list():\n",
    "    print(pauli_term)\n"
   ]
  },
  {
   "cell_type": "code",
   "execution_count": null,
   "metadata": {},
   "outputs": [],
   "source": [
    "GA_results = Results(\"GA\")\n",
    "optuna_results = Results(\"optuna\")\n"
   ]
  },
  {
   "cell_type": "code",
   "execution_count": null,
   "metadata": {},
   "outputs": [
    {
     "name": "stderr",
     "output_type": "stream",
     "text": [
      "d:\\research-impl\\clapton-cafqa-opt\\clapton\\venv\\Lib\\site-packages\\pygad\\pygad.py:1139: UserWarning: The 'delay_after_gen' parameter is deprecated starting from PyGAD 3.3.0. To delay or pause the evolution after each generation, assign a callback function/method to the 'on_generation' parameter to adds some time delay.\n",
      "  warnings.warn(\"The 'delay_after_gen' parameter is deprecated starting from PyGAD 3.3.0. To delay or pause the evolution after each generation, assign a callback function/method to the 'on_generation' parameter to adds some time delay.\")\n"
     ]
    },
    {
     "name": "stdout",
     "output_type": "stream",
     "text": [
      "STARTING ROUND 0\n",
      "\n",
      "\n",
      "started GA at id None with 1 procs\n",
      "\n"
     ]
    }
   ],
   "source": [
    "# define Hamiltonian, e.g. 3q Heisenberg model with random coefficients\n",
    "paulis_ = [\"XXI\", \"IXX\", \"YYI\", \"IYY\", \"ZZI\", \"IZZ\"]\n",
    "np.random.seed(42)  # You can replace 42 with any integer seed\n",
    "coeffs_ = np.random.random(len(paulis_))\n",
    "\n",
    "vqe_pcirc_ = circular_ansatz(N=len(paulis_[0]), reps=1, fix_2q=True)\n",
    "\n",
    "\n",
    "vqe_pcirc = copy.deepcopy(vqe_pcirc_)\n",
    "paulis = copy.deepcopy(paulis_)\n",
    "coeffs = copy.deepcopy(coeffs_)\n",
    "\n",
    "GA_time = time.time()\n",
    "ks_best, _, energy_best = claptonize(\n",
    "    paulis,\n",
    "    coeffs,\n",
    "    vqe_pcirc,\n",
    "    n_proc=4,           # total number of processes in parallel\n",
    "    n_starts=4,         # number of random genetic algorithm starts in parallel\n",
    "    n_rounds=1,         # number of budget rounds, if None it will terminate itself\n",
    "    # callback=print,     # callback for internal parameter (#iteration, energies, ks) processing\n",
    "    budget=20           # budget per genetic algorithm instance\n",
    ")\n",
    "GA_time = time.time() - GA_time\n",
    "\n",
    "GA_results.add_result(\"-\", paulis, coeffs.tolist(), GA_time, ks_best, float(energy_best))\n",
    "\n",
    "vqe_pcirc = copy.deepcopy(vqe_pcirc_)\n",
    "paulis = copy.deepcopy(paulis_)\n",
    "coeffs = copy.deepcopy(coeffs_)\n",
    "\n",
    "optuna_time = time.time()\n",
    "ks_best, _, energy_best = claptonize_opt(\n",
    "    paulis,\n",
    "    coeffs,\n",
    "    vqe_pcirc,\n",
    ")\n",
    "optuna_time = time.time() - optuna_time\n",
    "optuna_results.add_result(\"-\", paulis, coeffs.tolist(), optuna_time, ks_best, float(energy_best))\n",
    "\n",
    "with open(\"results/GA\", \"wb\") as file:\n",
    "    pickle.dump(GA_results, file)\n",
    "with open(\"results/optuna\", \"wb\") as file:\n",
    "    pickle.dump(optuna_results, file)"
   ]
  }
 ],
 "metadata": {
  "kernelspec": {
   "display_name": "venv",
   "language": "python",
   "name": "python3"
  },
  "language_info": {
   "codemirror_mode": {
    "name": "ipython",
    "version": 3
   },
   "file_extension": ".py",
   "mimetype": "text/x-python",
   "name": "python",
   "nbconvert_exporter": "python",
   "pygments_lexer": "ipython3",
   "version": "3.13.2"
  }
 },
 "nbformat": 4,
 "nbformat_minor": 2
}
