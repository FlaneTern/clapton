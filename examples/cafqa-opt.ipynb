{
 "cells": [
  {
   "cell_type": "code",
   "execution_count": 11,
   "metadata": {},
   "outputs": [
    {
     "ename": "ModuleNotFoundError",
     "evalue": "No module named 'qiskit_nature'",
     "output_type": "error",
     "traceback": [
      "\u001b[31m---------------------------------------------------------------------------\u001b[39m",
      "\u001b[31mModuleNotFoundError\u001b[39m                       Traceback (most recent call last)",
      "\u001b[36mCell\u001b[39m\u001b[36m \u001b[39m\u001b[32mIn[11]\u001b[39m\u001b[32m, line 1\u001b[39m\n\u001b[32m----> \u001b[39m\u001b[32m1\u001b[39m \u001b[38;5;28;01mfrom\u001b[39;00m\u001b[38;5;250m \u001b[39m\u001b[34;01mqiskit_nature\u001b[39;00m\u001b[34;01m.\u001b[39;00m\u001b[34;01msecond_quantization\u001b[39;00m\u001b[34;01m.\u001b[39;00m\u001b[34;01mdrivers\u001b[39;00m\u001b[38;5;250m \u001b[39m\u001b[38;5;28;01mimport\u001b[39;00m PySCFDriver\n\u001b[32m      2\u001b[39m \u001b[38;5;28;01mfrom\u001b[39;00m\u001b[38;5;250m \u001b[39m\u001b[34;01mqiskit_nature\u001b[39;00m\u001b[34;01m.\u001b[39;00m\u001b[34;01msecond_quantization\u001b[39;00m\u001b[34;01m.\u001b[39;00m\u001b[34;01mproblems\u001b[39;00m\u001b[38;5;250m \u001b[39m\u001b[38;5;28;01mimport\u001b[39;00m ElectronicStructureProblem\n\u001b[32m      3\u001b[39m \u001b[38;5;28;01mfrom\u001b[39;00m\u001b[38;5;250m \u001b[39m\u001b[34;01mqiskit_nature\u001b[39;00m\u001b[34;01m.\u001b[39;00m\u001b[34;01mconverters\u001b[39;00m\u001b[34;01m.\u001b[39;00m\u001b[34;01msecond_quantization\u001b[39;00m\u001b[38;5;250m \u001b[39m\u001b[38;5;28;01mimport\u001b[39;00m QubitConverter\n",
      "\u001b[31mModuleNotFoundError\u001b[39m: No module named 'qiskit_nature'"
     ]
    }
   ],
   "source": [
    "from qiskit_nature.second_quantization.drivers import PySCFDriver\n",
    "from qiskit_nature.second_quantization.problems import ElectronicStructureProblem\n",
    "from qiskit_nature.converters.second_quantization import QubitConverter\n",
    "from qiskit_nature.mappers.second_quantization import JordanWignerMapper\n",
    "from qiskit_nature.algorithms import GroundStateEigensolver\n",
    "from qiskit.algorithms import NumPyMinimumEigensolver\n",
    "\n",
    "# 1. Set up the molecule using PySCF driver via Qiskit\n",
    "driver = PySCFDriver(atom='H 0 0 0; H 0 0 0.735', basis='sto3g')\n",
    "es_problem = ElectronicStructureProblem(driver)\n",
    "\n",
    "# 2. Build second-quantized Hamiltonian\n",
    "second_q_ops = es_problem.second_q_ops()\n",
    "electronic_hamiltonian = second_q_ops[0]  # The first operator is the Hamiltonian\n",
    "\n",
    "# 3. Map to qubit Hamiltonian using Jordan-Wigner\n",
    "qubit_converter = QubitConverter(mapper=JordanWignerMapper())\n",
    "qubit_op = qubit_converter.convert(electronic_hamiltonian, num_particles=es_problem.num_particles)\n",
    "\n",
    "# 4. Print Pauli terms and coefficients\n",
    "for pauli_term in qubit_op.to_list():\n",
    "    print(pauli_term)\n"
   ]
  },
  {
   "cell_type": "markdown",
   "metadata": {},
   "source": [
    "# CAFQA"
   ]
  },
  {
   "cell_type": "code",
   "execution_count": 1,
   "metadata": {},
   "outputs": [
    {
     "name": "stderr",
     "output_type": "stream",
     "text": [
      "d:\\research-impl\\clapton\\clapton\\venv\\Lib\\site-packages\\tqdm\\auto.py:21: TqdmWarning: IProgress not found. Please update jupyter and ipywidgets. See https://ipywidgets.readthedocs.io/en/stable/user_install.html\n",
      "  from .autonotebook import tqdm as notebook_tqdm\n"
     ]
    }
   ],
   "source": [
    "import sys\n",
    "sys.path.append(\"../\")\n",
    "from clapton.clapton import claptonize, claptonize_opt, claptonize_opt2\n",
    "from clapton.ansatzes import circular_ansatz\n",
    "import numpy as np"
   ]
  },
  {
   "cell_type": "code",
   "execution_count": 2,
   "metadata": {},
   "outputs": [
    {
     "name": "stdout",
     "output_type": "stream",
     "text": [
      "[0.37454012 0.95071431 0.73199394 0.59865848 0.15601864 0.15599452]\n"
     ]
    }
   ],
   "source": [
    "# define Hamiltonian, e.g. 3q Heisenberg model with random coefficients\n",
    "paulis = [\"XXI\", \"IXX\", \"YYI\", \"IYY\", \"ZZI\", \"IZZ\"]\n",
    "np.random.seed(42)  # You can replace 42 with any integer seed\n",
    "coeffs = np.random.random(len(paulis))\n",
    "# coeffs = np.ones((len(paulis)))\n",
    "print(coeffs)"
   ]
  },
  {
   "cell_type": "code",
   "execution_count": 3,
   "metadata": {},
   "outputs": [],
   "source": [
    "# define parametrized Clifford circuit that is being optimized over\n",
    "# here we use the circular_ansatz template\n",
    "# we fix 2q gates as they will not be optimized over\n",
    "vqe_pcirc = circular_ansatz(N=len(paulis[0]), reps=1, fix_2q=True)"
   ]
  },
  {
   "cell_type": "code",
   "execution_count": 4,
   "metadata": {},
   "outputs": [
    {
     "name": "stdout",
     "output_type": "stream",
     "text": [
      "RY False\n",
      "RY False\n",
      "RY False\n",
      "RZ False\n",
      "RZ False\n",
      "RZ False\n",
      "2Q True\n",
      "2Q True\n",
      "2Q True\n",
      "RY False\n",
      "RY False\n",
      "RY False\n",
      "RZ False\n",
      "RZ False\n",
      "RZ False\n"
     ]
    }
   ],
   "source": [
    "# the circuit consists of parametrized gates\n",
    "for gate in vqe_pcirc.gates:\n",
    "    print(gate.label, gate.is_fixed())"
   ]
  },
  {
   "cell_type": "code",
   "execution_count": 5,
   "metadata": {},
   "outputs": [],
   "source": [
    "# non-fixed gates will be optimized over\n",
    "# RY and RZ gates can assume 4 values k = 0,1,2,3 which descripe multiples of pi/2"
   ]
  },
  {
   "cell_type": "code",
   "execution_count": 6,
   "metadata": {},
   "outputs": [
    {
     "data": {
      "text/plain": [
       "[0, 0, 0, 0, 0, 0, 0, 0, 0, 0, 0, 0]"
      ]
     },
     "execution_count": 6,
     "metadata": {},
     "output_type": "execute_result"
    }
   ],
   "source": [
    "# the initial parameters are all 0\n",
    "vqe_pcirc.read()"
   ]
  },
  {
   "cell_type": "code",
   "execution_count": 7,
   "metadata": {},
   "outputs": [
    {
     "data": {
      "text/html": [
       "<pre>q0: -I-I-X-@-I-I---\n",
       "         | |\n",
       "q1: -I-I-|-X-@-I-I-\n",
       "         |   |\n",
       "q2: -I-I-@---X-I-I-</pre>"
      ],
      "text/plain": [
       "q0: -I-I-X-@-I-I---\n",
       "         | |\n",
       "q1: -I-I-|-X-@-I-I-\n",
       "         |   |\n",
       "q2: -I-I-@---X-I-I-"
      ]
     },
     "execution_count": 7,
     "metadata": {},
     "output_type": "execute_result"
    }
   ],
   "source": [
    "# we can look at the corresponding stim circuit\n",
    "vqe_pcirc.stim_circuit().diagram()"
   ]
  },
  {
   "cell_type": "code",
   "execution_count": 8,
   "metadata": {},
   "outputs": [
    {
     "data": {
      "text/plain": [
       "<clapton.clifford.ParametrizedCliffordCircuit at 0x1ca7be95d30>"
      ]
     },
     "execution_count": 8,
     "metadata": {},
     "output_type": "execute_result"
    }
   ],
   "source": [
    "# we can assign a different set of parameters\n",
    "vqe_pcirc.assign([0,1,2,3,0,1,2,3,0,1,2,3])"
   ]
  },
  {
   "cell_type": "code",
   "execution_count": 9,
   "metadata": {},
   "outputs": [
    {
     "data": {
      "text/html": [
       "<pre>q0: -I------S_DAG-X-@-Y-S----------------\n",
       "                  | |\n",
       "q1: -SQRT_Y-I-----|-X-@-SQRT_Y_DAG-Z-----\n",
       "                  |   |\n",
       "q2: -Y------S-----@---X-I----------S_DAG-</pre>"
      ],
      "text/plain": [
       "q0: -I------S_DAG-X-@-Y-S----------------\n",
       "                  | |\n",
       "q1: -SQRT_Y-I-----|-X-@-SQRT_Y_DAG-Z-----\n",
       "                  |   |\n",
       "q2: -Y------S-----@---X-I----------S_DAG-"
      ]
     },
     "execution_count": 9,
     "metadata": {},
     "output_type": "execute_result"
    }
   ],
   "source": [
    "vqe_pcirc.stim_circuit().diagram()"
   ]
  },
  {
   "cell_type": "code",
   "execution_count": 10,
   "metadata": {},
   "outputs": [
    {
     "name": "stderr",
     "output_type": "stream",
     "text": [
      "[I 2025-07-17 22:38:56,615] A new study created in memory with name: no-name-0bc7c60b-d2f4-4230-8b47-0424f1a0c3e8\n",
      "[I 2025-07-17 22:38:56,625] Trial 0 finished with value: 0.0 and parameters: {'x0': 1, 'x1': 3, 'x2': 2, 'x3': 2, 'x4': 0, 'x5': 0, 'x6': 0, 'x7': 3, 'x8': 2, 'x9': 2, 'x10': 0, 'x11': 3}. Best is trial 0 with value: 0.0.\n",
      "[I 2025-07-17 22:38:56,634] Trial 1 finished with value: 0.0 and parameters: {'x0': 3, 'x1': 0, 'x2': 0, 'x3': 0, 'x4': 1, 'x5': 2, 'x6': 1, 'x7': 1, 'x8': 2, 'x9': 0, 'x10': 1, 'x11': 1}. Best is trial 0 with value: 0.0.\n",
      "[I 2025-07-17 22:38:56,645] Trial 2 finished with value: -0.39212260375335384 and parameters: {'x0': 1, 'x1': 3, 'x2': 0, 'x3': 2, 'x4': 2, 'x5': 0, 'x6': 2, 'x7': 0, 'x8': 0, 'x9': 3, 'x10': 3, 'x11': 3}. Best is trial 2 with value: -0.39212260375335384.\n",
      "[I 2025-07-17 22:38:56,655] Trial 3 finished with value: 0.0 and parameters: {'x0': 1, 'x1': 0, 'x2': 2, 'x3': 1, 'x4': 0, 'x5': 1, 'x6': 0, 'x7': 3, 'x8': 1, 'x9': 2, 'x10': 1, 'x11': 2}. Best is trial 2 with value: -0.39212260375335384.\n",
      "[I 2025-07-17 22:38:56,665] Trial 4 finished with value: 0.0 and parameters: {'x0': 2, 'x1': 0, 'x2': 3, 'x3': 3, 'x4': 3, 'x5': 3, 'x6': 2, 'x7': 3, 'x8': 0, 'x9': 0, 'x10': 0, 'x11': 1}. Best is trial 2 with value: -0.39212260375335384.\n",
      "[I 2025-07-17 22:38:56,675] Trial 5 finished with value: -0.3119890406724053 and parameters: {'x0': 1, 'x1': 1, 'x2': 3, 'x3': 1, 'x4': 1, 'x5': 2, 'x6': 0, 'x7': 3, 'x8': 0, 'x9': 3, 'x10': 3, 'x11': 0}. Best is trial 2 with value: -0.39212260375335384.\n",
      "[I 2025-07-17 22:38:56,683] Trial 6 finished with value: 1.1973169683940732 and parameters: {'x0': 0, 'x1': 3, 'x2': 2, 'x3': 2, 'x4': 3, 'x5': 0, 'x6': 1, 'x7': 0, 'x8': 3, 'x9': 2, 'x10': 1, 'x11': 0}. Best is trial 2 with value: -0.39212260375335384.\n",
      "[I 2025-07-17 22:38:56,692] Trial 7 finished with value: 0.0 and parameters: {'x0': 1, 'x1': 1, 'x2': 2, 'x3': 2, 'x4': 3, 'x5': 1, 'x6': 0, 'x7': 2, 'x8': 3, 'x9': 2, 'x10': 3, 'x11': 1}. Best is trial 2 with value: -0.39212260375335384.\n",
      "[I 2025-07-17 22:38:56,703] Trial 8 finished with value: 1.9014286128198323 and parameters: {'x0': 2, 'x1': 1, 'x2': 0, 'x3': 0, 'x4': 0, 'x5': 2, 'x6': 1, 'x7': 2, 'x8': 3, 'x9': 0, 'x10': 1, 'x11': 3}. Best is trial 2 with value: -0.39212260375335384.\n",
      "[I 2025-07-17 22:38:56,713] Trial 9 finished with value: 0.749080237694725 and parameters: {'x0': 0, 'x1': 0, 'x2': 1, 'x3': 0, 'x4': 3, 'x5': 3, 'x6': 2, 'x7': 3, 'x8': 3, 'x9': 0, 'x10': 3, 'x11': 2}. Best is trial 2 with value: -0.39212260375335384.\n",
      "[I 2025-07-17 22:38:56,722] Trial 10 finished with value: 1.1973169683940732 and parameters: {'x0': 3, 'x1': 3, 'x2': 1, 'x3': 0, 'x4': 0, 'x5': 1, 'x6': 3, 'x7': 3, 'x8': 0, 'x9': 2, 'x10': 1, 'x11': 0}. Best is trial 2 with value: -0.39212260375335384.\n",
      "[I 2025-07-17 22:38:56,732] Trial 11 finished with value: -0.6240263215572783 and parameters: {'x0': 0, 'x1': 1, 'x2': 3, 'x3': 1, 'x4': 2, 'x5': 2, 'x6': 1, 'x7': 3, 'x8': 3, 'x9': 1, 'x10': 1, 'x11': 1}. Best is trial 11 with value: -0.6240263215572783.\n",
      "[I 2025-07-17 22:38:56,741] Trial 12 finished with value: -0.3119890406724053 and parameters: {'x0': 1, 'x1': 0, 'x2': 2, 'x3': 2, 'x4': 0, 'x5': 1, 'x6': 3, 'x7': 0, 'x8': 0, 'x9': 1, 'x10': 3, 'x11': 0}. Best is trial 11 with value: -0.6240263215572783.\n",
      "[I 2025-07-17 22:38:56,750] Trial 13 finished with value: -3.410734621886311 and parameters: {'x0': 2, 'x1': 3, 'x2': 0, 'x3': 2, 'x4': 1, 'x5': 2, 'x6': 2, 'x7': 2, 'x8': 0, 'x9': 3, 'x10': 1, 'x11': 0}. Best is trial 13 with value: -3.410734621886311.\n",
      "[I 2025-07-17 22:38:56,759] Trial 14 finished with value: 0.6240263215572783 and parameters: {'x0': 0, 'x1': 2, 'x2': 2, 'x3': 0, 'x4': 2, 'x5': 0, 'x6': 2, 'x7': 0, 'x8': 2, 'x9': 1, 'x10': 3, 'x11': 0}. Best is trial 13 with value: -3.410734621886311.\n",
      "[I 2025-07-17 22:38:56,770] Trial 15 finished with value: -1.4639878836228102 and parameters: {'x0': 1, 'x1': 0, 'x2': 3, 'x3': 3, 'x4': 1, 'x5': 2, 'x6': 3, 'x7': 2, 'x8': 2, 'x9': 0, 'x10': 0, 'x11': 3}. Best is trial 13 with value: -3.410734621886311.\n",
      "[I 2025-07-17 22:38:56,779] Trial 16 finished with value: -0.749080237694725 and parameters: {'x0': 3, 'x1': 2, 'x2': 1, 'x3': 1, 'x4': 2, 'x5': 3, 'x6': 3, 'x7': 3, 'x8': 2, 'x9': 0, 'x10': 0, 'x11': 3}. Best is trial 13 with value: -3.410734621886311.\n",
      "[I 2025-07-17 22:38:56,788] Trial 17 finished with value: 0.6240263215572783 and parameters: {'x0': 2, 'x1': 0, 'x2': 0, 'x3': 2, 'x4': 0, 'x5': 0, 'x6': 2, 'x7': 2, 'x8': 2, 'x9': 0, 'x10': 2, 'x11': 0}. Best is trial 13 with value: -3.410734621886311.\n",
      "[I 2025-07-17 22:38:56,797] Trial 18 finished with value: 1.1973169683940732 and parameters: {'x0': 1, 'x1': 2, 'x2': 2, 'x3': 3, 'x4': 2, 'x5': 2, 'x6': 0, 'x7': 1, 'x8': 1, 'x9': 0, 'x10': 3, 'x11': 1}. Best is trial 13 with value: -3.410734621886311.\n",
      "[I 2025-07-17 22:38:56,806] Trial 19 finished with value: 0.31203728088487304 and parameters: {'x0': 3, 'x1': 2, 'x2': 3, 'x3': 2, 'x4': 2, 'x5': 1, 'x6': 0, 'x7': 2, 'x8': 1, 'x9': 0, 'x10': 2, 'x11': 0}. Best is trial 13 with value: -3.410734621886311.\n",
      "[I 2025-07-17 22:38:56,815] Trial 20 finished with value: -0.3119890406724053 and parameters: {'x0': 3, 'x1': 3, 'x2': 3, 'x3': 1, 'x4': 0, 'x5': 3, 'x6': 1, 'x7': 3, 'x8': 3, 'x9': 3, 'x10': 1, 'x11': 1}. Best is trial 13 with value: -3.410734621886311.\n",
      "[I 2025-07-17 22:38:56,825] Trial 21 finished with value: -0.3119890406724053 and parameters: {'x0': 3, 'x1': 1, 'x2': 0, 'x3': 2, 'x4': 3, 'x5': 2, 'x6': 2, 'x7': 0, 'x8': 2, 'x9': 3, 'x10': 0, 'x11': 2}. Best is trial 13 with value: -3.410734621886311.\n",
      "[I 2025-07-17 22:38:56,835] Trial 22 finished with value: -1.9014286128198323 and parameters: {'x0': 3, 'x1': 2, 'x2': 2, 'x3': 2, 'x4': 1, 'x5': 1, 'x6': 3, 'x7': 3, 'x8': 3, 'x9': 3, 'x10': 2, 'x11': 2}. Best is trial 13 with value: -3.410734621886311.\n",
      "[I 2025-07-17 22:38:56,844] Trial 23 finished with value: 0.3119890406724053 and parameters: {'x0': 3, 'x1': 2, 'x2': 2, 'x3': 3, 'x4': 3, 'x5': 1, 'x6': 1, 'x7': 0, 'x8': 2, 'x9': 0, 'x10': 1, 'x11': 2}. Best is trial 13 with value: -3.410734621886311.\n",
      "[I 2025-07-17 22:38:56,854] Trial 24 finished with value: 0.31203728088487304 and parameters: {'x0': 1, 'x1': 2, 'x2': 0, 'x3': 0, 'x4': 3, 'x5': 1, 'x6': 0, 'x7': 2, 'x8': 3, 'x9': 0, 'x10': 2, 'x11': 0}. Best is trial 13 with value: -3.410734621886311.\n",
      "[I 2025-07-17 22:38:56,863] Trial 25 finished with value: 0.0 and parameters: {'x0': 0, 'x1': 2, 'x2': 2, 'x3': 2, 'x4': 2, 'x5': 3, 'x6': 2, 'x7': 1, 'x8': 3, 'x9': 1, 'x10': 1, 'x11': 0}. Best is trial 13 with value: -3.410734621886311.\n",
      "[I 2025-07-17 22:38:56,873] Trial 26 finished with value: 0.0 and parameters: {'x0': 0, 'x1': 3, 'x2': 3, 'x3': 2, 'x4': 1, 'x5': 0, 'x6': 0, 'x7': 1, 'x8': 2, 'x9': 2, 'x10': 2, 'x11': 1}. Best is trial 13 with value: -3.410734621886311.\n",
      "[I 2025-07-17 22:38:56,882] Trial 27 finished with value: 0.749080237694725 and parameters: {'x0': 3, 'x1': 2, 'x2': 2, 'x3': 2, 'x4': 1, 'x5': 0, 'x6': 1, 'x7': 3, 'x8': 0, 'x9': 0, 'x10': 0, 'x11': 0}. Best is trial 13 with value: -3.410734621886311.\n",
      "[I 2025-07-17 22:38:56,891] Trial 28 finished with value: 0.0 and parameters: {'x0': 3, 'x1': 2, 'x2': 1, 'x3': 0, 'x4': 1, 'x5': 1, 'x6': 0, 'x7': 1, 'x8': 1, 'x9': 2, 'x10': 2, 'x11': 0}. Best is trial 13 with value: -3.410734621886311.\n",
      "[I 2025-07-17 22:38:56,901] Trial 29 finished with value: 0.6240263215572783 and parameters: {'x0': 1, 'x1': 2, 'x2': 2, 'x3': 3, 'x4': 2, 'x5': 0, 'x6': 0, 'x7': 2, 'x8': 0, 'x9': 2, 'x10': 3, 'x11': 2}. Best is trial 13 with value: -3.410734621886311.\n",
      "[I 2025-07-17 22:38:56,910] Trial 30 finished with value: -0.749080237694725 and parameters: {'x0': 1, 'x1': 2, 'x2': 1, 'x3': 2, 'x4': 3, 'x5': 1, 'x6': 3, 'x7': 3, 'x8': 0, 'x9': 0, 'x10': 0, 'x11': 0}. Best is trial 13 with value: -3.410734621886311.\n",
      "[I 2025-07-17 22:38:56,920] Trial 31 finished with value: 0.749080237694725 and parameters: {'x0': 0, 'x1': 2, 'x2': 0, 'x3': 1, 'x4': 3, 'x5': 0, 'x6': 3, 'x7': 1, 'x8': 0, 'x9': 2, 'x10': 2, 'x11': 3}. Best is trial 13 with value: -3.410734621886311.\n",
      "[I 2025-07-17 22:38:56,929] Trial 32 finished with value: 0.0 and parameters: {'x0': 2, 'x1': 3, 'x2': 1, 'x3': 0, 'x4': 3, 'x5': 3, 'x6': 3, 'x7': 1, 'x8': 1, 'x9': 3, 'x10': 1, 'x11': 3}. Best is trial 13 with value: -3.410734621886311.\n",
      "[I 2025-07-17 22:38:56,938] Trial 33 finished with value: 4.8240212467742793e-05 and parameters: {'x0': 3, 'x1': 1, 'x2': 3, 'x3': 3, 'x4': 0, 'x5': 3, 'x6': 2, 'x7': 3, 'x8': 1, 'x9': 3, 'x10': 1, 'x11': 0}. Best is trial 13 with value: -3.410734621886311.\n",
      "[I 2025-07-17 22:38:56,946] Trial 34 finished with value: 0.0 and parameters: {'x0': 3, 'x1': 0, 'x2': 1, 'x3': 3, 'x4': 3, 'x5': 2, 'x6': 2, 'x7': 1, 'x8': 1, 'x9': 1, 'x10': 2, 'x11': 3}. Best is trial 13 with value: -3.410734621886311.\n",
      "[I 2025-07-17 22:38:56,956] Trial 35 finished with value: 0.3119890406724053 and parameters: {'x0': 3, 'x1': 3, 'x2': 0, 'x3': 1, 'x4': 0, 'x5': 2, 'x6': 1, 'x7': 3, 'x8': 1, 'x9': 0, 'x10': 0, 'x11': 3}. Best is trial 13 with value: -3.410734621886311.\n",
      "[I 2025-07-17 22:38:56,966] Trial 36 finished with value: -4.8240212467742793e-05 and parameters: {'x0': 2, 'x1': 0, 'x2': 0, 'x3': 2, 'x4': 0, 'x5': 3, 'x6': 2, 'x7': 0, 'x8': 0, 'x9': 3, 'x10': 1, 'x11': 1}. Best is trial 13 with value: -3.410734621886311.\n",
      "[I 2025-07-17 22:38:56,975] Trial 37 finished with value: 0.0 and parameters: {'x0': 3, 'x1': 3, 'x2': 3, 'x3': 3, 'x4': 1, 'x5': 0, 'x6': 3, 'x7': 2, 'x8': 1, 'x9': 3, 'x10': 0, 'x11': 1}. Best is trial 13 with value: -3.410734621886311.\n",
      "[I 2025-07-17 22:38:56,985] Trial 38 finished with value: 1.9014286128198323 and parameters: {'x0': 0, 'x1': 1, 'x2': 0, 'x3': 0, 'x4': 0, 'x5': 2, 'x6': 2, 'x7': 2, 'x8': 3, 'x9': 1, 'x10': 1, 'x11': 3}. Best is trial 13 with value: -3.410734621886311.\n",
      "[I 2025-07-17 22:38:56,994] Trial 39 finished with value: 0.0 and parameters: {'x0': 0, 'x1': 3, 'x2': 0, 'x3': 3, 'x4': 0, 'x5': 3, 'x6': 2, 'x7': 3, 'x8': 0, 'x9': 2, 'x10': 3, 'x11': 2}. Best is trial 13 with value: -3.410734621886311.\n",
      "[I 2025-07-17 22:38:57,002] Trial 40 finished with value: 0.0 and parameters: {'x0': 2, 'x1': 2, 'x2': 1, 'x3': 2, 'x4': 2, 'x5': 3, 'x6': 0, 'x7': 1, 'x8': 3, 'x9': 3, 'x10': 1, 'x11': 2}. Best is trial 13 with value: -3.410734621886311.\n",
      "[I 2025-07-17 22:38:57,011] Trial 41 finished with value: 0.31203728088487304 and parameters: {'x0': 1, 'x1': 0, 'x2': 1, 'x3': 1, 'x4': 2, 'x5': 0, 'x6': 3, 'x7': 3, 'x8': 2, 'x9': 2, 'x10': 1, 'x11': 3}. Best is trial 13 with value: -3.410734621886311.\n",
      "[I 2025-07-17 22:38:57,022] Trial 42 finished with value: 0.0 and parameters: {'x0': 2, 'x1': 0, 'x2': 3, 'x3': 3, 'x4': 3, 'x5': 2, 'x6': 2, 'x7': 1, 'x8': 3, 'x9': 3, 'x10': 0, 'x11': 0}. Best is trial 13 with value: -3.410734621886311.\n",
      "[I 2025-07-17 22:38:57,032] Trial 43 finished with value: 0.3119890406724053 and parameters: {'x0': 1, 'x1': 3, 'x2': 3, 'x3': 0, 'x4': 2, 'x5': 1, 'x6': 3, 'x7': 3, 'x8': 3, 'x9': 1, 'x10': 1, 'x11': 1}. Best is trial 13 with value: -3.410734621886311.\n",
      "[I 2025-07-17 22:38:57,044] Trial 44 finished with value: 0.31203728088487304 and parameters: {'x0': 0, 'x1': 3, 'x2': 3, 'x3': 3, 'x4': 3, 'x5': 2, 'x6': 3, 'x7': 3, 'x8': 3, 'x9': 0, 'x10': 1, 'x11': 0}. Best is trial 13 with value: -3.410734621886311.\n",
      "[I 2025-07-17 22:38:57,054] Trial 45 finished with value: 0.6240263215572783 and parameters: {'x0': 3, 'x1': 2, 'x2': 0, 'x3': 2, 'x4': 2, 'x5': 1, 'x6': 0, 'x7': 2, 'x8': 2, 'x9': 3, 'x10': 2, 'x11': 3}. Best is trial 13 with value: -3.410734621886311.\n",
      "[I 2025-07-17 22:38:57,064] Trial 46 finished with value: -1.4639878836228102 and parameters: {'x0': 2, 'x1': 2, 'x2': 3, 'x3': 1, 'x4': 0, 'x5': 0, 'x6': 3, 'x7': 2, 'x8': 2, 'x9': 0, 'x10': 0, 'x11': 0}. Best is trial 13 with value: -3.410734621886311.\n",
      "[I 2025-07-17 22:38:57,073] Trial 47 finished with value: 0.0 and parameters: {'x0': 1, 'x1': 2, 'x2': 1, 'x3': 1, 'x4': 3, 'x5': 1, 'x6': 2, 'x7': 3, 'x8': 1, 'x9': 2, 'x10': 3, 'x11': 3}. Best is trial 13 with value: -3.410734621886311.\n",
      "[I 2025-07-17 22:38:57,084] Trial 48 finished with value: 0.0 and parameters: {'x0': 0, 'x1': 3, 'x2': 1, 'x3': 1, 'x4': 1, 'x5': 3, 'x6': 1, 'x7': 1, 'x8': 2, 'x9': 0, 'x10': 0, 'x11': 0}. Best is trial 13 with value: -3.410734621886311.\n",
      "[I 2025-07-17 22:38:57,092] Trial 49 finished with value: -0.749080237694725 and parameters: {'x0': 0, 'x1': 0, 'x2': 0, 'x3': 2, 'x4': 0, 'x5': 1, 'x6': 3, 'x7': 1, 'x8': 2, 'x9': 0, 'x10': 0, 'x11': 0}. Best is trial 13 with value: -3.410734621886311.\n",
      "[I 2025-07-17 22:38:57,102] Trial 50 finished with value: 0.0 and parameters: {'x0': 0, 'x1': 1, 'x2': 0, 'x3': 0, 'x4': 0, 'x5': 1, 'x6': 0, 'x7': 1, 'x8': 2, 'x9': 2, 'x10': 0, 'x11': 3}. Best is trial 13 with value: -3.410734621886311.\n",
      "[I 2025-07-17 22:38:57,111] Trial 51 finished with value: -1.4639878836228102 and parameters: {'x0': 2, 'x1': 0, 'x2': 3, 'x3': 3, 'x4': 0, 'x5': 1, 'x6': 3, 'x7': 2, 'x8': 0, 'x9': 0, 'x10': 1, 'x11': 1}. Best is trial 13 with value: -3.410734621886311.\n",
      "[I 2025-07-17 22:38:57,121] Trial 52 finished with value: 0.0 and parameters: {'x0': 2, 'x1': 1, 'x2': 1, 'x3': 2, 'x4': 0, 'x5': 1, 'x6': 2, 'x7': 3, 'x8': 2, 'x9': 2, 'x10': 0, 'x11': 1}. Best is trial 13 with value: -3.410734621886311.\n",
      "[I 2025-07-17 22:38:57,131] Trial 53 finished with value: -1.4639878836228102 and parameters: {'x0': 2, 'x1': 0, 'x2': 1, 'x3': 1, 'x4': 0, 'x5': 1, 'x6': 0, 'x7': 1, 'x8': 0, 'x9': 3, 'x10': 2, 'x11': 2}. Best is trial 13 with value: -3.410734621886311.\n",
      "[I 2025-07-17 22:38:57,140] Trial 54 finished with value: 1.1973169683940732 and parameters: {'x0': 3, 'x1': 1, 'x2': 0, 'x3': 2, 'x4': 2, 'x5': 2, 'x6': 1, 'x7': 0, 'x8': 1, 'x9': 1, 'x10': 2, 'x11': 2}. Best is trial 13 with value: -3.410734621886311.\n",
      "[I 2025-07-17 22:38:57,149] Trial 55 finished with value: -0.3119890406724053 and parameters: {'x0': 1, 'x1': 3, 'x2': 2, 'x3': 0, 'x4': 0, 'x5': 0, 'x6': 0, 'x7': 0, 'x8': 0, 'x9': 1, 'x10': 0, 'x11': 3}. Best is trial 13 with value: -3.410734621886311.\n",
      "[I 2025-07-17 22:38:57,159] Trial 56 finished with value: 0.0 and parameters: {'x0': 0, 'x1': 2, 'x2': 1, 'x3': 3, 'x4': 0, 'x5': 1, 'x6': 3, 'x7': 3, 'x8': 3, 'x9': 1, 'x10': 0, 'x11': 2}. Best is trial 13 with value: -3.410734621886311.\n",
      "[I 2025-07-17 22:38:57,168] Trial 57 finished with value: -0.749080237694725 and parameters: {'x0': 3, 'x1': 2, 'x2': 2, 'x3': 1, 'x4': 3, 'x5': 0, 'x6': 1, 'x7': 1, 'x8': 2, 'x9': 0, 'x10': 0, 'x11': 2}. Best is trial 13 with value: -3.410734621886311.\n",
      "[I 2025-07-17 22:38:57,177] Trial 58 finished with value: 0.3119890406724053 and parameters: {'x0': 1, 'x1': 2, 'x2': 0, 'x3': 1, 'x4': 2, 'x5': 0, 'x6': 1, 'x7': 0, 'x8': 0, 'x9': 3, 'x10': 1, 'x11': 3}. Best is trial 13 with value: -3.410734621886311.\n",
      "[I 2025-07-17 22:38:57,187] Trial 59 finished with value: 0.0 and parameters: {'x0': 1, 'x1': 2, 'x2': 3, 'x3': 2, 'x4': 1, 'x5': 1, 'x6': 1, 'x7': 3, 'x8': 3, 'x9': 3, 'x10': 0, 'x11': 2}. Best is trial 13 with value: -3.410734621886311.\n",
      "[I 2025-07-17 22:38:57,196] Trial 60 finished with value: 0.0 and parameters: {'x0': 3, 'x1': 0, 'x2': 0, 'x3': 2, 'x4': 2, 'x5': 3, 'x6': 0, 'x7': 3, 'x8': 0, 'x9': 0, 'x10': 0, 'x11': 3}. Best is trial 13 with value: -3.410734621886311.\n",
      "[I 2025-07-17 22:38:57,206] Trial 61 finished with value: 0.0 and parameters: {'x0': 2, 'x1': 2, 'x2': 1, 'x3': 3, 'x4': 1, 'x5': 3, 'x6': 1, 'x7': 1, 'x8': 1, 'x9': 1, 'x10': 2, 'x11': 2}. Best is trial 13 with value: -3.410734621886311.\n",
      "[I 2025-07-17 22:38:57,216] Trial 62 finished with value: 0.0 and parameters: {'x0': 0, 'x1': 3, 'x2': 1, 'x3': 2, 'x4': 3, 'x5': 2, 'x6': 0, 'x7': 3, 'x8': 2, 'x9': 1, 'x10': 0, 'x11': 3}. Best is trial 13 with value: -3.410734621886311.\n",
      "[I 2025-07-17 22:38:57,225] Trial 63 finished with value: -0.40287036504321216 and parameters: {'x0': 2, 'x1': 2, 'x2': 3, 'x3': 3, 'x4': 0, 'x5': 1, 'x6': 0, 'x7': 2, 'x8': 0, 'x9': 2, 'x10': 3, 'x11': 3}. Best is trial 13 with value: -3.410734621886311.\n",
      "[I 2025-07-17 22:38:57,235] Trial 64 finished with value: -0.39212260375335384 and parameters: {'x0': 1, 'x1': 3, 'x2': 0, 'x3': 3, 'x4': 0, 'x5': 1, 'x6': 3, 'x7': 0, 'x8': 0, 'x9': 2, 'x10': 2, 'x11': 2}. Best is trial 13 with value: -3.410734621886311.\n",
      "[I 2025-07-17 22:38:57,244] Trial 65 finished with value: -1.4639878836228102 and parameters: {'x0': 2, 'x1': 2, 'x2': 1, 'x3': 1, 'x4': 0, 'x5': 3, 'x6': 2, 'x7': 1, 'x8': 1, 'x9': 3, 'x10': 0, 'x11': 2}. Best is trial 13 with value: -3.410734621886311.\n",
      "[I 2025-07-17 22:38:57,254] Trial 66 finished with value: 0.0 and parameters: {'x0': 2, 'x1': 2, 'x2': 0, 'x3': 3, 'x4': 3, 'x5': 2, 'x6': 2, 'x7': 3, 'x8': 2, 'x9': 0, 'x10': 2, 'x11': 2}. Best is trial 13 with value: -3.410734621886311.\n",
      "[I 2025-07-17 22:38:57,263] Trial 67 finished with value: -2.525105402202408 and parameters: {'x0': 1, 'x1': 2, 'x2': 3, 'x3': 3, 'x4': 1, 'x5': 0, 'x6': 3, 'x7': 3, 'x8': 0, 'x9': 3, 'x10': 3, 'x11': 2}. Best is trial 13 with value: -3.410734621886311.\n",
      "[I 2025-07-17 22:38:57,275] Trial 68 finished with value: 0.0 and parameters: {'x0': 2, 'x1': 1, 'x2': 0, 'x3': 1, 'x4': 3, 'x5': 0, 'x6': 1, 'x7': 1, 'x8': 2, 'x9': 3, 'x10': 1, 'x11': 1}. Best is trial 13 with value: -3.410734621886311.\n",
      "[I 2025-07-17 22:38:57,284] Trial 69 finished with value: -3.410734621886311 and parameters: {'x0': 2, 'x1': 1, 'x2': 0, 'x3': 1, 'x4': 0, 'x5': 0, 'x6': 1, 'x7': 1, 'x8': 3, 'x9': 1, 'x10': 2, 'x11': 2}. Best is trial 13 with value: -3.410734621886311.\n",
      "[I 2025-07-17 22:38:57,294] Trial 70 finished with value: 0.0 and parameters: {'x0': 0, 'x1': 2, 'x2': 0, 'x3': 3, 'x4': 0, 'x5': 1, 'x6': 0, 'x7': 3, 'x8': 2, 'x9': 2, 'x10': 0, 'x11': 2}. Best is trial 13 with value: -3.410734621886311.\n",
      "[I 2025-07-17 22:38:57,307] Trial 71 finished with value: 0.0 and parameters: {'x0': 0, 'x1': 3, 'x2': 0, 'x3': 0, 'x4': 0, 'x5': 1, 'x6': 2, 'x7': 0, 'x8': 3, 'x9': 1, 'x10': 2, 'x11': 1}. Best is trial 13 with value: -3.410734621886311.\n",
      "[I 2025-07-17 22:38:57,319] Trial 72 finished with value: 0.0 and parameters: {'x0': 1, 'x1': 2, 'x2': 0, 'x3': 0, 'x4': 3, 'x5': 3, 'x6': 1, 'x7': 1, 'x8': 2, 'x9': 1, 'x10': 0, 'x11': 0}. Best is trial 13 with value: -3.410734621886311.\n",
      "[I 2025-07-17 22:38:57,327] Trial 73 finished with value: -0.31203728088487304 and parameters: {'x0': 2, 'x1': 2, 'x2': 0, 'x3': 0, 'x4': 0, 'x5': 2, 'x6': 0, 'x7': 0, 'x8': 3, 'x9': 0, 'x10': 2, 'x11': 0}. Best is trial 13 with value: -3.410734621886311.\n",
      "[I 2025-07-17 22:38:57,336] Trial 74 finished with value: -0.31203728088487304 and parameters: {'x0': 0, 'x1': 0, 'x2': 2, 'x3': 3, 'x4': 3, 'x5': 1, 'x6': 2, 'x7': 0, 'x8': 1, 'x9': 3, 'x10': 0, 'x11': 0}. Best is trial 13 with value: -3.410734621886311.\n",
      "[I 2025-07-17 22:38:57,345] Trial 75 finished with value: 0.0 and parameters: {'x0': 0, 'x1': 0, 'x2': 0, 'x3': 2, 'x4': 1, 'x5': 3, 'x6': 3, 'x7': 1, 'x8': 1, 'x9': 1, 'x10': 2, 'x11': 1}. Best is trial 13 with value: -3.410734621886311.\n",
      "[I 2025-07-17 22:38:57,354] Trial 76 finished with value: 0.0 and parameters: {'x0': 2, 'x1': 1, 'x2': 2, 'x3': 1, 'x4': 1, 'x5': 3, 'x6': 3, 'x7': 0, 'x8': 3, 'x9': 1, 'x10': 3, 'x11': 3}. Best is trial 13 with value: -3.410734621886311.\n",
      "[I 2025-07-17 22:38:57,363] Trial 77 finished with value: -1.9014286128198323 and parameters: {'x0': 1, 'x1': 0, 'x2': 1, 'x3': 2, 'x4': 2, 'x5': 1, 'x6': 0, 'x7': 3, 'x8': 3, 'x9': 2, 'x10': 0, 'x11': 1}. Best is trial 13 with value: -3.410734621886311.\n",
      "[I 2025-07-17 22:38:57,374] Trial 78 finished with value: 1.1973169683940732 and parameters: {'x0': 0, 'x1': 3, 'x2': 0, 'x3': 2, 'x4': 1, 'x5': 2, 'x6': 2, 'x7': 3, 'x8': 0, 'x9': 0, 'x10': 0, 'x11': 3}. Best is trial 13 with value: -3.410734621886311.\n",
      "[I 2025-07-17 22:38:57,385] Trial 79 finished with value: -0.749080237694725 and parameters: {'x0': 3, 'x1': 2, 'x2': 2, 'x3': 2, 'x4': 0, 'x5': 3, 'x6': 1, 'x7': 1, 'x8': 2, 'x9': 0, 'x10': 0, 'x11': 2}. Best is trial 13 with value: -3.410734621886311.\n",
      "[I 2025-07-17 22:38:57,394] Trial 80 finished with value: 0.0 and parameters: {'x0': 0, 'x1': 2, 'x2': 0, 'x3': 1, 'x4': 1, 'x5': 1, 'x6': 2, 'x7': 1, 'x8': 2, 'x9': 1, 'x10': 2, 'x11': 3}. Best is trial 13 with value: -3.410734621886311.\n",
      "[I 2025-07-17 22:38:57,402] Trial 81 finished with value: 0.0 and parameters: {'x0': 2, 'x1': 0, 'x2': 0, 'x3': 1, 'x4': 2, 'x5': 0, 'x6': 1, 'x7': 2, 'x8': 1, 'x9': 3, 'x10': 0, 'x11': 0}. Best is trial 13 with value: -3.410734621886311.\n",
      "[I 2025-07-17 22:38:57,411] Trial 82 finished with value: 0.0 and parameters: {'x0': 2, 'x1': 1, 'x2': 2, 'x3': 1, 'x4': 0, 'x5': 3, 'x6': 3, 'x7': 2, 'x8': 1, 'x9': 2, 'x10': 1, 'x11': 0}. Best is trial 13 with value: -3.410734621886311.\n",
      "[I 2025-07-17 22:38:57,420] Trial 83 finished with value: -1.4639878836228102 and parameters: {'x0': 3, 'x1': 0, 'x2': 3, 'x3': 1, 'x4': 0, 'x5': 2, 'x6': 3, 'x7': 2, 'x8': 3, 'x9': 2, 'x10': 2, 'x11': 3}. Best is trial 13 with value: -3.410734621886311.\n",
      "[I 2025-07-17 22:38:57,429] Trial 84 finished with value: -1.9014286128198323 and parameters: {'x0': 0, 'x1': 1, 'x2': 0, 'x3': 3, 'x4': 3, 'x5': 0, 'x6': 2, 'x7': 3, 'x8': 0, 'x9': 2, 'x10': 3, 'x11': 0}. Best is trial 13 with value: -3.410734621886311.\n",
      "[I 2025-07-17 22:38:57,439] Trial 85 finished with value: 0.0 and parameters: {'x0': 2, 'x1': 1, 'x2': 3, 'x3': 3, 'x4': 3, 'x5': 1, 'x6': 3, 'x7': 3, 'x8': 1, 'x9': 3, 'x10': 0, 'x11': 2}. Best is trial 13 with value: -3.410734621886311.\n",
      "[I 2025-07-17 22:38:57,447] Trial 86 finished with value: 0.0 and parameters: {'x0': 0, 'x1': 0, 'x2': 0, 'x3': 2, 'x4': 1, 'x5': 2, 'x6': 0, 'x7': 1, 'x8': 2, 'x9': 3, 'x10': 1, 'x11': 2}. Best is trial 13 with value: -3.410734621886311.\n",
      "[I 2025-07-17 22:38:57,457] Trial 87 finished with value: 0.0 and parameters: {'x0': 3, 'x1': 2, 'x2': 0, 'x3': 0, 'x4': 3, 'x5': 0, 'x6': 3, 'x7': 2, 'x8': 3, 'x9': 3, 'x10': 3, 'x11': 1}. Best is trial 13 with value: -3.410734621886311.\n",
      "[I 2025-07-17 22:38:57,466] Trial 88 finished with value: 0.0 and parameters: {'x0': 3, 'x1': 1, 'x2': 1, 'x3': 2, 'x4': 3, 'x5': 3, 'x6': 3, 'x7': 1, 'x8': 1, 'x9': 2, 'x10': 0, 'x11': 0}. Best is trial 13 with value: -3.410734621886311.\n",
      "[I 2025-07-17 22:38:57,475] Trial 89 finished with value: -4.8240212467742793e-05 and parameters: {'x0': 1, 'x1': 1, 'x2': 1, 'x3': 0, 'x4': 0, 'x5': 0, 'x6': 3, 'x7': 1, 'x8': 1, 'x9': 2, 'x10': 0, 'x11': 3}. Best is trial 13 with value: -3.410734621886311.\n",
      "[I 2025-07-17 22:38:57,484] Trial 90 finished with value: -0.6240263215572783 and parameters: {'x0': 3, 'x1': 0, 'x2': 1, 'x3': 3, 'x4': 3, 'x5': 1, 'x6': 2, 'x7': 0, 'x8': 3, 'x9': 0, 'x10': 3, 'x11': 2}. Best is trial 13 with value: -3.410734621886311.\n",
      "[I 2025-07-17 22:38:57,493] Trial 91 finished with value: 1.4639878836228102 and parameters: {'x0': 2, 'x1': 2, 'x2': 0, 'x3': 0, 'x4': 0, 'x5': 0, 'x6': 3, 'x7': 1, 'x8': 0, 'x9': 3, 'x10': 3, 'x11': 3}. Best is trial 13 with value: -3.410734621886311.\n",
      "[I 2025-07-17 22:38:57,503] Trial 92 finished with value: -1.4639878836228102 and parameters: {'x0': 3, 'x1': 0, 'x2': 1, 'x3': 3, 'x4': 2, 'x5': 0, 'x6': 3, 'x7': 0, 'x8': 0, 'x9': 2, 'x10': 2, 'x11': 2}. Best is trial 13 with value: -3.410734621886311.\n",
      "[I 2025-07-17 22:38:57,511] Trial 93 finished with value: 0.0 and parameters: {'x0': 0, 'x1': 3, 'x2': 1, 'x3': 0, 'x4': 3, 'x5': 3, 'x6': 3, 'x7': 3, 'x8': 2, 'x9': 2, 'x10': 0, 'x11': 1}. Best is trial 13 with value: -3.410734621886311.\n",
      "[I 2025-07-17 22:38:57,520] Trial 94 finished with value: 0.0 and parameters: {'x0': 1, 'x1': 1, 'x2': 2, 'x3': 1, 'x4': 0, 'x5': 0, 'x6': 2, 'x7': 0, 'x8': 3, 'x9': 1, 'x10': 1, 'x11': 2}. Best is trial 13 with value: -3.410734621886311.\n",
      "[I 2025-07-17 22:38:57,528] Trial 95 finished with value: 0.0 and parameters: {'x0': 3, 'x1': 1, 'x2': 2, 'x3': 2, 'x4': 1, 'x5': 3, 'x6': 3, 'x7': 2, 'x8': 3, 'x9': 3, 'x10': 2, 'x11': 3}. Best is trial 13 with value: -3.410734621886311.\n",
      "[I 2025-07-17 22:38:57,537] Trial 96 finished with value: 0.0 and parameters: {'x0': 2, 'x1': 2, 'x2': 2, 'x3': 3, 'x4': 0, 'x5': 3, 'x6': 3, 'x7': 0, 'x8': 3, 'x9': 0, 'x10': 1, 'x11': 2}. Best is trial 13 with value: -3.410734621886311.\n",
      "[I 2025-07-17 22:38:57,546] Trial 97 finished with value: 0.0 and parameters: {'x0': 0, 'x1': 3, 'x2': 3, 'x3': 2, 'x4': 0, 'x5': 1, 'x6': 2, 'x7': 3, 'x8': 2, 'x9': 1, 'x10': 2, 'x11': 2}. Best is trial 13 with value: -3.410734621886311.\n",
      "[I 2025-07-17 22:38:57,555] Trial 98 finished with value: 0.0 and parameters: {'x0': 3, 'x1': 0, 'x2': 3, 'x3': 2, 'x4': 3, 'x5': 1, 'x6': 2, 'x7': 3, 'x8': 0, 'x9': 3, 'x10': 2, 'x11': 0}. Best is trial 13 with value: -3.410734621886311.\n",
      "[I 2025-07-17 22:38:57,564] Trial 99 finished with value: -1.9014286128198323 and parameters: {'x0': 1, 'x1': 2, 'x2': 0, 'x3': 2, 'x4': 1, 'x5': 2, 'x6': 0, 'x7': 3, 'x8': 3, 'x9': 3, 'x10': 2, 'x11': 0}. Best is trial 13 with value: -3.410734621886311.\n"
     ]
    },
    {
     "name": "stdout",
     "output_type": "stream",
     "text": [
      "HEREEEEE4\n",
      "[2, 3, 0, 2, 1, 2, 2, 2, 0, 3, 1, 0]\n"
     ]
    }
   ],
   "source": [
    "# we can perform CAFQA by using the main optimization function \"claptonize\"\n",
    "ks_best, _, energy_best = claptonize_opt2(\n",
    "    paulis,\n",
    "    coeffs,\n",
    "    vqe_pcirc,\n",
    "    n_proc=4,           # total number of processes in parallel\n",
    "    n_starts=4,         # number of random genetic algorithm starts in parallel\n",
    "    n_rounds=1,         # number of budget rounds, if None it will terminate itself\n",
    "    callback=print,     # callback for internal parameter (#iteration, energies, ks) processing\n",
    "    budget=20           # budget per genetic algorithm instance\n",
    ")"
   ]
  },
  {
   "cell_type": "code",
   "execution_count": 11,
   "metadata": {},
   "outputs": [
    {
     "data": {
      "text/plain": [
       "[2, 3, 0, 2, 1, 2, 2, 2, 0, 3, 1, 0]"
      ]
     },
     "execution_count": 11,
     "metadata": {},
     "output_type": "execute_result"
    }
   ],
   "source": [
    "# the best parameters are\n",
    "ks_best"
   ]
  },
  {
   "cell_type": "code",
   "execution_count": null,
   "metadata": {},
   "outputs": [
    {
     "data": {
      "text/plain": [
       "np.float64(-1.7053673109431555)"
      ]
     },
     "execution_count": 12,
     "metadata": {},
     "output_type": "execute_result"
    }
   ],
   "source": [
    "# with energy\n",
    "energy_best"
   ]
  },
  {
   "cell_type": "code",
   "execution_count": 13,
   "metadata": {},
   "outputs": [
    {
     "data": {
      "text/html": [
       "<pre>q0: -Y----------Z-X-@-Y-S_DAG---\n",
       "                  | |\n",
       "q1: -SQRT_Y_DAG-S-|-X-@-Y-----S-\n",
       "                  |   |\n",
       "q2: -I----------Z-@---X-I-----I-</pre>"
      ],
      "text/plain": [
       "q0: -Y----------Z-X-@-Y-S_DAG---\n",
       "                  | |\n",
       "q1: -SQRT_Y_DAG-S-|-X-@-Y-----S-\n",
       "                  |   |\n",
       "q2: -I----------Z-@---X-I-----I-"
      ]
     },
     "execution_count": 13,
     "metadata": {},
     "output_type": "execute_result"
    }
   ],
   "source": [
    "# the corresponding circuit is\n",
    "vqe_pcirc.assign(ks_best)\n",
    "vqe_pcirc.stim_circuit().diagram()"
   ]
  },
  {
   "cell_type": "code",
   "execution_count": null,
   "metadata": {},
   "outputs": [],
   "source": []
  },
  {
   "cell_type": "markdown",
   "metadata": {},
   "source": [
    "# noisy CAFQA (nCAFQA)"
   ]
  },
  {
   "cell_type": "code",
   "execution_count": null,
   "metadata": {},
   "outputs": [],
   "source": [
    "from clapton.depolarization import GateGeneralDepolarizationModel"
   ]
  },
  {
   "cell_type": "code",
   "execution_count": null,
   "metadata": {},
   "outputs": [],
   "source": [
    "# let's add a noise model where we specify global 1q and 2q gate errors\n",
    "nm = GateGeneralDepolarizationModel(p1=0.005, p2=0.02)"
   ]
  },
  {
   "cell_type": "code",
   "execution_count": null,
   "metadata": {},
   "outputs": [
    {
     "data": {
      "text/plain": [
       "<clapton.clifford.ParametrizedCliffordCircuit at 0x7f0f6e575dc0>"
      ]
     },
     "execution_count": 32,
     "metadata": {},
     "output_type": "execute_result"
    }
   ],
   "source": [
    "vqe_pcirc = circular_ansatz(N=len(paulis[0]), reps=1, fix_2q=True)\n",
    "vqe_pcirc.add_depolarization_model(nm)"
   ]
  },
  {
   "cell_type": "code",
   "execution_count": null,
   "metadata": {},
   "outputs": [
    {
     "data": {
      "text/html": [
       "<pre>q0: -I-DEPOLARIZE1(0.005)--------------------I------------------DEPOLARIZE1(0.005)---------------------------------------X-DEPOLARIZE2(0.02)-@-DEPOLARIZE2(0.02)---I-----------------DEPOLARIZE1(0.005)--------------------I------------------DEPOLARIZE1(0.005)---------------------------------------\n",
       "                                                                                                                         | |                 | |\n",
       "q1: ---I------------------DEPOLARIZE1(0.005)--------------------I------------------DEPOLARIZE1(0.005)--------------------|-|-----------------X-DEPOLARIZE2(0.02)-@-DEPOLARIZE2(0.02)-I------------------DEPOLARIZE1(0.005)--------------------I------------------DEPOLARIZE1(0.005)--------------------\n",
       "                                                                                                                         | |                                     | |\n",
       "q2: ----------------------I------------------DEPOLARIZE1(0.005)--------------------I------------------DEPOLARIZE1(0.005)-@-DEPOLARIZE2(0.02)---------------------X-DEPOLARIZE2(0.02)--------------------I------------------DEPOLARIZE1(0.005)--------------------I------------------DEPOLARIZE1(0.005)-</pre>"
      ],
      "text/plain": [
       "q0: -I-DEPOLARIZE1(0.005)--------------------I------------------DEPOLARIZE1(0.005)---------------------------------------X-DEPOLARIZE2(0.02)-@-DEPOLARIZE2(0.02)---I-----------------DEPOLARIZE1(0.005)--------------------I------------------DEPOLARIZE1(0.005)---------------------------------------\n",
       "                                                                                                                         | |                 | |\n",
       "q1: ---I------------------DEPOLARIZE1(0.005)--------------------I------------------DEPOLARIZE1(0.005)--------------------|-|-----------------X-DEPOLARIZE2(0.02)-@-DEPOLARIZE2(0.02)-I------------------DEPOLARIZE1(0.005)--------------------I------------------DEPOLARIZE1(0.005)--------------------\n",
       "                                                                                                                         | |                                     | |\n",
       "q2: ----------------------I------------------DEPOLARIZE1(0.005)--------------------I------------------DEPOLARIZE1(0.005)-@-DEPOLARIZE2(0.02)---------------------X-DEPOLARIZE2(0.02)--------------------I------------------DEPOLARIZE1(0.005)--------------------I------------------DEPOLARIZE1(0.005)-"
      ]
     },
     "execution_count": 33,
     "metadata": {},
     "output_type": "execute_result"
    }
   ],
   "source": [
    "# after every gate a depol channel is added\n",
    "vqe_pcirc.stim_circuit().diagram()"
   ]
  },
  {
   "cell_type": "code",
   "execution_count": null,
   "metadata": {},
   "outputs": [
    {
     "name": "stdout",
     "output_type": "stream",
     "text": [
      "STARTING ROUND 0\n",
      "\n",
      "\n",
      "started GA at id 1 with 1 procs\n",
      "started GA at id 2 with 1 procs\n",
      "\n",
      "\n"
     ]
    },
    {
     "name": "stderr",
     "output_type": "stream",
     "text": [
      "/local/lmseifert/conda_envs/clapton/lib/python3.12/site-packages/pygad/pygad.py:1139: UserWarning: The 'delay_after_gen' parameter is deprecated starting from PyGAD 3.3.0. To delay or pause the evolution after each generation, assign a callback function/method to the 'on_generation' parameter to adds some time delay.\n",
      "  warnings.warn(\"The 'delay_after_gen' parameter is deprecated starting from PyGAD 3.3.0. To delay or pause the evolution after each generation, assign a callback function/method to the 'on_generation' parameter to adds some time delay.\")\n"
     ]
    },
    {
     "name": "stdout",
     "output_type": "stream",
     "text": [
      "started GA at id None with 1 procs\n",
      "\n",
      "started GA at id 3 with 1 procs\n"
     ]
    },
    {
     "name": "stderr",
     "output_type": "stream",
     "text": [
      "/local/lmseifert/conda_envs/clapton/lib/python3.12/site-packages/pygad/pygad.py:1139: UserWarning: The 'delay_after_gen' parameter is deprecated starting from PyGAD 3.3.0. To delay or pause the evolution after each generation, assign a callback function/method to the 'on_generation' parameter to adds some time delay.\n",
      "  warnings.warn(\"The 'delay_after_gen' parameter is deprecated starting from PyGAD 3.3.0. To delay or pause the evolution after each generation, assign a callback function/method to the 'on_generation' parameter to adds some time delay.\")\n",
      "/local/lmseifert/conda_envs/clapton/lib/python3.12/site-packages/pygad/pygad.py:1139: UserWarning: The 'delay_after_gen' parameter is deprecated starting from PyGAD 3.3.0. To delay or pause the evolution after each generation, assign a callback function/method to the 'on_generation' parameter to adds some time delay.\n",
      "  warnings.warn(\"The 'delay_after_gen' parameter is deprecated starting from PyGAD 3.3.0. To delay or pause the evolution after each generation, assign a callback function/method to the 'on_generation' parameter to adds some time delay.\")\n"
     ]
    },
    {
     "name": "stdout",
     "output_type": "stream",
     "text": [
      "\n"
     ]
    },
    {
     "name": "stderr",
     "output_type": "stream",
     "text": [
      "/local/lmseifert/conda_envs/clapton/lib/python3.12/site-packages/pygad/pygad.py:1139: UserWarning: The 'delay_after_gen' parameter is deprecated starting from PyGAD 3.3.0. To delay or pause the evolution after each generation, assign a callback function/method to the 'on_generation' parameter to adds some time delay.\n",
      "  warnings.warn(\"The 'delay_after_gen' parameter is deprecated starting from PyGAD 3.3.0. To delay or pause the evolution after each generation, assign a callback function/method to the 'on_generation' parameter to adds some time delay.\")\n"
     ]
    },
    {
     "name": "stdout",
     "output_type": "stream",
     "text": [
      "[0, array([-2.15657864, -1.02919541, -1.12738324,  0.        ]), array([0, 2, 0, 3, 1, 0, 0, 0, 2, 2, 1, 3], dtype=object)]\n",
      "[0, array([-2.16029108, -1.03290785, -1.12738324,  0.        ]), array([1, 2, 2, 3, 3, 1, 2, 2, 2, 2, 1, 2], dtype=object)]\n",
      "[0, array([-4.26795418, -2.01244774, -2.25550644,  0.        ]), array([2, 0, 1, 0, 1, 2, 0, 2, 0, 1, 3, 0], dtype=object)]\n",
      "[0, array([-2.17298653, -1.0456033 , -1.12738324,  0.        ]), array([1, 2, 0, 2, 2, 3, 0, 0, 2, 3, 1, 0], dtype=object)]\n",
      "[1, array([-4.27694793, -2.02144149, -2.25550644,  0.        ]), array([2, 0, 3, 2, 3, 2, 3, 1, 0, 1, 1, 3], dtype=object)][1, array([-4.27559815, -2.02009171, -2.25550644,  0.        ]), array([2, 0, 3, 2, 3, 0, 3, 3, 0, 1, 3, 1], dtype=object)][1, array([-2.17364177, -1.04625854, -1.12738324,  0.        ]), array([0, 2, 0, 3, 1, 0, 0, 0, 2, 2, 2, 1], dtype=object)]\n",
      "\n",
      "\n",
      "[1, array([-4.26829499, -2.01278855, -2.25550644,  0.        ]), array([3, 0, 1, 0, 2, 2, 3, 3, 2, 1, 3, 2], dtype=object)]\n",
      "[2, array([-4.28752595, -2.03201951, -2.25550644,  0.        ]), array([2, 0, 3, 3, 2, 2, 2, 0, 3, 3, 3, 2], dtype=object)]\n",
      "[2, array([-4.28528787, -2.02978144, -2.25550644,  0.        ]), array([0, 0, 1, 2, 3, 0, 3, 1, 0, 2, 2, 0], dtype=object)]\n",
      "[2, array([-4.28434516, -2.02883872, -2.25550644,  0.        ]), array([2, 0, 3, 2, 3, 2, 3, 1, 0, 1, 1, 3], dtype=object)]\n",
      "[2, array([-4.26938524, -2.0138788 , -2.25550644,  0.        ]), array([3, 0, 1, 0, 1, 2, 3, 3, 2, 1, 3, 2], dtype=object)]\n",
      "[3, array([-4.28535635, -2.02984991, -2.25550644,  0.        ]), array([2, 0, 3, 3, 2, 2, 2, 0, 3, 3, 3, 2], dtype=object)]\n",
      "[3, array([-4.26882746, -2.01332102, -2.25550644,  0.        ]), array([2, 0, 1, 2, 1, 0, 2, 0, 2, 1, 1, 0], dtype=object)]\n",
      "[3, array([-4.27951446, -2.02400803, -2.25550644,  0.        ]), array([2, 0, 3, 2, 3, 2, 3, 1, 0, 1, 1, 3], dtype=object)]\n",
      "[3, array([-4.2674761 , -2.01196966, -2.25550644,  0.        ]), array([1, 0, 1, 2, 2, 2, 2, 0, 1, 1, 3, 0], dtype=object)]\n",
      "[4, array([-4.28271576, -2.02720932, -2.25550644,  0.        ]), array([0, 0, 3, 3, 0, 0, 2, 0, 0, 2, 0, 3], dtype=object)]\n",
      "[4, array([-2.36455485, -1.10997141, -1.25458345,  0.        ]), array([3, 1, 1, 3, 2, 3, 3, 0, 2, 2, 0, 2], dtype=object)]\n",
      "[4, array([-4.26687088, -2.01136445, -2.25550644,  0.        ]), array([2, 0, 1, 2, 1, 2, 3, 3, 0, 0, 2, 3], dtype=object)]\n",
      "[4, array([-4.2758065 , -2.02030006, -2.25550644,  0.        ]), array([2, 0, 1, 3, 0, 1, 2, 0, 1, 2, 3, 1], dtype=object)]\n",
      "[5, array([-4.28736694, -2.0318605 , -2.25550644,  0.        ]), array([2, 0, 3, 3, 2, 2, 2, 0, 3, 3, 3, 1], dtype=object)]\n",
      "[5, array([-4.27704127, -2.02153483, -2.25550644,  0.        ]), array([2, 0, 3, 2, 3, 2, 3, 1, 0, 1, 1, 1], dtype=object)]\n",
      "[5, array([-4.2553469 , -1.99984047, -2.25550644,  0.        ]), array([0, 0, 1, 2, 3, 0, 3, 1, 0, 1, 1, 0], dtype=object)]\n",
      "[5, array([-4.28683082, -2.03132438, -2.25550644,  0.        ]), array([1, 2, 3, 3, 1, 2, 2, 2, 1, 3, 1, 0], dtype=object)]\n",
      "[6, array([-4.27922475, -2.02371831, -2.25550644,  0.        ]), array([3, 0, 1, 3, 1, 2, 2, 0, 0, 2, 0, 1], dtype=object)]\n",
      "[6, array([-4.27393195, -2.01842551, -2.25550644,  0.        ]), array([3, 0, 3, 2, 0, 2, 1, 3, 3, 0, 0, 0], dtype=object)]\n",
      "[6, array([-4.28103436, -2.02552792, -2.25550644,  0.        ]), array([0, 0, 1, 2, 3, 0, 3, 1, 0, 1, 1, 0], dtype=object)]\n",
      "[6, array([-4.28205462, -2.02654818, -2.25550644,  0.        ]), array([1, 2, 1, 2, 3, 2, 0, 0, 2, 2, 2, 3], dtype=object)]\n",
      "[7, array([-4.29199375, -2.03648731, -2.25550644,  0.        ]), array([2, 2, 1, 2, 2, 2, 0, 0, 2, 2, 2, 1], dtype=object)]\n",
      "[7, array([-4.27582331, -2.02031687, -2.25550644,  0.        ]), array([0, 0, 1, 2, 3, 0, 3, 1, 0, 2, 2, 3], dtype=object)]\n",
      "[7, array([-4.29038058, -2.03487415, -2.25550644,  0.        ]), array([2, 0, 3, 2, 1, 2, 3, 1, 0, 1, 1, 3], dtype=object)]\n",
      "[7, array([-4.28565744, -2.030151  , -2.25550644,  0.        ]), array([3, 0, 1, 0, 1, 2, 3, 3, 2, 1, 3, 2], dtype=object)]\n",
      "[8, array([-4.28987395, -2.03436751, -2.25550644,  0.        ]), array([2, 2, 1, 2, 2, 2, 0, 0, 2, 2, 2, 1], dtype=object)]\n",
      "\n",
      "[8, array([-4.28247092, -2.02696448, -2.25550644,  0.        ]), array([0, 0, 1, 2, 3, 0, 3, 1, 0, 2, 2, 3], dtype=object)][8, array([-4.27732022, -2.02181378, -2.25550644,  0.        ]), array([1, 0, 3, 2, 3, 2, 3, 1, 0, 1, 1, 3], dtype=object)]\n",
      "[8, array([-4.27946934, -2.02396291, -2.25550644,  0.        ]), array([1, 2, 1, 2, 2, 0, 0, 0, 2, 2, 0, 3], dtype=object)]\n",
      "[9, array([-4.29632081, -2.04081437, -2.25550644,  0.        ]), array([1, 0, 1, 3, 1, 2, 2, 0, 0, 2, 0, 1], dtype=object)]\n",
      "\n",
      "\n",
      "[9, array([-4.30031327, -2.04480683, -2.25550644,  0.        ]), array([0, 0, 1, 2, 3, 0, 3, 1, 0, 2, 2, 3], dtype=object)][9, array([-4.29196623, -2.0364598 , -2.25550644,  0.        ]), array([2, 0, 3, 2, 3, 2, 3, 1, 0, 1, 1, 3], dtype=object)][9, array([-4.28781316, -2.03230672, -2.25550644,  0.        ]), array([1, 0, 1, 2, 2, 2, 2, 0, 1, 1, 3, 1], dtype=object)]\n",
      "[10, array([-4.25510919, -1.99960276, -2.25550644,  0.        ]), array([0, 0, 1, 2, 3, 0, 3, 1, 2, 2, 2, 0], dtype=object)]\n",
      "[10, array([-4.2820972 , -2.02659076, -2.25550644,  0.        ]), array([2, 0, 3, 2, 3, 2, 2, 0, 0, 1, 1, 3], dtype=object)]\n",
      "[10, array([-4.29256214, -2.03705571, -2.25550644,  0.        ]), array([2, 0, 3, 3, 2, 2, 2, 0, 2, 2, 2, 1], dtype=object)]\n",
      "[10, array([-4.28555503, -2.03004859, -2.25550644,  0.        ]), array([2, 0, 1, 0, 1, 2, 3, 3, 2, 1, 3, 0], dtype=object)]\n",
      "[11, array([-4.28295324, -2.0274468 , -2.25550644,  0.        ]), array([0, 0, 1, 2, 3, 0, 3, 1, 0, 2, 2, 0], dtype=object)]\n",
      "[11, array([-4.29136913, -2.03586269, -2.25550644,  0.        ]), array([2, 0, 3, 2, 3, 2, 3, 1, 0, 1, 1, 3], dtype=object)]\n",
      "[11, array([-4.29740183, -2.04189539, -2.25550644,  0.        ]), array([2, 0, 3, 3, 2, 2, 2, 0, 3, 3, 3, 2], dtype=object)]\n",
      "[12, array([-4.28198375, -2.02647731, -2.25550644,  0.        ]), array([2, 0, 3, 2, 0, 2, 1, 3, 0, 1, 1, 3], dtype=object)]\n",
      "[12, array([-4.27642803, -2.02092159, -2.25550644,  0.        ]), array([0, 0, 1, 2, 3, 0, 3, 1, 0, 2, 2, 1], dtype=object)]\n",
      "[11, array([-4.28571239, -2.03020595, -2.25550644,  0.        ]), array([2, 2, 1, 2, 3, 2, 0, 0, 2, 2, 2, 3], dtype=object)]\n",
      "[12, array([-4.29158813, -2.03608169, -2.25550644,  0.        ]), array([1, 2, 1, 2, 2, 2, 0, 0, 2, 2, 2, 1], dtype=object)]\n",
      "[12, array([-4.2903651 , -2.03485866, -2.25550644,  0.        ]), array([3, 0, 1, 2, 2, 2, 2, 0, 1, 3, 1, 0], dtype=object)]\n",
      "[13, array([-4.28946415, -2.03395772, -2.25550644,  0.        ]), array([0, 0, 1, 2, 3, 0, 3, 1, 0, 2, 2, 0], dtype=object)]\n",
      "[13, array([-4.28609448, -2.03058804, -2.25550644,  0.        ]), array([2, 0, 3, 2, 3, 2, 3, 1, 0, 1, 1, 3], dtype=object)]\n",
      "[14, array([-4.27261703, -2.01711059, -2.25550644,  0.        ]), array([2, 0, 3, 0, 3, 2, 3, 1, 0, 1, 1, 3], dtype=object)]\n",
      "[14, array([-4.28027536, -2.02476892, -2.25550644,  0.        ]), array([0, 0, 1, 2, 3, 0, 3, 1, 0, 3, 3, 3], dtype=object)]\n",
      "[13, array([-4.28764632, -2.03213988, -2.25550644,  0.        ]), array([3, 2, 1, 1, 0, 2, 0, 0, 2, 2, 2, 1], dtype=object)]\n",
      "[13, array([-4.28214719, -2.02664076, -2.25550644,  0.        ]), array([1, 2, 1, 2, 3, 2, 0, 0, 2, 2, 2, 3], dtype=object)]\n",
      "[14, array([-4.28991252, -2.03440608, -2.25550644,  0.        ]), array([2, 0, 3, 3, 2, 2, 2, 0, 3, 2, 2, 1], dtype=object)]\n",
      "[15, array([-4.29295207, -2.03744564, -2.25550644,  0.        ]), array([2, 0, 3, 2, 3, 2, 3, 1, 0, 1, 1, 3], dtype=object)]\n",
      "[15, array([-4.2891444 , -2.03363796, -2.25550644,  0.        ]), array([0, 0, 1, 2, 3, 0, 3, 1, 0, 2, 2, 0], dtype=object)]\n",
      "[14, array([-4.2872659 , -2.03175946, -2.25550644,  0.        ]), array([1, 0, 1, 2, 2, 2, 2, 0, 2, 3, 1, 1], dtype=object)]\n",
      "[16, array([-4.27991351, -2.02440708, -2.25550644,  0.        ]), array([2, 0, 3, 2, 3, 2, 3, 1, 1, 1, 1, 3], dtype=object)]\n",
      "[16, array([-4.27795396, -2.02244753, -2.25550644,  0.        ]), array([0, 0, 1, 3, 3, 0, 3, 1, 0, 2, 2, 0], dtype=object)]\n",
      "[15, array([-4.28878957, -2.03328314, -2.25550644,  0.        ]), array([3, 0, 1, 3, 1, 2, 2, 0, 0, 1, 3, 1], dtype=object)]\n",
      "[15, array([-4.29423485, -2.03872842, -2.25550644,  0.        ]), array([3, 0, 1, 2, 2, 2, 2, 0, 2, 3, 1, 3], dtype=object)]\n",
      "[17, array([-4.29608049, -2.04057405, -2.25550644,  0.        ]), array([2, 0, 3, 2, 3, 2, 3, 1, 0, 1, 1, 3], dtype=object)]\n",
      "[16, array([-4.28306328, -2.02755685, -2.25550644,  0.        ]), array([2, 2, 1, 2, 2, 2, 0, 0, 2, 2, 2, 2], dtype=object)]\n",
      "[17, array([-4.29093451, -2.03542807, -2.25550644,  0.        ]), array([0, 0, 1, 2, 3, 0, 3, 1, 0, 2, 2, 0], dtype=object)]\n",
      "[16, array([-4.27391705, -2.01841061, -2.25550644,  0.        ]), array([1, 2, 1, 0, 3, 2, 0, 0, 2, 2, 2, 3], dtype=object)]\n",
      "[18, array([-4.29126263, -2.03575619, -2.25550644,  0.        ]), array([0, 0, 1, 2, 0, 0, 3, 1, 0, 2, 2, 0], dtype=object)]\n",
      "[18, array([-4.27896894, -2.0234625 , -2.25550644,  0.        ]), array([1, 0, 3, 2, 3, 2, 1, 3, 0, 1, 1, 3], dtype=object)]\n",
      "[17, array([-4.29716033, -2.0416539 , -2.25550644,  0.        ]), array([1, 2, 1, 2, 2, 2, 0, 0, 2, 2, 2, 1], dtype=object)]\n",
      "[17, array([-4.29231398, -2.03680754, -2.25550644,  0.        ]), array([3, 0, 1, 2, 2, 2, 2, 0, 2, 3, 1, 1], dtype=object)]\n",
      "[19, array([-4.29205067, -2.03654424, -2.25550644,  0.        ]), array([0, 0, 1, 2, 3, 0, 3, 1, 0, 2, 2, 0], dtype=object)]\n",
      "[19, array([-4.28647524, -2.0309688 , -2.25550644,  0.        ]), array([2, 0, 3, 2, 3, 2, 3, 1, 0, 1, 1, 3], dtype=object)]\n",
      "[18, array([-4.29323013, -2.03772369, -2.25550644,  0.        ]), array([2, 2, 1, 2, 3, 2, 0, 0, 2, 2, 2, 1], dtype=object)]\n",
      "[20, array([-4.27688289, -2.02137645, -2.25550644,  0.        ]), array([2, 0, 3, 2, 3, 2, 3, 1, 2, 1, 1, 3], dtype=object)]\n",
      "[20, array([-4.27374324, -2.0182368 , -2.25550644,  0.        ]), array([0, 0, 1, 2, 3, 0, 3, 1, 2, 2, 2, 0], dtype=object)]\n",
      "[18, array([-4.28874133, -2.03323489, -2.25550644,  0.        ]), array([1, 0, 1, 2, 2, 2, 2, 0, 2, 3, 1, 3], dtype=object)]\n",
      "[19, array([-4.29502592, -2.03951948, -2.25550644,  0.        ]), array([2, 0, 3, 3, 2, 2, 2, 0, 2, 2, 2, 1], dtype=object)]\n",
      "[21, array([-4.28749792, -2.03199148, -2.25550644,  0.        ]), array([2, 0, 3, 2, 3, 2, 3, 1, 0, 1, 1, 3], dtype=object)]\n",
      "[20, array([-4.2781287 , -2.02262226, -2.25550644,  0.        ]), array([2, 2, 1, 2, 2, 2, 0, 0, 2, 2, 2, 2], dtype=object)]\n",
      "[21, array([-4.28877367, -2.03326724, -2.25550644,  0.        ]), array([0, 0, 1, 2, 0, 0, 3, 1, 0, 2, 2, 0], dtype=object)]\n",
      "[19, array([-4.29095175, -2.03544531, -2.25550644,  0.        ]), array([3, 0, 1, 2, 2, 2, 2, 0, 2, 3, 1, 1], dtype=object)]\n",
      "[22, array([-4.27374265, -2.01823622, -2.25550644,  0.        ]), array([2, 0, 3, 2, 3, 2, 3, 1, 2, 1, 1, 1], dtype=object)]\n",
      "[22, array([-4.28638834, -2.0308819 , -2.25550644,  0.        ]), array([2, 0, 1, 2, 0, 0, 3, 1, 0, 2, 2, 0], dtype=object)]\n",
      "[20, array([-4.27886156, -2.02335512, -2.25550644,  0.        ]), array([1, 0, 1, 2, 2, 2, 2, 0, 2, 3, 1, 0], dtype=object)]\n",
      "[21, array([-4.2962241 , -2.04071767, -2.25550644,  0.        ]), array([1, 2, 1, 2, 2, 2, 0, 0, 2, 2, 2, 1], dtype=object)]\n",
      "[23, array([-4.29514146, -2.03963503, -2.25550644,  0.        ]), array([0, 0, 1, 2, 3, 0, 3, 1, 0, 2, 2, 0], dtype=object)]\n",
      "[22, array([-4.29265741, -2.03715097, -2.25550644,  0.        ]), array([1, 0, 3, 3, 2, 2, 2, 0, 2, 2, 2, 1], dtype=object)]\n",
      "[23, array([-4.28758718, -2.03208074, -2.25550644,  0.        ]), array([2, 0, 3, 2, 3, 2, 3, 1, 0, 1, 1, 3], dtype=object)]\n",
      "[24, array([-4.28496474, -2.0294583 , -2.25550644,  0.        ]), array([2, 0, 3, 2, 1, 2, 3, 1, 0, 1, 1, 3], dtype=object)]\n",
      "[21, array([-4.29180829, -2.03630185, -2.25550644,  0.        ]), array([3, 0, 1, 2, 2, 2, 2, 0, 2, 3, 1, 1], dtype=object)]\n",
      "[24, array([-4.27592576, -2.02041932, -2.25550644,  0.        ]), array([0, 0, 1, 2, 3, 0, 3, 1, 0, 2, 2, 3], dtype=object)]\n",
      "[23, array([-4.28967613, -2.03416969, -2.25550644,  0.        ]), array([2, 0, 3, 3, 2, 2, 2, 0, 2, 2, 2, 1], dtype=object)][22, array([-4.29313367, -2.03762724, -2.25550644,  0.        ]), array([0, 0, 1, 2, 0, 2, 2, 0, 2, 3, 1, 1], dtype=object)]\n",
      "\n",
      "[25, array([-4.29458883, -2.03908239, -2.25550644,  0.        ]), array([2, 0, 3, 2, 3, 2, 3, 1, 0, 1, 1, 3], dtype=object)]\n",
      "[24, array([-4.27535109, -2.01984466, -2.25550644,  0.        ]), array([2, 0, 3, 3, 0, 2, 2, 0, 2, 2, 2, 1], dtype=object)]\n",
      "[25, array([-4.28790857, -2.03240213, -2.25550644,  0.        ]), array([0, 0, 1, 2, 3, 0, 3, 1, 0, 2, 2, 0], dtype=object)]\n",
      "[26, array([-4.27829662, -2.02279018, -2.25550644,  0.        ]), array([3, 0, 3, 3, 3, 2, 0, 2, 0, 1, 1, 3], dtype=object)]\n",
      "[26, array([-4.27464874, -2.0191423 , -2.25550644,  0.        ]), array([0, 0, 1, 2, 3, 0, 3, 1, 0, 2, 2, 1], dtype=object)]\n",
      "[23, array([-4.29317361, -2.03766717, -2.25550644,  0.        ]), array([2, 0, 1, 2, 2, 2, 2, 0, 2, 3, 1, 1], dtype=object)]\n",
      "[25, array([-4.29792928, -2.04242285, -2.25550644,  0.        ]), array([2, 0, 3, 3, 2, 2, 2, 0, 2, 2, 2, 1], dtype=object)]\n",
      "[24, array([-4.29543329, -2.03992685, -2.25550644,  0.        ]), array([3, 0, 1, 2, 1, 2, 2, 0, 2, 3, 1, 1], dtype=object)]\n",
      "[26, array([-4.28666398, -2.03115754, -2.25550644,  0.        ]), array([2, 0, 3, 0, 2, 2, 2, 0, 2, 2, 2, 1], dtype=object)]\n",
      "[27, array([-4.29363862, -2.03813218, -2.25550644,  0.        ]), array([2, 0, 3, 2, 3, 2, 3, 1, 0, 1, 1, 3], dtype=object)]\n",
      "[27, array([-4.28946207, -2.03395563, -2.25550644,  0.        ]), array([0, 0, 1, 2, 0, 0, 3, 1, 0, 2, 2, 0], dtype=object)]\n",
      "[28, array([-4.27625791, -2.02075147, -2.25550644,  0.        ]), array([2, 0, 3, 2, 3, 2, 0, 2, 2, 1, 1, 2], dtype=object)]\n",
      "[25, array([-4.30315338, -2.04764695, -2.25550644,  0.        ]), array([3, 0, 1, 2, 2, 2, 2, 0, 2, 3, 1, 1], dtype=object)]\n",
      "[28, array([-4.27875357, -2.02324713, -2.25550644,  0.        ]), array([1, 2, 1, 2, 0, 0, 3, 1, 0, 0, 2, 0], dtype=object)]\n",
      "[27, array([-4.29939578, -2.04388934, -2.25550644,  0.        ]), array([2, 2, 1, 2, 3, 2, 0, 0, 2, 2, 2, 1], dtype=object)]\n",
      "[28, array([-4.2834316 , -2.02792516, -2.25550644,  0.        ]), array([2, 2, 1, 2, 3, 2, 0, 0, 0, 2, 2, 1], dtype=object)]\n",
      "[26, array([-4.28690004, -2.0313936 , -2.25550644,  0.        ]), array([3, 0, 1, 2, 2, 2, 2, 0, 3, 2, 0, 0], dtype=object)]\n",
      "[29, array([-4.29132243, -2.03581599, -2.25550644,  0.        ]), array([2, 0, 3, 2, 3, 2, 3, 1, 0, 1, 1, 3], dtype=object)]\n",
      "[29, array([-4.28573852, -2.03023208, -2.25550644,  0.        ]), array([0, 0, 1, 2, 0, 0, 3, 1, 0, 2, 2, 0], dtype=object)]\n",
      "[30, array([-4.28004627, -2.02453983, -2.25550644,  0.        ]), array([2, 0, 3, 2, 1, 2, 3, 1, 0, 1, 1, 2], dtype=object)]\n",
      "[30, array([-4.27107531, -2.01556887, -2.25550644,  0.        ]), array([0, 0, 1, 1, 0, 0, 3, 1, 0, 2, 2, 0], dtype=object)]\n",
      "[29, array([-4.29114498, -2.03563854, -2.25550644,  0.        ]), array([2, 2, 1, 2, 3, 2, 0, 0, 2, 2, 2, 1], dtype=object)]\n",
      "[27, array([-4.29849723, -2.04299079, -2.25550644,  0.        ]), array([3, 0, 1, 2, 2, 2, 2, 0, 1, 3, 1, 0], dtype=object)]\n",
      "[28, array([-4.2818389 , -2.02633246, -2.25550644,  0.        ]), array([3, 0, 1, 2, 3, 2, 2, 0, 2, 3, 1, 0], dtype=object)]\n",
      "[30, array([-4.28220029, -2.02669385, -2.25550644,  0.        ]), array([0, 2, 1, 3, 3, 2, 0, 0, 2, 2, 2, 1], dtype=object)]\n",
      "[31, array([-4.2864201 , -2.03091367, -2.25550644,  0.        ]), array([2, 0, 3, 2, 3, 2, 3, 1, 0, 1, 1, 3], dtype=object)]\n",
      "[31, array([-4.28802755, -2.03252111, -2.25550644,  0.        ]), array([0, 0, 1, 2, 0, 0, 3, 1, 0, 2, 2, 0], dtype=object)]\n",
      "[32, array([-4.27972591, -2.02421947, -2.25550644,  0.        ]), array([2, 0, 3, 1, 3, 2, 3, 1, 0, 1, 1, 2], dtype=object)]\n",
      "[29, array([-4.29181413, -2.03630769, -2.25550644,  0.        ]), array([3, 0, 1, 2, 1, 2, 2, 0, 2, 3, 1, 1], dtype=object)]\n",
      "[32, array([-4.29041905, -2.03491261, -2.25550644,  0.        ]), array([0, 0, 1, 3, 0, 0, 3, 1, 1, 2, 2, 0], dtype=object)]\n",
      "[31, array([-4.29423096, -2.03872452, -2.25550644,  0.        ]), array([2, 2, 1, 2, 3, 2, 0, 0, 2, 2, 2, 1], dtype=object)]\n",
      "[32, array([-4.2975279 , -2.04202146, -2.25550644,  0.        ]), array([2, 2, 1, 1, 3, 2, 0, 0, 2, 2, 2, 1], dtype=object)]\n",
      "[33, array([-4.28830491, -2.03279847, -2.25550644,  0.        ]), array([2, 0, 3, 2, 1, 2, 3, 1, 0, 1, 1, 3], dtype=object)]\n",
      "[30, array([-4.29227426, -2.03676783, -2.25550644,  0.        ]), array([2, 0, 1, 2, 1, 2, 2, 0, 2, 3, 1, 1], dtype=object)]\n",
      "[33, array([-4.28824026, -2.03273382, -2.25550644,  0.        ]), array([0, 0, 1, 2, 0, 0, 3, 1, 0, 2, 2, 0], dtype=object)]\n",
      "[34, array([-4.27801892, -2.02251248, -2.25550644,  0.        ]), array([2, 0, 3, 0, 1, 2, 3, 1, 0, 1, 1, 3], dtype=object)]\n",
      "[34, array([-4.27985601, -2.02434957, -2.25550644,  0.        ]), array([0, 0, 1, 3, 0, 0, 3, 1, 0, 2, 2, 0], dtype=object)]\n",
      "[33, array([-4.29062094, -2.0351145 , -2.25550644,  0.        ]), array([2, 2, 1, 2, 3, 2, 0, 0, 2, 2, 2, 1], dtype=object)]\n",
      "[31, array([-4.28951424, -2.0340078 , -2.25550644,  0.        ]), array([3, 0, 1, 2, 2, 2, 2, 0, 2, 3, 1, 1], dtype=object)]\n",
      "[35, array([-4.28985459, -2.03434815, -2.25550644,  0.        ]), array([2, 0, 3, 2, 1, 2, 3, 1, 0, 1, 1, 3], dtype=object)]\n",
      "[34, array([-4.29137741, -2.03587098, -2.25550644,  0.        ]), array([2, 2, 1, 2, 3, 2, 0, 0, 1, 2, 2, 0], dtype=object)]\n",
      "[32, array([-4.28502846, -2.02952202, -2.25550644,  0.        ]), array([3, 0, 1, 3, 1, 2, 2, 0, 1, 3, 1, 0], dtype=object)]\n",
      "[35, array([-4.28283801, -2.02733158, -2.25550644,  0.        ]), array([0, 0, 1, 2, 0, 0, 3, 1, 0, 2, 2, 0], dtype=object)]\n",
      "[36, array([-4.27478652, -2.01928008, -2.25550644,  0.        ]), array([2, 2, 3, 2, 1, 2, 3, 1, 0, 0, 2, 3], dtype=object)]\n",
      "[36, array([-4.27495981, -2.01945338, -2.25550644,  0.        ]), array([0, 0, 1, 2, 0, 0, 3, 1, 2, 2, 2, 1], dtype=object)]\n",
      "[35, array([-4.29317044, -2.037664  , -2.25550644,  0.        ]), array([2, 2, 1, 2, 3, 2, 0, 0, 2, 2, 2, 1], dtype=object)]\n",
      "[33, array([-4.29754731, -2.04204088, -2.25550644,  0.        ]), array([3, 0, 1, 2, 1, 2, 2, 0, 2, 3, 1, 0], dtype=object)]\n",
      "[37, array([-4.29544008, -2.03993365, -2.25550644,  0.        ]), array([2, 0, 3, 2, 1, 2, 3, 1, 0, 1, 1, 3], dtype=object)]\n",
      "[36, array([-4.27978963, -2.02428319, -2.25550644,  0.        ]), array([2, 2, 1, 2, 3, 2, 0, 0, 2, 2, 2, 0], dtype=object)]\n",
      "[34, array([-4.29000396, -2.03449752, -2.25550644,  0.        ]), array([3, 0, 1, 2, 1, 2, 2, 0, 1, 3, 1, 1], dtype=object)]\n",
      "[37, array([-4.29402521, -2.03851877, -2.25550644,  0.        ]), array([0, 0, 1, 2, 0, 0, 3, 1, 0, 2, 2, 0], dtype=object)]\n",
      "[38, array([-4.27951242, -2.02400599, -2.25550644,  0.        ]), array([2, 0, 3, 2, 3, 2, 3, 1, 0, 1, 1, 3], dtype=object)]\n",
      "[38, array([-4.28144601, -2.02593957, -2.25550644,  0.        ]), array([0, 0, 1, 2, 2, 0, 3, 1, 0, 2, 2, 0], dtype=object)]\n",
      "[37, array([-4.29934221, -2.04383577, -2.25550644,  0.        ]), array([2, 2, 1, 2, 3, 2, 0, 0, 2, 2, 2, 1], dtype=object)]\n",
      "[35, array([-4.28820188, -2.03269544, -2.25550644,  0.        ]), array([3, 0, 1, 2, 1, 2, 2, 0, 2, 3, 1, 1], dtype=object)]\n",
      "[38, array([-4.2919819 , -2.03647546, -2.25550644,  0.        ]), array([2, 2, 1, 2, 2, 2, 0, 0, 2, 2, 2, 1], dtype=object)]\n",
      "[39, array([-4.29093701, -2.03543057, -2.25550644,  0.        ]), array([2, 0, 3, 2, 1, 2, 2, 0, 0, 1, 1, 3], dtype=object)]\n",
      "[39, array([-4.29248323, -2.03697679, -2.25550644,  0.        ]), array([0, 0, 1, 2, 0, 0, 3, 1, 0, 2, 2, 0], dtype=object)]\n",
      "[40, array([-4.27645375, -2.02094731, -2.25550644,  0.        ]), array([3, 0, 3, 2, 1, 2, 3, 1, 0, 1, 1, 3], dtype=object)]\n",
      "[36, array([-4.28564711, -2.03014067, -2.25550644,  0.        ]), array([3, 0, 1, 3, 1, 2, 2, 0, 2, 3, 1, 1], dtype=object)]\n",
      "[40, array([-4.28601629, -2.03050985, -2.25550644,  0.        ]), array([0, 0, 1, 2, 0, 0, 3, 1, 1, 2, 2, 0], dtype=object)]\n",
      "[39, array([-4.28996089, -2.03445446, -2.25550644,  0.        ]), array([2, 2, 1, 2, 3, 2, 0, 0, 2, 2, 2, 1], dtype=object)]\n",
      "[37, array([-4.29171842, -2.03621199, -2.25550644,  0.        ]), array([3, 0, 1, 2, 1, 2, 2, 0, 2, 3, 1, 1], dtype=object)]\n",
      "[40, array([-4.28125963, -2.02575319, -2.25550644,  0.        ]), array([2, 2, 1, 1, 3, 2, 0, 0, 3, 2, 2, 3], dtype=object)]\n",
      "[38, array([-4.28345099, -2.02794456, -2.25550644,  0.        ]), array([3, 0, 1, 2, 1, 2, 2, 0, 3, 3, 1, 0], dtype=object)]\n",
      "[39, array([-4.30255015, -2.04704371, -2.25550644,  0.        ]), array([3, 0, 1, 2, 1, 2, 2, 0, 2, 3, 1, 1], dtype=object)]\n",
      "[40, array([-4.27520394, -2.0196975 , -2.25550644,  0.        ]), array([3, 0, 1, 2, 1, 2, 2, 0, 0, 3, 1, 1], dtype=object)]\n"
     ]
    }
   ],
   "source": [
    "# we can perform nCAFQA by using the main optimization function \"claptonize\"\n",
    "# now with the noisy circuit\n",
    "# this is slower, as the noisy circuit needs to be sampled\n",
    "ks_best, energy_noisy, energy_noiseless = claptonize(\n",
    "    paulis,\n",
    "    coeffs,\n",
    "    vqe_pcirc,\n",
    "    n_proc=4,           # total number of processes in parallel\n",
    "    n_starts=4,         # number of random genetic algorithm starts in parallel\n",
    "    n_rounds=1,         # number of budget rounds, if None it will terminate itself\n",
    "    callback=print,     # callback for internal parameter (#iteration, energies, ks) processing\n",
    "    budget=20           # budget per genetic algorithm instance\n",
    ")"
   ]
  },
  {
   "cell_type": "code",
   "execution_count": null,
   "metadata": {},
   "outputs": [
    {
     "data": {
      "text/plain": [
       "[2, 2, 1, 1, 3, 2, 0, 0, 2, 2, 2, 1]"
      ]
     },
     "execution_count": 36,
     "metadata": {},
     "output_type": "execute_result"
    }
   ],
   "source": [
    "# the best parameters are\n",
    "ks_best"
   ]
  },
  {
   "cell_type": "code",
   "execution_count": null,
   "metadata": {},
   "outputs": [
    {
     "data": {
      "text/plain": [
       "(np.float64(-2.0237951035451354), np.float64(-2.2555064377753498))"
      ]
     },
     "execution_count": 37,
     "metadata": {},
     "output_type": "execute_result"
    }
   ],
   "source": [
    "# with noisy/noiseless energy\n",
    "energy_noisy, energy_noiseless"
   ]
  },
  {
   "cell_type": "code",
   "execution_count": null,
   "metadata": {},
   "outputs": [
    {
     "data": {
      "text/html": [
       "<pre>q0: -Y------S-----X-@-I-Z---\n",
       "                  | |\n",
       "q1: -Y------S_DAG-|-X-@-I-Z-\n",
       "                  |   |\n",
       "q2: -SQRT_Y-Z-----@---X-Y-S-</pre>"
      ],
      "text/plain": [
       "q0: -Y------S-----X-@-I-Z---\n",
       "                  | |\n",
       "q1: -Y------S_DAG-|-X-@-I-Z-\n",
       "                  |   |\n",
       "q2: -SQRT_Y-Z-----@---X-Y-S-"
      ]
     },
     "execution_count": 40,
     "metadata": {},
     "output_type": "execute_result"
    }
   ],
   "source": [
    "# the corresponding circuit is\n",
    "vqe_pcirc.assign(ks_best)\n",
    "vqe_pcirc.snapshot_noiseless().circ_snapshot_noiseless.diagram()"
   ]
  },
  {
   "cell_type": "code",
   "execution_count": null,
   "metadata": {},
   "outputs": [],
   "source": []
  }
 ],
 "metadata": {
  "kernelspec": {
   "display_name": "venv",
   "language": "python",
   "name": "python3"
  },
  "language_info": {
   "codemirror_mode": {
    "name": "ipython",
    "version": 3
   },
   "file_extension": ".py",
   "mimetype": "text/x-python",
   "name": "python",
   "nbconvert_exporter": "python",
   "pygments_lexer": "ipython3",
   "version": "3.13.2"
  }
 },
 "nbformat": 4,
 "nbformat_minor": 2
}
