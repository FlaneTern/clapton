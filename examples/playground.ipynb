{
 "cells": [
  {
   "cell_type": "code",
   "execution_count": 8,
   "metadata": {},
   "outputs": [],
   "source": [
    "import sys\n",
    "sys.path.append(\"../\")\n",
    "from clapton.clapton import claptonize\n",
    "from clapton.ansatzes import * \n",
    "from clapton.clifford import ParametrizedCliffordCircuit\n",
    "import numpy as np\n",
    "from qiskit import QuantumCircuit\n",
    "from qiskit.converters import circuit_to_dag, dag_to_circuit\n",
    "from qiskit_qec.utils.stim_tools import get_stim_circuits\n",
    "from qiskit_research.utils.convenience import *"
   ]
  },
  {
   "cell_type": "code",
   "execution_count": 9,
   "metadata": {},
   "outputs": [],
   "source": [
    "paulis = [\"XXI\", \"IXX\", \"YYI\", \"IYY\", \"ZZI\", \"IZZ\"]\n",
    "coeffs = np.random.random(len(paulis))\n",
    "\n",
    "from clapton.depolarization import GateGeneralDepolarizationModel #TODO: check this out \n"
   ]
  },
  {
   "cell_type": "code",
   "execution_count": 10,
   "metadata": {},
   "outputs": [
    {
     "data": {
      "image/png": "[encoded data removed]",
      "text/plain": [
       "<Figure size 705.552x284.278 with 1 Axes>"
      ]
     },
     "execution_count": 10,
     "metadata": {},
     "output_type": "execute_result"
    }
   ],
   "source": [
    "def circular_ansatz(N, reps=1, fix_2q=False):\n",
    "    pcirc = QuantumCircuit(N)\n",
    "    for _ in range(reps):\n",
    "        for i in range(N):\n",
    "            pcirc.ry(0,i)\n",
    "        for i in range(N):\n",
    "            pcirc.rz(0,i)\n",
    "        for i in range(N):\n",
    "            control = (i-1) % N\n",
    "            target = i\n",
    "            if fix_2q:\n",
    "                pcirc.cx(control, target).fix(1)\n",
    "            else:\n",
    "                pcirc.cx(control, target)\n",
    "    for i in range(N):\n",
    "        pcirc.ry(0,i)\n",
    "    for i in range(N):\n",
    "        pcirc.rz(0,i)\n",
    "    return pcirc\n",
    "\n",
    "qc=circular_ansatz(3)\n",
    "qc.draw(output='mpl')"
   ]
  },
  {
   "cell_type": "markdown",
   "metadata": {},
   "source": [
    "## Altering the Ansatz itself"
   ]
  },
  {
   "cell_type": "code",
   "execution_count": 11,
   "metadata": {},
   "outputs": [],
   "source": [
    "rng = np.random.default_rng()\n",
    "\n",
    "TWIRL_GATES_CX = (\n",
    "        (('I', 'I'), ('I', 'I')),\n",
    "        (('I', 'X'), ('I', 'X')),\n",
    "        (('I', 'Y'), ('Z', 'Y')),\n",
    "        (('I', 'Z'), ('Z', 'Z')),\n",
    "        (('X', 'I'), ('X', 'X')),\n",
    "        (('X', 'X'), ('X', 'I')),\n",
    "        (('X', 'Y'), ('Y', 'Z')),\n",
    "        (('X', 'Z'), ('Y', 'Y')),\n",
    "        (('Y', 'I'), ('Y', 'X')),\n",
    "        (('Y', 'X'), ('Y', 'I')),\n",
    "        (('Y', 'Y'), ('X', 'Z')),\n",
    "        (('Y', 'Z'), ('X', 'Y')),\n",
    "        (('Z', 'I'), ('Z', 'I')),\n",
    "        (('Z', 'X'), ('Z', 'X')),\n",
    "        (('Z', 'Y'), ('I', 'Y')),\n",
    "        (('Z', 'Z'), ('I', 'Z')),\n",
    "    )\n",
    "\n",
    "pauli_twirl_dict = {\"I\":0,\"X\":1,\"Y\":2,\"Z\":3}\n",
    "\n",
    "def twirled_circular_ansatz(N, reps=1, fix_2q=False):\n",
    "    pcirc = ParametrizedCliffordCircuit()\n",
    "    for _ in range(reps):\n",
    "        for i in range(N):\n",
    "            pcirc.RY(i)\n",
    "        for i in range(N):\n",
    "            pcirc.RZ(i)\n",
    "        for i in range(N):\n",
    "            control = (i-1) % N\n",
    "            target = i\n",
    "            if fix_2q:\n",
    "                \n",
    "                (before0, before1), (after0, after1) = TWIRL_GATES_CX[\n",
    "                    rng.integers(len(TWIRL_GATES_CX))]\n",
    "\n",
    "                pcirc.PauliTwirl(control).fix(pauli_twirl_dict[before0])\n",
    "                pcirc.PauliTwirl(control).fix(pauli_twirl_dict[before1])\n",
    "                pcirc.Q2(control, target).fix(1)\n",
    "                pcirc.PauliTwirl(target).fix(pauli_twirl_dict[after0])\n",
    "                pcirc.PauliTwirl(target).fix(pauli_twirl_dict[after1])\n",
    "            else:\n",
    "                pcirc.Q2(control, target)\n",
    "    for i in range(N):\n",
    "        pcirc.RY(i)\n",
    "    for i in range(N):\n",
    "        pcirc.RZ(i)\n",
    "\n",
    "    \n",
    "    return pcirc\n",
    "\n",
    "pauli_twirl_list = [twirled_circular_ansatz(N=len(paulis[0]), reps=1, fix_2q=True) for _ in range(100)]\n"
   ]
  },
  {
   "cell_type": "code",
   "execution_count": 12,
   "metadata": {},
   "outputs": [
    {
     "data": {
      "text/html": [
       "<pre>q0: -I-I-----X-Z-Z-I-Y-@-------------I-I---\n",
       "             |         |\n",
       "q1: -I-I-----|---------X-Z-Y-I-X-@---I-I---\n",
       "             |                   |\n",
       "q2: -I-I-I-Z-@-------------------X-I-X-I-I-</pre>"
      ],
      "text/plain": [
       "q0: -I-I-----X-Z-Z-I-Y-@-------------I-I---\n",
       "             |         |\n",
       "q1: -I-I-----|---------X-Z-Y-I-X-@---I-I---\n",
       "             |                   |\n",
       "q2: -I-I-I-Z-@-------------------X-I-X-I-I-"
      ]
     },
     "execution_count": 12,
     "metadata": {},
     "output_type": "execute_result"
    }
   ],
   "source": [
    "pauli_twirl_list[0].stim_circuit().diagram()"
   ]
  },
  {
   "cell_type": "code",
   "execution_count": 13,
   "metadata": {},
   "outputs": [
    {
     "data": {
      "text/plain": [
       "<clapton.clifford.ParametrizedCliffordCircuit at 0x7f3091421d50>"
      ]
     },
     "execution_count": 13,
     "metadata": {},
     "output_type": "execute_result"
    }
   ],
   "source": [
    "twirl_ansatz = twirled_circular_ansatz(N=len(paulis[0]), reps=1, fix_2q=True)\n",
    "\n",
    "# let's add a noise model where we specify global 1q and 2q gate errors\n",
    "nm = GateGeneralDepolarizationModel(p1=0.005, p2=0.02)\n",
    "twirl_ansatz.add_depolarization_model(nm)\n",
    "# twirl_ansatz.add_pauli_twirl_list(pauli_twirl_list)\n"
   ]
  },
  {
   "cell_type": "code",
   "execution_count": 24,
   "metadata": {},
   "outputs": [
    {
     "name": "stdout",
     "output_type": "stream",
     "text": [
      "Elements have different sizes.\n"
     ]
    }
   ],
   "source": [
    "\n",
    "if all((pauli_twirl_list[i].number_parametrized_gates) == 12 for i in range(len(pauli_twirl_list))):\n",
    "    print(\"All elements have the same size.\")\n",
    "else:\n",
    "    print(\"Elements have different sizes.\")"
   ]
  },
  {
   "cell_type": "code",
   "execution_count": 15,
   "metadata": {},
   "outputs": [
    {
     "data": {
      "text/plain": [
       "12"
      ]
     },
     "execution_count": 15,
     "metadata": {},
     "output_type": "execute_result"
    }
   ],
   "source": [
    "pauli_twirl_list[0].add_depolarization_model(nm)\n",
    "pauli_twirl_list[0].number_parametrized_gates()"
   ]
  },
  {
   "cell_type": "code",
   "execution_count": 16,
   "metadata": {},
   "outputs": [
    {
     "data": {
      "text/plain": [
       "[0, 0, 0, 0, 0, 0, 0, 0, 0, 0, 0, 0]"
      ]
     },
     "execution_count": 16,
     "metadata": {},
     "output_type": "execute_result"
    }
   ],
   "source": [
    "twirl_ansatz.read()"
   ]
  },
  {
   "cell_type": "code",
   "execution_count": null,
   "metadata": {},
   "outputs": [],
   "source": [
    "twirl_ansatz.stim_circuit().diagram()"
   ]
  },
  {
   "cell_type": "code",
   "execution_count": null,
   "metadata": {},
   "outputs": [],
   "source": [
    "ks_best, energy_noisy, energy_noiseless = claptonize(\n",
    "    paulis,\n",
    "    coeffs,\n",
    "    twirl_ansatz,\n",
    "    n_proc=4,           # total number of processes in parallel\n",
    "    n_starts=4,         # number of random genetic algorithm starts in parallel\n",
    "    n_rounds=1,         # number of budget rounds, if None it will terminate itself\n",
    "    callback=print,     # callback for internal parameter (#iteration, energies, ks) processing\n",
    "    budget=20,                        # budget per genetic algorithm instance\n",
    ")"
   ]
  },
  {
   "cell_type": "code",
   "execution_count": null,
   "metadata": {},
   "outputs": [],
   "source": [
    "ks_best"
   ]
  },
  {
   "cell_type": "code",
   "execution_count": null,
   "metadata": {},
   "outputs": [],
   "source": [
    "energy_noisy, energy_noiseless"
   ]
  },
  {
   "cell_type": "code",
   "execution_count": null,
   "metadata": {},
   "outputs": [],
   "source": [
    "# differrence\n",
    "np.abs(energy_noisy-energy_noiseless)"
   ]
  },
  {
   "cell_type": "code",
   "execution_count": null,
   "metadata": {},
   "outputs": [],
   "source": [
    "# the corresponding circuit is\n",
    "twirl_ansatz.assign(ks_best)\n",
    "twirl_ansatz.snapshot_noiseless().circ_snapshot_noiseless.diagram()"
   ]
  },
  {
   "cell_type": "code",
   "execution_count": null,
   "metadata": {},
   "outputs": [],
   "source": []
  }
 ],
 "metadata": {
  "kernelspec": {
   "display_name": "clapton",
   "language": "python",
   "name": "python3"
  },
  "language_info": {
   "codemirror_mode": {
    "name": "ipython",
    "version": 3
   },
   "file_extension": ".py",
   "mimetype": "text/x-python",
   "name": "python",
   "nbconvert_exporter": "python",
   "pygments_lexer": "ipython3",
   "version": "3.10.15"
  }
 },
 "nbformat": 4,
 "nbformat_minor": 2
}
