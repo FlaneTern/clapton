{
 "cells": [
  {
   "cell_type": "code",
   "execution_count": 40,
   "metadata": {},
   "outputs": [],
   "source": [
    "import sys\n",
    "sys.path.append(\"../\")\n",
    "from clapton.clapton import claptonize\n",
    "from clapton.ansatzes import * \n",
    "from clapton.clifford import ParametrizedCliffordCircuit\n",
    "import numpy as np\n",
    "from qiskit import QuantumCircuit\n",
    "from qiskit.converters import circuit_to_dag, dag_to_circuit\n",
    "from qiskit_qec.utils.stim_tools import get_stim_circuits\n",
    "from qiskit_research.utils.convenience import *"
   ]
  },
  {
   "cell_type": "code",
   "execution_count": 41,
   "metadata": {},
   "outputs": [],
   "source": [
    "paulis = [\"XXI\", \"IXX\", \"YYI\", \"IYY\", \"ZZI\", \"IZZ\"]\n",
    "coeffs = np.random.random(len(paulis))\n",
    "\n",
    "from clapton.depolarization import GateGeneralDepolarizationModel #TODO: check this out \n"
   ]
  },
  {
   "cell_type": "code",
   "execution_count": 42,
   "metadata": {},
   "outputs": [
    {
     "data": {
      "image/png": "[encoded data removed]",
      "text/plain": [
       "<Figure size 705.552x284.278 with 1 Axes>"
      ]
     },
     "execution_count": 42,
     "metadata": {},
     "output_type": "execute_result"
    }
   ],
   "source": [
    "def circular_ansatz(N, reps=1, fix_2q=False):\n",
    "    pcirc = QuantumCircuit(N)\n",
    "    for _ in range(reps):\n",
    "        for i in range(N):\n",
    "            pcirc.ry(0,i)\n",
    "        for i in range(N):\n",
    "            pcirc.rz(0,i)\n",
    "        for i in range(N):\n",
    "            control = (i-1) % N\n",
    "            target = i\n",
    "            if fix_2q:\n",
    "                pcirc.cx(control, target).fix(1)\n",
    "            else:\n",
    "                pcirc.cx(control, target)\n",
    "    for i in range(N):\n",
    "        pcirc.ry(0,i)\n",
    "    for i in range(N):\n",
    "        pcirc.rz(0,i)\n",
    "    return pcirc\n",
    "\n",
    "qc=circular_ansatz(3)\n",
    "qc.draw(output='mpl')"
   ]
  },
  {
   "cell_type": "markdown",
   "metadata": {},
   "source": [
    "## Altering the Ansatz itself"
   ]
  },
  {
   "cell_type": "code",
   "execution_count": 43,
   "metadata": {},
   "outputs": [],
   "source": [
    "rng = np.random.default_rng()\n",
    "\n",
    "TWIRL_GATES_CX = (\n",
    "        (('I', 'I'), ('I', 'I')),\n",
    "        (('I', 'X'), ('I', 'X')),\n",
    "        (('I', 'Y'), ('Z', 'Y')),\n",
    "        (('I', 'Z'), ('Z', 'Z')),\n",
    "        (('X', 'I'), ('X', 'X')),\n",
    "        (('X', 'X'), ('X', 'I')),\n",
    "        (('X', 'Y'), ('Y', 'Z')),\n",
    "        (('X', 'Z'), ('Y', 'Y')),\n",
    "        (('Y', 'I'), ('Y', 'X')),\n",
    "        (('Y', 'X'), ('Y', 'I')),\n",
    "        (('Y', 'Y'), ('X', 'Z')),\n",
    "        (('Y', 'Z'), ('X', 'Y')),\n",
    "        (('Z', 'I'), ('Z', 'I')),\n",
    "        (('Z', 'X'), ('Z', 'X')),\n",
    "        (('Z', 'Y'), ('I', 'Y')),\n",
    "        (('Z', 'Z'), ('I', 'Z')),\n",
    "    )\n",
    "\n",
    "pauli_twirl_dict = {\"I\":0,\"X\":1,\"Y\":2,\"Z\":3}\n",
    "\n",
    "def twirled_circular_ansatz(N, reps=1, fix_2q=False):\n",
    "    pcirc = ParametrizedCliffordCircuit()\n",
    "    for _ in range(reps):\n",
    "        for i in range(N):\n",
    "            pcirc.RY(i)\n",
    "        for i in range(N):\n",
    "            pcirc.RZ(i)\n",
    "        for i in range(N):\n",
    "            control = (i-1) % N\n",
    "            target = i\n",
    "            if fix_2q:\n",
    "                \n",
    "                (before0, before1), (after0, after1) = TWIRL_GATES_CX[\n",
    "                    rng.integers(len(TWIRL_GATES_CX))]\n",
    "\n",
    "                pcirc.PauliTwirl(control).fix(pauli_twirl_dict[before0])\n",
    "                pcirc.PauliTwirl(control).fix(pauli_twirl_dict[before1])\n",
    "                pcirc.Q2(control, target).fix(1)\n",
    "                pcirc.PauliTwirl(target).fix(pauli_twirl_dict[after0])\n",
    "                pcirc.PauliTwirl(target).fix(pauli_twirl_dict[after1])\n",
    "            else:\n",
    "                pcirc.Q2(control, target)\n",
    "    for i in range(N):\n",
    "        pcirc.RY(i)\n",
    "    for i in range(N):\n",
    "        pcirc.RZ(i)\n",
    "\n",
    "    \n",
    "    return pcirc\n",
    "\n",
    "pauli_twirl_list = [twirled_circular_ansatz(N=len(paulis[0]), reps=1, fix_2q=True) for _ in range(100)]\n"
   ]
  },
  {
   "cell_type": "code",
   "execution_count": 44,
   "metadata": {},
   "outputs": [
    {
     "data": {
      "text/plain": [
       "<clapton.clifford.ParametrizedCliffordCircuit at 0x7fa66fb65120>"
      ]
     },
     "execution_count": 44,
     "metadata": {},
     "output_type": "execute_result"
    }
   ],
   "source": [
    "twirl_ansatz = twirled_circular_ansatz(N=len(paulis[0]), reps=1, fix_2q=True)\n",
    "\n",
    "# let's add a noise model where we specify global 1q and 2q gate errors\n",
    "nm = GateGeneralDepolarizationModel(p1=0.005, p2=0.02)\n",
    "twirl_ansatz.add_depolarization_model(nm)\n"
   ]
  },
  {
   "cell_type": "code",
   "execution_count": 45,
   "metadata": {},
   "outputs": [
    {
     "data": {
      "text/plain": [
       "[0, 0, 0, 0, 0, 0, 0, 0, 0, 0, 0, 0]"
      ]
     },
     "execution_count": 45,
     "metadata": {},
     "output_type": "execute_result"
    }
   ],
   "source": [
    "twirl_ansatz.read()"
   ]
  },
  {
   "cell_type": "code",
   "execution_count": 46,
   "metadata": {},
   "outputs": [
    {
     "data": {
      "text/html": [
       "<pre>q0: -I-DEPOLARIZE1(0.005)--------------------I------------------DEPOLARIZE1(0.005)---------------------------------------------------------------------------------X-DEPOLARIZE2(0.02)-Y-DEPOLARIZE1(0.005)-X-DEPOLARIZE1(0.005)-I-DEPOLARIZE1(0.005)-Z-DEPOLARIZE1(0.005)-@-DEPOLARIZE2(0.02)--------------------------------------------------------------------------------------------------------------------------------I------------------DEPOLARIZE1(0.005)--------------------I------------------DEPOLARIZE1(0.005)---------------------------------------\n",
       "                                                                                                                                                                   | |                                                                                                     | |\n",
       "q1: ---I------------------DEPOLARIZE1(0.005)--------------------I------------------DEPOLARIZE1(0.005)--------------------------------------------------------------|-|-----------------------------------------------------------------------------------------------------X-DEPOLARIZE2(0.02)-Z-DEPOLARIZE1(0.005)-Z-DEPOLARIZE1(0.005)-X-DEPOLARIZE1(0.005)-I-DEPOLARIZE1(0.005)-@-DEPOLARIZE2(0.02)-------------------------------------------I------------------DEPOLARIZE1(0.005)--------------------I------------------DEPOLARIZE1(0.005)--------------------\n",
       "                                                                                                                                                                   | |                                                                                                                                                                                                             | |\n",
       "q2: ----------------------I------------------DEPOLARIZE1(0.005)--------------------I------------------DEPOLARIZE1(0.005)-Y-DEPOLARIZE1(0.005)-I-DEPOLARIZE1(0.005)-@-DEPOLARIZE2(0.02)---------------------------------------------------------------------------------------------------------------------------------------------------------------------------------------------X-DEPOLARIZE2(0.02)-X-DEPOLARIZE1(0.005)-X-DEPOLARIZE1(0.005)--------------------I------------------DEPOLARIZE1(0.005)--------------------I------------------DEPOLARIZE1(0.005)-</pre>"
      ],
      "text/plain": [
       "q0: -I-DEPOLARIZE1(0.005)--------------------I------------------DEPOLARIZE1(0.005)---------------------------------------------------------------------------------X-DEPOLARIZE2(0.02)-Y-DEPOLARIZE1(0.005)-X-DEPOLARIZE1(0.005)-I-DEPOLARIZE1(0.005)-Z-DEPOLARIZE1(0.005)-@-DEPOLARIZE2(0.02)--------------------------------------------------------------------------------------------------------------------------------I------------------DEPOLARIZE1(0.005)--------------------I------------------DEPOLARIZE1(0.005)---------------------------------------\n",
       "                                                                                                                                                                   | |                                                                                                     | |\n",
       "q1: ---I------------------DEPOLARIZE1(0.005)--------------------I------------------DEPOLARIZE1(0.005)--------------------------------------------------------------|-|-----------------------------------------------------------------------------------------------------X-DEPOLARIZE2(0.02)-Z-DEPOLARIZE1(0.005)-Z-DEPOLARIZE1(0.005)-X-DEPOLARIZE1(0.005)-I-DEPOLARIZE1(0.005)-@-DEPOLARIZE2(0.02)-------------------------------------------I------------------DEPOLARIZE1(0.005)--------------------I------------------DEPOLARIZE1(0.005)--------------------\n",
       "                                                                                                                                                                   | |                                                                                                                                                                                                             | |\n",
       "q2: ----------------------I------------------DEPOLARIZE1(0.005)--------------------I------------------DEPOLARIZE1(0.005)-Y-DEPOLARIZE1(0.005)-I-DEPOLARIZE1(0.005)-@-DEPOLARIZE2(0.02)---------------------------------------------------------------------------------------------------------------------------------------------------------------------------------------------X-DEPOLARIZE2(0.02)-X-DEPOLARIZE1(0.005)-X-DEPOLARIZE1(0.005)--------------------I------------------DEPOLARIZE1(0.005)--------------------I------------------DEPOLARIZE1(0.005)-"
      ]
     },
     "execution_count": 46,
     "metadata": {},
     "output_type": "execute_result"
    }
   ],
   "source": [
    "twirl_ansatz.stim_circuit().diagram()"
   ]
  },
  {
   "cell_type": "code",
   "execution_count": 47,
   "metadata": {},
   "outputs": [
    {
     "name": "stdout",
     "output_type": "stream",
     "text": [
      "STARTING ROUND 0\n",
      "\n",
      "\n",
      "started GA at id 1 with 1 procs\n",
      "\n",
      "started GA at id 2 with 1 procs\n",
      "started GA at id 3 with 1 procs\n",
      "\n",
      "started GA at id None with 1 procs\n",
      "\n",
      "\n",
      "[0, array([-2.79733882, -1.30485129, -1.49248753,  0.        ]), array([1, 3, 0, 1, 0, 3, 1, 1, 1, 1, 0, 0], dtype=object)]\n",
      "[0, array([-2.77065218, -1.27816464, -1.49248753,  0.        ]), array([1, 1, 3, 0, 2, 1, 0, 1, 1, 2, 3, 2], dtype=object)]\n",
      "[0, array([-2.78559425, -1.29310672, -1.49248753,  0.        ]), array([3, 1, 2, 0, 0, 3, 2, 1, 3, 0, 2, 2], dtype=object)]\n",
      "[0, array([-2.79083074, -1.2983432 , -1.49248753,  0.        ]), array([2, 3, 0, 2, 2, 2, 3, 0, 0, 2, 0, 2], dtype=object)]\n",
      "[1, array([-1.23025337, -0.55553223, -0.67472114,  0.        ]), array([0, 0, 3, 1, 2, 3, 0, 0, 0, 2, 1, 0], dtype=object)]\n",
      "[1, array([-2.80311748, -1.31062994, -1.49248753,  0.        ]), array([3, 1, 0, 3, 0, 1, 3, 1, 3, 1, 0, 2], dtype=object)]\n",
      "[1, array([-1.25121381, -0.57649268, -0.67472114,  0.        ]), array([3, 2, 3, 0, 3, 2, 0, 2, 2, 2, 0, 1], dtype=object)]\n",
      "[1, array([-2.78299592, -1.29050838, -1.49248753,  0.        ]), array([1, 3, 0, 2, 2, 1, 1, 0, 0, 3, 3, 1], dtype=object)]\n",
      "[2, array([-2.78668614, -1.29419861, -1.49248753,  0.        ]), array([0, 1, 0, 3, 0, 1, 3, 1, 3, 1, 0, 2], dtype=object)]\n",
      "[2, array([-1.23295158, -0.55823045, -0.67472114,  0.        ]), array([3, 2, 3, 0, 3, 2, 0, 2, 2, 2, 0, 1], dtype=object)]\n",
      "[2, array([-1.30467392, -0.60230597, -0.70236795,  0.        ]), array([0, 3, 3, 2, 0, 2, 2, 2, 2, 0, 0, 0], dtype=object)]\n",
      "[2, array([-2.7886122 , -1.29612466, -1.49248753,  0.        ]), array([1, 3, 0, 2, 2, 3, 2, 2, 2, 2, 0, 2], dtype=object)]\n",
      "[3, array([-2.79777153, -1.305284  , -1.49248753,  0.        ]), array([3, 1, 0, 3, 0, 1, 3, 1, 3, 1, 0, 2], dtype=object)]\n",
      "[3, array([-2.79614824, -1.30366071, -1.49248753,  0.        ]), array([3, 1, 0, 1, 0, 0, 3, 0, 0, 2, 0, 2], dtype=object)]\n",
      "[3, array([-1.57477726, -0.713981  , -0.86079625,  0.        ]), array([0, 3, 3, 2, 3, 3, 0, 0, 0, 2, 1, 0], dtype=object)]\n",
      "[3, array([-2.77691246, -1.28442492, -1.49248753,  0.        ]), array([1, 3, 0, 2, 2, 1, 1, 0, 0, 3, 3, 1], dtype=object)]\n",
      "[4, array([-2.79154731, -1.29905978, -1.49248753,  0.        ]), array([1, 1, 0, 3, 0, 1, 1, 0, 0, 1, 2, 0], dtype=object)]\n",
      "[4, array([-2.78916055, -1.29667302, -1.49248753,  0.        ]), array([3, 1, 0, 1, 0, 0, 3, 0, 0, 2, 0, 2], dtype=object)]\n",
      "[4, array([-1.54834698, -0.68755073, -0.86079625,  0.        ]), array([1, 1, 1, 1, 3, 2, 0, 2, 3, 3, 3, 3], dtype=object)]\n",
      "[4, array([-2.75405194, -1.26156441, -1.49248753,  0.        ]), array([2, 1, 2, 3, 1, 2, 3, 2, 0, 2, 2, 1], dtype=object)]\n",
      "[5, array([-2.8074608 , -1.31497327, -1.49248753,  0.        ]), array([0, 1, 0, 3, 0, 1, 3, 1, 3, 1, 0, 2], dtype=object)]\n",
      "[5, array([-2.78239761, -1.28991007, -1.49248753,  0.        ]), array([3, 1, 0, 2, 0, 2, 1, 1, 3, 1, 2, 0], dtype=object)]\n",
      "[5, array([-1.31366033, -0.61129238, -0.70236795,  0.        ]), array([3, 3, 3, 2, 0, 2, 2, 2, 2, 0, 0, 0], dtype=object)]\n",
      "[5, array([-2.79764955, -1.30516202, -1.49248753,  0.        ]), array([1, 3, 0, 2, 2, 1, 1, 0, 0, 2, 0, 2], dtype=object)]\n",
      "[6, array([-2.79392975, -1.30144221, -1.49248753,  0.        ]), array([1, 1, 0, 3, 0, 1, 3, 1, 3, 0, 0, 2], dtype=object)]\n",
      "\n",
      "[6, array([-1.31948465, -0.6171167 , -0.70236795,  0.        ]), array([3, 0, 2, 0, 3, 0, 1, 3, 1, 2, 0, 0], dtype=object)][6, array([-1.62633835, -0.76554209, -0.86079625,  0.        ]), array([3, 0, 2, 3, 3, 0, 3, 1, 1, 1, 3, 1], dtype=object)]\n",
      "[6, array([-2.78658185, -1.29409432, -1.49248753,  0.        ]), array([1, 3, 0, 2, 2, 1, 1, 0, 0, 3, 0, 2], dtype=object)]\n",
      "[7, array([-2.80346108, -1.31097355, -1.49248753,  0.        ]), array([2, 1, 0, 3, 0, 1, 3, 1, 3, 1, 0, 2], dtype=object)]\n",
      "[7, array([-2.78163782, -1.28915029, -1.49248753,  0.        ]), array([0, 3, 2, 1, 2, 3, 0, 3, 1, 1, 0, 0], dtype=object)]\n",
      "[7, array([-2.79857162, -1.30608409, -1.49248753,  0.        ]), array([3, 1, 0, 1, 0, 0, 3, 0, 0, 2, 0, 2], dtype=object)]\n",
      "[7, array([-2.79833919, -1.30585166, -1.49248753,  0.        ]), array([1, 3, 0, 2, 2, 1, 1, 0, 0, 2, 0, 2], dtype=object)]\n",
      "[8, array([-2.8029737 , -1.31048617, -1.49248753,  0.        ]), array([2, 1, 0, 3, 0, 1, 1, 0, 0, 1, 2, 0], dtype=object)]\n",
      "[8, array([-2.78863124, -1.29614371, -1.49248753,  0.        ]), array([3, 1, 0, 0, 2, 3, 0, 1, 1, 0, 2, 2], dtype=object)]\n",
      "[8, array([-2.79834044, -1.30585291, -1.49248753,  0.        ]), array([3, 1, 2, 0, 0, 3, 2, 1, 3, 1, 2, 2], dtype=object)]\n",
      "[8, array([-2.78601096, -1.29352343, -1.49248753,  0.        ]), array([0, 3, 0, 2, 2, 2, 3, 0, 0, 2, 0, 2], dtype=object)]\n",
      "[9, array([-2.80558712, -1.31309958, -1.49248753,  0.        ]), array([0, 1, 0, 3, 0, 1, 3, 1, 3, 1, 0, 2], dtype=object)]\n",
      "[9, array([-2.80418369, -1.31169616, -1.49248753,  0.        ]), array([0, 3, 2, 1, 2, 3, 0, 3, 1, 0, 0, 0], dtype=object)]\n",
      "[9, array([-2.7989065 , -1.30641897, -1.49248753,  0.        ]), array([3, 1, 2, 0, 0, 3, 2, 1, 3, 0, 2, 2], dtype=object)]\n",
      "[9, array([-2.8030798 , -1.31059227, -1.49248753,  0.        ]), array([2, 3, 0, 2, 2, 2, 3, 0, 0, 2, 0, 2], dtype=object)]\n",
      "[10, array([-2.79989335, -1.30740581, -1.49248753,  0.        ]), array([0, 1, 0, 3, 0, 1, 1, 0, 0, 0, 0, 2], dtype=object)]\n",
      "[10, array([-2.79329746, -1.30080993, -1.49248753,  0.        ]), array([0, 3, 2, 1, 2, 3, 1, 3, 1, 1, 0, 0], dtype=object)]\n",
      "[10, array([-2.78445226, -1.29196473, -1.49248753,  0.        ]), array([0, 1, 2, 0, 0, 3, 2, 1, 3, 0, 2, 2], dtype=object)]\n",
      "[10, array([-2.79682535, -1.30433781, -1.49248753,  0.        ]), array([1, 3, 0, 2, 2, 1, 3, 0, 0, 2, 0, 2], dtype=object)]\n",
      "[11, array([-2.80458983, -1.31210229, -1.49248753,  0.        ]), array([1, 1, 0, 3, 0, 1, 3, 1, 3, 1, 0, 2], dtype=object)]\n",
      "\n",
      "[12, array([-2.80385337, -1.31136584, -1.49248753,  0.        ]), array([3, 1, 0, 0, 0, 1, 3, 1, 3, 1, 0, 2], dtype=object)][11, array([-2.79929521, -1.30680768, -1.49248753,  0.        ]), array([3, 3, 2, 1, 2, 3, 1, 3, 1, 1, 0, 0], dtype=object)]\n",
      "[11, array([-2.80109565, -1.30860812, -1.49248753,  0.        ]), array([3, 1, 0, 1, 0, 0, 3, 0, 0, 2, 0, 2], dtype=object)]\n",
      "[11, array([-2.80659819, -1.31411066, -1.49248753,  0.        ]), array([1, 3, 0, 2, 2, 1, 1, 0, 0, 2, 0, 2], dtype=object)]\n",
      "[12, array([-2.8002898 , -1.30780227, -1.49248753,  0.        ]), array([2, 3, 2, 1, 2, 3, 1, 3, 1, 1, 0, 0], dtype=object)]\n",
      "[12, array([-2.80089524, -1.3084077 , -1.49248753,  0.        ]), array([2, 1, 0, 0, 0, 2, 0, 0, 0, 2, 0, 2], dtype=object)]\n",
      "[12, array([-2.79200166, -1.29951413, -1.49248753,  0.        ]), array([1, 3, 0, 0, 2, 1, 3, 0, 0, 2, 0, 2], dtype=object)]\n",
      "[13, array([-2.80517907, -1.31269154, -1.49248753,  0.        ]), array([3, 1, 0, 3, 0, 1, 3, 1, 3, 0, 0, 2], dtype=object)]\n",
      "[13, array([-2.81248188, -1.31999435, -1.49248753,  0.        ]), array([3, 3, 2, 1, 2, 3, 0, 3, 1, 1, 0, 0], dtype=object)]\n",
      "[13, array([-2.80020833, -1.3077208 , -1.49248753,  0.        ]), array([3, 1, 0, 1, 0, 0, 3, 0, 0, 2, 0, 2], dtype=object)]\n",
      "[13, array([-2.80201199, -1.30952445, -1.49248753,  0.        ]), array([2, 3, 0, 2, 2, 2, 3, 0, 0, 2, 0, 2], dtype=object)]\n",
      "[14, array([-2.80202586, -1.30953832, -1.49248753,  0.        ]), array([0, 1, 0, 3, 0, 1, 3, 1, 3, 0, 0, 2], dtype=object)]\n",
      "[14, array([-2.7961929 , -1.30370536, -1.49248753,  0.        ]), array([2, 3, 0, 2, 2, 2, 1, 0, 0, 0, 0, 2], dtype=object)]\n",
      "[14, array([-2.79204961, -1.29956208, -1.49248753,  0.        ]), array([2, 3, 0, 0, 0, 1, 0, 2, 2, 0, 0, 0], dtype=object)]\n",
      "[14, array([-2.80056338, -1.30807585, -1.49248753,  0.        ]), array([1, 1, 0, 1, 0, 0, 3, 0, 0, 2, 0, 2], dtype=object)]\n",
      "[15, array([-2.80535365, -1.31286612, -1.49248753,  0.        ]), array([2, 1, 0, 3, 0, 1, 1, 0, 0, 0, 0, 2], dtype=object)]\n",
      "[15, array([-2.80000999, -1.30752246, -1.49248753,  0.        ]), array([2, 3, 0, 2, 2, 2, 3, 0, 0, 2, 0, 2], dtype=object)]\n",
      "[15, array([-2.80920708, -1.31671954, -1.49248753,  0.        ]), array([3, 3, 2, 1, 2, 3, 1, 3, 1, 1, 0, 0], dtype=object)]\n",
      "[15, array([-2.80917125, -1.31668372, -1.49248753,  0.        ]), array([2, 1, 2, 0, 0, 3, 2, 1, 3, 0, 2, 2], dtype=object)]\n",
      "[16, array([-2.80376356, -1.31127602, -1.49248753,  0.        ]), array([0, 1, 0, 3, 0, 1, 2, 1, 3, 1, 2, 0], dtype=object)]\n",
      "[16, array([-2.80090745, -1.30841992, -1.49248753,  0.        ]), array([0, 3, 2, 1, 2, 1, 0, 3, 1, 1, 0, 0], dtype=object)]\n",
      "[16, array([-2.79997044, -1.30748291, -1.49248753,  0.        ]), array([1, 3, 0, 2, 2, 2, 3, 0, 0, 2, 0, 2], dtype=object)]\n",
      "[16, array([-2.79838701, -1.30589948, -1.49248753,  0.        ]), array([3, 1, 0, 1, 0, 0, 3, 0, 0, 0, 0, 2], dtype=object)]\n",
      "[17, array([-2.80386954, -1.311382  , -1.49248753,  0.        ]), array([0, 1, 0, 3, 0, 1, 1, 0, 0, 0, 0, 2], dtype=object)]\n",
      "[17, array([-2.80682267, -1.31433513, -1.49248753,  0.        ]), array([0, 3, 2, 1, 2, 3, 0, 3, 1, 1, 0, 0], dtype=object)]\n",
      "[18, array([-2.79784078, -1.30535325, -1.49248753,  0.        ]), array([2, 1, 0, 3, 0, 1, 3, 0, 0, 1, 2, 0], dtype=object)]\n",
      "[17, array([-2.81301972, -1.32053219, -1.49248753,  0.        ]), array([2, 3, 0, 2, 2, 1, 3, 0, 0, 2, 0, 2], dtype=object)]\n",
      "[17, array([-2.80043854, -1.307951  , -1.49248753,  0.        ]), array([3, 1, 0, 3, 0, 0, 3, 0, 0, 2, 0, 2], dtype=object)]\n",
      "[18, array([-2.81475995, -1.32227241, -1.49248753,  0.        ]), array([2, 3, 0, 2, 2, 2, 1, 0, 0, 1, 0, 2], dtype=object)]\n",
      "[18, array([-2.79095243, -1.29846489, -1.49248753,  0.        ]), array([1, 3, 2, 1, 2, 1, 0, 3, 1, 1, 0, 0], dtype=object)]\n",
      "[18, array([-2.79878041, -1.30629287, -1.49248753,  0.        ]), array([2, 1, 0, 1, 0, 1, 3, 0, 0, 2, 0, 2], dtype=object)]\n",
      "[19, array([-2.80417424, -1.31168671, -1.49248753,  0.        ]), array([0, 1, 0, 3, 0, 1, 1, 0, 0, 1, 2, 0], dtype=object)]\n",
      "[20, array([-2.79384625, -1.30135871, -1.49248753,  0.        ]), array([2, 1, 0, 3, 0, 1, 3, 1, 3, 0, 0, 2], dtype=object)]\n",
      "[19, array([-2.81007707, -1.31758953, -1.49248753,  0.        ]), array([2, 3, 2, 1, 2, 1, 0, 3, 1, 1, 0, 0], dtype=object)]\n",
      "[19, array([-2.80079794, -1.30831041, -1.49248753,  0.        ]), array([2, 3, 0, 2, 2, 2, 3, 0, 0, 2, 0, 2], dtype=object)]\n",
      "[19, array([-2.81134547, -1.31885794, -1.49248753,  0.        ]), array([2, 1, 0, 0, 0, 2, 0, 0, 0, 2, 0, 2], dtype=object)]\n",
      "[20, array([-2.79208734, -1.29959981, -1.49248753,  0.        ]), array([2, 3, 2, 1, 2, 3, 0, 3, 1, 0, 0, 0], dtype=object)]\n",
      "[20, array([-2.79456089, -1.30207336, -1.49248753,  0.        ]), array([2, 1, 0, 0, 0, 2, 1, 0, 0, 2, 0, 2], dtype=object)]\n",
      "[20, array([-2.797932  , -1.30544447, -1.49248753,  0.        ]), array([1, 3, 0, 2, 2, 2, 1, 0, 0, 2, 0, 2], dtype=object)]\n",
      "[21, array([-2.80438857, -1.31190104, -1.49248753,  0.        ]), array([0, 1, 0, 3, 0, 1, 2, 1, 3, 1, 2, 0], dtype=object)]\n",
      "[21, array([-2.80891748, -1.31642994, -1.49248753,  0.        ]), array([0, 3, 2, 1, 2, 3, 1, 3, 1, 1, 0, 0], dtype=object)]\n",
      "[22, array([-2.80006547, -1.30757793, -1.49248753,  0.        ]), array([2, 1, 0, 3, 0, 1, 1, 0, 0, 0, 0, 2], dtype=object)]\n",
      "[21, array([-2.80403914, -1.3115516 , -1.49248753,  0.        ]), array([2, 1, 0, 0, 0, 2, 0, 0, 0, 2, 0, 2], dtype=object)]\n",
      "[21, array([-2.80263576, -1.31014822, -1.49248753,  0.        ]), array([2, 3, 0, 2, 2, 2, 3, 0, 0, 2, 0, 2], dtype=object)]\n",
      "[22, array([-2.80681404, -1.3143265 , -1.49248753,  0.        ]), array([2, 3, 2, 3, 2, 3, 3, 3, 1, 1, 0, 0], dtype=object)]\n",
      "[22, array([-2.79926426, -1.30677673, -1.49248753,  0.        ]), array([1, 3, 0, 0, 2, 2, 1, 0, 0, 2, 0, 2], dtype=object)]\n",
      "[23, array([-2.80596175, -1.31347421, -1.49248753,  0.        ]), array([0, 1, 0, 3, 0, 1, 2, 1, 3, 1, 2, 0], dtype=object)]\n",
      "[22, array([-2.79771757, -1.30523004, -1.49248753,  0.        ]), array([2, 1, 0, 0, 0, 3, 0, 0, 0, 2, 0, 2], dtype=object)]\n",
      "[24, array([-2.80233894, -1.30985141, -1.49248753,  0.        ]), array([2, 1, 0, 3, 0, 1, 2, 1, 3, 1, 2, 0], dtype=object)]\n",
      "[23, array([-2.80416302, -1.31167548, -1.49248753,  0.        ]), array([0, 3, 2, 1, 2, 1, 0, 3, 1, 1, 0, 0], dtype=object)]\n",
      "[23, array([-2.80094399, -1.30845646, -1.49248753,  0.        ]), array([1, 3, 0, 2, 2, 2, 3, 0, 0, 2, 0, 2], dtype=object)]\n",
      "[24, array([-2.79370346, -1.30121593, -1.49248753,  0.        ]), array([2, 3, 2, 1, 2, 1, 1, 3, 1, 1, 0, 0], dtype=object)]\n",
      "[23, array([-2.80553508, -1.31304755, -1.49248753,  0.        ]), array([2, 1, 0, 0, 0, 2, 1, 0, 0, 2, 0, 2], dtype=object)]\n",
      "[24, array([-2.80077561, -1.30828807, -1.49248753,  0.        ]), array([1, 3, 0, 2, 2, 0, 3, 0, 0, 0, 0, 2], dtype=object)]\n",
      "[25, array([-2.80357851, -1.31109098, -1.49248753,  0.        ]), array([0, 1, 0, 3, 0, 1, 2, 1, 3, 1, 0, 2], dtype=object)]\n",
      "[24, array([-2.79927645, -1.30678892, -1.49248753,  0.        ]), array([2, 1, 0, 0, 0, 2, 1, 0, 0, 2, 0, 2], dtype=object)]\n",
      "[25, array([-2.80523495, -1.31274741, -1.49248753,  0.        ]), array([2, 3, 2, 1, 2, 1, 1, 3, 1, 1, 0, 0], dtype=object)]\n",
      "[26, array([-2.80150355, -1.30901602, -1.49248753,  0.        ]), array([3, 1, 0, 3, 0, 1, 2, 1, 3, 1, 2, 0], dtype=object)]\n",
      "[25, array([-2.80668776, -1.31420023, -1.49248753,  0.        ]), array([1, 3, 0, 2, 2, 0, 3, 0, 0, 0, 0, 2], dtype=object)]\n",
      "[26, array([-2.80252642, -1.31003889, -1.49248753,  0.        ]), array([0, 3, 2, 1, 2, 1, 1, 3, 1, 1, 0, 0], dtype=object)]\n",
      "[25, array([-2.80562584, -1.3131383 , -1.49248753,  0.        ]), array([2, 1, 0, 0, 0, 2, 0, 0, 0, 2, 0, 2], dtype=object)]\n",
      "[27, array([-2.80303897, -1.31055144, -1.49248753,  0.        ]), array([0, 1, 0, 3, 0, 1, 2, 1, 3, 1, 2, 0], dtype=object)]\n",
      "[26, array([-2.80743257, -1.31494503, -1.49248753,  0.        ]), array([2, 1, 0, 0, 0, 2, 0, 0, 0, 3, 0, 2], dtype=object)]\n",
      "[26, array([-2.80085481, -1.30836728, -1.49248753,  0.        ]), array([1, 3, 0, 2, 2, 2, 3, 0, 0, 3, 0, 2], dtype=object)]\n",
      "[28, array([-2.80706361, -1.31457608, -1.49248753,  0.        ]), array([0, 1, 0, 0, 0, 1, 2, 1, 3, 1, 2, 0], dtype=object)]\n",
      "[27, array([-2.80247882, -1.30999129, -1.49248753,  0.        ]), array([2, 3, 2, 1, 2, 3, 1, 3, 1, 1, 0, 0], dtype=object)]\n",
      "[28, array([-2.79857322, -1.30608569, -1.49248753,  0.        ]), array([0, 3, 2, 1, 2, 3, 3, 3, 1, 1, 0, 0], dtype=object)]\n",
      "[27, array([-2.8128217 , -1.32033416, -1.49248753,  0.        ]), array([2, 1, 0, 0, 0, 2, 0, 0, 0, 2, 0, 2], dtype=object)]\n",
      "[28, array([-2.79212222, -1.29963468, -1.49248753,  0.        ]), array([2, 1, 0, 0, 0, 1, 0, 0, 0, 3, 0, 2], dtype=object)]\n",
      "[27, array([-2.80484179, -1.31235426, -1.49248753,  0.        ]), array([1, 3, 0, 2, 2, 2, 3, 0, 0, 2, 0, 2], dtype=object)]\n",
      "[29, array([-2.80673569, -1.31424815, -1.49248753,  0.        ]), array([0, 1, 0, 3, 0, 1, 3, 1, 3, 1, 0, 2], dtype=object)]\n",
      "\n",
      "\n",
      "[30, array([-2.79852517, -1.30603764, -1.49248753,  0.        ]), array([0, 1, 0, 0, 0, 1, 3, 1, 3, 1, 0, 2], dtype=object)][29, array([-2.80579747, -1.31330994, -1.49248753,  0.        ]), array([0, 3, 2, 1, 2, 1, 0, 3, 1, 1, 0, 0], dtype=object)][28, array([-2.80135391, -1.30886637, -1.49248753,  0.        ]), array([1, 3, 0, 1, 2, 2, 3, 0, 0, 2, 0, 2], dtype=object)]\n",
      "[29, array([-2.80642806, -1.31394053, -1.49248753,  0.        ]), array([2, 1, 0, 0, 0, 2, 0, 0, 0, 2, 0, 2], dtype=object)]\n",
      "[30, array([-2.79700231, -1.30451478, -1.49248753,  0.        ]), array([2, 3, 2, 1, 2, 2, 2, 3, 1, 1, 0, 0], dtype=object)]\n",
      "[31, array([-2.80359579, -1.31110826, -1.49248753,  0.        ]), array([3, 1, 0, 0, 0, 1, 3, 1, 3, 1, 0, 2], dtype=object)]\n",
      "[30, array([-2.79121518, -1.29872765, -1.49248753,  0.        ]), array([0, 1, 0, 0, 0, 2, 0, 0, 0, 0, 0, 2], dtype=object)]\n",
      "[29, array([-2.80203649, -1.30954896, -1.49248753,  0.        ]), array([1, 3, 0, 2, 2, 0, 3, 0, 0, 0, 0, 2], dtype=object)]\n",
      "[32, array([-2.79864408, -1.30615655, -1.49248753,  0.        ]), array([0, 1, 0, 0, 0, 1, 3, 1, 3, 1, 0, 2], dtype=object)]\n",
      "[31, array([-2.80485029, -1.31236275, -1.49248753,  0.        ]), array([0, 3, 2, 1, 2, 1, 1, 3, 1, 1, 0, 0], dtype=object)]\n",
      "[30, array([-2.80683653, -1.314349  , -1.49248753,  0.        ]), array([1, 3, 0, 2, 2, 2, 3, 0, 0, 0, 0, 2], dtype=object)]\n",
      "[31, array([-2.80210495, -1.30961741, -1.49248753,  0.        ]), array([2, 1, 0, 0, 0, 2, 0, 0, 0, 2, 0, 2], dtype=object)]\n",
      "[32, array([-2.80115408, -1.30866655, -1.49248753,  0.        ]), array([0, 3, 2, 1, 2, 0, 1, 3, 1, 1, 0, 0], dtype=object)]\n",
      "[32, array([-2.8029979 , -1.31051036, -1.49248753,  0.        ]), array([2, 1, 0, 1, 0, 2, 0, 0, 0, 2, 0, 2], dtype=object)]\n",
      "[33, array([-2.8055047 , -1.31301717, -1.49248753,  0.        ]), array([3, 1, 0, 0, 0, 1, 3, 1, 3, 1, 0, 2], dtype=object)]\n",
      "[31, array([-2.80756091, -1.31507338, -1.49248753,  0.        ]), array([1, 3, 0, 2, 2, 2, 3, 0, 0, 3, 0, 2], dtype=object)]\n",
      "[34, array([-2.80196218, -1.30947464, -1.49248753,  0.        ]), array([0, 1, 0, 0, 0, 1, 3, 1, 3, 1, 2, 0], dtype=object)]\n",
      "[33, array([-2.81644105, -1.32395352, -1.49248753,  0.        ]), array([0, 3, 2, 1, 2, 1, 1, 3, 1, 1, 0, 0], dtype=object)]\n",
      "[33, array([-2.80335652, -1.31086899, -1.49248753,  0.        ]), array([2, 1, 0, 0, 0, 2, 0, 0, 0, 2, 0, 2], dtype=object)]\n",
      "[32, array([-2.80496302, -1.31247549, -1.49248753,  0.        ]), array([0, 1, 0, 2, 2, 2, 3, 0, 0, 0, 0, 0], dtype=object)]\n",
      "[34, array([-2.79903792, -1.30655039, -1.49248753,  0.        ]), array([2, 3, 2, 1, 2, 1, 1, 3, 1, 1, 0, 0], dtype=object)]\n",
      "[34, array([-2.80135925, -1.30887172, -1.49248753,  0.        ]), array([2, 1, 0, 0, 0, 1, 2, 0, 0, 2, 0, 2], dtype=object)]\n",
      "[35, array([-2.80356793, -1.3110804 , -1.49248753,  0.        ]), array([3, 1, 0, 3, 0, 1, 2, 1, 3, 1, 2, 0], dtype=object)]\n",
      "[33, array([-2.81104446, -1.31855692, -1.49248753,  0.        ]), array([1, 3, 0, 2, 2, 2, 3, 0, 0, 2, 0, 2], dtype=object)]\n",
      "[36, array([-2.7983491 , -1.30586156, -1.49248753,  0.        ]), array([0, 1, 0, 3, 0, 1, 2, 1, 3, 1, 0, 2], dtype=object)]\n",
      "[35, array([-2.80524681, -1.31275928, -1.49248753,  0.        ]), array([0, 3, 2, 1, 2, 1, 1, 3, 1, 1, 0, 0], dtype=object)]\n",
      "[34, array([-2.80296705, -1.31047951, -1.49248753,  0.        ]), array([1, 3, 0, 2, 2, 2, 2, 0, 0, 0, 0, 2], dtype=object)]\n",
      "[35, array([-2.80502631, -1.31253877, -1.49248753,  0.        ]), array([2, 1, 0, 0, 0, 2, 0, 0, 0, 3, 0, 2], dtype=object)]\n",
      "[36, array([-2.79540873, -1.30292119, -1.49248753,  0.        ]), array([1, 1, 0, 0, 0, 2, 0, 0, 0, 3, 0, 2], dtype=object)]\n",
      "[36, array([-2.80416718, -1.31167964, -1.49248753,  0.        ]), array([3, 3, 2, 1, 2, 1, 1, 3, 1, 1, 0, 0], dtype=object)]\n",
      "[37, array([-2.80686368, -1.31437615, -1.49248753,  0.        ]), array([0, 1, 0, 0, 0, 1, 3, 1, 3, 1, 0, 2], dtype=object)]\n",
      "[38, array([-2.80206823, -1.30958069, -1.49248753,  0.        ]), array([0, 1, 0, 3, 0, 1, 2, 1, 3, 1, 0, 2], dtype=object)]\n",
      "[35, array([-2.80148248, -1.30899494, -1.49248753,  0.        ]), array([1, 3, 0, 2, 2, 2, 3, 0, 0, 0, 0, 2], dtype=object)]\n",
      "[37, array([-2.79967758, -1.30719005, -1.49248753,  0.        ]), array([2, 1, 0, 0, 0, 2, 0, 0, 0, 3, 0, 2], dtype=object)]\n",
      "[36, array([-2.79530757, -1.30282003, -1.49248753,  0.        ]), array([0, 3, 0, 2, 2, 0, 3, 0, 0, 0, 0, 2], dtype=object)]\n",
      "[37, array([-2.8081177 , -1.31563017, -1.49248753,  0.        ]), array([0, 3, 2, 1, 2, 1, 1, 3, 1, 1, 0, 0], dtype=object)]\n",
      "[38, array([-2.79280013, -1.30031259, -1.49248753,  0.        ]), array([2, 1, 0, 1, 0, 2, 0, 0, 0, 3, 0, 2], dtype=object)]\n",
      "[39, array([-2.80625317, -1.31376563, -1.49248753,  0.        ]), array([3, 1, 0, 0, 0, 1, 3, 1, 3, 1, 0, 2], dtype=object)]\n",
      "[38, array([-2.80192039, -1.30943285, -1.49248753,  0.        ]), array([2, 3, 2, 1, 2, 1, 1, 3, 1, 1, 0, 0], dtype=object)]\n",
      "[40, array([-2.79806402, -1.30557648, -1.49248753,  0.        ]), array([3, 1, 0, 1, 0, 1, 3, 1, 3, 1, 0, 2], dtype=object)]\n",
      "[37, array([-2.80894345, -1.31645591, -1.49248753,  0.        ]), array([2, 3, 0, 2, 2, 2, 3, 0, 0, 0, 0, 2], dtype=object)]\n",
      "[39, array([-2.80080441, -1.30831688, -1.49248753,  0.        ]), array([2, 1, 0, 0, 0, 2, 0, 0, 0, 3, 0, 2], dtype=object)]\n",
      "[39, array([-2.79971212, -1.30722459, -1.49248753,  0.        ]), array([0, 3, 2, 1, 2, 1, 1, 3, 1, 1, 0, 0], dtype=object)]\n",
      "[38, array([-2.7940805 , -1.30159297, -1.49248753,  0.        ]), array([2, 3, 0, 2, 2, 2, 3, 0, 0, 3, 0, 2], dtype=object)]\n",
      "[40, array([-2.80063162, -1.30814408, -1.49248753,  0.        ]), array([2, 1, 0, 1, 0, 2, 0, 0, 0, 3, 0, 2], dtype=object)]\n",
      "[40, array([-2.79939745, -1.30690991, -1.49248753,  0.        ]), array([2, 3, 2, 3, 2, 1, 1, 3, 1, 1, 0, 0], dtype=object)]\n",
      "[39, array([-2.80272576, -1.31023823, -1.49248753,  0.        ]), array([1, 3, 0, 2, 2, 2, 3, 0, 0, 0, 0, 2], dtype=object)]\n",
      "[40, array([-2.80151681, -1.30902927, -1.49248753,  0.        ]), array([2, 3, 0, 2, 2, 2, 3, 0, 0, 0, 0, 2], dtype=object)]\n"
     ]
    }
   ],
   "source": [
    "ks_best, energy_noisy, energy_noiseless = claptonize(\n",
    "    paulis,\n",
    "    coeffs,\n",
    "    twirl_ansatz,\n",
    "    n_proc=4,           # total number of processes in parallel\n",
    "    n_starts=4,         # number of random genetic algorithm starts in parallel\n",
    "    n_rounds=1,         # number of budget rounds, if None it will terminate itself\n",
    "    callback=print,     # callback for internal parameter (#iteration, energies, ks) processing\n",
    "    budget=20,\n",
    "    pauli_twirl_list=pauli_twirl_list                        # budget per genetic algorithm instance\n",
    ")"
   ]
  },
  {
   "cell_type": "code",
   "execution_count": 48,
   "metadata": {},
   "outputs": [
    {
     "data": {
      "text/plain": [
       "[2, 3, 0, 2, 2, 2, 1, 0, 0, 1, 0, 2]"
      ]
     },
     "execution_count": 48,
     "metadata": {},
     "output_type": "execute_result"
    }
   ],
   "source": [
    "ks_best"
   ]
  },
  {
   "cell_type": "code",
   "execution_count": 49,
   "metadata": {},
   "outputs": [
    {
     "data": {
      "text/plain": [
       "(-0.06639150821487978, -1.4924875347494782)"
      ]
     },
     "execution_count": 49,
     "metadata": {},
     "output_type": "execute_result"
    }
   ],
   "source": [
    "energy_noisy, energy_noiseless"
   ]
  },
  {
   "cell_type": "code",
   "execution_count": 50,
   "metadata": {},
   "outputs": [
    {
     "data": {
      "text/plain": [
       "1.4260960265345983"
      ]
     },
     "execution_count": 50,
     "metadata": {},
     "output_type": "execute_result"
    }
   ],
   "source": [
    "# differrence\n",
    "np.abs(energy_noisy-energy_noiseless)"
   ]
  },
  {
   "cell_type": "code",
   "execution_count": 51,
   "metadata": {},
   "outputs": [
    {
     "data": {
      "text/html": [
       "<pre>q0: -Y----------Z-----X-Y-X-I-Z-@-------------SQRT_Y-S---\n",
       "                      |         |\n",
       "q1: -SQRT_Y_DAG-Z-----|---------X-Z-Z-X-I-@---I------I---\n",
       "                      |                   |\n",
       "q2: -I----------Z-Y-I-@-------------------X-X-X------I-Z-</pre>"
      ],
      "text/plain": [
       "q0: -Y----------Z-----X-Y-X-I-Z-@-------------SQRT_Y-S---\n",
       "                      |         |\n",
       "q1: -SQRT_Y_DAG-Z-----|---------X-Z-Z-X-I-@---I------I---\n",
       "                      |                   |\n",
       "q2: -I----------Z-Y-I-@-------------------X-X-X------I-Z-"
      ]
     },
     "execution_count": 51,
     "metadata": {},
     "output_type": "execute_result"
    }
   ],
   "source": [
    "# the corresponding circuit is\n",
    "twirl_ansatz.assign(ks_best)\n",
    "twirl_ansatz.snapshot_noiseless().circ_snapshot_noiseless.diagram()"
   ]
  },
  {
   "cell_type": "code",
   "execution_count": 39,
   "metadata": {},
   "outputs": [
    {
     "name": "stdout",
     "output_type": "stream",
     "text": [
      "Sampled results (first 10 shots):\n",
      "[[ True  True  True]\n",
      " [ True  True  True]\n",
      " [False False False]\n",
      " [False False False]\n",
      " [ True  True  True]\n",
      " [ True  True  True]\n",
      " [ True  True  True]\n",
      " [ True  True  True]\n",
      " [ True  True  True]\n",
      " [False False False]]\n",
      "\n",
      "Counts:\n",
      " |000⟩ state: 519\n",
      " |111⟩ state: 505\n",
      " Other states: 0\n"
     ]
    }
   ],
   "source": [
    "import stim\n",
    "import numpy as np\n",
    "\n",
    "# Define the number of shots\n",
    "shots = 1024\n",
    "\n",
    "# Create a new Stim circuit\n",
    "circuit = stim.Circuit()\n",
    "\n",
    "# Prepare a GHZ state: |000> + |111>\n",
    "# Start with three qubits in the |0> state by default\n",
    "circuit.append_operation(\"H\", [0])       # Apply H to qubit 0\n",
    "circuit.append_operation(\"CNOT\", [0, 1]) # Apply CNOT from qubit 0 to qubit 1\n",
    "circuit.append_operation(\"CNOT\", [1, 2]) # Apply CNOT from qubit 1 to qubit 2\n",
    "\n",
    "# Measure each qubit in the computational basis\n",
    "circuit.append_operation(\"M\", [0, 1, 2])\n",
    "\n",
    "# Compile a sampler for the circuit\n",
    "sampler = circuit.compile_sampler()\n",
    "\n",
    "# Run the experiment and sample results\n",
    "results = sampler.sample(shots=shots)\n",
    "\n",
    "# Convert results to a NumPy array for analysis\n",
    "results_array = np.array(results)\n",
    "\n",
    "# Display some information about the results\n",
    "print(\"Sampled results (first 10 shots):\")\n",
    "print(results_array[:10])  # Print the first 10 shots for inspection\n",
    "\n",
    "# Analyze counts of |000> and |111>\n",
    "count_000 = np.sum(np.all(results_array == [0, 0, 0], axis=1))\n",
    "count_111 = np.sum(np.all(results_array == [1, 1, 1], axis=1))\n",
    "\n",
    "print(f\"\\nCounts:\")\n",
    "print(f\" |000⟩ state: {count_000}\")\n",
    "print(f\" |111⟩ state: {count_111}\")\n",
    "print(f\" Other states: {shots - count_000 - count_111}\")\n"
   ]
  }
 ],
 "metadata": {
  "kernelspec": {
   "display_name": "clapton",
   "language": "python",
   "name": "python3"
  },
  "language_info": {
   "codemirror_mode": {
    "name": "ipython",
    "version": 3
   },
   "file_extension": ".py",
   "mimetype": "text/x-python",
   "name": "python",
   "nbconvert_exporter": "python",
   "pygments_lexer": "ipython3",
   "version": "3.10.15"
  }
 },
 "nbformat": 4,
 "nbformat_minor": 2
}
