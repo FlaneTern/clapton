{
 "cells": [
  {
   "cell_type": "code",
   "execution_count": 1,
   "metadata": {},
   "outputs": [],
   "source": [
    "import sys\n",
    "sys.path.append(\"../\")\n",
    "from clapton.clapton import claptonize\n",
    "from clapton.ansatzes import * \n",
    "from clapton.clifford import ParametrizedCliffordCircuit\n",
    "import numpy as np\n",
    "from qiskit import QuantumCircuit\n",
    "from qiskit.converters import circuit_to_dag, dag_to_circuit\n",
    "from qiskit_qec.utils.stim_tools import get_stim_circuits\n",
    "from qiskit_research.utils.convenience import *"
   ]
  },
  {
   "cell_type": "code",
   "execution_count": 2,
   "metadata": {},
   "outputs": [],
   "source": [
    "paulis = [\"XXI\", \"IXX\", \"YYI\", \"IYY\", \"ZZI\", \"IZZ\"]\n",
    "coeffs = np.random.random(len(paulis))\n",
    "\n",
    "from clapton.depolarization import GateGeneralDepolarizationModel #TODO: check this out \n"
   ]
  },
  {
   "cell_type": "code",
   "execution_count": 3,
   "metadata": {},
   "outputs": [
    {
     "data": {
      "image/png": "[encoded data removed]",
      "text/plain": [
       "<Figure size 705.552x284.278 with 1 Axes>"
      ]
     },
     "execution_count": 3,
     "metadata": {},
     "output_type": "execute_result"
    }
   ],
   "source": [
    "def circular_ansatz(N, reps=1, fix_2q=False):\n",
    "    pcirc = QuantumCircuit(N)\n",
    "    for _ in range(reps):\n",
    "        for i in range(N):\n",
    "            pcirc.ry(0,i)\n",
    "        for i in range(N):\n",
    "            pcirc.rz(0,i)\n",
    "        for i in range(N):\n",
    "            control = (i-1) % N\n",
    "            target = i\n",
    "            if fix_2q:\n",
    "                pcirc.cx(control, target).fix(1)\n",
    "            else:\n",
    "                pcirc.cx(control, target)\n",
    "    for i in range(N):\n",
    "        pcirc.ry(0,i)\n",
    "    for i in range(N):\n",
    "        pcirc.rz(0,i)\n",
    "    return pcirc\n",
    "\n",
    "qc=circular_ansatz(3)\n",
    "qc.draw(output='mpl')"
   ]
  },
  {
   "cell_type": "markdown",
   "metadata": {},
   "source": [
    "## Altering the Ansatz itself"
   ]
  },
  {
   "cell_type": "code",
   "execution_count": 4,
   "metadata": {},
   "outputs": [],
   "source": [
    "rng = np.random.default_rng()\n",
    "\n",
    "TWIRL_GATES_CX = (\n",
    "        (('I', 'I'), ('I', 'I')),\n",
    "        (('I', 'X'), ('I', 'X')),\n",
    "        (('I', 'Y'), ('Z', 'Y')),\n",
    "        (('I', 'Z'), ('Z', 'Z')),\n",
    "        (('X', 'I'), ('X', 'X')),\n",
    "        (('X', 'X'), ('X', 'I')),\n",
    "        (('X', 'Y'), ('Y', 'Z')),\n",
    "        (('X', 'Z'), ('Y', 'Y')),\n",
    "        (('Y', 'I'), ('Y', 'X')),\n",
    "        (('Y', 'X'), ('Y', 'I')),\n",
    "        (('Y', 'Y'), ('X', 'Z')),\n",
    "        (('Y', 'Z'), ('X', 'Y')),\n",
    "        (('Z', 'I'), ('Z', 'I')),\n",
    "        (('Z', 'X'), ('Z', 'X')),\n",
    "        (('Z', 'Y'), ('I', 'Y')),\n",
    "        (('Z', 'Z'), ('I', 'Z')),\n",
    "    )\n",
    "\n",
    "pauli_twirl_dict = {\"I\":0,\"X\":1,\"Y\":2,\"Z\":3}\n",
    "\n",
    "def twirled_circular_ansatz(N, reps=1, fix_2q=False):\n",
    "    pcirc = ParametrizedCliffordCircuit()\n",
    "    for _ in range(reps):\n",
    "        for i in range(N):\n",
    "            pcirc.RY(i)\n",
    "        for i in range(N):\n",
    "            pcirc.RZ(i)\n",
    "        for i in range(N):\n",
    "            control = (i-1) % N\n",
    "            target = i\n",
    "            if fix_2q:\n",
    "                \n",
    "                (before0, before1), (after0, after1) = TWIRL_GATES_CX[\n",
    "                    rng.integers(len(TWIRL_GATES_CX))]\n",
    "\n",
    "                pcirc.PauliTwirl(control).fix(pauli_twirl_dict[before0])\n",
    "                pcirc.PauliTwirl(control).fix(pauli_twirl_dict[before1])\n",
    "                pcirc.Q2(control, target).fix(1)\n",
    "                pcirc.PauliTwirl(target).fix(pauli_twirl_dict[after0])\n",
    "                pcirc.PauliTwirl(target).fix(pauli_twirl_dict[after1])\n",
    "            else:\n",
    "                pcirc.Q2(control, target)\n",
    "    for i in range(N):\n",
    "        pcirc.RY(i)\n",
    "    for i in range(N):\n",
    "        pcirc.RZ(i)\n",
    "\n",
    "    \n",
    "    return pcirc\n",
    "\n",
    "pauli_twirl_list = [twirled_circular_ansatz(N=len(paulis[0]), reps=1, fix_2q=True) for _ in range(100)]\n"
   ]
  },
  {
   "cell_type": "code",
   "execution_count": 5,
   "metadata": {},
   "outputs": [
    {
     "data": {
      "text/html": [
       "<pre>q0: -I-I-----X-I-X-Z-X-@-------------I-I---\n",
       "             |         |\n",
       "q1: -I-I-----|---------X-Z-X-Y-Z-@---I-I---\n",
       "             |                   |\n",
       "q2: -I-I-I-X-@-------------------X-X-Y-I-I-</pre>"
      ],
      "text/plain": [
       "q0: -I-I-----X-I-X-Z-X-@-------------I-I---\n",
       "             |         |\n",
       "q1: -I-I-----|---------X-Z-X-Y-Z-@---I-I---\n",
       "             |                   |\n",
       "q2: -I-I-I-X-@-------------------X-X-Y-I-I-"
      ]
     },
     "execution_count": 5,
     "metadata": {},
     "output_type": "execute_result"
    }
   ],
   "source": [
    "pauli_twirl_list[0].stim_circuit().diagram()"
   ]
  },
  {
   "cell_type": "code",
   "execution_count": 6,
   "metadata": {},
   "outputs": [
    {
     "data": {
      "text/plain": [
       "<clapton.clifford.ParametrizedCliffordCircuit at 0x7f994f7cc0d0>"
      ]
     },
     "execution_count": 6,
     "metadata": {},
     "output_type": "execute_result"
    }
   ],
   "source": [
    "twirl_ansatz = twirled_circular_ansatz(N=len(paulis[0]), reps=1, fix_2q=True)\n",
    "\n",
    "# let's add a noise model where we specify global 1q and 2q gate errors\n",
    "nm = GateGeneralDepolarizationModel(p1=0.005, p2=0.02)\n",
    "twirl_ansatz.add_depolarization_model(nm)\n",
    "# twirl_ansatz.add_pauli_twirl_list(pauli_twirl_list)s\n"
   ]
  },
  {
   "cell_type": "code",
   "execution_count": 7,
   "metadata": {},
   "outputs": [
    {
     "data": {
      "text/plain": [
       "12"
      ]
     },
     "execution_count": 7,
     "metadata": {},
     "output_type": "execute_result"
    }
   ],
   "source": [
    "twirl_ansatz.number_parametrized_gates()"
   ]
  },
  {
   "cell_type": "code",
   "execution_count": 8,
   "metadata": {},
   "outputs": [
    {
     "data": {
      "text/plain": [
       "[0, 0, 0, 0, 0, 0, 0, 0, 0, 0, 0, 0]"
      ]
     },
     "execution_count": 8,
     "metadata": {},
     "output_type": "execute_result"
    }
   ],
   "source": [
    "twirl_ansatz.read()"
   ]
  },
  {
   "cell_type": "code",
   "execution_count": 9,
   "metadata": {},
   "outputs": [
    {
     "data": {
      "text/html": [
       "<pre>q0: -I-DEPOLARIZE1(0.005)--------------------I------------------DEPOLARIZE1(0.005)---------------------------------------------------------------------------------X-DEPOLARIZE2(0.02)-Y-DEPOLARIZE1(0.005)-X-DEPOLARIZE1(0.005)-X-DEPOLARIZE1(0.005)-Z-DEPOLARIZE1(0.005)-@-DEPOLARIZE2(0.02)--------------------------------------------------------------------------------------------------------------------------------I------------------DEPOLARIZE1(0.005)--------------------I------------------DEPOLARIZE1(0.005)---------------------------------------\n",
       "                                                                                                                                                                   | |                                                                                                     | |\n",
       "q1: ---I------------------DEPOLARIZE1(0.005)--------------------I------------------DEPOLARIZE1(0.005)--------------------------------------------------------------|-|-----------------------------------------------------------------------------------------------------X-DEPOLARIZE2(0.02)-Y-DEPOLARIZE1(0.005)-Y-DEPOLARIZE1(0.005)-Z-DEPOLARIZE1(0.005)-Y-DEPOLARIZE1(0.005)-@-DEPOLARIZE2(0.02)-------------------------------------------I------------------DEPOLARIZE1(0.005)--------------------I------------------DEPOLARIZE1(0.005)--------------------\n",
       "                                                                                                                                                                   | |                                                                                                                                                                                                             | |\n",
       "q2: ----------------------I------------------DEPOLARIZE1(0.005)--------------------I------------------DEPOLARIZE1(0.005)-Y-DEPOLARIZE1(0.005)-I-DEPOLARIZE1(0.005)-@-DEPOLARIZE2(0.02)---------------------------------------------------------------------------------------------------------------------------------------------------------------------------------------------X-DEPOLARIZE2(0.02)-I-DEPOLARIZE1(0.005)-Y-DEPOLARIZE1(0.005)--------------------I------------------DEPOLARIZE1(0.005)--------------------I------------------DEPOLARIZE1(0.005)-</pre>"
      ],
      "text/plain": [
       "q0: -I-DEPOLARIZE1(0.005)--------------------I------------------DEPOLARIZE1(0.005)---------------------------------------------------------------------------------X-DEPOLARIZE2(0.02)-Y-DEPOLARIZE1(0.005)-X-DEPOLARIZE1(0.005)-X-DEPOLARIZE1(0.005)-Z-DEPOLARIZE1(0.005)-@-DEPOLARIZE2(0.02)--------------------------------------------------------------------------------------------------------------------------------I------------------DEPOLARIZE1(0.005)--------------------I------------------DEPOLARIZE1(0.005)---------------------------------------\n",
       "                                                                                                                                                                   | |                                                                                                     | |\n",
       "q1: ---I------------------DEPOLARIZE1(0.005)--------------------I------------------DEPOLARIZE1(0.005)--------------------------------------------------------------|-|-----------------------------------------------------------------------------------------------------X-DEPOLARIZE2(0.02)-Y-DEPOLARIZE1(0.005)-Y-DEPOLARIZE1(0.005)-Z-DEPOLARIZE1(0.005)-Y-DEPOLARIZE1(0.005)-@-DEPOLARIZE2(0.02)-------------------------------------------I------------------DEPOLARIZE1(0.005)--------------------I------------------DEPOLARIZE1(0.005)--------------------\n",
       "                                                                                                                                                                   | |                                                                                                                                                                                                             | |\n",
       "q2: ----------------------I------------------DEPOLARIZE1(0.005)--------------------I------------------DEPOLARIZE1(0.005)-Y-DEPOLARIZE1(0.005)-I-DEPOLARIZE1(0.005)-@-DEPOLARIZE2(0.02)---------------------------------------------------------------------------------------------------------------------------------------------------------------------------------------------X-DEPOLARIZE2(0.02)-I-DEPOLARIZE1(0.005)-Y-DEPOLARIZE1(0.005)--------------------I------------------DEPOLARIZE1(0.005)--------------------I------------------DEPOLARIZE1(0.005)-"
      ]
     },
     "execution_count": 9,
     "metadata": {},
     "output_type": "execute_result"
    }
   ],
   "source": [
    "twirl_ansatz.stim_circuit().diagram()"
   ]
  },
  {
   "cell_type": "code",
   "execution_count": 10,
   "metadata": {},
   "outputs": [
    {
     "name": "stdout",
     "output_type": "stream",
     "text": [
      "STARTING ROUND 0\n",
      "\n",
      "\n",
      "started GA at id 1 with 1 procs\n",
      "\n",
      "started GA at id None with 1 procs\n",
      "\n",
      "\n"
     ]
    },
    {
     "name": "stderr",
     "output_type": "stream",
     "text": [
      "/home/dbharadwaj/anaconda3/envs/clapton/lib/python3.10/site-packages/pygad/pygad.py:1139: UserWarning: The 'delay_after_gen' parameter is deprecated starting from PyGAD 3.3.0. To delay or pause the evolution after each generation, assign a callback function/method to the 'on_generation' parameter to adds some time delay.\n",
      "  warnings.warn(\"The 'delay_after_gen' parameter is deprecated starting from PyGAD 3.3.0. To delay or pause the evolution after each generation, assign a callback function/method to the 'on_generation' parameter to adds some time delay.\")\n",
      "/home/dbharadwaj/anaconda3/envs/clapton/lib/python3.10/site-packages/pygad/pygad.py:1139: UserWarning: The 'delay_after_gen' parameter is deprecated starting from PyGAD 3.3.0. To delay or pause the evolution after each generation, assign a callback function/method to the 'on_generation' parameter to adds some time delay.\n",
      "  warnings.warn(\"The 'delay_after_gen' parameter is deprecated starting from PyGAD 3.3.0. To delay or pause the evolution after each generation, assign a callback function/method to the 'on_generation' parameter to adds some time delay.\")\n"
     ]
    },
    {
     "name": "stdout",
     "output_type": "stream",
     "text": [
      "started GA at id 2 with 1 procs\n"
     ]
    },
    {
     "name": "stderr",
     "output_type": "stream",
     "text": [
      "/home/dbharadwaj/anaconda3/envs/clapton/lib/python3.10/site-packages/pygad/pygad.py:1139: UserWarning: The 'delay_after_gen' parameter is deprecated starting from PyGAD 3.3.0. To delay or pause the evolution after each generation, assign a callback function/method to the 'on_generation' parameter to adds some time delay.\n",
      "  warnings.warn(\"The 'delay_after_gen' parameter is deprecated starting from PyGAD 3.3.0. To delay or pause the evolution after each generation, assign a callback function/method to the 'on_generation' parameter to adds some time delay.\")\n"
     ]
    },
    {
     "name": "stdout",
     "output_type": "stream",
     "text": [
      "\n",
      "started GA at id 3 with 1 procs\n"
     ]
    },
    {
     "name": "stderr",
     "output_type": "stream",
     "text": [
      "/home/dbharadwaj/anaconda3/envs/clapton/lib/python3.10/site-packages/pygad/pygad.py:1139: UserWarning: The 'delay_after_gen' parameter is deprecated starting from PyGAD 3.3.0. To delay or pause the evolution after each generation, assign a callback function/method to the 'on_generation' parameter to adds some time delay.\n",
      "  warnings.warn(\"The 'delay_after_gen' parameter is deprecated starting from PyGAD 3.3.0. To delay or pause the evolution after each generation, assign a callback function/method to the 'on_generation' parameter to adds some time delay.\")\n"
     ]
    },
    {
     "name": "stdout",
     "output_type": "stream",
     "text": [
      "[0, array([-0.03506725, -0.03506725,  0.        ,  0.        ]), array([1, 0, 1, 3, 0, 1, 2, 3, 3, 3, 1, 2], dtype=object)]\n",
      "[0, array([0.62988427, 0.27914695, 0.35073732, 0.        ]), array([0, 1, 0, 2, 2, 3, 1, 3, 3, 1, 3, 0], dtype=object)][0, array([-0.69154489, -0.3438289 , -0.347716  ,  0.        ]), array([2, 1, 3, 2, 2, 2, 2, 0, 3, 1, 0, 0], dtype=object)][0, array([-0.68834721, -0.33760989, -0.35073732,  0.        ]), array([0, 0, 2, 3, 2, 2, 1, 0, 1, 0, 0, 1], dtype=object)]\n",
      "\n",
      "\n",
      "[1, array([0.62403302, 0.2732957 , 0.35073732, 0.        ]), array([3, 1, 1, 1, 1, 3, 0, 3, 0, 3, 2, 1], dtype=object)]\n",
      "[1, array([-0.6880889 , -0.33735157, -0.35073732,  0.        ]), array([0, 3, 3, 0, 3, 3, 2, 3, 0, 3, 3, 1], dtype=object)]\n",
      "[1, array([-0.03059781, -0.03059781,  0.        ,  0.        ]), array([3, 3, 3, 0, 2, 1, 1, 1, 3, 2, 0, 0], dtype=object)]\n",
      "[1, array([-0.70101655, -0.35330055, -0.347716  ,  0.        ]), array([3, 1, 3, 1, 2, 0, 1, 1, 1, 2, 0, 1], dtype=object)]\n",
      "[2, array([0.62527424, 0.27453692, 0.35073732, 0.        ]), array([0, 2, 1, 0, 1, 3, 1, 2, 3, 2, 0, 3], dtype=object)]\n",
      "[2, array([-0.694558  , -0.34382067, -0.35073732,  0.        ]), array([2, 3, 2, 0, 3, 0, 3, 0, 1, 3, 2, 3], dtype=object)]\n",
      "[2, array([-0.02871026, -0.02871026,  0.        ,  0.        ]), array([1, 0, 3, 2, 1, 1, 0, 0, 2, 0, 2, 0], dtype=object)]\n",
      "[2, array([-0.69405589, -0.34633989, -0.347716  ,  0.        ]), array([1, 2, 2, 1, 1, 0, 1, 0, 3, 1, 3, 0], dtype=object)]\n",
      "[3, array([0.6243943 , 0.27365698, 0.35073732, 0.        ]), array([1, 3, 0, 2, 2, 3, 1, 1, 0, 1, 0, 1], dtype=object)]\n",
      "[3, array([-0.03055426, -0.03055426,  0.        ,  0.        ]), array([3, 3, 3, 0, 2, 0, 1, 3, 2, 3, 1, 1], dtype=object)]\n",
      "[3, array([-0.69016026, -0.33942294, -0.35073732,  0.        ]), array([2, 0, 1, 1, 0, 3, 3, 3, 3, 2, 2, 1], dtype=object)]\n",
      "[3, array([-0.69348437, -0.34576837, -0.347716  ,  0.        ]), array([2, 0, 3, 2, 3, 3, 1, 0, 3, 1, 0, 1], dtype=object)]\n",
      "[4, array([0.61259781, 0.26186049, 0.35073732, 0.        ]), array([3, 2, 0, 2, 2, 2, 3, 3, 1, 1, 2, 0], dtype=object)]\n",
      "[4, array([-0.02640357, -0.02640357,  0.        ,  0.        ]), array([0, 1, 3, 0, 3, 0, 1, 1, 0, 0, 2, 3], dtype=object)]\n",
      "[4, array([-0.68445703, -0.3337197 , -0.35073732,  0.        ]), array([2, 3, 2, 0, 3, 0, 3, 0, 3, 3, 3, 2], dtype=object)]\n",
      "[4, array([-0.69624873, -0.34853273, -0.347716  ,  0.        ]), array([1, 0, 1, 2, 1, 3, 1, 1, 2, 1, 0, 2], dtype=object)]\n",
      "[5, array([0.63581028, 0.28507296, 0.35073732, 0.        ]), array([3, 1, 0, 2, 3, 3, 3, 1, 0, 0, 0, 2], dtype=object)]\n",
      "[5, array([-0.0365524, -0.0365524,  0.       ,  0.       ]), array([0, 0, 0, 3, 0, 2, 3, 2, 1, 1, 2, 3], dtype=object)]\n",
      "[5, array([-0.69267571, -0.34193839, -0.35073732,  0.        ]), array([3, 0, 1, 2, 0, 3, 3, 3, 3, 2, 2, 1], dtype=object)]\n",
      "[5, array([-0.68713793, -0.33942193, -0.347716  ,  0.        ]), array([0, 1, 2, 1, 1, 2, 1, 3, 0, 2, 0, 1], dtype=object)]\n",
      "[6, array([0.62973609, 0.27899876, 0.35073732, 0.        ]), array([3, 1, 0, 0, 3, 2, 0, 1, 1, 1, 2, 3], dtype=object)]\n",
      "[6, array([-0.03345322, -0.03345322,  0.        ,  0.        ]), array([0, 3, 0, 0, 1, 3, 1, 2, 1, 0, 2, 3], dtype=object)]\n",
      "[6, array([-0.68911954, -0.33838222, -0.35073732,  0.        ]), array([2, 1, 2, 3, 0, 2, 1, 1, 2, 3, 1, 2], dtype=object)]\n",
      "[6, array([-0.69458117, -0.34686517, -0.347716  ,  0.        ]), array([0, 2, 2, 0, 2, 0, 2, 1, 0, 0, 3, 3], dtype=object)]\n",
      "[7, array([0.63029449, 0.27955716, 0.35073732, 0.        ]), array([0, 0, 0, 3, 2, 3, 0, 3, 2, 1, 0, 3], dtype=object)]\n",
      "[7, array([-0.0237488, -0.0237488,  0.       ,  0.       ]), array([3, 0, 2, 1, 3, 0, 1, 1, 0, 0, 2, 3], dtype=object)]\n",
      "[7, array([-0.69770006, -0.34696274, -0.35073732,  0.        ]), array([0, 0, 2, 3, 2, 2, 1, 0, 2, 3, 2, 1], dtype=object)]\n",
      "[7, array([-0.68724104, -0.33952504, -0.347716  ,  0.        ]), array([1, 2, 2, 1, 0, 3, 1, 0, 3, 1, 1, 0], dtype=object)]\n",
      "\n",
      "[8, array([0.63094778, 0.28021046, 0.35073732, 0.        ]), array([3, 0, 0, 2, 3, 3, 0, 3, 2, 1, 3, 1], dtype=object)][8, array([-0.69317358, -0.34243625, -0.35073732,  0.        ]), array([3, 2, 2, 2, 2, 2, 1, 1, 2, 3, 0, 2], dtype=object)]\n",
      "[8, array([-0.04208017, -0.04208017,  0.        ,  0.        ]), array([0, 2, 0, 0, 2, 3, 2, 0, 3, 2, 1, 0], dtype=object)]\n",
      "[8, array([-0.6989864, -0.3512704, -0.347716 ,  0.       ]), array([1, 2, 1, 1, 3, 0, 1, 0, 3, 1, 3, 1], dtype=object)]\n",
      "[9, array([0.62251083, 0.27177351, 0.35073732, 0.        ]), array([3, 1, 0, 1, 3, 2, 1, 1, 0, 1, 1, 1], dtype=object)]\n",
      "[9, array([-0.69647096, -0.34573364, -0.35073732,  0.        ]), array([2, 3, 3, 1, 0, 1, 2, 0, 2, 0, 0, 3], dtype=object)]\n",
      "[9, array([-0.04277568, -0.04277568,  0.        ,  0.        ]), array([1, 2, 1, 0, 2, 1, 1, 0, 0, 0, 2, 0], dtype=object)]\n",
      "[9, array([-0.6907956, -0.3430796, -0.347716 ,  0.       ]), array([2, 0, 2, 2, 2, 3, 2, 3, 2, 3, 0, 0], dtype=object)]\n",
      "[10, array([0.63050913, 0.27977181, 0.35073732, 0.        ]), array([2, 2, 1, 1, 3, 1, 3, 1, 0, 0, 0, 2], dtype=object)]\n",
      "[10, array([-0.69147129, -0.34073396, -0.35073732,  0.        ]), array([2, 1, 0, 2, 1, 1, 3, 1, 2, 0, 0, 2], dtype=object)]\n",
      "[10, array([-0.03481593, -0.03481593,  0.        ,  0.        ]), array([0, 0, 1, 3, 0, 1, 2, 3, 3, 3, 1, 2], dtype=object)]\n",
      "[10, array([-0.68307886, -0.33536286, -0.347716  ,  0.        ]), array([1, 0, 2, 0, 2, 0, 2, 1, 0, 0, 3, 3], dtype=object)]\n",
      "[11, array([0.6283047 , 0.27756737, 0.35073732, 0.        ]), array([3, 1, 0, 2, 3, 3, 0, 3, 2, 1, 0, 1], dtype=object)]\n",
      "[11, array([-0.68967745, -0.33894013, -0.35073732,  0.        ]), array([2, 1, 1, 0, 0, 2, 2, 1, 2, 3, 1, 2], dtype=object)]\n",
      "[11, array([-0.03895982, -0.03895982,  0.        ,  0.        ]), array([3, 0, 3, 2, 1, 1, 2, 1, 3, 3, 0, 1], dtype=object)]\n",
      "[11, array([-0.68503918, -0.33732318, -0.347716  ,  0.        ]), array([1, 0, 1, 2, 1, 3, 1, 1, 2, 0, 3, 3], dtype=object)]\n",
      "[12, array([0.61896257, 0.26822525, 0.35073732, 0.        ]), array([2, 1, 2, 1, 3, 2, 1, 1, 0, 1, 0, 3], dtype=object)]\n",
      "[12, array([-0.6925256 , -0.34178828, -0.35073732,  0.        ]), array([3, 1, 1, 1, 1, 0, 3, 0, 0, 1, 0, 2], dtype=object)]\n",
      "[12, array([-0.03283399, -0.03283399,  0.        ,  0.        ]), array([1, 0, 1, 2, 2, 1, 1, 1, 3, 2, 0, 1], dtype=object)]\n",
      "[12, array([-0.68557499, -0.33785899, -0.347716  ,  0.        ]), array([1, 3, 0, 1, 3, 1, 1, 1, 2, 3, 3, 3], dtype=object)]\n",
      "[13, array([0.62370015, 0.27296283, 0.35073732, 0.        ]), array([2, 1, 2, 1, 3, 2, 1, 1, 0, 1, 1, 1], dtype=object)]\n",
      "[13, array([-0.03858485, -0.03858485,  0.        ,  0.        ]), array([3, 0, 3, 2, 1, 1, 0, 0, 2, 0, 2, 0], dtype=object)]\n",
      "[13, array([-0.69331436, -0.34257703, -0.35073732,  0.        ]), array([2, 3, 2, 2, 2, 2, 3, 0, 1, 0, 0, 1], dtype=object)]\n",
      "\n",
      "[13, array([-0.70057971, -0.35286371, -0.347716  ,  0.        ]), array([0, 1, 2, 0, 0, 3, 2, 0, 2, 1, 3, 3], dtype=object)][14, array([0.62271695, 0.27197962, 0.35073732, 0.        ]), array([0, 0, 0, 2, 3, 3, 0, 3, 2, 3, 2, 2], dtype=object)]\n",
      "[14, array([-0.0334303, -0.0334303,  0.       ,  0.       ]), array([0, 0, 1, 3, 0, 1, 2, 2, 2, 0, 1, 3], dtype=object)]\n",
      "[14, array([-0.68889539, -0.33815807, -0.35073732,  0.        ]), array([1, 2, 1, 0, 2, 3, 3, 3, 1, 0, 0, 1], dtype=object)]\n",
      "[15, array([0.62131893, 0.27058161, 0.35073732, 0.        ]), array([0, 0, 0, 3, 2, 1, 0, 3, 1, 1, 1, 3], dtype=object)][14, array([-0.69304745, -0.34533145, -0.347716  ,  0.        ]), array([0, 3, 2, 1, 3, 1, 2, 0, 0, 0, 0, 0], dtype=object)]\n",
      "\n",
      "[15, array([-0.0309793, -0.0309793,  0.       ,  0.       ]), array([0, 2, 1, 2, 2, 1, 1, 1, 3, 2, 0, 1], dtype=object)]\n",
      "[15, array([-0.69420543, -0.3434681 , -0.35073732,  0.        ]), array([2, 3, 3, 2, 1, 2, 3, 0, 0, 3, 2, 1], dtype=object)]\n",
      "[16, array([0.62606789, 0.27533056, 0.35073732, 0.        ]), array([2, 1, 2, 1, 3, 2, 1, 1, 0, 3, 1, 2], dtype=object)]\n",
      "[15, array([-0.68844224, -0.34072624, -0.347716  ,  0.        ]), array([1, 0, 0, 1, 3, 1, 1, 1, 2, 3, 3, 3], dtype=object)]\n",
      "[16, array([-0.03635327, -0.03635327,  0.        ,  0.        ]), array([1, 0, 1, 0, 3, 1, 1, 0, 3, 2, 0, 1], dtype=object)]\n",
      "[16, array([-0.69029442, -0.3395571 , -0.35073732,  0.        ]), array([2, 3, 3, 2, 0, 1, 2, 0, 2, 3, 2, 1], dtype=object)]\n",
      "[17, array([0.62117156, 0.27043424, 0.35073732, 0.        ]), array([2, 2, 0, 3, 2, 1, 1, 0, 2, 1, 1, 1], dtype=object)]\n",
      "[16, array([-0.69204909, -0.34433309, -0.347716  ,  0.        ]), array([2, 1, 2, 0, 3, 3, 0, 0, 3, 0, 3, 3], dtype=object)]\n",
      "[17, array([-0.02612047, -0.02612047,  0.        ,  0.        ]), array([0, 2, 2, 2, 2, 0, 2, 2, 3, 2, 1, 0], dtype=object)]\n",
      "[17, array([-0.70257197, -0.35183464, -0.35073732,  0.        ]), array([3, 1, 1, 1, 1, 0, 3, 0, 2, 3, 2, 1], dtype=object)]\n",
      "[18, array([0.6314238 , 0.28068647, 0.35073732, 0.        ]), array([3, 2, 0, 2, 1, 3, 0, 2, 0, 1, 0, 3], dtype=object)]\n",
      "[17, array([-0.69241835, -0.34470236, -0.347716  ,  0.        ]), array([1, 0, 1, 2, 1, 3, 1, 1, 2, 1, 0, 2], dtype=object)]\n",
      "[18, array([-0.02460468, -0.02460468,  0.        ,  0.        ]), array([0, 3, 3, 3, 0, 1, 1, 3, 1, 3, 3, 2], dtype=object)]\n",
      "[18, array([-0.69153089, -0.34079356, -0.35073732,  0.        ]), array([0, 1, 0, 2, 2, 1, 2, 3, 2, 3, 2, 1], dtype=object)]\n",
      "[19, array([0.61245963, 0.26172231, 0.35073732, 0.        ]), array([3, 0, 0, 3, 0, 1, 0, 0, 0, 0, 0, 1], dtype=object)]\n",
      "[18, array([-0.69481308, -0.34709708, -0.347716  ,  0.        ]), array([0, 3, 2, 1, 3, 3, 1, 3, 3, 3, 3, 3], dtype=object)]\n",
      "[19, array([-0.03949764, -0.03949764,  0.        ,  0.        ]), array([0, 0, 1, 3, 0, 1, 2, 3, 3, 3, 1, 2], dtype=object)]\n",
      "[19, array([-0.68733236, -0.33659504, -0.35073732,  0.        ]), array([2, 3, 3, 1, 0, 1, 2, 0, 2, 3, 2, 1], dtype=object)]\n",
      "[20, array([0.62641317, 0.27567584, 0.35073732, 0.        ]), array([1, 2, 2, 1, 3, 2, 1, 1, 1, 2, 3, 2], dtype=object)]\n",
      "[19, array([-0.69374111, -0.34602512, -0.347716  ,  0.        ]), array([0, 3, 2, 1, 2, 3, 2, 1, 2, 3, 3, 3], dtype=object)]\n",
      "[20, array([-0.0274164, -0.0274164,  0.       ,  0.       ]), array([2, 1, 1, 2, 0, 3, 2, 1, 3, 2, 1, 0], dtype=object)]\n",
      "[20, array([-0.69956723, -0.3488299 , -0.35073732,  0.        ]), array([2, 3, 0, 2, 2, 2, 3, 0, 1, 1, 0, 1], dtype=object)]\n",
      "[21, array([0.62742083, 0.2766835 , 0.35073732, 0.        ]), array([2, 1, 3, 1, 1, 2, 1, 1, 3, 2, 0, 3], dtype=object)]\n",
      "[20, array([-0.68681713, -0.33910113, -0.347716  ,  0.        ]), array([2, 2, 2, 0, 2, 0, 2, 1, 0, 0, 3, 3], dtype=object)]\n",
      "[21, array([-0.04248253, -0.04248253,  0.        ,  0.        ]), array([0, 2, 0, 0, 2, 3, 2, 0, 3, 2, 1, 0], dtype=object)]\n",
      "[21, array([-0.70525089, -0.35451357, -0.35073732,  0.        ]), array([3, 1, 1, 2, 3, 1, 2, 0, 2, 3, 2, 1], dtype=object)]\n",
      "[22, array([0.62108676, 0.27034944, 0.35073732, 0.        ]), array([2, 1, 2, 1, 1, 3, 3, 2, 3, 3, 2, 1], dtype=object)]\n",
      "[21, array([-0.69161741, -0.34390141, -0.347716  ,  0.        ]), array([0, 2, 2, 0, 2, 0, 2, 1, 0, 0, 3, 3], dtype=object)]\n",
      "[22, array([-0.03562454, -0.03562454,  0.        ,  0.        ]), array([2, 1, 1, 2, 0, 3, 2, 1, 2, 1, 3, 3], dtype=object)]\n",
      "[22, array([-0.69392132, -0.343184  , -0.35073732,  0.        ]), array([1, 1, 0, 2, 1, 2, 0, 1, 0, 0, 0, 0], dtype=object)]\n",
      "[23, array([0.62712422, 0.27638689, 0.35073732, 0.        ]), array([2, 1, 3, 1, 1, 2, 1, 2, 0, 0, 0, 3], dtype=object)]\n",
      "[22, array([-0.69464776, -0.34693176, -0.347716  ,  0.        ]), array([1, 2, 2, 0, 2, 0, 2, 1, 0, 0, 3, 3], dtype=object)]\n",
      "[23, array([-0.02869936, -0.02869936,  0.        ,  0.        ]), array([0, 0, 1, 3, 0, 3, 2, 1, 2, 1, 3, 3], dtype=object)]\n",
      "[23, array([-0.69257813, -0.34184081, -0.35073732,  0.        ]), array([2, 3, 3, 2, 3, 1, 2, 3, 2, 3, 2, 1], dtype=object)]\n",
      "[24, array([0.61786249, 0.26712517, 0.35073732, 0.        ]), array([0, 1, 2, 3, 1, 1, 0, 3, 3, 3, 2, 1], dtype=object)]\n",
      "[23, array([-0.68833221, -0.34061621, -0.347716  ,  0.        ]), array([0, 3, 2, 0, 2, 0, 2, 1, 0, 0, 3, 3], dtype=object)]\n",
      "[24, array([-0.03784508, -0.03784508,  0.        ,  0.        ]), array([1, 0, 0, 0, 2, 2, 0, 0, 3, 1, 1, 0], dtype=object)]\n",
      "[24, array([-0.69373443, -0.34299711, -0.35073732,  0.        ]), array([3, 3, 3, 3, 1, 0, 0, 0, 3, 2, 0, 3], dtype=object)]\n",
      "[25, array([0.6303877 , 0.27965037, 0.35073732, 0.        ]), array([2, 1, 2, 1, 1, 3, 3, 2, 3, 3, 2, 2], dtype=object)]\n",
      "[24, array([-0.6901501, -0.3424341, -0.347716 ,  0.       ]), array([0, 2, 1, 1, 0, 0, 1, 0, 3, 1, 0, 1], dtype=object)]\n",
      "[26, array([0.63090275, 0.28016543, 0.35073732, 0.        ]), array([3, 0, 0, 2, 3, 3, 0, 3, 2, 3, 2, 2], dtype=object)]\n",
      "[25, array([-0.03190189, -0.03190189,  0.        ,  0.        ]), array([0, 2, 0, 1, 0, 1, 2, 3, 3, 3, 1, 0], dtype=object)]\n",
      "[25, array([-0.68705112, -0.3363138 , -0.35073732,  0.        ]), array([2, 3, 2, 0, 3, 0, 3, 0, 1, 1, 0, 1], dtype=object)]\n",
      "[25, array([-0.68570578, -0.33798979, -0.347716  ,  0.        ]), array([0, 2, 2, 0, 2, 0, 2, 1, 0, 0, 3, 3], dtype=object)]\n",
      "[26, array([-0.02702421, -0.02702421,  0.        ,  0.        ]), array([3, 0, 1, 2, 0, 0, 2, 1, 3, 1, 1, 0], dtype=object)]\n",
      "[27, array([0.63733399, 0.28659666, 0.35073732, 0.        ]), array([0, 3, 2, 1, 3, 2, 1, 1, 0, 1, 1, 1], dtype=object)]\n",
      "[26, array([-0.69257156, -0.34183423, -0.35073732,  0.        ]), array([2, 3, 2, 0, 0, 1, 2, 0, 2, 3, 2, 1], dtype=object)]\n",
      "\n",
      "\n",
      "[26, array([-0.6848305, -0.3371145, -0.347716 ,  0.       ]), array([3, 2, 2, 2, 1, 0, 1, 1, 0, 1, 3, 1], dtype=object)][28, array([0.62384404, 0.27310672, 0.35073732, 0.        ]), array([2, 1, 0, 2, 3, 2, 3, 2, 2, 3, 2, 1], dtype=object)][27, array([-0.02734704, -0.02734704,  0.        ,  0.        ]), array([0, 2, 0, 0, 2, 3, 2, 0, 3, 2, 1, 0], dtype=object)]\n",
      "[27, array([-0.68737668, -0.33663936, -0.35073732,  0.        ]), array([0, 1, 2, 2, 2, 2, 0, 0, 3, 3, 2, 0], dtype=object)]\n",
      "[27, array([-0.69453341, -0.34681741, -0.347716  ,  0.        ]), array([1, 2, 2, 0, 2, 0, 2, 1, 3, 0, 3, 3], dtype=object)]\n",
      "[29, array([0.62827634, 0.27753902, 0.35073732, 0.        ]), array([2, 1, 2, 1, 1, 2, 1, 1, 3, 3, 1, 3], dtype=object)]\n",
      "[28, array([-0.04442868, -0.04442868,  0.        ,  0.        ]), array([3, 0, 0, 2, 0, 3, 2, 0, 3, 2, 3, 0], dtype=object)]\n",
      "[28, array([-0.69553349, -0.34479617, -0.35073732,  0.        ]), array([3, 3, 2, 3, 1, 2, 1, 3, 2, 3, 2, 3], dtype=object)]\n",
      "[28, array([-0.68401847, -0.33630247, -0.347716  ,  0.        ]), array([0, 2, 2, 0, 2, 1, 0, 1, 2, 2, 1, 1], dtype=object)]\n",
      "\n",
      "[30, array([0.62572831, 0.27499098, 0.35073732, 0.        ]), array([0, 0, 0, 3, 1, 3, 1, 0, 3, 3, 2, 2], dtype=object)][29, array([-0.03858372, -0.03858372,  0.        ,  0.        ]), array([0, 2, 0, 0, 2, 3, 2, 0, 3, 2, 1, 0], dtype=object)]\n",
      "[29, array([-0.70035962, -0.34962229, -0.35073732,  0.        ]), array([3, 2, 3, 3, 1, 0, 0, 0, 3, 2, 0, 3], dtype=object)]\n",
      "[29, array([-0.68597493, -0.33825893, -0.347716  ,  0.        ]), array([1, 2, 1, 2, 1, 0, 2, 1, 0, 0, 3, 3], dtype=object)]\n",
      "[31, array([0.63260645, 0.28186912, 0.35073732, 0.        ]), array([0, 2, 0, 3, 3, 3, 0, 3, 1, 3, 2, 2], dtype=object)]\n",
      "[30, array([-0.03061729, -0.03061729,  0.        ,  0.        ]), array([0, 3, 0, 3, 3, 0, 2, 0, 3, 2, 3, 0], dtype=object)]\n",
      "[30, array([-0.69177516, -0.34103783, -0.35073732,  0.        ]), array([3, 3, 3, 0, 1, 0, 0, 0, 3, 2, 0, 3], dtype=object)]\n",
      "[30, array([-0.69097225, -0.34325625, -0.347716  ,  0.        ]), array([3, 2, 2, 0, 2, 1, 0, 1, 0, 2, 1, 3], dtype=object)]\n",
      "\n",
      "[32, array([0.62669821, 0.27596088, 0.35073732, 0.        ]), array([2, 1, 2, 3, 1, 1, 0, 3, 3, 3, 2, 3], dtype=object)][31, array([-0.02679602, -0.02679602,  0.        ,  0.        ]), array([0, 2, 0, 0, 2, 1, 1, 0, 2, 1, 1, 0], dtype=object)]\n",
      "[31, array([-0.70666629, -0.35592897, -0.35073732,  0.        ]), array([2, 3, 2, 0, 3, 0, 3, 0, 2, 1, 0, 2], dtype=object)]\n",
      "[31, array([-0.6950846, -0.3473686, -0.347716 ,  0.       ]), array([3, 2, 1, 1, 3, 0, 1, 0, 3, 1, 3, 1], dtype=object)]\n",
      "[33, array([0.62424483, 0.27350751, 0.35073732, 0.        ]), array([0, 1, 0, 2, 3, 3, 1, 0, 0, 3, 2, 2], dtype=object)]\n",
      "[32, array([-0.02666554, -0.02666554,  0.        ,  0.        ]), array([2, 0, 1, 1, 1, 3, 2, 0, 3, 2, 0, 3], dtype=object)]\n",
      "[32, array([-0.69247502, -0.3417377 , -0.35073732,  0.        ]), array([3, 2, 3, 2, 3, 2, 3, 0, 3, 0, 2, 1], dtype=object)]\n",
      "[32, array([-0.69555727, -0.34784127, -0.347716  ,  0.        ]), array([2, 2, 0, 0, 2, 3, 1, 3, 2, 0, 3, 2], dtype=object)]\n",
      "[34, array([0.63271646, 0.28197913, 0.35073732, 0.        ]), array([2, 1, 2, 1, 1, 3, 3, 2, 3, 1, 0, 3], dtype=object)]\n",
      "[33, array([-0.02996798, -0.02996798,  0.        ,  0.        ]), array([0, 2, 0, 0, 2, 3, 2, 0, 3, 2, 1, 0], dtype=object)]\n",
      "[33, array([-0.69801102, -0.34727369, -0.35073732,  0.        ]), array([3, 3, 2, 3, 1, 2, 1, 3, 2, 3, 2, 3], dtype=object)]\n",
      "[33, array([-0.70098947, -0.35327347, -0.347716  ,  0.        ]), array([1, 2, 1, 1, 3, 0, 1, 0, 3, 1, 0, 2], dtype=object)]\n",
      "[35, array([0.62911272, 0.2783754 , 0.35073732, 0.        ]), array([2, 0, 2, 3, 3, 1, 0, 1, 1, 1, 0, 3], dtype=object)]\n",
      "[34, array([-0.02913208, -0.02913208,  0.        ,  0.        ]), array([0, 0, 3, 0, 2, 3, 3, 0, 3, 2, 1, 0], dtype=object)]\n",
      "[34, array([-0.69106775, -0.34033043, -0.35073732,  0.        ]), array([1, 2, 2, 2, 0, 2, 0, 0, 2, 0, 2, 3], dtype=object)]\n",
      "[34, array([-0.6876931, -0.3399771, -0.347716 ,  0.       ]), array([1, 2, 2, 1, 2, 3, 1, 1, 0, 1, 1, 2], dtype=object)]\n",
      "[36, array([0.61156894, 0.26083162, 0.35073732, 0.        ]), array([3, 0, 2, 3, 3, 1, 0, 1, 1, 1, 0, 3], dtype=object)]\n",
      "[35, array([-0.03825624, -0.03825624,  0.        ,  0.        ]), array([0, 2, 0, 0, 2, 3, 2, 0, 3, 2, 1, 0], dtype=object)]\n",
      "[35, array([-0.6873282 , -0.33659088, -0.35073732,  0.        ]), array([3, 3, 3, 3, 1, 0, 0, 0, 2, 1, 0, 1], dtype=object)]\n",
      "[35, array([-0.69792796, -0.35021196, -0.347716  ,  0.        ]), array([1, 2, 1, 1, 3, 1, 1, 1, 2, 1, 0, 3], dtype=object)]\n",
      "[37, array([0.62708224, 0.27634491, 0.35073732, 0.        ]), array([2, 1, 2, 0, 3, 2, 1, 3, 1, 1, 3, 0], dtype=object)]\n",
      "[36, array([-0.03347264, -0.03347264,  0.        ,  0.        ]), array([0, 2, 3, 0, 2, 3, 2, 0, 3, 2, 0, 0], dtype=object)]\n",
      "[36, array([-0.68802511, -0.33728779, -0.35073732,  0.        ]), array([3, 2, 2, 0, 3, 0, 3, 3, 2, 2, 2, 3], dtype=object)]\n",
      "[36, array([-0.69170355, -0.34398756, -0.347716  ,  0.        ]), array([0, 3, 1, 3, 1, 1, 2, 1, 2, 1, 0, 3], dtype=object)]\n",
      "[38, array([0.61310281, 0.26236549, 0.35073732, 0.        ]), array([3, 2, 0, 2, 2, 0, 3, 3, 1, 2, 2, 0], dtype=object)]\n",
      "[37, array([-0.0383813, -0.0383813,  0.       ,  0.       ]), array([0, 3, 1, 0, 2, 1, 2, 0, 3, 2, 1, 0], dtype=object)]\n",
      "[37, array([-0.69041908, -0.33968175, -0.35073732,  0.        ]), array([2, 3, 2, 0, 3, 0, 3, 1, 1, 0, 0, 1], dtype=object)]\n",
      "[37, array([-0.69046261, -0.34274661, -0.347716  ,  0.        ]), array([1, 2, 1, 1, 3, 0, 1, 0, 3, 2, 0, 2], dtype=object)]\n",
      "[39, array([0.63149892, 0.2807616 , 0.35073732, 0.        ]), array([3, 1, 2, 1, 2, 2, 3, 3, 1, 1, 2, 0], dtype=object)]\n",
      "[38, array([-0.03426954, -0.03426954,  0.        ,  0.        ]), array([0, 2, 0, 0, 2, 3, 3, 2, 0, 3, 2, 0], dtype=object)]\n",
      "[38, array([-0.69788202, -0.3471447 , -0.35073732,  0.        ]), array([3, 3, 0, 0, 0, 2, 0, 0, 2, 2, 2, 3], dtype=object)]\n",
      "[40, array([0.63579137, 0.28505405, 0.35073732, 0.        ]), array([1, 2, 1, 3, 0, 0, 3, 3, 1, 1, 2, 3], dtype=object)]\n",
      "[38, array([-0.68643585, -0.33871985, -0.347716  ,  0.        ]), array([2, 1, 0, 2, 3, 2, 2, 1, 1, 2, 0, 0], dtype=object)]\n",
      "[39, array([-0.03310335, -0.03310335,  0.        ,  0.        ]), array([0, 2, 0, 0, 2, 3, 2, 0, 3, 2, 1, 0], dtype=object)]\n",
      "[39, array([-0.69508741, -0.34435008, -0.35073732,  0.        ]), array([2, 3, 2, 0, 3, 0, 0, 0, 2, 0, 2, 3], dtype=object)]\n",
      "[39, array([-0.68883067, -0.34111467, -0.347716  ,  0.        ]), array([1, 0, 1, 2, 1, 0, 1, 0, 3, 1, 3, 1], dtype=object)]\n",
      "[40, array([-0.03314273, -0.03314273,  0.        ,  0.        ]), array([0, 0, 1, 0, 1, 0, 2, 0, 3, 2, 1, 0], dtype=object)]\n",
      "[40, array([-0.68692564, -0.33618832, -0.35073732,  0.        ]), array([0, 3, 2, 0, 1, 0, 3, 0, 3, 0, 0, 0], dtype=object)]\n",
      "[40, array([-0.69046636, -0.34275036, -0.347716  ,  0.        ]), array([1, 0, 1, 1, 2, 1, 2, 1, 1, 0, 2, 2], dtype=object)]\n"
     ]
    }
   ],
   "source": [
    "ks_best, energy_noisy, energy_noiseless = claptonize(\n",
    "    paulis,\n",
    "    coeffs,\n",
    "    twirl_ansatz,\n",
    "    n_proc=4,           # total number of processes in parallel\n",
    "    n_starts=4,         # number of random genetic algorithm starts in parallel\n",
    "    n_rounds=1,         # number of budget rounds, if None it will terminate itself\n",
    "    callback=print,     # callback for internal parameter (#iteration, energies, ks) processing\n",
    "    budget=20,                        # budget per genetic algorithm instance\n",
    ")"
   ]
  },
  {
   "cell_type": "code",
   "execution_count": 11,
   "metadata": {},
   "outputs": [
    {
     "data": {
      "text/plain": [
       "[2, 3, 0, 2, 2, 2, 3, 0, 1, 1, 0, 1]"
      ]
     },
     "execution_count": 11,
     "metadata": {},
     "output_type": "execute_result"
    }
   ],
   "source": [
    "ks_best"
   ]
  },
  {
   "cell_type": "code",
   "execution_count": 12,
   "metadata": {},
   "outputs": [
    {
     "data": {
      "text/plain": [
       "(0.018802974936390753, 0.0)"
      ]
     },
     "execution_count": 12,
     "metadata": {},
     "output_type": "execute_result"
    }
   ],
   "source": [
    "energy_noisy, energy_noiseless"
   ]
  },
  {
   "cell_type": "code",
   "execution_count": 13,
   "metadata": {},
   "outputs": [
    {
     "data": {
      "text/plain": [
       "0.018802974936390753"
      ]
     },
     "execution_count": 13,
     "metadata": {},
     "output_type": "execute_result"
    }
   ],
   "source": [
    "# differrence\n",
    "np.abs(energy_noisy-energy_noiseless)"
   ]
  },
  {
   "cell_type": "code",
   "execution_count": 14,
   "metadata": {},
   "outputs": [
    {
     "data": {
      "text/html": [
       "<pre>q0: -Y----------Z-----X-Y-X-X-Z-@-------------SQRT_Y_DAG-S--------\n",
       "                      |         |\n",
       "q1: -SQRT_Y_DAG-Z-----|---------X-Y-Y-Z-Y-@---I----------I--------\n",
       "                      |                   |\n",
       "q2: -I----------Z-Y-I-@-------------------X-I-Y----------SQRT_Y-S-</pre>"
      ],
      "text/plain": [
       "q0: -Y----------Z-----X-Y-X-X-Z-@-------------SQRT_Y_DAG-S--------\n",
       "                      |         |\n",
       "q1: -SQRT_Y_DAG-Z-----|---------X-Y-Y-Z-Y-@---I----------I--------\n",
       "                      |                   |\n",
       "q2: -I----------Z-Y-I-@-------------------X-I-Y----------SQRT_Y-S-"
      ]
     },
     "execution_count": 14,
     "metadata": {},
     "output_type": "execute_result"
    }
   ],
   "source": [
    "# the corresponding circuit is\n",
    "twirl_ansatz.assign(ks_best)\n",
    "twirl_ansatz.snapshot_noiseless().circ_snapshot_noiseless.diagram()"
   ]
  }
 ],
 "metadata": {
  "kernelspec": {
   "display_name": "clapton",
   "language": "python",
   "name": "python3"
  },
  "language_info": {
   "codemirror_mode": {
    "name": "ipython",
    "version": 3
   },
   "file_extension": ".py",
   "mimetype": "text/x-python",
   "name": "python",
   "nbconvert_exporter": "python",
   "pygments_lexer": "ipython3",
   "version": "3.10.15"
  }
 },
 "nbformat": 4,
 "nbformat_minor": 2
}
