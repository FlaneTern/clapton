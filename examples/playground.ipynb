{
 "cells": [
  {
   "cell_type": "code",
   "execution_count": 7,
   "metadata": {},
   "outputs": [],
   "source": [
    "import sys\n",
    "sys.path.append(\"../\")\n",
    "from clapton.clapton import claptonize\n",
    "from clapton.ansatzes import * \n",
    "from clapton.depolarization import GateGeneralDepolarizationModel\n",
    "from qiskit_research.utils.convenience import *\n",
    "import stim\n",
    "import numpy as np\n",
    "\n",
    "np.random.seed(0)"
   ]
  },
  {
   "cell_type": "code",
   "execution_count": 8,
   "metadata": {},
   "outputs": [],
   "source": [
    "def circuit_to_tableau(circuit: stim.Circuit) -> stim.Tableau:\n",
    "    s = stim.TableauSimulator()\n",
    "    s.do_circuit(circuit)\n",
    "    return s.current_inverse_tableau() ** -1"
   ]
  },
  {
   "cell_type": "code",
   "execution_count": 9,
   "metadata": {},
   "outputs": [
    {
     "data": {
      "text/plain": [
       "array([0.5488135 , 0.71518937, 0.60276338, 0.54488318, 0.4236548 ,\n",
       "       0.64589411])"
      ]
     },
     "execution_count": 9,
     "metadata": {},
     "output_type": "execute_result"
    }
   ],
   "source": [
    "paulis = [\"XXI\", \"IXX\", \"YYI\", \"IYY\", \"ZZI\", \"IZZ\"]\n",
    "coeffs = np.random.random(len(paulis))\n",
    "coeffs"
   ]
  },
  {
   "cell_type": "markdown",
   "metadata": {},
   "source": [
    "## Altering the Ansatz itself"
   ]
  },
  {
   "cell_type": "code",
   "execution_count": 10,
   "metadata": {},
   "outputs": [],
   "source": [
    "# let's add a noise model where we specify global 1q and 2q gate errors\n",
    "\n",
    "# nm = GateGeneralDepolarizationModel(p1=0.005, p2=0.1)\n",
    "# nm = GateGeneralDepolarizationModel(p2=0.1) #only on 2 qubit gates\n",
    "nm = None\n",
    "\n",
    "pauli_twirl = False\n",
    "\n",
    "# assert not pauli_twirl or nm is not None, \"Depolarization model must be defined if Pauli Twirling is applied\"\n",
    "\n",
    "if pauli_twirl:\n",
    "\n",
    "    init_ansatz = circular_ansatz_mirrored(N=len(paulis[0]), reps=1, fix_2q=True)\n",
    "\n",
    "    vqe_pcirc = init_ansatz.add_pauli_twirl()\n",
    "    pauli_twirl_list = [init_ansatz.add_pauli_twirl() for _ in range(100)]\n",
    "\n",
    "    vqe_pcirc = vqe_pcirc.add_coherent_noise()\n",
    "    pauli_twirl_list =[circ.add_coherent_noise() for circ in pauli_twirl_list] \n",
    "    \n",
    "    vqe_pcirc.add_pauli_twirl_list(pauli_twirl_list)\n",
    "\n",
    "    # vqe_pcirc.add_depolarization_model(nm)        \n",
    "    # pauli_twirl_list = [circuit.add_depolarization_model(nm) for circuit in pauli_twirl_list]\n",
    "\n",
    "else: \n",
    "    vqe_pcirc = circular_ansatz_mirrored(N=len(paulis[0]), reps=1, fix_2q=True)\n",
    "    \n",
    "    # vqe_pcirc.add_depolarization_model(nm)\n",
    "    vqe_pcirc = vqe_pcirc.add_coherent_noise()\n"
   ]
  },
  {
   "cell_type": "code",
   "execution_count": 11,
   "metadata": {},
   "outputs": [
    {
     "data": {
      "text/html": [
       "<pre>q0: -I-I-X-S-@-S---I-I-------@-S-X-S-I-I-\n",
       "         |   |               |   |\n",
       "q1: -I-I-|---X-S-@-S-I-I-@-S-X-S-|---I-I-\n",
       "         |       |       |       |\n",
       "q2: -I-I-@-S-----X-S-I-I-X-S-----@-S-I-I-</pre>"
      ],
      "text/plain": [
       "q0: -I-I-X-S-@-S---I-I-------@-S-X-S-I-I-\n",
       "         |   |               |   |\n",
       "q1: -I-I-|---X-S-@-S-I-I-@-S-X-S-|---I-I-\n",
       "         |       |       |       |\n",
       "q2: -I-I-@-S-----X-S-I-I-X-S-----@-S-I-I-"
      ]
     },
     "execution_count": 11,
     "metadata": {},
     "output_type": "execute_result"
    }
   ],
   "source": [
    "vqe_pcirc.stim_circuit().diagram()"
   ]
  },
  {
   "cell_type": "code",
   "execution_count": 13,
   "metadata": {},
   "outputs": [],
   "source": [
    "# pauli_twirl_list[0].stim_circuit().diagram()"
   ]
  },
  {
   "cell_type": "code",
   "execution_count": 14,
   "metadata": {},
   "outputs": [
    {
     "name": "stdout",
     "output_type": "stream",
     "text": [
      "STARTING ROUND 0\n",
      "\n",
      "\n",
      "started GA at id 1 with 1 procs\n",
      "\n",
      "started GA at id 2 with 1 procs\n"
     ]
    },
    {
     "name": "stderr",
     "output_type": "stream",
     "text": [
      "/home/dbharadwaj/anaconda3/envs/clapton/lib/python3.10/site-packages/pygad/pygad.py:1139: UserWarning: The 'delay_after_gen' parameter is deprecated starting from PyGAD 3.3.0. To delay or pause the evolution after each generation, assign a callback function/method to the 'on_generation' parameter to adds some time delay.\n",
      "  warnings.warn(\"The 'delay_after_gen' parameter is deprecated starting from PyGAD 3.3.0. To delay or pause the evolution after each generation, assign a callback function/method to the 'on_generation' parameter to adds some time delay.\")\n"
     ]
    },
    {
     "name": "stdout",
     "output_type": "stream",
     "text": [
      "\n",
      "started GA at id None with 1 procs\n",
      "\n"
     ]
    },
    {
     "name": "stderr",
     "output_type": "stream",
     "text": [
      "/home/dbharadwaj/anaconda3/envs/clapton/lib/python3.10/site-packages/pygad/pygad.py:1139: UserWarning: The 'delay_after_gen' parameter is deprecated starting from PyGAD 3.3.0. To delay or pause the evolution after each generation, assign a callback function/method to the 'on_generation' parameter to adds some time delay.\n",
      "  warnings.warn(\"The 'delay_after_gen' parameter is deprecated starting from PyGAD 3.3.0. To delay or pause the evolution after each generation, assign a callback function/method to the 'on_generation' parameter to adds some time delay.\")\n"
     ]
    },
    {
     "name": "stdout",
     "output_type": "stream",
     "text": [
      "started GA at id 3 with 1 procs\n"
     ]
    },
    {
     "name": "stderr",
     "output_type": "stream",
     "text": [
      "/home/dbharadwaj/anaconda3/envs/clapton/lib/python3.10/site-packages/pygad/pygad.py:1139: UserWarning: The 'delay_after_gen' parameter is deprecated starting from PyGAD 3.3.0. To delay or pause the evolution after each generation, assign a callback function/method to the 'on_generation' parameter to adds some time delay.\n",
      "  warnings.warn(\"The 'delay_after_gen' parameter is deprecated starting from PyGAD 3.3.0. To delay or pause the evolution after each generation, assign a callback function/method to the 'on_generation' parameter to adds some time delay.\")\n"
     ]
    },
    {
     "name": "stdout",
     "output_type": "stream",
     "text": [
      "\n"
     ]
    },
    {
     "name": "stderr",
     "output_type": "stream",
     "text": [
      "/home/dbharadwaj/anaconda3/envs/clapton/lib/python3.10/site-packages/pygad/pygad.py:1139: UserWarning: The 'delay_after_gen' parameter is deprecated starting from PyGAD 3.3.0. To delay or pause the evolution after each generation, assign a callback function/method to the 'on_generation' parameter to adds some time delay.\n",
      "  warnings.warn(\"The 'delay_after_gen' parameter is deprecated starting from PyGAD 3.3.0. To delay or pause the evolution after each generation, assign a callback function/method to the 'on_generation' parameter to adds some time delay.\")\n"
     ]
    },
    {
     "name": "stdout",
     "output_type": "stream",
     "text": [
      "[0, array([0., 0., 0., 0.]), array([3, 3, 0, 2, 3, 3, 2, 3, 2, 1, 1, 2, 1, 0, 2, 1, 2, 0], dtype=object)]\n",
      "[0, array([0., 0., 0., 0.]), array([3, 3, 0, 2, 3, 3, 2, 3, 2, 1, 1, 2, 1, 0, 2, 1, 2, 0], dtype=object)]\n",
      "[0, array([0., 0., 0., 0.]), array([3, 3, 0, 2, 3, 3, 2, 3, 2, 1, 1, 2, 1, 0, 2, 1, 2, 0], dtype=object)]\n",
      "[0, array([0., 0., 0., 0.]), array([3, 3, 0, 2, 3, 3, 2, 3, 2, 1, 1, 2, 1, 0, 2, 1, 2, 0], dtype=object)]\n",
      "[1, array([0., 0., 0., 0.]), array([3, 3, 1, 3, 1, 3, 3, 0, 3, 0, 1, 0, 1, 2, 0, 1, 1, 2], dtype=object)]\n",
      "[1, array([0., 0., 0., 0.]), array([3, 3, 1, 3, 1, 3, 3, 0, 3, 0, 1, 0, 1, 2, 0, 1, 1, 2], dtype=object)]\n",
      "[1, array([0., 0., 0., 0.]), array([3, 3, 1, 3, 1, 3, 3, 0, 3, 0, 1, 0, 1, 2, 0, 1, 1, 2], dtype=object)]\n",
      "[2, array([0., 0., 0., 0.]), array([3, 3, 1, 3, 3, 3, 3, 0, 3, 0, 1, 0, 1, 2, 0, 1, 1, 2], dtype=object)]\n",
      "[1, array([0., 0., 0., 0.]), array([3, 3, 1, 3, 1, 3, 3, 0, 3, 0, 1, 0, 1, 2, 0, 1, 1, 2], dtype=object)]\n",
      "[2, array([0., 0., 0., 0.]), array([3, 3, 1, 3, 3, 3, 3, 0, 3, 0, 1, 0, 1, 2, 0, 1, 1, 2], dtype=object)][2, array([0., 0., 0., 0.]), array([3, 3, 1, 3, 3, 3, 3, 0, 3, 0, 1, 0, 1, 2, 0, 1, 1, 2], dtype=object)]\n",
      "\n",
      "[2, array([0., 0., 0., 0.]), array([3, 3, 1, 3, 3, 3, 3, 0, 3, 0, 1, 0, 1, 2, 0, 1, 1, 2], dtype=object)]\n",
      "[3, array([0., 0., 0., 0.]), array([0, 2, 2, 1, 2, 3, 0, 1, 2, 1, 2, 1, 2, 0, 0, 3, 1, 1], dtype=object)]\n",
      "[3, array([0., 0., 0., 0.]), array([0, 2, 2, 1, 2, 3, 0, 1, 2, 1, 2, 1, 2, 0, 0, 3, 1, 1], dtype=object)][3, array([0., 0., 0., 0.]), array([0, 2, 2, 1, 2, 3, 0, 1, 2, 1, 2, 1, 2, 0, 0, 3, 1, 1], dtype=object)]\n",
      "\n",
      "[4, array([0., 0., 0., 0.]), array([0, 2, 2, 1, 2, 3, 0, 1, 2, 1, 2, 1, 2, 0, 0, 3, 1, 1], dtype=object)]\n",
      "[4, array([0., 0., 0., 0.]), array([0, 2, 2, 1, 2, 3, 0, 1, 2, 1, 2, 1, 2, 0, 0, 3, 1, 1], dtype=object)]\n",
      "[3, array([0., 0., 0., 0.]), array([0, 2, 2, 1, 2, 3, 0, 1, 2, 1, 2, 1, 2, 0, 0, 3, 1, 1], dtype=object)]\n",
      "[4, array([0., 0., 0., 0.]), array([0, 2, 2, 1, 2, 3, 0, 1, 2, 1, 2, 1, 2, 0, 0, 3, 1, 1], dtype=object)]\n",
      "[5, array([0., 0., 0., 0.]), array([2, 1, 3, 0, 2, 0, 2, 2, 2, 1, 1, 0, 2, 0, 0, 2, 3, 1], dtype=object)]\n",
      "[5, array([0., 0., 0., 0.]), array([2, 1, 3, 0, 2, 0, 2, 2, 2, 1, 1, 0, 2, 0, 0, 2, 3, 1], dtype=object)][5, array([0., 0., 0., 0.]), array([2, 1, 3, 0, 2, 0, 2, 2, 2, 1, 1, 0, 2, 0, 0, 2, 3, 1], dtype=object)][4, array([0., 0., 0., 0.]), array([0, 2, 2, 1, 2, 3, 0, 1, 2, 1, 2, 1, 2, 0, 0, 3, 1, 1], dtype=object)]\n",
      "\n",
      "\n",
      "[6, array([0., 0., 0., 0.]), array([2, 1, 3, 0, 2, 0, 2, 2, 2, 1, 1, 0, 2, 0, 0, 2, 3, 1], dtype=object)]\n",
      "[6, array([0., 0., 0., 0.]), array([2, 1, 3, 0, 2, 0, 2, 2, 2, 1, 1, 0, 2, 0, 0, 2, 3, 1], dtype=object)][6, array([0., 0., 0., 0.]), array([2, 1, 3, 0, 2, 0, 2, 2, 2, 1, 1, 0, 2, 0, 0, 2, 3, 1], dtype=object)]\n",
      "\n",
      "[5, array([0., 0., 0., 0.]), array([2, 1, 3, 0, 2, 0, 2, 2, 2, 1, 1, 0, 2, 0, 0, 2, 3, 1], dtype=object)]\n",
      "[7, array([0., 0., 0., 0.]), array([3, 1, 3, 0, 2, 3, 0, 1, 2, 1, 3, 0, 2, 0, 0, 2, 3, 1], dtype=object)]\n",
      "[7, array([0., 0., 0., 0.]), array([3, 1, 3, 0, 2, 3, 0, 1, 2, 1, 3, 0, 2, 0, 0, 2, 3, 1], dtype=object)]\n",
      "[7, array([0., 0., 0., 0.]), array([3, 1, 3, 0, 2, 3, 0, 1, 2, 1, 3, 0, 2, 0, 0, 2, 3, 1], dtype=object)]\n",
      "[6, array([0., 0., 0., 0.]), array([2, 1, 3, 0, 2, 0, 2, 2, 2, 1, 1, 0, 2, 0, 0, 2, 3, 1], dtype=object)]\n",
      "[8, array([0., 0., 0., 0.]), array([3, 1, 3, 0, 2, 3, 0, 1, 2, 1, 3, 0, 2, 0, 0, 2, 3, 1], dtype=object)]\n",
      "[8, array([0., 0., 0., 0.]), array([3, 1, 3, 0, 2, 3, 0, 1, 2, 1, 3, 0, 2, 0, 0, 2, 3, 1], dtype=object)]\n",
      "[8, array([0., 0., 0., 0.]), array([3, 1, 3, 0, 2, 3, 0, 1, 2, 1, 3, 0, 2, 0, 0, 2, 3, 1], dtype=object)]\n",
      "[7, array([0., 0., 0., 0.]), array([3, 1, 3, 0, 2, 3, 0, 1, 2, 1, 3, 0, 2, 0, 0, 2, 3, 1], dtype=object)]\n",
      "[9, array([0., 0., 0., 0.]), array([3, 3, 1, 0, 1, 1, 0, 2, 1, 0, 1, 3, 0, 0, 0, 3, 1, 1], dtype=object)]\n",
      "\n",
      "[9, array([0., 0., 0., 0.]), array([3, 3, 1, 0, 1, 1, 0, 2, 1, 0, 1, 3, 0, 0, 0, 3, 1, 1], dtype=object)][9, array([0., 0., 0., 0.]), array([3, 3, 1, 0, 1, 1, 0, 2, 1, 0, 1, 3, 0, 0, 0, 3, 1, 1], dtype=object)]\n",
      "[8, array([0., 0., 0., 0.]), array([3, 1, 3, 0, 2, 3, 0, 1, 2, 1, 3, 0, 2, 0, 0, 2, 3, 1], dtype=object)]\n",
      "[10, array([0., 0., 0., 0.]), array([3, 3, 1, 0, 1, 1, 0, 2, 1, 0, 1, 3, 0, 0, 0, 3, 1, 1], dtype=object)]\n",
      "[10, array([0., 0., 0., 0.]), array([3, 3, 1, 0, 1, 1, 0, 2, 1, 0, 1, 3, 0, 0, 0, 3, 1, 1], dtype=object)][10, array([0., 0., 0., 0.]), array([3, 3, 1, 0, 1, 1, 0, 2, 1, 0, 1, 3, 0, 0, 0, 3, 1, 1], dtype=object)]\n",
      "\n",
      "[9, array([0., 0., 0., 0.]), array([3, 3, 1, 0, 1, 1, 0, 2, 1, 0, 1, 3, 0, 0, 0, 3, 1, 1], dtype=object)]\n",
      "[11, array([0., 0., 0., 0.]), array([2, 3, 3, 1, 2, 3, 0, 1, 2, 1, 1, 3, 3, 0, 0, 3, 1, 1], dtype=object)]\n",
      "[11, array([0., 0., 0., 0.]), array([2, 3, 3, 1, 2, 3, 0, 1, 2, 1, 1, 3, 3, 0, 0, 3, 1, 1], dtype=object)]\n",
      "[11, array([0., 0., 0., 0.]), array([2, 3, 3, 1, 2, 3, 0, 1, 2, 1, 1, 3, 3, 0, 0, 3, 1, 1], dtype=object)]\n",
      "[10, array([0., 0., 0., 0.]), array([3, 3, 1, 0, 1, 1, 0, 2, 1, 0, 1, 3, 0, 0, 0, 3, 1, 1], dtype=object)]\n",
      "[12, array([0., 0., 0., 0.]), array([2, 3, 3, 1, 2, 3, 0, 1, 2, 1, 1, 3, 3, 0, 0, 3, 1, 1], dtype=object)][12, array([0., 0., 0., 0.]), array([2, 3, 3, 1, 2, 3, 0, 1, 2, 1, 1, 3, 3, 0, 0, 3, 1, 1], dtype=object)]\n",
      "\n",
      "[12, array([0., 0., 0., 0.]), array([2, 3, 3, 1, 2, 3, 0, 1, 2, 1, 1, 3, 3, 0, 0, 3, 1, 1], dtype=object)]\n",
      "[13, array([0., 0., 0., 0.]), array([3, 1, 3, 0, 2, 0, 2, 2, 2, 1, 2, 0, 2, 0, 0, 2, 3, 1], dtype=object)]\n",
      "[11, array([0., 0., 0., 0.]), array([2, 3, 3, 1, 2, 3, 0, 1, 2, 1, 1, 3, 3, 0, 0, 3, 1, 1], dtype=object)]\n",
      "[13, array([0., 0., 0., 0.]), array([3, 1, 3, 0, 2, 0, 2, 2, 2, 1, 2, 0, 2, 0, 0, 2, 3, 1], dtype=object)]\n",
      "[13, array([0., 0., 0., 0.]), array([3, 1, 3, 0, 2, 0, 2, 2, 2, 1, 2, 0, 2, 0, 0, 2, 3, 1], dtype=object)]\n",
      "[14, array([0., 0., 0., 0.]), array([3, 1, 3, 2, 1, 1, 0, 2, 0, 0, 3, 3, 3, 1, 0, 2, 3, 1], dtype=object)]\n",
      "[14, array([0., 0., 0., 0.]), array([3, 1, 3, 2, 1, 1, 0, 2, 0, 0, 3, 3, 3, 1, 0, 2, 3, 1], dtype=object)][14, array([0., 0., 0., 0.]), array([3, 1, 3, 2, 1, 1, 0, 2, 0, 0, 3, 3, 3, 1, 0, 2, 3, 1], dtype=object)]\n",
      "\n",
      "[12, array([0., 0., 0., 0.]), array([2, 3, 3, 1, 2, 3, 0, 1, 2, 1, 1, 3, 3, 0, 0, 3, 1, 1], dtype=object)]\n",
      "[15, array([0., 0., 0., 0.]), array([3, 0, 3, 3, 2, 3, 0, 2, 2, 1, 2, 0, 2, 0, 0, 2, 3, 1], dtype=object)]\n",
      "[15, array([0., 0., 0., 0.]), array([3, 0, 3, 3, 2, 3, 0, 2, 2, 1, 2, 0, 2, 0, 0, 2, 3, 1], dtype=object)]\n",
      "[15, array([0., 0., 0., 0.]), array([3, 0, 3, 3, 2, 3, 0, 2, 2, 1, 2, 0, 2, 0, 0, 2, 3, 1], dtype=object)]\n",
      "[13, array([0., 0., 0., 0.]), array([3, 1, 3, 0, 2, 0, 2, 2, 2, 1, 2, 0, 2, 0, 0, 2, 3, 1], dtype=object)]\n",
      "[16, array([0., 0., 0., 0.]), array([3, 0, 3, 3, 2, 3, 0, 2, 2, 1, 2, 0, 2, 0, 0, 2, 3, 1], dtype=object)]\n",
      "[16, array([0., 0., 0., 0.]), array([3, 0, 3, 3, 2, 3, 0, 2, 2, 1, 2, 0, 2, 0, 0, 2, 3, 1], dtype=object)]\n",
      "[16, array([0., 0., 0., 0.]), array([3, 0, 3, 3, 2, 3, 0, 2, 2, 1, 2, 0, 2, 0, 0, 2, 3, 1], dtype=object)]\n",
      "[14, array([0., 0., 0., 0.]), array([3, 1, 3, 2, 1, 1, 0, 2, 0, 0, 3, 3, 3, 1, 0, 2, 3, 1], dtype=object)]\n",
      "[17, array([0., 0., 0., 0.]), array([3, 1, 3, 0, 2, 0, 2, 2, 2, 1, 1, 0, 3, 0, 0, 3, 1, 1], dtype=object)]\n",
      "[17, array([0., 0., 0., 0.]), array([3, 1, 3, 0, 2, 0, 2, 2, 2, 1, 1, 0, 3, 0, 0, 3, 1, 1], dtype=object)]\n",
      "[17, array([0., 0., 0., 0.]), array([3, 1, 3, 0, 2, 0, 2, 2, 2, 1, 1, 0, 3, 0, 0, 3, 1, 1], dtype=object)]\n",
      "[15, array([0., 0., 0., 0.]), array([3, 0, 3, 3, 2, 3, 0, 2, 2, 1, 2, 0, 2, 0, 0, 2, 3, 1], dtype=object)]\n",
      "[18, array([0., 0., 0., 0.]), array([3, 1, 3, 0, 2, 0, 2, 2, 2, 1, 1, 0, 3, 0, 0, 3, 1, 1], dtype=object)]\n",
      "[18, array([0., 0., 0., 0.]), array([3, 1, 3, 0, 2, 0, 2, 2, 2, 1, 1, 0, 3, 0, 0, 3, 1, 1], dtype=object)]\n",
      "[18, array([0., 0., 0., 0.]), array([3, 1, 3, 0, 2, 0, 2, 2, 2, 1, 1, 0, 3, 0, 0, 3, 1, 1], dtype=object)]\n",
      "[16, array([0., 0., 0., 0.]), array([3, 0, 3, 3, 2, 3, 0, 2, 2, 1, 2, 0, 2, 0, 0, 2, 3, 1], dtype=object)]\n",
      "[19, array([0., 0., 0., 0.]), array([0, 2, 3, 1, 2, 3, 0, 1, 2, 0, 1, 2, 3, 0, 0, 3, 1, 2], dtype=object)]\n",
      "[19, array([0., 0., 0., 0.]), array([0, 2, 3, 1, 2, 3, 0, 1, 2, 0, 1, 2, 3, 0, 0, 3, 1, 2], dtype=object)]\n",
      "[19, array([0., 0., 0., 0.]), array([0, 2, 3, 1, 2, 3, 0, 1, 2, 0, 1, 2, 3, 0, 0, 3, 1, 2], dtype=object)]\n",
      "[20, array([0., 0., 0., 0.]), array([0, 2, 3, 1, 2, 3, 0, 1, 2, 0, 1, 2, 3, 0, 0, 3, 1, 2], dtype=object)]\n",
      "[17, array([0., 0., 0., 0.]), array([3, 1, 3, 0, 2, 0, 2, 2, 2, 1, 1, 0, 3, 0, 0, 3, 1, 1], dtype=object)]\n",
      "[20, array([0., 0., 0., 0.]), array([0, 2, 3, 1, 2, 3, 0, 1, 2, 0, 1, 2, 3, 0, 0, 3, 1, 2], dtype=object)]\n",
      "[20, array([0., 0., 0., 0.]), array([0, 2, 3, 1, 2, 3, 0, 1, 2, 0, 1, 2, 3, 0, 0, 3, 1, 2], dtype=object)]\n",
      "[18, array([0., 0., 0., 0.]), array([3, 1, 3, 0, 2, 0, 2, 2, 2, 1, 1, 0, 3, 0, 0, 3, 1, 1], dtype=object)]\n",
      "[21, array([0., 0., 0., 0.]), array([3, 1, 0, 2, 2, 3, 0, 1, 2, 0, 1, 2, 3, 0, 0, 3, 1, 1], dtype=object)]\n",
      "[21, array([0., 0., 0., 0.]), array([3, 1, 0, 2, 2, 3, 0, 1, 2, 0, 1, 2, 3, 0, 0, 3, 1, 1], dtype=object)]\n",
      "[21, array([0., 0., 0., 0.]), array([3, 1, 0, 2, 2, 3, 0, 1, 2, 0, 1, 2, 3, 0, 0, 3, 1, 1], dtype=object)]\n",
      "[19, array([0., 0., 0., 0.]), array([0, 2, 3, 1, 2, 3, 0, 1, 2, 0, 1, 2, 3, 0, 0, 3, 1, 2], dtype=object)]\n",
      "[22, array([0., 0., 0., 0.]), array([3, 1, 0, 2, 2, 3, 0, 1, 2, 0, 1, 2, 3, 0, 0, 3, 1, 1], dtype=object)]\n",
      "\n",
      "[22, array([0., 0., 0., 0.]), array([3, 1, 0, 2, 2, 3, 0, 1, 2, 0, 1, 2, 3, 0, 0, 3, 1, 1], dtype=object)][22, array([0., 0., 0., 0.]), array([3, 1, 0, 2, 2, 3, 0, 1, 2, 0, 1, 2, 3, 0, 0, 3, 1, 1], dtype=object)]\n",
      "[20, array([0., 0., 0., 0.]), array([0, 2, 3, 1, 2, 3, 0, 1, 2, 0, 1, 2, 3, 0, 0, 3, 1, 2], dtype=object)]\n",
      "[23, array([0., 0., 0., 0.]), array([3, 1, 3, 0, 2, 0, 0, 0, 2, 0, 1, 2, 3, 0, 0, 3, 1, 1], dtype=object)][23, array([0., 0., 0., 0.]), array([3, 1, 3, 0, 2, 0, 0, 0, 2, 0, 1, 2, 3, 0, 0, 3, 1, 1], dtype=object)]\n",
      "\n",
      "[23, array([0., 0., 0., 0.]), array([3, 1, 3, 0, 2, 0, 0, 0, 2, 0, 1, 2, 3, 0, 0, 3, 1, 1], dtype=object)]\n",
      "[24, array([0., 0., 0., 0.]), array([3, 1, 3, 0, 2, 3, 0, 1, 2, 1, 1, 0, 2, 0, 0, 3, 1, 1], dtype=object)][21, array([0., 0., 0., 0.]), array([3, 1, 0, 2, 2, 3, 0, 1, 2, 0, 1, 2, 3, 0, 0, 3, 1, 1], dtype=object)]\n",
      "\n",
      "[24, array([0., 0., 0., 0.]), array([3, 1, 3, 0, 2, 3, 0, 1, 2, 1, 1, 0, 2, 0, 0, 3, 1, 1], dtype=object)]\n",
      "[24, array([0., 0., 0., 0.]), array([3, 1, 3, 0, 2, 3, 0, 1, 2, 1, 1, 0, 2, 0, 0, 3, 1, 1], dtype=object)]\n",
      "[22, array([0., 0., 0., 0.]), array([3, 1, 0, 2, 2, 3, 0, 1, 2, 0, 1, 2, 3, 0, 0, 3, 1, 1], dtype=object)]\n",
      "[25, array([0., 0., 0., 0.]), array([3, 1, 3, 0, 2, 3, 0, 1, 2, 0, 1, 2, 3, 1, 0, 3, 1, 1], dtype=object)][25, array([0., 0., 0., 0.]), array([3, 1, 3, 0, 2, 3, 0, 1, 2, 0, 1, 2, 3, 1, 0, 3, 1, 1], dtype=object)]\n",
      "\n",
      "[25, array([0., 0., 0., 0.]), array([3, 1, 3, 0, 2, 3, 0, 1, 2, 0, 1, 2, 3, 1, 0, 3, 1, 1], dtype=object)]\n",
      "[26, array([0., 0., 0., 0.]), array([3, 1, 3, 0, 2, 3, 0, 1, 2, 0, 1, 2, 3, 1, 0, 3, 0, 1], dtype=object)]\n",
      "[23, array([0., 0., 0., 0.]), array([3, 1, 3, 0, 2, 0, 0, 0, 2, 0, 1, 2, 3, 0, 0, 3, 1, 1], dtype=object)]\n",
      "[26, array([0., 0., 0., 0.]), array([3, 1, 3, 0, 2, 3, 0, 1, 2, 0, 1, 2, 3, 1, 0, 3, 0, 1], dtype=object)]\n",
      "[26, array([0., 0., 0., 0.]), array([3, 1, 3, 0, 2, 3, 0, 1, 2, 0, 1, 2, 3, 1, 0, 3, 0, 1], dtype=object)]\n",
      "[24, array([0., 0., 0., 0.]), array([3, 1, 3, 0, 2, 3, 0, 1, 2, 1, 1, 0, 2, 0, 0, 3, 1, 1], dtype=object)]\n",
      "[27, array([0., 0., 0., 0.]), array([3, 1, 3, 0, 2, 3, 0, 0, 2, 0, 2, 0, 2, 0, 0, 3, 1, 1], dtype=object)][27, array([0., 0., 0., 0.]), array([3, 1, 3, 0, 2, 3, 0, 0, 2, 0, 2, 0, 2, 0, 0, 3, 1, 1], dtype=object)]\n",
      "\n",
      "[27, array([0., 0., 0., 0.]), array([3, 1, 3, 0, 2, 3, 0, 0, 2, 0, 2, 0, 2, 0, 0, 3, 1, 1], dtype=object)]\n",
      "[28, array([0., 0., 0., 0.]), array([3, 1, 3, 0, 2, 3, 2, 0, 1, 0, 3, 0, 2, 0, 3, 2, 3, 1], dtype=object)][28, array([0., 0., 0., 0.]), array([3, 1, 3, 0, 2, 3, 2, 0, 1, 0, 3, 0, 2, 0, 3, 2, 3, 1], dtype=object)][25, array([0., 0., 0., 0.]), array([3, 1, 3, 0, 2, 3, 0, 1, 2, 0, 1, 2, 3, 1, 0, 3, 1, 1], dtype=object)]\n",
      "\n",
      "\n",
      "[28, array([0., 0., 0., 0.]), array([3, 1, 3, 0, 2, 3, 2, 0, 1, 0, 3, 0, 2, 0, 3, 2, 3, 1], dtype=object)]\n",
      "[26, array([0., 0., 0., 0.]), array([3, 1, 3, 0, 2, 3, 0, 1, 2, 0, 1, 2, 3, 1, 0, 3, 0, 1], dtype=object)]\n",
      "[29, array([0., 0., 0., 0.]), array([3, 0, 3, 2, 2, 3, 0, 1, 2, 1, 1, 0, 2, 0, 0, 3, 1, 2], dtype=object)][29, array([0., 0., 0., 0.]), array([3, 0, 3, 2, 2, 3, 0, 1, 2, 1, 1, 0, 2, 0, 0, 3, 1, 2], dtype=object)]\n",
      "\n",
      "[29, array([0., 0., 0., 0.]), array([3, 0, 3, 2, 2, 3, 0, 1, 2, 1, 1, 0, 2, 0, 0, 3, 1, 2], dtype=object)]\n",
      "[27, array([0., 0., 0., 0.]), array([3, 1, 3, 0, 2, 3, 0, 0, 2, 0, 2, 0, 2, 0, 0, 3, 1, 1], dtype=object)]\n",
      "[30, array([0., 0., 0., 0.]), array([3, 1, 3, 0, 3, 0, 0, 1, 2, 0, 1, 3, 2, 0, 3, 2, 3, 1], dtype=object)][30, array([0., 0., 0., 0.]), array([3, 1, 3, 0, 3, 0, 0, 1, 2, 0, 1, 3, 2, 0, 3, 2, 3, 1], dtype=object)]\n",
      "\n",
      "[30, array([0., 0., 0., 0.]), array([3, 1, 3, 0, 3, 0, 0, 1, 2, 0, 1, 3, 2, 0, 3, 2, 3, 1], dtype=object)]\n",
      "[28, array([0., 0., 0., 0.]), array([3, 1, 3, 0, 2, 3, 2, 0, 1, 0, 3, 0, 2, 0, 3, 2, 3, 1], dtype=object)]\n",
      "[31, array([0., 0., 0., 0.]), array([3, 0, 3, 3, 2, 3, 0, 1, 2, 1, 1, 0, 2, 0, 0, 2, 3, 1], dtype=object)][31, array([0., 0., 0., 0.]), array([3, 0, 3, 3, 2, 3, 0, 1, 2, 1, 1, 0, 2, 0, 0, 2, 3, 1], dtype=object)]\n",
      "\n",
      "[31, array([0., 0., 0., 0.]), array([3, 0, 3, 3, 2, 3, 0, 1, 2, 1, 1, 0, 2, 0, 0, 2, 3, 1], dtype=object)][29, array([0., 0., 0., 0.]), array([3, 0, 3, 2, 2, 3, 0, 1, 2, 1, 1, 0, 2, 0, 0, 3, 1, 2], dtype=object)]\n",
      "\n",
      "[32, array([0., 0., 0., 0.]), array([3, 0, 3, 3, 2, 3, 0, 1, 2, 1, 1, 0, 2, 0, 0, 2, 3, 1], dtype=object)][32, array([0., 0., 0., 0.]), array([3, 0, 3, 3, 2, 3, 0, 1, 2, 1, 1, 0, 2, 0, 0, 2, 3, 1], dtype=object)]\n",
      "\n",
      "[32, array([0., 0., 0., 0.]), array([3, 0, 3, 3, 2, 3, 0, 1, 2, 1, 1, 0, 2, 0, 0, 2, 3, 1], dtype=object)]\n",
      "[30, array([0., 0., 0., 0.]), array([3, 1, 3, 0, 3, 0, 0, 1, 2, 0, 1, 3, 2, 0, 3, 2, 3, 1], dtype=object)][33, array([0., 0., 0., 0.]), array([3, 0, 3, 3, 2, 3, 0, 1, 2, 0, 1, 2, 3, 0, 0, 3, 1, 1], dtype=object)][33, array([0., 0., 0., 0.]), array([3, 0, 3, 3, 2, 3, 0, 1, 2, 0, 1, 2, 3, 0, 0, 3, 1, 1], dtype=object)]\n",
      "\n",
      "\n",
      "[33, array([0., 0., 0., 0.]), array([3, 0, 3, 3, 2, 3, 0, 1, 2, 0, 1, 2, 3, 0, 0, 3, 1, 1], dtype=object)]\n",
      "[31, array([0., 0., 0., 0.]), array([3, 0, 3, 3, 2, 3, 0, 1, 2, 1, 1, 0, 2, 0, 0, 2, 3, 1], dtype=object)]\n",
      "[34, array([0., 0., 0., 0.]), array([3, 0, 3, 3, 2, 3, 1, 1, 2, 0, 1, 2, 3, 0, 0, 2, 1, 1], dtype=object)]\n",
      "[34, array([0., 0., 0., 0.]), array([3, 0, 3, 3, 2, 3, 1, 1, 2, 0, 1, 2, 3, 0, 0, 2, 1, 1], dtype=object)]\n",
      "[34, array([0., 0., 0., 0.]), array([3, 0, 3, 3, 2, 3, 1, 1, 2, 0, 1, 2, 3, 0, 0, 2, 1, 1], dtype=object)]\n",
      "[32, array([0., 0., 0., 0.]), array([3, 0, 3, 3, 2, 3, 0, 1, 2, 1, 1, 0, 2, 0, 0, 2, 3, 1], dtype=object)]\n",
      "[35, array([0., 0., 0., 0.]), array([3, 1, 3, 1, 2, 3, 1, 1, 2, 0, 1, 2, 3, 0, 0, 3, 1, 1], dtype=object)]\n",
      "\n",
      "[35, array([0., 0., 0., 0.]), array([3, 1, 3, 1, 2, 3, 1, 1, 2, 0, 1, 2, 3, 0, 0, 3, 1, 1], dtype=object)][35, array([0., 0., 0., 0.]), array([3, 1, 3, 1, 2, 3, 1, 1, 2, 0, 1, 2, 3, 0, 0, 3, 1, 1], dtype=object)]\n",
      "[33, array([0., 0., 0., 0.]), array([3, 0, 3, 3, 2, 3, 0, 1, 2, 0, 1, 2, 3, 0, 0, 3, 1, 1], dtype=object)]\n",
      "[36, array([0., 0., 0., 0.]), array([3, 0, 3, 3, 2, 0, 0, 0, 2, 0, 1, 3, 2, 0, 3, 2, 1, 2], dtype=object)][36, array([0., 0., 0., 0.]), array([3, 0, 3, 3, 2, 0, 0, 0, 2, 0, 1, 3, 2, 0, 3, 2, 1, 2], dtype=object)][36, array([0., 0., 0., 0.]), array([3, 0, 3, 3, 2, 0, 0, 0, 2, 0, 1, 3, 2, 0, 3, 2, 1, 2], dtype=object)]\n",
      "\n",
      "\n",
      "[34, array([0., 0., 0., 0.]), array([3, 0, 3, 3, 2, 3, 1, 1, 2, 0, 1, 2, 3, 0, 0, 2, 1, 1], dtype=object)]\n",
      "[37, array([0., 0., 0., 0.]), array([3, 0, 3, 3, 2, 3, 1, 1, 2, 0, 3, 0, 2, 0, 0, 2, 3, 2], dtype=object)]\n",
      "[37, array([0., 0., 0., 0.]), array([3, 0, 3, 3, 2, 3, 1, 1, 2, 0, 3, 0, 2, 0, 0, 2, 3, 2], dtype=object)][37, array([0., 0., 0., 0.]), array([3, 0, 3, 3, 2, 3, 1, 1, 2, 0, 3, 0, 2, 0, 0, 2, 3, 2], dtype=object)]\n",
      "\n",
      "[35, array([0., 0., 0., 0.]), array([3, 1, 3, 1, 2, 3, 1, 1, 2, 0, 1, 2, 3, 0, 0, 3, 1, 1], dtype=object)]\n",
      "[38, array([0., 0., 0., 0.]), array([3, 0, 3, 3, 2, 3, 1, 1, 2, 0, 1, 2, 3, 0, 3, 2, 3, 2], dtype=object)]\n",
      "[38, array([0., 0., 0., 0.]), array([3, 0, 3, 3, 2, 3, 1, 1, 2, 0, 1, 2, 3, 0, 3, 2, 3, 2], dtype=object)][38, array([0., 0., 0., 0.]), array([3, 0, 3, 3, 2, 3, 1, 1, 2, 0, 1, 2, 3, 0, 3, 2, 3, 2], dtype=object)]\n",
      "\n",
      "[36, array([0., 0., 0., 0.]), array([3, 0, 3, 3, 2, 0, 0, 0, 2, 0, 1, 3, 2, 0, 3, 2, 1, 2], dtype=object)]\n",
      "[39, array([0., 0., 0., 0.]), array([3, 1, 3, 3, 2, 3, 1, 1, 2, 0, 1, 2, 2, 0, 3, 2, 1, 1], dtype=object)][39, array([0., 0., 0., 0.]), array([3, 1, 3, 3, 2, 3, 1, 1, 2, 0, 1, 2, 2, 0, 3, 2, 1, 1], dtype=object)]\n",
      "\n",
      "[39, array([0., 0., 0., 0.]), array([3, 1, 3, 3, 2, 3, 1, 1, 2, 0, 1, 2, 2, 0, 3, 2, 1, 1], dtype=object)]\n",
      "[37, array([0., 0., 0., 0.]), array([3, 0, 3, 3, 2, 3, 1, 1, 2, 0, 3, 0, 2, 0, 0, 2, 3, 2], dtype=object)]\n",
      "[40, array([0., 0., 0., 0.]), array([3, 1, 3, 3, 2, 3, 1, 1, 2, 0, 1, 2, 2, 0, 3, 2, 1, 1], dtype=object)][40, array([0., 0., 0., 0.]), array([3, 1, 3, 3, 2, 3, 1, 1, 2, 0, 1, 2, 2, 0, 3, 2, 1, 1], dtype=object)][40, array([0., 0., 0., 0.]), array([3, 1, 3, 3, 2, 3, 1, 1, 2, 0, 1, 2, 2, 0, 3, 2, 1, 1], dtype=object)]\n",
      "\n",
      "\n",
      "[38, array([0., 0., 0., 0.]), array([3, 0, 3, 3, 2, 3, 1, 1, 2, 0, 1, 2, 3, 0, 3, 2, 3, 2], dtype=object)]\n",
      "[39, array([0., 0., 0., 0.]), array([3, 1, 3, 3, 2, 3, 1, 1, 2, 0, 1, 2, 2, 0, 3, 2, 1, 1], dtype=object)]\n",
      "[40, array([0., 0., 0., 0.]), array([3, 1, 3, 3, 2, 3, 1, 1, 2, 0, 1, 2, 2, 0, 3, 2, 1, 1], dtype=object)]\n"
     ]
    }
   ],
   "source": [
    "ks_best, energy_noisy, energy_noiseless = claptonize(\n",
    "    paulis,\n",
    "    coeffs,\n",
    "    vqe_pcirc,\n",
    "    n_proc=4,           # total number of processes in parallel\n",
    "    n_starts=4,         # number of random genetic algorithm starts in parallel\n",
    "    n_rounds=1,         # number of budget rounds, if None it will terminate itself\n",
    "    callback=print,     # callback for internal parameter (#iteration, energies, ks) processing\n",
    "    budget=20,                        # budget per genetic algorithm instance\n",
    ")"
   ]
  },
  {
   "cell_type": "code",
   "execution_count": 15,
   "metadata": {},
   "outputs": [
    {
     "data": {
      "text/plain": [
       "[3, 1, 3, 3, 2, 3, 1, 1, 2, 0, 1, 2, 3, 0, 2, 2, 3, 2]"
      ]
     },
     "execution_count": 15,
     "metadata": {},
     "output_type": "execute_result"
    }
   ],
   "source": [
    "ks_best"
   ]
  },
  {
   "cell_type": "code",
   "execution_count": 16,
   "metadata": {},
   "outputs": [
    {
     "data": {
      "text/plain": [
       "(0.0, 0.0)"
      ]
     },
     "execution_count": 16,
     "metadata": {},
     "output_type": "execute_result"
    }
   ],
   "source": [
    "energy_noisy, energy_noiseless"
   ]
  },
  {
   "cell_type": "code",
   "execution_count": 17,
   "metadata": {},
   "outputs": [
    {
     "data": {
      "text/plain": [
       "0.0"
      ]
     },
     "execution_count": 17,
     "metadata": {},
     "output_type": "execute_result"
    }
   ],
   "source": [
    "# differrence\n",
    "np.abs(energy_noisy-energy_noiseless)"
   ]
  },
  {
   "cell_type": "code",
   "execution_count": null,
   "metadata": {},
   "outputs": [
    {
     "data": {
      "text/html": [
       "<pre>q0: -Y------SQRT_Y_DAG-X-S-@-S---I-SQRT_Y_DAG-------@-S-X-S-Y-SQRT_Y-\n",
       "                       |   |                        |   |\n",
       "q1: -Y------SQRT_Y-----|---X-S-@-S-SQRT_Y_DAG-I-@-S-X-S-|---I-SQRT_Y-\n",
       "                       |       |                |       |\n",
       "q2: -SQRT_Y-SQRT_Y_DAG-@-S-----X-S-I----------Y-X-S-----@-S-Y-Y------</pre>"
      ],
      "text/plain": [
       "q0: -Y------SQRT_Y_DAG-X-S-@-S---I-SQRT_Y_DAG-------@-S-X-S-Y-SQRT_Y-\n",
       "                       |   |                        |   |\n",
       "q1: -Y------SQRT_Y-----|---X-S-@-S-SQRT_Y_DAG-I-@-S-X-S-|---I-SQRT_Y-\n",
       "                       |       |                |       |\n",
       "q2: -SQRT_Y-SQRT_Y_DAG-@-S-----X-S-I----------Y-X-S-----@-S-Y-Y------"
      ]
     },
     "execution_count": 11,
     "metadata": {},
     "output_type": "execute_result"
    }
   ],
   "source": [
    "# the corresponding circuit is\n",
    "vqe_pcirc.assign(ks_best)\n",
    "vqe_pcirc.snapshot_noiseless().circ_snapshot_noiseless.diagram()"
   ]
  }
 ],
 "metadata": {
  "kernelspec": {
   "display_name": "clapton",
   "language": "python",
   "name": "python3"
  },
  "language_info": {
   "codemirror_mode": {
    "name": "ipython",
    "version": 3
   },
   "file_extension": ".py",
   "mimetype": "text/x-python",
   "name": "python",
   "nbconvert_exporter": "python",
   "pygments_lexer": "ipython3",
   "version": "3.10.15"
  }
 },
 "nbformat": 4,
 "nbformat_minor": 2
}
