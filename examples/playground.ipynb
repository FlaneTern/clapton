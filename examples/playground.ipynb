{
 "cells": [
  {
   "cell_type": "code",
   "execution_count": 130,
   "metadata": {},
   "outputs": [],
   "source": [
    "import sys\n",
    "sys.path.append(\"../\")\n",
    "from clapton.clapton import claptonize\n",
    "from clapton.ansatzes import * \n",
    "from qiskit_research.utils.convenience import *"
   ]
  },
  {
   "cell_type": "code",
   "execution_count": 131,
   "metadata": {},
   "outputs": [],
   "source": [
    "def circuit_to_tableau(circuit: stim.Circuit) -> stim.Tableau:\n",
    "    s = stim.TableauSimulator()\n",
    "    s.do_circuit(circuit)\n",
    "    return s.current_inverse_tableau() ** -1"
   ]
  },
  {
   "cell_type": "code",
   "execution_count": 132,
   "metadata": {},
   "outputs": [],
   "source": [
    "paulis = [\"XXI\", \"IXX\", \"YYI\", \"IYY\", \"ZZI\", \"IZZ\"]\n",
    "coeffs = np.random.random(len(paulis))\n",
    "from clapton.depolarization import GateGeneralDepolarizationModel\n"
   ]
  },
  {
   "cell_type": "markdown",
   "metadata": {},
   "source": [
    "## Altering the Ansatz itself"
   ]
  },
  {
   "cell_type": "code",
   "execution_count": 133,
   "metadata": {},
   "outputs": [],
   "source": [
    "rng = np.random.default_rng()\n",
    "\n",
    "TWIRL_GATES_CX = (\n",
    "        (('I', 'I'), ('I', 'I')),\n",
    "        (('I', 'X'), ('I', 'X')),\n",
    "        (('I', 'Y'), ('Z', 'Y')),\n",
    "        (('I', 'Z'), ('Z', 'Z')),\n",
    "        (('X', 'I'), ('X', 'X')),\n",
    "        (('X', 'X'), ('X', 'I')),\n",
    "        (('X', 'Y'), ('Y', 'Z')),\n",
    "        (('X', 'Z'), ('Y', 'Y')),\n",
    "        (('Y', 'I'), ('Y', 'X')),\n",
    "        (('Y', 'X'), ('Y', 'I')),\n",
    "        (('Y', 'Y'), ('X', 'Z')),\n",
    "        (('Y', 'Z'), ('X', 'Y')),\n",
    "        (('Z', 'I'), ('Z', 'I')),\n",
    "        (('Z', 'X'), ('Z', 'X')),\n",
    "        (('Z', 'Y'), ('I', 'Y')),\n",
    "        (('Z', 'Z'), ('I', 'Z')),\n",
    "    )\n",
    "\n",
    "pauli_twirl_dict = {\"I\":0,\"X\":1,\"Y\":2,\"Z\":3}\n",
    "\n",
    "def twirled_circular_ansatz(N, reps=1, fix_2q=False):\n",
    "    pcirc = ParametrizedCliffordCircuit()\n",
    "    for _ in range(reps):\n",
    "        for i in range(N):\n",
    "            pcirc.RY(i)\n",
    "        for i in range(N):\n",
    "            pcirc.RZ(i)\n",
    "        for i in range(N):\n",
    "            control = (i-1) % N\n",
    "            target = i\n",
    "            if fix_2q:\n",
    "                \n",
    "                (before0, before1), (after0, after1) = TWIRL_GATES_CX[\n",
    "                    rng.integers(len(TWIRL_GATES_CX))]\n",
    "\n",
    "                pcirc.PauliTwirl(control).fix(pauli_twirl_dict[before0])\n",
    "                pcirc.PauliTwirl(target).fix(pauli_twirl_dict[before1])\n",
    "                pcirc.Q2(control, target).fix(1)\n",
    "                pcirc.PauliTwirl(control).fix(pauli_twirl_dict[after0])\n",
    "                pcirc.PauliTwirl(target).fix(pauli_twirl_dict[after1])\n",
    "            else:\n",
    "                pcirc.Q2(control, target)\n",
    "    for i in range(N):\n",
    "        pcirc.RY(i)\n",
    "    for i in range(N):\n",
    "        pcirc.RZ(i)\n",
    "\n",
    "    \n",
    "    return pcirc\n",
    "\n"
   ]
  },
  {
   "cell_type": "code",
   "execution_count": 134,
   "metadata": {},
   "outputs": [],
   "source": [
    "# let's add a noise model where we specify global 1q and 2q gate errors\n",
    "\n",
    "\n",
    "nm = GateGeneralDepolarizationModel(p1=0.005, p2=0.02)\n",
    "# nm = None\n",
    "\n",
    "pauli_twirl = True\n",
    "\n",
    "\n",
    "if pauli_twirl:\n",
    "    twirl_ansatz = twirled_circular_ansatz(N=len(paulis[0]), reps=1, fix_2q=True)\n",
    "    twirl_ansatz.add_depolarization_model(nm)\n",
    "\n",
    "    pauli_twirl_list = [twirled_circular_ansatz(N=len(paulis[0]), reps=1, fix_2q=True) for _ in range(100)]\n",
    "    pauli_twirl_list = [circuit.add_depolarization_model(nm) for circuit in pauli_twirl_list]\n",
    "\n",
    "    twirl_ansatz.add_pauli_twirl_list(pauli_twirl_list)\n",
    "\n",
    "else: \n",
    "    twirl_ansatz = circular_ansatz(N=len(paulis[0]), reps=1, fix_2q=True)\n",
    "    twirl_ansatz.add_depolarization_model(nm)"
   ]
  },
  {
   "cell_type": "markdown",
   "metadata": {},
   "source": [
    "### Check if the circuits are the same"
   ]
  },
  {
   "cell_type": "code",
   "execution_count": 135,
   "metadata": {},
   "outputs": [
    {
     "data": {
      "text/plain": [
       "True"
      ]
     },
     "execution_count": 135,
     "metadata": {},
     "output_type": "execute_result"
    }
   ],
   "source": [
    "circ_base = circular_ansatz(N=len(paulis[0]), reps=1, fix_2q=True)\n",
    "twirled_circ = twirled_circular_ansatz(N=len(paulis[0]), reps=1, fix_2q=True)\n",
    "\n",
    "circuit_to_tableau(circ_base.stim_circuit())==circuit_to_tableau(twirled_circ.stim_circuit())\n"
   ]
  },
  {
   "cell_type": "code",
   "execution_count": 136,
   "metadata": {},
   "outputs": [
    {
     "data": {
      "text/plain": [
       "(stim.Tableau.from_conjugated_generators(\n",
       "     xs=[\n",
       "         stim.PauliString(\"+XXX\"),\n",
       "         stim.PauliString(\"+_XX\"),\n",
       "         stim.PauliString(\"+XX_\"),\n",
       "     ],\n",
       "     zs=[\n",
       "         stim.PauliString(\"+ZZZ\"),\n",
       "         stim.PauliString(\"+ZZ_\"),\n",
       "         stim.PauliString(\"+_ZZ\"),\n",
       "     ],\n",
       " ),\n",
       " stim.Tableau.from_conjugated_generators(\n",
       "     xs=[\n",
       "         stim.PauliString(\"+XXX\"),\n",
       "         stim.PauliString(\"+_XX\"),\n",
       "         stim.PauliString(\"+XX_\"),\n",
       "     ],\n",
       "     zs=[\n",
       "         stim.PauliString(\"+ZZZ\"),\n",
       "         stim.PauliString(\"+ZZ_\"),\n",
       "         stim.PauliString(\"+_ZZ\"),\n",
       "     ],\n",
       " ))"
      ]
     },
     "execution_count": 136,
     "metadata": {},
     "output_type": "execute_result"
    }
   ],
   "source": [
    "circuit_to_tableau(circ_base.stim_circuit()),circuit_to_tableau(twirled_circ.stim_circuit())"
   ]
  },
  {
   "cell_type": "code",
   "execution_count": 123,
   "metadata": {},
   "outputs": [
    {
     "data": {
      "text/plain": [
       "12"
      ]
     },
     "execution_count": 123,
     "metadata": {},
     "output_type": "execute_result"
    }
   ],
   "source": [
    "twirl_ansatz.number_parametrized_gates()"
   ]
  },
  {
   "cell_type": "code",
   "execution_count": 124,
   "metadata": {},
   "outputs": [
    {
     "data": {
      "text/plain": [
       "[0, 0, 0, 0, 0, 0, 0, 0, 0, 0, 0, 0]"
      ]
     },
     "execution_count": 124,
     "metadata": {},
     "output_type": "execute_result"
    }
   ],
   "source": [
    "twirl_ansatz.read()"
   ]
  },
  {
   "cell_type": "code",
   "execution_count": 125,
   "metadata": {},
   "outputs": [
    {
     "data": {
      "text/html": [
       "<pre>q0: -I-I-I-X-X-I-@-Z-----I-I---\n",
       "           |     |\n",
       "q1: -I-I---|---Y-X-Y-Z-@-Z-I-I-\n",
       "           |           |\n",
       "q2: -I-I-Y-@-Y-------X-X-X-I-I-</pre>"
      ],
      "text/plain": [
       "q0: -I-I-I-X-X-I-@-Z-----I-I---\n",
       "           |     |\n",
       "q1: -I-I---|---Y-X-Y-Z-@-Z-I-I-\n",
       "           |           |\n",
       "q2: -I-I-Y-@-Y-------X-X-X-I-I-"
      ]
     },
     "execution_count": 125,
     "metadata": {},
     "output_type": "execute_result"
    }
   ],
   "source": [
    "twirl_ansatz.stim_circuit().diagram()"
   ]
  },
  {
   "cell_type": "code",
   "execution_count": 126,
   "metadata": {},
   "outputs": [
    {
     "name": "stdout",
     "output_type": "stream",
     "text": [
      "STARTING ROUND 0\n",
      "\n",
      "\n"
     ]
    },
    {
     "name": "stdout",
     "output_type": "stream",
     "text": [
      "started GA at id 1 with 1 procs\n",
      "started GA at id 2 with 1 procs\n",
      "\n",
      "started GA at id None with 1 procs\n",
      "\n",
      "\n",
      "started GA at id 3 with 1 procs\n",
      "\n"
     ]
    },
    {
     "name": "stderr",
     "output_type": "stream",
     "text": [
      "/home/dbharadwaj/anaconda3/envs/clapton/lib/python3.10/site-packages/pygad/pygad.py:1139: UserWarning: The 'delay_after_gen' parameter is deprecated starting from PyGAD 3.3.0. To delay or pause the evolution after each generation, assign a callback function/method to the 'on_generation' parameter to adds some time delay.\n",
      "  warnings.warn(\"The 'delay_after_gen' parameter is deprecated starting from PyGAD 3.3.0. To delay or pause the evolution after each generation, assign a callback function/method to the 'on_generation' parameter to adds some time delay.\")\n",
      "/home/dbharadwaj/anaconda3/envs/clapton/lib/python3.10/site-packages/pygad/pygad.py:1139: UserWarning: The 'delay_after_gen' parameter is deprecated starting from PyGAD 3.3.0. To delay or pause the evolution after each generation, assign a callback function/method to the 'on_generation' parameter to adds some time delay.\n",
      "  warnings.warn(\"The 'delay_after_gen' parameter is deprecated starting from PyGAD 3.3.0. To delay or pause the evolution after each generation, assign a callback function/method to the 'on_generation' parameter to adds some time delay.\")\n",
      "/home/dbharadwaj/anaconda3/envs/clapton/lib/python3.10/site-packages/pygad/pygad.py:1139: UserWarning: The 'delay_after_gen' parameter is deprecated starting from PyGAD 3.3.0. To delay or pause the evolution after each generation, assign a callback function/method to the 'on_generation' parameter to adds some time delay.\n",
      "  warnings.warn(\"The 'delay_after_gen' parameter is deprecated starting from PyGAD 3.3.0. To delay or pause the evolution after each generation, assign a callback function/method to the 'on_generation' parameter to adds some time delay.\")\n",
      "/home/dbharadwaj/anaconda3/envs/clapton/lib/python3.10/site-packages/pygad/pygad.py:1139: UserWarning: The 'delay_after_gen' parameter is deprecated starting from PyGAD 3.3.0. To delay or pause the evolution after each generation, assign a callback function/method to the 'on_generation' parameter to adds some time delay.\n",
      "  warnings.warn(\"The 'delay_after_gen' parameter is deprecated starting from PyGAD 3.3.0. To delay or pause the evolution after each generation, assign a callback function/method to the 'on_generation' parameter to adds some time delay.\")\n"
     ]
    },
    {
     "name": "stdout",
     "output_type": "stream",
     "text": [
      "[0, array([3.09837598, 1.54918799, 1.54918799, 0.        ]), array([1, 0, 1, 3, 3, 2, 2, 0, 1, 0, 0, 0], dtype=object)]\n",
      "[0, array([3.09837598, 1.54918799, 1.54918799, 0.        ]), array([3, 0, 1, 2, 2, 2, 0, 1, 3, 0, 3, 0], dtype=object)]\n",
      "\n",
      "[0, array([3.09837598, 1.54918799, 1.54918799, 0.        ]), array([2, 1, 3, 3, 1, 2, 2, 2, 1, 3, 3, 1], dtype=object)][0, array([3.09837598, 1.54918799, 1.54918799, 0.        ]), array([3, 0, 1, 0, 2, 1, 3, 3, 2, 2, 1, 2], dtype=object)]\n",
      "[1, array([3.09837598, 1.54918799, 1.54918799, 0.        ]), array([1, 2, 3, 0, 0, 3, 2, 2, 2, 2, 2, 1], dtype=object)]\n",
      "[1, array([3.09837598, 1.54918799, 1.54918799, 0.        ]), array([1, 2, 0, 0, 1, 3, 3, 0, 1, 1, 1, 2], dtype=object)]\n",
      "[1, array([3.09837598, 1.54918799, 1.54918799, 0.        ]), array([1, 0, 3, 0, 1, 1, 0, 3, 1, 0, 1, 0], dtype=object)]\n",
      "[1, array([3.09837598, 1.54918799, 1.54918799, 0.        ]), array([3, 1, 3, 3, 2, 0, 0, 0, 3, 1, 0, 0], dtype=object)]\n",
      "[2, array([3.09837598, 1.54918799, 1.54918799, 0.        ]), array([2, 2, 3, 0, 0, 3, 0, 2, 2, 0, 3, 1], dtype=object)][2, array([3.09837598, 1.54918799, 1.54918799, 0.        ]), array([3, 0, 3, 0, 1, 1, 2, 3, 1, 2, 2, 0], dtype=object)]\n",
      "\n",
      "[2, array([3.09837598, 1.54918799, 1.54918799, 0.        ]), array([3, 2, 0, 0, 1, 3, 0, 0, 1, 3, 0, 2], dtype=object)]\n",
      "[2, array([3.09837598, 1.54918799, 1.54918799, 0.        ]), array([1, 1, 3, 3, 2, 0, 2, 0, 3, 2, 1, 0], dtype=object)]\n",
      "[3, array([3.09837598, 1.54918799, 1.54918799, 0.        ]), array([3, 1, 0, 3, 1, 1, 2, 3, 2, 3, 0, 0], dtype=object)]\n",
      "[3, array([3.09837598, 1.54918799, 1.54918799, 0.        ]), array([3, 1, 3, 0, 2, 0, 3, 2, 1, 3, 2, 0], dtype=object)]\n",
      "\n",
      "[3, array([3.09837598, 1.54918799, 1.54918799, 0.        ]), array([2, 0, 1, 2, 3, 3, 3, 2, 2, 3, 1, 0], dtype=object)][3, array([3.09837598, 1.54918799, 1.54918799, 0.        ]), array([0, 2, 0, 3, 0, 2, 2, 3, 2, 2, 3, 2], dtype=object)]\n",
      "[4, array([3.09837598, 1.54918799, 1.54918799, 0.        ]), array([3, 1, 0, 0, 1, 2, 2, 3, 1, 3, 0, 0], dtype=object)]\n",
      "[4, array([3.09837598, 1.54918799, 1.54918799, 0.        ]), array([3, 1, 3, 2, 2, 2, 3, 2, 2, 3, 2, 0], dtype=object)]\n",
      "[4, array([3.09837598, 1.54918799, 1.54918799, 0.        ]), array([2, 0, 1, 3, 3, 0, 3, 2, 3, 3, 1, 0], dtype=object)]\n",
      "[4, array([3.09837598, 1.54918799, 1.54918799, 0.        ]), array([0, 2, 0, 2, 0, 1, 2, 3, 1, 2, 3, 2], dtype=object)]\n",
      "[5, array([3.09837598, 1.54918799, 1.54918799, 0.        ]), array([2, 3, 3, 1, 1, 2, 1, 2, 2, 3, 2, 0], dtype=object)]\n",
      "[5, array([3.09837598, 1.54918799, 1.54918799, 0.        ]), array([3, 1, 0, 0, 1, 2, 2, 1, 2, 0, 3, 2], dtype=object)]\n",
      "[5, array([3.09837598, 1.54918799, 1.54918799, 0.        ]), array([2, 0, 1, 2, 3, 3, 3, 2, 3, 3, 1, 2], dtype=object)]\n",
      "[5, array([3.09837598, 1.54918799, 1.54918799, 0.        ]), array([0, 2, 0, 3, 0, 2, 1, 0, 2, 3, 3, 1], dtype=object)]\n",
      "[6, array([3.09837598, 1.54918799, 1.54918799, 0.        ]), array([2, 3, 3, 1, 3, 1, 3, 3, 2, 3, 2, 3], dtype=object)]\n",
      "[6, array([3.09837598, 1.54918799, 1.54918799, 0.        ]), array([3, 1, 0, 0, 2, 3, 3, 2, 2, 0, 3, 3], dtype=object)]\n",
      "[6, array([3.09837598, 1.54918799, 1.54918799, 0.        ]), array([2, 0, 1, 2, 0, 0, 0, 3, 3, 3, 1, 0], dtype=object)]\n",
      "[6, array([3.09837598, 1.54918799, 1.54918799, 0.        ]), array([0, 2, 0, 3, 3, 3, 0, 3, 2, 3, 3, 0], dtype=object)]\n",
      "[7, array([3.09837598, 1.54918799, 1.54918799, 0.        ]), array([0, 1, 0, 0, 1, 2, 1, 3, 3, 2, 1, 2], dtype=object)]\n",
      "[7, array([3.09837598, 1.54918799, 1.54918799, 0.        ]), array([3, 0, 1, 1, 1, 1, 2, 3, 2, 3, 2, 1], dtype=object)]\n",
      "[7, array([3.09837598, 1.54918799, 1.54918799, 0.        ]), array([2, 2, 0, 2, 0, 3, 2, 1, 0, 1, 0, 0], dtype=object)]\n",
      "[7, array([3.09837598, 1.54918799, 1.54918799, 0.        ]), array([0, 1, 3, 0, 1, 1, 3, 1, 3, 3, 1, 2], dtype=object)]\n",
      "[8, array([3.09837598, 1.54918799, 1.54918799, 0.        ]), array([0, 1, 0, 0, 1, 2, 1, 1, 0, 1, 1, 2], dtype=object)]\n",
      "[8, array([3.09837598, 1.54918799, 1.54918799, 0.        ]), array([3, 0, 1, 1, 1, 1, 2, 2, 3, 2, 2, 1], dtype=object)]\n",
      "[8, array([3.09837598, 1.54918799, 1.54918799, 0.        ]), array([0, 1, 3, 0, 1, 1, 3, 0, 0, 2, 1, 2], dtype=object)]\n",
      "[8, array([3.09837598, 1.54918799, 1.54918799, 0.        ]), array([2, 2, 0, 2, 0, 3, 2, 2, 1, 0, 0, 0], dtype=object)]\n",
      "[9, array([3.09837598, 1.54918799, 1.54918799, 0.        ]), array([1, 3, 1, 3, 3, 2, 1, 3, 3, 2, 1, 1], dtype=object)]\n",
      "[9, array([3.09837598, 1.54918799, 1.54918799, 0.        ]), array([2, 2, 1, 0, 0, 1, 1, 2, 2, 3, 0, 1], dtype=object)]\n",
      "[9, array([3.09837598, 1.54918799, 1.54918799, 0.        ]), array([0, 0, 3, 2, 1, 3, 1, 2, 3, 1, 2, 0], dtype=object)]\n",
      "[9, array([3.09837598, 1.54918799, 1.54918799, 0.        ]), array([0, 2, 0, 1, 2, 0, 3, 1, 3, 3, 2, 3], dtype=object)]\n",
      "[10, array([3.09837598, 1.54918799, 1.54918799, 0.        ]), array([1, 3, 1, 0, 3, 2, 1, 3, 3, 0, 0, 0], dtype=object)]\n",
      "[10, array([3.09837598, 1.54918799, 1.54918799, 0.        ]), array([2, 2, 1, 1, 0, 1, 1, 2, 2, 2, 1, 0], dtype=object)]\n",
      "[10, array([3.09837598, 1.54918799, 1.54918799, 0.        ]), array([0, 2, 0, 3, 2, 0, 3, 1, 3, 1, 3, 0], dtype=object)]\n",
      "[10, array([3.09837598, 1.54918799, 1.54918799, 0.        ]), array([0, 0, 3, 0, 1, 3, 1, 2, 3, 3, 1, 2], dtype=object)]\n",
      "[11, array([3.09837598, 1.54918799, 1.54918799, 0.        ]), array([2, 0, 0, 1, 3, 1, 1, 2, 2, 1, 1, 2], dtype=object)]\n",
      "[11, array([3.09837598, 1.54918799, 1.54918799, 0.        ]), array([0, 1, 2, 0, 3, 1, 2, 3, 2, 3, 0, 1], dtype=object)]\n",
      "[11, array([3.09837598, 1.54918799, 1.54918799, 0.        ]), array([2, 1, 2, 0, 1, 1, 3, 2, 1, 1, 0, 2], dtype=object)]\n",
      "[11, array([3.09837598, 1.54918799, 1.54918799, 0.        ]), array([0, 0, 1, 2, 3, 3, 2, 3, 3, 0, 0, 0], dtype=object)]\n",
      "[12, array([3.09837598, 1.54918799, 1.54918799, 0.        ]), array([2, 3, 3, 0, 0, 2, 1, 2, 2, 0, 1, 0], dtype=object)]\n",
      "[12, array([3.09837598, 1.54918799, 1.54918799, 0.        ]), array([0, 3, 0, 3, 0, 2, 2, 3, 2, 2, 0, 0], dtype=object)]\n",
      "[12, array([3.09837598, 1.54918799, 1.54918799, 0.        ]), array([2, 0, 0, 3, 0, 2, 3, 2, 1, 3, 0, 3], dtype=object)]\n",
      "[12, array([3.09837598, 1.54918799, 1.54918799, 0.        ]), array([0, 1, 3, 1, 0, 2, 2, 3, 3, 2, 0, 1], dtype=object)]\n",
      "[13, array([3.09837598, 1.54918799, 1.54918799, 0.        ]), array([1, 2, 1, 1, 2, 0, 2, 1, 1, 3, 1, 2], dtype=object)]\n",
      "[13, array([3.09837598, 1.54918799, 1.54918799, 0.        ]), array([3, 1, 3, 2, 2, 0, 1, 3, 3, 2, 3, 1], dtype=object)]\n",
      "[13, array([3.09837598, 1.54918799, 1.54918799, 0.        ]), array([2, 3, 2, 1, 2, 1, 0, 3, 2, 1, 1, 1], dtype=object)]\n",
      "[13, array([3.09837598, 1.54918799, 1.54918799, 0.        ]), array([0, 1, 1, 0, 3, 3, 3, 2, 3, 0, 1, 0], dtype=object)]\n",
      "[14, array([3.09837598, 1.54918799, 1.54918799, 0.        ]), array([1, 2, 1, 2, 2, 0, 2, 1, 1, 3, 0, 2], dtype=object)]\n",
      "[14, array([3.09837598, 1.54918799, 1.54918799, 0.        ]), array([3, 1, 3, 0, 2, 0, 1, 3, 3, 2, 1, 1], dtype=object)]\n",
      "[14, array([3.09837598, 1.54918799, 1.54918799, 0.        ]), array([2, 3, 2, 0, 2, 1, 0, 3, 2, 1, 3, 1], dtype=object)]\n",
      "[14, array([3.09837598, 1.54918799, 1.54918799, 0.        ]), array([0, 1, 1, 2, 3, 3, 3, 2, 3, 0, 3, 0], dtype=object)]\n",
      "[15, array([3.09837598, 1.54918799, 1.54918799, 0.        ]), array([0, 2, 1, 2, 2, 2, 3, 2, 1, 2, 2, 2], dtype=object)]\n",
      "[15, array([3.09837598, 1.54918799, 1.54918799, 0.        ]), array([1, 1, 0, 0, 0, 0, 2, 3, 3, 1, 1, 1], dtype=object)]\n",
      "[15, array([3.09837598, 1.54918799, 1.54918799, 0.        ]), array([2, 1, 2, 1, 3, 1, 3, 0, 1, 1, 0, 3], dtype=object)]\n",
      "[15, array([3.09837598, 1.54918799, 1.54918799, 0.        ]), array([3, 1, 2, 3, 3, 1, 3, 1, 0, 2, 3, 2], dtype=object)]\n",
      "\n",
      "[16, array([3.09837598, 1.54918799, 1.54918799, 0.        ]), array([0, 3, 1, 2, 2, 2, 3, 2, 1, 2, 2, 2], dtype=object)]\n",
      "[16, array([3.09837598, 1.54918799, 1.54918799, 0.        ]), array([1, 2, 0, 0, 0, 0, 2, 3, 3, 1, 1, 1], dtype=object)][16, array([3.09837598, 1.54918799, 1.54918799, 0.        ]), array([3, 3, 2, 3, 3, 1, 3, 1, 0, 2, 3, 2], dtype=object)][16, array([3.09837598, 1.54918799, 1.54918799, 0.        ]), array([2, 0, 2, 1, 3, 1, 3, 0, 1, 1, 0, 3], dtype=object)]\n",
      "\n",
      "[17, array([3.09837598, 1.54918799, 1.54918799, 0.        ]), array([1, 2, 1, 0, 2, 2, 0, 2, 1, 2, 2, 0], dtype=object)]\n",
      "[17, array([3.09837598, 1.54918799, 1.54918799, 0.        ]), array([2, 1, 3, 1, 2, 3, 0, 0, 1, 3, 2, 2], dtype=object)]\n",
      "[17, array([3.09837598, 1.54918799, 1.54918799, 0.        ]), array([3, 1, 2, 3, 0, 1, 1, 0, 0, 2, 0, 3], dtype=object)]\n",
      "[17, array([3.09837598, 1.54918799, 1.54918799, 0.        ]), array([1, 1, 1, 2, 1, 0, 2, 1, 0, 3, 3, 2], dtype=object)]\n",
      "[18, array([3.09837598, 1.54918799, 1.54918799, 0.        ]), array([1, 2, 1, 3, 2, 2, 2, 0, 1, 2, 3, 0], dtype=object)]\n",
      "[18, array([3.09837598, 1.54918799, 1.54918799, 0.        ]), array([2, 1, 3, 2, 2, 3, 2, 1, 1, 3, 1, 2], dtype=object)]\n",
      "[18, array([3.09837598, 1.54918799, 1.54918799, 0.        ]), array([1, 1, 1, 3, 1, 0, 3, 3, 0, 3, 1, 2], dtype=object)]\n",
      "[18, array([3.09837598, 1.54918799, 1.54918799, 0.        ]), array([3, 1, 2, 0, 0, 1, 3, 1, 0, 2, 3, 3], dtype=object)]\n",
      "[19, array([3.09837598, 1.54918799, 1.54918799, 0.        ]), array([1, 0, 3, 1, 1, 2, 2, 3, 1, 2, 3, 0], dtype=object)]\n",
      "[19, array([3.09837598, 1.54918799, 1.54918799, 0.        ]), array([1, 3, 2, 0, 0, 1, 3, 2, 2, 1, 0, 2], dtype=object)]\n",
      "[19, array([3.09837598, 1.54918799, 1.54918799, 0.        ]), array([1, 1, 2, 3, 0, 0, 2, 0, 0, 3, 3, 3], dtype=object)]\n",
      "[19, array([3.09837598, 1.54918799, 1.54918799, 0.        ]), array([3, 1, 3, 1, 0, 1, 3, 2, 1, 0, 2, 1], dtype=object)]\n",
      "[20, array([3.09837598, 1.54918799, 1.54918799, 0.        ]), array([1, 0, 2, 0, 0, 3, 2, 3, 1, 2, 3, 0], dtype=object)]\n",
      "[20, array([3.09837598, 1.54918799, 1.54918799, 0.        ]), array([1, 3, 3, 3, 3, 3, 3, 2, 2, 1, 0, 2], dtype=object)]\n",
      "[20, array([3.09837598, 1.54918799, 1.54918799, 0.        ]), array([1, 1, 1, 1, 2, 1, 2, 0, 0, 3, 3, 3], dtype=object)]\n",
      "[20, array([3.09837598, 1.54918799, 1.54918799, 0.        ]), array([3, 1, 1, 2, 1, 2, 3, 2, 1, 0, 2, 1], dtype=object)]\n",
      "[21, array([3.09837598, 1.54918799, 1.54918799, 0.        ]), array([3, 3, 0, 1, 1, 2, 0, 0, 0, 3, 3, 3], dtype=object)]\n",
      "[21, array([3.09837598, 1.54918799, 1.54918799, 0.        ]), array([2, 2, 0, 3, 2, 1, 3, 1, 0, 0, 1, 2], dtype=object)][21, array([3.09837598, 1.54918799, 1.54918799, 0.        ]), array([1, 2, 0, 2, 3, 0, 1, 1, 2, 2, 1, 1], dtype=object)]\n",
      "\n",
      "[21, array([3.09837598, 1.54918799, 1.54918799, 0.        ]), array([2, 1, 3, 1, 0, 0, 0, 2, 0, 1, 2, 3], dtype=object)]\n",
      "[22, array([3.09837598, 1.54918799, 1.54918799, 0.        ]), array([3, 3, 0, 1, 1, 0, 0, 0, 0, 3, 3, 3], dtype=object)]\n",
      "[22, array([3.09837598, 1.54918799, 1.54918799, 0.        ]), array([1, 2, 0, 2, 3, 3, 1, 1, 2, 2, 1, 1], dtype=object)]\n",
      "[22, array([3.09837598, 1.54918799, 1.54918799, 0.        ]), array([2, 1, 3, 1, 0, 3, 0, 2, 0, 1, 2, 3], dtype=object)]\n",
      "[22, array([3.09837598, 1.54918799, 1.54918799, 0.        ]), array([2, 2, 0, 3, 2, 0, 3, 1, 0, 0, 1, 2], dtype=object)]\n",
      "[23, array([3.09837598, 1.54918799, 1.54918799, 0.        ]), array([1, 0, 0, 1, 3, 0, 0, 2, 2, 2, 2, 1], dtype=object)]\n",
      "[23, array([3.09837598, 1.54918799, 1.54918799, 0.        ]), array([2, 2, 1, 1, 2, 2, 1, 0, 3, 0, 2, 1], dtype=object)]\n",
      "[23, array([3.09837598, 1.54918799, 1.54918799, 0.        ]), array([1, 0, 0, 3, 2, 1, 2, 0, 2, 1, 1, 0], dtype=object)]\n",
      "[23, array([3.09837598, 1.54918799, 1.54918799, 0.        ]), array([2, 1, 1, 0, 1, 1, 0, 1, 3, 2, 1, 3], dtype=object)]\n",
      "[24, array([3.09837598, 1.54918799, 1.54918799, 0.        ]), array([1, 0, 3, 1, 3, 2, 3, 1, 2, 2, 2, 1], dtype=object)][24, array([3.09837598, 1.54918799, 1.54918799, 0.        ]), array([2, 2, 0, 1, 2, 0, 0, 2, 3, 0, 2, 1], dtype=object)]\n",
      "\n",
      "[24, array([3.09837598, 1.54918799, 1.54918799, 0.        ]), array([1, 0, 1, 3, 2, 2, 0, 1, 2, 1, 1, 0], dtype=object)]\n",
      "[24, array([3.09837598, 1.54918799, 1.54918799, 0.        ]), array([2, 1, 0, 0, 1, 3, 3, 2, 3, 2, 1, 3], dtype=object)]\n",
      "[25, array([3.09837598, 1.54918799, 1.54918799, 0.        ]), array([1, 1, 3, 0, 1, 1, 0, 0, 1, 0, 3, 3], dtype=object)]\n",
      "[25, array([3.09837598, 1.54918799, 1.54918799, 0.        ]), array([0, 3, 0, 1, 0, 3, 2, 2, 2, 2, 3, 0], dtype=object)]\n",
      "[25, array([3.09837598, 1.54918799, 1.54918799, 0.        ]), array([0, 1, 1, 3, 1, 3, 3, 2, 2, 1, 0, 3], dtype=object)]\n",
      "[25, array([3.09837598, 1.54918799, 1.54918799, 0.        ]), array([1, 1, 0, 0, 1, 1, 1, 3, 1, 1, 1, 2], dtype=object)]\n",
      "[26, array([3.09837598, 1.54918799, 1.54918799, 0.        ]), array([1, 3, 3, 0, 1, 0, 2, 0, 1, 0, 3, 0], dtype=object)]\n",
      "[26, array([3.09837598, 1.54918799, 1.54918799, 0.        ]), array([0, 0, 0, 1, 0, 1, 3, 2, 2, 2, 3, 1], dtype=object)]\n",
      "[26, array([3.09837598, 1.54918799, 1.54918799, 0.        ]), array([0, 2, 1, 3, 1, 1, 1, 2, 2, 1, 0, 1], dtype=object)]\n",
      "[26, array([3.09837598, 1.54918799, 1.54918799, 0.        ]), array([1, 2, 0, 0, 1, 2, 3, 3, 1, 1, 1, 1], dtype=object)]\n",
      "[27, array([3.09837598, 1.54918799, 1.54918799, 0.        ]), array([2, 2, 0, 1, 1, 2, 1, 0, 3, 0, 0, 3], dtype=object)]\n",
      "[27, array([3.09837598, 1.54918799, 1.54918799, 0.        ]), array([3, 3, 2, 1, 1, 2, 0, 0, 2, 2, 2, 0], dtype=object)]\n",
      "[27, array([3.09837598, 1.54918799, 1.54918799, 0.        ]), array([0, 0, 0, 3, 1, 1, 2, 0, 2, 0, 1, 2], dtype=object)]\n",
      "[27, array([3.09837598, 1.54918799, 1.54918799, 0.        ]), array([1, 2, 1, 2, 2, 3, 1, 3, 1, 1, 1, 2], dtype=object)]\n",
      "[28, array([3.09837598, 1.54918799, 1.54918799, 0.        ]), array([2, 2, 0, 1, 1, 1, 1, 0, 3, 0, 0, 0], dtype=object)]\n",
      "[28, array([3.09837598, 1.54918799, 1.54918799, 0.        ]), array([3, 3, 2, 1, 1, 0, 0, 0, 2, 2, 2, 1], dtype=object)]\n",
      "[28, array([3.09837598, 1.54918799, 1.54918799, 0.        ]), array([0, 0, 0, 3, 1, 0, 2, 0, 2, 0, 1, 1], dtype=object)]\n",
      "[28, array([3.09837598, 1.54918799, 1.54918799, 0.        ]), array([1, 2, 1, 2, 2, 0, 1, 3, 1, 1, 1, 1], dtype=object)]\n",
      "[29, array([3.09837598, 1.54918799, 1.54918799, 0.        ]), array([3, 1, 3, 3, 2, 3, 0, 2, 3, 1, 1, 2], dtype=object)]\n",
      "[29, array([3.09837598, 1.54918799, 1.54918799, 0.        ]), array([0, 0, 0, 3, 0, 0, 2, 3, 1, 1, 3, 0], dtype=object)]\n",
      "[29, array([3.09837598, 1.54918799, 1.54918799, 0.        ]), array([3, 1, 2, 1, 3, 1, 0, 3, 0, 0, 0, 2], dtype=object)]\n",
      "[29, array([3.09837598, 1.54918799, 1.54918799, 0.        ]), array([3, 3, 1, 2, 2, 1, 2, 3, 2, 0, 1, 0], dtype=object)]\n",
      "[30, array([3.09837598, 1.54918799, 1.54918799, 0.        ]), array([1, 1, 2, 3, 1, 3, 0, 2, 3, 3, 1, 0], dtype=object)]\n",
      "[30, array([3.09837598, 1.54918799, 1.54918799, 0.        ]), array([3, 0, 1, 3, 3, 0, 2, 3, 1, 0, 3, 3], dtype=object)]\n",
      "[30, array([3.09837598, 1.54918799, 1.54918799, 0.        ]), array([2, 1, 1, 1, 1, 1, 0, 3, 0, 1, 0, 0], dtype=object)]\n",
      "[30, array([3.09837598, 1.54918799, 1.54918799, 0.        ]), array([1, 3, 2, 2, 3, 1, 2, 3, 2, 3, 1, 2], dtype=object)]\n",
      "[31, array([3.09837598, 1.54918799, 1.54918799, 0.        ]), array([1, 2, 0, 2, 1, 1, 1, 1, 3, 3, 0, 2], dtype=object)]\n",
      "[31, array([3.09837598, 1.54918799, 1.54918799, 0.        ]), array([2, 1, 0, 0, 0, 1, 3, 1, 0, 0, 0, 1], dtype=object)]\n",
      "[31, array([3.09837598, 1.54918799, 1.54918799, 0.        ]), array([1, 0, 1, 0, 3, 0, 3, 1, 0, 2, 3, 2], dtype=object)]\n",
      "[31, array([3.09837598, 1.54918799, 1.54918799, 0.        ]), array([1, 0, 1, 2, 2, 3, 2, 3, 1, 2, 2, 2], dtype=object)]\n",
      "[32, array([3.09837598, 1.54918799, 1.54918799, 0.        ]), array([0, 2, 0, 2, 0, 1, 1, 1, 3, 2, 0, 1], dtype=object)]\n",
      "[32, array([3.09837598, 1.54918799, 1.54918799, 0.        ]), array([3, 1, 0, 0, 3, 1, 3, 1, 0, 1, 0, 2], dtype=object)]\n",
      "[32, array([3.09837598, 1.54918799, 1.54918799, 0.        ]), array([0, 0, 1, 0, 2, 0, 3, 1, 0, 1, 3, 1], dtype=object)]\n",
      "[32, array([3.09837598, 1.54918799, 1.54918799, 0.        ]), array([0, 0, 1, 2, 0, 3, 2, 3, 1, 1, 2, 1], dtype=object)]\n",
      "[33, array([3.09837598, 1.54918799, 1.54918799, 0.        ]), array([2, 3, 2, 1, 3, 1, 0, 1, 2, 0, 3, 2], dtype=object)]\n",
      "[33, array([3.09837598, 1.54918799, 1.54918799, 0.        ]), array([0, 1, 3, 2, 1, 3, 3, 1, 0, 2, 3, 0], dtype=object)]\n",
      "[33, array([3.09837598, 1.54918799, 1.54918799, 0.        ]), array([0, 1, 0, 3, 0, 3, 2, 0, 3, 1, 3, 3], dtype=object)]\n",
      "[33, array([3.09837598, 1.54918799, 1.54918799, 0.        ]), array([3, 0, 1, 0, 0, 2, 3, 3, 2, 2, 2, 2], dtype=object)]\n",
      "[34, array([3.09837598, 1.54918799, 1.54918799, 0.        ]), array([2, 3, 2, 1, 3, 1, 0, 2, 1, 0, 3, 2], dtype=object)]\n",
      "[34, array([3.09837598, 1.54918799, 1.54918799, 0.        ]), array([0, 1, 3, 2, 1, 3, 3, 3, 2, 2, 3, 0], dtype=object)]\n",
      "[34, array([3.09837598, 1.54918799, 1.54918799, 0.        ]), array([0, 1, 0, 3, 0, 3, 2, 3, 1, 1, 3, 3], dtype=object)]\n",
      "[35, array([3.09837598, 1.54918799, 1.54918799, 0.        ]), array([1, 3, 3, 1, 1, 1, 3, 2, 2, 3, 1, 3], dtype=object)]\n",
      "[34, array([3.09837598, 1.54918799, 1.54918799, 0.        ]), array([3, 0, 1, 0, 0, 2, 3, 2, 0, 2, 2, 2], dtype=object)]\n",
      "[35, array([3.09837598, 1.54918799, 1.54918799, 0.        ]), array([2, 0, 3, 0, 3, 0, 1, 0, 1, 3, 1, 2], dtype=object)]\n",
      "[35, array([3.09837598, 1.54918799, 1.54918799, 0.        ]), array([2, 0, 0, 2, 0, 2, 1, 3, 0, 0, 2, 1], dtype=object)]\n",
      "[36, array([3.09837598, 1.54918799, 1.54918799, 0.        ]), array([0, 3, 3, 1, 1, 1, 3, 2, 2, 3, 1, 3], dtype=object)]\n",
      "[35, array([3.09837598, 1.54918799, 1.54918799, 0.        ]), array([1, 2, 0, 2, 2, 0, 2, 0, 2, 2, 0, 1], dtype=object)]\n",
      "[36, array([3.09837598, 1.54918799, 1.54918799, 0.        ]), array([0, 0, 3, 0, 3, 0, 1, 0, 1, 3, 1, 2], dtype=object)]\n",
      "[36, array([3.09837598, 1.54918799, 1.54918799, 0.        ]), array([0, 0, 0, 2, 0, 2, 1, 3, 0, 0, 2, 1], dtype=object)]\n",
      "[37, array([3.09837598, 1.54918799, 1.54918799, 0.        ]), array([1, 1, 1, 1, 3, 1, 3, 0, 3, 1, 0, 2], dtype=object)]\n",
      "[36, array([3.09837598, 1.54918799, 1.54918799, 0.        ]), array([2, 2, 0, 2, 2, 0, 2, 0, 2, 2, 0, 1], dtype=object)]\n",
      "[37, array([3.09837598, 1.54918799, 1.54918799, 0.        ]), array([1, 2, 1, 0, 0, 0, 1, 1, 2, 3, 0, 1], dtype=object)]\n",
      "[37, array([3.09837598, 1.54918799, 1.54918799, 0.        ]), array([0, 0, 1, 2, 1, 0, 3, 2, 0, 2, 2, 3], dtype=object)]\n",
      "[38, array([3.09837598, 1.54918799, 1.54918799, 0.        ]), array([3, 1, 1, 1, 3, 1, 0, 0, 3, 2, 0, 2], dtype=object)]\n",
      "[37, array([3.09837598, 1.54918799, 1.54918799, 0.        ]), array([3, 0, 3, 3, 1, 1, 2, 0, 2, 2, 0, 0], dtype=object)]\n",
      "[38, array([3.09837598, 1.54918799, 1.54918799, 0.        ]), array([0, 2, 1, 0, 0, 0, 2, 1, 2, 1, 0, 1], dtype=object)]\n",
      "\n",
      "[38, array([3.09837598, 1.54918799, 1.54918799, 0.        ]), array([1, 0, 1, 2, 1, 0, 0, 2, 0, 1, 2, 3], dtype=object)]\n",
      "[38, array([3.09837598, 1.54918799, 1.54918799, 0.        ]), array([0, 0, 3, 3, 1, 1, 0, 0, 2, 3, 0, 0], dtype=object)]\n",
      "[39, array([3.09837598, 1.54918799, 1.54918799, 0.        ]), array([2, 1, 3, 2, 3, 1, 1, 2, 2, 1, 3, 2], dtype=object)][39, array([3.09837598, 1.54918799, 1.54918799, 0.        ]), array([2, 0, 0, 2, 2, 2, 0, 0, 3, 3, 2, 1], dtype=object)]\n",
      "[39, array([3.09837598, 1.54918799, 1.54918799, 0.        ]), array([1, 3, 1, 0, 1, 2, 1, 3, 2, 0, 0, 2], dtype=object)]\n",
      "[40, array([3.09837598, 1.54918799, 1.54918799, 0.        ]), array([2, 0, 3, 2, 3, 1, 1, 2, 2, 0, 3, 0], dtype=object)]\n",
      "[39, array([3.09837598, 1.54918799, 1.54918799, 0.        ]), array([0, 0, 3, 3, 1, 1, 3, 0, 1, 2, 1, 0], dtype=object)]\n",
      "[40, array([3.09837598, 1.54918799, 1.54918799, 0.        ]), array([1, 0, 1, 0, 1, 2, 1, 3, 2, 3, 0, 0], dtype=object)]\n",
      "[40, array([3.09837598, 1.54918799, 1.54918799, 0.        ]), array([2, 3, 0, 2, 2, 2, 0, 0, 3, 0, 2, 3], dtype=object)]\n",
      "[40, array([3.09837598, 1.54918799, 1.54918799, 0.        ]), array([0, 3, 3, 3, 1, 1, 3, 0, 1, 1, 1, 1], dtype=object)]\n"
     ]
    }
   ],
   "source": [
    "ks_best, energy_noisy, energy_noiseless = claptonize(\n",
    "    paulis,\n",
    "    coeffs,\n",
    "    twirl_ansatz,\n",
    "    n_proc=4,           # total number of processes in parallel\n",
    "    n_starts=4,         # number of random genetic algorithm starts in parallel\n",
    "    n_rounds=1,         # number of budget rounds, if None it will terminate itself\n",
    "    callback=print,     # callback for internal parameter (#iteration, energies, ks) processing\n",
    "    budget=20,                        # budget per genetic algorithm instance\n",
    ")"
   ]
  },
  {
   "cell_type": "code",
   "execution_count": 127,
   "metadata": {},
   "outputs": [
    {
     "data": {
      "text/plain": [
       "[1, 0, 2, 0, 0, 0, 0, 0, 1, 0, 0, 1]"
      ]
     },
     "execution_count": 127,
     "metadata": {},
     "output_type": "execute_result"
    }
   ],
   "source": [
    "ks_best"
   ]
  },
  {
   "cell_type": "code",
   "execution_count": 128,
   "metadata": {},
   "outputs": [
    {
     "data": {
      "text/plain": [
       "(1.549187990124281, 1.549187990124281)"
      ]
     },
     "execution_count": 128,
     "metadata": {},
     "output_type": "execute_result"
    }
   ],
   "source": [
    "energy_noisy, energy_noiseless"
   ]
  },
  {
   "cell_type": "code",
   "execution_count": 129,
   "metadata": {},
   "outputs": [
    {
     "data": {
      "text/plain": [
       "0.0"
      ]
     },
     "execution_count": 129,
     "metadata": {},
     "output_type": "execute_result"
    }
   ],
   "source": [
    "# differrence\n",
    "np.abs(energy_noisy-energy_noiseless)"
   ]
  },
  {
   "cell_type": "code",
   "execution_count": 70,
   "metadata": {},
   "outputs": [
    {
     "data": {
      "text/html": [
       "<pre>q0: -SQRT_Y-S-----X-@-SQRT_Y_DAG-Z-------\n",
       "                  | |\n",
       "q1: -SQRT_Y-I-----|-X-@----------I-Z-----\n",
       "                  |   |\n",
       "q2: -I------S_DAG-@---X----------I-S_DAG-</pre>"
      ],
      "text/plain": [
       "q0: -SQRT_Y-S-----X-@-SQRT_Y_DAG-Z-------\n",
       "                  | |\n",
       "q1: -SQRT_Y-I-----|-X-@----------I-Z-----\n",
       "                  |   |\n",
       "q2: -I------S_DAG-@---X----------I-S_DAG-"
      ]
     },
     "execution_count": 70,
     "metadata": {},
     "output_type": "execute_result"
    }
   ],
   "source": [
    "# the corresponding circuit is\n",
    "twirl_ansatz.assign(ks_best)\n",
    "twirl_ansatz.snapshot_noiseless().circ_snapshot_noiseless.diagram()"
   ]
  }
 ],
 "metadata": {
  "kernelspec": {
   "display_name": "clapton",
   "language": "python",
   "name": "python3"
  },
  "language_info": {
   "codemirror_mode": {
    "name": "ipython",
    "version": 3
   },
   "file_extension": ".py",
   "mimetype": "text/x-python",
   "name": "python",
   "nbconvert_exporter": "python",
   "pygments_lexer": "ipython3",
   "version": "3.10.15"
  }
 },
 "nbformat": 4,
 "nbformat_minor": 2
}
