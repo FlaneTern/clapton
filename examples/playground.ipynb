{
 "cells": [
  {
   "cell_type": "code",
   "execution_count": 10,
   "metadata": {},
   "outputs": [],
   "source": [
    "import sys\n",
    "sys.path.append(\"../\")\n",
    "from clapton.clapton import claptonize\n",
    "from clapton.ansatzes import * \n",
    "from clapton.clifford import ParametrizedCliffordCircuit\n",
    "import numpy as np\n",
    "import stim \n",
    "import pandas as pd\n",
    "from qiskit import QuantumCircuit\n",
    "from qiskit.converters import circuit_to_dag, dag_to_circuit\n",
    "from qiskit_qec.utils.stim_tools import get_stim_circuits\n",
    "from qiskit_research.utils.convenience import *\n",
    "import random"
   ]
  },
  {
   "cell_type": "code",
   "execution_count": 11,
   "metadata": {},
   "outputs": [],
   "source": [
    "paulis = [\"XXI\", \"IXX\", \"YYI\", \"IYY\", \"ZZI\", \"IZZ\"]\n",
    "coeffs = np.random.random(len(paulis))\n",
    "\n",
    "from clapton.depolarization import GateGeneralDepolarizationModel #TODO: check this out \n"
   ]
  },
  {
   "cell_type": "code",
   "execution_count": 12,
   "metadata": {},
   "outputs": [
    {
     "data": {
      "image/png": "[encoded data removed]",
      "text/plain": [
       "<Figure size 705.552x284.278 with 1 Axes>"
      ]
     },
     "execution_count": 12,
     "metadata": {},
     "output_type": "execute_result"
    }
   ],
   "source": [
    "def circular_ansatz(N, reps=1, fix_2q=False):\n",
    "    pcirc = QuantumCircuit(N)\n",
    "    for _ in range(reps):\n",
    "        for i in range(N):\n",
    "            pcirc.ry(0,i)\n",
    "        for i in range(N):\n",
    "            pcirc.rz(0,i)\n",
    "        for i in range(N):\n",
    "            control = (i-1) % N\n",
    "            target = i\n",
    "            if fix_2q:\n",
    "                pcirc.cx(control, target).fix(1)\n",
    "            else:\n",
    "                pcirc.cx(control, target)\n",
    "    for i in range(N):\n",
    "        pcirc.ry(0,i)\n",
    "    for i in range(N):\n",
    "        pcirc.rz(0,i)\n",
    "    return pcirc\n",
    "\n",
    "qc=circular_ansatz(3)\n",
    "qc.draw(output='mpl')"
   ]
  },
  {
   "cell_type": "markdown",
   "metadata": {},
   "source": [
    "## Altering the Ansatz itself"
   ]
  },
  {
   "cell_type": "code",
   "execution_count": 14,
   "metadata": {},
   "outputs": [],
   "source": [
    "rng = np.random.default_rng()\n",
    "\n",
    "TWIRL_GATES_CX = (\n",
    "        (('I', 'I'), ('I', 'I')),\n",
    "        (('I', 'X'), ('I', 'X')),\n",
    "        (('I', 'Y'), ('Z', 'Y')),\n",
    "        (('I', 'Z'), ('Z', 'Z')),\n",
    "        (('X', 'I'), ('X', 'X')),\n",
    "        (('X', 'X'), ('X', 'I')),\n",
    "        (('X', 'Y'), ('Y', 'Z')),\n",
    "        (('X', 'Z'), ('Y', 'Y')),\n",
    "        (('Y', 'I'), ('Y', 'X')),\n",
    "        (('Y', 'X'), ('Y', 'I')),\n",
    "        (('Y', 'Y'), ('X', 'Z')),\n",
    "        (('Y', 'Z'), ('X', 'Y')),\n",
    "        (('Z', 'I'), ('Z', 'I')),\n",
    "        (('Z', 'X'), ('Z', 'X')),\n",
    "        (('Z', 'Y'), ('I', 'Y')),\n",
    "        (('Z', 'Z'), ('I', 'Z')),\n",
    "    )\n",
    "\n",
    "pauli_twirl_dict = {\"I\":0,\"X\":1,\"Y\":2,\"Z\":3}\n",
    "\n",
    "def twirled_circular_ansatz(N, reps=1, fix_2q=False):\n",
    "    pcirc = ParametrizedCliffordCircuit()\n",
    "    for _ in range(reps):\n",
    "        for i in range(N):\n",
    "            pcirc.RY(i)\n",
    "        for i in range(N):\n",
    "            pcirc.RZ(i)\n",
    "        for i in range(N):\n",
    "            control = (i-1) % N\n",
    "            target = i\n",
    "            if fix_2q:\n",
    "                \n",
    "                (before0, before1), (after0, after1) = TWIRL_GATES_CX[\n",
    "                    rng.integers(len(TWIRL_GATES_CX))]\n",
    "\n",
    "                pcirc.PauliTwirl(control).fix(pauli_twirl_dict[before0])\n",
    "                pcirc.PauliTwirl(control).fix(pauli_twirl_dict[before1])\n",
    "                pcirc.Q2(control, target).fix(1)\n",
    "                pcirc.PauliTwirl(target).fix(pauli_twirl_dict[after0])\n",
    "                pcirc.PauliTwirl(target).fix(pauli_twirl_dict[after1])\n",
    "            else:\n",
    "                pcirc.Q2(control, target)\n",
    "    for i in range(N):\n",
    "        pcirc.RY(i)\n",
    "    for i in range(N):\n",
    "        pcirc.RZ(i)\n",
    "\n",
    "    \n",
    "    return pcirc\n",
    "\n",
    "pauli_twirl_list = [twirled_circular_ansatz(N=len(paulis[0]), reps=1, fix_2q=True) for _ in range(10)]\n"
   ]
  },
  {
   "cell_type": "code",
   "execution_count": 15,
   "metadata": {},
   "outputs": [
    {
     "data": {
      "text/plain": [
       "<clapton.clifford.ParametrizedCliffordCircuit at 0x7f3578cc22f0>"
      ]
     },
     "execution_count": 15,
     "metadata": {},
     "output_type": "execute_result"
    }
   ],
   "source": [
    "twirl_ansatz = twirled_circular_ansatz(N=len(paulis[0]), reps=1, fix_2q=True)\n",
    "\n",
    "# let's add a noise model where we specify global 1q and 2q gate errors\n",
    "nm = GateGeneralDepolarizationModel(p1=0.005, p2=0.02)\n",
    "twirl_ansatz.add_depolarization_model(nm)\n"
   ]
  },
  {
   "cell_type": "code",
   "execution_count": 16,
   "metadata": {},
   "outputs": [
    {
     "data": {
      "text/plain": [
       "[0, 0, 0, 0, 0, 0, 0, 0, 0, 0, 0, 0]"
      ]
     },
     "execution_count": 16,
     "metadata": {},
     "output_type": "execute_result"
    }
   ],
   "source": [
    "twirl_ansatz.read()"
   ]
  },
  {
   "cell_type": "code",
   "execution_count": 17,
   "metadata": {},
   "outputs": [
    {
     "data": {
      "text/html": [
       "<pre>q0: -I-DEPOLARIZE1(0.005)--------------------I------------------DEPOLARIZE1(0.005)---------------------------------------------------------------------------------X-DEPOLARIZE2(0.02)-I-DEPOLARIZE1(0.005)-Z-DEPOLARIZE1(0.005)-Y-DEPOLARIZE1(0.005)-X-DEPOLARIZE1(0.005)-@-DEPOLARIZE2(0.02)--------------------------------------------------------------------------------------------------------------------------------I------------------DEPOLARIZE1(0.005)--------------------I------------------DEPOLARIZE1(0.005)---------------------------------------\n",
       "                                                                                                                                                                   | |                                                                                                     | |\n",
       "q1: ---I------------------DEPOLARIZE1(0.005)--------------------I------------------DEPOLARIZE1(0.005)--------------------------------------------------------------|-|-----------------------------------------------------------------------------------------------------X-DEPOLARIZE2(0.02)-Y-DEPOLARIZE1(0.005)-I-DEPOLARIZE1(0.005)-Y-DEPOLARIZE1(0.005)-Z-DEPOLARIZE1(0.005)-@-DEPOLARIZE2(0.02)-------------------------------------------I------------------DEPOLARIZE1(0.005)--------------------I------------------DEPOLARIZE1(0.005)--------------------\n",
       "                                                                                                                                                                   | |                                                                                                                                                                                                             | |\n",
       "q2: ----------------------I------------------DEPOLARIZE1(0.005)--------------------I------------------DEPOLARIZE1(0.005)-Z-DEPOLARIZE1(0.005)-Z-DEPOLARIZE1(0.005)-@-DEPOLARIZE2(0.02)---------------------------------------------------------------------------------------------------------------------------------------------------------------------------------------------X-DEPOLARIZE2(0.02)-X-DEPOLARIZE1(0.005)-Y-DEPOLARIZE1(0.005)--------------------I------------------DEPOLARIZE1(0.005)--------------------I------------------DEPOLARIZE1(0.005)-</pre>"
      ],
      "text/plain": [
       "q0: -I-DEPOLARIZE1(0.005)--------------------I------------------DEPOLARIZE1(0.005)---------------------------------------------------------------------------------X-DEPOLARIZE2(0.02)-I-DEPOLARIZE1(0.005)-Z-DEPOLARIZE1(0.005)-Y-DEPOLARIZE1(0.005)-X-DEPOLARIZE1(0.005)-@-DEPOLARIZE2(0.02)--------------------------------------------------------------------------------------------------------------------------------I------------------DEPOLARIZE1(0.005)--------------------I------------------DEPOLARIZE1(0.005)---------------------------------------\n",
       "                                                                                                                                                                   | |                                                                                                     | |\n",
       "q1: ---I------------------DEPOLARIZE1(0.005)--------------------I------------------DEPOLARIZE1(0.005)--------------------------------------------------------------|-|-----------------------------------------------------------------------------------------------------X-DEPOLARIZE2(0.02)-Y-DEPOLARIZE1(0.005)-I-DEPOLARIZE1(0.005)-Y-DEPOLARIZE1(0.005)-Z-DEPOLARIZE1(0.005)-@-DEPOLARIZE2(0.02)-------------------------------------------I------------------DEPOLARIZE1(0.005)--------------------I------------------DEPOLARIZE1(0.005)--------------------\n",
       "                                                                                                                                                                   | |                                                                                                                                                                                                             | |\n",
       "q2: ----------------------I------------------DEPOLARIZE1(0.005)--------------------I------------------DEPOLARIZE1(0.005)-Z-DEPOLARIZE1(0.005)-Z-DEPOLARIZE1(0.005)-@-DEPOLARIZE2(0.02)---------------------------------------------------------------------------------------------------------------------------------------------------------------------------------------------X-DEPOLARIZE2(0.02)-X-DEPOLARIZE1(0.005)-Y-DEPOLARIZE1(0.005)--------------------I------------------DEPOLARIZE1(0.005)--------------------I------------------DEPOLARIZE1(0.005)-"
      ]
     },
     "execution_count": 17,
     "metadata": {},
     "output_type": "execute_result"
    }
   ],
   "source": [
    "twirl_ansatz.stim_circuit().diagram()"
   ]
  },
  {
   "cell_type": "code",
   "execution_count": 18,
   "metadata": {},
   "outputs": [
    {
     "name": "stdout",
     "output_type": "stream",
     "text": [
      "STARTING ROUND 0\n",
      "\n",
      "\n",
      "started GA at id 1 with 1 procs\n",
      "\n"
     ]
    },
    {
     "name": "stderr",
     "output_type": "stream",
     "text": [
      "/home/dbharadwaj/anaconda3/envs/clapton/lib/python3.10/site-packages/pygad/pygad.py:1139: UserWarning: The 'delay_after_gen' parameter is deprecated starting from PyGAD 3.3.0. To delay or pause the evolution after each generation, assign a callback function/method to the 'on_generation' parameter to adds some time delay.\n",
      "  warnings.warn(\"The 'delay_after_gen' parameter is deprecated starting from PyGAD 3.3.0. To delay or pause the evolution after each generation, assign a callback function/method to the 'on_generation' parameter to adds some time delay.\")\n"
     ]
    },
    {
     "name": "stdout",
     "output_type": "stream",
     "text": [
      "started GA at id None with 1 procs\n",
      "\n",
      "started GA at id 2 with 1 procs\n"
     ]
    },
    {
     "name": "stderr",
     "output_type": "stream",
     "text": [
      "/home/dbharadwaj/anaconda3/envs/clapton/lib/python3.10/site-packages/pygad/pygad.py:1139: UserWarning: The 'delay_after_gen' parameter is deprecated starting from PyGAD 3.3.0. To delay or pause the evolution after each generation, assign a callback function/method to the 'on_generation' parameter to adds some time delay.\n",
      "  warnings.warn(\"The 'delay_after_gen' parameter is deprecated starting from PyGAD 3.3.0. To delay or pause the evolution after each generation, assign a callback function/method to the 'on_generation' parameter to adds some time delay.\")\n"
     ]
    },
    {
     "name": "stdout",
     "output_type": "stream",
     "text": [
      "started GA at id 3 with 1 procs\n",
      "\n"
     ]
    },
    {
     "name": "stderr",
     "output_type": "stream",
     "text": [
      "/home/dbharadwaj/anaconda3/envs/clapton/lib/python3.10/site-packages/pygad/pygad.py:1139: UserWarning: The 'delay_after_gen' parameter is deprecated starting from PyGAD 3.3.0. To delay or pause the evolution after each generation, assign a callback function/method to the 'on_generation' parameter to adds some time delay.\n",
      "  warnings.warn(\"The 'delay_after_gen' parameter is deprecated starting from PyGAD 3.3.0. To delay or pause the evolution after each generation, assign a callback function/method to the 'on_generation' parameter to adds some time delay.\")\n"
     ]
    },
    {
     "name": "stdout",
     "output_type": "stream",
     "text": [
      "\n"
     ]
    },
    {
     "name": "stderr",
     "output_type": "stream",
     "text": [
      "/home/dbharadwaj/anaconda3/envs/clapton/lib/python3.10/site-packages/pygad/pygad.py:1139: UserWarning: The 'delay_after_gen' parameter is deprecated starting from PyGAD 3.3.0. To delay or pause the evolution after each generation, assign a callback function/method to the 'on_generation' parameter to adds some time delay.\n",
      "  warnings.warn(\"The 'delay_after_gen' parameter is deprecated starting from PyGAD 3.3.0. To delay or pause the evolution after each generation, assign a callback function/method to the 'on_generation' parameter to adds some time delay.\")\n"
     ]
    },
    {
     "name": "stdout",
     "output_type": "stream",
     "text": [
      "[0, array([-3.17403347, -1.44535203, -1.72868144,  0.        ]), array([0, 2, 1, 1, 3, 0, 2, 2, 3, 0, 0, 1], dtype=object)]\n",
      "[0, array([-2.48767971, -1.15690003, -1.33077968,  0.        ]), array([2, 0, 0, 2, 3, 2, 1, 3, 3, 1, 1, 3], dtype=object)]\n",
      "[0, array([-1.93030717, -0.89305814, -1.03724903,  0.        ]), array([2, 3, 0, 0, 0, 3, 0, 0, 2, 3, 1, 3], dtype=object)][0, array([-1.95630483, -0.9190558 , -1.03724903,  0.        ]), array([0, 3, 2, 1, 2, 0, 1, 3, 1, 3, 1, 3], dtype=object)]\n",
      "\n",
      "[1, array([-3.17174368, -1.44306224, -1.72868144,  0.        ]), array([1, 0, 3, 0, 1, 0, 0, 2, 3, 1, 1, 1], dtype=object)]\n",
      "[1, array([-3.19970116, -1.47101972, -1.72868144,  0.        ]), array([1, 0, 1, 0, 1, 2, 1, 3, 3, 2, 2, 1], dtype=object)]\n",
      "[1, array([-3.15999823, -1.43131679, -1.72868144,  0.        ]), array([0, 0, 1, 1, 2, 1, 0, 2, 3, 3, 2, 1], dtype=object)]\n",
      "[1, array([-2.45060035, -1.11982067, -1.33077968,  0.        ]), array([2, 3, 3, 3, 0, 2, 0, 2, 2, 3, 1, 1], dtype=object)]\n",
      "[2, array([-3.15017823, -1.4214968 , -1.72868144,  0.        ]), array([1, 0, 3, 0, 1, 0, 0, 2, 3, 1, 1, 1], dtype=object)][2, array([-3.19674342, -1.46806198, -1.72868144,  0.        ]), array([1, 0, 1, 0, 1, 2, 1, 3, 3, 2, 2, 1], dtype=object)]\n",
      "\n",
      "[2, array([-3.17068313, -1.44200169, -1.72868144,  0.        ]), array([0, 0, 1, 1, 2, 1, 0, 2, 3, 3, 2, 1], dtype=object)]\n",
      "[2, array([-2.43793647, -1.10715679, -1.33077968,  0.        ]), array([2, 3, 3, 3, 0, 2, 0, 2, 2, 3, 1, 1], dtype=object)]\n",
      "[3, array([-3.20909815, -1.48041671, -1.72868144,  0.        ]), array([1, 0, 1, 0, 3, 2, 1, 3, 3, 2, 2, 1], dtype=object)]\n",
      "[3, array([-3.20668828, -1.47800684, -1.72868144,  0.        ]), array([3, 2, 1, 2, 0, 2, 3, 1, 2, 2, 0, 0], dtype=object)]\n",
      "[3, array([-3.18789636, -1.45921493, -1.72868144,  0.        ]), array([0, 2, 1, 1, 3, 0, 2, 2, 0, 2, 2, 2], dtype=object)]\n",
      "[3, array([-1.9623568 , -0.92510777, -1.03724903,  0.        ]), array([1, 3, 0, 0, 0, 3, 0, 0, 2, 3, 3, 1], dtype=object)]\n",
      "[4, array([-3.20079421, -1.47211277, -1.72868144,  0.        ]), array([1, 0, 1, 0, 3, 2, 1, 3, 3, 2, 2, 1], dtype=object)]\n",
      "[4, array([-3.19334234, -1.4646609 , -1.72868144,  0.        ]), array([3, 2, 1, 2, 0, 2, 3, 1, 2, 2, 0, 0], dtype=object)]\n",
      "[4, array([-3.1758981 , -1.44721666, -1.72868144,  0.        ]), array([3, 0, 3, 2, 1, 0, 0, 2, 2, 0, 0, 0], dtype=object)]\n",
      "[4, array([-1.96101175, -0.92376272, -1.03724903,  0.        ]), array([2, 3, 2, 1, 2, 0, 3, 3, 1, 3, 3, 1], dtype=object)]\n",
      "[5, array([-3.22079107, -1.49210963, -1.72868144,  0.        ]), array([1, 0, 1, 0, 1, 2, 1, 3, 3, 2, 2, 1], dtype=object)]\n",
      "[5, array([-3.18665718, -1.45797575, -1.72868144,  0.        ]), array([0, 2, 1, 1, 3, 0, 2, 2, 3, 0, 0, 1], dtype=object)]\n",
      "[5, array([-3.18325297, -1.45457153, -1.72868144,  0.        ]), array([1, 0, 1, 1, 2, 0, 0, 2, 3, 2, 0, 0], dtype=object)]\n",
      "[5, array([-2.47587745, -1.14509777, -1.33077968,  0.        ]), array([2, 3, 3, 3, 0, 2, 0, 2, 2, 3, 1, 1], dtype=object)]\n",
      "[6, array([-3.21508235, -1.48640092, -1.72868144,  0.        ]), array([1, 0, 1, 0, 1, 2, 1, 3, 3, 2, 2, 0], dtype=object)]\n",
      "[6, array([-3.18651094, -1.4578295 , -1.72868144,  0.        ]), array([3, 0, 3, 2, 1, 0, 0, 2, 2, 0, 0, 1], dtype=object)]\n",
      "[6, array([-1.95989222, -0.92264319, -1.03724903,  0.        ]), array([2, 3, 0, 0, 0, 3, 0, 3, 3, 3, 3, 1], dtype=object)]\n",
      "[6, array([-3.16797428, -1.43929285, -1.72868144,  0.        ]), array([1, 0, 1, 1, 2, 0, 0, 2, 3, 2, 0, 0], dtype=object)]\n",
      "[7, array([-3.2210901 , -1.49240867, -1.72868144,  0.        ]), array([1, 0, 1, 0, 3, 2, 1, 3, 3, 2, 2, 1], dtype=object)]\n",
      "[7, array([-3.21170018, -1.48301874, -1.72868144,  0.        ]), array([3, 2, 1, 2, 0, 2, 3, 1, 2, 2, 0, 0], dtype=object)][7, array([-3.19449036, -1.46580893, -1.72868144,  0.        ]), array([3, 0, 3, 2, 1, 0, 0, 2, 2, 0, 0, 0], dtype=object)]\n",
      "\n",
      "[7, array([-2.48881294, -1.15803326, -1.33077968,  0.        ]), array([2, 3, 3, 3, 0, 2, 0, 2, 2, 3, 1, 1], dtype=object)]\n",
      "[8, array([-3.21534528, -1.48666385, -1.72868144,  0.        ]), array([0, 0, 1, 0, 1, 2, 1, 3, 3, 2, 2, 1], dtype=object)]\n",
      "[8, array([-3.18382677, -1.45514534, -1.72868144,  0.        ]), array([3, 0, 3, 2, 1, 0, 0, 2, 2, 0, 0, 2], dtype=object)]\n",
      "[8, array([-3.18509717, -1.45641573, -1.72868144,  0.        ]), array([1, 0, 1, 1, 2, 0, 0, 2, 3, 2, 0, 3], dtype=object)]\n",
      "[8, array([-3.15501814, -1.42633671, -1.72868144,  0.        ]), array([0, 2, 3, 3, 0, 2, 0, 0, 2, 3, 3, 1], dtype=object)]\n",
      "[9, array([-3.23183969, -1.50315825, -1.72868144,  0.        ]), array([1, 0, 1, 0, 3, 2, 1, 3, 3, 2, 2, 2], dtype=object)]\n",
      "[9, array([-3.19442185, -1.46574041, -1.72868144,  0.        ]), array([3, 0, 3, 2, 1, 0, 0, 2, 2, 0, 0, 1], dtype=object)]\n",
      "[9, array([-3.22069252, -1.49201108, -1.72868144,  0.        ]), array([3, 2, 1, 2, 0, 2, 3, 1, 2, 2, 0, 0], dtype=object)]\n",
      "[10, array([-3.22448867, -1.49580723, -1.72868144,  0.        ]), array([1, 0, 1, 0, 3, 2, 1, 3, 3, 2, 2, 2], dtype=object)]\n",
      "[9, array([-2.47354431, -1.14276463, -1.33077968,  0.        ]), array([2, 3, 3, 3, 0, 2, 0, 2, 2, 3, 1, 1], dtype=object)]\n",
      "[10, array([-3.19186929, -1.46318785, -1.72868144,  0.        ]), array([0, 2, 1, 1, 3, 0, 2, 2, 3, 0, 0, 0], dtype=object)]\n",
      "[10, array([-3.21593886, -1.48725743, -1.72868144,  0.        ]), array([3, 2, 1, 2, 0, 2, 3, 1, 3, 2, 0, 0], dtype=object)]\n",
      "[10, array([-1.96778027, -0.93053124, -1.03724903,  0.        ]), array([1, 3, 2, 3, 0, 1, 0, 3, 3, 2, 1, 1], dtype=object)]\n",
      "[11, array([-3.23197021, -1.50328877, -1.72868144,  0.        ]), array([1, 0, 1, 0, 1, 2, 1, 3, 3, 2, 2, 1], dtype=object)]\n",
      "[12, array([-3.21283056, -1.48414912, -1.72868144,  0.        ]), array([0, 0, 1, 0, 1, 2, 1, 3, 3, 2, 2, 0], dtype=object)]\n",
      "[11, array([-3.2072066 , -1.47852516, -1.72868144,  0.        ]), array([3, 0, 3, 2, 1, 0, 0, 2, 2, 0, 0, 1], dtype=object)]\n",
      "[11, array([-3.22018994, -1.49150851, -1.72868144,  0.        ]), array([2, 2, 1, 2, 0, 2, 3, 1, 2, 2, 0, 0], dtype=object)]\n",
      "[11, array([-3.1533719 , -1.42469047, -1.72868144,  0.        ]), array([0, 2, 3, 3, 0, 2, 0, 0, 2, 3, 3, 1], dtype=object)]\n",
      "[12, array([-3.18415217, -1.45547073, -1.72868144,  0.        ]), array([3, 0, 3, 2, 1, 0, 0, 2, 2, 0, 0, 2], dtype=object)]\n",
      "[12, array([-3.21434424, -1.4856628 , -1.72868144,  0.        ]), array([3, 2, 1, 2, 0, 2, 3, 1, 2, 2, 0, 3], dtype=object)]\n",
      "[13, array([-3.22751963, -1.4988382 , -1.72868144,  0.        ]), array([1, 0, 1, 0, 1, 2, 1, 3, 3, 2, 2, 1], dtype=object)]\n",
      "[12, array([-3.19109924, -1.4624178 , -1.72868144,  0.        ]), array([2, 2, 3, 1, 3, 2, 3, 3, 1, 1, 1, 1], dtype=object)]\n",
      "[13, array([-3.19574195, -1.46706051, -1.72868144,  0.        ]), array([3, 0, 3, 2, 1, 0, 0, 2, 2, 0, 0, 1], dtype=object)]\n",
      "[14, array([-3.21361105, -1.48492962, -1.72868144,  0.        ]), array([0, 0, 1, 0, 1, 2, 1, 3, 3, 2, 2, 0], dtype=object)]\n",
      "[13, array([-3.22400816, -1.49532672, -1.72868144,  0.        ]), array([3, 2, 1, 2, 0, 2, 3, 1, 2, 2, 0, 0], dtype=object)]\n",
      "[13, array([-2.47942528, -1.1486456 , -1.33077968,  0.        ]), array([2, 3, 3, 3, 0, 2, 0, 2, 2, 3, 1, 1], dtype=object)]\n",
      "[14, array([-3.17212502, -1.44344358, -1.72868144,  0.        ]), array([1, 0, 3, 0, 0, 0, 0, 2, 2, 0, 0, 0], dtype=object)]\n",
      "[14, array([-3.20679102, -1.47810958, -1.72868144,  0.        ]), array([2, 2, 1, 1, 0, 2, 3, 1, 2, 2, 0, 1], dtype=object)]\n",
      "[14, array([-2.49077708, -1.1599974 , -1.33077968,  0.        ]), array([0, 3, 3, 3, 0, 2, 0, 2, 2, 3, 1, 1], dtype=object)]\n",
      "[15, array([-3.23231832, -1.50363688, -1.72868144,  0.        ]), array([0, 0, 1, 0, 1, 2, 1, 3, 2, 2, 2, 3], dtype=object)]\n",
      "[15, array([-3.19227377, -1.46359233, -1.72868144,  0.        ]), array([3, 0, 3, 2, 1, 0, 0, 2, 2, 0, 0, 3], dtype=object)]\n",
      "[16, array([-3.22795709, -1.49927565, -1.72868144,  0.        ]), array([3, 0, 1, 0, 1, 2, 1, 3, 3, 2, 2, 0], dtype=object)]\n",
      "[16, array([-3.18690285, -1.45822142, -1.72868144,  0.        ]), array([3, 0, 3, 2, 0, 0, 0, 2, 2, 0, 0, 1], dtype=object)]\n",
      "\n",
      "[15, array([-3.14249305, -1.41381161, -1.72868144,  0.        ]), array([2, 2, 3, 3, 0, 3, 0, 0, 0, 0, 3, 1], dtype=object)]\n",
      "[15, array([-3.22526473, -1.49658329, -1.72868144,  0.        ]), array([3, 2, 1, 2, 0, 2, 3, 1, 2, 2, 0, 0], dtype=object)][16, array([-2.46128777, -1.13050809, -1.33077968,  0.        ]), array([1, 3, 3, 3, 0, 2, 0, 2, 2, 3, 1, 1], dtype=object)]\n",
      "[16, array([-3.21362737, -1.48494593, -1.72868144,  0.        ]), array([3, 2, 1, 2, 2, 2, 3, 1, 2, 2, 0, 3], dtype=object)]\n",
      "[17, array([-3.19608947, -1.46740803, -1.72868144,  0.        ]), array([3, 0, 3, 2, 1, 0, 0, 2, 2, 0, 0, 1], dtype=object)]\n",
      "[17, array([-3.22530242, -1.49662099, -1.72868144,  0.        ]), array([0, 0, 1, 0, 1, 2, 1, 3, 3, 2, 2, 0], dtype=object)]\n",
      "[18, array([-3.19730218, -1.46862075, -1.72868144,  0.        ]), array([3, 0, 3, 2, 1, 0, 0, 2, 2, 0, 0, 0], dtype=object)]\n",
      "[18, array([-3.20815655, -1.47947512, -1.72868144,  0.        ]), array([1, 0, 1, 1, 1, 2, 1, 3, 3, 2, 2, 2], dtype=object)]\n",
      "[17, array([-3.16250824, -1.43382681, -1.72868144,  0.        ]), array([2, 2, 3, 3, 0, 3, 0, 0, 0, 0, 3, 1], dtype=object)]\n",
      "[17, array([-3.22664167, -1.49796024, -1.72868144,  0.        ]), array([3, 2, 1, 1, 0, 2, 3, 1, 2, 2, 0, 0], dtype=object)]\n",
      "[18, array([-3.2280223 , -1.49934086, -1.72868144,  0.        ]), array([3, 2, 1, 2, 0, 2, 3, 1, 2, 2, 0, 0], dtype=object)]\n",
      "[18, array([-2.48372656, -1.15294688, -1.33077968,  0.        ]), array([2, 3, 3, 2, 0, 2, 0, 2, 2, 3, 1, 1], dtype=object)]\n",
      "[19, array([-3.19524348, -1.46656205, -1.72868144,  0.        ]), array([1, 0, 3, 0, 1, 0, 0, 2, 1, 0, 0, 1], dtype=object)]\n",
      "[19, array([-3.22863063, -1.4999492 , -1.72868144,  0.        ]), array([0, 0, 1, 0, 1, 2, 1, 3, 3, 2, 2, 1], dtype=object)]\n",
      "[20, array([-3.18276103, -1.45407959, -1.72868144,  0.        ]), array([0, 0, 3, 2, 1, 0, 0, 2, 2, 0, 0, 1], dtype=object)]\n",
      "[19, array([-3.22862607, -1.49994464, -1.72868144,  0.        ]), array([3, 2, 1, 1, 0, 2, 3, 1, 2, 2, 0, 3], dtype=object)]\n",
      "[20, array([-3.2201173 , -1.49143586, -1.72868144,  0.        ]), array([3, 0, 1, 0, 3, 2, 1, 3, 3, 2, 2, 2], dtype=object)]\n",
      "[19, array([-3.17011926, -1.44143782, -1.72868144,  0.        ]), array([2, 2, 3, 1, 3, 2, 3, 3, 1, 1, 1, 1], dtype=object)]\n",
      "[20, array([-3.21992562, -1.49124418, -1.72868144,  0.        ]), array([1, 2, 1, 2, 0, 2, 3, 1, 2, 2, 0, 3], dtype=object)]\n",
      "[20, array([-3.16315637, -1.43447493, -1.72868144,  0.        ]), array([2, 2, 3, 3, 0, 0, 0, 0, 0, 3, 1, 2], dtype=object)]\n",
      "[21, array([-3.19598025, -1.46729882, -1.72868144,  0.        ]), array([3, 0, 3, 2, 1, 0, 0, 2, 2, 0, 0, 1], dtype=object)]\n",
      "[21, array([-3.2239393 , -1.49525787, -1.72868144,  0.        ]), array([0, 0, 1, 0, 1, 2, 1, 3, 3, 2, 2, 0], dtype=object)]\n",
      "[22, array([-3.18291818, -1.45423674, -1.72868144,  0.        ]), array([3, 0, 1, 1, 2, 2, 0, 2, 3, 0, 0, 1], dtype=object)]\n",
      "[21, array([-3.21746978, -1.48878834, -1.72868144,  0.        ]), array([3, 2, 1, 2, 0, 2, 3, 1, 2, 2, 0, 3], dtype=object)]\n",
      "[21, array([-3.17441397, -1.44573254, -1.72868144,  0.        ]), array([2, 2, 3, 1, 3, 2, 3, 3, 1, 1, 1, 3], dtype=object)]\n",
      "[22, array([-3.22046124, -1.4917798 , -1.72868144,  0.        ]), array([1, 0, 1, 0, 1, 2, 1, 3, 3, 2, 2, 2], dtype=object)]\n",
      "[22, array([-3.21222707, -1.48354563, -1.72868144,  0.        ]), array([3, 2, 1, 2, 0, 2, 3, 1, 2, 2, 0, 1], dtype=object)]\n",
      "[22, array([-3.19411069, -1.46542926, -1.72868144,  0.        ]), array([3, 2, 3, 1, 1, 2, 3, 3, 1, 1, 1, 3], dtype=object)]\n",
      "[23, array([-3.2016807 , -1.47299927, -1.72868144,  0.        ]), array([3, 0, 3, 2, 1, 0, 0, 2, 3, 0, 0, 1], dtype=object)]\n",
      "[23, array([-3.22119406, -1.49251262, -1.72868144,  0.        ]), array([3, 0, 1, 0, 3, 2, 1, 3, 3, 2, 2, 2], dtype=object)]\n",
      "[24, array([-3.19144119, -1.46275975, -1.72868144,  0.        ]), array([2, 0, 3, 2, 1, 0, 0, 2, 3, 0, 0, 0], dtype=object)]\n",
      "[23, array([-3.18977138, -1.46108995, -1.72868144,  0.        ]), array([2, 2, 3, 1, 3, 2, 3, 3, 1, 1, 1, 1], dtype=object)]\n",
      "[23, array([-3.22278421, -1.49410277, -1.72868144,  0.        ]), array([3, 2, 1, 2, 0, 2, 3, 1, 2, 2, 0, 0], dtype=object)]\n",
      "[24, array([-3.21651146, -1.48783002, -1.72868144,  0.        ]), array([1, 0, 1, 0, 3, 2, 1, 3, 3, 2, 2, 0], dtype=object)]\n",
      "[24, array([-3.21153173, -1.48285029, -1.72868144,  0.        ]), array([3, 2, 1, 1, 0, 2, 3, 1, 2, 2, 0, 3], dtype=object)]\n",
      "[24, array([-3.18940253, -1.46072109, -1.72868144,  0.        ]), array([0, 2, 3, 1, 3, 2, 3, 3, 1, 1, 1, 1], dtype=object)]\n",
      "[25, array([-3.19293592, -1.46425448, -1.72868144,  0.        ]), array([3, 0, 3, 2, 1, 0, 0, 2, 3, 0, 0, 0], dtype=object)]\n",
      "[26, array([-3.19242974, -1.4637483 , -1.72868144,  0.        ]), array([3, 0, 3, 2, 3, 0, 0, 2, 2, 0, 0, 0], dtype=object)]\n",
      "[25, array([-3.23784251, -1.50916107, -1.72868144,  0.        ]), array([3, 0, 1, 0, 1, 2, 1, 3, 3, 2, 2, 0], dtype=object)]\n",
      "[25, array([-3.22624082, -1.49755938, -1.72868144,  0.        ]), array([3, 2, 1, 2, 0, 2, 3, 1, 2, 2, 0, 0], dtype=object)]\n",
      "[26, array([-3.21473356, -1.48605212, -1.72868144,  0.        ]), array([3, 0, 1, 0, 0, 2, 1, 3, 3, 2, 2, 0], dtype=object)]\n",
      "[25, array([-3.18592358, -1.45724214, -1.72868144,  0.        ]), array([0, 2, 3, 3, 0, 2, 0, 0, 2, 3, 3, 3], dtype=object)]\n",
      "[26, array([-3.1945101 , -1.46582866, -1.72868144,  0.        ]), array([0, 2, 3, 1, 3, 2, 3, 3, 1, 1, 1, 1], dtype=object)][26, array([-3.22267534, -1.4939939 , -1.72868144,  0.        ]), array([1, 2, 1, 2, 0, 2, 3, 1, 2, 2, 0, 0], dtype=object)]\n",
      "\n",
      "[27, array([-3.19560239, -1.46692095, -1.72868144,  0.        ]), array([3, 0, 3, 2, 1, 0, 0, 2, 2, 0, 0, 0], dtype=object)]\n",
      "[28, array([-3.19224221, -1.46356078, -1.72868144,  0.        ]), array([3, 0, 3, 3, 1, 0, 0, 2, 2, 0, 0, 0], dtype=object)]\n",
      "[27, array([-3.22995138, -1.50126995, -1.72868144,  0.        ]), array([3, 0, 1, 0, 1, 2, 1, 3, 3, 2, 2, 0], dtype=object)]\n",
      "[27, array([-3.22408016, -1.49539872, -1.72868144,  0.        ]), array([3, 2, 1, 2, 0, 2, 3, 1, 2, 2, 0, 3], dtype=object)]\n",
      "[27, array([-3.20198883, -1.47330739, -1.72868144,  0.        ]), array([2, 2, 3, 1, 3, 2, 3, 3, 1, 1, 1, 1], dtype=object)]\n",
      "[28, array([-3.22067564, -1.4919942 , -1.72868144,  0.        ]), array([3, 0, 1, 0, 1, 2, 1, 3, 2, 2, 2, 0], dtype=object)]\n",
      "[28, array([-3.21451179, -1.48583036, -1.72868144,  0.        ]), array([3, 2, 1, 2, 3, 2, 3, 1, 2, 2, 0, 0], dtype=object)]\n",
      "[29, array([-3.20061504, -1.4719336 , -1.72868144,  0.        ]), array([3, 0, 3, 2, 1, 0, 0, 2, 2, 0, 0, 0], dtype=object)]\n",
      "[28, array([-3.1905059 , -1.46182446, -1.72868144,  0.        ]), array([2, 2, 3, 3, 3, 2, 3, 3, 1, 1, 1, 1], dtype=object)]\n",
      "[30, array([-3.17398086, -1.44529943, -1.72868144,  0.        ]), array([0, 0, 3, 2, 3, 0, 2, 0, 2, 0, 0, 2], dtype=object)]\n",
      "[29, array([-3.22230979, -1.49362835, -1.72868144,  0.        ]), array([3, 0, 1, 0, 1, 2, 1, 3, 3, 2, 2, 2], dtype=object)]\n",
      "[29, array([-3.22704848, -1.49836705, -1.72868144,  0.        ]), array([3, 2, 1, 2, 0, 2, 3, 1, 2, 2, 0, 0], dtype=object)]\n",
      "[30, array([-3.21224932, -1.48356789, -1.72868144,  0.        ]), array([3, 2, 1, 1, 0, 2, 3, 1, 2, 2, 0, 0], dtype=object)]\n",
      "[30, array([-3.22746494, -1.49878351, -1.72868144,  0.        ]), array([3, 0, 1, 3, 1, 2, 1, 3, 3, 2, 2, 0], dtype=object)]\n",
      "[29, array([-3.20011582, -1.47143438, -1.72868144,  0.        ]), array([2, 2, 3, 1, 3, 2, 3, 3, 1, 1, 1, 1], dtype=object)]\n",
      "[30, array([-3.1856893 , -1.45700787, -1.72868144,  0.        ]), array([2, 2, 3, 1, 1, 2, 3, 3, 1, 1, 1, 1], dtype=object)]\n",
      "[31, array([-3.19996805, -1.47128661, -1.72868144,  0.        ]), array([3, 0, 3, 1, 0, 0, 0, 2, 2, 0, 0, 0], dtype=object)]\n",
      "[32, array([-3.18357502, -1.45489358, -1.72868144,  0.        ]), array([0, 0, 3, 2, 1, 0, 0, 2, 2, 0, 0, 0], dtype=object)]\n",
      "[31, array([-3.22433033, -1.49564889, -1.72868144,  0.        ]), array([3, 2, 1, 2, 0, 2, 3, 1, 2, 2, 0, 0], dtype=object)]\n",
      "[31, array([-3.23283556, -1.50415412, -1.72868144,  0.        ]), array([3, 0, 1, 0, 1, 2, 1, 3, 3, 2, 2, 0], dtype=object)]\n",
      "[32, array([-3.19660523, -1.46792379, -1.72868144,  0.        ]), array([3, 0, 1, 3, 1, 2, 1, 3, 3, 2, 2, 0], dtype=object)]\n",
      "[31, array([-3.19682169, -1.46814026, -1.72868144,  0.        ]), array([0, 2, 3, 1, 3, 2, 3, 3, 1, 1, 1, 1], dtype=object)]\n",
      "[32, array([-3.21489115, -1.48620971, -1.72868144,  0.        ]), array([3, 2, 1, 1, 0, 2, 3, 1, 2, 2, 0, 0], dtype=object)]\n",
      "[32, array([-3.18406171, -1.45538028, -1.72868144,  0.        ]), array([1, 2, 3, 1, 3, 2, 3, 3, 2, 1, 1, 1], dtype=object)]\n",
      "[33, array([-3.20054721, -1.47186577, -1.72868144,  0.        ]), array([3, 0, 3, 2, 1, 0, 0, 2, 2, 0, 0, 0], dtype=object)]\n",
      "[33, array([-3.22434017, -1.49565874, -1.72868144,  0.        ]), array([3, 0, 1, 0, 1, 2, 1, 3, 3, 2, 2, 0], dtype=object)]\n",
      "[33, array([-3.22686423, -1.49818279, -1.72868144,  0.        ]), array([3, 2, 1, 2, 0, 2, 3, 1, 2, 2, 0, 0], dtype=object)]\n",
      "[34, array([-3.18430161, -1.45562017, -1.72868144,  0.        ]), array([2, 0, 3, 2, 1, 0, 0, 2, 2, 0, 0, 0], dtype=object)]\n",
      "[33, array([-3.19459476, -1.46591332, -1.72868144,  0.        ]), array([0, 2, 3, 1, 3, 2, 3, 3, 1, 1, 1, 1], dtype=object)]\n",
      "[34, array([-3.19931139, -1.47062996, -1.72868144,  0.        ]), array([1, 0, 1, 0, 1, 2, 1, 3, 3, 2, 2, 0], dtype=object)]\n",
      "[34, array([-3.20999375, -1.48131231, -1.72868144,  0.        ]), array([3, 2, 1, 2, 2, 2, 3, 1, 2, 2, 0, 0], dtype=object)]\n",
      "[34, array([-3.17620963, -1.44752819, -1.72868144,  0.        ]), array([3, 2, 3, 1, 3, 2, 3, 3, 1, 1, 1, 1], dtype=object)]\n",
      "[35, array([-3.19356294, -1.46488151, -1.72868144,  0.        ]), array([3, 0, 3, 2, 1, 0, 0, 2, 2, 0, 0, 0], dtype=object)]\n",
      "[36, array([-3.18415451, -1.45547307, -1.72868144,  0.        ]), array([0, 0, 3, 2, 1, 0, 0, 2, 2, 0, 0, 0], dtype=object)]\n",
      "[35, array([-3.2232843 , -1.49460287, -1.72868144,  0.        ]), array([3, 2, 1, 2, 0, 2, 3, 1, 2, 2, 0, 0], dtype=object)]\n",
      "[35, array([-3.22977115, -1.50108971, -1.72868144,  0.        ]), array([3, 0, 1, 0, 1, 2, 1, 3, 3, 2, 2, 0], dtype=object)]\n",
      "[35, array([-3.19937022, -1.47068878, -1.72868144,  0.        ]), array([0, 2, 3, 1, 3, 2, 3, 3, 1, 1, 1, 1], dtype=object)]\n",
      "[36, array([-3.22023164, -1.4915502 , -1.72868144,  0.        ]), array([0, 0, 1, 0, 1, 2, 1, 3, 3, 2, 2, 0], dtype=object)]\n",
      "[36, array([-3.21550068, -1.48681925, -1.72868144,  0.        ]), array([2, 2, 1, 2, 2, 2, 3, 1, 3, 2, 0, 2], dtype=object)]\n",
      "[36, array([-3.19026082, -1.46157939, -1.72868144,  0.        ]), array([1, 2, 3, 1, 3, 2, 3, 3, 1, 1, 1, 1], dtype=object)]\n",
      "[37, array([-3.19549051, -1.46680907, -1.72868144,  0.        ]), array([3, 0, 3, 2, 1, 0, 0, 2, 2, 0, 0, 0], dtype=object)]\n",
      "[37, array([-3.23315723, -1.5044758 , -1.72868144,  0.        ]), array([3, 0, 1, 0, 1, 2, 1, 3, 3, 2, 2, 0], dtype=object)]\n",
      "[38, array([-3.18342607, -1.45474463, -1.72868144,  0.        ]), array([3, 0, 3, 2, 0, 0, 0, 2, 2, 0, 0, 0], dtype=object)]\n",
      "[37, array([-3.22846412, -1.49978269, -1.72868144,  0.        ]), array([3, 2, 1, 2, 0, 2, 3, 1, 2, 2, 0, 0], dtype=object)]\n",
      "[37, array([-3.1937432 , -1.46506176, -1.72868144,  0.        ]), array([0, 2, 3, 1, 3, 2, 3, 3, 1, 1, 1, 1], dtype=object)]\n",
      "[38, array([-3.19578153, -1.46710009, -1.72868144,  0.        ]), array([1, 2, 3, 1, 3, 2, 3, 3, 1, 1, 1, 1], dtype=object)]\n",
      "[38, array([-3.21089058, -1.48220914, -1.72868144,  0.        ]), array([3, 0, 1, 0, 2, 2, 1, 3, 3, 2, 2, 0], dtype=object)]\n",
      "[38, array([-3.21631443, -1.48763299, -1.72868144,  0.        ]), array([1, 2, 1, 2, 0, 2, 3, 1, 2, 2, 0, 0], dtype=object)]\n",
      "[39, array([-3.19184585, -1.46316442, -1.72868144,  0.        ]), array([3, 0, 3, 2, 1, 0, 0, 2, 2, 0, 0, 0], dtype=object)]\n",
      "[40, array([-3.19158136, -1.46289992, -1.72868144,  0.        ]), array([3, 0, 3, 2, 1, 0, 0, 2, 2, 0, 0, 2], dtype=object)]\n",
      "[39, array([-3.20046501, -1.47178358, -1.72868144,  0.        ]), array([2, 2, 3, 1, 3, 2, 3, 3, 1, 1, 1, 1], dtype=object)]\n",
      "[39, array([-3.24033549, -1.51165405, -1.72868144,  0.        ]), array([3, 0, 1, 0, 1, 2, 1, 3, 3, 2, 2, 0], dtype=object)]\n",
      "[39, array([-3.23959918, -1.51091775, -1.72868144,  0.        ]), array([3, 2, 1, 2, 2, 2, 3, 1, 2, 2, 0, 0], dtype=object)]\n",
      "[40, array([-3.21591811, -1.48723668, -1.72868144,  0.        ]), array([3, 0, 1, 0, 1, 2, 1, 3, 3, 2, 2, 2], dtype=object)]\n",
      "[40, array([-3.1881824 , -1.45950096, -1.72868144,  0.        ]), array([0, 2, 3, 3, 3, 2, 3, 3, 1, 1, 1, 1], dtype=object)]\n",
      "[40, array([-3.20762154, -1.4789401 , -1.72868144,  0.        ]), array([3, 2, 1, 1, 2, 2, 3, 1, 2, 2, 0, 0], dtype=object)]\n"
     ]
    }
   ],
   "source": [
    "ks_best, energy_noisy, energy_noiseless = claptonize(\n",
    "    paulis,\n",
    "    coeffs,\n",
    "    twirl_ansatz,\n",
    "    n_proc=4,           # total number of processes in parallel\n",
    "    n_starts=4,         # number of random genetic algorithm starts in parallel\n",
    "    n_rounds=1,         # number of budget rounds, if None it will terminate itself\n",
    "    callback=print,     # callback for internal parameter (#iteration, energies, ks) processing\n",
    "    budget=20,\n",
    "    pauli_twirl_list=None                        # budget per genetic algorithm instance\n",
    ")"
   ]
  },
  {
   "cell_type": "code",
   "execution_count": 19,
   "metadata": {},
   "outputs": [
    {
     "data": {
      "text/plain": [
       "[3, 2, 1, 2, 0, 2, 3, 1, 2, 2, 0, 0]"
      ]
     },
     "execution_count": 19,
     "metadata": {},
     "output_type": "execute_result"
    }
   ],
   "source": [
    "ks_best"
   ]
  },
  {
   "cell_type": "code",
   "execution_count": 20,
   "metadata": {},
   "outputs": [
    {
     "data": {
      "text/plain": [
       "(-1.4735414345807516, -1.7286814363634875)"
      ]
     },
     "execution_count": 20,
     "metadata": {},
     "output_type": "execute_result"
    }
   ],
   "source": [
    "energy_noisy, energy_noiseless"
   ]
  },
  {
   "cell_type": "code",
   "execution_count": 21,
   "metadata": {},
   "outputs": [
    {
     "data": {
      "text/plain": [
       "0.2551400017827359"
      ]
     },
     "execution_count": 21,
     "metadata": {},
     "output_type": "execute_result"
    }
   ],
   "source": [
    "# differrence\n",
    "np.abs(energy_noisy-energy_noiseless)"
   ]
  },
  {
   "cell_type": "code",
   "execution_count": 22,
   "metadata": {},
   "outputs": [
    {
     "data": {
      "text/html": [
       "<pre>q0: -SQRT_Y_DAG-Z-----X-I-Z-Y-X-@-------------SQRT_Y_DAG-Z---\n",
       "                      |         |\n",
       "q1: -Y----------I-----|---------X-Y-I-Y-Z-@---SQRT_Y-----I---\n",
       "                      |                   |\n",
       "q2: -SQRT_Y-----Z-Z-Z-@-------------------X-X-Y----------Y-I-</pre>"
      ],
      "text/plain": [
       "q0: -SQRT_Y_DAG-Z-----X-I-Z-Y-X-@-------------SQRT_Y_DAG-Z---\n",
       "                      |         |\n",
       "q1: -Y----------I-----|---------X-Y-I-Y-Z-@---SQRT_Y-----I---\n",
       "                      |                   |\n",
       "q2: -SQRT_Y-----Z-Z-Z-@-------------------X-X-Y----------Y-I-"
      ]
     },
     "execution_count": 22,
     "metadata": {},
     "output_type": "execute_result"
    }
   ],
   "source": [
    "# the corresponding circuit is\n",
    "twirl_ansatz.assign(ks_best)\n",
    "twirl_ansatz.snapshot_noiseless().circ_snapshot_noiseless.diagram()"
   ]
  },
  {
   "cell_type": "code",
   "execution_count": 23,
   "metadata": {},
   "outputs": [
    {
     "name": "stdout",
     "output_type": "stream",
     "text": [
      "Sampled results (first 10 shots):\n",
      "[[ True  True  True]\n",
      " [ True  True  True]\n",
      " [ True  True  True]\n",
      " [False False False]\n",
      " [ True  True  True]\n",
      " [ True  True  True]\n",
      " [False False False]\n",
      " [False False False]\n",
      " [ True  True  True]\n",
      " [ True  True  True]]\n",
      "\n",
      "Counts:\n",
      " |000⟩ state: 530\n",
      " |111⟩ state: 494\n",
      " Other states: 0\n"
     ]
    }
   ],
   "source": [
    "import stim\n",
    "import numpy as np\n",
    "\n",
    "# Define the number of shots\n",
    "shots = 1024\n",
    "\n",
    "# Create a new Stim circuit\n",
    "circuit = stim.Circuit()\n",
    "\n",
    "# Prepare a GHZ state: |000> + |111>\n",
    "# Start with three qubits in the |0> state by default\n",
    "circuit.append_operation(\"H\", [0])       # Apply H to qubit 0\n",
    "circuit.append_operation(\"CNOT\", [0, 1]) # Apply CNOT from qubit 0 to qubit 1\n",
    "circuit.append_operation(\"CNOT\", [1, 2]) # Apply CNOT from qubit 1 to qubit 2\n",
    "\n",
    "# Measure each qubit in the computational basis\n",
    "circuit.append_operation(\"M\", [0, 1, 2])\n",
    "\n",
    "# Compile a sampler for the circuit\n",
    "sampler = circuit.compile_sampler()\n",
    "\n",
    "# Run the experiment and sample results\n",
    "results = sampler.sample(shots=shots)\n",
    "\n",
    "# Convert results to a NumPy array for analysis\n",
    "results_array = np.array(results)\n",
    "\n",
    "# Display some information about the results\n",
    "print(\"Sampled results (first 10 shots):\")\n",
    "print(results_array[:10])  # Print the first 10 shots for inspection\n",
    "\n",
    "# Analyze counts of |000> and |111>\n",
    "count_000 = np.sum(np.all(results_array == [0, 0, 0], axis=1))\n",
    "count_111 = np.sum(np.all(results_array == [1, 1, 1], axis=1))\n",
    "\n",
    "print(f\"\\nCounts:\")\n",
    "print(f\" |000⟩ state: {count_000}\")\n",
    "print(f\" |111⟩ state: {count_111}\")\n",
    "print(f\" Other states: {shots - count_000 - count_111}\")\n"
   ]
  },
  {
   "cell_type": "code",
   "execution_count": 24,
   "metadata": {},
   "outputs": [
    {
     "data": {
      "text/plain": [
       "1482"
      ]
     },
     "execution_count": 24,
     "metadata": {},
     "output_type": "execute_result"
    }
   ],
   "source": [
    "np.sum(results_array)"
   ]
  },
  {
   "cell_type": "code",
   "execution_count": null,
   "metadata": {},
   "outputs": [],
   "source": []
  }
 ],
 "metadata": {
  "kernelspec": {
   "display_name": "clapton",
   "language": "python",
   "name": "python3"
  },
  "language_info": {
   "codemirror_mode": {
    "name": "ipython",
    "version": 3
   },
   "file_extension": ".py",
   "mimetype": "text/x-python",
   "name": "python",
   "nbconvert_exporter": "python",
   "pygments_lexer": "ipython3",
   "version": "3.10.15"
  }
 },
 "nbformat": 4,
 "nbformat_minor": 2
}
