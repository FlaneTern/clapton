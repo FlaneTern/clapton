{
 "cells": [
  {
   "cell_type": "code",
   "execution_count": 40,
   "metadata": {},
   "outputs": [],
   "source": [
    "import sys\n",
    "sys.path.append(\"../\")\n",
    "from clapton.clapton import claptonize\n",
    "from clapton.ansatzes import * \n",
    "from qiskit_research.utils.convenience import *\n",
    "import stim\n",
    "import numpy as np"
   ]
  },
  {
   "cell_type": "code",
   "execution_count": 41,
   "metadata": {},
   "outputs": [],
   "source": [
    "def circuit_to_tableau(circuit: stim.Circuit) -> stim.Tableau:\n",
    "    s = stim.TableauSimulator()\n",
    "    s.do_circuit(circuit)\n",
    "    return s.current_inverse_tableau() ** -1"
   ]
  },
  {
   "cell_type": "code",
   "execution_count": 42,
   "metadata": {},
   "outputs": [],
   "source": [
    "paulis = [\"XXI\", \"IXX\", \"YYI\", \"IYY\", \"ZZI\", \"IZZ\"]\n",
    "coeffs = np.random.random(len(paulis))\n",
    "from clapton.depolarization import GateGeneralDepolarizationModel"
   ]
  },
  {
   "cell_type": "markdown",
   "metadata": {},
   "source": [
    "## Altering the Ansatz itself"
   ]
  },
  {
   "cell_type": "code",
   "execution_count": 43,
   "metadata": {},
   "outputs": [],
   "source": [
    "rng = np.random.default_rng()\n",
    "\n",
    "def add_pauli_twirl(circuit):\n",
    "\n",
    "    TWIRL_GATES_CX = (\n",
    "            (('I', 'I'), ('I', 'I')),\n",
    "            (('I', 'X'), ('I', 'X')),\n",
    "            (('I', 'Y'), ('Z', 'Y')),\n",
    "            (('I', 'Z'), ('Z', 'Z')),\n",
    "            (('X', 'I'), ('X', 'X')),\n",
    "            (('X', 'X'), ('X', 'I')),\n",
    "            (('X', 'Y'), ('Y', 'Z')),\n",
    "            (('X', 'Z'), ('Y', 'Y')),\n",
    "            (('Y', 'I'), ('Y', 'X')),\n",
    "            (('Y', 'X'), ('Y', 'I')),\n",
    "            (('Y', 'Y'), ('X', 'Z')),\n",
    "            (('Y', 'Z'), ('X', 'Y')),\n",
    "            (('Z', 'I'), ('Z', 'I')),\n",
    "            (('Z', 'X'), ('Z', 'X')),\n",
    "            (('Z', 'Y'), ('I', 'Y')),\n",
    "            (('Z', 'Z'), ('I', 'Z')),\n",
    "        )\n",
    "\n",
    "    pauli_twirl_dict = {\"I\":0,\"X\":1,\"Y\":2,\"Z\":3}\n",
    "\n",
    "    new_circuit = ParametrizedCliffordCircuit()\n",
    "    for gate in circuit.gates:\n",
    "        if gate.label == '2Q':\n",
    "            control = gate.qbs[0]\n",
    "            target = gate.qbs[1]\n",
    "\n",
    "            (before0, before1), (after0, after1) = TWIRL_GATES_CX[\n",
    "                rng.integers(len(TWIRL_GATES_CX))]\n",
    "\n",
    "            new_circuit.PauliTwirl(control).fix(pauli_twirl_dict[before0])\n",
    "            new_circuit.PauliTwirl(target).fix(pauli_twirl_dict[before1])\n",
    "            new_circuit.Q2(control, target).fix(1)\n",
    "            new_circuit.PauliTwirl(control).fix(pauli_twirl_dict[after0])\n",
    "            new_circuit.PauliTwirl(target).fix(pauli_twirl_dict[after1])\n",
    "        elif gate.label == \"RY\":\n",
    "            new_circuit.RY(gate.qbs[0])\n",
    "        elif gate.label == \"RZ\":\n",
    "            new_circuit.RY(gate.qbs[0])\n",
    "\n",
    "    return new_circuit"
   ]
  },
  {
   "cell_type": "code",
   "execution_count": null,
   "metadata": {},
   "outputs": [],
   "source": [
    "# let's add a noise model where we specify global 1q and 2q gate errors\n",
    "\n",
    "nm = GateGeneralDepolarizationModel(p1=0.005, p2=0.1)\n",
    "# nm = None\n",
    "\n",
    "pauli_twirl = False\n",
    "\n",
    "assert not pauli_twirl or nm is not None, \"Depolarization model must be defined if Pauli Twirling is applied\"\n",
    "\n",
    "if pauli_twirl:\n",
    "\n",
    "    init_ansatz = circular_ansatz_mirrored(N=len(paulis[0]), reps=1, fix_2q=True)\n",
    "    vqe_pcirc = add_pauli_twirl(init_ansatz)\n",
    "    # pauli_twirl_list = [twirled_circular_ansatz(N=len(paulis[0]), reps=1, fix_2q=True) for _ in range(100)]\n",
    "    pauli_twirl_list = [add_pauli_twirl(init_ansatz) for _ in range(100)]\n",
    "    vqe_pcirc.add_pauli_twirl_list(pauli_twirl_list)\n",
    "\n",
    "    for i, circuit in enumerate(pauli_twirl_list):\n",
    "        assert circuit_to_tableau(vqe_pcirc.stim_circuit()) == circuit_to_tableau(circuit.stim_circuit()), \\\n",
    "            f\"Circuit Mismatch at index {i}\"\\\n",
    "\n",
    "    vqe_pcirc.add_depolarization_model(nm)        \n",
    "    pauli_twirl_list = [circuit.add_depolarization_model(nm) for circuit in pauli_twirl_list]\n",
    "\n",
    "else: \n",
    "    vqe_pcirc = circular_ansatz_mirrored(N=len(paulis[0]), reps=1, fix_2q=True)\n",
    "    vqe_pcirc.add_depolarization_model(nm)"
   ]
  },
  {
   "cell_type": "code",
   "execution_count": null,
   "metadata": {},
   "outputs": [
    {
     "data": {
      "text/plain": [
       "18"
      ]
     },
     "execution_count": 45,
     "metadata": {},
     "output_type": "execute_result"
    }
   ],
   "source": [
    "vqe_pcirc.number_parametrized_gates()"
   ]
  },
  {
   "cell_type": "code",
   "execution_count": null,
   "metadata": {},
   "outputs": [
    {
     "data": {
      "text/plain": [
       "[0, 0, 0, 0, 0, 0, 0, 0, 0, 0, 0, 0, 0, 0, 0, 0, 0, 0]"
      ]
     },
     "execution_count": 46,
     "metadata": {},
     "output_type": "execute_result"
    }
   ],
   "source": [
    "vqe_pcirc.read()"
   ]
  },
  {
   "cell_type": "code",
   "execution_count": null,
   "metadata": {},
   "outputs": [
    {
     "data": {
      "text/html": [
       "<pre>q0: -I-DEPOLARIZE1(0.005)--------------------I------------------DEPOLARIZE1(0.005)---------------------------------------X-DEPOLARIZE2(0.1)-@-DEPOLARIZE2(0.1)---I----------------DEPOLARIZE1(0.005)--------------------I------------------DEPOLARIZE1(0.005)----------------------------------------------------------@-DEPOLARIZE2(0.1)-X-DEPOLARIZE2(0.1)-I-DEPOLARIZE1(0.005)--------------------I------------------DEPOLARIZE1(0.005)---------------------------------------\n",
       "                                                                                                                         | |                | |                                                                                                                                                                        | |                | |\n",
       "q1: ---I------------------DEPOLARIZE1(0.005)--------------------I------------------DEPOLARIZE1(0.005)--------------------|-|----------------X-DEPOLARIZE2(0.1)-@-DEPOLARIZE2(0.1)-I------------------DEPOLARIZE1(0.005)--------------------I------------------DEPOLARIZE1(0.005)--------------------@-DEPOLARIZE2(0.1)-X-DEPOLARIZE2(0.1)-|-|------------------I------------------DEPOLARIZE1(0.005)--------------------I------------------DEPOLARIZE1(0.005)--------------------\n",
       "                                                                                                                         | |                                   | |                                                                                                                                  | |                                   | |\n",
       "q2: ----------------------I------------------DEPOLARIZE1(0.005)--------------------I------------------DEPOLARIZE1(0.005)-@-DEPOLARIZE2(0.1)--------------------X-DEPOLARIZE2(0.1)--------------------I------------------DEPOLARIZE1(0.005)--------------------I------------------DEPOLARIZE1(0.005)-X-DEPOLARIZE2(0.1)--------------------@-DEPOLARIZE2(0.1)----------------------I------------------DEPOLARIZE1(0.005)--------------------I------------------DEPOLARIZE1(0.005)-</pre>"
      ],
      "text/plain": [
       "q0: -I-DEPOLARIZE1(0.005)--------------------I------------------DEPOLARIZE1(0.005)---------------------------------------X-DEPOLARIZE2(0.1)-@-DEPOLARIZE2(0.1)---I----------------DEPOLARIZE1(0.005)--------------------I------------------DEPOLARIZE1(0.005)----------------------------------------------------------@-DEPOLARIZE2(0.1)-X-DEPOLARIZE2(0.1)-I-DEPOLARIZE1(0.005)--------------------I------------------DEPOLARIZE1(0.005)---------------------------------------\n",
       "                                                                                                                         | |                | |                                                                                                                                                                        | |                | |\n",
       "q1: ---I------------------DEPOLARIZE1(0.005)--------------------I------------------DEPOLARIZE1(0.005)--------------------|-|----------------X-DEPOLARIZE2(0.1)-@-DEPOLARIZE2(0.1)-I------------------DEPOLARIZE1(0.005)--------------------I------------------DEPOLARIZE1(0.005)--------------------@-DEPOLARIZE2(0.1)-X-DEPOLARIZE2(0.1)-|-|------------------I------------------DEPOLARIZE1(0.005)--------------------I------------------DEPOLARIZE1(0.005)--------------------\n",
       "                                                                                                                         | |                                   | |                                                                                                                                  | |                                   | |\n",
       "q2: ----------------------I------------------DEPOLARIZE1(0.005)--------------------I------------------DEPOLARIZE1(0.005)-@-DEPOLARIZE2(0.1)--------------------X-DEPOLARIZE2(0.1)--------------------I------------------DEPOLARIZE1(0.005)--------------------I------------------DEPOLARIZE1(0.005)-X-DEPOLARIZE2(0.1)--------------------@-DEPOLARIZE2(0.1)----------------------I------------------DEPOLARIZE1(0.005)--------------------I------------------DEPOLARIZE1(0.005)-"
      ]
     },
     "execution_count": 47,
     "metadata": {},
     "output_type": "execute_result"
    }
   ],
   "source": [
    "vqe_pcirc.stim_circuit().diagram()"
   ]
  },
  {
   "cell_type": "code",
   "execution_count": null,
   "metadata": {},
   "outputs": [
    {
     "name": "stdout",
     "output_type": "stream",
     "text": [
      "STARTING ROUND 0\n",
      "\n",
      "\n",
      "started GA at id 1 with 1 procs\n",
      "started GA at id 2 with 1 procs\n",
      "started GA at id None with 1 procs\n",
      "\n",
      "\n"
     ]
    },
    {
     "name": "stderr",
     "output_type": "stream",
     "text": [
      "/home/dbharadwaj/anaconda3/envs/clapton/lib/python3.10/site-packages/pygad/pygad.py:1139: UserWarning: The 'delay_after_gen' parameter is deprecated starting from PyGAD 3.3.0. To delay or pause the evolution after each generation, assign a callback function/method to the 'on_generation' parameter to adds some time delay.\n",
      "  warnings.warn(\"The 'delay_after_gen' parameter is deprecated starting from PyGAD 3.3.0. To delay or pause the evolution after each generation, assign a callback function/method to the 'on_generation' parameter to adds some time delay.\")\n"
     ]
    },
    {
     "name": "stdout",
     "output_type": "stream",
     "text": [
      "\n",
      "started GA at id 3 with 1 procs\n",
      "\n"
     ]
    },
    {
     "name": "stderr",
     "output_type": "stream",
     "text": [
      "/home/dbharadwaj/anaconda3/envs/clapton/lib/python3.10/site-packages/pygad/pygad.py:1139: UserWarning: The 'delay_after_gen' parameter is deprecated starting from PyGAD 3.3.0. To delay or pause the evolution after each generation, assign a callback function/method to the 'on_generation' parameter to adds some time delay.\n",
      "  warnings.warn(\"The 'delay_after_gen' parameter is deprecated starting from PyGAD 3.3.0. To delay or pause the evolution after each generation, assign a callback function/method to the 'on_generation' parameter to adds some time delay.\")\n",
      "/home/dbharadwaj/anaconda3/envs/clapton/lib/python3.10/site-packages/pygad/pygad.py:1139: UserWarning: The 'delay_after_gen' parameter is deprecated starting from PyGAD 3.3.0. To delay or pause the evolution after each generation, assign a callback function/method to the 'on_generation' parameter to adds some time delay.\n",
      "  warnings.warn(\"The 'delay_after_gen' parameter is deprecated starting from PyGAD 3.3.0. To delay or pause the evolution after each generation, assign a callback function/method to the 'on_generation' parameter to adds some time delay.\")\n",
      "/home/dbharadwaj/anaconda3/envs/clapton/lib/python3.10/site-packages/pygad/pygad.py:1139: UserWarning: The 'delay_after_gen' parameter is deprecated starting from PyGAD 3.3.0. To delay or pause the evolution after each generation, assign a callback function/method to the 'on_generation' parameter to adds some time delay.\n",
      "  warnings.warn(\"The 'delay_after_gen' parameter is deprecated starting from PyGAD 3.3.0. To delay or pause the evolution after each generation, assign a callback function/method to the 'on_generation' parameter to adds some time delay.\")\n"
     ]
    },
    {
     "name": "stdout",
     "output_type": "stream",
     "text": [
      "[0, array([1.13906681, 0.32491528, 0.81415153, 0.        ]), array([1, 3, 1, 0, 0, 1, 1, 2, 3, 2, 2, 1, 1, 1, 2, 0, 2, 2], dtype=object)]\n",
      "[0, array([1.00250864, 0.34927517, 0.65323347, 0.        ]), array([2, 1, 0, 0, 0, 2, 3, 3, 0, 0, 1, 2, 0, 0, 3, 0, 1, 2], dtype=object)]\n",
      "[0, array([-1.23144587, -0.41729433, -0.81415153,  0.        ]), array([3, 3, 1, 1, 2, 1, 1, 0, 2, 2, 3, 3, 3, 0, 2, 1, 2, 2], dtype=object)]\n",
      "[0, array([-2.93657289, -0.9620712 , -1.97450169,  0.        ]), array([1, 1, 3, 3, 0, 1, 1, 3, 3, 2, 1, 3, 0, 0, 0, 1, 1, 1], dtype=object)]\n",
      "[1, array([1.13295668, 0.31880515, 0.81415153, 0.        ]), array([1, 0, 0, 2, 0, 2, 1, 0, 2, 2, 2, 2, 2, 3, 3, 1, 1, 0], dtype=object)]\n",
      "[1, array([0.98942916, 0.3361957 , 0.65323347, 0.        ]), array([2, 0, 3, 1, 2, 2, 3, 2, 2, 2, 1, 0, 1, 2, 2, 3, 3, 2], dtype=object)]\n",
      "[1, array([-1.21725684, -0.4031053 , -0.81415153,  0.        ]), array([3, 2, 3, 2, 0, 1, 1, 1, 2, 2, 1, 3, 1, 2, 2, 2, 2, 0], dtype=object)]\n",
      "[1, array([-2.91600471, -0.94150302, -1.97450169,  0.        ]), array([1, 3, 3, 1, 2, 0, 0, 1, 0, 0, 3, 2, 3, 3, 0, 2, 0, 0], dtype=object)]\n",
      "\n",
      "[2, array([1.14669922, 0.33254769, 0.81415153, 0.        ]), array([0, 2, 3, 1, 2, 3, 3, 0, 0, 0, 2, 3, 3, 3, 3, 1, 3, 2], dtype=object)][2, array([0.98180023, 0.32856676, 0.65323347, 0.        ]), array([1, 0, 1, 3, 0, 1, 3, 0, 2, 3, 0, 3, 1, 2, 2, 1, 0, 0], dtype=object)]\n",
      "[2, array([-1.23136762, -0.41721608, -0.81415153,  0.        ]), array([1, 1, 0, 3, 0, 2, 3, 3, 1, 3, 0, 0, 3, 2, 1, 2, 3, 2], dtype=object)]\n",
      "[2, array([-2.92998477, -0.95548308, -1.97450169,  0.        ]), array([0, 2, 1, 3, 2, 3, 1, 2, 2, 3, 3, 2, 3, 0, 0, 1, 3, 1], dtype=object)]\n",
      "[3, array([0.99441905, 0.34118558, 0.65323347, 0.        ]), array([0, 3, 3, 2, 2, 1, 2, 0, 0, 1, 1, 0, 0, 0, 2, 2, 3, 2], dtype=object)]\n",
      "[3, array([1.14217076, 0.32801922, 0.81415153, 0.        ]), array([0, 2, 3, 1, 2, 3, 3, 0, 0, 0, 2, 3, 3, 3, 3, 1, 3, 0], dtype=object)]\n",
      "[3, array([-1.21972246, -0.40557092, -0.81415153,  0.        ]), array([1, 1, 0, 3, 0, 2, 3, 3, 1, 3, 0, 0, 3, 2, 2, 2, 2, 0], dtype=object)]\n",
      "[3, array([-2.91257848, -0.93807679, -1.97450169,  0.        ]), array([0, 2, 1, 3, 2, 3, 1, 2, 2, 3, 3, 2, 2, 0, 3, 1, 0, 2], dtype=object)]\n",
      "[4, array([0.98973468, 0.33650121, 0.65323347, 0.        ]), array([2, 2, 3, 2, 3, 1, 2, 1, 0, 2, 3, 0, 0, 3, 3, 1, 3, 2], dtype=object)]\n",
      "[4, array([1.14053838, 0.32638685, 0.81415153, 0.        ]), array([2, 0, 0, 1, 0, 0, 2, 1, 3, 0, 0, 2, 1, 0, 0, 1, 3, 0], dtype=object)]\n",
      "[4, array([-1.23781342, -0.42366189, -0.81415153,  0.        ]), array([1, 3, 3, 2, 3, 2, 1, 0, 2, 2, 3, 3, 3, 0, 2, 1, 2, 2], dtype=object)]\n",
      "[4, array([-2.94819121, -0.97368952, -1.97450169,  0.        ]), array([1, 0, 0, 3, 2, 3, 1, 2, 2, 3, 3, 2, 3, 0, 0, 1, 3, 1], dtype=object)]\n",
      "[5, array([0.9953938 , 0.34216033, 0.65323347, 0.        ]), array([2, 1, 1, 3, 3, 2, 3, 1, 0, 3, 3, 0, 3, 2, 3, 2, 0, 3], dtype=object)]\n",
      "[5, array([1.12601805, 0.31186652, 0.81415153, 0.        ]), array([3, 3, 0, 0, 1, 1, 2, 0, 3, 1, 1, 2, 0, 2, 1, 0, 0, 1], dtype=object)]\n",
      "[5, array([-1.22792019, -0.41376865, -0.81415153,  0.        ]), array([3, 0, 0, 3, 1, 1, 3, 1, 1, 0, 1, 2, 2, 2, 2, 3, 0, 3], dtype=object)]\n",
      "[5, array([-2.92410683, -0.94960514, -1.97450169,  0.        ]), array([1, 2, 0, 3, 1, 2, 2, 2, 3, 1, 0, 0, 0, 2, 0, 2, 2, 2], dtype=object)]\n",
      "[6, array([0.98905871, 0.33582524, 0.65323347, 0.        ]), array([3, 0, 2, 1, 2, 2, 3, 2, 2, 3, 1, 0, 1, 0, 1, 1, 2, 2], dtype=object)]\n",
      "[6, array([1.13731528, 0.32316375, 0.81415153, 0.        ]), array([0, 0, 2, 2, 1, 2, 1, 2, 1, 1, 1, 2, 2, 2, 1, 1, 0, 0], dtype=object)]\n",
      "[6, array([-1.21230761, -0.39815607, -0.81415153,  0.        ]), array([2, 3, 3, 0, 1, 2, 2, 1, 1, 0, 0, 1, 3, 0, 2, 3, 0, 0], dtype=object)]\n",
      "[6, array([-2.91668815, -0.94218646, -1.97450169,  0.        ]), array([0, 2, 3, 3, 1, 2, 2, 2, 3, 1, 0, 0, 0, 2, 0, 2, 2, 2], dtype=object)]\n",
      "[7, array([0.9864734 , 0.33323993, 0.65323347, 0.        ]), array([3, 3, 3, 2, 3, 1, 2, 2, 0, 1, 0, 1, 3, 3, 0, 3, 3, 0], dtype=object)]\n",
      "[7, array([1.14750529, 0.33335376, 0.81415153, 0.        ]), array([0, 2, 3, 1, 0, 1, 2, 0, 3, 0, 1, 1, 2, 1, 1, 2, 2, 0], dtype=object)]\n",
      "[7, array([-1.23349673, -0.4193452 , -0.81415153,  0.        ]), array([1, 1, 2, 1, 1, 3, 1, 1, 2, 1, 2, 3, 1, 2, 2, 2, 2, 0], dtype=object)]\n",
      "[7, array([-2.91942863, -0.94492694, -1.97450169,  0.        ]), array([0, 3, 0, 3, 1, 0, 2, 1, 3, 3, 0, 3, 0, 0, 0, 1, 1, 1], dtype=object)]\n",
      "[8, array([0.99704395, 0.34381048, 0.65323347, 0.        ]), array([1, 1, 2, 1, 3, 2, 0, 0, 1, 1, 1, 0, 3, 2, 3, 0, 2, 2], dtype=object)]\n",
      "[8, array([1.13222711, 0.31807558, 0.81415153, 0.        ]), array([2, 2, 3, 1, 1, 1, 0, 0, 3, 1, 1, 2, 2, 2, 2, 1, 1, 0], dtype=object)]\n",
      "[8, array([-1.21604823, -0.40189669, -0.81415153,  0.        ]), array([0, 0, 2, 0, 2, 2, 3, 2, 2, 3, 1, 3, 0, 1, 3, 0, 0, 3], dtype=object)]\n",
      "[9, array([0.99593151, 0.34269804, 0.65323347, 0.        ]), array([0, 1, 3, 2, 3, 1, 2, 2, 0, 2, 2, 3, 1, 3, 1, 0, 1, 2], dtype=object)]\n",
      "[8, array([-2.92185016, -0.94734847, -1.97450169,  0.        ]), array([2, 1, 2, 3, 1, 2, 2, 2, 3, 3, 1, 0, 3, 0, 0, 1, 3, 1], dtype=object)]\n",
      "[9, array([1.12970013, 0.3155486 , 0.81415153, 0.        ]), array([2, 3, 3, 1, 0, 2, 3, 0, 2, 1, 2, 2, 3, 2, 3, 1, 0, 0], dtype=object)]\n",
      "[9, array([-1.23251404, -0.41836251, -0.81415153,  0.        ]), array([0, 3, 1, 2, 2, 1, 1, 3, 3, 3, 3, 1, 2, 2, 3, 3, 0, 3], dtype=object)]\n",
      "[10, array([0.99267745, 0.33944398, 0.65323347, 0.        ]), array([2, 2, 3, 0, 0, 2, 2, 2, 0, 0, 0, 2, 3, 3, 3, 2, 1, 3], dtype=object)]\n",
      "[10, array([1.13091732, 0.31676579, 0.81415153, 0.        ]), array([0, 2, 3, 1, 3, 1, 2, 0, 3, 0, 1, 2, 3, 2, 3, 1, 0, 0], dtype=object)]\n",
      "[9, array([-2.91853222, -0.94403053, -1.97450169,  0.        ]), array([0, 1, 2, 1, 1, 1, 2, 0, 3, 1, 0, 2, 1, 1, 0, 0, 2, 2], dtype=object)]\n",
      "[10, array([-1.22283897, -0.40868744, -0.81415153,  0.        ]), array([3, 0, 1, 3, 1, 0, 3, 2, 1, 0, 2, 0, 2, 2, 1, 1, 0, 1], dtype=object)]\n",
      "[11, array([0.99261505, 0.33938158, 0.65323347, 0.        ]), array([2, 2, 3, 1, 2, 2, 3, 2, 2, 2, 1, 0, 0, 1, 3, 3, 0, 2], dtype=object)]\n",
      "[11, array([1.14467856, 0.33052703, 0.81415153, 0.        ]), array([2, 2, 3, 0, 2, 1, 2, 0, 1, 2, 3, 2, 2, 2, 1, 2, 1, 0], dtype=object)]\n",
      "[10, array([-2.92487521, -0.95037352, -1.97450169,  0.        ]), array([1, 3, 2, 2, 2, 2, 0, 2, 1, 3, 1, 0, 0, 2, 3, 0, 2, 2], dtype=object)]\n",
      "[11, array([-1.2240934 , -0.40994187, -0.81415153,  0.        ]), array([0, 3, 1, 2, 2, 1, 1, 0, 2, 2, 3, 3, 3, 0, 2, 1, 2, 2], dtype=object)]\n",
      "[12, array([0.98341241, 0.33017894, 0.65323347, 0.        ]), array([1, 0, 1, 3, 0, 0, 3, 3, 0, 0, 1, 2, 0, 2, 1, 0, 1, 3], dtype=object)]\n",
      "[12, array([1.14802466, 0.33387313, 0.81415153, 0.        ]), array([2, 2, 3, 0, 2, 1, 2, 0, 1, 2, 3, 2, 2, 2, 1, 2, 1, 0], dtype=object)]\n",
      "[11, array([-2.92036501, -0.94586332, -1.97450169,  0.        ]), array([2, 2, 1, 1, 2, 2, 1, 1, 2, 2, 3, 0, 3, 0, 0, 1, 3, 2], dtype=object)]\n",
      "[12, array([-1.21819851, -0.40404698, -0.81415153,  0.        ]), array([1, 0, 0, 2, 0, 3, 1, 2, 1, 2, 1, 1, 3, 2, 2, 1, 3, 2], dtype=object)]\n",
      "[13, array([0.98389098, 0.33065751, 0.65323347, 0.        ]), array([1, 0, 0, 0, 1, 1, 3, 0, 2, 3, 0, 3, 1, 2, 2, 1, 0, 0], dtype=object)]\n",
      "[13, array([1.13049143, 0.3163399 , 0.81415153, 0.        ]), array([3, 3, 0, 0, 1, 1, 0, 0, 3, 1, 1, 2, 2, 2, 2, 1, 1, 0], dtype=object)]\n",
      "[12, array([-2.92285622, -0.94835453, -1.97450169,  0.        ]), array([3, 0, 2, 3, 0, 3, 0, 1, 0, 0, 3, 2, 0, 1, 1, 3, 1, 0], dtype=object)]\n",
      "[13, array([-1.2307556 , -0.41660406, -0.81415153,  0.        ]), array([3, 0, 1, 1, 3, 1, 3, 1, 3, 3, 1, 3, 2, 1, 0, 0, 3, 0], dtype=object)]\n",
      "[14, array([1.00000475, 0.34677128, 0.65323347, 0.        ]), array([0, 3, 3, 3, 3, 0, 0, 1, 2, 2, 1, 0, 0, 1, 3, 3, 0, 0], dtype=object)]\n",
      "[14, array([1.14314628, 0.32899475, 0.81415153, 0.        ]), array([1, 3, 0, 2, 0, 1, 3, 1, 1, 0, 3, 1, 2, 3, 0, 1, 1, 0], dtype=object)]\n",
      "[13, array([-2.94446217, -0.96996048, -1.97450169,  0.        ]), array([0, 3, 0, 3, 3, 2, 0, 2, 2, 1, 3, 0, 0, 1, 2, 2, 2, 2], dtype=object)]\n",
      "[14, array([-1.21973232, -0.40558079, -0.81415153,  0.        ]), array([0, 0, 3, 1, 1, 1, 1, 0, 2, 0, 3, 2, 0, 2, 3, 1, 0, 3], dtype=object)]\n",
      "[15, array([1.13490247, 0.32075094, 0.81415153, 0.        ]), array([2, 2, 3, 0, 1, 0, 2, 1, 1, 1, 1, 3, 1, 3, 0, 1, 1, 0], dtype=object)]\n",
      "[15, array([1.00362794, 0.35039447, 0.65323347, 0.        ]), array([2, 1, 1, 1, 0, 2, 1, 3, 0, 0, 1, 2, 0, 2, 1, 0, 1, 3], dtype=object)]\n",
      "[14, array([-2.92242912, -0.94792743, -1.97450169,  0.        ]), array([1, 3, 2, 2, 2, 2, 0, 2, 1, 2, 1, 1, 1, 2, 2, 2, 1, 0], dtype=object)]\n",
      "[15, array([-1.22436536, -0.41021383, -0.81415153,  0.        ]), array([3, 0, 1, 2, 3, 2, 1, 1, 1, 0, 3, 3, 3, 2, 1, 2, 3, 2], dtype=object)]\n",
      "[16, array([1.14483166, 0.33068013, 0.81415153, 0.        ]), array([2, 3, 1, 3, 1, 0, 0, 0, 1, 0, 3, 1, 2, 3, 0, 1, 1, 0], dtype=object)]\n",
      "[16, array([0.99499855, 0.34176508, 0.65323347, 0.        ]), array([0, 3, 3, 3, 0, 0, 3, 3, 1, 0, 0, 2, 0, 2, 3, 3, 0, 3], dtype=object)]\n",
      "[15, array([-2.91363857, -0.93913688, -1.97450169,  0.        ]), array([3, 1, 0, 0, 1, 1, 3, 3, 0, 2, 1, 3, 0, 0, 0, 1, 1, 1], dtype=object)]\n",
      "[16, array([-1.23778616, -0.42363462, -0.81415153,  0.        ]), array([1, 3, 1, 1, 3, 3, 1, 0, 2, 0, 3, 0, 3, 1, 2, 2, 2, 1], dtype=object)]\n",
      "[17, array([1.13243123, 0.31827969, 0.81415153, 0.        ]), array([2, 3, 1, 3, 1, 0, 0, 0, 1, 1, 1, 2, 2, 3, 0, 2, 1, 1], dtype=object)]\n",
      "[17, array([0.98930301, 0.33606955, 0.65323347, 0.        ]), array([2, 1, 1, 1, 0, 3, 3, 1, 2, 2, 2, 3, 1, 2, 0, 2, 0, 2], dtype=object)]\n",
      "[17, array([-1.22636962, -0.41221808, -0.81415153,  0.        ]), array([2, 1, 2, 1, 0, 1, 0, 1, 1, 1, 0, 1, 2, 3, 0, 2, 3, 2], dtype=object)][16, array([-2.93392025, -0.95941856, -1.97450169,  0.        ]), array([1, 1, 3, 3, 0, 1, 1, 3, 3, 2, 1, 0, 1, 2, 2, 3, 2, 1], dtype=object)]\n",
      "[18, array([1.13982955, 0.32567802, 0.81415153, 0.        ]), array([2, 3, 0, 3, 1, 1, 0, 0, 3, 1, 2, 2, 1, 2, 1, 3, 2, 3], dtype=object)]\n",
      "[18, array([1.00059404, 0.34736057, 0.65323347, 0.        ]), array([0, 3, 3, 0, 3, 0, 2, 1, 1, 1, 1, 0, 2, 2, 3, 0, 0, 3], dtype=object)]\n",
      "\n",
      "[19, array([1.13092716, 0.31677563, 0.81415153, 0.        ]), array([2, 3, 3, 1, 0, 0, 0, 0, 1, 1, 1, 2, 2, 3, 0, 1, 1, 0], dtype=object)]\n",
      "[17, array([-2.91912081, -0.94461912, -1.97450169,  0.        ]), array([2, 2, 0, 3, 2, 3, 1, 2, 2, 3, 3, 2, 3, 0, 0, 1, 3, 1], dtype=object)]\n",
      "[19, array([0.98591698, 0.33268351, 0.65323347, 0.        ]), array([2, 1, 2, 3, 0, 0, 0, 1, 2, 1, 1, 3, 0, 2, 1, 0, 1, 3], dtype=object)]\n",
      "[18, array([-1.22118537, -0.40703384, -0.81415153,  0.        ]), array([3, 0, 1, 1, 0, 2, 3, 1, 3, 3, 1, 3, 3, 0, 2, 1, 2, 2], dtype=object)]\n",
      "[20, array([1.11583869, 0.30168716, 0.81415153, 0.        ]), array([0, 2, 3, 1, 3, 1, 2, 0, 3, 0, 2, 2, 2, 2, 2, 1, 1, 0], dtype=object)]\n",
      "[20, array([1.00086224, 0.34762878, 0.65323347, 0.        ]), array([2, 1, 2, 2, 0, 2, 0, 1, 3, 1, 0, 3, 0, 3, 3, 1, 3, 2], dtype=object)]\n",
      "[18, array([-2.91914629, -0.9446446 , -1.97450169,  0.        ]), array([3, 0, 0, 3, 2, 2, 3, 0, 2, 3, 1, 2, 3, 0, 0, 1, 3, 0], dtype=object)]\n",
      "[19, array([-1.21700322, -0.40285169, -0.81415153,  0.        ]), array([3, 3, 3, 2, 3, 1, 3, 1, 3, 0, 2, 0, 2, 2, 1, 1, 0, 1], dtype=object)]\n",
      "[21, array([1.13200607, 0.31785453, 0.81415153, 0.        ]), array([2, 2, 3, 1, 1, 1, 0, 0, 3, 1, 1, 2, 2, 2, 2, 1, 1, 2], dtype=object)]\n",
      "[21, array([1.00419482, 0.35096135, 0.65323347, 0.        ]), array([1, 0, 1, 3, 0, 1, 2, 1, 0, 2, 3, 0, 0, 3, 3, 1, 3, 2], dtype=object)]\n",
      "[20, array([-1.22739687, -0.41324533, -0.81415153,  0.        ]), array([1, 3, 3, 2, 3, 2, 1, 0, 2, 0, 2, 1, 2, 2, 1, 1, 0, 1], dtype=object)]\n",
      "[19, array([-2.91441491, -0.93991322, -1.97450169,  0.        ]), array([3, 1, 0, 0, 1, 1, 3, 3, 0, 2, 2, 1, 3, 3, 3, 0, 1, 1], dtype=object)]\n",
      "[22, array([1.13986086, 0.32570933, 0.81415153, 0.        ]), array([2, 2, 0, 3, 3, 1, 0, 0, 3, 1, 1, 2, 2, 2, 2, 1, 1, 3], dtype=object)]\n",
      "[22, array([1.00202404, 0.34879057, 0.65323347, 0.        ]), array([1, 1, 2, 1, 1, 3, 2, 1, 0, 3, 3, 0, 2, 3, 3, 1, 3, 2], dtype=object)]\n",
      "[21, array([-1.23480433, -0.4206528 , -0.81415153,  0.        ]), array([3, 3, 1, 1, 0, 2, 1, 3, 1, 1, 0, 1, 2, 3, 0, 2, 3, 2], dtype=object)]\n",
      "[20, array([-2.94281321, -0.96831152, -1.97450169,  0.        ]), array([2, 0, 2, 0, 2, 1, 3, 0, 2, 2, 0, 2, 3, 2, 2, 3, 2, 1], dtype=object)]\n",
      "[23, array([1.13254235, 0.31839082, 0.81415153, 0.        ]), array([2, 3, 0, 3, 1, 1, 0, 0, 3, 0, 1, 2, 3, 3, 0, 1, 1, 0], dtype=object)]\n",
      "[23, array([1.00270577, 0.3494723 , 0.65323347, 0.        ]), array([1, 3, 3, 3, 1, 2, 0, 0, 1, 0, 3, 0, 3, 2, 3, 0, 2, 0], dtype=object)]\n",
      "[22, array([-1.23186243, -0.4177109 , -0.81415153,  0.        ]), array([3, 2, 0, 1, 0, 1, 0, 1, 3, 3, 3, 1, 2, 2, 1, 1, 0, 1], dtype=object)]\n",
      "[21, array([-2.92454572, -0.95004403, -1.97450169,  0.        ]), array([0, 2, 1, 3, 2, 3, 1, 2, 2, 3, 2, 0, 3, 2, 3, 3, 1, 1], dtype=object)]\n",
      "[24, array([1.13889977, 0.32474824, 0.81415153, 0.        ]), array([2, 3, 0, 3, 1, 1, 0, 0, 1, 2, 0, 0, 1, 2, 1, 1, 0, 0], dtype=object)]\n",
      "[24, array([0.99067275, 0.33743928, 0.65323347, 0.        ]), array([1, 2, 2, 0, 1, 1, 0, 1, 0, 0, 1, 3, 3, 2, 3, 0, 0, 2], dtype=object)]\n",
      "[23, array([-1.22055695, -0.40640542, -0.81415153,  0.        ]), array([2, 2, 3, 1, 3, 0, 2, 1, 1, 3, 0, 3, 3, 1, 3, 0, 3, 1], dtype=object)]\n",
      "[22, array([-2.95578215, -0.98128046, -1.97450169,  0.        ]), array([0, 2, 1, 3, 2, 3, 1, 2, 2, 3, 2, 0, 1, 2, 2, 3, 2, 1], dtype=object)]\n",
      "[25, array([1.1396695 , 0.32551797, 0.81415153, 0.        ]), array([0, 2, 3, 1, 3, 1, 0, 0, 3, 0, 1, 2, 3, 2, 3, 1, 0, 0], dtype=object)]\n",
      "[25, array([0.99645467, 0.3432212 , 0.65323347, 0.        ]), array([1, 3, 2, 2, 3, 1, 2, 1, 0, 3, 1, 0, 3, 2, 3, 3, 0, 3], dtype=object)]\n",
      "[24, array([-1.22634492, -0.41219339, -0.81415153,  0.        ]), array([3, 0, 0, 1, 0, 1, 0, 1, 3, 0, 3, 1, 3, 0, 3, 1, 0, 2], dtype=object)]\n",
      "[23, array([-2.92433502, -0.94983333, -1.97450169,  0.        ]), array([1, 1, 2, 0, 0, 3, 1, 3, 3, 3, 2, 2, 0, 0, 3, 1, 1, 1], dtype=object)]\n",
      "[26, array([1.14046918, 0.32631765, 0.81415153, 0.        ]), array([0, 2, 3, 1, 3, 1, 0, 0, 1, 1, 1, 2, 2, 1, 2, 1, 1, 0], dtype=object)]\n",
      "[26, array([0.99168493, 0.33845146, 0.65323347, 0.        ]), array([1, 0, 2, 3, 1, 2, 1, 1, 2, 2, 3, 2, 1, 2, 1, 0, 0, 0], dtype=object)]\n",
      "[25, array([-1.23146092, -0.41730939, -0.81415153,  0.        ]), array([1, 3, 1, 1, 3, 3, 1, 0, 2, 0, 3, 0, 3, 1, 1, 0, 0, 2], dtype=object)]\n",
      "[27, array([1.14513793, 0.33098639, 0.81415153, 0.        ]), array([3, 2, 3, 0, 1, 1, 2, 0, 3, 0, 1, 2, 1, 3, 1, 1, 0, 0], dtype=object)]\n",
      "[24, array([-2.91858887, -0.94408718, -1.97450169,  0.        ]), array([0, 3, 2, 2, 2, 1, 2, 3, 3, 2, 3, 2, 3, 3, 2, 3, 2, 1], dtype=object)]\n",
      "[27, array([0.98953108, 0.33629761, 0.65323347, 0.        ]), array([1, 0, 1, 3, 0, 1, 3, 0, 2, 3, 3, 3, 1, 2, 2, 3, 2, 0], dtype=object)]\n",
      "[26, array([-1.22391692, -0.40976539, -0.81415153,  0.        ]), array([1, 3, 3, 3, 1, 3, 3, 0, 0, 0, 2, 0, 2, 2, 1, 1, 1, 1], dtype=object)]\n",
      "[28, array([1.11965899, 0.30550745, 0.81415153, 0.        ]), array([2, 2, 3, 1, 1, 1, 0, 0, 3, 1, 1, 2, 3, 2, 3, 1, 0, 0], dtype=object)]\n",
      "[28, array([1.00038581, 0.34715234, 0.65323347, 0.        ]), array([1, 0, 1, 3, 0, 1, 3, 0, 2, 3, 3, 3, 1, 2, 2, 3, 2, 0], dtype=object)][25, array([-2.91906156, -0.94455987, -1.97450169,  0.        ]), array([1, 0, 0, 3, 2, 3, 1, 2, 0, 2, 2, 0, 2, 2, 2, 3, 2, 1], dtype=object)]\n",
      "\n",
      "[27, array([-1.24019326, -0.42604172, -0.81415153,  0.        ]), array([1, 3, 3, 2, 3, 3, 1, 0, 2, 0, 3, 0, 3, 1, 2, 2, 2, 1], dtype=object)]\n",
      "[29, array([1.13373868, 0.31958714, 0.81415153, 0.        ]), array([2, 2, 3, 0, 1, 2, 0, 0, 1, 1, 3, 2, 2, 3, 0, 2, 1, 0], dtype=object)]\n",
      "[29, array([0.98269983, 0.32946636, 0.65323347, 0.        ]), array([2, 2, 2, 0, 3, 1, 2, 1, 0, 3, 1, 3, 3, 2, 0, 1, 3, 2], dtype=object)]\n",
      "[26, array([-2.91958553, -0.94508384, -1.97450169,  0.        ]), array([1, 0, 0, 3, 2, 3, 1, 2, 2, 2, 1, 3, 0, 0, 0, 1, 1, 1], dtype=object)]\n",
      "[28, array([-1.2200357 , -0.40588417, -0.81415153,  0.        ]), array([3, 0, 3, 2, 1, 0, 3, 3, 1, 3, 1, 1, 1, 0, 3, 2, 0, 1], dtype=object)]\n",
      "[30, array([1.1327381 , 0.31858657, 0.81415153, 0.        ]), array([0, 2, 3, 1, 3, 3, 0, 0, 1, 1, 3, 0, 0, 2, 0, 1, 2, 0], dtype=object)]\n",
      "[30, array([0.98888348, 0.33565001, 0.65323347, 0.        ]), array([2, 1, 1, 3, 0, 0, 3, 1, 3, 3, 0, 2, 1, 1, 2, 2, 2, 3], dtype=object)]\n",
      "[27, array([-2.91945974, -0.94495805, -1.97450169,  0.        ]), array([2, 0, 2, 0, 2, 1, 3, 2, 1, 2, 1, 0, 3, 0, 3, 1, 1, 3], dtype=object)]\n",
      "[31, array([1.12535541, 0.31120388, 0.81415153, 0.        ]), array([2, 2, 3, 0, 1, 2, 0, 0, 1, 1, 3, 2, 2, 3, 0, 2, 1, 0], dtype=object)]\n",
      "[29, array([-1.23307863, -0.41892709, -0.81415153,  0.        ]), array([3, 3, 3, 2, 0, 2, 2, 0, 1, 3, 1, 1, 1, 0, 3, 2, 0, 1], dtype=object)]\n",
      "[31, array([0.99228565, 0.33905218, 0.65323347, 0.        ]), array([1, 2, 1, 3, 0, 0, 3, 3, 3, 0, 1, 2, 1, 1, 2, 1, 0, 0], dtype=object)]\n",
      "[28, array([-2.93066632, -0.95616463, -1.97450169,  0.        ]), array([0, 0, 2, 3, 3, 2, 1, 2, 0, 2, 1, 2, 1, 0, 1, 1, 2, 1], dtype=object)]\n",
      "[32, array([1.1384319 , 0.32428036, 0.81415153, 0.        ]), array([0, 1, 3, 1, 3, 3, 0, 0, 2, 3, 0, 1, 0, 2, 0, 3, 0, 2], dtype=object)]\n",
      "[30, array([-1.22903985, -0.41488832, -0.81415153,  0.        ]), array([1, 3, 3, 2, 3, 3, 1, 0, 2, 0, 3, 1, 2, 2, 1, 1, 0, 1], dtype=object)]\n",
      "[32, array([0.99255747, 0.339324  , 0.65323347, 0.        ]), array([1, 1, 1, 3, 0, 0, 3, 1, 3, 3, 0, 2, 1, 1, 2, 2, 2, 3], dtype=object)]\n",
      "[29, array([-2.92961816, -0.95511647, -1.97450169,  0.        ]), array([1, 0, 0, 2, 0, 3, 1, 1, 2, 3, 1, 2, 2, 0, 0, 1, 3, 1], dtype=object)]\n",
      "[33, array([1.15025315, 0.33610162, 0.81415153, 0.        ]), array([0, 1, 3, 1, 1, 1, 2, 0, 2, 1, 3, 2, 2, 3, 2, 2, 1, 0], dtype=object)]\n",
      "[31, array([-1.22774026, -0.41358873, -0.81415153,  0.        ]), array([1, 3, 2, 1, 1, 2, 1, 0, 2, 2, 3, 3, 3, 3, 2, 2, 2, 1], dtype=object)]\n",
      "[33, array([0.99925978, 0.34602632, 0.65323347, 0.        ]), array([2, 0, 1, 3, 3, 0, 3, 0, 2, 3, 0, 3, 1, 2, 2, 1, 0, 0], dtype=object)]\n",
      "[30, array([-2.92788506, -0.95338337, -1.97450169,  0.        ]), array([1, 3, 0, 0, 2, 3, 0, 3, 3, 3, 2, 2, 3, 1, 3, 1, 3, 0], dtype=object)]\n",
      "[34, array([1.13874438, 0.32459285, 0.81415153, 0.        ]), array([2, 1, 3, 1, 1, 1, 2, 1, 1, 1, 3, 2, 2, 2, 0, 1, 0, 0], dtype=object)]\n",
      "[32, array([-1.23947818, -0.42532665, -0.81415153,  0.        ]), array([1, 2, 3, 2, 0, 2, 1, 1, 2, 2, 3, 3, 3, 0, 3, 3, 3, 3], dtype=object)]\n",
      "[34, array([0.99876154, 0.34552807, 0.65323347, 0.        ]), array([2, 1, 0, 1, 2, 2, 1, 0, 3, 3, 1, 3, 3, 1, 3, 1, 3, 0], dtype=object)]\n",
      "[31, array([-2.92416902, -0.94966733, -1.97450169,  0.        ]), array([2, 0, 2, 2, 0, 3, 1, 1, 2, 3, 2, 2, 0, 3, 3, 1, 3, 1], dtype=object)][35, array([1.14109139, 0.32693985, 0.81415153, 0.        ]), array([0, 2, 3, 1, 3, 1, 2, 0, 3, 0, 1, 2, 3, 2, 3, 1, 0, 0], dtype=object)]\n",
      "\n",
      "[33, array([-1.22126806, -0.40711652, -0.81415153,  0.        ]), array([1, 3, 3, 2, 3, 2, 1, 1, 0, 3, 2, 3, 3, 3, 1, 2, 3, 1], dtype=object)]\n",
      "[35, array([0.99363093, 0.34039746, 0.65323347, 0.        ]), array([1, 0, 1, 3, 0, 1, 3, 0, 3, 0, 1, 3, 3, 3, 3, 0, 0, 0], dtype=object)]\n",
      "[36, array([1.13079164, 0.31664011, 0.81415153, 0.        ]), array([0, 1, 3, 1, 1, 1, 2, 1, 1, 1, 3, 2, 2, 2, 2, 1, 1, 0], dtype=object)]\n",
      "[32, array([-2.92634161, -0.95183992, -1.97450169,  0.        ]), array([0, 0, 2, 0, 0, 2, 2, 2, 3, 3, 1, 2, 0, 3, 3, 1, 3, 1], dtype=object)]\n",
      "[34, array([-1.22023577, -0.40608423, -0.81415153,  0.        ]), array([0, 2, 3, 0, 3, 1, 1, 3, 3, 2, 3, 1, 2, 3, 2, 2, 1, 1], dtype=object)]\n",
      "[36, array([0.98731575, 0.33408228, 0.65323347, 0.        ]), array([2, 1, 1, 2, 0, 1, 0, 2, 2, 0, 0, 3, 1, 2, 0, 1, 0, 0], dtype=object)]\n",
      "[37, array([1.13318197, 0.31903044, 0.81415153, 0.        ]), array([3, 2, 3, 0, 0, 3, 2, 2, 3, 1, 0, 3, 1, 0, 3, 3, 0, 0], dtype=object)]\n",
      "[37, array([0.98719127, 0.3339578 , 0.65323347, 0.        ]), array([2, 0, 1, 3, 0, 1, 3, 0, 2, 3, 0, 3, 1, 1, 2, 1, 0, 0], dtype=object)]\n",
      "[33, array([-2.92794224, -0.95344055, -1.97450169,  0.        ]), array([2, 2, 0, 2, 0, 3, 1, 3, 2, 3, 3, 2, 3, 0, 0, 1, 3, 1], dtype=object)]\n",
      "[35, array([-1.21813405, -0.40398252, -0.81415153,  0.        ]), array([1, 3, 3, 2, 3, 2, 1, 0, 2, 3, 0, 3, 3, 0, 2, 1, 1, 3], dtype=object)]\n",
      "[38, array([1.13079507, 0.31664354, 0.81415153, 0.        ]), array([1, 2, 3, 0, 1, 1, 1, 1, 2, 2, 3, 3, 3, 1, 0, 2, 1, 0], dtype=object)]\n",
      "[36, array([-1.2345103 , -0.42035877, -0.81415153,  0.        ]), array([0, 1, 1, 2, 2, 2, 1, 3, 2, 1, 3, 2, 3, 1, 1, 1, 0, 1], dtype=object)]\n",
      "[38, array([0.99180707, 0.3385736 , 0.65323347, 0.        ]), array([1, 0, 3, 0, 3, 0, 3, 3, 2, 0, 0, 3, 2, 2, 2, 1, 3, 2], dtype=object)]\n",
      "[34, array([-2.92282465, -0.94832296, -1.97450169,  0.        ]), array([1, 0, 0, 3, 2, 3, 1, 2, 2, 3, 3, 2, 3, 1, 3, 1, 3, 0], dtype=object)]\n",
      "[39, array([1.14377112, 0.32961959, 0.81415153, 0.        ]), array([2, 2, 3, 0, 3, 1, 1, 2, 3, 1, 3, 2, 1, 2, 2, 3, 0, 0], dtype=object)]\n",
      "[39, array([1.00749316, 0.35425969, 0.65323347, 0.        ]), array([1, 3, 0, 3, 1, 1, 3, 0, 2, 3, 0, 3, 1, 2, 0, 1, 2, 0], dtype=object)]\n",
      "[37, array([-1.23224012, -0.41808858, -0.81415153,  0.        ]), array([1, 3, 0, 2, 0, 2, 1, 3, 2, 2, 3, 3, 3, 0, 2, 1, 2, 2], dtype=object)]\n",
      "[35, array([-2.92614907, -0.95164738, -1.97450169,  0.        ]), array([2, 0, 0, 3, 2, 3, 1, 2, 2, 3, 3, 2, 3, 0, 0, 1, 3, 1], dtype=object)]\n",
      "[40, array([1.13587893, 0.3217274 , 0.81415153, 0.        ]), array([0, 1, 3, 1, 1, 1, 0, 0, 3, 1, 1, 2, 3, 2, 3, 2, 2, 0], dtype=object)]\n",
      "[40, array([1.0093243 , 0.35609083, 0.65323347, 0.        ]), array([1, 0, 1, 3, 0, 1, 3, 0, 2, 3, 2, 2, 0, 2, 2, 1, 0, 3], dtype=object)]\n",
      "[38, array([-1.22669738, -0.41254584, -0.81415153,  0.        ]), array([1, 0, 3, 2, 1, 2, 1, 0, 1, 2, 3, 3, 3, 0, 2, 1, 2, 2], dtype=object)]\n",
      "[36, array([-2.92030704, -0.94580535, -1.97450169,  0.        ]), array([1, 0, 0, 3, 2, 2, 1, 2, 2, 2, 2, 2, 3, 0, 0, 1, 3, 1], dtype=object)]\n",
      "[39, array([-1.21581863, -0.40166709, -0.81415153,  0.        ]), array([1, 2, 3, 1, 3, 2, 1, 0, 2, 2, 1, 3, 3, 0, 2, 1, 2, 0], dtype=object)]\n",
      "[37, array([-2.91717827, -0.94267658, -1.97450169,  0.        ]), array([1, 0, 0, 3, 2, 3, 1, 2, 2, 3, 3, 2, 3, 0, 0, 1, 2, 1], dtype=object)]\n",
      "[40, array([-1.21851863, -0.4043671 , -0.81415153,  0.        ]), array([3, 3, 3, 2, 0, 2, 1, 0, 2, 0, 3, 3, 3, 0, 2, 1, 2, 2], dtype=object)]\n",
      "[38, array([-2.92068776, -0.94618607, -1.97450169,  0.        ]), array([3, 3, 0, 0, 1, 1, 1, 0, 2, 1, 3, 2, 3, 1, 3, 3, 3, 1], dtype=object)]\n",
      "[39, array([-2.92004683, -0.94554514, -1.97450169,  0.        ]), array([1, 0, 0, 3, 2, 3, 1, 2, 2, 3, 3, 2, 3, 0, 0, 1, 3, 1], dtype=object)]\n",
      "[40, array([-2.93130092, -0.95679923, -1.97450169,  0.        ]), array([1, 2, 0, 3, 2, 3, 1, 2, 2, 3, 3, 2, 3, 3, 0, 1, 3, 3], dtype=object)]\n"
     ]
    }
   ],
   "source": [
    "ks_best, energy_noisy, energy_noiseless = claptonize(\n",
    "    paulis,\n",
    "    coeffs,\n",
    "    vqe_pcirc,\n",
    "    n_proc=4,           # total number of processes in parallel\n",
    "    n_starts=4,         # number of random genetic algorithm starts in parallel\n",
    "    n_rounds=1,         # number of budget rounds, if None it will terminate itself\n",
    "    callback=print,     # callback for internal parameter (#iteration, energies, ks) processing\n",
    "    budget=20,                        # budget per genetic algorithm instance\n",
    ")"
   ]
  },
  {
   "cell_type": "code",
   "execution_count": 49,
   "metadata": {},
   "outputs": [
    {
     "data": {
      "text/plain": [
       "[0, 2, 1, 3, 2, 3, 1, 2, 2, 3, 2, 0, 1, 2, 2, 3, 2, 1]"
      ]
     },
     "execution_count": 49,
     "metadata": {},
     "output_type": "execute_result"
    }
   ],
   "source": [
    "ks_best"
   ]
  },
  {
   "cell_type": "code",
   "execution_count": 50,
   "metadata": {},
   "outputs": [
    {
     "data": {
      "text/plain": [
       "(np.float64(-0.36415103829932277), np.float64(-0.8141515328117074))"
      ]
     },
     "execution_count": 50,
     "metadata": {},
     "output_type": "execute_result"
    }
   ],
   "source": [
    "energy_noisy, energy_noiseless"
   ]
  },
  {
   "cell_type": "code",
   "execution_count": 51,
   "metadata": {},
   "outputs": [
    {
     "data": {
      "text/plain": [
       "np.float64(0.4500004945123846)"
      ]
     },
     "execution_count": 51,
     "metadata": {},
     "output_type": "execute_result"
    }
   ],
   "source": [
    "# differrence\n",
    "np.abs(energy_noisy-energy_noiseless)"
   ]
  },
  {
   "cell_type": "code",
   "execution_count": null,
   "metadata": {},
   "outputs": [
    {
     "data": {
      "text/html": [
       "<pre>q0: -I------S_DAG-X-@-SQRT_Y-S_DAG-----@-X-SQRT_Y-S_DAG-\n",
       "                  | |                  | |\n",
       "q1: -Y------Z-----|-X-@------Y-----Z-@-X-|-Y------Z-----\n",
       "                  |   |              |   |\n",
       "q2: -SQRT_Y-S_DAG-@---X------Y-----I-X---@-Y------S-----</pre>"
      ],
      "text/plain": [
       "q0: -I------S_DAG-X-@-SQRT_Y-S_DAG-----@-X-SQRT_Y-S_DAG-\n",
       "                  | |                  | |\n",
       "q1: -Y------Z-----|-X-@------Y-----Z-@-X-|-Y------Z-----\n",
       "                  |   |              |   |\n",
       "q2: -SQRT_Y-S_DAG-@---X------Y-----I-X---@-Y------S-----"
      ]
     },
     "execution_count": 52,
     "metadata": {},
     "output_type": "execute_result"
    }
   ],
   "source": [
    "# the corresponding circuit is\n",
    "vqe_pcirc.assign(ks_best)\n",
    "vqe_pcirc.snapshot_noiseless().circ_snapshot_noiseless.diagram()"
   ]
  }
 ],
 "metadata": {
  "kernelspec": {
   "display_name": "clapton",
   "language": "python",
   "name": "python3"
  },
  "language_info": {
   "codemirror_mode": {
    "name": "ipython",
    "version": 3
   },
   "file_extension": ".py",
   "mimetype": "text/x-python",
   "name": "python",
   "nbconvert_exporter": "python",
   "pygments_lexer": "ipython3",
   "version": "3.10.15"
  }
 },
 "nbformat": 4,
 "nbformat_minor": 2
}
