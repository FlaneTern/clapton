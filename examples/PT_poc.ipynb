{
 "cells": [
  {
   "cell_type": "code",
   "execution_count": 60,
   "metadata": {},
   "outputs": [],
   "source": [
    "import qiskit\n",
    "import numpy as np\n",
    "from qiskit_ibm_runtime.fake_provider import FakeMumbaiV2\n",
    "from qiskit_ibm_runtime import EstimatorV2 as Estimator\n",
    "from qiskit.quantum_info import SparsePauliOp\n",
    "from qiskit.transpiler.preset_passmanagers import generate_preset_pass_manager\n",
    "import qiskit.quantum_info as qi\n",
    "\n",
    "# Import from Qiskit Aer noise module\n",
    "from qiskit_aer.noise import (NoiseModel, QuantumError, ReadoutError,\n",
    "    pauli_error, depolarizing_error, thermal_relaxation_error,coherent_unitary_error)"
   ]
  },
  {
   "cell_type": "code",
   "execution_count": 61,
   "metadata": {},
   "outputs": [],
   "source": [
    "from qiskit import QuantumCircuit\n",
    "\n",
    "def circular_ansatz_mirrored(N, reps=1, fix_2q=False): \n",
    "    qc = qiskit.QuantumCircuit(N)\n",
    "    for _ in range(reps):\n",
    "        for i in range(N):\n",
    "            qc.ry(np.pi/2, i)\n",
    "        for i in range(N):\n",
    "            qc.rz(np.pi/2, i)\n",
    "        for i in range(N):\n",
    "            control = (i-1) % N\n",
    "            target = i\n",
    "            qc.cx(control, target)\n",
    "        for i in range(N):\n",
    "            qc.ry(np.pi/2, i)\n",
    "        for i in range(N):\n",
    "            qc.rz(np.pi/2, i)\n",
    "        for i in range(N-1, -1, -1):\n",
    "            control = (i-1) % N\n",
    "            target = i\n",
    "            qc.cx(control, target)\n",
    "    for i in range(N):\n",
    "        qc.ry(np.pi/2, i)\n",
    "    for i in range(N):\n",
    "        qc.rz(np.pi/2, i)\n",
    "    return qc\n",
    "\n",
    "def populated_circuit(n):\n",
    "    qc = QuantumCircuit(n)\n",
    "    qc.h(0)\n",
    "    for i in range(n - 1):\n",
    "        qc.cx(i, i + 1)\n",
    "        if i + 2 < n:\n",
    "            qc.cz(i + 1, i + 2)\n",
    "    return qc\n"
   ]
  },
  {
   "cell_type": "code",
   "execution_count": 62,
   "metadata": {},
   "outputs": [
    {
     "name": "stdout",
     "output_type": "stream",
     "text": [
      "IZXIZ\n"
     ]
    }
   ],
   "source": [
    "num_qubits = 5\n",
    "\n",
    "np.random.seed(0)\n",
    "paulis = [\"\".join(np.random.choice(['I', 'X', 'Y', 'Z'], size=num_qubits)) for _ in range(6)]\n",
    "print(paulis[0])\n",
    "\n",
    "\n",
    "qc = circular_ansatz_mirrored(num_qubits)\n",
    "# qc = populated_circuit(num_qubits)\n"
   ]
  },
  {
   "cell_type": "code",
   "execution_count": 69,
   "metadata": {},
   "outputs": [],
   "source": [
    "#Fake Backend\n",
    "backend = FakeMumbaiV2()\n",
    "ideal_estimator = Estimator(mode=backend)\n",
    "ideal_estimator.options.seed_estimator=0\n",
    "\n",
    "# # Or define a real backend\n",
    "# from qiskit_ibm_runtime import QiskitRuntimeService\n",
    "# service = QiskitRuntimeService()\n",
    "# backend = service.least_busy(operational=True, simulator=False)\n",
    "# ideal_estimator = Estimator(mode=backend)\n",
    "# print(backend)\n"
   ]
  },
  {
   "cell_type": "code",
   "execution_count": 70,
   "metadata": {},
   "outputs": [],
   "source": [
    "# ZX means Z on the first qubit and X on the second qubit\n",
    "np.random.seed(0)\n",
    "coeffs = np.random.random(len(paulis))\n",
    "observable = SparsePauliOp.from_list(list(zip(paulis, coeffs)))"
   ]
  },
  {
   "cell_type": "code",
   "execution_count": 71,
   "metadata": {},
   "outputs": [],
   "source": [
    "pm = generate_preset_pass_manager(backend=backend, optimization_level=1,seed_transpiler=0)\n",
    "isa_circuit = pm.run(qc)\n",
    "isa_observable = observable.apply_layout(isa_circuit.layout)"
   ]
  },
  {
   "cell_type": "code",
   "execution_count": 72,
   "metadata": {},
   "outputs": [
    {
     "name": "stderr",
     "output_type": "stream",
     "text": [
      "/home/dbharadwaj/.local/lib/python3.10/site-packages/qiskit_ibm_runtime/fake_provider/local_service.py:233: UserWarning: Options {'seed_estimator': 0} have no effect in local testing mode.\n",
      "  warnings.warn(f\"Options {options_copy} have no effect in local testing mode.\")\n"
     ]
    }
   ],
   "source": [
    "job = ideal_estimator.run([(isa_circuit, isa_observable)])"
   ]
  },
  {
   "cell_type": "code",
   "execution_count": 67,
   "metadata": {},
   "outputs": [
    {
     "name": "stdout",
     "output_type": "stream",
     "text": [
      ">>> Expectation value: 0.014005165165240365\n"
     ]
    }
   ],
   "source": [
    "# Get results for the first (and only) PUB\n",
    "ideal_res = job.result()[0]\n",
    "print(f\">>> Expectation value: {ideal_res.data.evs}\")"
   ]
  },
  {
   "cell_type": "markdown",
   "metadata": {},
   "source": [
    "## Noisy"
   ]
  },
  {
   "cell_type": "code",
   "execution_count": 48,
   "metadata": {},
   "outputs": [],
   "source": [
    "noisy_estimator = Estimator(mode=backend)\n",
    "noise_model = NoiseModel()\n",
    "\n",
    "#Depolarizing Noise\n",
    "# cx_depolarizing_prob = 0.1\n",
    "# noise_model.add_all_qubit_quantum_error(\n",
    "#     depolarizing_error(cx_depolarizing_prob, 2), [\"cx\"]\n",
    "# )\n",
    "\n",
    "#Coherent Noise\n",
    "epsilon = 0.1\n",
    "\n",
    "err_cx = QuantumCircuit(2)\n",
    "err_cx.cx(0,1)\n",
    "err_cx.p(epsilon, 0)\n",
    "err_cx.p(epsilon, 1)\n",
    "\n",
    "err_cx.cx(0,1)\n",
    "err_cx.p(-epsilon, 0)\n",
    "err_cx.p(-epsilon, 1)\n",
    "\n",
    "\n",
    "err_cx = qi.Operator(err_cx)\n",
    "noise_model.add_all_qubit_quantum_error(\n",
    "    coherent_unitary_error(err_cx), [\"cx\"]\n",
    ")\n",
    "\n",
    "(noisy_estimator.options.simulator.noise_model) = noise_model"
   ]
  },
  {
   "cell_type": "code",
   "execution_count": null,
   "metadata": {},
   "outputs": [
    {
     "name": "stdout",
     "output_type": "stream",
     "text": [
      ">>> Expectation value: -0.025211753660933485\n"
     ]
    }
   ],
   "source": [
    "# Get results for the first (and only) PUB\n",
    "\n",
    "job = noisy_estimator.run([(isa_circuit, isa_observable)])\n",
    "noisy_res = job.result()[0]\n",
    "\n",
    "print(f\">>> Expectation value: {noisy_res.data.evs}\")\n",
    " "
   ]
  },
  {
   "cell_type": "code",
   "execution_count": 50,
   "metadata": {},
   "outputs": [
    {
     "name": "stdout",
     "output_type": "stream",
     "text": [
      "Absolute error difference: 0.004528080826400809\n"
     ]
    }
   ],
   "source": [
    "abs_error_diff = abs(noisy_res.data.evs - ideal_res.data.evs)\n",
    "print(f\"Absolute error difference: {abs_error_diff}\")"
   ]
  },
  {
   "cell_type": "markdown",
   "metadata": {},
   "source": [
    "## Pauli Twirling Mitigation"
   ]
  },
  {
   "cell_type": "code",
   "execution_count": 51,
   "metadata": {},
   "outputs": [],
   "source": [
    "pt_estimator = Estimator(mode=backend)\n",
    "\n",
    "# Or define a real backend\n",
    "# from qiskit_ibm_runtime import QiskitRuntimeService\n",
    "# service = QiskitRuntimeService()\n",
    "# backend = service.least_busy(operational=True, simulator=False)\n",
    "\n",
    "pt_estimator.options.twirling.enable_gates = True\n",
    "pt_estimator.options.twirling.num_randomizations = 32\n",
    "pt_estimator.options.twirling.shots_per_randomization = 128\n",
    "pt_estimator.options.simulator.noise_model = noise_model"
   ]
  },
  {
   "cell_type": "code",
   "execution_count": 13,
   "metadata": {},
   "outputs": [],
   "source": [
    "pm = generate_preset_pass_manager(backend=backend, optimization_level=1)\n",
    "isa_circuit = pm.run(qc)\n",
    "isa_observable = observable.apply_layout(isa_circuit.layout)"
   ]
  },
  {
   "cell_type": "code",
   "execution_count": 14,
   "metadata": {},
   "outputs": [
    {
     "name": "stderr",
     "output_type": "stream",
     "text": [
      "/home/dbharadwaj/.local/lib/python3.10/site-packages/qiskit_ibm_runtime/fake_provider/local_service.py:233: UserWarning: Options {'twirling': {'enable_gates': True, 'num_randomizations': 32, 'shots_per_randomization': 128}} have no effect in local testing mode.\n",
      "  warnings.warn(f\"Options {options_copy} have no effect in local testing mode.\")\n"
     ]
    }
   ],
   "source": [
    "job = pt_estimator.run([(isa_circuit, isa_observable)])"
   ]
  },
  {
   "cell_type": "code",
   "execution_count": 15,
   "metadata": {},
   "outputs": [
    {
     "name": "stdout",
     "output_type": "stream",
     "text": [
      ">>> Expectation value: -0.023875896300918818\n"
     ]
    }
   ],
   "source": [
    "# Get results for the first (and only) PUB\n",
    "pt_res = job.result()[0]\n",
    "print(f\">>> Expectation value: {pt_res.data.evs}\")"
   ]
  },
  {
   "cell_type": "code",
   "execution_count": 16,
   "metadata": {},
   "outputs": [
    {
     "name": "stdout",
     "output_type": "stream",
     "text": [
      "Absolute error difference: 0.03802469216553721\n"
     ]
    }
   ],
   "source": [
    "abs_error_diff_pt = abs(pt_res.data.evs - ideal_res.data.evs)\n",
    "print(f\"Absolute error difference: {abs_error_diff_pt}\")"
   ]
  },
  {
   "cell_type": "code",
   "execution_count": 17,
   "metadata": {},
   "outputs": [
    {
     "name": "stdout",
     "output_type": "stream",
     "text": [
      "Factor of Improvement: 0.34976357563660565\n"
     ]
    }
   ],
   "source": [
    "factor_of_difference = abs_error_diff / abs_error_diff_pt\n",
    "print(f\"Factor of Improvement: {factor_of_difference}\")"
   ]
  }
 ],
 "metadata": {
  "kernelspec": {
   "display_name": "obp",
   "language": "python",
   "name": "python3"
  },
  "language_info": {
   "codemirror_mode": {
    "name": "ipython",
    "version": 3
   },
   "file_extension": ".py",
   "mimetype": "text/x-python",
   "name": "python",
   "nbconvert_exporter": "python",
   "pygments_lexer": "ipython3",
   "version": "3.10.15"
  }
 },
 "nbformat": 4,
 "nbformat_minor": 2
}
