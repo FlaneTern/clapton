{
 "cells": [
  {
   "cell_type": "code",
   "execution_count": 19,
   "metadata": {},
   "outputs": [],
   "source": [
    "import qiskit\n",
    "import numpy as np\n",
    "from qiskit_ibm_runtime.fake_provider import FakeMumbaiV2\n",
    "from qiskit_ibm_runtime import EstimatorV2 as Estimator\n",
    "from qiskit.quantum_info import SparsePauliOp\n",
    "from qiskit.transpiler.preset_passmanagers import generate_preset_pass_manager\n",
    "from qiskit_aer.noise import NoiseModel, depolarizing_error"
   ]
  },
  {
   "cell_type": "code",
   "execution_count": 20,
   "metadata": {},
   "outputs": [],
   "source": [
    "from qiskit import QuantumCircuit\n",
    "\n",
    "def circular_ansatz_mirrored(N, reps=1, fix_2q=False): \n",
    "    qc = qiskit.QuantumCircuit(N)\n",
    "    for _ in range(reps):\n",
    "        for i in range(N):\n",
    "            qc.ry(np.pi/2, i)\n",
    "        for i in range(N):\n",
    "            qc.rz(np.pi/2, i)\n",
    "        for i in range(N):\n",
    "            control = (i-1) % N\n",
    "            target = i\n",
    "            qc.cx(control, target)\n",
    "        for i in range(N):\n",
    "            qc.ry(np.pi/2, i)\n",
    "        for i in range(N):\n",
    "            qc.rz(np.pi/2, i)\n",
    "        for i in range(N-1, -1, -1):\n",
    "            control = (i-1) % N\n",
    "            target = i\n",
    "            qc.cx(control, target)\n",
    "    for i in range(N):\n",
    "        qc.ry(np.pi/2, i)\n",
    "    for i in range(N):\n",
    "        qc.rz(np.pi/2, i)\n",
    "    return qc\n",
    "\n",
    "\n",
    "def populated_circuit(n):\n",
    "    qc = QuantumCircuit(n)\n",
    "    qc.h(0)\n",
    "    for i in range(n - 1):\n",
    "        qc.cx(i, i + 1)\n",
    "        if i + 2 < n:\n",
    "            qc.cz(i + 1, i + 2)\n",
    "    return qc\n"
   ]
  },
  {
   "cell_type": "code",
   "execution_count": null,
   "metadata": {},
   "outputs": [],
   "source": [
    "num_qubits = 20\n",
    "\n",
    "paulis = [\"\".join(np.random.choice(['I', 'X', 'Y', 'Z'], size=num_qubits)) for _ in range(6)]\n",
    "\n",
    "coeffs = np.random.random(len(paulis))\n",
    "\n",
    "\n",
    "# qc = circular_ansatz_mirrored(num_qubits)\n",
    "qc = populated_circuit(num_qubits)\n"
   ]
  },
  {
   "cell_type": "code",
   "execution_count": 22,
   "metadata": {},
   "outputs": [],
   "source": [
    "backend = FakeMumbaiV2()\n",
    "ideal_estimator = Estimator(mode=backend)\n",
    "\n",
    "# Or define a real backend\n",
    "# from qiskit_ibm_runtime import QiskitRuntimeService\n",
    "# service = QiskitRuntimeService()\n",
    "# backend = service.least_busy(operational=True, simulator=False)\n",
    "\n",
    "# estimator.options.twirling.enable_gates = True\n",
    "# estimator.options.twirling.num_randomizations = 32\n",
    "# estimator.options.twirling.shots_per_randomization = 100"
   ]
  },
  {
   "cell_type": "code",
   "execution_count": 23,
   "metadata": {},
   "outputs": [],
   "source": [
    "np.random.seed(0)\n",
    "\n",
    "# ZX means Z on the first qubit and X on the second qubit\n",
    "coeffs = np.random.random(len(paulis))\n",
    "observable = SparsePauliOp.from_list(list(zip(paulis, coeffs)))"
   ]
  },
  {
   "cell_type": "code",
   "execution_count": 24,
   "metadata": {},
   "outputs": [],
   "source": [
    "pm = generate_preset_pass_manager(backend=backend, optimization_level=1)\n",
    "isa_circuit = pm.run(qc)\n",
    " \n",
    "isa_observable = observable.apply_layout(isa_circuit.layout)"
   ]
  },
  {
   "cell_type": "code",
   "execution_count": 25,
   "metadata": {},
   "outputs": [],
   "source": [
    "job = ideal_estimator.run([(isa_circuit, isa_observable)])"
   ]
  },
  {
   "cell_type": "code",
   "execution_count": 26,
   "metadata": {},
   "outputs": [
    {
     "name": "stdout",
     "output_type": "stream",
     "text": [
      ">>> Expectation value: 0.00187555534809638\n"
     ]
    }
   ],
   "source": [
    "# Get results for the first (and only) PUB\n",
    " \n",
    "ideal_res = job.result()[0]\n",
    "print(f\">>> Expectation value: {ideal_res.data.evs}\")"
   ]
  },
  {
   "cell_type": "code",
   "execution_count": 27,
   "metadata": {},
   "outputs": [],
   "source": [
    "noisy_estimator = Estimator(mode=backend)\n",
    "\n",
    "\n",
    "noise_model = NoiseModel()\n",
    "cx_depolarizing_prob = 0.1\n",
    "noise_model.add_all_qubit_quantum_error(\n",
    "    depolarizing_error(cx_depolarizing_prob, 2), [\"cx\"]\n",
    ")\n",
    "\n",
    "(noisy_estimator.options.simulator.noise_model) = noise_model"
   ]
  },
  {
   "cell_type": "code",
   "execution_count": 28,
   "metadata": {},
   "outputs": [
    {
     "name": "stdout",
     "output_type": "stream",
     "text": [
      ">>> Expectation value: -0.03007811628572027\n"
     ]
    }
   ],
   "source": [
    "# Get results for the first (and only) PUB\n",
    "\n",
    "job = noisy_estimator.run([(isa_circuit, isa_observable)])\n",
    "noisy_res = job.result()[0]\n",
    "\n",
    "\n",
    "print(f\">>> Expectation value: {noisy_res.data.evs}\")\n",
    " "
   ]
  },
  {
   "cell_type": "code",
   "execution_count": 29,
   "metadata": {},
   "outputs": [
    {
     "name": "stdout",
     "output_type": "stream",
     "text": [
      "Absolute error difference: 0.03195367163381665\n"
     ]
    }
   ],
   "source": [
    "abs_error_diff = abs(noisy_res.data.evs - ideal_res.data.evs)\n",
    "print(f\"Absolute error difference: {abs_error_diff}\")"
   ]
  },
  {
   "cell_type": "code",
   "execution_count": null,
   "metadata": {},
   "outputs": [],
   "source": []
  },
  {
   "cell_type": "code",
   "execution_count": null,
   "metadata": {},
   "outputs": [],
   "source": []
  },
  {
   "cell_type": "code",
   "execution_count": null,
   "metadata": {},
   "outputs": [],
   "source": []
  }
 ],
 "metadata": {
  "kernelspec": {
   "display_name": "obp",
   "language": "python",
   "name": "python3"
  },
  "language_info": {
   "codemirror_mode": {
    "name": "ipython",
    "version": 3
   },
   "file_extension": ".py",
   "mimetype": "text/x-python",
   "name": "python",
   "nbconvert_exporter": "python",
   "pygments_lexer": "ipython3",
   "version": "3.10.15"
  }
 },
 "nbformat": 4,
 "nbformat_minor": 2
}
