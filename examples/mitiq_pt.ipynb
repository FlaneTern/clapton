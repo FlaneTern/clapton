{
 "cells": [
  {
   "cell_type": "code",
   "execution_count": 23,
   "metadata": {},
   "outputs": [
    {
     "data": {
      "text/plain": [
       "['braket', 'pennylane', 'pyquil', 'qiskit']"
      ]
     },
     "execution_count": 23,
     "metadata": {},
     "output_type": "execute_result"
    }
   ],
   "source": [
    "import mitiq\n",
    "\n",
    "mitiq.SUPPORTED_PROGRAM_TYPES.keys()"
   ]
  },
  {
   "cell_type": "code",
   "execution_count": 24,
   "metadata": {},
   "outputs": [
    {
     "name": "stdout",
     "output_type": "stream",
     "text": [
      "0: ───H───@───────────\n",
      "          │\n",
      "1: ───────X───@───────\n",
      "              │\n",
      "2: ───────────@───@───\n",
      "                  │\n",
      "3: ───────────────X───\n"
     ]
    }
   ],
   "source": [
    "from cirq import LineQubit, Circuit, CZ, CNOT, H\n",
    "\n",
    "q0, q1, q2, q3  = LineQubit.range(4)\n",
    "circuit = Circuit(\n",
    "    H(q0),\n",
    "    CNOT.on(q0, q1),\n",
    "    CZ.on(q1, q2),\n",
    "    CNOT.on(q2, q3),\n",
    ")\n",
    "print(circuit)"
   ]
  },
  {
   "cell_type": "code",
   "execution_count": 25,
   "metadata": {},
   "outputs": [],
   "source": [
    "from numpy import pi\n",
    "from cirq import CircuitOperation, CXPowGate, CZPowGate, DensityMatrixSimulator, Rx\n",
    "from cirq.devices.noise_model import GateSubstitutionNoiseModel\n",
    "\n",
    "def get_noise_model(noise_level: float) -> GateSubstitutionNoiseModel:\n",
    "    \"\"\"Substitute each CZ and CNOT gate in the circuit\n",
    "    with the gate itself followed by an Rx rotation on the output qubits.\n",
    "    \"\"\"\n",
    "    rads = pi / 2 * noise_level\n",
    "    def noisy_c_gate(op):\n",
    "        if isinstance(op.gate, (CZPowGate, CXPowGate)):\n",
    "            return CircuitOperation(\n",
    "                Circuit(\n",
    "                    op.gate.on(*op.qubits), \n",
    "                    Rx(rads=rads).on_each(op.qubits),\n",
    "                ).freeze())\n",
    "        return op\n",
    "\n",
    "    return GateSubstitutionNoiseModel(noisy_c_gate)\n",
    "\n",
    "def execute(circuit: Circuit, noise_level: float):\n",
    "    \"\"\"Returns Tr[ρ |0⟩⟨0|] where ρ is the state prepared by the circuit.\"\"\"\n",
    "    return (\n",
    "        DensityMatrixSimulator(noise=get_noise_model(noise_level=noise_level))\n",
    "        .simulate(circuit)\n",
    "        .final_density_matrix[0, 0]\n",
    "        .real\n",
    "    )"
   ]
  },
  {
   "cell_type": "code",
   "execution_count": 32,
   "metadata": {},
   "outputs": [
    {
     "name": "stdout",
     "output_type": "stream",
     "text": [
      "Error without twirling: 0.372\n"
     ]
    }
   ],
   "source": [
    "# Set the intensity of the noise\n",
    "NOISE_LEVEL = 0.4\n",
    "\n",
    "# Compute the expectation value of the |0><0| observable\n",
    "# in both the noiseless and the noisy setup\n",
    "ideal_value = execute(circuit, noise_level=0.0)\n",
    "noisy_value = execute(circuit, noise_level=NOISE_LEVEL)\n",
    "\n",
    "print(f\"Error without twirling: {abs(ideal_value - noisy_value) :.3}\")"
   ]
  },
  {
   "cell_type": "code",
   "execution_count": 33,
   "metadata": {},
   "outputs": [
    {
     "name": "stdout",
     "output_type": "stream",
     "text": [
      "Error with twirling: 0.165\n"
     ]
    }
   ],
   "source": [
    "from functools import partial\n",
    "import numpy as np\n",
    "from mitiq import Executor\n",
    "from mitiq.pt import generate_pauli_twirl_variants\n",
    "\n",
    "# Generate twirled circuits\n",
    "NUM_TWIRLED_VARIANTS = 5\n",
    "twirled_circuits = generate_pauli_twirl_variants(circuit, num_circuits=NUM_TWIRLED_VARIANTS)\n",
    "# Average results executed over twirled circuits\n",
    "pt_vals = Executor(partial(execute, noise_level=NOISE_LEVEL)).evaluate(twirled_circuits)\n",
    "mitigated_result = np.average(pt_vals)\n",
    "\n",
    "print(f\"Error with twirling: {abs(ideal_value - mitigated_result) :.3}\")"
   ]
  }
 ],
 "metadata": {
  "kernelspec": {
   "display_name": "clapton",
   "language": "python",
   "name": "python3"
  },
  "language_info": {
   "codemirror_mode": {
    "name": "ipython",
    "version": 3
   },
   "file_extension": ".py",
   "mimetype": "text/x-python",
   "name": "python",
   "nbconvert_exporter": "python",
   "pygments_lexer": "ipython3",
   "version": "3.10.15"
  }
 },
 "nbformat": 4,
 "nbformat_minor": 2
}
