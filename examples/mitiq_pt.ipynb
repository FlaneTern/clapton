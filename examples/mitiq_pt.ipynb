{
 "cells": [
  {
   "cell_type": "code",
   "execution_count": null,
   "metadata": {},
   "outputs": [],
   "source": [
    "import mitiq\n",
    "import numpy\n",
    "from numpy import pi\n",
    "from cirq import CircuitOperation, CXPowGate, CZPowGate, DensityMatrixSimulator, Simulator, Rx\n",
    "from cirq.devices.noise_model import GateSubstitutionNoiseModel\n",
    "from cirq import LineQubit, Circuit, CZ, CNOT, H, Ry, Rz\n",
    "from cirq import Circuit, LineQubit, H, CNOT, CZ\n",
    "from functools import partial\n",
    "import numpy as np\n",
    "from mitiq import Executor\n",
    "from mitiq.pt import generate_pauli_twirl_variants\n",
    "from mitiq.shadows.shadows_utils import fidelity\n",
    "import cirq\n",
    "\n",
    "mitiq.SUPPORTED_PROGRAM_TYPES.keys()"
   ]
  },
  {
   "cell_type": "code",
   "execution_count": null,
   "metadata": {},
   "outputs": [],
   "source": [
    "def circular_ansatz_mirrored(N, reps=1, fix_2q=False):\n",
    "    qubits = LineQubit.range(N)\n",
    "    circuit = Circuit()\n",
    "    for _ in range(reps):\n",
    "        for q in qubits:\n",
    "            circuit.append(H(q))\n",
    "        for i in range(N):\n",
    "            control = qubits[(i-1) % N]\n",
    "            target = qubits[i]\n",
    "            circuit.append(CNOT(control, target))\n",
    "        for q in qubits:\n",
    "            circuit.append(H(q))\n",
    "        for i in range(N-1, -1, -1):\n",
    "            control = qubits[(i-1) % N]\n",
    "            target = qubits[i]\n",
    "            circuit.append(CNOT(control, target))\n",
    "    for q in qubits:\n",
    "        circuit.append(H(q))\n",
    "    return circuit\n",
    "\n",
    "\n",
    "def get_noise_model(noise_level: float) -> GateSubstitutionNoiseModel:\n",
    "    \"\"\"Substitute each CZ and CNOT gate in the circuit\n",
    "    with the gate itself followed by an Rx rotation on the output qubits.\n",
    "    \"\"\"\n",
    "    rads = pi / 2 * noise_level\n",
    "    def noisy_c_gate(op):\n",
    "        if isinstance(op.gate, (CZPowGate, CXPowGate)):\n",
    "            return CircuitOperation(\n",
    "                Circuit(\n",
    "                    op.gate.on(*op.qubits), \n",
    "                    Rx(rads=rads).on_each(op.qubits),\n",
    "                ).freeze())\n",
    "        return op\n",
    "\n",
    "    return GateSubstitutionNoiseModel(noisy_c_gate)\n",
    "\n",
    "def execute(circuit: Circuit, noise_level: float):\n",
    "    \"\"\"Returns Tr[ρ |0⟩⟨0|] where ρ is the state prepared by the circuit.\"\"\"\n",
    "    return (\n",
    "        DensityMatrixSimulator(noise=get_noise_model(noise_level=noise_level))\n",
    "        .simulate(circuit)\n",
    "        .final_density_matrix\n",
    "    )\n",
    "\n",
    "# Set the intensity of the noise\n",
    "NOISE_LEVEL = 1e-1"
   ]
  },
  {
   "cell_type": "code",
   "execution_count": null,
   "metadata": {},
   "outputs": [],
   "source": [
    "num_qubits = 12   \n",
    "circuit = circular_ansatz_mirrored(num_qubits,2)"
   ]
  },
  {
   "cell_type": "code",
   "execution_count": null,
   "metadata": {},
   "outputs": [],
   "source": [
    "# Compute the expectation value of the |0><0| observable\n",
    "# in both the noiseless and the noisy setup\n",
    "ideal_value = execute(circuit, noise_level=0.0)\n",
    "noisy_value = execute(circuit, noise_level=NOISE_LEVEL)"
   ]
  },
  {
   "cell_type": "code",
   "execution_count": null,
   "metadata": {},
   "outputs": [],
   "source": [
    "# Generate twirled circuits\n",
    "NUM_TWIRLED_VARIANTS = 100\n",
    "twirled_circuits = generate_pauli_twirl_variants(circuit, num_circuits=NUM_TWIRLED_VARIANTS)\n",
    "# Average results executed over twirled circuits\n",
    "# pt_vals = Executor(partial(execute, noise_level=NOISE_LEVEL)).evaluate(twirled_circuits)\n",
    "pt_vals = Executor(partial(execute, noise_level=NOISE_LEVEL)).run(twirled_circuits)\n",
    "mitigated_result = np.average(pt_vals, axis=0)"
   ]
  },
  {
   "cell_type": "code",
   "execution_count": null,
   "metadata": {},
   "outputs": [],
   "source": [
    "a = cirq.density_matrix(ideal_value,atol=1e-6)\n",
    "\n",
    "b = cirq.density_matrix(noisy_value,atol=1e-6)\n",
    "c = cirq.density_matrix(mitigated_result,atol=1e-6)\n",
    "\n",
    "fidelity_improvement = cirq.fidelity(a,c,atol=1e-6)-cirq.fidelity(a,b,atol=1e-6)\n",
    "\n",
    "print(f\"Fidelity Improvement % : {fidelity_improvement*100:.6f}\")"
   ]
  }
 ],
 "metadata": {
  "kernelspec": {
   "display_name": "clapton",
   "language": "python",
   "name": "python3"
  },
  "language_info": {
   "codemirror_mode": {
    "name": "ipython",
    "version": 3
   },
   "file_extension": ".py",
   "mimetype": "text/x-python",
   "name": "python",
   "nbconvert_exporter": "python",
   "pygments_lexer": "ipython3",
   "version": "3.10.15"
  }
 },
 "nbformat": 4,
 "nbformat_minor": 2
}
