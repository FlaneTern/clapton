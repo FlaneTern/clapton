{
 "cells": [
  {
   "cell_type": "code",
   "execution_count": 1,
   "metadata": {},
   "outputs": [
    {
     "data": {
      "text/plain": [
       "['braket', 'pennylane', 'pyquil', 'qiskit']"
      ]
     },
     "execution_count": 1,
     "metadata": {},
     "output_type": "execute_result"
    }
   ],
   "source": [
    "import mitiq\n",
    "import numpy\n",
    "from numpy import pi\n",
    "from cirq import CircuitOperation, CXPowGate, CZPowGate, DensityMatrixSimulator, Simulator, Rx\n",
    "from cirq.devices.noise_model import GateSubstitutionNoiseModel\n",
    "from cirq import LineQubit, Circuit, CZ, CNOT, H, Ry, Rz\n",
    "from cirq import Circuit, LineQubit, H, CNOT, CZ\n",
    "from functools import partial\n",
    "import numpy as np\n",
    "from mitiq import Executor\n",
    "from mitiq.pt import generate_pauli_twirl_variants\n",
    "from mitiq.shadows.shadows_utils import fidelity\n",
    "import cirq\n",
    "\n",
    "mitiq.SUPPORTED_PROGRAM_TYPES.keys()"
   ]
  },
  {
   "cell_type": "code",
   "execution_count": 2,
   "metadata": {},
   "outputs": [],
   "source": [
    "def circular_ansatz_mirrored(N, reps=1, fix_2q=False):\n",
    "    qubits = LineQubit.range(N)\n",
    "    circuit = Circuit()\n",
    "    for _ in range(reps):\n",
    "        for q in qubits:\n",
    "            circuit.append(H(q))\n",
    "        for i in range(N):\n",
    "            control = qubits[(i-1) % N]\n",
    "            target = qubits[i]\n",
    "            circuit.append(CNOT(control, target))\n",
    "        for q in qubits:\n",
    "            circuit.append(H(q))\n",
    "        for i in range(N-1, -1, -1):\n",
    "            control = qubits[(i-1) % N]\n",
    "            target = qubits[i]\n",
    "            circuit.append(CNOT(control, target))\n",
    "    for q in qubits:\n",
    "        circuit.append(H(q))\n",
    "    return circuit\n",
    "\n",
    "\n",
    "def get_noise_model(noise_level: float) -> GateSubstitutionNoiseModel:\n",
    "    \"\"\"Substitute each CZ and CNOT gate in the circuit\n",
    "    with the gate itself followed by an Rx rotation on the output qubits.\n",
    "    \"\"\"\n",
    "    rads = pi / 2 * noise_level\n",
    "    def noisy_c_gate(op):\n",
    "        if isinstance(op.gate, (CZPowGate, CXPowGate)):\n",
    "            return CircuitOperation(\n",
    "                Circuit(\n",
    "                    op.gate.on(*op.qubits), \n",
    "                    Rx(rads=rads).on_each(op.qubits),\n",
    "                ).freeze())\n",
    "        return op\n",
    "\n",
    "    return GateSubstitutionNoiseModel(noisy_c_gate)\n",
    "\n",
    "def execute(circuit: Circuit, noise_level: float):\n",
    "    \"\"\"Returns Tr[ρ |0⟩⟨0|] where ρ is the state prepared by the circuit.\"\"\"\n",
    "    return (\n",
    "        DensityMatrixSimulator(noise=get_noise_model(noise_level=noise_level))\n",
    "        .simulate(circuit)\n",
    "        .final_density_matrix\n",
    "    )\n",
    "\n",
    "# Set the intensity of the noise\n",
    "NOISE_LEVEL = 1e-1"
   ]
  },
  {
   "cell_type": "code",
   "execution_count": 3,
   "metadata": {},
   "outputs": [
    {
     "data": {
      "image/png": "[encoded data removed]",
      "text/plain": [
       "<Figure size 640x480 with 1 Axes>"
      ]
     },
     "metadata": {},
     "output_type": "display_data"
    }
   ],
   "source": [
    "def compute_fidelity_improvements():\n",
    "    results = {}\n",
    "    for num_qubits in range(3, 11):\n",
    "        circuit = circular_ansatz_mirrored(num_qubits, 2)\n",
    "        # Compute the expectation value of the |0><0| observable\n",
    "        # in both the noiseless and the noisy setup\n",
    "        ideal_value = execute(circuit, noise_level=0.0)\n",
    "        noisy_value = execute(circuit, noise_level=NOISE_LEVEL)\n",
    "        # Generate twirled circuits\n",
    "        NUM_TWIRLED_VARIANTS = 100\n",
    "        twirled_circuits = generate_pauli_twirl_variants(circuit, num_circuits=NUM_TWIRLED_VARIANTS)\n",
    "        # Average results executed over twirled circuits\n",
    "        pt_vals = Executor(partial(execute, noise_level=NOISE_LEVEL)).run(twirled_circuits)\n",
    "        mitigated_result = np.average(pt_vals, axis=0)\n",
    "        a = cirq.density_matrix(ideal_value, atol=1e-6)\n",
    "        b = cirq.density_matrix(noisy_value, atol=1e-6)\n",
    "        c = cirq.density_matrix(mitigated_result, atol=1e-6)\n",
    "\n",
    "        old_fidelity = cirq.fidelity(a, b, atol=1e-6)\n",
    "        new_fidelity = cirq.fidelity(a, c, atol=1e-6)\n",
    "        fidelity_improvement = new_fidelity - old_fidelity\n",
    "        results[num_qubits]=((old_fidelity, new_fidelity, fidelity_improvement))\n",
    "    return results\n",
    "\n",
    "results = compute_fidelity_improvements()\n",
    "\n",
    "# print(f\"Fidelity Improvement % : {fidelity_improvement*100:.6f}\")\n",
    "import matplotlib.pyplot as plt\n",
    "\n",
    "num_qubits = list(results.keys())\n",
    "old_fidelity = [results[n][0] for n in num_qubits]\n",
    "new_fidelity = [results[n][1] for n in num_qubits]\n",
    "fidelity_improvement = [results[n][2] for n in num_qubits]\n",
    "\n",
    "plt.scatter(num_qubits, old_fidelity, color='red', label='Old Fidelity')\n",
    "plt.scatter(num_qubits, new_fidelity, color='blue', label='New Fidelity')\n",
    "plt.scatter(num_qubits, fidelity_improvement, color='green', label='Fidelity Improvement')\n",
    "\n",
    "plt.xlabel('Number of Qubits')\n",
    "plt.ylabel('Fidelity')\n",
    "plt.legend()\n",
    "plt.show()"
   ]
  },
  {
   "cell_type": "code",
   "execution_count": 4,
   "metadata": {},
   "outputs": [
    {
     "data": {
      "text/plain": [
       "{3: (0.8094219905502911, 0.9315244146657733, 0.12210242411548222),\n",
       " 4: (0.811786111660556, 0.9084249959760768, 0.09663888431552081),\n",
       " 5: (0.7696208203913244, 0.8838094419598406, 0.11418862156851617),\n",
       " 6: (0.7507923294988359, 0.8840198098889154, 0.13322748039007948),\n",
       " 7: (0.7227153783591724, 0.868686073054107, 0.14597069469493462),\n",
       " 8: (0.7050212897061705, 0.8774679455400225, 0.172446655833852),\n",
       " 9: (0.6888838445656944, 0.8632437132494033, 0.1743598686837089),\n",
       " 10: (0.6791301307630171, 0.8912103970452598, 0.21208026628224275)}"
      ]
     },
     "execution_count": 4,
     "metadata": {},
     "output_type": "execute_result"
    }
   ],
   "source": [
    "results"
   ]
  },
  {
   "cell_type": "code",
   "execution_count": null,
   "metadata": {},
   "outputs": [],
   "source": []
  }
 ],
 "metadata": {
  "kernelspec": {
   "display_name": "clapton",
   "language": "python",
   "name": "python3"
  },
  "language_info": {
   "codemirror_mode": {
    "name": "ipython",
    "version": 3
   },
   "file_extension": ".py",
   "mimetype": "text/x-python",
   "name": "python",
   "nbconvert_exporter": "python",
   "pygments_lexer": "ipython3",
   "version": "3.10.15"
  }
 },
 "nbformat": 4,
 "nbformat_minor": 2
}
